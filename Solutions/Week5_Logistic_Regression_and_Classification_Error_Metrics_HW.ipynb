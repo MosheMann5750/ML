{
  "nbformat": 4,
  "nbformat_minor": 0,
  "metadata": {
    "kernelspec": {
      "display_name": "Python 3",
      "language": "python",
      "name": "python3"
    },
    "language_info": {
      "codemirror_mode": {
        "name": "ipython",
        "version": 3
      },
      "file_extension": ".py",
      "mimetype": "text/x-python",
      "name": "python",
      "nbconvert_exporter": "python",
      "pygments_lexer": "ipython3",
      "version": "3.5.3"
    },
    "colab": {
      "name": "Week5_Logistic_Regression_and_Classification_Error_Metrics_HW.ipynb",
      "provenance": [],
      "include_colab_link": true
    }
  },
  "cells": [
    {
      "cell_type": "markdown",
      "metadata": {
        "id": "view-in-github",
        "colab_type": "text"
      },
      "source": [
        "<a href=\"https://colab.research.google.com/github/mannmoshe/machine-learning/blob/main/Solutions/Week5_Logistic_Regression_and_Classification_Error_Metrics_HW.ipynb\" target=\"_parent\"><img src=\"https://colab.research.google.com/assets/colab-badge.svg\" alt=\"Open In Colab\"/></a>"
      ]
    },
    {
      "cell_type": "markdown",
      "metadata": {
        "run_control": {
          "marked": true
        },
        "id": "idbqsSdIGZ9u"
      },
      "source": [
        "# Week 5 - Logistic Regression and Classification Error Metrics"
      ]
    },
    {
      "cell_type": "markdown",
      "metadata": {
        "id": "DCJpXFwuLVRQ"
      },
      "source": [
        "***All italic notes and student's code written by Moshe Mann.***"
      ]
    },
    {
      "cell_type": "markdown",
      "metadata": {
        "run_control": {
          "marked": true
        },
        "id": "9D-E_A94GZ9y"
      },
      "source": [
        "## Introduction\n",
        "\n",
        "We will be using the [Human Activity Recognition with Smartphones](https://archive.ics.uci.edu/ml/datasets/Human+Activity+Recognition+Using+Smartphones) database, which was built from the recordings of study participants performing activities of daily living (ADL) while carrying a smartphone with an embedded inertial sensors. The objective is to classify activities into one of the six activities (walking, walking upstairs, walking downstairs, sitting, standing, and laying) performed.\n",
        "\n",
        "Alternatively the same data set can be found at https://www.kaggle.com/uciml/human-activity-recognition-with-smartphones/downloads/human-activity-recognition-with-smartphones.zip\n",
        "The train file can be renamed as Human_Activity_Recognition_Using_Smartphones_Data.csv \n",
        "\n",
        "For each record in the dataset it is provided: \n",
        "\n",
        "- Triaxial acceleration from the accelerometer (total acceleration) and the estimated body acceleration. \n",
        "- Triaxial Angular velocity from the gyroscope. \n",
        "- A 561-feature vector with time and frequency domain variables. \n",
        "- Its activity label. \n",
        "\n",
        "More information about the features is available on the website above."
      ]
    },
    {
      "cell_type": "markdown",
      "metadata": {
        "run_control": {
          "marked": true
        },
        "id": "tIwEa2zAGZ90"
      },
      "source": [
        "## Question 1\n",
        "\n",
        "Import the data and do the following:\n",
        "\n",
        "* Examine the data types--there are many columns, so it might be wise to use value counts\n",
        "* Determine if the floating point values need to be scaled\n",
        "* Determine the breakdown of each activity\n",
        "* Encode the activity label as an integer"
      ]
    },
    {
      "cell_type": "code",
      "metadata": {
        "collapsed": true,
        "run_control": {
          "marked": true
        },
        "id": "zOi75a5VGZ90"
      },
      "source": [
        "import pandas as pd\n",
        "import numpy as np\n",
        "#The filepath is dependent on the data_path set in the previous cell \n",
        "filepath = 'https://raw.githubusercontent.com/mannmoshe/machine-learning/main/Data/Human_Activity_Recognition_Using_Smartphones_Data.csv'\n",
        "data = pd.read_csv(filepath, sep=',')"
      ],
      "execution_count": 1,
      "outputs": []
    },
    {
      "cell_type": "code",
      "metadata": {
        "colab": {
          "base_uri": "https://localhost:8080/"
        },
        "id": "XfexkcTZLJZf",
        "outputId": "926aaf3d-3578-4a64-97e4-960569967c80"
      },
      "source": [
        "data.shape"
      ],
      "execution_count": 2,
      "outputs": [
        {
          "output_type": "execute_result",
          "data": {
            "text/plain": [
              "(10299, 562)"
            ]
          },
          "metadata": {},
          "execution_count": 2
        }
      ]
    },
    {
      "cell_type": "markdown",
      "metadata": {
        "run_control": {
          "marked": true
        },
        "id": "rrQ8UbmMGZ91"
      },
      "source": [
        "The data columns are all floats except for the activity label."
      ]
    },
    {
      "cell_type": "code",
      "metadata": {
        "run_control": {
          "marked": true
        },
        "colab": {
          "base_uri": "https://localhost:8080/"
        },
        "id": "0IMV_bF8GZ91",
        "outputId": "546b76ec-7ac9-420a-d806-70ecb3a2d518"
      },
      "source": [
        "data.dtypes.value_counts()"
      ],
      "execution_count": 3,
      "outputs": [
        {
          "output_type": "execute_result",
          "data": {
            "text/plain": [
              "float64    561\n",
              "object       1\n",
              "dtype: int64"
            ]
          },
          "metadata": {},
          "execution_count": 3
        }
      ]
    },
    {
      "cell_type": "code",
      "metadata": {
        "run_control": {
          "marked": true
        },
        "colab": {
          "base_uri": "https://localhost:8080/"
        },
        "id": "Kd8M39WaGZ92",
        "outputId": "5d25c6f0-80c0-4160-ad90-54b656e39cbf"
      },
      "source": [
        "data.dtypes.tail()"
      ],
      "execution_count": 4,
      "outputs": [
        {
          "output_type": "execute_result",
          "data": {
            "text/plain": [
              "angle(tBodyGyroJerkMean,gravityMean)    float64\n",
              "angle(X,gravityMean)                    float64\n",
              "angle(Y,gravityMean)                    float64\n",
              "angle(Z,gravityMean)                    float64\n",
              "Activity                                 object\n",
              "dtype: object"
            ]
          },
          "metadata": {},
          "execution_count": 4
        }
      ]
    },
    {
      "cell_type": "markdown",
      "metadata": {
        "run_control": {
          "marked": true
        },
        "id": "Qf0dyx1ZGZ92"
      },
      "source": [
        "The data are all scaled from -1 (minimum) to 1.0 (maximum)."
      ]
    },
    {
      "cell_type": "code",
      "metadata": {
        "run_control": {
          "marked": true
        },
        "colab": {
          "base_uri": "https://localhost:8080/"
        },
        "id": "9uDWdpB4GZ92",
        "outputId": "70b83565-4a4c-407b-fc11-ee5448576ae3"
      },
      "source": [
        "data.iloc[:, :-1].min().value_counts()"
      ],
      "execution_count": 5,
      "outputs": [
        {
          "output_type": "execute_result",
          "data": {
            "text/plain": [
              "-1.0    561\n",
              "dtype: int64"
            ]
          },
          "metadata": {},
          "execution_count": 5
        }
      ]
    },
    {
      "cell_type": "code",
      "metadata": {
        "run_control": {
          "marked": true
        },
        "colab": {
          "base_uri": "https://localhost:8080/"
        },
        "id": "Js9nMb0xGZ93",
        "outputId": "b450aaa3-100d-46e7-8737-4c92aa6af33e"
      },
      "source": [
        "data.iloc[:, :-1].max().value_counts()"
      ],
      "execution_count": 6,
      "outputs": [
        {
          "output_type": "execute_result",
          "data": {
            "text/plain": [
              "1.0    561\n",
              "dtype: int64"
            ]
          },
          "metadata": {},
          "execution_count": 6
        }
      ]
    },
    {
      "cell_type": "markdown",
      "metadata": {
        "id": "SQ5M7TRVGZ93"
      },
      "source": [
        "Examine the breakdown of activities--they are relatively balanced."
      ]
    },
    {
      "cell_type": "code",
      "metadata": {
        "colab": {
          "base_uri": "https://localhost:8080/"
        },
        "id": "-NnuZ_sEGZ93",
        "outputId": "53fb6fc4-e299-48af-a190-461e6c2b6b1b"
      },
      "source": [
        "data['Activity'].value_counts()"
      ],
      "execution_count": 7,
      "outputs": [
        {
          "output_type": "execute_result",
          "data": {
            "text/plain": [
              "LAYING                1944\n",
              "STANDING              1906\n",
              "SITTING               1777\n",
              "WALKING               1722\n",
              "WALKING_UPSTAIRS      1544\n",
              "WALKING_DOWNSTAIRS    1406\n",
              "Name: Activity, dtype: int64"
            ]
          },
          "metadata": {},
          "execution_count": 7
        }
      ]
    },
    {
      "cell_type": "markdown",
      "metadata": {
        "id": "08hHQ2k_GZ94"
      },
      "source": [
        "Scikit learn classifiers won't accept a sparse matrix for the prediction column. Thus, either `LabelEncoder` needs to be used to convert the activity labels to integers, or if `DictVectorizer` is used, the resulting matrix must be converted to a non-sparse array.  \n",
        "Use `LabelEncoder` to fit_transform the \"Activity\" column, and look at 5 random values."
      ]
    },
    {
      "cell_type": "code",
      "metadata": {
        "colab": {
          "base_uri": "https://localhost:8080/"
        },
        "id": "kf9fmQmlGZ94",
        "outputId": "56a41f20-5bc7-498e-fc3b-fb541f6f61ce"
      },
      "source": [
        "from sklearn.preprocessing import LabelEncoder\n",
        "\n",
        "le = LabelEncoder()\n",
        "data['Activity'] = le.fit_transform(data.Activity)\n",
        "data['Activity'].sample(5)"
      ],
      "execution_count": 8,
      "outputs": [
        {
          "output_type": "execute_result",
          "data": {
            "text/plain": [
              "2173    4\n",
              "8782    0\n",
              "4612    0\n",
              "129     4\n",
              "4231    1\n",
              "Name: Activity, dtype: int64"
            ]
          },
          "metadata": {},
          "execution_count": 8
        }
      ]
    },
    {
      "cell_type": "markdown",
      "metadata": {
        "id": "dh_5ayI2GZ94"
      },
      "source": [
        "## Question 2\n",
        "\n",
        "* Calculate the correlations between the dependent variables.\n",
        "* Create a histogram of the correlation values\n",
        "* Identify those that are most correlated (either positively or negatively)."
      ]
    },
    {
      "cell_type": "code",
      "metadata": {
        "collapsed": true,
        "id": "ibFCAxWhGZ95"
      },
      "source": [
        "# Calculate the correlation values\n",
        "feature_cols = data.columns[:-1]\n",
        "corr_values = data[feature_cols].corr()\n",
        "\n",
        "# Simplify by emptying all the data below the diagonal\n",
        "tril_index = np.tril_indices_from(corr_values)\n",
        "\n",
        "# Make the unused values NaNs\n",
        "for coord in zip(*tril_index):\n",
        "    corr_values.iloc[coord[0], coord[1]] = np.NaN\n",
        "    \n",
        "# Stack the data and convert to a data frame\n",
        "corr_values = (corr_values.stack().to_frame().reset_index().rename(columns={'level_0':'feature1','level_1':'feature2',0:'correlation'}))\n",
        "\n",
        "# Get the absolute values for sorting\n",
        "corr_values['abs_correlation'] = corr_values.correlation.abs()"
      ],
      "execution_count": 9,
      "outputs": []
    },
    {
      "cell_type": "markdown",
      "metadata": {
        "id": "Ogd6qZMyGZ95"
      },
      "source": [
        "A histogram of the absolute value correlations."
      ]
    },
    {
      "cell_type": "code",
      "metadata": {
        "collapsed": true,
        "id": "79NkyxGOGZ95"
      },
      "source": [
        "import matplotlib.pyplot as plt\n",
        "import seaborn as sns\n",
        "%matplotlib inline"
      ],
      "execution_count": 10,
      "outputs": []
    },
    {
      "cell_type": "code",
      "metadata": {
        "id": "2qWJPR0XGZ96",
        "colab": {
          "base_uri": "https://localhost:8080/",
          "height": 308
        },
        "outputId": "b0ed05cf-32fe-433e-c4b2-8283c67b0b55"
      },
      "source": [
        "sns.set_context('talk')\n",
        "sns.set_style('white')\n",
        "sns.set_palette('dark')\n",
        "\n",
        "ax = corr_values.abs_correlation.hist(bins=50)\n",
        "\n",
        "ax.set(xlabel='Absolute Correlation', ylabel='Frequency');"
      ],
      "execution_count": 11,
      "outputs": [
        {
          "output_type": "display_data",
          "data": {
            "image/png": "[encoded data removed]",
            "text/plain": [
              "<Figure size 432x288 with 1 Axes>"
            ]
          },
          "metadata": {}
        }
      ]
    },
    {
      "cell_type": "code",
      "metadata": {
        "id": "cAfsDMpsGZ96",
        "colab": {
          "base_uri": "https://localhost:8080/",
          "height": 419
        },
        "outputId": "a202aed4-c326-4181-bec8-7ce721657f63"
      },
      "source": [
        "# The most highly correlated values\n",
        "corr_values.sort_values('correlation', ascending=False).query('abs_correlation>0.8')"
      ],
      "execution_count": 12,
      "outputs": [
        {
          "output_type": "execute_result",
          "data": {
            "text/html": [
              "<div>\n",
              "<style scoped>\n",
              "    .dataframe tbody tr th:only-of-type {\n",
              "        vertical-align: middle;\n",
              "    }\n",
              "\n",
              "    .dataframe tbody tr th {\n",
              "        vertical-align: top;\n",
              "    }\n",
              "\n",
              "    .dataframe thead th {\n",
              "        text-align: right;\n",
              "    }\n",
              "</style>\n",
              "<table border=\"1\" class=\"dataframe\">\n",
              "  <thead>\n",
              "    <tr style=\"text-align: right;\">\n",
              "      <th></th>\n",
              "      <th>feature1</th>\n",
              "      <th>feature2</th>\n",
              "      <th>correlation</th>\n",
              "      <th>abs_correlation</th>\n",
              "    </tr>\n",
              "  </thead>\n",
              "  <tbody>\n",
              "    <tr>\n",
              "      <th>156894</th>\n",
              "      <td>fBodyBodyGyroJerkMag-mean()</td>\n",
              "      <td>fBodyBodyGyroJerkMag-sma()</td>\n",
              "      <td>1.000000</td>\n",
              "      <td>1.000000</td>\n",
              "    </tr>\n",
              "    <tr>\n",
              "      <th>93902</th>\n",
              "      <td>tBodyAccMag-sma()</td>\n",
              "      <td>tGravityAccMag-sma()</td>\n",
              "      <td>1.000000</td>\n",
              "      <td>1.000000</td>\n",
              "    </tr>\n",
              "    <tr>\n",
              "      <th>101139</th>\n",
              "      <td>tBodyAccJerkMag-mean()</td>\n",
              "      <td>tBodyAccJerkMag-sma()</td>\n",
              "      <td>1.000000</td>\n",
              "      <td>1.000000</td>\n",
              "    </tr>\n",
              "    <tr>\n",
              "      <th>96706</th>\n",
              "      <td>tGravityAccMag-mean()</td>\n",
              "      <td>tGravityAccMag-sma()</td>\n",
              "      <td>1.000000</td>\n",
              "      <td>1.000000</td>\n",
              "    </tr>\n",
              "    <tr>\n",
              "      <th>94257</th>\n",
              "      <td>tBodyAccMag-energy()</td>\n",
              "      <td>tGravityAccMag-energy()</td>\n",
              "      <td>1.000000</td>\n",
              "      <td>1.000000</td>\n",
              "    </tr>\n",
              "    <tr>\n",
              "      <th>...</th>\n",
              "      <td>...</td>\n",
              "      <td>...</td>\n",
              "      <td>...</td>\n",
              "      <td>...</td>\n",
              "    </tr>\n",
              "    <tr>\n",
              "      <th>22657</th>\n",
              "      <td>tGravityAcc-mean()-Y</td>\n",
              "      <td>angle(Y,gravityMean)</td>\n",
              "      <td>-0.993425</td>\n",
              "      <td>0.993425</td>\n",
              "    </tr>\n",
              "    <tr>\n",
              "      <th>39225</th>\n",
              "      <td>tGravityAcc-arCoeff()-Z,3</td>\n",
              "      <td>tGravityAcc-arCoeff()-Z,4</td>\n",
              "      <td>-0.994267</td>\n",
              "      <td>0.994267</td>\n",
              "    </tr>\n",
              "    <tr>\n",
              "      <th>38739</th>\n",
              "      <td>tGravityAcc-arCoeff()-Z,2</td>\n",
              "      <td>tGravityAcc-arCoeff()-Z,3</td>\n",
              "      <td>-0.994628</td>\n",
              "      <td>0.994628</td>\n",
              "    </tr>\n",
              "    <tr>\n",
              "      <th>23176</th>\n",
              "      <td>tGravityAcc-mean()-Z</td>\n",
              "      <td>angle(Z,gravityMean)</td>\n",
              "      <td>-0.994764</td>\n",
              "      <td>0.994764</td>\n",
              "    </tr>\n",
              "    <tr>\n",
              "      <th>38252</th>\n",
              "      <td>tGravityAcc-arCoeff()-Z,1</td>\n",
              "      <td>tGravityAcc-arCoeff()-Z,2</td>\n",
              "      <td>-0.995195</td>\n",
              "      <td>0.995195</td>\n",
              "    </tr>\n",
              "  </tbody>\n",
              "</table>\n",
              "<p>22815 rows × 4 columns</p>\n",
              "</div>"
            ],
            "text/plain": [
              "                           feature1  ... abs_correlation\n",
              "156894  fBodyBodyGyroJerkMag-mean()  ...        1.000000\n",
              "93902             tBodyAccMag-sma()  ...        1.000000\n",
              "101139       tBodyAccJerkMag-mean()  ...        1.000000\n",
              "96706         tGravityAccMag-mean()  ...        1.000000\n",
              "94257          tBodyAccMag-energy()  ...        1.000000\n",
              "...                             ...  ...             ...\n",
              "22657          tGravityAcc-mean()-Y  ...        0.993425\n",
              "39225     tGravityAcc-arCoeff()-Z,3  ...        0.994267\n",
              "38739     tGravityAcc-arCoeff()-Z,2  ...        0.994628\n",
              "23176          tGravityAcc-mean()-Z  ...        0.994764\n",
              "38252     tGravityAcc-arCoeff()-Z,1  ...        0.995195\n",
              "\n",
              "[22815 rows x 4 columns]"
            ]
          },
          "metadata": {},
          "execution_count": 12
        }
      ]
    },
    {
      "cell_type": "markdown",
      "metadata": {
        "id": "QGkUJsu5GZ96"
      },
      "source": [
        "## Question 3\n",
        "\n",
        "* Split the data into train and test data sets. This can be done using any method, but consider using Scikit-learn's `StratifiedShuffleSplit` to maintain the same ratio of predictor classes.\n",
        "* Regardless of methods used to split the data, compare the ratio of classes in both the train and test splits.\n"
      ]
    },
    {
      "cell_type": "code",
      "metadata": {
        "collapsed": true,
        "id": "q_t6xZI9GZ96"
      },
      "source": [
        "from sklearn.model_selection import StratifiedShuffleSplit\n",
        "\n",
        "# Get the split indexes\n",
        "strat_shuf_split = StratifiedShuffleSplit(n_splits=1,test_size=0.3, random_state=42)\n",
        "\n",
        "train_idx, test_idx = next(strat_shuf_split.split(data[feature_cols], data.Activity))\n",
        "\n",
        "# Create the dataframes\n",
        "X_train = data.loc[train_idx, feature_cols]\n",
        "y_train = data.loc[train_idx, 'Activity']\n",
        "\n",
        "X_test  = data.loc[test_idx, feature_cols]\n",
        "y_test  = data.loc[test_idx, 'Activity']"
      ],
      "execution_count": 13,
      "outputs": []
    },
    {
      "cell_type": "code",
      "metadata": {
        "colab": {
          "base_uri": "https://localhost:8080/"
        },
        "id": "FXh2e-dFGZ97",
        "outputId": "760a8f21-8914-4ee4-b357-b4dbac3f9a52"
      },
      "source": [
        "y_train.value_counts(normalize=True)"
      ],
      "execution_count": 14,
      "outputs": [
        {
          "output_type": "execute_result",
          "data": {
            "text/plain": [
              "0    0.188792\n",
              "2    0.185046\n",
              "1    0.172562\n",
              "3    0.167152\n",
              "5    0.149951\n",
              "4    0.136496\n",
              "Name: Activity, dtype: float64"
            ]
          },
          "metadata": {},
          "execution_count": 14
        }
      ]
    },
    {
      "cell_type": "code",
      "metadata": {
        "colab": {
          "base_uri": "https://localhost:8080/"
        },
        "id": "NNVVVZ54GZ97",
        "outputId": "660c09da-802d-4b72-d18e-eac76124fb94"
      },
      "source": [
        "y_test.value_counts(normalize=True)"
      ],
      "execution_count": 15,
      "outputs": [
        {
          "output_type": "execute_result",
          "data": {
            "text/plain": [
              "0    0.188673\n",
              "2    0.185113\n",
              "1    0.172492\n",
              "3    0.167314\n",
              "5    0.149838\n",
              "4    0.136570\n",
              "Name: Activity, dtype: float64"
            ]
          },
          "metadata": {},
          "execution_count": 15
        }
      ]
    },
    {
      "cell_type": "markdown",
      "metadata": {
        "id": "n3qap-2wGZ97"
      },
      "source": [
        "## Question 4\n",
        "\n",
        "* Fit a logistic regression model without any regularization using all of the features. Be sure to read the documentation about fitting a multi-class model so you understand the coefficient output. Store the model.\n",
        "* Using cross validation to determine the hyperparameters, fit models using L1, and L2 regularization. Store each of these models as well. Note the limitations on multi-class models, solvers, and regularizations. The regularized models, in particular the L1 model, will probably take a while to fit."
      ]
    },
    {
      "cell_type": "code",
      "metadata": {
        "collapsed": true,
        "colab": {
          "base_uri": "https://localhost:8080/"
        },
        "id": "cjROTvWoGZ97",
        "outputId": "d13e63f2-241e-4526-9ef2-03ef5e88cc19"
      },
      "source": [
        "from sklearn.linear_model import LogisticRegression\n",
        "\n",
        "# Standard logistic regression\n",
        "lr = LogisticRegression().fit(X_train, y_train)"
      ],
      "execution_count": 16,
      "outputs": [
        {
          "output_type": "stream",
          "name": "stderr",
          "text": [
            "/usr/local/lib/python3.7/dist-packages/sklearn/linear_model/_logistic.py:940: ConvergenceWarning: lbfgs failed to converge (status=1):\n",
            "STOP: TOTAL NO. of ITERATIONS REACHED LIMIT.\n",
            "\n",
            "Increase the number of iterations (max_iter) or scale the data as shown in:\n",
            "    https://scikit-learn.org/stable/modules/preprocessing.html\n",
            "Please also refer to the documentation for alternative solver options:\n",
            "    https://scikit-learn.org/stable/modules/linear_model.html#logistic-regression\n",
            "  extra_warning_msg=_LOGISTIC_SOLVER_CONVERGENCE_MSG)\n"
          ]
        }
      ]
    },
    {
      "cell_type": "code",
      "metadata": {
        "collapsed": true,
        "id": "NUPDGUH3GZ97"
      },
      "source": [
        "from sklearn.linear_model import LogisticRegressionCV\n",
        "\n",
        "# L1 regularized logistic regression\n",
        "lr_l1 = LogisticRegressionCV(Cs=10, cv=4, penalty='l1', solver='liblinear').fit(X_train, y_train)"
      ],
      "execution_count": 17,
      "outputs": []
    },
    {
      "cell_type": "code",
      "metadata": {
        "collapsed": true,
        "id": "1A01kpZNGZ98"
      },
      "source": [
        "#Try with different solvers like ‘newton-cg’, ‘lbfgs’, ‘sag’, ‘saga’ and give your observations"
      ],
      "execution_count": 18,
      "outputs": []
    },
    {
      "cell_type": "code",
      "metadata": {
        "collapsed": true,
        "colab": {
          "base_uri": "https://localhost:8080/"
        },
        "id": "KaEqohIZGZ98",
        "outputId": "957503f0-5cb8-4e19-c1fc-f04df786ba7d"
      },
      "source": [
        "# L2 regularized logistic regression\n",
        "lr_l2 = LogisticRegressionCV(Cs=10, cv=4, penalty='l2').fit(X_train, y_train)"
      ],
      "execution_count": 19,
      "outputs": [
        {
          "output_type": "stream",
          "name": "stderr",
          "text": [
            "/usr/local/lib/python3.7/dist-packages/sklearn/linear_model/_logistic.py:940: ConvergenceWarning: lbfgs failed to converge (status=1):\n",
            "STOP: TOTAL NO. of ITERATIONS REACHED LIMIT.\n",
            "\n",
            "Increase the number of iterations (max_iter) or scale the data as shown in:\n",
            "    https://scikit-learn.org/stable/modules/preprocessing.html\n",
            "Please also refer to the documentation for alternative solver options:\n",
            "    https://scikit-learn.org/stable/modules/linear_model.html#logistic-regression\n",
            "  extra_warning_msg=_LOGISTIC_SOLVER_CONVERGENCE_MSG)\n",
            "/usr/local/lib/python3.7/dist-packages/sklearn/linear_model/_logistic.py:940: ConvergenceWarning: lbfgs failed to converge (status=1):\n",
            "STOP: TOTAL NO. of ITERATIONS REACHED LIMIT.\n",
            "\n",
            "Increase the number of iterations (max_iter) or scale the data as shown in:\n",
            "    https://scikit-learn.org/stable/modules/preprocessing.html\n",
            "Please also refer to the documentation for alternative solver options:\n",
            "    https://scikit-learn.org/stable/modules/linear_model.html#logistic-regression\n",
            "  extra_warning_msg=_LOGISTIC_SOLVER_CONVERGENCE_MSG)\n",
            "/usr/local/lib/python3.7/dist-packages/sklearn/linear_model/_logistic.py:940: ConvergenceWarning: lbfgs failed to converge (status=1):\n",
            "STOP: TOTAL NO. of ITERATIONS REACHED LIMIT.\n",
            "\n",
            "Increase the number of iterations (max_iter) or scale the data as shown in:\n",
            "    https://scikit-learn.org/stable/modules/preprocessing.html\n",
            "Please also refer to the documentation for alternative solver options:\n",
            "    https://scikit-learn.org/stable/modules/linear_model.html#logistic-regression\n",
            "  extra_warning_msg=_LOGISTIC_SOLVER_CONVERGENCE_MSG)\n",
            "/usr/local/lib/python3.7/dist-packages/sklearn/linear_model/_logistic.py:940: ConvergenceWarning: lbfgs failed to converge (status=1):\n",
            "STOP: TOTAL NO. of ITERATIONS REACHED LIMIT.\n",
            "\n",
            "Increase the number of iterations (max_iter) or scale the data as shown in:\n",
            "    https://scikit-learn.org/stable/modules/preprocessing.html\n",
            "Please also refer to the documentation for alternative solver options:\n",
            "    https://scikit-learn.org/stable/modules/linear_model.html#logistic-regression\n",
            "  extra_warning_msg=_LOGISTIC_SOLVER_CONVERGENCE_MSG)\n",
            "/usr/local/lib/python3.7/dist-packages/sklearn/linear_model/_logistic.py:940: ConvergenceWarning: lbfgs failed to converge (status=1):\n",
            "STOP: TOTAL NO. of ITERATIONS REACHED LIMIT.\n",
            "\n",
            "Increase the number of iterations (max_iter) or scale the data as shown in:\n",
            "    https://scikit-learn.org/stable/modules/preprocessing.html\n",
            "Please also refer to the documentation for alternative solver options:\n",
            "    https://scikit-learn.org/stable/modules/linear_model.html#logistic-regression\n",
            "  extra_warning_msg=_LOGISTIC_SOLVER_CONVERGENCE_MSG)\n"
          ]
        }
      ]
    },
    {
      "cell_type": "markdown",
      "metadata": {
        "id": "KqZFSFHXGZ98"
      },
      "source": [
        "## Question 5\n",
        "\n",
        "Compare the magnitudes of the coefficients for each of the models. If one-vs-rest fitting was used, each set of coefficients can be plotted separately. "
      ]
    },
    {
      "cell_type": "code",
      "metadata": {
        "id": "CXYbtbwuGZ98",
        "colab": {
          "base_uri": "https://localhost:8080/",
          "height": 410
        },
        "outputId": "cfbfef75-cccf-41a1-9575-aab62d8b61da"
      },
      "source": [
        "# Combine all the coefficients into a dataframe\n",
        "coefficients = list()\n",
        "\n",
        "coeff_labels = ['lr', 'l1', 'l2']\n",
        "coeff_models = [lr, lr_l1, lr_l2]\n",
        "\n",
        "for lab,mod in zip(coeff_labels, coeff_models):\n",
        "    coeffs = mod.coef_\n",
        "    coeff_label = pd.MultiIndex(levels=[[lab], [0,1,2,3,4,5]], codes=[[0,0,0,0,0,0], [0,1,2,3,4,5]])\n",
        "    coefficients.append(pd.DataFrame(coeffs.T, columns=coeff_label))\n",
        "\n",
        "coefficients = pd.concat(coefficients, axis=1)\n",
        "\n",
        "coefficients.sample(10)"
      ],
      "execution_count": 20,
      "outputs": [
        {
          "output_type": "execute_result",
          "data": {
            "text/html": [
              "<div>\n",
              "<style scoped>\n",
              "    .dataframe tbody tr th:only-of-type {\n",
              "        vertical-align: middle;\n",
              "    }\n",
              "\n",
              "    .dataframe tbody tr th {\n",
              "        vertical-align: top;\n",
              "    }\n",
              "\n",
              "    .dataframe thead tr th {\n",
              "        text-align: left;\n",
              "    }\n",
              "</style>\n",
              "<table border=\"1\" class=\"dataframe\">\n",
              "  <thead>\n",
              "    <tr>\n",
              "      <th></th>\n",
              "      <th colspan=\"6\" halign=\"left\">lr</th>\n",
              "      <th colspan=\"6\" halign=\"left\">l1</th>\n",
              "      <th colspan=\"6\" halign=\"left\">l2</th>\n",
              "    </tr>\n",
              "    <tr>\n",
              "      <th></th>\n",
              "      <th>0</th>\n",
              "      <th>1</th>\n",
              "      <th>2</th>\n",
              "      <th>3</th>\n",
              "      <th>4</th>\n",
              "      <th>5</th>\n",
              "      <th>0</th>\n",
              "      <th>1</th>\n",
              "      <th>2</th>\n",
              "      <th>3</th>\n",
              "      <th>4</th>\n",
              "      <th>5</th>\n",
              "      <th>0</th>\n",
              "      <th>1</th>\n",
              "      <th>2</th>\n",
              "      <th>3</th>\n",
              "      <th>4</th>\n",
              "      <th>5</th>\n",
              "    </tr>\n",
              "  </thead>\n",
              "  <tbody>\n",
              "    <tr>\n",
              "      <th>171</th>\n",
              "      <td>-0.104683</td>\n",
              "      <td>-0.092360</td>\n",
              "      <td>0.072524</td>\n",
              "      <td>-0.072684</td>\n",
              "      <td>0.579847</td>\n",
              "      <td>-0.382643</td>\n",
              "      <td>-0.086914</td>\n",
              "      <td>0.000000</td>\n",
              "      <td>0.577413</td>\n",
              "      <td>0.000000</td>\n",
              "      <td>1.114945</td>\n",
              "      <td>-1.821014</td>\n",
              "      <td>-0.304806</td>\n",
              "      <td>-1.921461</td>\n",
              "      <td>2.135813</td>\n",
              "      <td>-0.174162</td>\n",
              "      <td>1.475046</td>\n",
              "      <td>-1.210431</td>\n",
              "    </tr>\n",
              "    <tr>\n",
              "      <th>323</th>\n",
              "      <td>0.016390</td>\n",
              "      <td>0.028280</td>\n",
              "      <td>0.093896</td>\n",
              "      <td>-0.069910</td>\n",
              "      <td>-0.022194</td>\n",
              "      <td>-0.046462</td>\n",
              "      <td>0.043120</td>\n",
              "      <td>0.443523</td>\n",
              "      <td>0.243498</td>\n",
              "      <td>0.000000</td>\n",
              "      <td>0.037376</td>\n",
              "      <td>0.145653</td>\n",
              "      <td>-0.159861</td>\n",
              "      <td>0.220807</td>\n",
              "      <td>0.135922</td>\n",
              "      <td>-0.039276</td>\n",
              "      <td>-0.108946</td>\n",
              "      <td>-0.048647</td>\n",
              "    </tr>\n",
              "    <tr>\n",
              "      <th>292</th>\n",
              "      <td>0.142937</td>\n",
              "      <td>0.013458</td>\n",
              "      <td>-0.089473</td>\n",
              "      <td>0.107706</td>\n",
              "      <td>0.231709</td>\n",
              "      <td>-0.406336</td>\n",
              "      <td>0.462586</td>\n",
              "      <td>0.010254</td>\n",
              "      <td>0.162785</td>\n",
              "      <td>0.000000</td>\n",
              "      <td>0.253535</td>\n",
              "      <td>0.000000</td>\n",
              "      <td>0.418799</td>\n",
              "      <td>-0.856036</td>\n",
              "      <td>0.424666</td>\n",
              "      <td>0.397814</td>\n",
              "      <td>0.626714</td>\n",
              "      <td>-1.011957</td>\n",
              "    </tr>\n",
              "    <tr>\n",
              "      <th>417</th>\n",
              "      <td>-0.045040</td>\n",
              "      <td>0.024471</td>\n",
              "      <td>0.024875</td>\n",
              "      <td>-0.022943</td>\n",
              "      <td>0.058722</td>\n",
              "      <td>-0.040085</td>\n",
              "      <td>0.108511</td>\n",
              "      <td>0.000000</td>\n",
              "      <td>0.000000</td>\n",
              "      <td>0.000000</td>\n",
              "      <td>0.051349</td>\n",
              "      <td>-0.067543</td>\n",
              "      <td>-0.188401</td>\n",
              "      <td>0.000751</td>\n",
              "      <td>0.119194</td>\n",
              "      <td>-0.180198</td>\n",
              "      <td>0.164293</td>\n",
              "      <td>0.084361</td>\n",
              "    </tr>\n",
              "    <tr>\n",
              "      <th>460</th>\n",
              "      <td>-0.016415</td>\n",
              "      <td>0.069363</td>\n",
              "      <td>0.013384</td>\n",
              "      <td>-0.075856</td>\n",
              "      <td>0.149394</td>\n",
              "      <td>-0.139870</td>\n",
              "      <td>0.245205</td>\n",
              "      <td>1.064211</td>\n",
              "      <td>0.000000</td>\n",
              "      <td>0.000000</td>\n",
              "      <td>0.245187</td>\n",
              "      <td>0.000000</td>\n",
              "      <td>-0.169837</td>\n",
              "      <td>0.613532</td>\n",
              "      <td>-0.362672</td>\n",
              "      <td>-0.024509</td>\n",
              "      <td>0.286343</td>\n",
              "      <td>-0.342857</td>\n",
              "    </tr>\n",
              "    <tr>\n",
              "      <th>291</th>\n",
              "      <td>0.150777</td>\n",
              "      <td>0.339800</td>\n",
              "      <td>-0.458499</td>\n",
              "      <td>-0.075539</td>\n",
              "      <td>0.318391</td>\n",
              "      <td>-0.274930</td>\n",
              "      <td>0.081929</td>\n",
              "      <td>0.056287</td>\n",
              "      <td>-0.447569</td>\n",
              "      <td>0.000000</td>\n",
              "      <td>0.502780</td>\n",
              "      <td>0.000000</td>\n",
              "      <td>0.948167</td>\n",
              "      <td>0.197322</td>\n",
              "      <td>-1.153128</td>\n",
              "      <td>-0.226769</td>\n",
              "      <td>0.935136</td>\n",
              "      <td>-0.700727</td>\n",
              "    </tr>\n",
              "    <tr>\n",
              "      <th>539</th>\n",
              "      <td>0.105280</td>\n",
              "      <td>-0.005876</td>\n",
              "      <td>0.068445</td>\n",
              "      <td>0.257642</td>\n",
              "      <td>-0.325411</td>\n",
              "      <td>-0.100080</td>\n",
              "      <td>0.000000</td>\n",
              "      <td>-0.690320</td>\n",
              "      <td>0.409725</td>\n",
              "      <td>0.667862</td>\n",
              "      <td>-1.696959</td>\n",
              "      <td>0.000000</td>\n",
              "      <td>0.226803</td>\n",
              "      <td>-2.483577</td>\n",
              "      <td>2.809925</td>\n",
              "      <td>0.527800</td>\n",
              "      <td>-1.015508</td>\n",
              "      <td>-0.065443</td>\n",
              "    </tr>\n",
              "    <tr>\n",
              "      <th>368</th>\n",
              "      <td>-0.175853</td>\n",
              "      <td>0.211759</td>\n",
              "      <td>-0.642571</td>\n",
              "      <td>0.414047</td>\n",
              "      <td>0.361499</td>\n",
              "      <td>-0.168882</td>\n",
              "      <td>0.018187</td>\n",
              "      <td>2.398228</td>\n",
              "      <td>-1.323874</td>\n",
              "      <td>1.711546</td>\n",
              "      <td>2.010183</td>\n",
              "      <td>-1.086041</td>\n",
              "      <td>-0.131928</td>\n",
              "      <td>4.178862</td>\n",
              "      <td>-5.213971</td>\n",
              "      <td>0.976995</td>\n",
              "      <td>0.887089</td>\n",
              "      <td>-0.697047</td>\n",
              "    </tr>\n",
              "    <tr>\n",
              "      <th>546</th>\n",
              "      <td>-0.063484</td>\n",
              "      <td>-0.121206</td>\n",
              "      <td>0.092397</td>\n",
              "      <td>0.005178</td>\n",
              "      <td>0.215644</td>\n",
              "      <td>-0.128528</td>\n",
              "      <td>0.000000</td>\n",
              "      <td>0.000000</td>\n",
              "      <td>0.000000</td>\n",
              "      <td>0.000000</td>\n",
              "      <td>0.000000</td>\n",
              "      <td>-0.367410</td>\n",
              "      <td>-0.175917</td>\n",
              "      <td>-0.739723</td>\n",
              "      <td>0.847777</td>\n",
              "      <td>-0.071310</td>\n",
              "      <td>0.424873</td>\n",
              "      <td>-0.285700</td>\n",
              "    </tr>\n",
              "    <tr>\n",
              "      <th>10</th>\n",
              "      <td>0.012258</td>\n",
              "      <td>-0.209090</td>\n",
              "      <td>-0.013416</td>\n",
              "      <td>0.025715</td>\n",
              "      <td>-0.110728</td>\n",
              "      <td>0.295260</td>\n",
              "      <td>0.070841</td>\n",
              "      <td>-4.316138</td>\n",
              "      <td>0.000000</td>\n",
              "      <td>0.000000</td>\n",
              "      <td>-1.952008</td>\n",
              "      <td>1.800288</td>\n",
              "      <td>0.097776</td>\n",
              "      <td>-4.172080</td>\n",
              "      <td>3.461015</td>\n",
              "      <td>0.103208</td>\n",
              "      <td>-0.346765</td>\n",
              "      <td>0.856846</td>\n",
              "    </tr>\n",
              "  </tbody>\n",
              "</table>\n",
              "</div>"
            ],
            "text/plain": [
              "           lr                      ...        l2                    \n",
              "            0         1         2  ...         3         4         5\n",
              "171 -0.104683 -0.092360  0.072524  ... -0.174162  1.475046 -1.210431\n",
              "323  0.016390  0.028280  0.093896  ... -0.039276 -0.108946 -0.048647\n",
              "292  0.142937  0.013458 -0.089473  ...  0.397814  0.626714 -1.011957\n",
              "417 -0.045040  0.024471  0.024875  ... -0.180198  0.164293  0.084361\n",
              "460 -0.016415  0.069363  0.013384  ... -0.024509  0.286343 -0.342857\n",
              "291  0.150777  0.339800 -0.458499  ... -0.226769  0.935136 -0.700727\n",
              "539  0.105280 -0.005876  0.068445  ...  0.527800 -1.015508 -0.065443\n",
              "368 -0.175853  0.211759 -0.642571  ...  0.976995  0.887089 -0.697047\n",
              "546 -0.063484 -0.121206  0.092397  ... -0.071310  0.424873 -0.285700\n",
              "10   0.012258 -0.209090 -0.013416  ...  0.103208 -0.346765  0.856846\n",
              "\n",
              "[10 rows x 18 columns]"
            ]
          },
          "metadata": {},
          "execution_count": 20
        }
      ]
    },
    {
      "cell_type": "markdown",
      "metadata": {
        "id": "pjZhVQoOGZ98"
      },
      "source": [
        "Prepare six separate plots for each of the multi-class coefficients."
      ]
    },
    {
      "cell_type": "code",
      "metadata": {
        "id": "oE1-fjI5GZ98",
        "colab": {
          "base_uri": "https://localhost:8080/",
          "height": 712
        },
        "outputId": "1ef6dbd2-ccd1-4580-f124-345d60994552"
      },
      "source": [
        "fig, axList = plt.subplots(nrows=3, ncols=2)\n",
        "axList = axList.flatten()\n",
        "fig.set_size_inches(10,10)\n",
        "\n",
        "\n",
        "for ax in enumerate(axList):\n",
        "    loc = ax[0]\n",
        "    ax = ax[1]\n",
        "    \n",
        "    data = coefficients.xs(loc, level=1, axis=1)\n",
        "    data.plot(marker='o', ls='', ms=1.0, ax=ax, legend=False)\n",
        "    \n",
        "    if ax is axList[0]:\n",
        "        ax.legend(loc=4)\n",
        "        \n",
        "    ax.set(title='Coefficient Set '+str(loc))\n",
        "\n",
        "plt.tight_layout()\n"
      ],
      "execution_count": 21,
      "outputs": [
        {
          "output_type": "display_data",
          "data": {
            "image/png": "[encoded data removed]",
            "text/plain": [
              "<Figure size 720x720 with 6 Axes>"
            ]
          },
          "metadata": {}
        }
      ]
    },
    {
      "cell_type": "markdown",
      "metadata": {
        "id": "PvzJFsDQGZ99"
      },
      "source": [
        "## Question 6\n",
        "\n",
        "* Predict and store the class for each model.\n",
        "* Also store the probability for the predicted class for each model. "
      ]
    },
    {
      "cell_type": "code",
      "metadata": {
        "colab": {
          "base_uri": "https://localhost:8080/",
          "height": 204
        },
        "id": "1Ibmd6KNGZ99",
        "outputId": "faa9a47b-c5db-44bc-e94c-13cc61629489"
      },
      "source": [
        "# Predict the class and the probability for each\n",
        "\n",
        "y_pred = list()\n",
        "y_prob = list()\n",
        "\n",
        "coeff_labels = ['lr', 'l1', 'l2']\n",
        "coeff_models = [lr, lr_l1, lr_l2]\n",
        "\n",
        "for lab,mod in zip(coeff_labels, coeff_models):\n",
        "    y_pred.append(pd.Series(mod.predict(X_test), name=lab))\n",
        "    y_prob.append(pd.Series(mod.predict_proba(X_test).max(axis=1), name=lab))\n",
        "    \n",
        "y_pred = pd.concat(y_pred, axis=1)\n",
        "y_prob = pd.concat(y_prob, axis=1)\n",
        "\n",
        "y_pred.head()\n"
      ],
      "execution_count": 22,
      "outputs": [
        {
          "output_type": "execute_result",
          "data": {
            "text/html": [
              "<div>\n",
              "<style scoped>\n",
              "    .dataframe tbody tr th:only-of-type {\n",
              "        vertical-align: middle;\n",
              "    }\n",
              "\n",
              "    .dataframe tbody tr th {\n",
              "        vertical-align: top;\n",
              "    }\n",
              "\n",
              "    .dataframe thead th {\n",
              "        text-align: right;\n",
              "    }\n",
              "</style>\n",
              "<table border=\"1\" class=\"dataframe\">\n",
              "  <thead>\n",
              "    <tr style=\"text-align: right;\">\n",
              "      <th></th>\n",
              "      <th>lr</th>\n",
              "      <th>l1</th>\n",
              "      <th>l2</th>\n",
              "    </tr>\n",
              "  </thead>\n",
              "  <tbody>\n",
              "    <tr>\n",
              "      <th>0</th>\n",
              "      <td>3</td>\n",
              "      <td>3</td>\n",
              "      <td>3</td>\n",
              "    </tr>\n",
              "    <tr>\n",
              "      <th>1</th>\n",
              "      <td>5</td>\n",
              "      <td>5</td>\n",
              "      <td>5</td>\n",
              "    </tr>\n",
              "    <tr>\n",
              "      <th>2</th>\n",
              "      <td>3</td>\n",
              "      <td>3</td>\n",
              "      <td>3</td>\n",
              "    </tr>\n",
              "    <tr>\n",
              "      <th>3</th>\n",
              "      <td>1</td>\n",
              "      <td>1</td>\n",
              "      <td>1</td>\n",
              "    </tr>\n",
              "    <tr>\n",
              "      <th>4</th>\n",
              "      <td>0</td>\n",
              "      <td>0</td>\n",
              "      <td>0</td>\n",
              "    </tr>\n",
              "  </tbody>\n",
              "</table>\n",
              "</div>"
            ],
            "text/plain": [
              "   lr  l1  l2\n",
              "0   3   3   3\n",
              "1   5   5   5\n",
              "2   3   3   3\n",
              "3   1   1   1\n",
              "4   0   0   0"
            ]
          },
          "metadata": {},
          "execution_count": 22
        }
      ]
    },
    {
      "cell_type": "code",
      "metadata": {
        "colab": {
          "base_uri": "https://localhost:8080/",
          "height": 204
        },
        "id": "Va1QziDtGZ99",
        "outputId": "0ffaa95c-4432-42df-b633-03d72289559b"
      },
      "source": [
        "y_prob.head()"
      ],
      "execution_count": 23,
      "outputs": [
        {
          "output_type": "execute_result",
          "data": {
            "text/html": [
              "<div>\n",
              "<style scoped>\n",
              "    .dataframe tbody tr th:only-of-type {\n",
              "        vertical-align: middle;\n",
              "    }\n",
              "\n",
              "    .dataframe tbody tr th {\n",
              "        vertical-align: top;\n",
              "    }\n",
              "\n",
              "    .dataframe thead th {\n",
              "        text-align: right;\n",
              "    }\n",
              "</style>\n",
              "<table border=\"1\" class=\"dataframe\">\n",
              "  <thead>\n",
              "    <tr style=\"text-align: right;\">\n",
              "      <th></th>\n",
              "      <th>lr</th>\n",
              "      <th>l1</th>\n",
              "      <th>l2</th>\n",
              "    </tr>\n",
              "  </thead>\n",
              "  <tbody>\n",
              "    <tr>\n",
              "      <th>0</th>\n",
              "      <td>0.999995</td>\n",
              "      <td>0.998999</td>\n",
              "      <td>1.000000</td>\n",
              "    </tr>\n",
              "    <tr>\n",
              "      <th>1</th>\n",
              "      <td>0.999236</td>\n",
              "      <td>0.999684</td>\n",
              "      <td>1.000000</td>\n",
              "    </tr>\n",
              "    <tr>\n",
              "      <th>2</th>\n",
              "      <td>0.997421</td>\n",
              "      <td>0.995413</td>\n",
              "      <td>0.999998</td>\n",
              "    </tr>\n",
              "    <tr>\n",
              "      <th>3</th>\n",
              "      <td>0.988805</td>\n",
              "      <td>0.999195</td>\n",
              "      <td>1.000000</td>\n",
              "    </tr>\n",
              "    <tr>\n",
              "      <th>4</th>\n",
              "      <td>0.995017</td>\n",
              "      <td>0.999925</td>\n",
              "      <td>1.000000</td>\n",
              "    </tr>\n",
              "  </tbody>\n",
              "</table>\n",
              "</div>"
            ],
            "text/plain": [
              "         lr        l1        l2\n",
              "0  0.999995  0.998999  1.000000\n",
              "1  0.999236  0.999684  1.000000\n",
              "2  0.997421  0.995413  0.999998\n",
              "3  0.988805  0.999195  1.000000\n",
              "4  0.995017  0.999925  1.000000"
            ]
          },
          "metadata": {},
          "execution_count": 23
        }
      ]
    },
    {
      "cell_type": "markdown",
      "metadata": {
        "id": "ZDdHtIPcGZ99"
      },
      "source": [
        "## Question 7\n",
        "\n",
        "For each model, calculate the following error metrics: \n",
        "\n",
        "* accuracy\n",
        "* precision\n",
        "* recall\n",
        "* fscore\n",
        "* confusion matrix\n",
        "\n",
        "Decide how to combine the multi-class metrics into a single value for each model."
      ]
    },
    {
      "cell_type": "code",
      "metadata": {
        "collapsed": true,
        "id": "kXZORMksGZ99"
      },
      "source": [
        "from sklearn.metrics import precision_recall_fscore_support as score\n",
        "from sklearn.metrics import confusion_matrix, accuracy_score, roc_auc_score\n",
        "from sklearn.preprocessing import label_binarize\n",
        "\n",
        "metrics = list()\n",
        "cm = dict()\n",
        "\n",
        "for lab in coeff_labels:\n",
        "\n",
        "    # Preciision, recall, f-score from the multi-class support function\n",
        "    precision, recall, fscore, _ = score(y_test, y_pred[lab], average='weighted')\n",
        "    \n",
        "    # The usual way to calculate accuracy\n",
        "    accuracy = accuracy_score(y_test, y_pred[lab])\n",
        "    \n",
        "    # ROC-AUC scores can be calculated by binarizing the data\n",
        "    auc = roc_auc_score(label_binarize(y_test, classes=[0,1,2,3,4,5]),\n",
        "              label_binarize(y_pred[lab], classes=[0,1,2,3,4,5]), \n",
        "              average='weighted')\n",
        "    \n",
        "    # Last, the confusion matrix\n",
        "    cm[lab] = confusion_matrix(y_test, y_pred[lab])\n",
        "    \n",
        "    metrics.append(pd.Series({'precision':precision, 'recall':recall, \n",
        "                              'fscore':fscore, 'accuracy':accuracy,\n",
        "                              'auc':auc}, \n",
        "                             name=lab))\n",
        "\n",
        "metrics = pd.concat(metrics, axis=1)\n"
      ],
      "execution_count": 24,
      "outputs": []
    },
    {
      "cell_type": "code",
      "metadata": {
        "colab": {
          "base_uri": "https://localhost:8080/",
          "height": 204
        },
        "id": "ZmTpA217GZ9-",
        "outputId": "e355331d-fa01-4cf6-f829-2c5aad4da041"
      },
      "source": [
        "#Run the metrics\n",
        "metrics"
      ],
      "execution_count": 25,
      "outputs": [
        {
          "output_type": "execute_result",
          "data": {
            "text/html": [
              "<div>\n",
              "<style scoped>\n",
              "    .dataframe tbody tr th:only-of-type {\n",
              "        vertical-align: middle;\n",
              "    }\n",
              "\n",
              "    .dataframe tbody tr th {\n",
              "        vertical-align: top;\n",
              "    }\n",
              "\n",
              "    .dataframe thead th {\n",
              "        text-align: right;\n",
              "    }\n",
              "</style>\n",
              "<table border=\"1\" class=\"dataframe\">\n",
              "  <thead>\n",
              "    <tr style=\"text-align: right;\">\n",
              "      <th></th>\n",
              "      <th>lr</th>\n",
              "      <th>l1</th>\n",
              "      <th>l2</th>\n",
              "    </tr>\n",
              "  </thead>\n",
              "  <tbody>\n",
              "    <tr>\n",
              "      <th>precision</th>\n",
              "      <td>0.980565</td>\n",
              "      <td>0.983514</td>\n",
              "      <td>0.986090</td>\n",
              "    </tr>\n",
              "    <tr>\n",
              "      <th>recall</th>\n",
              "      <td>0.980583</td>\n",
              "      <td>0.983495</td>\n",
              "      <td>0.986084</td>\n",
              "    </tr>\n",
              "    <tr>\n",
              "      <th>fscore</th>\n",
              "      <td>0.980571</td>\n",
              "      <td>0.983492</td>\n",
              "      <td>0.986085</td>\n",
              "    </tr>\n",
              "    <tr>\n",
              "      <th>accuracy</th>\n",
              "      <td>0.980583</td>\n",
              "      <td>0.983495</td>\n",
              "      <td>0.986084</td>\n",
              "    </tr>\n",
              "    <tr>\n",
              "      <th>auc</th>\n",
              "      <td>0.988238</td>\n",
              "      <td>0.989949</td>\n",
              "      <td>0.991545</td>\n",
              "    </tr>\n",
              "  </tbody>\n",
              "</table>\n",
              "</div>"
            ],
            "text/plain": [
              "                 lr        l1        l2\n",
              "precision  0.980565  0.983514  0.986090\n",
              "recall     0.980583  0.983495  0.986084\n",
              "fscore     0.980571  0.983492  0.986085\n",
              "accuracy   0.980583  0.983495  0.986084\n",
              "auc        0.988238  0.989949  0.991545"
            ]
          },
          "metadata": {},
          "execution_count": 25
        }
      ]
    },
    {
      "cell_type": "markdown",
      "metadata": {
        "id": "hP8nzloJGZ9-"
      },
      "source": [
        "## Question 8\n",
        "\n",
        "Display or plot the confusion matrix for each model."
      ]
    },
    {
      "cell_type": "code",
      "metadata": {
        "colab": {
          "base_uri": "https://localhost:8080/",
          "height": 712
        },
        "id": "DeATsNKLGZ9-",
        "outputId": "acad62ee-c10b-449b-aa0c-d418561afd79"
      },
      "source": [
        "\n",
        "fig, axList = plt.subplots(nrows=2, ncols=2)\n",
        "axList = axList.flatten()\n",
        "fig.set_size_inches(12, 10)\n",
        "\n",
        "axList[-1].axis('off')\n",
        "\n",
        "for ax,lab in zip(axList[:-1], coeff_labels):\n",
        "    sns.heatmap(cm[lab], ax=ax, annot=True, fmt='d');\n",
        "    ax.set(title=lab);\n",
        "    \n",
        "plt.tight_layout()\n"
      ],
      "execution_count": 26,
      "outputs": [
        {
          "output_type": "display_data",
          "data": {
            "image/png": "[encoded data removed]",
            "text/plain": [
              "<Figure size 864x720 with 7 Axes>"
            ]
          },
          "metadata": {}
        }
      ]
    },
    {
      "cell_type": "markdown",
      "metadata": {
        "collapsed": true,
        "id": "5FbtbOhbGZ9-"
      },
      "source": [
        "## Question 9\n",
        " Identify highly correlated columns and drop those columns before building models"
      ]
    },
    {
      "cell_type": "code",
      "metadata": {
        "collapsed": true,
        "id": "cprDJ9_tGZ9-"
      },
      "source": [
        "from sklearn.feature_selection import SelectKBest\n",
        "from sklearn.feature_selection import chi2\n",
        "from sklearn.feature_selection import VarianceThreshold\n",
        "\n",
        "#threshold with .7\n",
        "\n",
        "sel = VarianceThreshold(threshold=(.7 * (1 - .7)))\n",
        "\n",
        "data2 = pd.concat([X_train,X_test])\n",
        "data_new = pd.DataFrame(sel.fit_transform(data2))\n",
        "\n",
        "\n",
        "data_y = pd.concat([y_train,y_test])\n",
        "\n",
        "from sklearn.model_selection import train_test_split\n",
        "\n",
        "X_train_new, X_test_new = train_test_split(data_new)\n",
        "Y_train_new, Y_test_new = train_test_split(data_y)"
      ],
      "execution_count": 27,
      "outputs": []
    },
    {
      "cell_type": "markdown",
      "metadata": {
        "id": "n3DjzeTyGZ9_"
      },
      "source": [
        " Repeat Model building with new training data after removing higly correlated columns"
      ]
    },
    {
      "cell_type": "code",
      "metadata": {
        "collapsed": true,
        "id": "4kBmQNwsGZ9_"
      },
      "source": [
        "# Try standard, L1 and L2 Logistic regression"
      ],
      "execution_count": 28,
      "outputs": []
    },
    {
      "cell_type": "code",
      "metadata": {
        "colab": {
          "base_uri": "https://localhost:8080/"
        },
        "id": "9TXpyh8tMTxg",
        "outputId": "afd96990-4a53-4d0c-f998-8832dba9cd9b"
      },
      "source": [
        "# Standard logistic regression\n",
        "lr = LogisticRegression().fit(X_train_new, Y_train_new)"
      ],
      "execution_count": 29,
      "outputs": [
        {
          "output_type": "stream",
          "name": "stderr",
          "text": [
            "/usr/local/lib/python3.7/dist-packages/sklearn/linear_model/_logistic.py:940: ConvergenceWarning: lbfgs failed to converge (status=1):\n",
            "STOP: TOTAL NO. of ITERATIONS REACHED LIMIT.\n",
            "\n",
            "Increase the number of iterations (max_iter) or scale the data as shown in:\n",
            "    https://scikit-learn.org/stable/modules/preprocessing.html\n",
            "Please also refer to the documentation for alternative solver options:\n",
            "    https://scikit-learn.org/stable/modules/linear_model.html#logistic-regression\n",
            "  extra_warning_msg=_LOGISTIC_SOLVER_CONVERGENCE_MSG)\n"
          ]
        }
      ]
    },
    {
      "cell_type": "code",
      "metadata": {
        "colab": {
          "base_uri": "https://localhost:8080/"
        },
        "id": "damQ_g-0MlVQ",
        "outputId": "ca7ac3da-b651-4131-9840-f456616a39be"
      },
      "source": [
        "# L1 regularized logistic regression\n",
        "lr_l1 = LogisticRegressionCV(Cs=10, cv=4, penalty='l1', solver='liblinear').fit(X_train_new, Y_train_new)"
      ],
      "execution_count": 30,
      "outputs": [
        {
          "output_type": "stream",
          "name": "stderr",
          "text": [
            "/usr/local/lib/python3.7/dist-packages/sklearn/svm/_base.py:947: ConvergenceWarning: Liblinear failed to converge, increase the number of iterations.\n",
            "  \"the number of iterations.\", ConvergenceWarning)\n"
          ]
        }
      ]
    },
    {
      "cell_type": "code",
      "metadata": {
        "collapsed": true,
        "id": "Pq1HitXAGZ9_"
      },
      "source": [
        "#Try with different solvers like ‘newton-cg’, ‘lbfgs’, ‘sag’, ‘saga’ and give your observations"
      ],
      "execution_count": 31,
      "outputs": []
    },
    {
      "cell_type": "code",
      "metadata": {
        "colab": {
          "base_uri": "https://localhost:8080/"
        },
        "id": "Z6wbt2v8Nhrm",
        "outputId": "fd5887d9-3a7d-4f79-b9bd-dd060b283054"
      },
      "source": [
        "# L2 regularized logistic regression\n",
        "lr_l2 = LogisticRegressionCV(Cs=10, cv=4, penalty='l2').fit(X_train_new, Y_train_new)"
      ],
      "execution_count": 32,
      "outputs": [
        {
          "output_type": "stream",
          "name": "stderr",
          "text": [
            "/usr/local/lib/python3.7/dist-packages/sklearn/linear_model/_logistic.py:940: ConvergenceWarning: lbfgs failed to converge (status=1):\n",
            "STOP: TOTAL NO. of ITERATIONS REACHED LIMIT.\n",
            "\n",
            "Increase the number of iterations (max_iter) or scale the data as shown in:\n",
            "    https://scikit-learn.org/stable/modules/preprocessing.html\n",
            "Please also refer to the documentation for alternative solver options:\n",
            "    https://scikit-learn.org/stable/modules/linear_model.html#logistic-regression\n",
            "  extra_warning_msg=_LOGISTIC_SOLVER_CONVERGENCE_MSG)\n",
            "/usr/local/lib/python3.7/dist-packages/sklearn/linear_model/_logistic.py:940: ConvergenceWarning: lbfgs failed to converge (status=1):\n",
            "STOP: TOTAL NO. of ITERATIONS REACHED LIMIT.\n",
            "\n",
            "Increase the number of iterations (max_iter) or scale the data as shown in:\n",
            "    https://scikit-learn.org/stable/modules/preprocessing.html\n",
            "Please also refer to the documentation for alternative solver options:\n",
            "    https://scikit-learn.org/stable/modules/linear_model.html#logistic-regression\n",
            "  extra_warning_msg=_LOGISTIC_SOLVER_CONVERGENCE_MSG)\n",
            "/usr/local/lib/python3.7/dist-packages/sklearn/linear_model/_logistic.py:940: ConvergenceWarning: lbfgs failed to converge (status=1):\n",
            "STOP: TOTAL NO. of ITERATIONS REACHED LIMIT.\n",
            "\n",
            "Increase the number of iterations (max_iter) or scale the data as shown in:\n",
            "    https://scikit-learn.org/stable/modules/preprocessing.html\n",
            "Please also refer to the documentation for alternative solver options:\n",
            "    https://scikit-learn.org/stable/modules/linear_model.html#logistic-regression\n",
            "  extra_warning_msg=_LOGISTIC_SOLVER_CONVERGENCE_MSG)\n",
            "/usr/local/lib/python3.7/dist-packages/sklearn/linear_model/_logistic.py:940: ConvergenceWarning: lbfgs failed to converge (status=1):\n",
            "STOP: TOTAL NO. of ITERATIONS REACHED LIMIT.\n",
            "\n",
            "Increase the number of iterations (max_iter) or scale the data as shown in:\n",
            "    https://scikit-learn.org/stable/modules/preprocessing.html\n",
            "Please also refer to the documentation for alternative solver options:\n",
            "    https://scikit-learn.org/stable/modules/linear_model.html#logistic-regression\n",
            "  extra_warning_msg=_LOGISTIC_SOLVER_CONVERGENCE_MSG)\n"
          ]
        }
      ]
    },
    {
      "cell_type": "markdown",
      "metadata": {
        "id": "1p1WuAWgGZ9_"
      },
      "source": [
        "## Question 10\n",
        "\n",
        "Compare the magnitudes of the coefficients for each of the models. If one-vs-rest fitting was used, each set of coefficients can be plotted separately. "
      ]
    },
    {
      "cell_type": "code",
      "metadata": {
        "collapsed": true,
        "id": "0WNNBR9jGZ9_",
        "colab": {
          "base_uri": "https://localhost:8080/",
          "height": 390
        },
        "outputId": "0595a892-f692-44ed-807f-ed4182b3db24"
      },
      "source": [
        "# Combine all the coefficients into a dataframe for comparison\n",
        "coefficients = list()\n",
        "\n",
        "coeff_labels = ['lr', 'l1', 'l2']\n",
        "coeff_models = [lr, lr_l1, lr_l2]\n",
        "\n",
        "for lab,mod in zip(coeff_labels, coeff_models):\n",
        "    coeffs = mod.coef_\n",
        "    coeff_label = pd.MultiIndex(levels=[[lab], [0,1,2,3,4,5]], codes=[[0,0,0,0,0,0], [0,1,2,3,4,5]])\n",
        "    coefficients.append(pd.DataFrame(coeffs.T, columns=coeff_label))\n",
        "\n",
        "coefficients = pd.concat(coefficients, axis=1)\n",
        "\n",
        "coefficients.sample(10)"
      ],
      "execution_count": 33,
      "outputs": [
        {
          "output_type": "execute_result",
          "data": {
            "text/html": [
              "<div>\n",
              "<style scoped>\n",
              "    .dataframe tbody tr th:only-of-type {\n",
              "        vertical-align: middle;\n",
              "    }\n",
              "\n",
              "    .dataframe tbody tr th {\n",
              "        vertical-align: top;\n",
              "    }\n",
              "\n",
              "    .dataframe thead tr th {\n",
              "        text-align: left;\n",
              "    }\n",
              "</style>\n",
              "<table border=\"1\" class=\"dataframe\">\n",
              "  <thead>\n",
              "    <tr>\n",
              "      <th></th>\n",
              "      <th colspan=\"6\" halign=\"left\">lr</th>\n",
              "      <th colspan=\"6\" halign=\"left\">l1</th>\n",
              "      <th colspan=\"6\" halign=\"left\">l2</th>\n",
              "    </tr>\n",
              "    <tr>\n",
              "      <th></th>\n",
              "      <th>0</th>\n",
              "      <th>1</th>\n",
              "      <th>2</th>\n",
              "      <th>3</th>\n",
              "      <th>4</th>\n",
              "      <th>5</th>\n",
              "      <th>0</th>\n",
              "      <th>1</th>\n",
              "      <th>2</th>\n",
              "      <th>3</th>\n",
              "      <th>4</th>\n",
              "      <th>5</th>\n",
              "      <th>0</th>\n",
              "      <th>1</th>\n",
              "      <th>2</th>\n",
              "      <th>3</th>\n",
              "      <th>4</th>\n",
              "      <th>5</th>\n",
              "    </tr>\n",
              "  </thead>\n",
              "  <tbody>\n",
              "    <tr>\n",
              "      <th>25</th>\n",
              "      <td>-0.221627</td>\n",
              "      <td>0.003294</td>\n",
              "      <td>-0.059061</td>\n",
              "      <td>-0.157293</td>\n",
              "      <td>0.062274</td>\n",
              "      <td>0.372412</td>\n",
              "      <td>0.0</td>\n",
              "      <td>0.0</td>\n",
              "      <td>0.0</td>\n",
              "      <td>0.0</td>\n",
              "      <td>0.0</td>\n",
              "      <td>0.0</td>\n",
              "      <td>0.001823</td>\n",
              "      <td>-0.000444</td>\n",
              "      <td>-0.001129</td>\n",
              "      <td>-0.002056</td>\n",
              "      <td>0.001744</td>\n",
              "      <td>0.000063</td>\n",
              "    </tr>\n",
              "    <tr>\n",
              "      <th>31</th>\n",
              "      <td>0.035067</td>\n",
              "      <td>0.145508</td>\n",
              "      <td>-0.000100</td>\n",
              "      <td>-0.148881</td>\n",
              "      <td>-0.259817</td>\n",
              "      <td>0.228223</td>\n",
              "      <td>0.0</td>\n",
              "      <td>0.0</td>\n",
              "      <td>0.0</td>\n",
              "      <td>0.0</td>\n",
              "      <td>0.0</td>\n",
              "      <td>0.0</td>\n",
              "      <td>0.001895</td>\n",
              "      <td>-0.000022</td>\n",
              "      <td>-0.000209</td>\n",
              "      <td>-0.001594</td>\n",
              "      <td>0.000674</td>\n",
              "      <td>-0.000745</td>\n",
              "    </tr>\n",
              "    <tr>\n",
              "      <th>46</th>\n",
              "      <td>0.156971</td>\n",
              "      <td>-0.354308</td>\n",
              "      <td>-0.199681</td>\n",
              "      <td>0.303985</td>\n",
              "      <td>0.265512</td>\n",
              "      <td>-0.172479</td>\n",
              "      <td>0.0</td>\n",
              "      <td>0.0</td>\n",
              "      <td>0.0</td>\n",
              "      <td>0.0</td>\n",
              "      <td>0.0</td>\n",
              "      <td>0.0</td>\n",
              "      <td>0.002597</td>\n",
              "      <td>-0.001252</td>\n",
              "      <td>-0.000856</td>\n",
              "      <td>-0.001453</td>\n",
              "      <td>0.002414</td>\n",
              "      <td>-0.001450</td>\n",
              "    </tr>\n",
              "    <tr>\n",
              "      <th>16</th>\n",
              "      <td>0.127692</td>\n",
              "      <td>0.568758</td>\n",
              "      <td>-0.226976</td>\n",
              "      <td>0.174683</td>\n",
              "      <td>-0.546977</td>\n",
              "      <td>-0.097179</td>\n",
              "      <td>0.0</td>\n",
              "      <td>0.0</td>\n",
              "      <td>0.0</td>\n",
              "      <td>0.0</td>\n",
              "      <td>0.0</td>\n",
              "      <td>0.0</td>\n",
              "      <td>0.002569</td>\n",
              "      <td>-0.000224</td>\n",
              "      <td>-0.001325</td>\n",
              "      <td>-0.001321</td>\n",
              "      <td>0.001252</td>\n",
              "      <td>-0.000951</td>\n",
              "    </tr>\n",
              "    <tr>\n",
              "      <th>13</th>\n",
              "      <td>0.262830</td>\n",
              "      <td>0.150729</td>\n",
              "      <td>-0.427535</td>\n",
              "      <td>0.493399</td>\n",
              "      <td>-0.154955</td>\n",
              "      <td>-0.324468</td>\n",
              "      <td>0.0</td>\n",
              "      <td>0.0</td>\n",
              "      <td>0.0</td>\n",
              "      <td>0.0</td>\n",
              "      <td>0.0</td>\n",
              "      <td>0.0</td>\n",
              "      <td>0.002616</td>\n",
              "      <td>-0.000113</td>\n",
              "      <td>-0.001352</td>\n",
              "      <td>-0.000995</td>\n",
              "      <td>0.001543</td>\n",
              "      <td>-0.001699</td>\n",
              "    </tr>\n",
              "    <tr>\n",
              "      <th>23</th>\n",
              "      <td>-0.154678</td>\n",
              "      <td>-0.184068</td>\n",
              "      <td>-0.093430</td>\n",
              "      <td>-0.007929</td>\n",
              "      <td>0.268307</td>\n",
              "      <td>0.171798</td>\n",
              "      <td>0.0</td>\n",
              "      <td>0.0</td>\n",
              "      <td>0.0</td>\n",
              "      <td>0.0</td>\n",
              "      <td>0.0</td>\n",
              "      <td>0.0</td>\n",
              "      <td>0.001598</td>\n",
              "      <td>-0.000836</td>\n",
              "      <td>0.000015</td>\n",
              "      <td>-0.001674</td>\n",
              "      <td>0.001573</td>\n",
              "      <td>-0.000677</td>\n",
              "    </tr>\n",
              "    <tr>\n",
              "      <th>26</th>\n",
              "      <td>-0.087798</td>\n",
              "      <td>0.085157</td>\n",
              "      <td>0.310222</td>\n",
              "      <td>0.123654</td>\n",
              "      <td>-0.026595</td>\n",
              "      <td>-0.404640</td>\n",
              "      <td>0.0</td>\n",
              "      <td>0.0</td>\n",
              "      <td>0.0</td>\n",
              "      <td>0.0</td>\n",
              "      <td>0.0</td>\n",
              "      <td>0.0</td>\n",
              "      <td>0.002733</td>\n",
              "      <td>-0.000452</td>\n",
              "      <td>-0.000831</td>\n",
              "      <td>-0.001783</td>\n",
              "      <td>0.002052</td>\n",
              "      <td>-0.001719</td>\n",
              "    </tr>\n",
              "    <tr>\n",
              "      <th>1</th>\n",
              "      <td>0.190503</td>\n",
              "      <td>-0.049074</td>\n",
              "      <td>-0.007900</td>\n",
              "      <td>-0.175869</td>\n",
              "      <td>0.010548</td>\n",
              "      <td>0.031793</td>\n",
              "      <td>0.0</td>\n",
              "      <td>0.0</td>\n",
              "      <td>0.0</td>\n",
              "      <td>0.0</td>\n",
              "      <td>0.0</td>\n",
              "      <td>0.0</td>\n",
              "      <td>0.001824</td>\n",
              "      <td>-0.000080</td>\n",
              "      <td>-0.000125</td>\n",
              "      <td>-0.001555</td>\n",
              "      <td>0.000548</td>\n",
              "      <td>-0.000613</td>\n",
              "    </tr>\n",
              "    <tr>\n",
              "      <th>43</th>\n",
              "      <td>0.236636</td>\n",
              "      <td>0.266946</td>\n",
              "      <td>0.017219</td>\n",
              "      <td>-0.063845</td>\n",
              "      <td>-0.438197</td>\n",
              "      <td>-0.018758</td>\n",
              "      <td>0.0</td>\n",
              "      <td>0.0</td>\n",
              "      <td>0.0</td>\n",
              "      <td>0.0</td>\n",
              "      <td>0.0</td>\n",
              "      <td>0.0</td>\n",
              "      <td>0.002376</td>\n",
              "      <td>-0.000399</td>\n",
              "      <td>-0.000734</td>\n",
              "      <td>-0.002122</td>\n",
              "      <td>0.001764</td>\n",
              "      <td>-0.000885</td>\n",
              "    </tr>\n",
              "    <tr>\n",
              "      <th>42</th>\n",
              "      <td>-0.758751</td>\n",
              "      <td>0.349426</td>\n",
              "      <td>-0.002446</td>\n",
              "      <td>0.663948</td>\n",
              "      <td>-0.056545</td>\n",
              "      <td>-0.195632</td>\n",
              "      <td>0.0</td>\n",
              "      <td>0.0</td>\n",
              "      <td>0.0</td>\n",
              "      <td>0.0</td>\n",
              "      <td>0.0</td>\n",
              "      <td>0.0</td>\n",
              "      <td>0.001269</td>\n",
              "      <td>0.000099</td>\n",
              "      <td>-0.000903</td>\n",
              "      <td>-0.000932</td>\n",
              "      <td>0.001835</td>\n",
              "      <td>-0.001368</td>\n",
              "    </tr>\n",
              "  </tbody>\n",
              "</table>\n",
              "</div>"
            ],
            "text/plain": [
              "          lr                      ...        l2                    \n",
              "           0         1         2  ...         3         4         5\n",
              "25 -0.221627  0.003294 -0.059061  ... -0.002056  0.001744  0.000063\n",
              "31  0.035067  0.145508 -0.000100  ... -0.001594  0.000674 -0.000745\n",
              "46  0.156971 -0.354308 -0.199681  ... -0.001453  0.002414 -0.001450\n",
              "16  0.127692  0.568758 -0.226976  ... -0.001321  0.001252 -0.000951\n",
              "13  0.262830  0.150729 -0.427535  ... -0.000995  0.001543 -0.001699\n",
              "23 -0.154678 -0.184068 -0.093430  ... -0.001674  0.001573 -0.000677\n",
              "26 -0.087798  0.085157  0.310222  ... -0.001783  0.002052 -0.001719\n",
              "1   0.190503 -0.049074 -0.007900  ... -0.001555  0.000548 -0.000613\n",
              "43  0.236636  0.266946  0.017219  ... -0.002122  0.001764 -0.000885\n",
              "42 -0.758751  0.349426 -0.002446  ... -0.000932  0.001835 -0.001368\n",
              "\n",
              "[10 rows x 18 columns]"
            ]
          },
          "metadata": {},
          "execution_count": 33
        }
      ]
    },
    {
      "cell_type": "markdown",
      "metadata": {
        "id": "iQmX8A0ZGZ9_"
      },
      "source": [
        "Prepare six separate plots for each of the multi-class coefficients."
      ]
    },
    {
      "cell_type": "code",
      "metadata": {
        "collapsed": true,
        "id": "Pojz2IPCGZ9_",
        "colab": {
          "base_uri": "https://localhost:8080/",
          "height": 712
        },
        "outputId": "2a39bea8-a118-40b9-9181-1cf586beb6d7"
      },
      "source": [
        "# try the plots\n",
        "fig, axList = plt.subplots(nrows=3, ncols=2)\n",
        "axList = axList.flatten()\n",
        "fig.set_size_inches(10,10)\n",
        "\n",
        "\n",
        "for ax in enumerate(axList):\n",
        "    loc = ax[0]\n",
        "    ax = ax[1]\n",
        "    \n",
        "    data = coefficients.xs(loc, level=1, axis=1)\n",
        "    data.plot(marker='o', ls='', ms=1.0, ax=ax, legend=False)\n",
        "    \n",
        "    if ax is axList[0]:\n",
        "        ax.legend(loc=4)\n",
        "        \n",
        "    ax.set(title='Coefficient Set '+str(loc))\n",
        "\n",
        "plt.tight_layout()"
      ],
      "execution_count": 34,
      "outputs": [
        {
          "output_type": "display_data",
          "data": {
            "image/png": "[encoded data removed]",
            "text/plain": [
              "<Figure size 720x720 with 6 Axes>"
            ]
          },
          "metadata": {}
        }
      ]
    },
    {
      "cell_type": "markdown",
      "metadata": {
        "id": "toID6jn3GZ-A"
      },
      "source": [
        "## Question 11\n",
        "\n",
        "* Predict and store the class for each model.\n",
        "* Also store the probability for the predicted class for each model. "
      ]
    },
    {
      "cell_type": "code",
      "metadata": {
        "collapsed": true,
        "id": "1NdjAUwOGZ-A",
        "colab": {
          "base_uri": "https://localhost:8080/",
          "height": 204
        },
        "outputId": "2aa741f7-166f-4da2-c77e-14c5622af254"
      },
      "source": [
        "# Predict the class and the probability for each\n",
        "y_pred = list()\n",
        "y_prob = list()\n",
        "\n",
        "coeff_labels = ['lr', 'l1', 'l2']\n",
        "coeff_models = [lr, lr_l1, lr_l2]\n",
        "\n",
        "for lab,mod in zip(coeff_labels, coeff_models):\n",
        "    y_pred.append(pd.Series(mod.predict(X_test_new), name=lab))\n",
        "    y_prob.append(pd.Series(mod.predict_proba(X_test_new).max(axis=1), name=lab))\n",
        "    \n",
        "y_pred = pd.concat(y_pred, axis=1)\n",
        "y_prob = pd.concat(y_prob, axis=1)\n",
        "\n",
        "y_pred.head()\n"
      ],
      "execution_count": 35,
      "outputs": [
        {
          "output_type": "execute_result",
          "data": {
            "text/html": [
              "<div>\n",
              "<style scoped>\n",
              "    .dataframe tbody tr th:only-of-type {\n",
              "        vertical-align: middle;\n",
              "    }\n",
              "\n",
              "    .dataframe tbody tr th {\n",
              "        vertical-align: top;\n",
              "    }\n",
              "\n",
              "    .dataframe thead th {\n",
              "        text-align: right;\n",
              "    }\n",
              "</style>\n",
              "<table border=\"1\" class=\"dataframe\">\n",
              "  <thead>\n",
              "    <tr style=\"text-align: right;\">\n",
              "      <th></th>\n",
              "      <th>lr</th>\n",
              "      <th>l1</th>\n",
              "      <th>l2</th>\n",
              "    </tr>\n",
              "  </thead>\n",
              "  <tbody>\n",
              "    <tr>\n",
              "      <th>0</th>\n",
              "      <td>0</td>\n",
              "      <td>0</td>\n",
              "      <td>2</td>\n",
              "    </tr>\n",
              "    <tr>\n",
              "      <th>1</th>\n",
              "      <td>2</td>\n",
              "      <td>0</td>\n",
              "      <td>2</td>\n",
              "    </tr>\n",
              "    <tr>\n",
              "      <th>2</th>\n",
              "      <td>0</td>\n",
              "      <td>0</td>\n",
              "      <td>0</td>\n",
              "    </tr>\n",
              "    <tr>\n",
              "      <th>3</th>\n",
              "      <td>5</td>\n",
              "      <td>0</td>\n",
              "      <td>2</td>\n",
              "    </tr>\n",
              "    <tr>\n",
              "      <th>4</th>\n",
              "      <td>0</td>\n",
              "      <td>0</td>\n",
              "      <td>0</td>\n",
              "    </tr>\n",
              "  </tbody>\n",
              "</table>\n",
              "</div>"
            ],
            "text/plain": [
              "   lr  l1  l2\n",
              "0   0   0   2\n",
              "1   2   0   2\n",
              "2   0   0   0\n",
              "3   5   0   2\n",
              "4   0   0   0"
            ]
          },
          "metadata": {},
          "execution_count": 35
        }
      ]
    },
    {
      "cell_type": "code",
      "metadata": {
        "colab": {
          "base_uri": "https://localhost:8080/",
          "height": 204
        },
        "id": "eKtzbwxVQsdY",
        "outputId": "836cb4c0-b28c-4a22-9d1e-7e65f3e5f1e4"
      },
      "source": [
        "y_prob.head()"
      ],
      "execution_count": 36,
      "outputs": [
        {
          "output_type": "execute_result",
          "data": {
            "text/html": [
              "<div>\n",
              "<style scoped>\n",
              "    .dataframe tbody tr th:only-of-type {\n",
              "        vertical-align: middle;\n",
              "    }\n",
              "\n",
              "    .dataframe tbody tr th {\n",
              "        vertical-align: top;\n",
              "    }\n",
              "\n",
              "    .dataframe thead th {\n",
              "        text-align: right;\n",
              "    }\n",
              "</style>\n",
              "<table border=\"1\" class=\"dataframe\">\n",
              "  <thead>\n",
              "    <tr style=\"text-align: right;\">\n",
              "      <th></th>\n",
              "      <th>lr</th>\n",
              "      <th>l1</th>\n",
              "      <th>l2</th>\n",
              "    </tr>\n",
              "  </thead>\n",
              "  <tbody>\n",
              "    <tr>\n",
              "      <th>0</th>\n",
              "      <td>0.219558</td>\n",
              "      <td>0.166667</td>\n",
              "      <td>0.187054</td>\n",
              "    </tr>\n",
              "    <tr>\n",
              "      <th>1</th>\n",
              "      <td>0.198378</td>\n",
              "      <td>0.166667</td>\n",
              "      <td>0.188934</td>\n",
              "    </tr>\n",
              "    <tr>\n",
              "      <th>2</th>\n",
              "      <td>0.276104</td>\n",
              "      <td>0.166667</td>\n",
              "      <td>0.196630</td>\n",
              "    </tr>\n",
              "    <tr>\n",
              "      <th>3</th>\n",
              "      <td>0.218824</td>\n",
              "      <td>0.166667</td>\n",
              "      <td>0.186469</td>\n",
              "    </tr>\n",
              "    <tr>\n",
              "      <th>4</th>\n",
              "      <td>0.189180</td>\n",
              "      <td>0.166667</td>\n",
              "      <td>0.195573</td>\n",
              "    </tr>\n",
              "  </tbody>\n",
              "</table>\n",
              "</div>"
            ],
            "text/plain": [
              "         lr        l1        l2\n",
              "0  0.219558  0.166667  0.187054\n",
              "1  0.198378  0.166667  0.188934\n",
              "2  0.276104  0.166667  0.196630\n",
              "3  0.218824  0.166667  0.186469\n",
              "4  0.189180  0.166667  0.195573"
            ]
          },
          "metadata": {},
          "execution_count": 36
        }
      ]
    },
    {
      "cell_type": "markdown",
      "metadata": {
        "id": "ySxYy_FBGZ-A"
      },
      "source": [
        "## Question 12\n",
        "\n",
        "For each model, calculate the following error metrics: \n",
        "\n",
        "* accuracy\n",
        "* precision\n",
        "* recall\n",
        "* fscore\n",
        "* confusion matrix\n",
        "\n",
        "Decide how to combine the multi-class metrics into a single value for each model."
      ]
    },
    {
      "cell_type": "code",
      "metadata": {
        "collapsed": true,
        "id": "l8T73UXMGZ-A",
        "colab": {
          "base_uri": "https://localhost:8080/"
        },
        "outputId": "2f824290-71b1-4617-a607-684ce4dc29f4"
      },
      "source": [
        "# Calculate the error metrics as listed above\n",
        "from sklearn.metrics import precision_recall_fscore_support as score\n",
        "from sklearn.metrics import confusion_matrix, accuracy_score, roc_auc_score\n",
        "from sklearn.preprocessing import label_binarize\n",
        "\n",
        "metrics_selected_features = list()\n",
        "cm = dict()\n",
        "\n",
        "for lab in coeff_labels:\n",
        "\n",
        "    # Preciision, recall, f-score from the multi-class support function\n",
        "    precision, recall, fscore, _ = score(Y_test_new, y_pred[lab], average='weighted')\n",
        "    \n",
        "    # The usual way to calculate accuracy\n",
        "    accuracy = accuracy_score(Y_test_new, y_pred[lab])\n",
        "    \n",
        "    # ROC-AUC scores can be calculated by binarizing the data\n",
        "    auc = roc_auc_score(label_binarize(Y_test_new, classes=[0,1,2,3,4,5]),\n",
        "              label_binarize(y_pred[lab], classes=[0,1,2,3,4,5]), \n",
        "              average='weighted')\n",
        "    \n",
        "    # Last, the confusion matrix\n",
        "    cm[lab] = confusion_matrix(Y_test_new, y_pred[lab])\n",
        "    \n",
        "    metrics_selected_features.append(pd.Series({'precision':precision, 'recall':recall, \n",
        "                              'fscore':fscore, 'accuracy':accuracy,\n",
        "                              'auc':auc}, \n",
        "                             name=lab))\n",
        "\n",
        "metrics_selected_features = pd.concat(metrics_selected_features, axis=1)"
      ],
      "execution_count": 37,
      "outputs": [
        {
          "output_type": "stream",
          "name": "stderr",
          "text": [
            "/usr/local/lib/python3.7/dist-packages/sklearn/metrics/_classification.py:1272: UndefinedMetricWarning: Precision and F-score are ill-defined and being set to 0.0 in labels with no predicted samples. Use `zero_division` parameter to control this behavior.\n",
            "  _warn_prf(average, modifier, msg_start, len(result))\n",
            "/usr/local/lib/python3.7/dist-packages/sklearn/metrics/_classification.py:1272: UndefinedMetricWarning: Precision and F-score are ill-defined and being set to 0.0 in labels with no predicted samples. Use `zero_division` parameter to control this behavior.\n",
            "  _warn_prf(average, modifier, msg_start, len(result))\n"
          ]
        }
      ]
    },
    {
      "cell_type": "code",
      "metadata": {
        "collapsed": true,
        "id": "WuZ1IuNSGZ-A",
        "colab": {
          "base_uri": "https://localhost:8080/",
          "height": 204
        },
        "outputId": "c1977be4-bdb6-469f-d9fa-dc1372e8cd9a"
      },
      "source": [
        "#Run the metrics\n",
        "metrics_selected_features"
      ],
      "execution_count": 38,
      "outputs": [
        {
          "output_type": "execute_result",
          "data": {
            "text/html": [
              "<div>\n",
              "<style scoped>\n",
              "    .dataframe tbody tr th:only-of-type {\n",
              "        vertical-align: middle;\n",
              "    }\n",
              "\n",
              "    .dataframe tbody tr th {\n",
              "        vertical-align: top;\n",
              "    }\n",
              "\n",
              "    .dataframe thead th {\n",
              "        text-align: right;\n",
              "    }\n",
              "</style>\n",
              "<table border=\"1\" class=\"dataframe\">\n",
              "  <thead>\n",
              "    <tr style=\"text-align: right;\">\n",
              "      <th></th>\n",
              "      <th>lr</th>\n",
              "      <th>l1</th>\n",
              "      <th>l2</th>\n",
              "    </tr>\n",
              "  </thead>\n",
              "  <tbody>\n",
              "    <tr>\n",
              "      <th>precision</th>\n",
              "      <td>0.198792</td>\n",
              "      <td>0.036507</td>\n",
              "      <td>0.068123</td>\n",
              "    </tr>\n",
              "    <tr>\n",
              "      <th>recall</th>\n",
              "      <td>0.188738</td>\n",
              "      <td>0.191068</td>\n",
              "      <td>0.182524</td>\n",
              "    </tr>\n",
              "    <tr>\n",
              "      <th>fscore</th>\n",
              "      <td>0.164394</td>\n",
              "      <td>0.061301</td>\n",
              "      <td>0.099062</td>\n",
              "    </tr>\n",
              "    <tr>\n",
              "      <th>accuracy</th>\n",
              "      <td>0.188738</td>\n",
              "      <td>0.191068</td>\n",
              "      <td>0.182524</td>\n",
              "    </tr>\n",
              "    <tr>\n",
              "      <th>auc</th>\n",
              "      <td>0.504961</td>\n",
              "      <td>0.500000</td>\n",
              "      <td>0.497919</td>\n",
              "    </tr>\n",
              "  </tbody>\n",
              "</table>\n",
              "</div>"
            ],
            "text/plain": [
              "                 lr        l1        l2\n",
              "precision  0.198792  0.036507  0.068123\n",
              "recall     0.188738  0.191068  0.182524\n",
              "fscore     0.164394  0.061301  0.099062\n",
              "accuracy   0.188738  0.191068  0.182524\n",
              "auc        0.504961  0.500000  0.497919"
            ]
          },
          "metadata": {},
          "execution_count": 38
        }
      ]
    },
    {
      "cell_type": "markdown",
      "metadata": {
        "id": "B7e3WZTYGZ-A"
      },
      "source": [
        "## Question 13\n",
        "\n",
        "Display or plot the confusion matrix for each model."
      ]
    },
    {
      "cell_type": "code",
      "metadata": {
        "collapsed": true,
        "id": "mD-ThxzpGZ-A",
        "colab": {
          "base_uri": "https://localhost:8080/",
          "height": 712
        },
        "outputId": "443f0d8c-16a5-4a14-ac13-a120c5f365e9"
      },
      "source": [
        "#plot the confusion matrix\n",
        "fig, axList = plt.subplots(nrows=2, ncols=2)\n",
        "axList = axList.flatten()\n",
        "fig.set_size_inches(12, 10)\n",
        "\n",
        "axList[-1].axis('off')\n",
        "\n",
        "for ax,lab in zip(axList[:-1], coeff_labels):\n",
        "    sns.heatmap(cm[lab], ax=ax, annot=True, fmt='d');\n",
        "    ax.set(title=lab);\n",
        "    \n",
        "plt.tight_layout()"
      ],
      "execution_count": 39,
      "outputs": [
        {
          "output_type": "display_data",
          "data": {
            "image/png": "[encoded data removed]",
            "text/plain": [
              "<Figure size 864x720 with 7 Axes>"
            ]
          },
          "metadata": {}
        }
      ]
    },
    {
      "cell_type": "code",
      "metadata": {
        "collapsed": true,
        "id": "J7wf_y-5GZ-B",
        "colab": {
          "base_uri": "https://localhost:8080/"
        },
        "outputId": "44e6d26a-c230-4baf-88ff-65013f288bf2"
      },
      "source": [
        "# Perform a comparison of the outputs between Question 7 and 12 and give your observation\n",
        "print(metrics)"
      ],
      "execution_count": 40,
      "outputs": [
        {
          "output_type": "stream",
          "name": "stdout",
          "text": [
            "                 lr        l1        l2\n",
            "precision  0.980565  0.983514  0.986090\n",
            "recall     0.980583  0.983495  0.986084\n",
            "fscore     0.980571  0.983492  0.986085\n",
            "accuracy   0.980583  0.983495  0.986084\n",
            "auc        0.988238  0.989949  0.991545\n"
          ]
        }
      ]
    },
    {
      "cell_type": "code",
      "metadata": {
        "id": "h_FfKbk0YgD5",
        "outputId": "815891ad-7b9c-4b6f-94dd-e58b0f8ef923",
        "colab": {
          "base_uri": "https://localhost:8080/"
        }
      },
      "source": [
        "print(metrics_selected_features)"
      ],
      "execution_count": 41,
      "outputs": [
        {
          "output_type": "stream",
          "name": "stdout",
          "text": [
            "                 lr        l1        l2\n",
            "precision  0.198792  0.036507  0.068123\n",
            "recall     0.188738  0.191068  0.182524\n",
            "fscore     0.164394  0.061301  0.099062\n",
            "accuracy   0.188738  0.191068  0.182524\n",
            "auc        0.504961  0.500000  0.497919\n"
          ]
        }
      ]
    },
    {
      "cell_type": "markdown",
      "metadata": {
        "id": "mkl8nLdoZ_GM"
      },
      "source": [
        "*After feature selection we got poor results, the threshold is probably too large.*"
      ]
    },
    {
      "cell_type": "code",
      "metadata": {
        "collapsed": true,
        "id": "fb1jxzLOGZ-B"
      },
      "source": [
        "# Perform a comparison of the outputs between Question 8 and 13 and give your observation"
      ],
      "execution_count": 42,
      "outputs": []
    },
    {
      "cell_type": "markdown",
      "metadata": {
        "id": "ZKNvdmR7gTmH"
      },
      "source": [
        "*After feature selection we got poor results, the threshold is probably too large.*"
      ]
    }
  ]
}