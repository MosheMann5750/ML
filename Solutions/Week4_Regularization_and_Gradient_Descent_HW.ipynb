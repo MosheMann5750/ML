{
  "nbformat": 4,
  "nbformat_minor": 0,
  "metadata": {
    "kernelspec": {
      "display_name": "Python 3",
      "language": "python",
      "name": "python3"
    },
    "language_info": {
      "codemirror_mode": {
        "name": "ipython",
        "version": 3
      },
      "file_extension": ".py",
      "mimetype": "text/x-python",
      "name": "python",
      "nbconvert_exporter": "python",
      "pygments_lexer": "ipython3",
      "version": "3.7.0"
    },
    "colab": {
      "name": "Week4_Regularization_and_Gradient_Descent_HW.ipynb",
      "provenance": [],
      "collapsed_sections": [],
      "include_colab_link": true
    }
  },
  "cells": [
    {
      "cell_type": "markdown",
      "metadata": {
        "id": "view-in-github",
        "colab_type": "text"
      },
      "source": [
        "<a href=\"https://colab.research.google.com/github/mannmoshe/machine-learning/blob/main/Solutions/Week4_Regularization_and_Gradient_Descent_HW.ipynb\" target=\"_parent\"><img src=\"https://colab.research.google.com/assets/colab-badge.svg\" alt=\"Open In Colab\"/></a>"
      ]
    },
    {
      "cell_type": "markdown",
      "metadata": {
        "id": "OMlYPoqdig9y"
      },
      "source": [
        "# Regularization and Gradient Descent Exercises\n"
      ]
    },
    {
      "cell_type": "markdown",
      "metadata": {
        "id": "eS4JlFh8DAWX"
      },
      "source": [
        "***All italic notes and student's code written by Moshe Mann.***"
      ]
    },
    {
      "cell_type": "markdown",
      "metadata": {
        "id": "w-7AGF0Uig92"
      },
      "source": [
        "## Introduction\n",
        "\n",
        "We will begin with a short tutorial on regression, polynomial features, and regularization based on a very simple, sparse data set that contains a column of `x` data and associated `y` noisy data. The data file is called `X_Y_Sinusoid_Data.csv`. "
      ]
    },
    {
      "cell_type": "markdown",
      "metadata": {
        "run_control": {
          "marked": true
        },
        "id": "PJpMcVZIig93"
      },
      "source": [
        "## Question 1\n",
        "\n",
        "* Import the data. \n",
        "\n",
        "* Also generate approximately 100 equally spaced x data points over the range of 0 to 1. Using these points, calculate the y-data which represents the \"ground truth\" (the real function) from the equation: $y = sin(2\\pi x)$\n",
        "\n",
        "* Plot the sparse data (`x` vs `y`) and the calculated (\"real\") data.\n"
      ]
    },
    {
      "cell_type": "code",
      "metadata": {
        "id": "zkr2TzZyig94"
      },
      "source": [
        "import pandas as pd\n",
        "import numpy as np\n",
        "\n",
        "filepath = 'https://raw.githubusercontent.com/mannmoshe/machine-learning/main/Data/X_Y_Sinusoid_Data.csv'\n",
        "data = pd.read_csv(filepath, sep=',')\n",
        "\n",
        "X_real = np.linspace(0, 1.0, 100)\n",
        "Y_real = np.sin(2 * np.pi * X_real)"
      ],
      "execution_count": 2,
      "outputs": []
    },
    {
      "cell_type": "code",
      "metadata": {
        "colab": {
          "base_uri": "https://localhost:8080/",
          "height": 669
        },
        "id": "lhLqPvyyig95",
        "outputId": "8cb82836-864d-47a5-b7b0-f208b77df19d"
      },
      "source": [
        "data"
      ],
      "execution_count": 3,
      "outputs": [
        {
          "output_type": "execute_result",
          "data": {
            "text/html": [
              "<div>\n",
              "<style scoped>\n",
              "    .dataframe tbody tr th:only-of-type {\n",
              "        vertical-align: middle;\n",
              "    }\n",
              "\n",
              "    .dataframe tbody tr th {\n",
              "        vertical-align: top;\n",
              "    }\n",
              "\n",
              "    .dataframe thead th {\n",
              "        text-align: right;\n",
              "    }\n",
              "</style>\n",
              "<table border=\"1\" class=\"dataframe\">\n",
              "  <thead>\n",
              "    <tr style=\"text-align: right;\">\n",
              "      <th></th>\n",
              "      <th>x</th>\n",
              "      <th>y</th>\n",
              "    </tr>\n",
              "  </thead>\n",
              "  <tbody>\n",
              "    <tr>\n",
              "      <th>0</th>\n",
              "      <td>0.038571</td>\n",
              "      <td>0.066391</td>\n",
              "    </tr>\n",
              "    <tr>\n",
              "      <th>1</th>\n",
              "      <td>0.166776</td>\n",
              "      <td>1.027483</td>\n",
              "    </tr>\n",
              "    <tr>\n",
              "      <th>2</th>\n",
              "      <td>0.183153</td>\n",
              "      <td>1.245302</td>\n",
              "    </tr>\n",
              "    <tr>\n",
              "      <th>3</th>\n",
              "      <td>0.187359</td>\n",
              "      <td>1.004781</td>\n",
              "    </tr>\n",
              "    <tr>\n",
              "      <th>4</th>\n",
              "      <td>0.243116</td>\n",
              "      <td>1.264121</td>\n",
              "    </tr>\n",
              "    <tr>\n",
              "      <th>5</th>\n",
              "      <td>0.289299</td>\n",
              "      <td>0.498330</td>\n",
              "    </tr>\n",
              "    <tr>\n",
              "      <th>6</th>\n",
              "      <td>0.342805</td>\n",
              "      <td>0.597502</td>\n",
              "    </tr>\n",
              "    <tr>\n",
              "      <th>7</th>\n",
              "      <td>0.345499</td>\n",
              "      <td>0.629410</td>\n",
              "    </tr>\n",
              "    <tr>\n",
              "      <th>8</th>\n",
              "      <td>0.386477</td>\n",
              "      <td>0.822705</td>\n",
              "    </tr>\n",
              "    <tr>\n",
              "      <th>9</th>\n",
              "      <td>0.430047</td>\n",
              "      <td>0.557581</td>\n",
              "    </tr>\n",
              "    <tr>\n",
              "      <th>10</th>\n",
              "      <td>0.484498</td>\n",
              "      <td>0.565053</td>\n",
              "    </tr>\n",
              "    <tr>\n",
              "      <th>11</th>\n",
              "      <td>0.491929</td>\n",
              "      <td>-0.393222</td>\n",
              "    </tr>\n",
              "    <tr>\n",
              "      <th>12</th>\n",
              "      <td>0.614932</td>\n",
              "      <td>-0.912892</td>\n",
              "    </tr>\n",
              "    <tr>\n",
              "      <th>13</th>\n",
              "      <td>0.638054</td>\n",
              "      <td>-1.128250</td>\n",
              "    </tr>\n",
              "    <tr>\n",
              "      <th>14</th>\n",
              "      <td>0.697736</td>\n",
              "      <td>-1.110455</td>\n",
              "    </tr>\n",
              "    <tr>\n",
              "      <th>15</th>\n",
              "      <td>0.702427</td>\n",
              "      <td>-0.570343</td>\n",
              "    </tr>\n",
              "    <tr>\n",
              "      <th>16</th>\n",
              "      <td>0.729086</td>\n",
              "      <td>-0.620209</td>\n",
              "    </tr>\n",
              "    <tr>\n",
              "      <th>17</th>\n",
              "      <td>0.873401</td>\n",
              "      <td>-0.873236</td>\n",
              "    </tr>\n",
              "    <tr>\n",
              "      <th>18</th>\n",
              "      <td>0.898007</td>\n",
              "      <td>-0.187472</td>\n",
              "    </tr>\n",
              "    <tr>\n",
              "      <th>19</th>\n",
              "      <td>0.950964</td>\n",
              "      <td>-0.025815</td>\n",
              "    </tr>\n",
              "  </tbody>\n",
              "</table>\n",
              "</div>"
            ],
            "text/plain": [
              "           x         y\n",
              "0   0.038571  0.066391\n",
              "1   0.166776  1.027483\n",
              "2   0.183153  1.245302\n",
              "3   0.187359  1.004781\n",
              "4   0.243116  1.264121\n",
              "5   0.289299  0.498330\n",
              "6   0.342805  0.597502\n",
              "7   0.345499  0.629410\n",
              "8   0.386477  0.822705\n",
              "9   0.430047  0.557581\n",
              "10  0.484498  0.565053\n",
              "11  0.491929 -0.393222\n",
              "12  0.614932 -0.912892\n",
              "13  0.638054 -1.128250\n",
              "14  0.697736 -1.110455\n",
              "15  0.702427 -0.570343\n",
              "16  0.729086 -0.620209\n",
              "17  0.873401 -0.873236\n",
              "18  0.898007 -0.187472\n",
              "19  0.950964 -0.025815"
            ]
          },
          "metadata": {},
          "execution_count": 3
        }
      ]
    },
    {
      "cell_type": "code",
      "metadata": {
        "ExecuteTime": {
          "end_time": "2017-03-10T19:32:58.021116Z",
          "start_time": "2017-03-10T14:32:58.015025-05:00"
        },
        "id": "9kZA-Zszig96"
      },
      "source": [
        "import matplotlib.pyplot as plt\n",
        "#import seaborn as sns\n",
        "\n",
        "%matplotlib inline"
      ],
      "execution_count": 4,
      "outputs": []
    },
    {
      "cell_type": "code",
      "metadata": {
        "ExecuteTime": {
          "end_time": "2017-03-10T19:32:58.921638Z",
          "start_time": "2017-03-10T14:32:58.668630-05:00"
        },
        "colab": {
          "base_uri": "https://localhost:8080/",
          "height": 279
        },
        "id": "Mejw7rpqig97",
        "outputId": "b7b67cb7-8ebb-418c-be70-9a4369f2042b"
      },
      "source": [
        "#sns.set_style('white')\n",
        "#sns.set_context('talk')\n",
        "#sns.set_palette('dark')\n",
        "\n",
        "# Plot of the noisy (sparse)\n",
        "ax = data.set_index('x')['y'].plot(ls='', marker='o', label='data')\n",
        "ax.plot(X_real, Y_real, ls='--', marker='', label='real function')\n",
        "\n",
        "ax.legend()\n",
        "ax.set(xlabel='x data', ylabel='y data');\n"
      ],
      "execution_count": 5,
      "outputs": [
        {
          "output_type": "display_data",
          "data": {
            "image/png": "[encoded data removed]",
            "text/plain": [
              "<Figure size 432x288 with 1 Axes>"
            ]
          },
          "metadata": {
            "needs_background": "light"
          }
        }
      ]
    },
    {
      "cell_type": "markdown",
      "metadata": {
        "id": "VqttarKsig98"
      },
      "source": [
        "## Question 2\n",
        "\n",
        "\n",
        "* Using the `PolynomialFeatures` class from Scikit-learn's preprocessing library, create 20th order polynomial features.\n",
        "* Fit this data using linear regression. \n",
        "* Plot the resulting predicted value compared to the calculated data.\n",
        "\n",
        "Note that `PolynomialFeatures` requires either a dataframe (with one column, not a Series) or a 2D array of dimension (`X`, 1), where `X` is the length."
      ]
    },
    {
      "cell_type": "code",
      "metadata": {
        "ExecuteTime": {
          "end_time": "2017-03-10T19:57:23.344020Z",
          "start_time": "2017-03-10T14:57:23.057905-05:00"
        },
        "colab": {
          "base_uri": "https://localhost:8080/",
          "height": 279
        },
        "id": "XL_2_W4Xig98",
        "outputId": "9530800b-0592-4bf8-e8ae-2d6993cd39cd"
      },
      "source": [
        "from sklearn.preprocessing import PolynomialFeatures\n",
        "from sklearn.linear_model import LinearRegression\n",
        "\n",
        "# Setup the polynomial features\n",
        "degree = 20\n",
        "pf = PolynomialFeatures(degree)\n",
        "lr = LinearRegression()\n",
        "\n",
        "# Extract the X- and Y- data from the dataframe \n",
        "X_data = data[['x']]\n",
        "Y_data = data['y']\n",
        "\n",
        "# Create the features and fit the model\n",
        "X_poly = pf.fit_transform(X_data)\n",
        "lr = lr.fit(X_poly, Y_data)\n",
        "Y_pred = lr.predict(X_poly)\n",
        "\n",
        "# Plot the result\n",
        "plt.plot(X_data, Y_data, marker='o', ls='', label='data', alpha=1)\n",
        "plt.plot(X_real, Y_real, ls='--', label='real function')\n",
        "plt.plot(X_data, Y_pred, marker='^', alpha=.5, label='predictions w/ polynomial features')\n",
        "plt.legend()\n",
        "ax = plt.gca()\n",
        "ax.set(xlabel='x data', ylabel='y data');\n"
      ],
      "execution_count": 6,
      "outputs": [
        {
          "output_type": "display_data",
          "data": {
            "image/png": "[encoded data removed]",
            "text/plain": [
              "<Figure size 432x288 with 1 Axes>"
            ]
          },
          "metadata": {
            "needs_background": "light"
          }
        }
      ]
    },
    {
      "cell_type": "markdown",
      "metadata": {
        "id": "7TMFzjagFuCU"
      },
      "source": [
        "#Try with other polynomial orders. What happens? Why?"
      ]
    },
    {
      "cell_type": "code",
      "metadata": {
        "colab": {
          "base_uri": "https://localhost:8080/",
          "height": 279
        },
        "id": "_DnMZckqISN9",
        "outputId": "e82564a9-9e96-40e8-821e-a843ced8296c"
      },
      "source": [
        "# Setup the polynomial features\n",
        "degree = 5\n",
        "pf = PolynomialFeatures(degree)\n",
        "lr = LinearRegression()\n",
        "\n",
        "# Extract the X- and Y- data from the dataframe \n",
        "X_data = data[['x']]\n",
        "Y_data = data['y']\n",
        "\n",
        "# Create the features and fit the model\n",
        "X_poly = pf.fit_transform(X_data)\n",
        "lr = lr.fit(X_poly, Y_data)\n",
        "Y_pred = lr.predict(X_poly)\n",
        "\n",
        "# Plot the result\n",
        "plt.plot(X_data, Y_data, marker='o', ls='', label='data', alpha=1)\n",
        "plt.plot(X_real, Y_real, ls='--', label='real function')\n",
        "plt.plot(X_data, Y_pred, marker='^', alpha=.5, label='predictions w/ polynomial features')\n",
        "plt.legend()\n",
        "ax = plt.gca()\n",
        "ax.set(xlabel='x data', ylabel='y data');"
      ],
      "execution_count": 7,
      "outputs": [
        {
          "output_type": "display_data",
          "data": {
            "image/png": "[encoded data removed]",
            "text/plain": [
              "<Figure size 432x288 with 1 Axes>"
            ]
          },
          "metadata": {
            "needs_background": "light"
          }
        }
      ]
    },
    {
      "cell_type": "markdown",
      "metadata": {
        "id": "VlHC9ZcZImrt"
      },
      "source": [
        "*With 5 polynomial fetures the predictions are closer to the real function.<br>\n",
        "That's because 5 polynomial fetures reflect the data behavior better than 20 polynomial fetures which cause to overfitting,<br>\n",
        "20 features it is too powerful model.<br>\n",
        "For further reading: [Why too many features cause overfitting](https://stackoverflow.com/questions/37776333/why-too-many-features-cause-over-fitting)?*"
      ]
    },
    {
      "cell_type": "markdown",
      "metadata": {
        "id": "2him5ste1uBy"
      },
      "source": [
        "#Note that X_poly is an expansion of X, i.e. we are using much more features and therefore more complex models. What could be the problem?"
      ]
    },
    {
      "cell_type": "code",
      "metadata": {
        "colab": {
          "base_uri": "https://localhost:8080/"
        },
        "id": "mYj26cKX14jU",
        "outputId": "0c005cc1-2a68-4155-dcae-73997c1c76fa"
      },
      "source": [
        "# Setup the polynomial features\n",
        "degree = 20\n",
        "pf = PolynomialFeatures(degree)\n",
        "lr = LinearRegression()\n",
        "\n",
        "# Extract the X- and Y- data from the dataframe \n",
        "X_data = data[['x']]\n",
        "Y_data = data['y']\n",
        "\n",
        "# Create the features and fit the model\n",
        "X_poly = pf.fit_transform(X_data)\n",
        "lr = lr.fit(X_poly, Y_data)\n",
        "Y_pred = lr.predict(X_poly)\n",
        "\n",
        "print(X_data[:3])\n",
        "print(X_poly[:3])"
      ],
      "execution_count": 11,
      "outputs": [
        {
          "output_type": "stream",
          "name": "stdout",
          "text": [
            "          x\n",
            "0  0.038571\n",
            "1  0.166776\n",
            "2  0.183153\n",
            "[[1.00000000e+00 3.85709232e-02 1.48771611e-03 5.73825839e-05\n",
            "  2.21329923e-06 8.53689947e-08 3.29276094e-09 1.27004829e-10\n",
            "  4.89869350e-12 1.88947131e-13 7.28786526e-15 2.81099691e-16\n",
            "  1.08422746e-17 4.18196540e-19 1.61302266e-20 6.22157731e-22\n",
            "  2.39971980e-23 9.25594081e-25 3.57010182e-26 1.37702123e-27\n",
            "  5.31129800e-29]\n",
            " [1.00000000e+00 1.66776347e-01 2.78143498e-02 4.63877563e-03\n",
            "  7.73638053e-04 1.29024528e-04 2.15182394e-05 3.58873335e-06\n",
            "  5.98515837e-07 9.98182846e-08 1.66473288e-08 2.77638068e-09\n",
            "  4.63034626e-10 7.72232233e-11 1.28790070e-11 2.14791374e-12\n",
            "  3.58221207e-13 5.97428241e-14 9.96368994e-15 1.66170781e-15\n",
            "  2.77133557e-16]\n",
            " [1.00000000e+00 1.83152734e-01 3.35449238e-02 6.14384450e-03\n",
            "  1.12526192e-03 2.06094796e-04 3.77468253e-05 6.91343423e-06\n",
            "  1.26621438e-06 2.31910625e-07 4.24750649e-08 7.77942425e-09\n",
            "  1.42482282e-09 2.60960194e-10 4.77955729e-11 8.75388984e-12\n",
            "  1.60329885e-12 2.93648568e-13 5.37825379e-14 9.85041885e-15\n",
            "  1.80413114e-15]]\n"
          ]
        }
      ]
    },
    {
      "cell_type": "markdown",
      "metadata": {
        "id": "a-tSV-dOQTWA"
      },
      "source": [
        "*The problem could be overfitting.*"
      ]
    },
    {
      "cell_type": "markdown",
      "metadata": {
        "id": "-mrV50ZVig99"
      },
      "source": [
        "## Let's see the full 20 degree polynomial overfitting (note the high error on unseen data)"
      ]
    },
    {
      "cell_type": "code",
      "metadata": {
        "id": "2aG2O65Qig99"
      },
      "source": [
        "X_poly_20 = pf.fit_transform(X_real.reshape(-1, 1))\n",
        "Y_pred_real = lr.predict(X_poly_20)"
      ],
      "execution_count": 12,
      "outputs": []
    },
    {
      "cell_type": "code",
      "metadata": {
        "colab": {
          "base_uri": "https://localhost:8080/",
          "height": 279
        },
        "id": "W0tuVeTSig99",
        "outputId": "bfba9e57-6042-4280-bb56-05e036a63673"
      },
      "source": [
        "\n",
        "\n",
        "# Plot the result\n",
        "plt.plot(X_data, Y_data, marker='o', ls='', label='data', alpha=1)\n",
        "plt.plot(X_real, Y_real, ls='--', label='real function')\n",
        "plt.plot(X_real[20:-30], Y_pred_real[20:-30], marker='^', alpha=.5, label='predictions w/ polynomial features')\n",
        "plt.legend()\n",
        "ax = plt.gca()\n",
        "ax.set(xlabel='x data', ylabel='y data');\n",
        "\n"
      ],
      "execution_count": 13,
      "outputs": [
        {
          "output_type": "display_data",
          "data": {
            "image/png": "[encoded data removed]",
            "text/plain": [
              "<Figure size 432x288 with 1 Axes>"
            ]
          },
          "metadata": {
            "needs_background": "light"
          }
        }
      ]
    },
    {
      "cell_type": "markdown",
      "metadata": {
        "id": "k9SIOIDuig9-"
      },
      "source": [
        "## Question 3\n",
        "\n",
        "* Perform the regression on using the data with polynomial features using ridge regression ($\\alpha$=0.001) and lasso regression ($\\alpha$=0.0001). \n",
        "* Plot the results, as was done in Question 1. \n",
        "* Also plot the magnitude of the coefficients obtained from these regressions, and compare them to those obtained from linear regression in the previous question. The linear regression coefficients will likely need a separate plot (or their own y-axis) due to their large magnitude. \n",
        "\n",
        "What does the comparatively large magnitude of the data tell you about the role of regularization?"
      ]
    },
    {
      "cell_type": "code",
      "metadata": {
        "ExecuteTime": {
          "end_time": "2017-03-10T20:11:47.526408Z",
          "start_time": "2017-03-10T15:11:47.216623-05:00"
        },
        "colab": {
          "base_uri": "https://localhost:8080/",
          "height": 279
        },
        "id": "qRMO4-B8ig9-",
        "outputId": "f05cc4e8-a765-4ce7-8217-214ecc1d4351"
      },
      "source": [
        "# Mute the sklearn warning about regularization\n",
        "import warnings\n",
        "warnings.filterwarnings('ignore', module='sklearn')\n",
        "\n",
        "from sklearn.linear_model import Ridge, Lasso\n",
        "\n",
        "X_poly = pf.fit_transform(X_data)\n",
        "lr = lr.fit(X_poly, Y_data)\n",
        "Y_pred = lr.predict(X_poly)\n",
        "\n",
        "# The ridge regression model\n",
        "rr = Ridge(alpha=0.001)\n",
        "rr = rr.fit(X_poly, Y_data)\n",
        "Y_pred_rr = rr.predict(X_poly)\n",
        "\n",
        "# The lasso regression model\n",
        "lassor = Lasso(alpha=0.0001)\n",
        "lassor = lassor.fit(X_poly, Y_data)\n",
        "Y_pred_lr = lassor.predict(X_poly)\n",
        "\n",
        "# The plot of the predicted values\n",
        "plt.plot(X_data, Y_data, marker='o', ls='', label='data')\n",
        "plt.plot(X_real, Y_real, ls='--', label='real function')\n",
        "plt.plot(X_data, Y_pred, label='linear regression', marker='^', alpha=.5)\n",
        "plt.plot(X_data, Y_pred_rr, label='ridge regression', marker='^', alpha=.5)\n",
        "plt.plot(X_data, Y_pred_lr, label='lasso regression', marker='^', alpha=.5)\n",
        "\n",
        "plt.legend()\n",
        "\n",
        "ax = plt.gca()\n",
        "ax.set(xlabel='x data', ylabel='y data');"
      ],
      "execution_count": null,
      "outputs": [
        {
          "output_type": "display_data",
          "data": {
            "image/png": "[encoded data removed]",
            "text/plain": [
              "<Figure size 432x288 with 1 Axes>"
            ]
          },
          "metadata": {
            "needs_background": "light"
          }
        }
      ]
    },
    {
      "cell_type": "markdown",
      "metadata": {
        "id": "5M010hG-Ghov"
      },
      "source": [
        "#Do the regularized models fit all the training points? Why?"
      ]
    },
    {
      "cell_type": "markdown",
      "metadata": {
        "id": "t2XdbtCQHMO2"
      },
      "source": [
        "#Repeat cells 9 and 10 in Question 2 using the regularized models. What happens? Why?"
      ]
    },
    {
      "cell_type": "code",
      "metadata": {
        "id": "5Z0E2iBGG6e5"
      },
      "source": [
        "# Your code here"
      ],
      "execution_count": null,
      "outputs": []
    },
    {
      "cell_type": "code",
      "metadata": {
        "colab": {
          "base_uri": "https://localhost:8080/",
          "height": 297
        },
        "id": "iD-gdGbqig9_",
        "outputId": "47c6b7de-ba60-4379-a025-417913e498e6"
      },
      "source": [
        "# let's look at the absolute value of coefficients for each model\n",
        "\n",
        "coefficients = pd.DataFrame()\n",
        "coefficients['linear regression'] = lr.coef_.ravel()\n",
        "coefficients['ridge regression'] = rr.coef_.ravel()\n",
        "coefficients['lasso regression'] = lassor.coef_.ravel()\n",
        "coefficients = coefficients.applymap(abs)\n",
        "\n",
        "coefficients.describe()  # Huge difference in scale between non-regularized vs regularized regression"
      ],
      "execution_count": null,
      "outputs": [
        {
          "output_type": "execute_result",
          "data": {
            "text/html": [
              "<div>\n",
              "<style scoped>\n",
              "    .dataframe tbody tr th:only-of-type {\n",
              "        vertical-align: middle;\n",
              "    }\n",
              "\n",
              "    .dataframe tbody tr th {\n",
              "        vertical-align: top;\n",
              "    }\n",
              "\n",
              "    .dataframe thead th {\n",
              "        text-align: right;\n",
              "    }\n",
              "</style>\n",
              "<table border=\"1\" class=\"dataframe\">\n",
              "  <thead>\n",
              "    <tr style=\"text-align: right;\">\n",
              "      <th></th>\n",
              "      <th>linear regression</th>\n",
              "      <th>ridge regression</th>\n",
              "      <th>lasso regression</th>\n",
              "    </tr>\n",
              "  </thead>\n",
              "  <tbody>\n",
              "    <tr>\n",
              "      <th>count</th>\n",
              "      <td>2.100000e+01</td>\n",
              "      <td>21.000000</td>\n",
              "      <td>21.000000</td>\n",
              "    </tr>\n",
              "    <tr>\n",
              "      <th>mean</th>\n",
              "      <td>5.761504e+13</td>\n",
              "      <td>2.169397</td>\n",
              "      <td>2.167284</td>\n",
              "    </tr>\n",
              "    <tr>\n",
              "      <th>std</th>\n",
              "      <td>6.017426e+13</td>\n",
              "      <td>2.900278</td>\n",
              "      <td>4.706731</td>\n",
              "    </tr>\n",
              "    <tr>\n",
              "      <th>min</th>\n",
              "      <td>1.610728e+07</td>\n",
              "      <td>0.000000</td>\n",
              "      <td>0.000000</td>\n",
              "    </tr>\n",
              "    <tr>\n",
              "      <th>25%</th>\n",
              "      <td>3.402091e+12</td>\n",
              "      <td>0.467578</td>\n",
              "      <td>0.000000</td>\n",
              "    </tr>\n",
              "    <tr>\n",
              "      <th>50%</th>\n",
              "      <td>3.614874e+13</td>\n",
              "      <td>1.017272</td>\n",
              "      <td>0.252181</td>\n",
              "    </tr>\n",
              "    <tr>\n",
              "      <th>75%</th>\n",
              "      <td>1.068696e+14</td>\n",
              "      <td>2.883507</td>\n",
              "      <td>1.641353</td>\n",
              "    </tr>\n",
              "    <tr>\n",
              "      <th>max</th>\n",
              "      <td>1.652485e+14</td>\n",
              "      <td>12.429635</td>\n",
              "      <td>20.176708</td>\n",
              "    </tr>\n",
              "  </tbody>\n",
              "</table>\n",
              "</div>"
            ],
            "text/plain": [
              "       linear regression  ridge regression  lasso regression\n",
              "count       2.100000e+01         21.000000         21.000000\n",
              "mean        5.761504e+13          2.169397          2.167284\n",
              "std         6.017426e+13          2.900278          4.706731\n",
              "min         1.610728e+07          0.000000          0.000000\n",
              "25%         3.402091e+12          0.467578          0.000000\n",
              "50%         3.614874e+13          1.017272          0.252181\n",
              "75%         1.068696e+14          2.883507          1.641353\n",
              "max         1.652485e+14         12.429635         20.176708"
            ]
          },
          "metadata": {},
          "execution_count": 18
        }
      ]
    },
    {
      "cell_type": "code",
      "metadata": {
        "ExecuteTime": {
          "end_time": "2017-03-10T20:39:37.722464Z",
          "start_time": "2017-03-10T15:39:37.347911-05:00"
        },
        "colab": {
          "base_uri": "https://localhost:8080/",
          "height": 290
        },
        "id": "8BwriIy_ig9_",
        "outputId": "1dd96932-fc3c-4ad8-8b50-de2efeed1cce"
      },
      "source": [
        "#colors = sns.color_palette()\n",
        "\n",
        "# Setup the dual y-axes\n",
        "ax1 = plt.axes()\n",
        "ax2 = ax1.twinx()\n",
        "\n",
        "# Plot the linear regression data\n",
        "ax1.plot(lr.coef_.ravel(), \n",
        "         color='b', marker='o', label='linear regression')\n",
        "\n",
        "# Plot the regularization data sets\n",
        "ax2.plot(rr.coef_.ravel(), \n",
        "         color='r', marker='o', label='ridge regression')\n",
        "\n",
        "ax2.plot(lassor.coef_.ravel(), \n",
        "         color='g', marker='o', label='lasso regression')\n",
        "\n",
        "# Customize axes scales\n",
        "ax1.set_ylim(-2e14, 2e14)\n",
        "ax2.set_ylim(-25, 25)\n",
        "\n",
        "# Combine the legends\n",
        "h1, l1 = ax1.get_legend_handles_labels()\n",
        "h2, l2 = ax2.get_legend_handles_labels()\n",
        "ax1.legend(h1+h2, l1+l2)\n",
        "\n",
        "ax1.set(xlabel='coefficients',ylabel='linear regression')\n",
        "ax2.set(ylabel='ridge and lasso regression')\n",
        "\n",
        "ax1.set_xticks(range(len(lr.coef_)));"
      ],
      "execution_count": null,
      "outputs": [
        {
          "output_type": "display_data",
          "data": {
            "image/png": "[encoded data removed]",
            "text/plain": [
              "<Figure size 432x288 with 2 Axes>"
            ]
          },
          "metadata": {
            "needs_background": "light"
          }
        }
      ]
    },
    {
      "cell_type": "markdown",
      "metadata": {
        "id": "FQBf7mcZig-A"
      },
      "source": [
        "## Question 4\n",
        "\n",
        "For the remaining questions, we will be working with the [data set](https://www.kaggle.com/c/house-prices-advanced-regression-techniques) from last lesson, which is based on housing prices in Ames, Iowa. There are an extensive number of features--see the exercises from week three for a discussion of these features.\n",
        "\n",
        "To begin:\n",
        "\n",
        "* Import the data with Pandas, remove any null values, and one hot encode categoricals. Either Scikit-learn's feature encoders or Pandas `get_dummies` method can be used.\n",
        "* Split the data into train and test sets. \n",
        "* Log transform skewed features. \n",
        "* Scaling can be attempted, although it can be interesting to see how well regularization works without scaling features."
      ]
    },
    {
      "cell_type": "code",
      "metadata": {
        "ExecuteTime": {
          "end_time": "2017-03-10T17:01:04.174800Z",
          "start_time": "2017-03-10T12:01:04.142735-05:00"
        },
        "id": "n-s9LvQzig-A"
      },
      "source": [
        "filepath = '/content/gdrive/MyDrive/Machon Lev/ML_5782/Course_materials/Intel-ML101-Class4/data/Ames_Housing_Sales.csv'\n",
        "data = pd.read_csv(filepath, sep=',')"
      ],
      "execution_count": null,
      "outputs": []
    },
    {
      "cell_type": "markdown",
      "metadata": {
        "ExecuteTime": {
          "end_time": "2017-03-10T02:40:49.956043Z",
          "start_time": "2017-03-09T21:40:49.950878-05:00"
        },
        "id": "BhPNFb0lig-A"
      },
      "source": [
        "Create a list of categorial data and one-hot encode. Pandas one-hot encoder (`get_dummies`) works well with data that is defined as a categorical."
      ]
    },
    {
      "cell_type": "code",
      "metadata": {
        "ExecuteTime": {
          "end_time": "2017-03-10T17:01:05.304547Z",
          "start_time": "2017-03-10T12:01:05.231567-05:00"
        },
        "id": "djutnVTPig-A"
      },
      "source": [
        "# Get a Pd.Series consisting of all the string categoricals\n",
        "one_hot_encode_cols = data.dtypes[data.dtypes == np.object]  # filtering by string categoricals\n",
        "one_hot_encode_cols = one_hot_encode_cols.index.tolist()  # list of categorical fields\n",
        "\n",
        "# Here we see another way of one-hot-encoding:\n",
        "# Encode these columns as categoricals so one hot encoding works on split data (if desired)\n",
        "for col in one_hot_encode_cols:\n",
        "    data[col] = pd.Categorical(data[col])\n",
        "\n",
        "# Do the one hot encoding\n",
        "data = pd.get_dummies(data, columns=one_hot_encode_cols)"
      ],
      "execution_count": null,
      "outputs": []
    },
    {
      "cell_type": "markdown",
      "metadata": {
        "id": "rC9om9i2ig-B"
      },
      "source": [
        "Next, split the data in train and test data sets."
      ]
    },
    {
      "cell_type": "code",
      "metadata": {
        "ExecuteTime": {
          "end_time": "2017-03-10T17:01:06.260979Z",
          "start_time": "2017-03-10T12:01:06.244259-05:00"
        },
        "id": "8RQcihVxig-B"
      },
      "source": [
        "from sklearn.model_selection import train_test_split\n",
        "\n",
        "train, test = train_test_split(data, test_size=0.3, random_state=42)"
      ],
      "execution_count": null,
      "outputs": []
    },
    {
      "cell_type": "markdown",
      "metadata": {
        "id": "hmH_H2gGig-B"
      },
      "source": [
        "There are a number of columns that have skewed features--a log transformation can be applied to them. Note that this includes the `SalePrice`, our predictor. However, let's keep that one as is."
      ]
    },
    {
      "cell_type": "code",
      "metadata": {
        "id": "2E7ZfvYRig-B"
      },
      "source": [
        "# Create a list of float colums to check for skewing\n",
        "mask = data.dtypes == np.float\n",
        "float_cols = data.columns[mask]"
      ],
      "execution_count": null,
      "outputs": []
    },
    {
      "cell_type": "code",
      "metadata": {
        "ExecuteTime": {
          "end_time": "2017-03-10T17:01:10.689590Z",
          "start_time": "2017-03-10T12:01:10.609841-05:00"
        },
        "colab": {
          "base_uri": "https://localhost:8080/",
          "height": 669
        },
        "id": "riaAn32Wig-B",
        "outputId": "f446863c-34ac-4fce-e7e5-a7d306e7ea4d"
      },
      "source": [
        "skew_limit = 0.75\n",
        "skew_vals = train[float_cols].skew()\n",
        "\n",
        "skew_cols = (skew_vals\n",
        "             .sort_values(ascending=False)\n",
        "             .to_frame()\n",
        "             .rename(columns={0:'Skew'})\n",
        "             .query('abs(Skew) > {0}'.format(skew_limit)))\n",
        "\n",
        "skew_cols"
      ],
      "execution_count": null,
      "outputs": [
        {
          "output_type": "execute_result",
          "data": {
            "text/html": [
              "<div>\n",
              "<style scoped>\n",
              "    .dataframe tbody tr th:only-of-type {\n",
              "        vertical-align: middle;\n",
              "    }\n",
              "\n",
              "    .dataframe tbody tr th {\n",
              "        vertical-align: top;\n",
              "    }\n",
              "\n",
              "    .dataframe thead th {\n",
              "        text-align: right;\n",
              "    }\n",
              "</style>\n",
              "<table border=\"1\" class=\"dataframe\">\n",
              "  <thead>\n",
              "    <tr style=\"text-align: right;\">\n",
              "      <th></th>\n",
              "      <th>Skew</th>\n",
              "    </tr>\n",
              "  </thead>\n",
              "  <tbody>\n",
              "    <tr>\n",
              "      <th>MiscVal</th>\n",
              "      <td>26.915364</td>\n",
              "    </tr>\n",
              "    <tr>\n",
              "      <th>PoolArea</th>\n",
              "      <td>15.777668</td>\n",
              "    </tr>\n",
              "    <tr>\n",
              "      <th>LotArea</th>\n",
              "      <td>11.501694</td>\n",
              "    </tr>\n",
              "    <tr>\n",
              "      <th>LowQualFinSF</th>\n",
              "      <td>11.210638</td>\n",
              "    </tr>\n",
              "    <tr>\n",
              "      <th>3SsnPorch</th>\n",
              "      <td>10.150612</td>\n",
              "    </tr>\n",
              "    <tr>\n",
              "      <th>ScreenPorch</th>\n",
              "      <td>4.599803</td>\n",
              "    </tr>\n",
              "    <tr>\n",
              "      <th>BsmtFinSF2</th>\n",
              "      <td>4.466378</td>\n",
              "    </tr>\n",
              "    <tr>\n",
              "      <th>EnclosedPorch</th>\n",
              "      <td>3.218303</td>\n",
              "    </tr>\n",
              "    <tr>\n",
              "      <th>LotFrontage</th>\n",
              "      <td>3.138032</td>\n",
              "    </tr>\n",
              "    <tr>\n",
              "      <th>MasVnrArea</th>\n",
              "      <td>2.492814</td>\n",
              "    </tr>\n",
              "    <tr>\n",
              "      <th>OpenPorchSF</th>\n",
              "      <td>2.295489</td>\n",
              "    </tr>\n",
              "    <tr>\n",
              "      <th>SalePrice</th>\n",
              "      <td>2.106910</td>\n",
              "    </tr>\n",
              "    <tr>\n",
              "      <th>BsmtFinSF1</th>\n",
              "      <td>2.010766</td>\n",
              "    </tr>\n",
              "    <tr>\n",
              "      <th>TotalBsmtSF</th>\n",
              "      <td>1.979164</td>\n",
              "    </tr>\n",
              "    <tr>\n",
              "      <th>1stFlrSF</th>\n",
              "      <td>1.539692</td>\n",
              "    </tr>\n",
              "    <tr>\n",
              "      <th>GrLivArea</th>\n",
              "      <td>1.455564</td>\n",
              "    </tr>\n",
              "    <tr>\n",
              "      <th>WoodDeckSF</th>\n",
              "      <td>1.334388</td>\n",
              "    </tr>\n",
              "    <tr>\n",
              "      <th>BsmtUnfSF</th>\n",
              "      <td>0.900308</td>\n",
              "    </tr>\n",
              "    <tr>\n",
              "      <th>GarageArea</th>\n",
              "      <td>0.838422</td>\n",
              "    </tr>\n",
              "    <tr>\n",
              "      <th>2ndFlrSF</th>\n",
              "      <td>0.773655</td>\n",
              "    </tr>\n",
              "  </tbody>\n",
              "</table>\n",
              "</div>"
            ],
            "text/plain": [
              "                    Skew\n",
              "MiscVal        26.915364\n",
              "PoolArea       15.777668\n",
              "LotArea        11.501694\n",
              "LowQualFinSF   11.210638\n",
              "3SsnPorch      10.150612\n",
              "ScreenPorch     4.599803\n",
              "BsmtFinSF2      4.466378\n",
              "EnclosedPorch   3.218303\n",
              "LotFrontage     3.138032\n",
              "MasVnrArea      2.492814\n",
              "OpenPorchSF     2.295489\n",
              "SalePrice       2.106910\n",
              "BsmtFinSF1      2.010766\n",
              "TotalBsmtSF     1.979164\n",
              "1stFlrSF        1.539692\n",
              "GrLivArea       1.455564\n",
              "WoodDeckSF      1.334388\n",
              "BsmtUnfSF       0.900308\n",
              "GarageArea      0.838422\n",
              "2ndFlrSF        0.773655"
            ]
          },
          "metadata": {},
          "execution_count": 28
        }
      ]
    },
    {
      "cell_type": "markdown",
      "metadata": {
        "id": "-Dg6fNv0ig-B"
      },
      "source": [
        "Transform all the columns where the skew is greater than 0.75, excluding \"SalePrice\"."
      ]
    },
    {
      "cell_type": "code",
      "metadata": {
        "scrolled": true,
        "colab": {
          "base_uri": "https://localhost:8080/",
          "height": 370
        },
        "id": "hr2Uf175ig-B",
        "outputId": "8c40e45f-0eb4-4359-ff11-bfd52ecd63fd"
      },
      "source": [
        "# OPTIONAL: Let's look at what happens to one of these features, when we apply np.log1p visually.\n",
        "\n",
        "field = \"BsmtFinSF1\"\n",
        "fig, (ax_before, ax_after) = plt.subplots(1, 2, figsize=(10, 5))\n",
        "train[field].hist(ax=ax_before)\n",
        "train[field].apply(np.log1p).hist(ax=ax_after)\n",
        "ax_before.set(title='before np.log1p', ylabel='frequency', xlabel='value')\n",
        "ax_after.set(title='after np.log1p', ylabel='frequency', xlabel='value')\n",
        "fig.suptitle('Field \"{}\"'.format(field));\n",
        "# a little bit better"
      ],
      "execution_count": null,
      "outputs": [
        {
          "output_type": "display_data",
          "data": {
            "image/png": "[encoded data removed]",
            "text/plain": [
              "<Figure size 720x360 with 2 Axes>"
            ]
          },
          "metadata": {
            "needs_background": "light"
          }
        }
      ]
    },
    {
      "cell_type": "code",
      "metadata": {
        "ExecuteTime": {
          "end_time": "2017-03-10T17:01:15.654621Z",
          "start_time": "2017-03-10T12:01:13.780771-05:00"
        },
        "collapsed": true,
        "id": "UIdpqRowig-C"
      },
      "source": [
        "# Mute the setting wtih a copy warnings\n",
        "pd.options.mode.chained_assignment = None\n",
        "\n",
        "for col in skew_cols.index.tolist():\n",
        "    if col == \"SalePrice\":\n",
        "        continue\n",
        "    train[col] = np.log1p(train[col])\n",
        "    test[col]  = test[col].apply(np.log1p)  # same thing"
      ],
      "execution_count": null,
      "outputs": []
    },
    {
      "cell_type": "markdown",
      "metadata": {
        "id": "XXbE853Gig-C"
      },
      "source": [
        "Separate features from predictor."
      ]
    },
    {
      "cell_type": "code",
      "metadata": {
        "ExecuteTime": {
          "end_time": "2017-03-10T17:01:21.972625Z",
          "start_time": "2017-03-10T12:01:21.957050-05:00"
        },
        "id": "ALtOmwAwig-C"
      },
      "source": [
        "feature_cols = [x for x in train.columns if x != 'SalePrice']\n",
        "X_train = train[feature_cols]\n",
        "y_train = train['SalePrice']\n",
        "\n",
        "X_test  = test[feature_cols]\n",
        "y_test  = test['SalePrice']"
      ],
      "execution_count": null,
      "outputs": []
    },
    {
      "cell_type": "markdown",
      "metadata": {
        "ExecuteTime": {
          "end_time": "2017-02-21T09:11:03.256453",
          "start_time": "2017-02-21T09:11:03.241117"
        },
        "id": "6remDYkjig-C"
      },
      "source": [
        "## Question 5\n",
        "\n",
        "* Write a function **`rmse`** that takes in truth and prediction values and returns the root-mean-squared error. Use sklearn's `mean_squared_error`.  \n"
      ]
    },
    {
      "cell_type": "code",
      "metadata": {
        "id": "jL2qzXUbig-C"
      },
      "source": [
        "from sklearn.metrics import mean_squared_error\n",
        "\n",
        "\n",
        "def rmse(ytrue, ypredicted):\n",
        "    return np.sqrt(mean_squared_error(ytrue, ypredicted))"
      ],
      "execution_count": null,
      "outputs": []
    },
    {
      "cell_type": "markdown",
      "metadata": {
        "id": "FXrBJrcpig-C"
      },
      "source": [
        "* Fit a basic linear regression model\n",
        "* print the root-mean-squared error for this model\n",
        "* plot the predicted vs actual sale price based on the model.  "
      ]
    },
    {
      "cell_type": "code",
      "metadata": {
        "colab": {
          "base_uri": "https://localhost:8080/"
        },
        "id": "bN0GnWkRig-D",
        "outputId": "bfc9d33c-2037-4f55-a3de-83e2fff3abc1"
      },
      "source": [
        "from sklearn.linear_model import LinearRegression\n",
        "\n",
        "linearRegression = LinearRegression().fit(X_train, y_train)\n",
        "\n",
        "linearRegression_rmse = rmse(y_test, linearRegression.predict(X_test))\n",
        "\n",
        "print(linearRegression_rmse)"
      ],
      "execution_count": null,
      "outputs": [
        {
          "output_type": "stream",
          "name": "stdout",
          "text": [
            "306369.68342319387\n"
          ]
        }
      ]
    },
    {
      "cell_type": "code",
      "metadata": {
        "colab": {
          "base_uri": "https://localhost:8080/",
          "height": 404
        },
        "id": "Y83pPRPFig-D",
        "outputId": "c81e75fe-2369-4ff9-82e1-c4b8a60e10e3"
      },
      "source": [
        "f = plt.figure(figsize=(6,6))\n",
        "ax = plt.axes()\n",
        "\n",
        "ax.plot(y_test, linearRegression.predict(X_test), \n",
        "         marker='o', ls='', ms=3.0)\n",
        "\n",
        "lim = (0, y_test.max())\n",
        "\n",
        "ax.set(xlabel='Actual Price', \n",
        "       ylabel='Predicted Price', \n",
        "       xlim=lim,\n",
        "       ylim=lim,\n",
        "       title='Linear Regression Results');"
      ],
      "execution_count": null,
      "outputs": [
        {
          "output_type": "display_data",
          "data": {
            "image/png": "[encoded data removed]",
            "text/plain": [
              "<Figure size 432x432 with 1 Axes>"
            ]
          },
          "metadata": {
            "needs_background": "light"
          }
        }
      ]
    },
    {
      "cell_type": "markdown",
      "metadata": {
        "id": "VuLHPczqig-D"
      },
      "source": [
        "## Question 6\n",
        "\n",
        "Ridge regression uses L2 normalization to reduce the magnitude of the coefficients. This can be helpful in situations where there is high variance. The regularization functions in Scikit-learn each contain versions that have cross-validation built in.\n",
        "\n",
        "* Fit a regular (non-cross validated) Ridge model to a range of $\\alpha$ values and plot the RMSE using the cross validated error function you created above.\n",
        "* Use $$[0.005, 0.05, 0.1, 0.3, 1, 3, 5, 10, 15, 30, 80]$$ as the range of alphas.\n",
        "* Then repeat the fitting of the Ridge models using the range of $\\alpha$ values from the prior section. Compare the results."
      ]
    },
    {
      "cell_type": "markdown",
      "metadata": {
        "id": "mLqBZdYYig-D"
      },
      "source": [
        "Now for the `RidgeCV` method. It's not possible to get the alpha values for the models that weren't selected, unfortunately. The resulting error values and $\\alpha$ values are very similar to those obtained above."
      ]
    },
    {
      "cell_type": "code",
      "metadata": {
        "ExecuteTime": {
          "end_time": "2017-02-21T09:48:27.914740",
          "start_time": "2017-02-21T09:48:27.293957"
        },
        "colab": {
          "base_uri": "https://localhost:8080/"
        },
        "id": "fnTwVLN3ig-D",
        "outputId": "4c310780-9e3c-4a2e-c3b3-8a4c79988095"
      },
      "source": [
        "from sklearn.linear_model import RidgeCV\n",
        "\n",
        "alphas = [0.005, 0.05, 0.1, 0.3, 1, 3, 5, 10, 15, 30, 80]\n",
        "\n",
        "ridgeCV = RidgeCV(alphas=alphas, \n",
        "                  cv=4).fit(X_train, y_train)\n",
        "\n",
        "ridgeCV_rmse = rmse(y_test, ridgeCV.predict(X_test))\n",
        "\n",
        "print(ridgeCV.alpha_, ridgeCV_rmse)"
      ],
      "execution_count": null,
      "outputs": [
        {
          "output_type": "stream",
          "name": "stdout",
          "text": [
            "15.0 32169.17620567245\n"
          ]
        }
      ]
    },
    {
      "cell_type": "markdown",
      "metadata": {
        "id": "MN0GRuPKig-E"
      },
      "source": [
        "## Question 7\n",
        "\n",
        "\n",
        "Much like the `RidgeCV` function, there is also a `LassoCV` function that uses an L1 regularization function and cross-validation. L1 regularization will selectively shrink some coefficients, effectively performing feature elimination.\n",
        "\n",
        "The `LassoCV` function does not allow the scoring function to be set. However, the custom error function (`rmse`) created above can be used to evaluate the error on the final model.\n",
        "\n",
        "Similarly, there is also an elastic net function with cross validation, `ElasticNetCV`, which is a combination of L2 and L1 regularization.\n",
        "\n",
        "* Fit a Lasso model using cross validation and determine the optimum value for $\\alpha$ and the RMSE using the function created above. Note that the magnitude of $\\alpha$ may be different from the Ridge model.\n",
        "* Repeat this with the Elastic net model.\n",
        "* Compare the results via table and/or plot.\n",
        "\n",
        "Use the following alphas:  \n",
        "`[1e-5, 5e-5, 0.0001, 0.0005]`"
      ]
    },
    {
      "cell_type": "code",
      "metadata": {
        "ExecuteTime": {
          "end_time": "2017-02-21T09:50:10.797247",
          "start_time": "2017-02-21T09:50:09.006978"
        },
        "colab": {
          "base_uri": "https://localhost:8080/"
        },
        "id": "amoeD4Otig-E",
        "outputId": "920759ee-cdda-4d01-cff8-c44a9a270016"
      },
      "source": [
        "from sklearn.linear_model import LassoCV\n",
        "\n",
        "alphas2 = np.array([1e-5, 5e-5, 0.0001, 0.0005])\n",
        "\n",
        "lassoCV = LassoCV(alphas=alphas2,\n",
        "                  max_iter=5e4,\n",
        "                  cv=3).fit(X_train, y_train)\n",
        "\n",
        "lassoCV_rmse = rmse(y_test, lassoCV.predict(X_test))\n",
        "\n",
        "print(lassoCV.alpha_, lassoCV_rmse)  # Lasso is slower"
      ],
      "execution_count": null,
      "outputs": [
        {
          "output_type": "stream",
          "name": "stdout",
          "text": [
            "0.0005 39257.39399145228\n"
          ]
        }
      ]
    },
    {
      "cell_type": "markdown",
      "metadata": {
        "id": "1ku0w1wtig-E"
      },
      "source": [
        "We can determine how many of these features remain non-zero."
      ]
    },
    {
      "cell_type": "code",
      "metadata": {
        "ExecuteTime": {
          "end_time": "2017-02-21T09:50:13.053851",
          "start_time": "2017-02-21T09:50:13.047466"
        },
        "colab": {
          "base_uri": "https://localhost:8080/"
        },
        "id": "G8yWlj3eig-E",
        "outputId": "d0f1b94b-6ca8-499c-c029-65ce64f33821"
      },
      "source": [
        "print('Of {} coefficients, {} are non-zero with Lasso.'.format(len(lassoCV.coef_), \n",
        "                                                               len(lassoCV.coef_.nonzero()[0])))"
      ],
      "execution_count": null,
      "outputs": [
        {
          "output_type": "stream",
          "name": "stdout",
          "text": [
            "Of 294 coefficients, 274 are non-zero with Lasso.\n"
          ]
        }
      ]
    },
    {
      "cell_type": "markdown",
      "metadata": {
        "ExecuteTime": {
          "end_time": "2017-02-16T12:03:06.013488",
          "start_time": "2017-02-16T12:03:06.007159"
        },
        "collapsed": true,
        "run_control": {
          "marked": true
        },
        "id": "xzZAsU8rig-E"
      },
      "source": [
        "Now try the elastic net, with the same alphas as in Lasso, and l1_ratios between 0.1 and 0.9"
      ]
    },
    {
      "cell_type": "code",
      "metadata": {
        "ExecuteTime": {
          "end_time": "2017-02-21T09:51:07.592747",
          "start_time": "2017-02-21T09:50:38.683133"
        },
        "scrolled": true,
        "colab": {
          "base_uri": "https://localhost:8080/"
        },
        "id": "t_LfaSHGig-E",
        "outputId": "88fd2c26-d587-4bfd-a8cf-5d15a81a6b10"
      },
      "source": [
        "from sklearn.linear_model import ElasticNetCV\n",
        "\n",
        "l1_ratios = np.linspace(0.1, 0.9, 9)\n",
        "\n",
        "elasticNetCV = ElasticNetCV(alphas=alphas2, \n",
        "                            l1_ratio=l1_ratios,\n",
        "                            max_iter=1e4).fit(X_train, y_train)\n",
        "elasticNetCV_rmse = rmse(y_test, elasticNetCV.predict(X_test))\n",
        "\n",
        "print(elasticNetCV.alpha_, elasticNetCV.l1_ratio_, elasticNetCV_rmse)"
      ],
      "execution_count": null,
      "outputs": [
        {
          "output_type": "stream",
          "name": "stdout",
          "text": [
            "0.0005 0.1 35001.23429607458\n"
          ]
        }
      ]
    },
    {
      "cell_type": "markdown",
      "metadata": {
        "id": "vcRsShhuig-F"
      },
      "source": [
        "Comparing the RMSE calculation from all models is easiest in a table."
      ]
    },
    {
      "cell_type": "code",
      "metadata": {
        "ExecuteTime": {
          "end_time": "2017-02-21T09:52:29.062678",
          "start_time": "2017-02-21T09:52:28.998572"
        },
        "colab": {
          "base_uri": "https://localhost:8080/",
          "height": 173
        },
        "id": "8wRKDH_Iig-F",
        "outputId": "c3a8ab00-dbdb-4b1f-aafe-1f14aa6ab747"
      },
      "source": [
        "rmse_vals = [linearRegression_rmse, ridgeCV_rmse, lassoCV_rmse, elasticNetCV_rmse]\n",
        "\n",
        "labels = ['Linear', 'Ridge', 'Lasso', 'ElasticNet']\n",
        "\n",
        "rmse_df = pd.Series(rmse_vals, index=labels).to_frame()\n",
        "rmse_df.rename(columns={0: 'RMSE'}, inplace=1)\n",
        "rmse_df"
      ],
      "execution_count": null,
      "outputs": [
        {
          "output_type": "execute_result",
          "data": {
            "text/html": [
              "<div>\n",
              "<style scoped>\n",
              "    .dataframe tbody tr th:only-of-type {\n",
              "        vertical-align: middle;\n",
              "    }\n",
              "\n",
              "    .dataframe tbody tr th {\n",
              "        vertical-align: top;\n",
              "    }\n",
              "\n",
              "    .dataframe thead th {\n",
              "        text-align: right;\n",
              "    }\n",
              "</style>\n",
              "<table border=\"1\" class=\"dataframe\">\n",
              "  <thead>\n",
              "    <tr style=\"text-align: right;\">\n",
              "      <th></th>\n",
              "      <th>RMSE</th>\n",
              "    </tr>\n",
              "  </thead>\n",
              "  <tbody>\n",
              "    <tr>\n",
              "      <th>Linear</th>\n",
              "      <td>306369.683423</td>\n",
              "    </tr>\n",
              "    <tr>\n",
              "      <th>Ridge</th>\n",
              "      <td>32169.176206</td>\n",
              "    </tr>\n",
              "    <tr>\n",
              "      <th>Lasso</th>\n",
              "      <td>39257.393991</td>\n",
              "    </tr>\n",
              "    <tr>\n",
              "      <th>ElasticNet</th>\n",
              "      <td>35001.234296</td>\n",
              "    </tr>\n",
              "  </tbody>\n",
              "</table>\n",
              "</div>"
            ],
            "text/plain": [
              "                     RMSE\n",
              "Linear      306369.683423\n",
              "Ridge        32169.176206\n",
              "Lasso        39257.393991\n",
              "ElasticNet   35001.234296"
            ]
          },
          "metadata": {},
          "execution_count": 40
        }
      ]
    },
    {
      "cell_type": "markdown",
      "metadata": {
        "id": "bePIVBT8ig-F"
      },
      "source": [
        "We can also make a plot of actual vs predicted housing prices as before."
      ]
    },
    {
      "cell_type": "code",
      "metadata": {
        "ExecuteTime": {
          "end_time": "2017-02-21T09:53:54.142116",
          "start_time": "2017-02-21T09:53:53.857081"
        },
        "colab": {
          "base_uri": "https://localhost:8080/",
          "height": 404
        },
        "id": "Zh1f8Eklig-H",
        "outputId": "277de7c9-5a13-4803-f4a7-a4ea1d09c46d"
      },
      "source": [
        "f = plt.figure(figsize=(6,6))\n",
        "ax = plt.axes()\n",
        "\n",
        "labels = ['Ridge', 'Lasso', 'ElasticNet']\n",
        "\n",
        "models = [ridgeCV, lassoCV, elasticNetCV]\n",
        "\n",
        "for mod, lab in zip(models, labels):\n",
        "    ax.plot(y_test, mod.predict(X_test), \n",
        "             marker='o', ls='', ms=3.0, label=lab)\n",
        "\n",
        "\n",
        "leg = plt.legend(frameon=True)\n",
        "leg.get_frame().set_edgecolor('black')\n",
        "leg.get_frame().set_linewidth(1.0)\n",
        "\n",
        "ax.set(xlabel='Actual Price', \n",
        "       ylabel='Predicted Price', \n",
        "       title='Linear Regression Results');"
      ],
      "execution_count": null,
      "outputs": [
        {
          "output_type": "display_data",
          "data": {
            "image/png": "[encoded data removed]",
            "text/plain": [
              "<Figure size 432x432 with 1 Axes>"
            ]
          },
          "metadata": {
            "needs_background": "light"
          }
        }
      ]
    },
    {
      "cell_type": "markdown",
      "metadata": {
        "id": "_iJFv6gGig-I"
      },
      "source": [
        "## Question 8\n",
        "\n",
        "Let's explore Stochastic gradient descent in this exercise.  \n",
        "Recall that Linear models in general are sensitive to scaling.\n",
        "However, SGD is *very* sensitive to scaling.  \n",
        "Moreover, a high value of learning rate can cause the algorithm to diverge, whereas a too low value may take too long to converge.\n",
        "\n",
        "* Fit a stochastic gradient descent model without a regularization penalty (the relevant parameter is `penalty`).\n",
        "* Now fit stochastic gradient descent models with each of the three penalties (L2, L1, Elastic Net) using the parameter values determined by cross validation above. \n",
        "* Do not scale the data before fitting the model.  \n",
        "* Compare the results to those obtained without using stochastic gradient descent."
      ]
    },
    {
      "cell_type": "code",
      "metadata": {
        "colab": {
          "base_uri": "https://localhost:8080/",
          "height": 173
        },
        "id": "_7BKn6uCig-I",
        "outputId": "1ff02046-a365-44db-8fa1-796e9d0bf163"
      },
      "source": [
        "# Import SGDRegressor and prepare the parameters\n",
        "\n",
        "from sklearn.linear_model import SGDRegressor\n",
        "\n",
        "model_parameters_dict = {\n",
        "    'Linear': {'penalty': 'none'},\n",
        "    'Lasso': {'penalty': 'l2',\n",
        "           'alpha': lassoCV.alpha_},\n",
        "    'Ridge': {'penalty': 'l1',\n",
        "           'alpha': ridgeCV_rmse},\n",
        "    'ElasticNet': {'penalty': 'elasticnet', \n",
        "                   'alpha': elasticNetCV.alpha_,\n",
        "                   'l1_ratio': elasticNetCV.l1_ratio_}\n",
        "}\n",
        "\n",
        "new_rmses = {}\n",
        "for modellabel, parameters in model_parameters_dict.items():\n",
        "    # following notation passes the dict items as arguments\n",
        "    SGD = SGDRegressor(**parameters)\n",
        "    SGD.fit(X_train, y_train)\n",
        "    new_rmses[modellabel] = rmse(y_test, SGD.predict(X_test))\n",
        "\n",
        "rmse_df['RMSE-SGD'] = pd.Series(new_rmses)\n",
        "rmse_df"
      ],
      "execution_count": null,
      "outputs": [
        {
          "output_type": "execute_result",
          "data": {
            "text/html": [
              "<div>\n",
              "<style scoped>\n",
              "    .dataframe tbody tr th:only-of-type {\n",
              "        vertical-align: middle;\n",
              "    }\n",
              "\n",
              "    .dataframe tbody tr th {\n",
              "        vertical-align: top;\n",
              "    }\n",
              "\n",
              "    .dataframe thead th {\n",
              "        text-align: right;\n",
              "    }\n",
              "</style>\n",
              "<table border=\"1\" class=\"dataframe\">\n",
              "  <thead>\n",
              "    <tr style=\"text-align: right;\">\n",
              "      <th></th>\n",
              "      <th>RMSE</th>\n",
              "      <th>RMSE-SGD</th>\n",
              "    </tr>\n",
              "  </thead>\n",
              "  <tbody>\n",
              "    <tr>\n",
              "      <th>Linear</th>\n",
              "      <td>306369.683423</td>\n",
              "      <td>1.750594e+15</td>\n",
              "    </tr>\n",
              "    <tr>\n",
              "      <th>Ridge</th>\n",
              "      <td>32169.176206</td>\n",
              "      <td>8.920480e+15</td>\n",
              "    </tr>\n",
              "    <tr>\n",
              "      <th>Lasso</th>\n",
              "      <td>39257.393991</td>\n",
              "      <td>1.163558e+15</td>\n",
              "    </tr>\n",
              "    <tr>\n",
              "      <th>ElasticNet</th>\n",
              "      <td>35001.234296</td>\n",
              "      <td>1.066397e+16</td>\n",
              "    </tr>\n",
              "  </tbody>\n",
              "</table>\n",
              "</div>"
            ],
            "text/plain": [
              "                     RMSE      RMSE-SGD\n",
              "Linear      306369.683423  1.750594e+15\n",
              "Ridge        32169.176206  8.920480e+15\n",
              "Lasso        39257.393991  1.163558e+15\n",
              "ElasticNet   35001.234296  1.066397e+16"
            ]
          },
          "metadata": {},
          "execution_count": 42
        }
      ]
    },
    {
      "cell_type": "markdown",
      "metadata": {
        "id": "8kGOy1PXig-I"
      },
      "source": [
        "Notice how high the error values are! The algorithm is diverging. This can be due to scaling and/or learning rate being too high. Let's adjust the learning rate and see what happens.\n",
        "\n",
        "* Pass in `eta0=1e-7` when creating the instance of `SGDClassifier`.\n",
        "* Re-compute the errors for all the penalties and compare."
      ]
    },
    {
      "cell_type": "code",
      "metadata": {
        "colab": {
          "base_uri": "https://localhost:8080/",
          "height": 173
        },
        "id": "kuTgosOSig-I",
        "outputId": "42aeb214-522f-4e26-d03d-938869c70b36"
      },
      "source": [
        "# Import SGDRegressor and prepare the parameters\n",
        "\n",
        "from sklearn.linear_model import SGDRegressor\n",
        "\n",
        "model_parameters_dict = {\n",
        "    'Linear': {'penalty': 'none'},\n",
        "    'Lasso': {'penalty': 'l2',\n",
        "           'alpha': lassoCV.alpha_},\n",
        "    'Ridge': {'penalty': 'l1',\n",
        "           'alpha': ridgeCV_rmse},\n",
        "    'ElasticNet': {'penalty': 'elasticnet', \n",
        "                   'alpha': elasticNetCV.alpha_,\n",
        "                   'l1_ratio': elasticNetCV.l1_ratio_}\n",
        "}\n",
        "\n",
        "new_rmses = {}\n",
        "for modellabel, parameters in model_parameters_dict.items():\n",
        "    # following notation passes the dict items as arguments\n",
        "    SGD = SGDRegressor(eta0=1e-7, **parameters)\n",
        "    SGD.fit(X_train, y_train)\n",
        "    new_rmses[modellabel] = rmse(y_test, SGD.predict(X_test))\n",
        "\n",
        "rmse_df['RMSE-SGD-learningrate'] = pd.Series(new_rmses)\n",
        "rmse_df"
      ],
      "execution_count": null,
      "outputs": [
        {
          "output_type": "execute_result",
          "data": {
            "text/html": [
              "<div>\n",
              "<style scoped>\n",
              "    .dataframe tbody tr th:only-of-type {\n",
              "        vertical-align: middle;\n",
              "    }\n",
              "\n",
              "    .dataframe tbody tr th {\n",
              "        vertical-align: top;\n",
              "    }\n",
              "\n",
              "    .dataframe thead th {\n",
              "        text-align: right;\n",
              "    }\n",
              "</style>\n",
              "<table border=\"1\" class=\"dataframe\">\n",
              "  <thead>\n",
              "    <tr style=\"text-align: right;\">\n",
              "      <th></th>\n",
              "      <th>RMSE</th>\n",
              "      <th>RMSE-SGD</th>\n",
              "      <th>RMSE-SGD-learningrate</th>\n",
              "    </tr>\n",
              "  </thead>\n",
              "  <tbody>\n",
              "    <tr>\n",
              "      <th>Linear</th>\n",
              "      <td>306369.683423</td>\n",
              "      <td>1.750594e+15</td>\n",
              "      <td>86884.024737</td>\n",
              "    </tr>\n",
              "    <tr>\n",
              "      <th>Ridge</th>\n",
              "      <td>32169.176206</td>\n",
              "      <td>8.920480e+15</td>\n",
              "      <td>76636.115089</td>\n",
              "    </tr>\n",
              "    <tr>\n",
              "      <th>Lasso</th>\n",
              "      <td>39257.393991</td>\n",
              "      <td>1.163558e+15</td>\n",
              "      <td>74201.783233</td>\n",
              "    </tr>\n",
              "    <tr>\n",
              "      <th>ElasticNet</th>\n",
              "      <td>35001.234296</td>\n",
              "      <td>1.066397e+16</td>\n",
              "      <td>72707.273329</td>\n",
              "    </tr>\n",
              "  </tbody>\n",
              "</table>\n",
              "</div>"
            ],
            "text/plain": [
              "                     RMSE      RMSE-SGD  RMSE-SGD-learningrate\n",
              "Linear      306369.683423  1.750594e+15           86884.024737\n",
              "Ridge        32169.176206  8.920480e+15           76636.115089\n",
              "Lasso        39257.393991  1.163558e+15           74201.783233\n",
              "ElasticNet   35001.234296  1.066397e+16           72707.273329"
            ]
          },
          "metadata": {},
          "execution_count": 43
        }
      ]
    },
    {
      "cell_type": "markdown",
      "metadata": {
        "id": "ELKrig1Yig-I"
      },
      "source": [
        "Now let's scale our training data and try again.\n",
        "\n",
        "* Fit a `MinMaxScaler` to `X_train` create a variable `X_train_scaled`.\n",
        "* Using the scaler, transform `X_test` and create a variable `X_test_scaled`. \n",
        "* Apply the same versions of SGD to them and compare the results. Don't pass in a eta0 this time."
      ]
    },
    {
      "cell_type": "code",
      "metadata": {
        "collapsed": true,
        "scrolled": false,
        "id": "bYi-p1Hwig-I"
      },
      "source": [
        "# Please write the code with the scaled train and test data [Hint:use scaler.fit_transform]\n",
        "\n"
      ],
      "execution_count": null,
      "outputs": []
    },
    {
      "cell_type": "code",
      "metadata": {
        "collapsed": true,
        "id": "jar8nMudig-I"
      },
      "source": [
        ""
      ],
      "execution_count": null,
      "outputs": []
    },
    {
      "cell_type": "code",
      "metadata": {
        "collapsed": true,
        "id": "-puTZNBQig-J"
      },
      "source": [
        ""
      ],
      "execution_count": null,
      "outputs": []
    }
  ]
}