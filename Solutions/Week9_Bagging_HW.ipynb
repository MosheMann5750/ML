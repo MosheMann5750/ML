{
  "nbformat": 4,
  "nbformat_minor": 0,
  "metadata": {
    "kernelspec": {
      "display_name": "Python 3",
      "language": "python",
      "name": "python3"
    },
    "language_info": {
      "codemirror_mode": {
        "name": "ipython",
        "version": 3
      },
      "file_extension": ".py",
      "mimetype": "text/x-python",
      "name": "python",
      "nbconvert_exporter": "python",
      "pygments_lexer": "ipython3",
      "version": "3.6.2"
    },
    "colab": {
      "name": "Week9_Bagging_HW.ipynb",
      "provenance": []
    }
  },
  "cells": [
    {
      "cell_type": "markdown",
      "metadata": {
        "id": "tJGZ_MRphnAn"
      },
      "source": [
        "# Bagging Exercises"
      ]
    },
    {
      "cell_type": "markdown",
      "source": [
        "***All the cells that start with \"MM\" written or edited by Moshe Mann.***"
      ],
      "metadata": {
        "id": "ZJK64ptTM7sV"
      }
    },
    {
      "cell_type": "markdown",
      "metadata": {
        "id": "JQnup7LMhnAp"
      },
      "source": [
        "## Introduction\n",
        "\n",
        "We will be using the customer churn data from the telecom industry that we used in week 1 for this week's exercises. The data file is called `Orange_Telecom_Churn_Data.csv`. "
      ]
    },
    {
      "cell_type": "markdown",
      "metadata": {
        "id": "fZ0RVkwthnAq"
      },
      "source": [
        "### Prerequisites\n",
        "Install imblearn and upgrade sklearn to 0.19.0"
      ]
    },
    {
      "cell_type": "code",
      "metadata": {
        "collapsed": true,
        "id": "iqs4q-muhnAq"
      },
      "source": [
        "#!pip install imblearn\n",
        "#!pip install --upgrade sklearn"
      ],
      "execution_count": null,
      "outputs": []
    },
    {
      "cell_type": "markdown",
      "metadata": {
        "id": "TkH71n8HhnAs"
      },
      "source": [
        "## Question 1\n",
        "\n",
        "* Import the customer churn data, which is found in the file `Orange_Telecom_Churn_Data.csv`. \n",
        "* Remove any columns that are likely not to be used for prediction.\n",
        "* Encode data types as appropriate."
      ]
    },
    {
      "cell_type": "code",
      "metadata": {
        "ExecuteTime": {
          "end_time": "2017-04-09T22:20:28.243815Z",
          "start_time": "2017-04-09T18:20:27.572024-04:00"
        },
        "collapsed": true,
        "id": "IYcUR26ZhnAs"
      },
      "source": [
        "import pandas as pd\n",
        "import numpy as np\n",
        "\n",
        "filepath = 'https://raw.githubusercontent.com/mannmoshe/machine-learning/main/Data/Orange_Telecom_Churn_Data.csv'\n",
        "data = pd.read_csv(filepath, sep=',')"
      ],
      "execution_count": 1,
      "outputs": []
    },
    {
      "cell_type": "code",
      "metadata": {
        "ExecuteTime": {
          "end_time": "2017-04-09T22:20:28.265947Z",
          "start_time": "2017-04-09T18:20:28.245694-04:00"
        },
        "colab": {
          "base_uri": "https://localhost:8080/",
          "height": 708
        },
        "id": "1HifUfJ_hnAs",
        "outputId": "2819cc1f-cec1-4500-8446-0634147cc20d"
      },
      "source": [
        "data.head().T"
      ],
      "execution_count": 2,
      "outputs": [
        {
          "output_type": "execute_result",
          "data": {
            "text/html": [
              "<div>\n",
              "<style scoped>\n",
              "    .dataframe tbody tr th:only-of-type {\n",
              "        vertical-align: middle;\n",
              "    }\n",
              "\n",
              "    .dataframe tbody tr th {\n",
              "        vertical-align: top;\n",
              "    }\n",
              "\n",
              "    .dataframe thead th {\n",
              "        text-align: right;\n",
              "    }\n",
              "</style>\n",
              "<table border=\"1\" class=\"dataframe\">\n",
              "  <thead>\n",
              "    <tr style=\"text-align: right;\">\n",
              "      <th></th>\n",
              "      <th>0</th>\n",
              "      <th>1</th>\n",
              "      <th>2</th>\n",
              "      <th>3</th>\n",
              "      <th>4</th>\n",
              "    </tr>\n",
              "  </thead>\n",
              "  <tbody>\n",
              "    <tr>\n",
              "      <th>state</th>\n",
              "      <td>KS</td>\n",
              "      <td>OH</td>\n",
              "      <td>NJ</td>\n",
              "      <td>OH</td>\n",
              "      <td>OK</td>\n",
              "    </tr>\n",
              "    <tr>\n",
              "      <th>account_length</th>\n",
              "      <td>128</td>\n",
              "      <td>107</td>\n",
              "      <td>137</td>\n",
              "      <td>84</td>\n",
              "      <td>75</td>\n",
              "    </tr>\n",
              "    <tr>\n",
              "      <th>area_code</th>\n",
              "      <td>415</td>\n",
              "      <td>415</td>\n",
              "      <td>415</td>\n",
              "      <td>408</td>\n",
              "      <td>415</td>\n",
              "    </tr>\n",
              "    <tr>\n",
              "      <th>phone_number</th>\n",
              "      <td>382-4657</td>\n",
              "      <td>371-7191</td>\n",
              "      <td>358-1921</td>\n",
              "      <td>375-9999</td>\n",
              "      <td>330-6626</td>\n",
              "    </tr>\n",
              "    <tr>\n",
              "      <th>intl_plan</th>\n",
              "      <td>no</td>\n",
              "      <td>no</td>\n",
              "      <td>no</td>\n",
              "      <td>yes</td>\n",
              "      <td>yes</td>\n",
              "    </tr>\n",
              "    <tr>\n",
              "      <th>voice_mail_plan</th>\n",
              "      <td>yes</td>\n",
              "      <td>yes</td>\n",
              "      <td>no</td>\n",
              "      <td>no</td>\n",
              "      <td>no</td>\n",
              "    </tr>\n",
              "    <tr>\n",
              "      <th>number_vmail_messages</th>\n",
              "      <td>25</td>\n",
              "      <td>26</td>\n",
              "      <td>0</td>\n",
              "      <td>0</td>\n",
              "      <td>0</td>\n",
              "    </tr>\n",
              "    <tr>\n",
              "      <th>total_day_minutes</th>\n",
              "      <td>265.1</td>\n",
              "      <td>161.6</td>\n",
              "      <td>243.4</td>\n",
              "      <td>299.4</td>\n",
              "      <td>166.7</td>\n",
              "    </tr>\n",
              "    <tr>\n",
              "      <th>total_day_calls</th>\n",
              "      <td>110</td>\n",
              "      <td>123</td>\n",
              "      <td>114</td>\n",
              "      <td>71</td>\n",
              "      <td>113</td>\n",
              "    </tr>\n",
              "    <tr>\n",
              "      <th>total_day_charge</th>\n",
              "      <td>45.07</td>\n",
              "      <td>27.47</td>\n",
              "      <td>41.38</td>\n",
              "      <td>50.9</td>\n",
              "      <td>28.34</td>\n",
              "    </tr>\n",
              "    <tr>\n",
              "      <th>total_eve_minutes</th>\n",
              "      <td>197.4</td>\n",
              "      <td>195.5</td>\n",
              "      <td>121.2</td>\n",
              "      <td>61.9</td>\n",
              "      <td>148.3</td>\n",
              "    </tr>\n",
              "    <tr>\n",
              "      <th>total_eve_calls</th>\n",
              "      <td>99</td>\n",
              "      <td>103</td>\n",
              "      <td>110</td>\n",
              "      <td>88</td>\n",
              "      <td>122</td>\n",
              "    </tr>\n",
              "    <tr>\n",
              "      <th>total_eve_charge</th>\n",
              "      <td>16.78</td>\n",
              "      <td>16.62</td>\n",
              "      <td>10.3</td>\n",
              "      <td>5.26</td>\n",
              "      <td>12.61</td>\n",
              "    </tr>\n",
              "    <tr>\n",
              "      <th>total_night_minutes</th>\n",
              "      <td>244.7</td>\n",
              "      <td>254.4</td>\n",
              "      <td>162.6</td>\n",
              "      <td>196.9</td>\n",
              "      <td>186.9</td>\n",
              "    </tr>\n",
              "    <tr>\n",
              "      <th>total_night_calls</th>\n",
              "      <td>91</td>\n",
              "      <td>103</td>\n",
              "      <td>104</td>\n",
              "      <td>89</td>\n",
              "      <td>121</td>\n",
              "    </tr>\n",
              "    <tr>\n",
              "      <th>total_night_charge</th>\n",
              "      <td>11.01</td>\n",
              "      <td>11.45</td>\n",
              "      <td>7.32</td>\n",
              "      <td>8.86</td>\n",
              "      <td>8.41</td>\n",
              "    </tr>\n",
              "    <tr>\n",
              "      <th>total_intl_minutes</th>\n",
              "      <td>10</td>\n",
              "      <td>13.7</td>\n",
              "      <td>12.2</td>\n",
              "      <td>6.6</td>\n",
              "      <td>10.1</td>\n",
              "    </tr>\n",
              "    <tr>\n",
              "      <th>total_intl_calls</th>\n",
              "      <td>3</td>\n",
              "      <td>3</td>\n",
              "      <td>5</td>\n",
              "      <td>7</td>\n",
              "      <td>3</td>\n",
              "    </tr>\n",
              "    <tr>\n",
              "      <th>total_intl_charge</th>\n",
              "      <td>2.7</td>\n",
              "      <td>3.7</td>\n",
              "      <td>3.29</td>\n",
              "      <td>1.78</td>\n",
              "      <td>2.73</td>\n",
              "    </tr>\n",
              "    <tr>\n",
              "      <th>number_customer_service_calls</th>\n",
              "      <td>1</td>\n",
              "      <td>1</td>\n",
              "      <td>0</td>\n",
              "      <td>2</td>\n",
              "      <td>3</td>\n",
              "    </tr>\n",
              "    <tr>\n",
              "      <th>churned</th>\n",
              "      <td>False</td>\n",
              "      <td>False</td>\n",
              "      <td>False</td>\n",
              "      <td>False</td>\n",
              "      <td>False</td>\n",
              "    </tr>\n",
              "  </tbody>\n",
              "</table>\n",
              "</div>"
            ],
            "text/plain": [
              "                                      0         1         2         3         4\n",
              "state                                KS        OH        NJ        OH        OK\n",
              "account_length                      128       107       137        84        75\n",
              "area_code                           415       415       415       408       415\n",
              "phone_number                   382-4657  371-7191  358-1921  375-9999  330-6626\n",
              "intl_plan                            no        no        no       yes       yes\n",
              "voice_mail_plan                     yes       yes        no        no        no\n",
              "number_vmail_messages                25        26         0         0         0\n",
              "total_day_minutes                 265.1     161.6     243.4     299.4     166.7\n",
              "total_day_calls                     110       123       114        71       113\n",
              "total_day_charge                  45.07     27.47     41.38      50.9     28.34\n",
              "total_eve_minutes                 197.4     195.5     121.2      61.9     148.3\n",
              "total_eve_calls                      99       103       110        88       122\n",
              "total_eve_charge                  16.78     16.62      10.3      5.26     12.61\n",
              "total_night_minutes               244.7     254.4     162.6     196.9     186.9\n",
              "total_night_calls                    91       103       104        89       121\n",
              "total_night_charge                11.01     11.45      7.32      8.86      8.41\n",
              "total_intl_minutes                   10      13.7      12.2       6.6      10.1\n",
              "total_intl_calls                      3         3         5         7         3\n",
              "total_intl_charge                   2.7       3.7      3.29      1.78      2.73\n",
              "number_customer_service_calls         1         1         0         2         3\n",
              "churned                           False     False     False     False     False"
            ]
          },
          "metadata": {},
          "execution_count": 2
        }
      ]
    },
    {
      "cell_type": "markdown",
      "metadata": {
        "id": "vI06K5oPhnAt"
      },
      "source": [
        "The prediction should definitely not include phone number. And it is unlikely that area code or state would be desired, unless there is some reason to assume the model has a very specific geographic factor."
      ]
    },
    {
      "cell_type": "code",
      "metadata": {
        "ExecuteTime": {
          "end_time": "2017-04-09T22:20:28.468823Z",
          "start_time": "2017-04-09T18:20:28.458898-04:00"
        },
        "collapsed": true,
        "id": "idS308Q4hnAt"
      },
      "source": [
        "data.drop(['state', 'phone_number', 'area_code'], axis=1, inplace=True)"
      ],
      "execution_count": 3,
      "outputs": []
    },
    {
      "cell_type": "markdown",
      "metadata": {
        "id": "Mds8Z3ydhnAu"
      },
      "source": [
        "Examine the data types. Everything looks OK other than `int_plan` and `voice_mail_plan` need to be boolean encoded."
      ]
    },
    {
      "cell_type": "code",
      "metadata": {
        "ExecuteTime": {
          "end_time": "2017-04-09T22:20:29.428020Z",
          "start_time": "2017-04-09T18:20:29.370550-04:00"
        },
        "colab": {
          "base_uri": "https://localhost:8080/"
        },
        "id": "DonDqK0zhnAu",
        "outputId": "8cbcf4e7-74b8-4843-f657-1ac8d4ee889c"
      },
      "source": [
        "data.dtypes"
      ],
      "execution_count": 4,
      "outputs": [
        {
          "output_type": "execute_result",
          "data": {
            "text/plain": [
              "account_length                     int64\n",
              "intl_plan                         object\n",
              "voice_mail_plan                   object\n",
              "number_vmail_messages              int64\n",
              "total_day_minutes                float64\n",
              "total_day_calls                    int64\n",
              "total_day_charge                 float64\n",
              "total_eve_minutes                float64\n",
              "total_eve_calls                    int64\n",
              "total_eve_charge                 float64\n",
              "total_night_minutes              float64\n",
              "total_night_calls                  int64\n",
              "total_night_charge               float64\n",
              "total_intl_minutes               float64\n",
              "total_intl_calls                   int64\n",
              "total_intl_charge                float64\n",
              "number_customer_service_calls      int64\n",
              "churned                             bool\n",
              "dtype: object"
            ]
          },
          "metadata": {},
          "execution_count": 4
        }
      ]
    },
    {
      "cell_type": "code",
      "metadata": {
        "ExecuteTime": {
          "end_time": "2017-04-09T22:20:29.893662Z",
          "start_time": "2017-04-09T18:20:29.873438-04:00"
        },
        "colab": {
          "base_uri": "https://localhost:8080/"
        },
        "id": "tfa1h-2xhnAu",
        "outputId": "151200c4-0078-44cf-8236-348c39c8a92c"
      },
      "source": [
        "for col in ['intl_plan', 'voice_mail_plan']:\n",
        "    data[col] = data[col].replace('yes','True').replace('no','False').astype(np.bool)\n",
        "    \n",
        "    \n",
        "data[['intl_plan', 'voice_mail_plan']].dtypes"
      ],
      "execution_count": 5,
      "outputs": [
        {
          "output_type": "execute_result",
          "data": {
            "text/plain": [
              "intl_plan          bool\n",
              "voice_mail_plan    bool\n",
              "dtype: object"
            ]
          },
          "metadata": {},
          "execution_count": 5
        }
      ]
    },
    {
      "cell_type": "markdown",
      "metadata": {
        "id": "z0NFZlJShnAu"
      },
      "source": [
        "## Question 2\n",
        "\n",
        "* Examine distribution of the predicted variable (`churned`).\n",
        "* Split the data into train and test sets. Decide if a stratified split should be used or not based on the distribution.\n",
        "* Examine the distribution of the predictor variable in the train and test data."
      ]
    },
    {
      "cell_type": "code",
      "metadata": {
        "ExecuteTime": {
          "end_time": "2017-04-09T22:20:30.831794Z",
          "start_time": "2017-04-09T18:20:30.816280-04:00"
        },
        "colab": {
          "base_uri": "https://localhost:8080/"
        },
        "id": "7BSyv9m4hnAv",
        "outputId": "9b64e5a6-3e94-47f3-dfc5-db707c44cb69"
      },
      "source": [
        "# Data are skewed at ~85% towards non-churned customers\n",
        "# This will be important to remember when model building\n",
        "\n",
        "data.churned.value_counts()"
      ],
      "execution_count": 6,
      "outputs": [
        {
          "output_type": "execute_result",
          "data": {
            "text/plain": [
              "False    4293\n",
              "True      707\n",
              "Name: churned, dtype: int64"
            ]
          },
          "metadata": {},
          "execution_count": 6
        }
      ]
    },
    {
      "cell_type": "code",
      "metadata": {
        "ExecuteTime": {
          "end_time": "2017-04-09T22:20:32.019100Z",
          "start_time": "2017-04-09T18:20:32.008509-04:00"
        },
        "colab": {
          "base_uri": "https://localhost:8080/"
        },
        "id": "6cWF4bFJhnAv",
        "outputId": "b9158d21-a3b8-494a-c10c-f1f0c187f3d9"
      },
      "source": [
        "data.churned.value_counts(normalize=True)"
      ],
      "execution_count": 7,
      "outputs": [
        {
          "output_type": "execute_result",
          "data": {
            "text/plain": [
              "False    0.8586\n",
              "True     0.1414\n",
              "Name: churned, dtype: float64"
            ]
          },
          "metadata": {},
          "execution_count": 7
        }
      ]
    },
    {
      "cell_type": "markdown",
      "metadata": {
        "id": "grWRolclhnAv"
      },
      "source": [
        "Given the skew in the predictor variable, let's split the data with the *churned* values being stratified."
      ]
    },
    {
      "cell_type": "code",
      "metadata": {
        "ExecuteTime": {
          "end_time": "2017-04-09T22:20:34.008973Z",
          "start_time": "2017-04-09T18:20:33.561995-04:00"
        },
        "collapsed": true,
        "id": "BOnJC1X2hnAv"
      },
      "source": [
        "from sklearn.model_selection import StratifiedShuffleSplit\n",
        "\n",
        "\n",
        "feature_cols = [x for x in data.columns if x != 'churned']\n",
        "\n",
        "\n",
        "# Split the data into two parts with 1500 points in the test data\n",
        "# This creates a generator\n",
        "strat_shuff_split = StratifiedShuffleSplit(n_splits=1, test_size=1500, random_state=42)\n",
        "\n",
        "# Get the index values from the generator\n",
        "train_idx, test_idx = next(strat_shuff_split.split(data[feature_cols], data['churned']))\n",
        "\n",
        "# Create the data sets\n",
        "X_train = data.loc[train_idx, feature_cols]\n",
        "y_train = data.loc[train_idx, 'churned']\n",
        "\n",
        "X_test = data.loc[test_idx, feature_cols]\n",
        "y_test = data.loc[test_idx, 'churned']"
      ],
      "execution_count": 8,
      "outputs": []
    },
    {
      "cell_type": "code",
      "metadata": {
        "ExecuteTime": {
          "end_time": "2017-04-09T22:20:34.042556Z",
          "start_time": "2017-04-09T18:20:34.035557-04:00"
        },
        "scrolled": true,
        "colab": {
          "base_uri": "https://localhost:8080/"
        },
        "id": "g5qzvk41hnAw",
        "outputId": "af5511e3-bc12-45d1-cf21-c2de06f55890"
      },
      "source": [
        "y_train.value_counts(normalize=True)"
      ],
      "execution_count": 9,
      "outputs": [
        {
          "output_type": "execute_result",
          "data": {
            "text/plain": [
              "False    0.858571\n",
              "True     0.141429\n",
              "Name: churned, dtype: float64"
            ]
          },
          "metadata": {},
          "execution_count": 9
        }
      ]
    },
    {
      "cell_type": "code",
      "metadata": {
        "ExecuteTime": {
          "end_time": "2017-04-09T22:20:36.968198Z",
          "start_time": "2017-04-09T18:20:36.960274-04:00"
        },
        "colab": {
          "base_uri": "https://localhost:8080/"
        },
        "id": "ni-h6EBuhnAw",
        "outputId": "4f3d91a2-68cf-41b1-b60a-759a113912cf"
      },
      "source": [
        "y_test.value_counts(normalize=True)"
      ],
      "execution_count": 10,
      "outputs": [
        {
          "output_type": "execute_result",
          "data": {
            "text/plain": [
              "False    0.858667\n",
              "True     0.141333\n",
              "Name: churned, dtype: float64"
            ]
          },
          "metadata": {},
          "execution_count": 10
        }
      ]
    },
    {
      "cell_type": "markdown",
      "metadata": {
        "id": "IhYR1vMXhnAw"
      },
      "source": [
        "## Question 3\n",
        "\n",
        "* Fit random forest models with a range of tree numbers and evaluate the out-of-bag error for each of these models.\n",
        "* Plot the resulting oob errors as a function of the number of trees.\n",
        "\n",
        "*Hint:* since the only thing changing is the number of trees, the `warm_start` flag can be used so that the model just adds more trees to the existing model each time. Use the `set_params` method to update the number of trees."
      ]
    },
    {
      "cell_type": "code",
      "metadata": {
        "ExecuteTime": {
          "end_time": "2017-04-09T22:22:27.940967Z",
          "start_time": "2017-04-09T18:22:27.934979-04:00"
        },
        "collapsed": true,
        "id": "RjDxRBgVhnAw"
      },
      "source": [
        "# Suppress warnings about too few trees from the early models\n",
        "\n",
        "import warnings\n",
        "warnings.filterwarnings(\"ignore\", category=UserWarning)\n",
        "warnings.filterwarnings(\"ignore\", category=RuntimeWarning)"
      ],
      "execution_count": 11,
      "outputs": []
    },
    {
      "cell_type": "code",
      "metadata": {
        "ExecuteTime": {
          "end_time": "2017-04-09T22:22:31.302067Z",
          "start_time": "2017-04-09T18:22:28.418581-04:00"
        },
        "colab": {
          "base_uri": "https://localhost:8080/",
          "height": 394
        },
        "id": "4X1HQ5sthnAw",
        "outputId": "f6d4f73a-6871-41cc-aa5e-b84c9de2f2a1"
      },
      "source": [
        "from sklearn.ensemble import RandomForestClassifier\n",
        "\n",
        "# Initialize the random forest estimator\n",
        "# Note that the number of trees is not setup here\n",
        "RF = RandomForestClassifier(oob_score=True, \n",
        "                            random_state=42, \n",
        "                            warm_start=True,\n",
        "                            n_jobs=-1)\n",
        "\n",
        "oob_list = list()\n",
        "\n",
        "# Iterate through all of the possibilities for \n",
        "# number of trees\n",
        "for n_trees in [15, 20, 30, 40, 50, 100, 150, 200, 300, 400]:\n",
        "    \n",
        "    # Use this to set the number of trees\n",
        "    RF.set_params(n_estimators=n_trees)\n",
        "\n",
        "    # Fit the model\n",
        "    RF.fit(X_train, y_train)\n",
        "\n",
        "    # Get the oob error\n",
        "    oob_error = 1 - RF.oob_score_\n",
        "    \n",
        "    # Store it\n",
        "    oob_list.append(pd.Series({'n_trees': n_trees, 'oob': oob_error}))\n",
        "\n",
        "rf_oob_df = pd.concat(oob_list, axis=1).T.set_index('n_trees')\n",
        "\n",
        "rf_oob_df"
      ],
      "execution_count": 12,
      "outputs": [
        {
          "output_type": "execute_result",
          "data": {
            "text/html": [
              "<div>\n",
              "<style scoped>\n",
              "    .dataframe tbody tr th:only-of-type {\n",
              "        vertical-align: middle;\n",
              "    }\n",
              "\n",
              "    .dataframe tbody tr th {\n",
              "        vertical-align: top;\n",
              "    }\n",
              "\n",
              "    .dataframe thead th {\n",
              "        text-align: right;\n",
              "    }\n",
              "</style>\n",
              "<table border=\"1\" class=\"dataframe\">\n",
              "  <thead>\n",
              "    <tr style=\"text-align: right;\">\n",
              "      <th></th>\n",
              "      <th>oob</th>\n",
              "    </tr>\n",
              "    <tr>\n",
              "      <th>n_trees</th>\n",
              "      <th></th>\n",
              "    </tr>\n",
              "  </thead>\n",
              "  <tbody>\n",
              "    <tr>\n",
              "      <th>15.0</th>\n",
              "      <td>0.092286</td>\n",
              "    </tr>\n",
              "    <tr>\n",
              "      <th>20.0</th>\n",
              "      <td>0.084857</td>\n",
              "    </tr>\n",
              "    <tr>\n",
              "      <th>30.0</th>\n",
              "      <td>0.080857</td>\n",
              "    </tr>\n",
              "    <tr>\n",
              "      <th>40.0</th>\n",
              "      <td>0.077429</td>\n",
              "    </tr>\n",
              "    <tr>\n",
              "      <th>50.0</th>\n",
              "      <td>0.077714</td>\n",
              "    </tr>\n",
              "    <tr>\n",
              "      <th>100.0</th>\n",
              "      <td>0.072857</td>\n",
              "    </tr>\n",
              "    <tr>\n",
              "      <th>150.0</th>\n",
              "      <td>0.072571</td>\n",
              "    </tr>\n",
              "    <tr>\n",
              "      <th>200.0</th>\n",
              "      <td>0.073143</td>\n",
              "    </tr>\n",
              "    <tr>\n",
              "      <th>300.0</th>\n",
              "      <td>0.072000</td>\n",
              "    </tr>\n",
              "    <tr>\n",
              "      <th>400.0</th>\n",
              "      <td>0.072857</td>\n",
              "    </tr>\n",
              "  </tbody>\n",
              "</table>\n",
              "</div>"
            ],
            "text/plain": [
              "              oob\n",
              "n_trees          \n",
              "15.0     0.092286\n",
              "20.0     0.084857\n",
              "30.0     0.080857\n",
              "40.0     0.077429\n",
              "50.0     0.077714\n",
              "100.0    0.072857\n",
              "150.0    0.072571\n",
              "200.0    0.073143\n",
              "300.0    0.072000\n",
              "400.0    0.072857"
            ]
          },
          "metadata": {},
          "execution_count": 12
        }
      ]
    },
    {
      "cell_type": "markdown",
      "metadata": {
        "id": "dAdAlCahhnAx"
      },
      "source": [
        "The error looks like it has stabilized around 100-150 trees."
      ]
    },
    {
      "cell_type": "code",
      "metadata": {
        "ExecuteTime": {
          "end_time": "2017-04-09T22:22:37.666231Z",
          "start_time": "2017-04-09T18:22:37.268102-04:00"
        },
        "collapsed": true,
        "id": "RXTpeExOhnAx"
      },
      "source": [
        "import matplotlib.pyplot as plt\n",
        "import seaborn as sns\n",
        "\n",
        "%matplotlib inline"
      ],
      "execution_count": 13,
      "outputs": []
    },
    {
      "cell_type": "code",
      "metadata": {
        "ExecuteTime": {
          "end_time": "2017-04-09T22:22:38.644602Z",
          "start_time": "2017-04-09T18:22:38.293332-04:00"
        },
        "colab": {
          "base_uri": "https://localhost:8080/",
          "height": 301
        },
        "id": "o3arJSfZhnAx",
        "outputId": "ab7be032-142d-4a2f-a59e-d2695072bf58"
      },
      "source": [
        "sns.set_context('talk')\n",
        "sns.set_palette('dark')\n",
        "sns.set_style('white')\n",
        "\n",
        "ax = rf_oob_df.plot(legend=False, marker='o')\n",
        "ax.set(ylabel='out-of-bag error');"
      ],
      "execution_count": 14,
      "outputs": [
        {
          "output_type": "display_data",
          "data": {
            "image/png": "[encoded data removed]",
            "text/plain": [
              "<Figure size 432x288 with 1 Axes>"
            ]
          },
          "metadata": {}
        }
      ]
    },
    {
      "cell_type": "markdown",
      "metadata": {
        "id": "_rJnaIEHhnAx"
      },
      "source": [
        "## Question 4\n",
        "\n",
        "* Repeat question 3 using extra randomized trees (`ExtraTreesClassifier`). Note that the `bootstrap` parameter will have to be set to `True` for this model.\n",
        "* Compare the out-of-bag errors for the two different types of models."
      ]
    },
    {
      "cell_type": "code",
      "metadata": {
        "ExecuteTime": {
          "end_time": "2017-04-09T22:23:17.412283Z",
          "start_time": "2017-04-09T18:23:15.457918-04:00"
        },
        "colab": {
          "base_uri": "https://localhost:8080/",
          "height": 394
        },
        "id": "HjbagJt9hnAx",
        "outputId": "a6d56044-f717-40bf-e14f-41ace032f7f8"
      },
      "source": [
        "from sklearn.ensemble import ExtraTreesClassifier\n",
        "\n",
        "# Initialize the random forest estimator\n",
        "# Note that the number of trees is not setup here\n",
        "EF = ExtraTreesClassifier(oob_score=True, \n",
        "                          random_state=42, \n",
        "                          warm_start=True,\n",
        "                          bootstrap=True,\n",
        "                          n_jobs=-1)\n",
        "\n",
        "oob_list = list()\n",
        "\n",
        "# Iterate through all of the possibilities for \n",
        "# number of trees\n",
        "for n_trees in [15, 20, 30, 40, 50, 100, 150, 200, 300, 400]:\n",
        "    \n",
        "    # Use this to set the number of trees\n",
        "    EF.set_params(n_estimators=n_trees)\n",
        "    EF.fit(X_train, y_train)\n",
        "\n",
        "    # oob error\n",
        "    oob_error = 1 - EF.oob_score_\n",
        "    oob_list.append(pd.Series({'n_trees': n_trees, 'oob': oob_error}))\n",
        "\n",
        "et_oob_df = pd.concat(oob_list, axis=1).T.set_index('n_trees')\n",
        "\n",
        "et_oob_df"
      ],
      "execution_count": 15,
      "outputs": [
        {
          "output_type": "execute_result",
          "data": {
            "text/html": [
              "<div>\n",
              "<style scoped>\n",
              "    .dataframe tbody tr th:only-of-type {\n",
              "        vertical-align: middle;\n",
              "    }\n",
              "\n",
              "    .dataframe tbody tr th {\n",
              "        vertical-align: top;\n",
              "    }\n",
              "\n",
              "    .dataframe thead th {\n",
              "        text-align: right;\n",
              "    }\n",
              "</style>\n",
              "<table border=\"1\" class=\"dataframe\">\n",
              "  <thead>\n",
              "    <tr style=\"text-align: right;\">\n",
              "      <th></th>\n",
              "      <th>oob</th>\n",
              "    </tr>\n",
              "    <tr>\n",
              "      <th>n_trees</th>\n",
              "      <th></th>\n",
              "    </tr>\n",
              "  </thead>\n",
              "  <tbody>\n",
              "    <tr>\n",
              "      <th>15.0</th>\n",
              "      <td>0.099714</td>\n",
              "    </tr>\n",
              "    <tr>\n",
              "      <th>20.0</th>\n",
              "      <td>0.097143</td>\n",
              "    </tr>\n",
              "    <tr>\n",
              "      <th>30.0</th>\n",
              "      <td>0.090000</td>\n",
              "    </tr>\n",
              "    <tr>\n",
              "      <th>40.0</th>\n",
              "      <td>0.086571</td>\n",
              "    </tr>\n",
              "    <tr>\n",
              "      <th>50.0</th>\n",
              "      <td>0.082286</td>\n",
              "    </tr>\n",
              "    <tr>\n",
              "      <th>100.0</th>\n",
              "      <td>0.078000</td>\n",
              "    </tr>\n",
              "    <tr>\n",
              "      <th>150.0</th>\n",
              "      <td>0.082286</td>\n",
              "    </tr>\n",
              "    <tr>\n",
              "      <th>200.0</th>\n",
              "      <td>0.081143</td>\n",
              "    </tr>\n",
              "    <tr>\n",
              "      <th>300.0</th>\n",
              "      <td>0.080571</td>\n",
              "    </tr>\n",
              "    <tr>\n",
              "      <th>400.0</th>\n",
              "      <td>0.080571</td>\n",
              "    </tr>\n",
              "  </tbody>\n",
              "</table>\n",
              "</div>"
            ],
            "text/plain": [
              "              oob\n",
              "n_trees          \n",
              "15.0     0.099714\n",
              "20.0     0.097143\n",
              "30.0     0.090000\n",
              "40.0     0.086571\n",
              "50.0     0.082286\n",
              "100.0    0.078000\n",
              "150.0    0.082286\n",
              "200.0    0.081143\n",
              "300.0    0.080571\n",
              "400.0    0.080571"
            ]
          },
          "metadata": {},
          "execution_count": 15
        }
      ]
    },
    {
      "cell_type": "markdown",
      "metadata": {
        "id": "9vLJw_XUhnAy"
      },
      "source": [
        "Combine the two dataframes into a single one for easier plotting."
      ]
    },
    {
      "cell_type": "code",
      "metadata": {
        "ExecuteTime": {
          "end_time": "2017-04-09T22:23:19.000407Z",
          "start_time": "2017-04-09T18:23:18.985347-04:00"
        },
        "colab": {
          "base_uri": "https://localhost:8080/",
          "height": 394
        },
        "id": "_X98hyJLhnAy",
        "outputId": "8fcb01d6-ed63-4db2-efc7-b934e0dc1acc"
      },
      "source": [
        "oob_df = pd.concat([rf_oob_df.rename(columns={'oob':'RandomForest'}),\n",
        "                    et_oob_df.rename(columns={'oob':'ExtraTrees'})], axis=1)\n",
        "\n",
        "oob_df"
      ],
      "execution_count": 16,
      "outputs": [
        {
          "output_type": "execute_result",
          "data": {
            "text/html": [
              "<div>\n",
              "<style scoped>\n",
              "    .dataframe tbody tr th:only-of-type {\n",
              "        vertical-align: middle;\n",
              "    }\n",
              "\n",
              "    .dataframe tbody tr th {\n",
              "        vertical-align: top;\n",
              "    }\n",
              "\n",
              "    .dataframe thead th {\n",
              "        text-align: right;\n",
              "    }\n",
              "</style>\n",
              "<table border=\"1\" class=\"dataframe\">\n",
              "  <thead>\n",
              "    <tr style=\"text-align: right;\">\n",
              "      <th></th>\n",
              "      <th>RandomForest</th>\n",
              "      <th>ExtraTrees</th>\n",
              "    </tr>\n",
              "    <tr>\n",
              "      <th>n_trees</th>\n",
              "      <th></th>\n",
              "      <th></th>\n",
              "    </tr>\n",
              "  </thead>\n",
              "  <tbody>\n",
              "    <tr>\n",
              "      <th>15.0</th>\n",
              "      <td>0.092286</td>\n",
              "      <td>0.099714</td>\n",
              "    </tr>\n",
              "    <tr>\n",
              "      <th>20.0</th>\n",
              "      <td>0.084857</td>\n",
              "      <td>0.097143</td>\n",
              "    </tr>\n",
              "    <tr>\n",
              "      <th>30.0</th>\n",
              "      <td>0.080857</td>\n",
              "      <td>0.090000</td>\n",
              "    </tr>\n",
              "    <tr>\n",
              "      <th>40.0</th>\n",
              "      <td>0.077429</td>\n",
              "      <td>0.086571</td>\n",
              "    </tr>\n",
              "    <tr>\n",
              "      <th>50.0</th>\n",
              "      <td>0.077714</td>\n",
              "      <td>0.082286</td>\n",
              "    </tr>\n",
              "    <tr>\n",
              "      <th>100.0</th>\n",
              "      <td>0.072857</td>\n",
              "      <td>0.078000</td>\n",
              "    </tr>\n",
              "    <tr>\n",
              "      <th>150.0</th>\n",
              "      <td>0.072571</td>\n",
              "      <td>0.082286</td>\n",
              "    </tr>\n",
              "    <tr>\n",
              "      <th>200.0</th>\n",
              "      <td>0.073143</td>\n",
              "      <td>0.081143</td>\n",
              "    </tr>\n",
              "    <tr>\n",
              "      <th>300.0</th>\n",
              "      <td>0.072000</td>\n",
              "      <td>0.080571</td>\n",
              "    </tr>\n",
              "    <tr>\n",
              "      <th>400.0</th>\n",
              "      <td>0.072857</td>\n",
              "      <td>0.080571</td>\n",
              "    </tr>\n",
              "  </tbody>\n",
              "</table>\n",
              "</div>"
            ],
            "text/plain": [
              "         RandomForest  ExtraTrees\n",
              "n_trees                          \n",
              "15.0         0.092286    0.099714\n",
              "20.0         0.084857    0.097143\n",
              "30.0         0.080857    0.090000\n",
              "40.0         0.077429    0.086571\n",
              "50.0         0.077714    0.082286\n",
              "100.0        0.072857    0.078000\n",
              "150.0        0.072571    0.082286\n",
              "200.0        0.073143    0.081143\n",
              "300.0        0.072000    0.080571\n",
              "400.0        0.072857    0.080571"
            ]
          },
          "metadata": {},
          "execution_count": 16
        }
      ]
    },
    {
      "cell_type": "markdown",
      "metadata": {
        "id": "m5P3_SkihnAy"
      },
      "source": [
        "The random forest model performs consistently better than the extra randomized trees."
      ]
    },
    {
      "cell_type": "code",
      "metadata": {
        "ExecuteTime": {
          "end_time": "2017-04-09T22:23:20.424934Z",
          "start_time": "2017-04-09T18:23:20.180646-04:00"
        },
        "colab": {
          "base_uri": "https://localhost:8080/",
          "height": 301
        },
        "id": "wE6QVT8_hnAy",
        "outputId": "0c624a04-149c-498f-96f5-7fb2297d027c"
      },
      "source": [
        "sns.set_context('talk')\n",
        "sns.set_palette('dark')\n",
        "sns.set_style('white')\n",
        "\n",
        "ax = oob_df.plot(marker='o')\n",
        "ax.set(ylabel='out-of-bag error');"
      ],
      "execution_count": 17,
      "outputs": [
        {
          "output_type": "display_data",
          "data": {
            "image/png": "[encoded data removed]",
            "text/plain": [
              "<Figure size 432x288 with 1 Axes>"
            ]
          },
          "metadata": {}
        }
      ]
    },
    {
      "cell_type": "markdown",
      "metadata": {
        "id": "YLwcPWbohnAy"
      },
      "source": [
        "## Question 5\n",
        "\n",
        "* Select one of the models that performs well and calculate error metrics and a confusion matrix on the test data set. \n",
        "* Given the distribution of the predicted class, which metric is most important? Which could be deceiving?"
      ]
    },
    {
      "cell_type": "code",
      "metadata": {
        "ExecuteTime": {
          "end_time": "2017-04-09T22:23:23.367818Z",
          "start_time": "2017-04-09T18:23:23.150988-04:00"
        },
        "collapsed": true,
        "id": "y2x8JGeihnAy"
      },
      "source": [
        "# Random forest with 100 estimators\n",
        "model = RF.set_params(n_estimators=100)\n",
        "\n",
        "y_pred = model.predict(X_test)"
      ],
      "execution_count": 18,
      "outputs": []
    },
    {
      "cell_type": "markdown",
      "metadata": {
        "id": "MRG5HynnhnAy"
      },
      "source": [
        "Unsurprisingly, recall (amount of relevant items retrieved = TP/(TP+FN)) is rather poor for the customers who churned (True) class since they are quite small. We are doing better than random guessing, though, as the accuracy is 0.932 (vs 0.85 for random guessing)."
      ]
    },
    {
      "cell_type": "code",
      "metadata": {
        "ExecuteTime": {
          "end_time": "2017-04-09T22:23:24.448193Z",
          "start_time": "2017-04-09T18:23:24.424414-04:00"
        },
        "colab": {
          "base_uri": "https://localhost:8080/"
        },
        "id": "ItPhXjZThnAy",
        "outputId": "cc30c3e3-680f-404d-8c09-3eb9cbb8702c"
      },
      "source": [
        "from sklearn.metrics import classification_report, accuracy_score, precision_score, recall_score\n",
        "from sklearn.metrics import f1_score, roc_auc_score\n",
        "\n",
        "cr = classification_report(y_test, y_pred)\n",
        "print(cr)\n",
        "\n",
        "score_df = pd.DataFrame({'accuracy': accuracy_score(y_test, y_pred),\n",
        "                         'precision': precision_score(y_test, y_pred),\n",
        "                         'recall': recall_score(y_test, y_pred),\n",
        "                         'f1': f1_score(y_test, y_pred),\n",
        "                         'auc': roc_auc_score(y_test, y_pred)},\n",
        "                         index=pd.Index([0]))\n",
        "\n",
        "print(score_df)"
      ],
      "execution_count": 19,
      "outputs": [
        {
          "output_type": "stream",
          "name": "stdout",
          "text": [
            "              precision    recall  f1-score   support\n",
            "\n",
            "       False       0.93      0.99      0.96      1288\n",
            "        True       0.94      0.55      0.70       212\n",
            "\n",
            "    accuracy                           0.93      1500\n",
            "   macro avg       0.94      0.77      0.83      1500\n",
            "weighted avg       0.93      0.93      0.92      1500\n",
            "\n",
            "   accuracy  precision    recall        f1       auc\n",
            "0     0.932   0.943548  0.551887  0.696429  0.773226\n"
          ]
        }
      ]
    },
    {
      "cell_type": "markdown",
      "metadata": {
        "id": "7f5KGjhxhnAz"
      },
      "source": [
        "## Question 6\n",
        "\n",
        "* Print or visualize the confusion matrix.\n",
        "* Plot the ROC-AUC and precision-recall curves.\n",
        "* Plot the feature importances."
      ]
    },
    {
      "cell_type": "markdown",
      "source": [
        "# ** Note the prediction label (True-False) in the figured should be flipped **"
      ],
      "metadata": {
        "id": "wv5BWvLnCB5k"
      }
    },
    {
      "cell_type": "code",
      "metadata": {
        "ExecuteTime": {
          "end_time": "2017-04-09T22:23:38.549628Z",
          "start_time": "2017-04-09T18:23:38.270924-04:00"
        },
        "colab": {
          "base_uri": "https://localhost:8080/",
          "height": 320
        },
        "id": "T8WH_JVshnAz",
        "outputId": "153f048d-f93e-4a92-d44e-bc91d2ac5adf"
      },
      "source": [
        "from sklearn.metrics import roc_curve, precision_recall_curve, confusion_matrix\n",
        "\n",
        "sns.set_context('talk')\n",
        "cm = confusion_matrix(y_test, y_pred)\n",
        "ax = sns.heatmap(cm, annot=True, fmt='d')\n",
        "\n",
        "labels = ['False', 'True']\n",
        "ax.set_xticklabels(labels);\n",
        "ax.set_yticklabels(labels[::-1]);\n",
        "ax.set_ylabel('Prediction');\n",
        "ax.set_xlabel('Ground Truth')"
      ],
      "execution_count": 20,
      "outputs": [
        {
          "output_type": "execute_result",
          "data": {
            "text/plain": [
              "Text(0.5, 1.5, 'Ground Truth')"
            ]
          },
          "metadata": {},
          "execution_count": 20
        },
        {
          "output_type": "display_data",
          "data": {
            "image/png": "[encoded data removed]",
            "text/plain": [
              "<Figure size 432x288 with 2 Axes>"
            ]
          },
          "metadata": {}
        }
      ]
    },
    {
      "cell_type": "markdown",
      "metadata": {
        "id": "ZoJc7NVphnAz"
      },
      "source": [
        "The ROC-AUC and precision-recall curves."
      ]
    },
    {
      "cell_type": "code",
      "metadata": {
        "ExecuteTime": {
          "end_time": "2017-04-09T22:23:40.968026Z",
          "start_time": "2017-04-09T18:23:40.497603-04:00"
        },
        "colab": {
          "base_uri": "https://localhost:8080/",
          "height": 352
        },
        "id": "oQGaSO9ghnAz",
        "outputId": "7ab92048-fced-4bc0-ea81-cfd3932e527b"
      },
      "source": [
        "sns.set_context('talk')\n",
        "\n",
        "fig, axList = plt.subplots(ncols=2)\n",
        "fig.set_size_inches(11, 5)\n",
        "\n",
        "# Get the probabilities for each of the two categories\n",
        "y_prob = model.predict_proba(X_test)\n",
        "\n",
        "# Plot the ROC-AUC curve\n",
        "ax = axList[0]\n",
        "\n",
        "fpr, tpr, thresholds = roc_curve(y_test, y_prob[:,1])\n",
        "ax.plot(fpr, tpr)\n",
        "# It is customary to draw a diagonal dotted line in ROC plots.\n",
        "# This is to indicate completely random prediction. Deviation from this\n",
        "# dotted line towards the upper left corner signifies the power of the model.\n",
        "ax.plot([0, 1], [0, 1], ls='--', color='black', lw=.3)\n",
        "ax.set(xlabel='False Positive Rate',\n",
        "       ylabel='True Positive Rate',\n",
        "       xlim=[-.01, 1.01], ylim=[-.01, 1.01],\n",
        "       title='ROC curve')\n",
        "ax.grid(True)\n",
        "\n",
        "# Plot the precision-recall curve\n",
        "ax = axList[1]\n",
        "\n",
        "precision, recall, _ = precision_recall_curve(y_test, y_prob[:,1])\n",
        "ax.plot(recall, precision)\n",
        "ax.set(xlabel='Recall', ylabel='Precision',\n",
        "       xlim=[-.01, 1.01], ylim=[-.01, 1.01],\n",
        "       title='Precision-Recall curve')\n",
        "ax.grid(True)\n",
        "\n",
        "plt.tight_layout()"
      ],
      "execution_count": 21,
      "outputs": [
        {
          "output_type": "display_data",
          "data": {
            "image/png": "[encoded data removed]",
            "text/plain": [
              "<Figure size 792x360 with 2 Axes>"
            ]
          },
          "metadata": {}
        }
      ]
    },
    {
      "cell_type": "markdown",
      "metadata": {
        "id": "I7om0EVohnAz"
      },
      "source": [
        "The feature importances. Total daily cost is the biggest predictor of customer churn."
      ]
    },
    {
      "cell_type": "code",
      "metadata": {
        "ExecuteTime": {
          "end_time": "2017-04-09T22:23:43.645225Z",
          "start_time": "2017-04-09T18:23:43.209194-04:00"
        },
        "colab": {
          "base_uri": "https://localhost:8080/",
          "height": 524
        },
        "id": "pcHXH9IShnAz",
        "outputId": "9823733e-4fba-47c0-d8c8-5fdaffaa321b"
      },
      "source": [
        "feature_imp = pd.Series(model.feature_importances_, index=feature_cols).sort_values(ascending=False)\n",
        "\n",
        "ax = feature_imp.plot(kind='bar')\n",
        "ax.set(ylabel='Relative Importance');"
      ],
      "execution_count": 22,
      "outputs": [
        {
          "output_type": "display_data",
          "data": {
            "image/png": "[encoded data removed]",
            "text/plain": [
              "<Figure size 432x288 with 1 Axes>"
            ]
          },
          "metadata": {}
        }
      ]
    },
    {
      "cell_type": "markdown",
      "metadata": {
        "id": "huFfXn6BhnAz"
      },
      "source": [
        "### Churn data has lot of class imbalance. \n",
        "To fix it, use different sampling techniques like SMOTE, RamdomOverSampling .\n",
        "Refer http://contrib.scikit-learn.org/imbalanced-learn/stable/api.html\n",
        "\n",
        "After fixing class imablance, check the metrics for different techniques."
      ]
    },
    {
      "cell_type": "code",
      "metadata": {
        "collapsed": true,
        "id": "SSBb8fqphnA0"
      },
      "source": [
        "from sklearn.ensemble import RandomForestClassifier\n",
        "from sklearn.model_selection import train_test_split\n",
        "from sklearn.metrics import recall_score\n",
        "from imblearn.over_sampling import SMOTE\n",
        "from imblearn import over_sampling as os_smote\n",
        "from imblearn import under_sampling as us_smote\n",
        "from imblearn import combine as cs_smote"
      ],
      "execution_count": 23,
      "outputs": []
    },
    {
      "cell_type": "markdown",
      "metadata": {
        "id": "_fKbOE0WhnA0"
      },
      "source": [
        "## Question 7 \n",
        "\n",
        "Create different objects using multiple smoting methods\n",
        "\n",
        "Ex: os_sm = os_smote.SMOTE(random_state=45, ratio = 0.6)"
      ]
    },
    {
      "cell_type": "markdown",
      "metadata": {
        "id": "FVWNzdb1hnA0"
      },
      "source": [
        "#### Re-generate X_train and y_train using SMOTE object\n",
        "\n",
        "Cross verify the value counts"
      ]
    },
    {
      "cell_type": "markdown",
      "source": [
        "**MM:**<br>*I used [this link](https://machinelearningmastery.com/smote-oversampling-for-imbalanced-classification/) to do the SMOTE.*"
      ],
      "metadata": {
        "id": "ykJ1OuuzhHiq"
      }
    },
    {
      "cell_type": "code",
      "metadata": {
        "collapsed": true,
        "id": "HVxy5hnphnA0"
      },
      "source": [
        "#MM:\n",
        "oversample = SMOTE()\n",
        "X_train, y_train = oversample.fit_resample(X_train, y_train)"
      ],
      "execution_count": 24,
      "outputs": []
    },
    {
      "cell_type": "markdown",
      "metadata": {
        "id": "tyoSnn3hhnA0"
      },
      "source": [
        "## Question 8\n",
        "\n",
        "* Fit random forest models with a range of tree numbers and evaluate the out-of-bag error for each of these models.\n",
        "* Plot the resulting oob errors as a function of the number of trees.\n",
        "\n",
        "*Hint:* since the only thing changing is the number of trees, the `warm_start` flag can be used so that the model just adds more trees to the existing model each time. Use the `set_params` method to update the number of trees.\n",
        "\n",
        "*Note:* Use re-sampled data"
      ]
    },
    {
      "cell_type": "code",
      "metadata": {
        "ExecuteTime": {
          "end_time": "2017-04-09T22:22:31.302067Z",
          "start_time": "2017-04-09T18:22:28.418581-04:00"
        },
        "collapsed": true,
        "id": "BT6ZExvChnA0",
        "colab": {
          "base_uri": "https://localhost:8080/",
          "height": 394
        },
        "outputId": "a7ae0a9b-8d06-45f4-d91c-98db600fbe2a"
      },
      "source": [
        "# MM:\n",
        "# from sklearn.ensemble import RandomForestClassifier\n",
        "\n",
        "# Initialize the random forest estimator\n",
        "# Note that the number of trees is not setup here\n",
        "RF = RandomForestClassifier(oob_score=True, \n",
        "                            random_state=42, \n",
        "                            warm_start=True,\n",
        "                            n_jobs=-1)\n",
        "\n",
        "oob_list = list()\n",
        "\n",
        "# Iterate through all of the possibilities for \n",
        "# number of trees\n",
        "for n_trees in [15, 20, 30, 40, 50, 100, 150, 200, 300, 400]:\n",
        "    \n",
        "    # Use this to set the number of trees\n",
        "    RF.set_params(n_estimators=n_trees)\n",
        "\n",
        "    # Fit the model\n",
        "    RF.fit(X_train, y_train)\n",
        "\n",
        "    # Get the oob error\n",
        "    oob_error = 1 - RF.oob_score_\n",
        "    \n",
        "    # Store it\n",
        "    oob_list.append(pd.Series({'n_trees': n_trees, 'oob': oob_error}))\n",
        "\n",
        "rf_oob_df = pd.concat(oob_list, axis=1).T.set_index('n_trees')\n",
        "\n",
        "rf_oob_df"
      ],
      "execution_count": 25,
      "outputs": [
        {
          "output_type": "execute_result",
          "data": {
            "text/html": [
              "<div>\n",
              "<style scoped>\n",
              "    .dataframe tbody tr th:only-of-type {\n",
              "        vertical-align: middle;\n",
              "    }\n",
              "\n",
              "    .dataframe tbody tr th {\n",
              "        vertical-align: top;\n",
              "    }\n",
              "\n",
              "    .dataframe thead th {\n",
              "        text-align: right;\n",
              "    }\n",
              "</style>\n",
              "<table border=\"1\" class=\"dataframe\">\n",
              "  <thead>\n",
              "    <tr style=\"text-align: right;\">\n",
              "      <th></th>\n",
              "      <th>oob</th>\n",
              "    </tr>\n",
              "    <tr>\n",
              "      <th>n_trees</th>\n",
              "      <th></th>\n",
              "    </tr>\n",
              "  </thead>\n",
              "  <tbody>\n",
              "    <tr>\n",
              "      <th>15.0</th>\n",
              "      <td>0.107155</td>\n",
              "    </tr>\n",
              "    <tr>\n",
              "      <th>20.0</th>\n",
              "      <td>0.097504</td>\n",
              "    </tr>\n",
              "    <tr>\n",
              "      <th>30.0</th>\n",
              "      <td>0.086190</td>\n",
              "    </tr>\n",
              "    <tr>\n",
              "      <th>40.0</th>\n",
              "      <td>0.076705</td>\n",
              "    </tr>\n",
              "    <tr>\n",
              "      <th>50.0</th>\n",
              "      <td>0.075707</td>\n",
              "    </tr>\n",
              "    <tr>\n",
              "      <th>100.0</th>\n",
              "      <td>0.066389</td>\n",
              "    </tr>\n",
              "    <tr>\n",
              "      <th>150.0</th>\n",
              "      <td>0.065557</td>\n",
              "    </tr>\n",
              "    <tr>\n",
              "      <th>200.0</th>\n",
              "      <td>0.064060</td>\n",
              "    </tr>\n",
              "    <tr>\n",
              "      <th>300.0</th>\n",
              "      <td>0.059900</td>\n",
              "    </tr>\n",
              "    <tr>\n",
              "      <th>400.0</th>\n",
              "      <td>0.060399</td>\n",
              "    </tr>\n",
              "  </tbody>\n",
              "</table>\n",
              "</div>"
            ],
            "text/plain": [
              "              oob\n",
              "n_trees          \n",
              "15.0     0.107155\n",
              "20.0     0.097504\n",
              "30.0     0.086190\n",
              "40.0     0.076705\n",
              "50.0     0.075707\n",
              "100.0    0.066389\n",
              "150.0    0.065557\n",
              "200.0    0.064060\n",
              "300.0    0.059900\n",
              "400.0    0.060399"
            ]
          },
          "metadata": {},
          "execution_count": 25
        }
      ]
    },
    {
      "cell_type": "markdown",
      "metadata": {
        "id": "K_EZrtc_hnA0"
      },
      "source": [
        "The error looks like it has stabilized around 100-150 trees."
      ]
    },
    {
      "cell_type": "code",
      "metadata": {
        "ExecuteTime": {
          "end_time": "2017-04-09T22:22:37.666231Z",
          "start_time": "2017-04-09T18:22:37.268102-04:00"
        },
        "collapsed": true,
        "id": "GR4J_up8hnA0"
      },
      "source": [
        "import matplotlib.pyplot as plt\n",
        "import seaborn as sns\n",
        "\n",
        "%matplotlib inline"
      ],
      "execution_count": 26,
      "outputs": []
    },
    {
      "cell_type": "code",
      "metadata": {
        "ExecuteTime": {
          "end_time": "2017-04-09T22:22:38.644602Z",
          "start_time": "2017-04-09T18:22:38.293332-04:00"
        },
        "collapsed": true,
        "id": "C16EOCRvhnA0",
        "colab": {
          "base_uri": "https://localhost:8080/",
          "height": 301
        },
        "outputId": "35e0a365-7700-44c4-de52-8aaf4c0d2068"
      },
      "source": [
        "# MM:\n",
        "sns.set_context('talk')\n",
        "sns.set_palette('dark')\n",
        "sns.set_style('white')\n",
        "\n",
        "ax = rf_oob_df.plot(legend=False, marker='o')\n",
        "ax.set(ylabel='out-of-bag error');"
      ],
      "execution_count": 27,
      "outputs": [
        {
          "output_type": "display_data",
          "data": {
            "image/png": "[encoded data removed]",
            "text/plain": [
              "<Figure size 432x288 with 1 Axes>"
            ]
          },
          "metadata": {}
        }
      ]
    },
    {
      "cell_type": "markdown",
      "metadata": {
        "id": "Jb3nYQDvhnA0"
      },
      "source": [
        "## Question 9\n",
        "\n",
        "* Repeat question 3 using extra randomized trees (`ExtraTreesClassifier`). Note that the `bootstrap` parameter will have to be set to `True` for this model.\n",
        "* Compare the out-of-bag errors for the two different types of models."
      ]
    },
    {
      "cell_type": "code",
      "metadata": {
        "ExecuteTime": {
          "end_time": "2017-04-09T22:23:17.412283Z",
          "start_time": "2017-04-09T18:23:15.457918-04:00"
        },
        "collapsed": true,
        "id": "snkXf9X6hnA1",
        "colab": {
          "base_uri": "https://localhost:8080/",
          "height": 394
        },
        "outputId": "67b429bc-0e6b-469c-8293-859427daf1e2"
      },
      "source": [
        "# MM:\n",
        "# from sklearn.ensemble import ExtraTreesClassifier\n",
        "\n",
        "# Initialize the random forest estimator\n",
        "# Note that the number of trees is not setup here\n",
        "EF = ExtraTreesClassifier(oob_score=True, \n",
        "                          random_state=42, \n",
        "                          warm_start=True,\n",
        "                          bootstrap=True,\n",
        "                          n_jobs=-1)\n",
        "\n",
        "oob_list = list()\n",
        "\n",
        "# Iterate through all of the possibilities for \n",
        "# number of trees\n",
        "for n_trees in [15, 20, 30, 40, 50, 100, 150, 200, 300, 400]:\n",
        "    \n",
        "    # Use this to set the number of trees\n",
        "    EF.set_params(n_estimators=n_trees)\n",
        "    EF.fit(X_train, y_train)\n",
        "\n",
        "    # oob error\n",
        "    oob_error = 1 - EF.oob_score_\n",
        "    oob_list.append(pd.Series({'n_trees': n_trees, 'oob': oob_error}))\n",
        "\n",
        "et_oob_df = pd.concat(oob_list, axis=1).T.set_index('n_trees')\n",
        "\n",
        "et_oob_df"
      ],
      "execution_count": 28,
      "outputs": [
        {
          "output_type": "execute_result",
          "data": {
            "text/html": [
              "<div>\n",
              "<style scoped>\n",
              "    .dataframe tbody tr th:only-of-type {\n",
              "        vertical-align: middle;\n",
              "    }\n",
              "\n",
              "    .dataframe tbody tr th {\n",
              "        vertical-align: top;\n",
              "    }\n",
              "\n",
              "    .dataframe thead th {\n",
              "        text-align: right;\n",
              "    }\n",
              "</style>\n",
              "<table border=\"1\" class=\"dataframe\">\n",
              "  <thead>\n",
              "    <tr style=\"text-align: right;\">\n",
              "      <th></th>\n",
              "      <th>oob</th>\n",
              "    </tr>\n",
              "    <tr>\n",
              "      <th>n_trees</th>\n",
              "      <th></th>\n",
              "    </tr>\n",
              "  </thead>\n",
              "  <tbody>\n",
              "    <tr>\n",
              "      <th>15.0</th>\n",
              "      <td>0.110982</td>\n",
              "    </tr>\n",
              "    <tr>\n",
              "      <th>20.0</th>\n",
              "      <td>0.095175</td>\n",
              "    </tr>\n",
              "    <tr>\n",
              "      <th>30.0</th>\n",
              "      <td>0.080865</td>\n",
              "    </tr>\n",
              "    <tr>\n",
              "      <th>40.0</th>\n",
              "      <td>0.070882</td>\n",
              "    </tr>\n",
              "    <tr>\n",
              "      <th>50.0</th>\n",
              "      <td>0.069052</td>\n",
              "    </tr>\n",
              "    <tr>\n",
              "      <th>100.0</th>\n",
              "      <td>0.057072</td>\n",
              "    </tr>\n",
              "    <tr>\n",
              "      <th>150.0</th>\n",
              "      <td>0.053245</td>\n",
              "    </tr>\n",
              "    <tr>\n",
              "      <th>200.0</th>\n",
              "      <td>0.052912</td>\n",
              "    </tr>\n",
              "    <tr>\n",
              "      <th>300.0</th>\n",
              "      <td>0.049750</td>\n",
              "    </tr>\n",
              "    <tr>\n",
              "      <th>400.0</th>\n",
              "      <td>0.049917</td>\n",
              "    </tr>\n",
              "  </tbody>\n",
              "</table>\n",
              "</div>"
            ],
            "text/plain": [
              "              oob\n",
              "n_trees          \n",
              "15.0     0.110982\n",
              "20.0     0.095175\n",
              "30.0     0.080865\n",
              "40.0     0.070882\n",
              "50.0     0.069052\n",
              "100.0    0.057072\n",
              "150.0    0.053245\n",
              "200.0    0.052912\n",
              "300.0    0.049750\n",
              "400.0    0.049917"
            ]
          },
          "metadata": {},
          "execution_count": 28
        }
      ]
    },
    {
      "cell_type": "markdown",
      "metadata": {
        "id": "EbFyqG2QhnA1"
      },
      "source": [
        "Combine the two dataframes into a single one for easier plotting."
      ]
    },
    {
      "cell_type": "code",
      "metadata": {
        "ExecuteTime": {
          "end_time": "2017-04-09T22:23:19.000407Z",
          "start_time": "2017-04-09T18:23:18.985347-04:00"
        },
        "collapsed": true,
        "id": "R8tLzbTzhnA1",
        "colab": {
          "base_uri": "https://localhost:8080/",
          "height": 394
        },
        "outputId": "70d1e7f7-fc9c-4f57-8326-afec9c7488ab"
      },
      "source": [
        "# MM:\n",
        "oob_df = pd.concat([rf_oob_df.rename(columns={'oob':'RandomForest'}),\n",
        "                    et_oob_df.rename(columns={'oob':'ExtraTrees'})], axis=1)\n",
        "\n",
        "oob_df"
      ],
      "execution_count": 29,
      "outputs": [
        {
          "output_type": "execute_result",
          "data": {
            "text/html": [
              "<div>\n",
              "<style scoped>\n",
              "    .dataframe tbody tr th:only-of-type {\n",
              "        vertical-align: middle;\n",
              "    }\n",
              "\n",
              "    .dataframe tbody tr th {\n",
              "        vertical-align: top;\n",
              "    }\n",
              "\n",
              "    .dataframe thead th {\n",
              "        text-align: right;\n",
              "    }\n",
              "</style>\n",
              "<table border=\"1\" class=\"dataframe\">\n",
              "  <thead>\n",
              "    <tr style=\"text-align: right;\">\n",
              "      <th></th>\n",
              "      <th>RandomForest</th>\n",
              "      <th>ExtraTrees</th>\n",
              "    </tr>\n",
              "    <tr>\n",
              "      <th>n_trees</th>\n",
              "      <th></th>\n",
              "      <th></th>\n",
              "    </tr>\n",
              "  </thead>\n",
              "  <tbody>\n",
              "    <tr>\n",
              "      <th>15.0</th>\n",
              "      <td>0.107155</td>\n",
              "      <td>0.110982</td>\n",
              "    </tr>\n",
              "    <tr>\n",
              "      <th>20.0</th>\n",
              "      <td>0.097504</td>\n",
              "      <td>0.095175</td>\n",
              "    </tr>\n",
              "    <tr>\n",
              "      <th>30.0</th>\n",
              "      <td>0.086190</td>\n",
              "      <td>0.080865</td>\n",
              "    </tr>\n",
              "    <tr>\n",
              "      <th>40.0</th>\n",
              "      <td>0.076705</td>\n",
              "      <td>0.070882</td>\n",
              "    </tr>\n",
              "    <tr>\n",
              "      <th>50.0</th>\n",
              "      <td>0.075707</td>\n",
              "      <td>0.069052</td>\n",
              "    </tr>\n",
              "    <tr>\n",
              "      <th>100.0</th>\n",
              "      <td>0.066389</td>\n",
              "      <td>0.057072</td>\n",
              "    </tr>\n",
              "    <tr>\n",
              "      <th>150.0</th>\n",
              "      <td>0.065557</td>\n",
              "      <td>0.053245</td>\n",
              "    </tr>\n",
              "    <tr>\n",
              "      <th>200.0</th>\n",
              "      <td>0.064060</td>\n",
              "      <td>0.052912</td>\n",
              "    </tr>\n",
              "    <tr>\n",
              "      <th>300.0</th>\n",
              "      <td>0.059900</td>\n",
              "      <td>0.049750</td>\n",
              "    </tr>\n",
              "    <tr>\n",
              "      <th>400.0</th>\n",
              "      <td>0.060399</td>\n",
              "      <td>0.049917</td>\n",
              "    </tr>\n",
              "  </tbody>\n",
              "</table>\n",
              "</div>"
            ],
            "text/plain": [
              "         RandomForest  ExtraTrees\n",
              "n_trees                          \n",
              "15.0         0.107155    0.110982\n",
              "20.0         0.097504    0.095175\n",
              "30.0         0.086190    0.080865\n",
              "40.0         0.076705    0.070882\n",
              "50.0         0.075707    0.069052\n",
              "100.0        0.066389    0.057072\n",
              "150.0        0.065557    0.053245\n",
              "200.0        0.064060    0.052912\n",
              "300.0        0.059900    0.049750\n",
              "400.0        0.060399    0.049917"
            ]
          },
          "metadata": {},
          "execution_count": 29
        }
      ]
    },
    {
      "cell_type": "markdown",
      "metadata": {
        "id": "guArJmpkhnA1"
      },
      "source": [
        "The random forest model performs consistently better than the extra randomized trees.<br>**MM:**<br>*Fix: The extra randomized model performs consistently better than the random forest.*"
      ]
    },
    {
      "cell_type": "code",
      "metadata": {
        "ExecuteTime": {
          "end_time": "2017-04-09T22:23:20.424934Z",
          "start_time": "2017-04-09T18:23:20.180646-04:00"
        },
        "collapsed": true,
        "id": "BueEa2Q9hnA1",
        "colab": {
          "base_uri": "https://localhost:8080/",
          "height": 301
        },
        "outputId": "055aa356-09ce-47fc-d735-98b116507f05"
      },
      "source": [
        "sns.set_context('talk')\n",
        "sns.set_palette('dark')\n",
        "sns.set_style('white')\n",
        "\n",
        "ax = oob_df.plot(marker='o')\n",
        "ax.set(ylabel='out-of-bag error');"
      ],
      "execution_count": 30,
      "outputs": [
        {
          "output_type": "display_data",
          "data": {
            "image/png": "[encoded data removed]",
            "text/plain": [
              "<Figure size 432x288 with 1 Axes>"
            ]
          },
          "metadata": {}
        }
      ]
    },
    {
      "cell_type": "markdown",
      "metadata": {
        "id": "7qc80P1QhnA1"
      },
      "source": [
        "## Question 10\n",
        "\n",
        "* Select one of the models that performs well and calculate error metrics and a confusion matrix on the test data set. \n",
        "* Given the distribution of the predicted class, which metric is most important? Which could be deceiving?"
      ]
    },
    {
      "cell_type": "code",
      "metadata": {
        "ExecuteTime": {
          "end_time": "2017-04-09T22:23:23.367818Z",
          "start_time": "2017-04-09T18:23:23.150988-04:00"
        },
        "collapsed": true,
        "id": "na5n_YsLhnA1"
      },
      "source": [
        "# MM:\n",
        "# Random forest with 100 estimators\n",
        "model = RF.set_params(n_estimators=100)\n",
        "\n",
        "y_pred = model.predict(X_test)"
      ],
      "execution_count": 31,
      "outputs": []
    },
    {
      "cell_type": "markdown",
      "metadata": {
        "id": "IcOJppEBhnA1"
      },
      "source": [
        "Unsurprisingly, recall is rather poor for the customers who churned (True) class since they are quite small. We are doing better than random guessing, though, as the accuracy is 0.932 (vs 0.85 for random guessing).<br>**MM**:<br>*fix: accuracy is 0.913.*"
      ]
    },
    {
      "cell_type": "code",
      "metadata": {
        "ExecuteTime": {
          "end_time": "2017-04-09T22:23:24.448193Z",
          "start_time": "2017-04-09T18:23:24.424414-04:00"
        },
        "collapsed": true,
        "id": "hWgIW-tuhnA1",
        "colab": {
          "base_uri": "https://localhost:8080/"
        },
        "outputId": "b4f53734-2e15-4241-e1a5-4361690bb47f"
      },
      "source": [
        "#MM:\n",
        "# from sklearn.metrics import classification_report, accuracy_score, precision_score, recall_score\n",
        "# from sklearn.metrics import f1_score, roc_auc_score\n",
        "\n",
        "cr = classification_report(y_test, y_pred)\n",
        "print(cr)\n",
        "\n",
        "score_df = pd.DataFrame({'accuracy': accuracy_score(y_test, y_pred),\n",
        "                         'precision': precision_score(y_test, y_pred),\n",
        "                         'recall': recall_score(y_test, y_pred),\n",
        "                         'f1': f1_score(y_test, y_pred),\n",
        "                         'auc': roc_auc_score(y_test, y_pred)},\n",
        "                         index=pd.Index([0]))\n",
        "\n",
        "print(score_df)"
      ],
      "execution_count": 32,
      "outputs": [
        {
          "output_type": "stream",
          "name": "stdout",
          "text": [
            "              precision    recall  f1-score   support\n",
            "\n",
            "       False       0.94      0.96      0.95      1288\n",
            "        True       0.72      0.61      0.66       212\n",
            "\n",
            "    accuracy                           0.91      1500\n",
            "   macro avg       0.83      0.79      0.81      1500\n",
            "weighted avg       0.91      0.91      0.91      1500\n",
            "\n",
            "   accuracy  precision    recall        f1       auc\n",
            "0  0.911333   0.718232  0.613208  0.661578  0.786806\n"
          ]
        }
      ]
    },
    {
      "cell_type": "markdown",
      "metadata": {
        "id": "xDeDG7gjhnA1"
      },
      "source": [
        "## Question 11\n",
        "\n",
        "* Print or visualize the confusion matrix.\n",
        "* Plot the ROC-AUC and precision-recall curves.\n",
        "* Plot the feature importances."
      ]
    },
    {
      "cell_type": "code",
      "metadata": {
        "ExecuteTime": {
          "end_time": "2017-04-09T22:23:38.549628Z",
          "start_time": "2017-04-09T18:23:38.270924-04:00"
        },
        "collapsed": true,
        "id": "yty5H-EphnA1",
        "colab": {
          "base_uri": "https://localhost:8080/",
          "height": 318
        },
        "outputId": "283a6080-1834-466c-bf26-fdef8f2727f0"
      },
      "source": [
        "# MM:\n",
        "# from sklearn.metrics import roc_curve, precision_recall_curve, confusion_matrix\n",
        "\n",
        "sns.set_context('talk')\n",
        "cm = confusion_matrix(y_test, y_pred)\n",
        "ax = sns.heatmap(cm, annot=True, fmt='d')\n",
        "\n",
        "labels = ['False', 'True']\n",
        "ax.set_xticklabels(labels);\n",
        "ax.set_yticklabels(labels[::-1]);\n",
        "ax.set_ylabel('Prediction');\n",
        "ax.set_xlabel('Ground Truth')"
      ],
      "execution_count": 33,
      "outputs": [
        {
          "output_type": "execute_result",
          "data": {
            "text/plain": [
              "Text(0.5, 1.5, 'Ground Truth')"
            ]
          },
          "metadata": {},
          "execution_count": 33
        },
        {
          "output_type": "display_data",
          "data": {
            "image/png": "[encoded data removed]",
            "text/plain": [
              "<Figure size 432x288 with 2 Axes>"
            ]
          },
          "metadata": {}
        }
      ]
    },
    {
      "cell_type": "markdown",
      "metadata": {
        "id": "GUg4XR5shnA1"
      },
      "source": [
        "The ROC-AUC and precision-recall curves."
      ]
    },
    {
      "cell_type": "code",
      "metadata": {
        "ExecuteTime": {
          "end_time": "2017-04-09T22:23:40.968026Z",
          "start_time": "2017-04-09T18:23:40.497603-04:00"
        },
        "collapsed": true,
        "id": "fXFrP5jAhnA2",
        "colab": {
          "base_uri": "https://localhost:8080/",
          "height": 352
        },
        "outputId": "8ebe114b-1fd8-418e-a288-ca5b5c8c455d"
      },
      "source": [
        "# MM:\n",
        "sns.set_context('talk')\n",
        "\n",
        "fig, axList = plt.subplots(ncols=2)\n",
        "fig.set_size_inches(11, 5)\n",
        "\n",
        "# Get the probabilities for each of the two categories\n",
        "y_prob = model.predict_proba(X_test)\n",
        "\n",
        "# Plot the ROC-AUC curve\n",
        "ax = axList[0]\n",
        "\n",
        "fpr, tpr, thresholds = roc_curve(y_test, y_prob[:,1])\n",
        "ax.plot(fpr, tpr)\n",
        "# It is customary to draw a diagonal dotted line in ROC plots.\n",
        "# This is to indicate completely random prediction. Deviation from this\n",
        "# dotted line towards the upper left corner signifies the power of the model.\n",
        "ax.plot([0, 1], [0, 1], ls='--', color='black', lw=.3)\n",
        "ax.set(xlabel='False Positive Rate',\n",
        "       ylabel='True Positive Rate',\n",
        "       xlim=[-.01, 1.01], ylim=[-.01, 1.01],\n",
        "       title='ROC curve')\n",
        "ax.grid(True)\n",
        "\n",
        "# Plot the precision-recall curve\n",
        "ax = axList[1]\n",
        "\n",
        "precision, recall, _ = precision_recall_curve(y_test, y_prob[:,1])\n",
        "ax.plot(recall, precision)\n",
        "ax.set(xlabel='Recall', ylabel='Precision',\n",
        "       xlim=[-.01, 1.01], ylim=[-.01, 1.01],\n",
        "       title='Precision-Recall curve')\n",
        "ax.grid(True)\n",
        "\n",
        "plt.tight_layout()"
      ],
      "execution_count": 34,
      "outputs": [
        {
          "output_type": "display_data",
          "data": {
            "image/png": "[encoded data removed]",
            "text/plain": [
              "<Figure size 792x360 with 2 Axes>"
            ]
          },
          "metadata": {}
        }
      ]
    },
    {
      "cell_type": "markdown",
      "metadata": {
        "id": "8rL0icekhnA2"
      },
      "source": [
        "The feature importances. Total daily cost is the biggest predictor of customer churn."
      ]
    },
    {
      "cell_type": "code",
      "metadata": {
        "ExecuteTime": {
          "end_time": "2017-04-09T22:23:43.645225Z",
          "start_time": "2017-04-09T18:23:43.209194-04:00"
        },
        "collapsed": true,
        "id": "s7UHpfRphnA2",
        "colab": {
          "base_uri": "https://localhost:8080/",
          "height": 526
        },
        "outputId": "8048ab07-ea85-485e-8a56-24bd48f721f2"
      },
      "source": [
        "# MM:\n",
        "feature_imp = pd.Series(model.feature_importances_, index=feature_cols).sort_values(ascending=False)\n",
        "\n",
        "ax = feature_imp.plot(kind='bar')\n",
        "ax.set(ylabel='Relative Importance');"
      ],
      "execution_count": 35,
      "outputs": [
        {
          "output_type": "display_data",
          "data": {
            "image/png": "[encoded data removed]",
            "text/plain": [
              "<Figure size 432x288 with 1 Axes>"
            ]
          },
          "metadata": {}
        }
      ]
    }
  ]
}