{
  "nbformat": 4,
  "nbformat_minor": 0,
  "metadata": {
    "colab": {
      "name": "ConstructionPlans.ipynb",
      "provenance": [],
      "authorship_tag": "ABX9TyPXXVPLuy+MSPv6TNYP3mzf",
      "include_colab_link": true
    },
    "kernelspec": {
      "name": "python3",
      "display_name": "Python 3"
    },
    "language_info": {
      "name": "python"
    }
  },
  "cells": [
    {
      "cell_type": "markdown",
      "metadata": {
        "id": "view-in-github",
        "colab_type": "text"
      },
      "source": [
        "<a href=\"https://colab.research.google.com/github/mannmoshe/machine-learning/blob/main/FinalProject/ConstructionPlans_withNew.ipynb\" target=\"_parent\"><img src=\"https://colab.research.google.com/assets/colab-badge.svg\" alt=\"Open In Colab\"/></a>"
      ]
    },
    {
      "cell_type": "markdown",
      "source": [
        "# Final Project - Construction plans<br>*By Moshe Mann*"
      ],
      "metadata": {
        "id": "ZEjIPay33abT"
      }
    },
    {
      "cell_type": "markdown",
      "source": [
        "**Overview**<br>\n",
        "The Israel Planning Administration (IPA) is handling detailed construction plans.<BR>Every detailed plan contains a lot of data, among the rest, division of main and service area.<BR><BR>Main area is the area that divided among the tenants, like the departments,<BR> and the service area is common to all tenants, like parking, stairwell etc.<BR><BR>\n",
        "In the near future the plans will not include the division between main and service area, because it is not important for the IPA as planning unit, but still, it is important data for regulation.<BR><BR> The purpose of the project is to predict the main and service areas based on the cell and plan features, so that the model can be used for regulatory purposes."
      ],
      "metadata": {
        "id": "pcfRRxNVLaMm"
      }
    },
    {
      "cell_type": "code",
      "execution_count": 60,
      "metadata": {
        "id": "_E9eo8uh3ZkZ"
      },
      "outputs": [],
      "source": [
        "import numpy as np\n",
        "import pandas as pd\n",
        "import seaborn as sns"
      ]
    },
    {
      "cell_type": "code",
      "source": [
        "data = pd.read_csv('https://raw.githubusercontent.com/mannmoshe/machine-learning/main/FinalProject/cellsData.csv')\n",
        "data = data.drop_duplicates(subset=\"PL_NUMBER\", keep=\"first\")"
      ],
      "metadata": {
        "id": "ZqjZVz1jUDLC"
      },
      "execution_count": 61,
      "outputs": []
    },
    {
      "cell_type": "code",
      "source": [
        "data.shape"
      ],
      "metadata": {
        "colab": {
          "base_uri": "https://localhost:8080/"
        },
        "id": "_eEhtbV44F46",
        "outputId": "c7a93fa6-e8ef-485a-9417-a458b0f6bc75"
      },
      "execution_count": 62,
      "outputs": [
        {
          "output_type": "execute_result",
          "data": {
            "text/plain": [
              "(2582, 17)"
            ]
          },
          "metadata": {},
          "execution_count": 62
        }
      ]
    },
    {
      "cell_type": "code",
      "source": [
        "data.info()"
      ],
      "metadata": {
        "colab": {
          "base_uri": "https://localhost:8080/"
        },
        "id": "K3gjPDzb4yoy",
        "outputId": "5e9b8279-6218-4a9d-dd99-414aae0f34cc"
      },
      "execution_count": 63,
      "outputs": [
        {
          "output_type": "stream",
          "name": "stdout",
          "text": [
            "<class 'pandas.core.frame.DataFrame'>\n",
            "Int64Index: 2582 entries, 0 to 13708\n",
            "Data columns (total 17 columns):\n",
            " #   Column                   Non-Null Count  Dtype  \n",
            "---  ------                   --------------  -----  \n",
            " 0   PL_NUMBER                2582 non-null   object \n",
            " 1   PL_AREA                  2582 non-null   object \n",
            " 2   LANDUSE                  2582 non-null   object \n",
            " 3   MAIN_AREA                2582 non-null   float64\n",
            " 4   SERVICE_AREA             2582 non-null   float64\n",
            " 5   CELL_SIZE_TOTAL          2582 non-null   float64\n",
            " 6   CELL_SIZE_MIN            2582 non-null   float64\n",
            " 7   CELL_SIZE_MAX            2582 non-null   float64\n",
            " 8   HOUSING_UNITS            2582 non-null   float64\n",
            " 9   BUILDING_HEIGHT          2582 non-null   float64\n",
            " 10  FLOORS_NUM               2582 non-null   float64\n",
            " 11  TOTAL_AREA               2582 non-null   float64\n",
            " 12  AUTHORITY                2582 non-null   object \n",
            " 13  DISTRICT                 2582 non-null   object \n",
            " 14  SECTOR_GROUP             2582 non-null   object \n",
            " 15  CONFIRMATION_YEAR        2582 non-null   int64  \n",
            " 16  CONSTRUCTION_TYPE_GROUP  2578 non-null   object \n",
            "dtypes: float64(9), int64(1), object(7)\n",
            "memory usage: 363.1+ KB\n"
          ]
        }
      ]
    },
    {
      "cell_type": "markdown",
      "source": [
        "### Features\n",
        "\n",
        "<table>\n",
        "  <tbody>    \n",
        "    <tr valign=\"top\">\n",
        "      <td valign=\"top\">\n",
        "        <ul>\n",
        "          <li>PL_NUMBER : Number of plan</li>\n",
        "          <br>\n",
        "          <li>PL_AREA: Number of plan concatenate to number of area-cell</li>\n",
        "          <br>          \n",
        "          <li>LANDUSE: Usage of land</li>\n",
        "          <br>\n",
        "          <li>MAIN_AREA: Area divided among the tentants (square meter)<br>This is the dependent variable that need to be predicted!</li>\n",
        "          <br>\n",
        "          <li>SERVICE_AREA: Common area of all the tentants (square meter)</li>\n",
        "          <br>\n",
        "          <li>CELL_SIZE_TOTAL: The size of area-cell</li>\n",
        "          <br>\n",
        "          <li>CELL_SIZE_MIN: The minimum size of area-cell</li>\n",
        "          <br>\n",
        "          <li>CELL_SIZE_MAX: The maximum size of area-cell</li>\n",
        "          <br>\n",
        "          <li>HOUSING_UNITS: Number of housing units</li>\n",
        "          <br>\n",
        "          <li>BUILDING_HEIGHT: Height of building (meter)</li>\n",
        "          <br>\n",
        "          <li>FLOORS_NUM: Number of floors</li>\n",
        "          <br>\n",
        "          <li>TOTAL_AREA: Sum of Main area and Service area</li>\n",
        "          <br>\n",
        "          <li>AUTHORITY: Authority of plan</li>\n",
        "          <br>\n",
        "          <li>DISTRICT: District of plan</li>\n",
        "          <br>\n",
        "          <li>SECTOR_GROUP: Sector of plan</li>\n",
        "          <br>\n",
        "          <li>CONFIRMATION_YEAR: Year of plan's confirmation</li>\n",
        "          <br>\n",
        "          <li>CONSTRUCTION_TYPE_GROUP: Type of construction</li>          \n",
        "        </ul>\n",
        "      </td>\n",
        "    </tr>\n",
        "    \n",
        "  </tbody>\n",
        "</table>"
      ],
      "metadata": {
        "id": "cDWHufahSZIJ"
      }
    },
    {
      "cell_type": "code",
      "source": [
        "data.head()"
      ],
      "metadata": {
        "colab": {
          "base_uri": "https://localhost:8080/",
          "height": 409
        },
        "id": "NkyXW97Z4IrB",
        "outputId": "bc03d9d3-1f65-4ce6-d275-ea69b3ae5026"
      },
      "execution_count": 64,
      "outputs": [
        {
          "output_type": "execute_result",
          "data": {
            "text/html": [
              "\n",
              "  <div id=\"df-493b2506-6025-4f9f-8d56-7b7bca298db9\">\n",
              "    <div class=\"colab-df-container\">\n",
              "      <div>\n",
              "<style scoped>\n",
              "    .dataframe tbody tr th:only-of-type {\n",
              "        vertical-align: middle;\n",
              "    }\n",
              "\n",
              "    .dataframe tbody tr th {\n",
              "        vertical-align: top;\n",
              "    }\n",
              "\n",
              "    .dataframe thead th {\n",
              "        text-align: right;\n",
              "    }\n",
              "</style>\n",
              "<table border=\"1\" class=\"dataframe\">\n",
              "  <thead>\n",
              "    <tr style=\"text-align: right;\">\n",
              "      <th></th>\n",
              "      <th>PL_NUMBER</th>\n",
              "      <th>PL_AREA</th>\n",
              "      <th>LANDUSE</th>\n",
              "      <th>MAIN_AREA</th>\n",
              "      <th>SERVICE_AREA</th>\n",
              "      <th>CELL_SIZE_TOTAL</th>\n",
              "      <th>CELL_SIZE_MIN</th>\n",
              "      <th>CELL_SIZE_MAX</th>\n",
              "      <th>HOUSING_UNITS</th>\n",
              "      <th>BUILDING_HEIGHT</th>\n",
              "      <th>FLOORS_NUM</th>\n",
              "      <th>TOTAL_AREA</th>\n",
              "      <th>AUTHORITY</th>\n",
              "      <th>DISTRICT</th>\n",
              "      <th>SECTOR_GROUP</th>\n",
              "      <th>CONFIRMATION_YEAR</th>\n",
              "      <th>CONSTRUCTION_TYPE_GROUP</th>\n",
              "    </tr>\n",
              "  </thead>\n",
              "  <tbody>\n",
              "    <tr>\n",
              "      <th>0</th>\n",
              "      <td>610-0197038</td>\n",
              "      <td>610-0197038-102</td>\n",
              "      <td>מגורים</td>\n",
              "      <td>975.0</td>\n",
              "      <td>300.0</td>\n",
              "      <td>2466.0</td>\n",
              "      <td>0.0</td>\n",
              "      <td>0.0</td>\n",
              "      <td>16.0</td>\n",
              "      <td>11.0</td>\n",
              "      <td>2.0</td>\n",
              "      <td>1275.0</td>\n",
              "      <td>מחוזית</td>\n",
              "      <td>דרום</td>\n",
              "      <td>חברה כללית / מעורבת</td>\n",
              "      <td>2017</td>\n",
              "      <td>חדשה</td>\n",
              "    </tr>\n",
              "    <tr>\n",
              "      <th>2</th>\n",
              "      <td>151-0392894</td>\n",
              "      <td>151-0392894-210</td>\n",
              "      <td>מגורים</td>\n",
              "      <td>960.0</td>\n",
              "      <td>180.0</td>\n",
              "      <td>2820.0</td>\n",
              "      <td>0.0</td>\n",
              "      <td>0.0</td>\n",
              "      <td>6.0</td>\n",
              "      <td>17.0</td>\n",
              "      <td>4.0</td>\n",
              "      <td>1140.0</td>\n",
              "      <td>מחוזית</td>\n",
              "      <td>ירושלים</td>\n",
              "      <td>חברה כללית / מעורבת</td>\n",
              "      <td>2017</td>\n",
              "      <td>התחדשות</td>\n",
              "    </tr>\n",
              "    <tr>\n",
              "      <th>73</th>\n",
              "      <td>תמל/ 1049</td>\n",
              "      <td>תמל/ 1049-123</td>\n",
              "      <td>מגורים</td>\n",
              "      <td>152.0</td>\n",
              "      <td>48.0</td>\n",
              "      <td>420.0</td>\n",
              "      <td>0.0</td>\n",
              "      <td>0.0</td>\n",
              "      <td>1.0</td>\n",
              "      <td>0.0</td>\n",
              "      <td>2.0</td>\n",
              "      <td>200.0</td>\n",
              "      <td>ארצית</td>\n",
              "      <td>מרכז</td>\n",
              "      <td>חברה כללית / מעורבת</td>\n",
              "      <td>2019</td>\n",
              "      <td>חדשה</td>\n",
              "    </tr>\n",
              "    <tr>\n",
              "      <th>297</th>\n",
              "      <td>553-0198077</td>\n",
              "      <td>553-0198077-201</td>\n",
              "      <td>מגורים</td>\n",
              "      <td>2090.0</td>\n",
              "      <td>1045.0</td>\n",
              "      <td>1496.0</td>\n",
              "      <td>0.0</td>\n",
              "      <td>0.0</td>\n",
              "      <td>19.0</td>\n",
              "      <td>25.5</td>\n",
              "      <td>6.0</td>\n",
              "      <td>3135.0</td>\n",
              "      <td>מחוזית</td>\n",
              "      <td>תל-אביב</td>\n",
              "      <td>חברה כללית / מעורבת</td>\n",
              "      <td>2017</td>\n",
              "      <td>חדשה</td>\n",
              "    </tr>\n",
              "    <tr>\n",
              "      <th>322</th>\n",
              "      <td>תמל/ 1029</td>\n",
              "      <td>תמל/ 1029-215</td>\n",
              "      <td>מגורים</td>\n",
              "      <td>675.0</td>\n",
              "      <td>225.0</td>\n",
              "      <td>563.0</td>\n",
              "      <td>0.0</td>\n",
              "      <td>0.0</td>\n",
              "      <td>4.0</td>\n",
              "      <td>21.0</td>\n",
              "      <td>4.0</td>\n",
              "      <td>900.0</td>\n",
              "      <td>ארצית</td>\n",
              "      <td>צפון</td>\n",
              "      <td>חברה ערבית</td>\n",
              "      <td>2018</td>\n",
              "      <td>חדשה</td>\n",
              "    </tr>\n",
              "  </tbody>\n",
              "</table>\n",
              "</div>\n",
              "      <button class=\"colab-df-convert\" onclick=\"convertToInteractive('df-493b2506-6025-4f9f-8d56-7b7bca298db9')\"\n",
              "              title=\"Convert this dataframe to an interactive table.\"\n",
              "              style=\"display:none;\">\n",
              "        \n",
              "  <svg xmlns=\"http://www.w3.org/2000/svg\" height=\"24px\"viewBox=\"0 0 24 24\"\n",
              "       width=\"24px\">\n",
              "    <path d=\"M0 0h24v24H0V0z\" fill=\"none\"/>\n",
              "    <path d=\"M18.56 5.44l.94 2.06.94-2.06 2.06-.94-2.06-.94-.94-2.06-.94 2.06-2.06.94zm-11 1L8.5 8.5l.94-2.06 2.06-.94-2.06-.94L8.5 2.5l-.94 2.06-2.06.94zm10 10l.94 2.06.94-2.06 2.06-.94-2.06-.94-.94-2.06-.94 2.06-2.06.94z\"/><path d=\"M17.41 7.96l-1.37-1.37c-.4-.4-.92-.59-1.43-.59-.52 0-1.04.2-1.43.59L10.3 9.45l-7.72 7.72c-.78.78-.78 2.05 0 2.83L4 21.41c.39.39.9.59 1.41.59.51 0 1.02-.2 1.41-.59l7.78-7.78 2.81-2.81c.8-.78.8-2.07 0-2.86zM5.41 20L4 18.59l7.72-7.72 1.47 1.35L5.41 20z\"/>\n",
              "  </svg>\n",
              "      </button>\n",
              "      \n",
              "  <style>\n",
              "    .colab-df-container {\n",
              "      display:flex;\n",
              "      flex-wrap:wrap;\n",
              "      gap: 12px;\n",
              "    }\n",
              "\n",
              "    .colab-df-convert {\n",
              "      background-color: #E8F0FE;\n",
              "      border: none;\n",
              "      border-radius: 50%;\n",
              "      cursor: pointer;\n",
              "      display: none;\n",
              "      fill: #1967D2;\n",
              "      height: 32px;\n",
              "      padding: 0 0 0 0;\n",
              "      width: 32px;\n",
              "    }\n",
              "\n",
              "    .colab-df-convert:hover {\n",
              "      background-color: #E2EBFA;\n",
              "      box-shadow: 0px 1px 2px rgba(60, 64, 67, 0.3), 0px 1px 3px 1px rgba(60, 64, 67, 0.15);\n",
              "      fill: #174EA6;\n",
              "    }\n",
              "\n",
              "    [theme=dark] .colab-df-convert {\n",
              "      background-color: #3B4455;\n",
              "      fill: #D2E3FC;\n",
              "    }\n",
              "\n",
              "    [theme=dark] .colab-df-convert:hover {\n",
              "      background-color: #434B5C;\n",
              "      box-shadow: 0px 1px 3px 1px rgba(0, 0, 0, 0.15);\n",
              "      filter: drop-shadow(0px 1px 2px rgba(0, 0, 0, 0.3));\n",
              "      fill: #FFFFFF;\n",
              "    }\n",
              "  </style>\n",
              "\n",
              "      <script>\n",
              "        const buttonEl =\n",
              "          document.querySelector('#df-493b2506-6025-4f9f-8d56-7b7bca298db9 button.colab-df-convert');\n",
              "        buttonEl.style.display =\n",
              "          google.colab.kernel.accessAllowed ? 'block' : 'none';\n",
              "\n",
              "        async function convertToInteractive(key) {\n",
              "          const element = document.querySelector('#df-493b2506-6025-4f9f-8d56-7b7bca298db9');\n",
              "          const dataTable =\n",
              "            await google.colab.kernel.invokeFunction('convertToInteractive',\n",
              "                                                     [key], {});\n",
              "          if (!dataTable) return;\n",
              "\n",
              "          const docLinkHtml = 'Like what you see? Visit the ' +\n",
              "            '<a target=\"_blank\" href=https://colab.research.google.com/notebooks/data_table.ipynb>data table notebook</a>'\n",
              "            + ' to learn more about interactive tables.';\n",
              "          element.innerHTML = '';\n",
              "          dataTable['output_type'] = 'display_data';\n",
              "          await google.colab.output.renderOutput(dataTable, element);\n",
              "          const docLink = document.createElement('div');\n",
              "          docLink.innerHTML = docLinkHtml;\n",
              "          element.appendChild(docLink);\n",
              "        }\n",
              "      </script>\n",
              "    </div>\n",
              "  </div>\n",
              "  "
            ],
            "text/plain": [
              "       PL_NUMBER          PL_AREA  ... CONFIRMATION_YEAR  CONSTRUCTION_TYPE_GROUP\n",
              "0    610-0197038  610-0197038-102  ...              2017                     חדשה\n",
              "2    151-0392894  151-0392894-210  ...              2017                  התחדשות\n",
              "73     תמל/ 1049    תמל/ 1049-123  ...              2019                     חדשה\n",
              "297  553-0198077  553-0198077-201  ...              2017                     חדשה\n",
              "322    תמל/ 1029    תמל/ 1029-215  ...              2018                     חדשה\n",
              "\n",
              "[5 rows x 17 columns]"
            ]
          },
          "metadata": {},
          "execution_count": 64
        }
      ]
    },
    {
      "cell_type": "code",
      "source": [
        "data['PL_NUMBER'].str.contains('תמל').sum()"
      ],
      "metadata": {
        "id": "AdkVmcDY-JYg",
        "outputId": "891de5af-281f-4707-e02b-03a655d64d0f",
        "colab": {
          "base_uri": "https://localhost:8080/"
        }
      },
      "execution_count": 65,
      "outputs": [
        {
          "output_type": "execute_result",
          "data": {
            "text/plain": [
              "60"
            ]
          },
          "metadata": {},
          "execution_count": 65
        }
      ]
    },
    {
      "cell_type": "code",
      "source": [
        "data['IS_TAMAL'] = data['PL_NUMBER'].apply(lambda x: 1 if 'תמל' in x else 0)\n",
        "data['IS_TAMAL'].value_counts()"
      ],
      "metadata": {
        "id": "-3nG8IKs-Wzt",
        "outputId": "5c7f4fab-2f89-423c-931a-ea5edd81bcc8",
        "colab": {
          "base_uri": "https://localhost:8080/"
        }
      },
      "execution_count": 66,
      "outputs": [
        {
          "output_type": "execute_result",
          "data": {
            "text/plain": [
              "0    2522\n",
              "1      60\n",
              "Name: IS_TAMAL, dtype: int64"
            ]
          },
          "metadata": {},
          "execution_count": 66
        }
      ]
    },
    {
      "cell_type": "code",
      "source": [
        "data['LANDUSE'].value_counts()"
      ],
      "metadata": {
        "id": "xEvBQ5894ZiK",
        "colab": {
          "base_uri": "https://localhost:8080/"
        },
        "outputId": "e593fec7-15f0-42ec-e458-cb9e7e30c58d"
      },
      "execution_count": 67,
      "outputs": [
        {
          "output_type": "execute_result",
          "data": {
            "text/plain": [
              "מגורים                                2444\n",
              "מגורים ומסחר                            66\n",
              "מגורים מסחר ותעסוקה                     36\n",
              "מגורים מסחר ותיירות                      6\n",
              "מגורים ומבנים ומוסדות ציבור              6\n",
              "מגורים תעסוקה ותיירות                    5\n",
              "מגורים מסחר ומבנים ומוסדות ציבור         5\n",
              "מגורים ודיור מיוחד                       3\n",
              "תתתת מגורים ב                            2\n",
              "מגורים מסחר ותחבורה                      2\n",
              "מגורים ומשרדים                           2\n",
              "מגורים ותיירות                           2\n",
              "מגורים ואירוח כפרי                       1\n",
              "מגורים תיירות ומבנים ומוסדות ציבור       1\n",
              "מגורים ותחבורה                           1\n",
              "Name: LANDUSE, dtype: int64"
            ]
          },
          "metadata": {},
          "execution_count": 67
        }
      ]
    },
    {
      "cell_type": "code",
      "source": [
        "data['LANDUSE'] = data['LANDUSE'].mask(data['LANDUSE'] != 'מגורים', 'מגורים משולב')"
      ],
      "metadata": {
        "id": "AkzEvXcm9AZ4"
      },
      "execution_count": 68,
      "outputs": []
    },
    {
      "cell_type": "code",
      "source": [
        "data['LANDUSE'].value_counts()"
      ],
      "metadata": {
        "colab": {
          "base_uri": "https://localhost:8080/"
        },
        "id": "Zo7e6x6g9gHu",
        "outputId": "63cfcf86-d827-4943-bdd1-9e50ce5d8ddc"
      },
      "execution_count": 69,
      "outputs": [
        {
          "output_type": "execute_result",
          "data": {
            "text/plain": [
              "מגורים          2444\n",
              "מגורים משולב     138\n",
              "Name: LANDUSE, dtype: int64"
            ]
          },
          "metadata": {},
          "execution_count": 69
        }
      ]
    },
    {
      "cell_type": "markdown",
      "source": [
        "Now let's explore the Main & Service columns."
      ],
      "metadata": {
        "id": "QxW-_-1mey70"
      }
    },
    {
      "cell_type": "code",
      "source": [
        "data[[\"MAIN_AREA\",\"SERVICE_AREA\"]].boxplot()"
      ],
      "metadata": {
        "colab": {
          "base_uri": "https://localhost:8080/",
          "height": 283
        },
        "id": "Gv0mvqTrS2Ux",
        "outputId": "d5c698c6-87e4-4988-d094-b7996f506d32"
      },
      "execution_count": 70,
      "outputs": [
        {
          "output_type": "execute_result",
          "data": {
            "text/plain": [
              "<matplotlib.axes._subplots.AxesSubplot at 0x7f25272d2550>"
            ]
          },
          "metadata": {},
          "execution_count": 70
        },
        {
          "output_type": "display_data",
          "data": {
            "image/png": "[encoded data removed]",
            "text/plain": [
              "<Figure size 432x288 with 1 Axes>"
            ]
          },
          "metadata": {
            "needs_background": "light"
          }
        }
      ]
    },
    {
      "cell_type": "markdown",
      "source": [
        "The outliers are probably mistakes. let's see the distribution:"
      ],
      "metadata": {
        "id": "k-sgiP2qToMQ"
      }
    },
    {
      "cell_type": "code",
      "source": [
        "sns.histplot(data=data, x=\"MAIN_AREA\", bins=100, kde=True)"
      ],
      "metadata": {
        "colab": {
          "base_uri": "https://localhost:8080/",
          "height": 297
        },
        "id": "5jB1Jo90av5F",
        "outputId": "68e07c57-f5ec-41f9-fda6-d2ca6e99458d"
      },
      "execution_count": 71,
      "outputs": [
        {
          "output_type": "execute_result",
          "data": {
            "text/plain": [
              "<matplotlib.axes._subplots.AxesSubplot at 0x7f25272ad390>"
            ]
          },
          "metadata": {},
          "execution_count": 71
        },
        {
          "output_type": "display_data",
          "data": {
            "image/png": "[encoded data removed]",
            "text/plain": [
              "<Figure size 432x288 with 1 Axes>"
            ]
          },
          "metadata": {
            "needs_background": "light"
          }
        }
      ]
    },
    {
      "cell_type": "code",
      "source": [
        "data.iloc[:, 3].describe(percentiles=np.arange(0.05, 1, .05))"
      ],
      "metadata": {
        "colab": {
          "base_uri": "https://localhost:8080/"
        },
        "id": "Hw4OU1SZb9qF",
        "outputId": "6c2e48c0-ece2-4969-e22a-e15f889f10c6"
      },
      "execution_count": 72,
      "outputs": [
        {
          "output_type": "execute_result",
          "data": {
            "text/plain": [
              "count     2582.000000\n",
              "mean      1706.856285\n",
              "std       3689.516420\n",
              "min          0.000000\n",
              "5%         192.510000\n",
              "10%        225.000000\n",
              "15%        280.000000\n",
              "20%        348.000000\n",
              "25%        412.125000\n",
              "30%        480.000000\n",
              "35%        557.350000\n",
              "40%        600.320000\n",
              "45%        688.000000\n",
              "50%        750.000000\n",
              "55%        829.275000\n",
              "60%        900.000000\n",
              "65%        967.965000\n",
              "70%       1080.910000\n",
              "75%       1239.750000\n",
              "80%       1481.100000\n",
              "85%       2052.550000\n",
              "90%       3398.500000\n",
              "95%       6897.850000\n",
              "max      56768.000000\n",
              "Name: MAIN_AREA, dtype: float64"
            ]
          },
          "metadata": {},
          "execution_count": 72
        }
      ]
    },
    {
      "cell_type": "code",
      "source": [
        "filter_main_area = data['MAIN_AREA'] <= 8580\n",
        "filtered_data = data.loc[filter_main_area]"
      ],
      "metadata": {
        "id": "72cARpwTVY7y"
      },
      "execution_count": 73,
      "outputs": []
    },
    {
      "cell_type": "markdown",
      "source": [
        "Let's explore how many rows we have now, and the main and service data."
      ],
      "metadata": {
        "id": "mFEk64E4WkWw"
      }
    },
    {
      "cell_type": "code",
      "source": [
        "print(\"Remaining rows:\", filtered_data.shape[0], filtered_data.shape[0]/data.shape[0])"
      ],
      "metadata": {
        "colab": {
          "base_uri": "https://localhost:8080/"
        },
        "id": "a89_ZUtEW0HX",
        "outputId": "e0da0bab-d1e6-45ba-fdef-6f1ef657e43b"
      },
      "execution_count": 74,
      "outputs": [
        {
          "output_type": "stream",
          "name": "stdout",
          "text": [
            "Remaining rows: 2483 0.9616576297443842\n"
          ]
        }
      ]
    },
    {
      "cell_type": "code",
      "source": [
        "sns.histplot(data=filtered_data, x=\"MAIN_AREA\", bins=100, kde=True)"
      ],
      "metadata": {
        "colab": {
          "base_uri": "https://localhost:8080/",
          "height": 297
        },
        "id": "izs8Bsh6aToH",
        "outputId": "a4079b0e-2934-4431-b439-5260e91587de"
      },
      "execution_count": 75,
      "outputs": [
        {
          "output_type": "execute_result",
          "data": {
            "text/plain": [
              "<matplotlib.axes._subplots.AxesSubplot at 0x7f252736c550>"
            ]
          },
          "metadata": {},
          "execution_count": 75
        },
        {
          "output_type": "display_data",
          "data": {
            "image/png": "[encoded data removed]",
            "text/plain": [
              "<Figure size 432x288 with 1 Axes>"
            ]
          },
          "metadata": {
            "needs_background": "light"
          }
        }
      ]
    },
    {
      "cell_type": "markdown",
      "source": [
        "Let's do the same for the Service column."
      ],
      "metadata": {
        "id": "fcVm_7JCfGAr"
      }
    },
    {
      "cell_type": "code",
      "source": [
        "sns.histplot(data=filtered_data, x=\"SERVICE_AREA\", bins=100, kde=True)"
      ],
      "metadata": {
        "colab": {
          "base_uri": "https://localhost:8080/",
          "height": 297
        },
        "id": "MttTmxZcfCOD",
        "outputId": "7655056f-1bd8-4cfd-e800-afbdce7d3cf9"
      },
      "execution_count": 76,
      "outputs": [
        {
          "output_type": "execute_result",
          "data": {
            "text/plain": [
              "<matplotlib.axes._subplots.AxesSubplot at 0x7f2526fc39d0>"
            ]
          },
          "metadata": {},
          "execution_count": 76
        },
        {
          "output_type": "display_data",
          "data": {
            "image/png": "[encoded data removed]",
            "text/plain": [
              "<Figure size 432x288 with 1 Axes>"
            ]
          },
          "metadata": {
            "needs_background": "light"
          }
        }
      ]
    },
    {
      "cell_type": "code",
      "source": [
        "filtered_data.iloc[:, 4].describe(percentiles=np.arange(0.05, 1, .05))"
      ],
      "metadata": {
        "colab": {
          "base_uri": "https://localhost:8080/"
        },
        "id": "HghAYRZCfhaM",
        "outputId": "c2622a57-13d5-405b-c984-3f2d7207bab5"
      },
      "execution_count": 77,
      "outputs": [
        {
          "output_type": "execute_result",
          "data": {
            "text/plain": [
              "count    2483.000000\n",
              "mean      297.558218\n",
              "std       545.601120\n",
              "min         0.000000\n",
              "5%         20.000000\n",
              "10%        36.230000\n",
              "15%        50.000000\n",
              "20%        56.000000\n",
              "25%        63.310000\n",
              "30%        77.240000\n",
              "35%        88.000000\n",
              "40%        96.712000\n",
              "45%       111.000000\n",
              "50%       127.800000\n",
              "55%       148.000000\n",
              "60%       162.632000\n",
              "65%       187.000000\n",
              "70%       214.000000\n",
              "75%       251.551500\n",
              "80%       320.600000\n",
              "85%       439.700000\n",
              "90%       641.480000\n",
              "95%      1270.800000\n",
              "max      7230.000000\n",
              "Name: SERVICE_AREA, dtype: float64"
            ]
          },
          "metadata": {},
          "execution_count": 77
        }
      ]
    },
    {
      "cell_type": "code",
      "source": [
        "filter_service_area = filtered_data['SERVICE_AREA'] <= 2220\n",
        "filtered_data = filtered_data.loc[filter_service_area]"
      ],
      "metadata": {
        "id": "6eNZnH4kf0LU"
      },
      "execution_count": 78,
      "outputs": []
    },
    {
      "cell_type": "code",
      "source": [
        "print(\"Remaining rows:\", filtered_data.shape[0], filtered_data.shape[0]/data.shape[0])"
      ],
      "metadata": {
        "colab": {
          "base_uri": "https://localhost:8080/"
        },
        "id": "L6ggWHhwgB1K",
        "outputId": "1f1b4828-2d14-47f5-f648-a20ac5917556"
      },
      "execution_count": 79,
      "outputs": [
        {
          "output_type": "stream",
          "name": "stdout",
          "text": [
            "Remaining rows: 2422 0.9380325329202169\n"
          ]
        }
      ]
    },
    {
      "cell_type": "code",
      "source": [
        "sns.histplot(data=filtered_data, x=\"SERVICE_AREA\", bins=100, kde=True)"
      ],
      "metadata": {
        "colab": {
          "base_uri": "https://localhost:8080/",
          "height": 297
        },
        "id": "uhHb9nyGgNK6",
        "outputId": "9878b8dc-6d14-438d-c82a-0fb771e21dff"
      },
      "execution_count": 80,
      "outputs": [
        {
          "output_type": "execute_result",
          "data": {
            "text/plain": [
              "<matplotlib.axes._subplots.AxesSubplot at 0x7f2526de19d0>"
            ]
          },
          "metadata": {},
          "execution_count": 80
        },
        {
          "output_type": "display_data",
          "data": {
            "image/png": "[encoded data removed]",
            "text/plain": [
              "<Figure size 432x288 with 1 Axes>"
            ]
          },
          "metadata": {
            "needs_background": "light"
          }
        }
      ]
    },
    {
      "cell_type": "markdown",
      "source": [
        "Those columns ['CELL_SIZE_TOTAL', 'CELL_SIZE_MIN',\n",
        "       'CELL_SIZE_MAX'] describe the cell size."
      ],
      "metadata": {
        "id": "DJf_h9v3h77a"
      }
    },
    {
      "cell_type": "code",
      "source": [
        "filtered_data[['CELL_SIZE_TOTAL', 'CELL_SIZE_MIN', 'CELL_SIZE_MAX']].describe()"
      ],
      "metadata": {
        "colab": {
          "base_uri": "https://localhost:8080/",
          "height": 300
        },
        "id": "DgOES3JFnv2n",
        "outputId": "fd68d1c8-b21e-4429-ae08-4be1f503d5e1"
      },
      "execution_count": 81,
      "outputs": [
        {
          "output_type": "execute_result",
          "data": {
            "text/html": [
              "\n",
              "  <div id=\"df-50934b8b-8edb-4939-8418-c6379d9ea705\">\n",
              "    <div class=\"colab-df-container\">\n",
              "      <div>\n",
              "<style scoped>\n",
              "    .dataframe tbody tr th:only-of-type {\n",
              "        vertical-align: middle;\n",
              "    }\n",
              "\n",
              "    .dataframe tbody tr th {\n",
              "        vertical-align: top;\n",
              "    }\n",
              "\n",
              "    .dataframe thead th {\n",
              "        text-align: right;\n",
              "    }\n",
              "</style>\n",
              "<table border=\"1\" class=\"dataframe\">\n",
              "  <thead>\n",
              "    <tr style=\"text-align: right;\">\n",
              "      <th></th>\n",
              "      <th>CELL_SIZE_TOTAL</th>\n",
              "      <th>CELL_SIZE_MIN</th>\n",
              "      <th>CELL_SIZE_MAX</th>\n",
              "    </tr>\n",
              "  </thead>\n",
              "  <tbody>\n",
              "    <tr>\n",
              "      <th>count</th>\n",
              "      <td>2422.000000</td>\n",
              "      <td>2422.000000</td>\n",
              "      <td>2422.000000</td>\n",
              "    </tr>\n",
              "    <tr>\n",
              "      <th>mean</th>\n",
              "      <td>812.473869</td>\n",
              "      <td>152.211672</td>\n",
              "      <td>7.064327</td>\n",
              "    </tr>\n",
              "    <tr>\n",
              "      <th>std</th>\n",
              "      <td>1527.508667</td>\n",
              "      <td>880.434996</td>\n",
              "      <td>102.600429</td>\n",
              "    </tr>\n",
              "    <tr>\n",
              "      <th>min</th>\n",
              "      <td>0.000000</td>\n",
              "      <td>0.000000</td>\n",
              "      <td>0.000000</td>\n",
              "    </tr>\n",
              "    <tr>\n",
              "      <th>25%</th>\n",
              "      <td>369.250000</td>\n",
              "      <td>0.000000</td>\n",
              "      <td>0.000000</td>\n",
              "    </tr>\n",
              "    <tr>\n",
              "      <th>50%</th>\n",
              "      <td>622.500000</td>\n",
              "      <td>0.000000</td>\n",
              "      <td>0.000000</td>\n",
              "    </tr>\n",
              "    <tr>\n",
              "      <th>75%</th>\n",
              "      <td>994.000000</td>\n",
              "      <td>0.000000</td>\n",
              "      <td>0.000000</td>\n",
              "    </tr>\n",
              "    <tr>\n",
              "      <th>max</th>\n",
              "      <td>63924.000000</td>\n",
              "      <td>32000.000000</td>\n",
              "      <td>2340.000000</td>\n",
              "    </tr>\n",
              "  </tbody>\n",
              "</table>\n",
              "</div>\n",
              "      <button class=\"colab-df-convert\" onclick=\"convertToInteractive('df-50934b8b-8edb-4939-8418-c6379d9ea705')\"\n",
              "              title=\"Convert this dataframe to an interactive table.\"\n",
              "              style=\"display:none;\">\n",
              "        \n",
              "  <svg xmlns=\"http://www.w3.org/2000/svg\" height=\"24px\"viewBox=\"0 0 24 24\"\n",
              "       width=\"24px\">\n",
              "    <path d=\"M0 0h24v24H0V0z\" fill=\"none\"/>\n",
              "    <path d=\"M18.56 5.44l.94 2.06.94-2.06 2.06-.94-2.06-.94-.94-2.06-.94 2.06-2.06.94zm-11 1L8.5 8.5l.94-2.06 2.06-.94-2.06-.94L8.5 2.5l-.94 2.06-2.06.94zm10 10l.94 2.06.94-2.06 2.06-.94-2.06-.94-.94-2.06-.94 2.06-2.06.94z\"/><path d=\"M17.41 7.96l-1.37-1.37c-.4-.4-.92-.59-1.43-.59-.52 0-1.04.2-1.43.59L10.3 9.45l-7.72 7.72c-.78.78-.78 2.05 0 2.83L4 21.41c.39.39.9.59 1.41.59.51 0 1.02-.2 1.41-.59l7.78-7.78 2.81-2.81c.8-.78.8-2.07 0-2.86zM5.41 20L4 18.59l7.72-7.72 1.47 1.35L5.41 20z\"/>\n",
              "  </svg>\n",
              "      </button>\n",
              "      \n",
              "  <style>\n",
              "    .colab-df-container {\n",
              "      display:flex;\n",
              "      flex-wrap:wrap;\n",
              "      gap: 12px;\n",
              "    }\n",
              "\n",
              "    .colab-df-convert {\n",
              "      background-color: #E8F0FE;\n",
              "      border: none;\n",
              "      border-radius: 50%;\n",
              "      cursor: pointer;\n",
              "      display: none;\n",
              "      fill: #1967D2;\n",
              "      height: 32px;\n",
              "      padding: 0 0 0 0;\n",
              "      width: 32px;\n",
              "    }\n",
              "\n",
              "    .colab-df-convert:hover {\n",
              "      background-color: #E2EBFA;\n",
              "      box-shadow: 0px 1px 2px rgba(60, 64, 67, 0.3), 0px 1px 3px 1px rgba(60, 64, 67, 0.15);\n",
              "      fill: #174EA6;\n",
              "    }\n",
              "\n",
              "    [theme=dark] .colab-df-convert {\n",
              "      background-color: #3B4455;\n",
              "      fill: #D2E3FC;\n",
              "    }\n",
              "\n",
              "    [theme=dark] .colab-df-convert:hover {\n",
              "      background-color: #434B5C;\n",
              "      box-shadow: 0px 1px 3px 1px rgba(0, 0, 0, 0.15);\n",
              "      filter: drop-shadow(0px 1px 2px rgba(0, 0, 0, 0.3));\n",
              "      fill: #FFFFFF;\n",
              "    }\n",
              "  </style>\n",
              "\n",
              "      <script>\n",
              "        const buttonEl =\n",
              "          document.querySelector('#df-50934b8b-8edb-4939-8418-c6379d9ea705 button.colab-df-convert');\n",
              "        buttonEl.style.display =\n",
              "          google.colab.kernel.accessAllowed ? 'block' : 'none';\n",
              "\n",
              "        async function convertToInteractive(key) {\n",
              "          const element = document.querySelector('#df-50934b8b-8edb-4939-8418-c6379d9ea705');\n",
              "          const dataTable =\n",
              "            await google.colab.kernel.invokeFunction('convertToInteractive',\n",
              "                                                     [key], {});\n",
              "          if (!dataTable) return;\n",
              "\n",
              "          const docLinkHtml = 'Like what you see? Visit the ' +\n",
              "            '<a target=\"_blank\" href=https://colab.research.google.com/notebooks/data_table.ipynb>data table notebook</a>'\n",
              "            + ' to learn more about interactive tables.';\n",
              "          element.innerHTML = '';\n",
              "          dataTable['output_type'] = 'display_data';\n",
              "          await google.colab.output.renderOutput(dataTable, element);\n",
              "          const docLink = document.createElement('div');\n",
              "          docLink.innerHTML = docLinkHtml;\n",
              "          element.appendChild(docLink);\n",
              "        }\n",
              "      </script>\n",
              "    </div>\n",
              "  </div>\n",
              "  "
            ],
            "text/plain": [
              "       CELL_SIZE_TOTAL  CELL_SIZE_MIN  CELL_SIZE_MAX\n",
              "count      2422.000000    2422.000000    2422.000000\n",
              "mean        812.473869     152.211672       7.064327\n",
              "std        1527.508667     880.434996     102.600429\n",
              "min           0.000000       0.000000       0.000000\n",
              "25%         369.250000       0.000000       0.000000\n",
              "50%         622.500000       0.000000       0.000000\n",
              "75%         994.000000       0.000000       0.000000\n",
              "max       63924.000000   32000.000000    2340.000000"
            ]
          },
          "metadata": {},
          "execution_count": 81
        }
      ]
    },
    {
      "cell_type": "markdown",
      "source": [
        "HOUSING_UNITS shold not be zero."
      ],
      "metadata": {
        "id": "1GdYTQhC2fHM"
      }
    },
    {
      "cell_type": "code",
      "source": [
        "data['HOUSING_UNITS'].value_counts().sort_index()"
      ],
      "metadata": {
        "colab": {
          "base_uri": "https://localhost:8080/"
        },
        "id": "eQ3ymaTt11t0",
        "outputId": "dc7b4a8e-a264-4855-fc4b-4dc02c2a703c"
      },
      "execution_count": 82,
      "outputs": [
        {
          "output_type": "execute_result",
          "data": {
            "text/plain": [
              "0.0        79\n",
              "1.0       353\n",
              "2.0       225\n",
              "3.0       162\n",
              "4.0       393\n",
              "         ... \n",
              "471.0       1\n",
              "524.0       1\n",
              "564.0       1\n",
              "613.0       1\n",
              "1200.0      1\n",
              "Name: HOUSING_UNITS, Length: 147, dtype: int64"
            ]
          },
          "metadata": {},
          "execution_count": 82
        }
      ]
    },
    {
      "cell_type": "code",
      "source": [
        "filtered_data['HOUSING_UNITS'] = filtered_data['HOUSING_UNITS'].mask(data['HOUSING_UNITS'] == 0, data['FLOORS_NUM']*2)"
      ],
      "metadata": {
        "id": "s7Zf_lba1h-f"
      },
      "execution_count": 83,
      "outputs": []
    },
    {
      "cell_type": "code",
      "source": [
        "filtered_data['HOUSING_UNITS'].value_counts().sort_index()"
      ],
      "metadata": {
        "colab": {
          "base_uri": "https://localhost:8080/"
        },
        "id": "L-eTXlFd2Zzb",
        "outputId": "1afe8058-10ea-4860-e5fb-ae923f5ff7ef"
      },
      "execution_count": 84,
      "outputs": [
        {
          "output_type": "execute_result",
          "data": {
            "text/plain": [
              "0.0        2\n",
              "1.0      353\n",
              "2.0      227\n",
              "3.0      162\n",
              "4.0      406\n",
              "        ... \n",
              "135.0      1\n",
              "207.0      1\n",
              "362.0      1\n",
              "524.0      1\n",
              "613.0      1\n",
              "Name: HOUSING_UNITS, Length: 78, dtype: int64"
            ]
          },
          "metadata": {},
          "execution_count": 84
        }
      ]
    },
    {
      "cell_type": "code",
      "source": [
        "filtered_data = filtered_data[filtered_data['HOUSING_UNITS'] > 0]\n",
        "filtered_data.shape "
      ],
      "metadata": {
        "colab": {
          "base_uri": "https://localhost:8080/"
        },
        "id": "SYgognPW2uIS",
        "outputId": "16aa436d-929c-4f3f-d9ae-e0a782234543"
      },
      "execution_count": 85,
      "outputs": [
        {
          "output_type": "execute_result",
          "data": {
            "text/plain": [
              "(2420, 18)"
            ]
          },
          "metadata": {},
          "execution_count": 85
        }
      ]
    },
    {
      "cell_type": "code",
      "source": [
        "filtered_data['BUILDING_HEIGHT'].value_counts()[:11]"
      ],
      "metadata": {
        "colab": {
          "base_uri": "https://localhost:8080/"
        },
        "id": "U24kWYKa3EXa",
        "outputId": "1596503d-74cf-492e-b8f0-0040402737d2"
      },
      "execution_count": 86,
      "outputs": [
        {
          "output_type": "execute_result",
          "data": {
            "text/plain": [
              "12.00    245\n",
              "0.00     208\n",
              "8.50     178\n",
              "15.00    161\n",
              "9.00     125\n",
              "12.50     67\n",
              "14.00     57\n",
              "12.48     53\n",
              "18.00     48\n",
              "16.00     43\n",
              "10.00     43\n",
              "13.00     43\n",
              "8.00      42\n",
              "9.50      38\n",
              "7.50      38\n",
              "7.00      34\n",
              "15.60     31\n",
              "11.00     31\n",
              "Name: BUILDING_HEIGHT, dtype: int64"
            ]
          },
          "metadata": {},
          "execution_count": 86
        }
      ]
    },
    {
      "cell_type": "markdown",
      "source": [
        "A lot of missing data, BUILDING_HEIGHT should not be zero.<br>\n",
        "I will replace it with the mean of BUILDING_HEIGHT with correct values (greather than 0)."
      ],
      "metadata": {
        "id": "8a30Gn_L3NJJ"
      }
    },
    {
      "cell_type": "code",
      "source": [
        "building_height_avg = round(filtered_data[filtered_data['BUILDING_HEIGHT'] > 0]['BUILDING_HEIGHT'].mean())\n",
        "building_height_avg"
      ],
      "metadata": {
        "colab": {
          "base_uri": "https://localhost:8080/"
        },
        "id": "NNaUKZeB4CcP",
        "outputId": "fd152259-9573-45de-e6d8-62159e884c1e"
      },
      "execution_count": 87,
      "outputs": [
        {
          "output_type": "execute_result",
          "data": {
            "text/plain": [
              "14"
            ]
          },
          "metadata": {},
          "execution_count": 87
        }
      ]
    },
    {
      "cell_type": "code",
      "source": [
        "filtered_data['BUILDING_HEIGHT'] = filtered_data['BUILDING_HEIGHT'].mask(filtered_data['BUILDING_HEIGHT']==0, building_height_avg)"
      ],
      "metadata": {
        "id": "PEH_AfoM4lX_",
        "colab": {
          "base_uri": "https://localhost:8080/"
        },
        "outputId": "d3f6e300-b7b8-4079-cce3-37c3edc2d857"
      },
      "execution_count": 88,
      "outputs": [
        {
          "output_type": "stream",
          "name": "stderr",
          "text": [
            "/usr/local/lib/python3.7/dist-packages/ipykernel_launcher.py:1: SettingWithCopyWarning: \n",
            "A value is trying to be set on a copy of a slice from a DataFrame.\n",
            "Try using .loc[row_indexer,col_indexer] = value instead\n",
            "\n",
            "See the caveats in the documentation: https://pandas.pydata.org/pandas-docs/stable/user_guide/indexing.html#returning-a-view-versus-a-copy\n",
            "  \"\"\"Entry point for launching an IPython kernel.\n"
          ]
        }
      ]
    },
    {
      "cell_type": "code",
      "source": [
        "filtered_data['BUILDING_HEIGHT'].value_counts()"
      ],
      "metadata": {
        "colab": {
          "base_uri": "https://localhost:8080/"
        },
        "id": "CdQ1mIZB4-9d",
        "outputId": "b2473873-ce44-4bf6-91ad-ab45976eff8d"
      },
      "execution_count": 89,
      "outputs": [
        {
          "output_type": "execute_result",
          "data": {
            "text/plain": [
              "14.00    265\n",
              "12.00    245\n",
              "8.50     178\n",
              "15.00    161\n",
              "9.00     125\n",
              "        ... \n",
              "16.64      1\n",
              "13.21      1\n",
              "5.10       1\n",
              "18.19      1\n",
              "27.40      1\n",
              "Name: BUILDING_HEIGHT, Length: 429, dtype: int64"
            ]
          },
          "metadata": {},
          "execution_count": 89
        }
      ]
    },
    {
      "cell_type": "code",
      "source": [
        "filtered_data['SECTOR_GROUP'].value_counts()"
      ],
      "metadata": {
        "colab": {
          "base_uri": "https://localhost:8080/"
        },
        "id": "DR9DccM06qHU",
        "outputId": "b4b20f0c-959b-4c43-e74c-94c264b3b823"
      },
      "execution_count": 90,
      "outputs": [
        {
          "output_type": "execute_result",
          "data": {
            "text/plain": [
              "חברה ערבית             1265\n",
              "חברה כללית / מעורבת     897\n",
              "חברה חרדית              201\n",
              "(חסר)                    57\n",
              "Name: SECTOR_GROUP, dtype: int64"
            ]
          },
          "metadata": {},
          "execution_count": 90
        }
      ]
    },
    {
      "cell_type": "code",
      "source": [
        "filtered_data['SECTOR_GROUP'] = filtered_data['SECTOR_GROUP'].mask(filtered_data['SECTOR_GROUP'] == '(חסר)', 'חברה כללית / מעורבת')\n",
        "filtered_data['SECTOR_GROUP'].value_counts()"
      ],
      "metadata": {
        "colab": {
          "base_uri": "https://localhost:8080/"
        },
        "id": "9KPOl-Ys7Fz6",
        "outputId": "f0cf6e8b-8036-4e08-ab74-bec6d1426986"
      },
      "execution_count": 91,
      "outputs": [
        {
          "output_type": "stream",
          "name": "stderr",
          "text": [
            "/usr/local/lib/python3.7/dist-packages/ipykernel_launcher.py:1: SettingWithCopyWarning: \n",
            "A value is trying to be set on a copy of a slice from a DataFrame.\n",
            "Try using .loc[row_indexer,col_indexer] = value instead\n",
            "\n",
            "See the caveats in the documentation: https://pandas.pydata.org/pandas-docs/stable/user_guide/indexing.html#returning-a-view-versus-a-copy\n",
            "  \"\"\"Entry point for launching an IPython kernel.\n"
          ]
        },
        {
          "output_type": "execute_result",
          "data": {
            "text/plain": [
              "חברה ערבית             1265\n",
              "חברה כללית / מעורבת     954\n",
              "חברה חרדית              201\n",
              "Name: SECTOR_GROUP, dtype: int64"
            ]
          },
          "metadata": {},
          "execution_count": 91
        }
      ]
    },
    {
      "cell_type": "code",
      "source": [
        "filtered_data.info()"
      ],
      "metadata": {
        "colab": {
          "base_uri": "https://localhost:8080/"
        },
        "id": "GbIydkENqGhd",
        "outputId": "57a19822-dd9e-4d7f-83e1-2e20d891b926"
      },
      "execution_count": 92,
      "outputs": [
        {
          "output_type": "stream",
          "name": "stdout",
          "text": [
            "<class 'pandas.core.frame.DataFrame'>\n",
            "Int64Index: 2420 entries, 0 to 13708\n",
            "Data columns (total 18 columns):\n",
            " #   Column                   Non-Null Count  Dtype  \n",
            "---  ------                   --------------  -----  \n",
            " 0   PL_NUMBER                2420 non-null   object \n",
            " 1   PL_AREA                  2420 non-null   object \n",
            " 2   LANDUSE                  2420 non-null   object \n",
            " 3   MAIN_AREA                2420 non-null   float64\n",
            " 4   SERVICE_AREA             2420 non-null   float64\n",
            " 5   CELL_SIZE_TOTAL          2420 non-null   float64\n",
            " 6   CELL_SIZE_MIN            2420 non-null   float64\n",
            " 7   CELL_SIZE_MAX            2420 non-null   float64\n",
            " 8   HOUSING_UNITS            2420 non-null   float64\n",
            " 9   BUILDING_HEIGHT          2420 non-null   float64\n",
            " 10  FLOORS_NUM               2420 non-null   float64\n",
            " 11  TOTAL_AREA               2420 non-null   float64\n",
            " 12  AUTHORITY                2420 non-null   object \n",
            " 13  DISTRICT                 2420 non-null   object \n",
            " 14  SECTOR_GROUP             2420 non-null   object \n",
            " 15  CONFIRMATION_YEAR        2420 non-null   int64  \n",
            " 16  CONSTRUCTION_TYPE_GROUP  2416 non-null   object \n",
            " 17  IS_TAMAL                 2420 non-null   int64  \n",
            "dtypes: float64(9), int64(2), object(7)\n",
            "memory usage: 359.2+ KB\n"
          ]
        }
      ]
    },
    {
      "cell_type": "markdown",
      "source": [
        "Let's handle null values:"
      ],
      "metadata": {
        "id": "_IZOF0I9qmYE"
      }
    },
    {
      "cell_type": "code",
      "source": [
        "filtered_data.isnull().sum()"
      ],
      "metadata": {
        "colab": {
          "base_uri": "https://localhost:8080/"
        },
        "id": "3h4W2P3hqp-T",
        "outputId": "83f715f2-7dcc-4240-ad90-8110e1043b75"
      },
      "execution_count": 93,
      "outputs": [
        {
          "output_type": "execute_result",
          "data": {
            "text/plain": [
              "PL_NUMBER                  0\n",
              "PL_AREA                    0\n",
              "LANDUSE                    0\n",
              "MAIN_AREA                  0\n",
              "SERVICE_AREA               0\n",
              "CELL_SIZE_TOTAL            0\n",
              "CELL_SIZE_MIN              0\n",
              "CELL_SIZE_MAX              0\n",
              "HOUSING_UNITS              0\n",
              "BUILDING_HEIGHT            0\n",
              "FLOORS_NUM                 0\n",
              "TOTAL_AREA                 0\n",
              "AUTHORITY                  0\n",
              "DISTRICT                   0\n",
              "SECTOR_GROUP               0\n",
              "CONFIRMATION_YEAR          0\n",
              "CONSTRUCTION_TYPE_GROUP    4\n",
              "IS_TAMAL                   0\n",
              "dtype: int64"
            ]
          },
          "metadata": {},
          "execution_count": 93
        }
      ]
    },
    {
      "cell_type": "code",
      "source": [
        "filtered_data['CONSTRUCTION_TYPE_GROUP'].value_counts(dropna=False)"
      ],
      "metadata": {
        "colab": {
          "base_uri": "https://localhost:8080/"
        },
        "id": "tOaDxX9Hrsbo",
        "outputId": "bac4d767-3454-42a3-fa46-4c148c7832e9"
      },
      "execution_count": 94,
      "outputs": [
        {
          "output_type": "execute_result",
          "data": {
            "text/plain": [
              "חדשה       1437\n",
              "התחדשות     850\n",
              "הסדרה       129\n",
              "NaN           4\n",
              "Name: CONSTRUCTION_TYPE_GROUP, dtype: int64"
            ]
          },
          "metadata": {},
          "execution_count": 94
        }
      ]
    },
    {
      "cell_type": "markdown",
      "source": [
        "https://stackoverflow.com/questions/32617811/imputation-of-missing-values-for-categories-in-pandas"
      ],
      "metadata": {
        "id": "uRPV7Wnb-hfq"
      }
    },
    {
      "cell_type": "code",
      "source": [
        "filtered_data['CONSTRUCTION_TYPE_GROUP'] = filtered_data['CONSTRUCTION_TYPE_GROUP'].fillna(filtered_data['CONSTRUCTION_TYPE_GROUP'].mode().iloc[0])\n",
        "filtered_data['CONSTRUCTION_TYPE_GROUP'].value_counts(dropna=False)"
      ],
      "metadata": {
        "colab": {
          "base_uri": "https://localhost:8080/"
        },
        "id": "rNJ8yHqor9D3",
        "outputId": "ea9eb560-5c0b-4fb1-b889-834837bd1b4d"
      },
      "execution_count": 95,
      "outputs": [
        {
          "output_type": "execute_result",
          "data": {
            "text/plain": [
              "חדשה       1441\n",
              "התחדשות     850\n",
              "הסדרה       129\n",
              "Name: CONSTRUCTION_TYPE_GROUP, dtype: int64"
            ]
          },
          "metadata": {},
          "execution_count": 95
        }
      ]
    },
    {
      "cell_type": "code",
      "source": [
        "filtered_data = filtered_data.drop(['PL_NUMBER', 'PL_AREA', 'SERVICE_AREA'], axis=1)"
      ],
      "metadata": {
        "id": "M06mV6re8jkH"
      },
      "execution_count": 96,
      "outputs": []
    },
    {
      "cell_type": "markdown",
      "source": [
        "Now let's get dummies of the categorical columns so we will be able to bulid a model."
      ],
      "metadata": {
        "id": "o2QKX3017lRZ"
      }
    },
    {
      "cell_type": "code",
      "source": [
        "dummies_data = pd.get_dummies(filtered_data)\n",
        "print(dummies_data.shape)\n",
        "dummies_data.columns = ['MAIN_AREA', 'CELL_SIZE_TOTAL', 'CELL_SIZE_MIN', 'CELL_SIZE_MAX',\n",
        "       'HOUSING_UNITS', 'BUILDING_HEIGHT', 'FLOORS_NUM', 'TOTAL_AREA',\n",
        "       'CONFIRMATION_YEAR', 'IS_TAMAL', 'LANDUSE_RESIDENCE',\n",
        "       'LANDUSE_RESIDENCE_MIXED', 'AUTHORITY_COUNTRY', 'AUTHORITY_DISTRICT',\n",
        "       'DISTRICT_SOUTH', 'DISTRICT_HAIFA', 'DISTRICT_JERUSALEM', 'DISTRICT_DAN',\n",
        "       'DISTRICT_NORTH', 'DISTRICT_TEL_AVIV', 'SECTOR_REL',\n",
        "       'SECTOR_MIXED', 'SECTOR_ARAB',\n",
        "       'CONSTRUCTION_TYPE_ARRANGING', 'CONSTRUCTION_TYPE_REGENERATION',\n",
        "       'CONSTRUCTION_TYPE_NEW']\n",
        "dummies_data.head()"
      ],
      "metadata": {
        "colab": {
          "base_uri": "https://localhost:8080/",
          "height": 288
        },
        "id": "1rMH_5-a7x3H",
        "outputId": "058f5fa1-092c-42ca-c313-05fcd3e6da56"
      },
      "execution_count": 97,
      "outputs": [
        {
          "output_type": "stream",
          "name": "stdout",
          "text": [
            "(2420, 26)\n"
          ]
        },
        {
          "output_type": "execute_result",
          "data": {
            "text/html": [
              "\n",
              "  <div id=\"df-c13202cc-55d7-431c-926e-70fe60679aba\">\n",
              "    <div class=\"colab-df-container\">\n",
              "      <div>\n",
              "<style scoped>\n",
              "    .dataframe tbody tr th:only-of-type {\n",
              "        vertical-align: middle;\n",
              "    }\n",
              "\n",
              "    .dataframe tbody tr th {\n",
              "        vertical-align: top;\n",
              "    }\n",
              "\n",
              "    .dataframe thead th {\n",
              "        text-align: right;\n",
              "    }\n",
              "</style>\n",
              "<table border=\"1\" class=\"dataframe\">\n",
              "  <thead>\n",
              "    <tr style=\"text-align: right;\">\n",
              "      <th></th>\n",
              "      <th>MAIN_AREA</th>\n",
              "      <th>CELL_SIZE_TOTAL</th>\n",
              "      <th>CELL_SIZE_MIN</th>\n",
              "      <th>CELL_SIZE_MAX</th>\n",
              "      <th>HOUSING_UNITS</th>\n",
              "      <th>BUILDING_HEIGHT</th>\n",
              "      <th>FLOORS_NUM</th>\n",
              "      <th>TOTAL_AREA</th>\n",
              "      <th>CONFIRMATION_YEAR</th>\n",
              "      <th>IS_TAMAL</th>\n",
              "      <th>LANDUSE_RESIDENCE</th>\n",
              "      <th>LANDUSE_RESIDENCE_MIXED</th>\n",
              "      <th>AUTHORITY_COUNTRY</th>\n",
              "      <th>AUTHORITY_DISTRICT</th>\n",
              "      <th>DISTRICT_SOUTH</th>\n",
              "      <th>DISTRICT_HAIFA</th>\n",
              "      <th>DISTRICT_JERUSALEM</th>\n",
              "      <th>DISTRICT_DAN</th>\n",
              "      <th>DISTRICT_NORTH</th>\n",
              "      <th>DISTRICT_TEL_AVIV</th>\n",
              "      <th>SECTOR_REL</th>\n",
              "      <th>SECTOR_MIXED</th>\n",
              "      <th>SECTOR_ARAB</th>\n",
              "      <th>CONSTRUCTION_TYPE_ARRANGING</th>\n",
              "      <th>CONSTRUCTION_TYPE_REGENERATION</th>\n",
              "      <th>CONSTRUCTION_TYPE_NEW</th>\n",
              "    </tr>\n",
              "  </thead>\n",
              "  <tbody>\n",
              "    <tr>\n",
              "      <th>0</th>\n",
              "      <td>975.0</td>\n",
              "      <td>2466.0</td>\n",
              "      <td>0.0</td>\n",
              "      <td>0.0</td>\n",
              "      <td>16.0</td>\n",
              "      <td>11.0</td>\n",
              "      <td>2.0</td>\n",
              "      <td>1275.0</td>\n",
              "      <td>2017</td>\n",
              "      <td>0</td>\n",
              "      <td>1</td>\n",
              "      <td>0</td>\n",
              "      <td>0</td>\n",
              "      <td>1</td>\n",
              "      <td>1</td>\n",
              "      <td>0</td>\n",
              "      <td>0</td>\n",
              "      <td>0</td>\n",
              "      <td>0</td>\n",
              "      <td>0</td>\n",
              "      <td>0</td>\n",
              "      <td>1</td>\n",
              "      <td>0</td>\n",
              "      <td>0</td>\n",
              "      <td>0</td>\n",
              "      <td>1</td>\n",
              "    </tr>\n",
              "    <tr>\n",
              "      <th>2</th>\n",
              "      <td>960.0</td>\n",
              "      <td>2820.0</td>\n",
              "      <td>0.0</td>\n",
              "      <td>0.0</td>\n",
              "      <td>6.0</td>\n",
              "      <td>17.0</td>\n",
              "      <td>4.0</td>\n",
              "      <td>1140.0</td>\n",
              "      <td>2017</td>\n",
              "      <td>0</td>\n",
              "      <td>1</td>\n",
              "      <td>0</td>\n",
              "      <td>0</td>\n",
              "      <td>1</td>\n",
              "      <td>0</td>\n",
              "      <td>0</td>\n",
              "      <td>1</td>\n",
              "      <td>0</td>\n",
              "      <td>0</td>\n",
              "      <td>0</td>\n",
              "      <td>0</td>\n",
              "      <td>1</td>\n",
              "      <td>0</td>\n",
              "      <td>0</td>\n",
              "      <td>1</td>\n",
              "      <td>0</td>\n",
              "    </tr>\n",
              "    <tr>\n",
              "      <th>73</th>\n",
              "      <td>152.0</td>\n",
              "      <td>420.0</td>\n",
              "      <td>0.0</td>\n",
              "      <td>0.0</td>\n",
              "      <td>1.0</td>\n",
              "      <td>14.0</td>\n",
              "      <td>2.0</td>\n",
              "      <td>200.0</td>\n",
              "      <td>2019</td>\n",
              "      <td>1</td>\n",
              "      <td>1</td>\n",
              "      <td>0</td>\n",
              "      <td>1</td>\n",
              "      <td>0</td>\n",
              "      <td>0</td>\n",
              "      <td>0</td>\n",
              "      <td>0</td>\n",
              "      <td>1</td>\n",
              "      <td>0</td>\n",
              "      <td>0</td>\n",
              "      <td>0</td>\n",
              "      <td>1</td>\n",
              "      <td>0</td>\n",
              "      <td>0</td>\n",
              "      <td>0</td>\n",
              "      <td>1</td>\n",
              "    </tr>\n",
              "    <tr>\n",
              "      <th>297</th>\n",
              "      <td>2090.0</td>\n",
              "      <td>1496.0</td>\n",
              "      <td>0.0</td>\n",
              "      <td>0.0</td>\n",
              "      <td>19.0</td>\n",
              "      <td>25.5</td>\n",
              "      <td>6.0</td>\n",
              "      <td>3135.0</td>\n",
              "      <td>2017</td>\n",
              "      <td>0</td>\n",
              "      <td>1</td>\n",
              "      <td>0</td>\n",
              "      <td>0</td>\n",
              "      <td>1</td>\n",
              "      <td>0</td>\n",
              "      <td>0</td>\n",
              "      <td>0</td>\n",
              "      <td>0</td>\n",
              "      <td>0</td>\n",
              "      <td>1</td>\n",
              "      <td>0</td>\n",
              "      <td>1</td>\n",
              "      <td>0</td>\n",
              "      <td>0</td>\n",
              "      <td>0</td>\n",
              "      <td>1</td>\n",
              "    </tr>\n",
              "    <tr>\n",
              "      <th>322</th>\n",
              "      <td>675.0</td>\n",
              "      <td>563.0</td>\n",
              "      <td>0.0</td>\n",
              "      <td>0.0</td>\n",
              "      <td>4.0</td>\n",
              "      <td>21.0</td>\n",
              "      <td>4.0</td>\n",
              "      <td>900.0</td>\n",
              "      <td>2018</td>\n",
              "      <td>1</td>\n",
              "      <td>1</td>\n",
              "      <td>0</td>\n",
              "      <td>1</td>\n",
              "      <td>0</td>\n",
              "      <td>0</td>\n",
              "      <td>0</td>\n",
              "      <td>0</td>\n",
              "      <td>0</td>\n",
              "      <td>1</td>\n",
              "      <td>0</td>\n",
              "      <td>0</td>\n",
              "      <td>0</td>\n",
              "      <td>1</td>\n",
              "      <td>0</td>\n",
              "      <td>0</td>\n",
              "      <td>1</td>\n",
              "    </tr>\n",
              "  </tbody>\n",
              "</table>\n",
              "</div>\n",
              "      <button class=\"colab-df-convert\" onclick=\"convertToInteractive('df-c13202cc-55d7-431c-926e-70fe60679aba')\"\n",
              "              title=\"Convert this dataframe to an interactive table.\"\n",
              "              style=\"display:none;\">\n",
              "        \n",
              "  <svg xmlns=\"http://www.w3.org/2000/svg\" height=\"24px\"viewBox=\"0 0 24 24\"\n",
              "       width=\"24px\">\n",
              "    <path d=\"M0 0h24v24H0V0z\" fill=\"none\"/>\n",
              "    <path d=\"M18.56 5.44l.94 2.06.94-2.06 2.06-.94-2.06-.94-.94-2.06-.94 2.06-2.06.94zm-11 1L8.5 8.5l.94-2.06 2.06-.94-2.06-.94L8.5 2.5l-.94 2.06-2.06.94zm10 10l.94 2.06.94-2.06 2.06-.94-2.06-.94-.94-2.06-.94 2.06-2.06.94z\"/><path d=\"M17.41 7.96l-1.37-1.37c-.4-.4-.92-.59-1.43-.59-.52 0-1.04.2-1.43.59L10.3 9.45l-7.72 7.72c-.78.78-.78 2.05 0 2.83L4 21.41c.39.39.9.59 1.41.59.51 0 1.02-.2 1.41-.59l7.78-7.78 2.81-2.81c.8-.78.8-2.07 0-2.86zM5.41 20L4 18.59l7.72-7.72 1.47 1.35L5.41 20z\"/>\n",
              "  </svg>\n",
              "      </button>\n",
              "      \n",
              "  <style>\n",
              "    .colab-df-container {\n",
              "      display:flex;\n",
              "      flex-wrap:wrap;\n",
              "      gap: 12px;\n",
              "    }\n",
              "\n",
              "    .colab-df-convert {\n",
              "      background-color: #E8F0FE;\n",
              "      border: none;\n",
              "      border-radius: 50%;\n",
              "      cursor: pointer;\n",
              "      display: none;\n",
              "      fill: #1967D2;\n",
              "      height: 32px;\n",
              "      padding: 0 0 0 0;\n",
              "      width: 32px;\n",
              "    }\n",
              "\n",
              "    .colab-df-convert:hover {\n",
              "      background-color: #E2EBFA;\n",
              "      box-shadow: 0px 1px 2px rgba(60, 64, 67, 0.3), 0px 1px 3px 1px rgba(60, 64, 67, 0.15);\n",
              "      fill: #174EA6;\n",
              "    }\n",
              "\n",
              "    [theme=dark] .colab-df-convert {\n",
              "      background-color: #3B4455;\n",
              "      fill: #D2E3FC;\n",
              "    }\n",
              "\n",
              "    [theme=dark] .colab-df-convert:hover {\n",
              "      background-color: #434B5C;\n",
              "      box-shadow: 0px 1px 3px 1px rgba(0, 0, 0, 0.15);\n",
              "      filter: drop-shadow(0px 1px 2px rgba(0, 0, 0, 0.3));\n",
              "      fill: #FFFFFF;\n",
              "    }\n",
              "  </style>\n",
              "\n",
              "      <script>\n",
              "        const buttonEl =\n",
              "          document.querySelector('#df-c13202cc-55d7-431c-926e-70fe60679aba button.colab-df-convert');\n",
              "        buttonEl.style.display =\n",
              "          google.colab.kernel.accessAllowed ? 'block' : 'none';\n",
              "\n",
              "        async function convertToInteractive(key) {\n",
              "          const element = document.querySelector('#df-c13202cc-55d7-431c-926e-70fe60679aba');\n",
              "          const dataTable =\n",
              "            await google.colab.kernel.invokeFunction('convertToInteractive',\n",
              "                                                     [key], {});\n",
              "          if (!dataTable) return;\n",
              "\n",
              "          const docLinkHtml = 'Like what you see? Visit the ' +\n",
              "            '<a target=\"_blank\" href=https://colab.research.google.com/notebooks/data_table.ipynb>data table notebook</a>'\n",
              "            + ' to learn more about interactive tables.';\n",
              "          element.innerHTML = '';\n",
              "          dataTable['output_type'] = 'display_data';\n",
              "          await google.colab.output.renderOutput(dataTable, element);\n",
              "          const docLink = document.createElement('div');\n",
              "          docLink.innerHTML = docLinkHtml;\n",
              "          element.appendChild(docLink);\n",
              "        }\n",
              "      </script>\n",
              "    </div>\n",
              "  </div>\n",
              "  "
            ],
            "text/plain": [
              "     MAIN_AREA  ...  CONSTRUCTION_TYPE_NEW\n",
              "0        975.0  ...                      1\n",
              "2        960.0  ...                      0\n",
              "73       152.0  ...                      1\n",
              "297     2090.0  ...                      1\n",
              "322      675.0  ...                      1\n",
              "\n",
              "[5 rows x 26 columns]"
            ]
          },
          "metadata": {},
          "execution_count": 97
        }
      ]
    },
    {
      "cell_type": "code",
      "source": [
        "corr = dummies_data.corr()\n",
        "print(corr.loc['MAIN_AREA'].sort_values(ascending=False))"
      ],
      "metadata": {
        "colab": {
          "base_uri": "https://localhost:8080/"
        },
        "id": "xkxXs7A8B7m-",
        "outputId": "fcc30da0-7372-4e66-a9dd-f83c2e42672a"
      },
      "execution_count": 98,
      "outputs": [
        {
          "output_type": "stream",
          "name": "stdout",
          "text": [
            "MAIN_AREA                         1.000000\n",
            "TOTAL_AREA                        0.988502\n",
            "FLOORS_NUM                        0.601179\n",
            "BUILDING_HEIGHT                   0.529082\n",
            "HOUSING_UNITS                     0.385340\n",
            "CELL_SIZE_TOTAL                   0.317110\n",
            "DISTRICT_TEL_AVIV                 0.190624\n",
            "CONSTRUCTION_TYPE_REGENERATION    0.184773\n",
            "DISTRICT_JERUSALEM                0.120476\n",
            "LANDUSE_RESIDENCE_MIXED           0.106066\n",
            "IS_TAMAL                          0.056269\n",
            "AUTHORITY_COUNTRY                 0.056269\n",
            "CELL_SIZE_MIN                     0.038475\n",
            "SECTOR_REL                        0.029058\n",
            "CELL_SIZE_MAX                     0.025697\n",
            "SECTOR_ARAB                       0.019719\n",
            "DISTRICT_HAIFA                    0.013704\n",
            "CONSTRUCTION_TYPE_ARRANGING      -0.021553\n",
            "SECTOR_MIXED                     -0.036564\n",
            "CONFIRMATION_YEAR                -0.041538\n",
            "DISTRICT_DAN                     -0.053162\n",
            "AUTHORITY_DISTRICT               -0.056269\n",
            "DISTRICT_SOUTH                   -0.060296\n",
            "DISTRICT_NORTH                   -0.100677\n",
            "LANDUSE_RESIDENCE                -0.106066\n",
            "CONSTRUCTION_TYPE_NEW            -0.169846\n",
            "Name: MAIN_AREA, dtype: float64\n"
          ]
        }
      ]
    },
    {
      "cell_type": "code",
      "source": [
        "feature_cols = ['TOTAL_AREA'] #['TOTAL_AREA', 'FLOORS_NUM', 'BUILDING_HEIGHT', 'CELL_SIZE_TOTAL', 'HOUSING_UNITS'] "
      ],
      "metadata": {
        "id": "71TV2zFK-6kZ"
      },
      "execution_count": 99,
      "outputs": []
    },
    {
      "cell_type": "code",
      "source": [
        "X = dummies_data[feature_cols]\n",
        "y = dummies_data['MAIN_AREA']"
      ],
      "metadata": {
        "id": "67cKKj2pCGY3"
      },
      "execution_count": 100,
      "outputs": []
    },
    {
      "cell_type": "code",
      "source": [
        "# from sklearn.preprocessing import MinMaxScaler\n",
        "# scaler = MinMaxScaler()\n",
        "# # transform data\n",
        "# X_scaled = scaler.fit_transform(X)"
      ],
      "metadata": {
        "id": "DeMC-_ADarFh"
      },
      "execution_count": 101,
      "outputs": []
    },
    {
      "cell_type": "code",
      "source": [
        "from sklearn.model_selection import train_test_split\n",
        "X_train, X_test, y_train, y_test = train_test_split(X, y, test_size=0.33, random_state=42)"
      ],
      "metadata": {
        "id": "8GA9CRZ7_kdI"
      },
      "execution_count": 102,
      "outputs": []
    },
    {
      "cell_type": "code",
      "source": [
        "from sklearn.neighbors import KNeighborsRegressor\n",
        "from sklearn.model_selection import GridSearchCV\n",
        "# find best n_neighbors\n",
        "\n",
        "params = {'n_neighbors':[5, 10, 20, 30, 40, 50, 60, 70, 80, 90, 100], 'weights':['uniform', 'distance']}\n",
        "\n",
        "knn = KNeighborsRegressor()\n",
        "\n",
        "model = GridSearchCV(knn, params, cv=5)\n",
        "model.fit(X_train, y_train)\n",
        "model.best_params_"
      ],
      "metadata": {
        "colab": {
          "base_uri": "https://localhost:8080/"
        },
        "id": "ikVvMEVWwDni",
        "outputId": "e6e1a761-7890-4184-8580-dde0428ef33c"
      },
      "execution_count": 103,
      "outputs": [
        {
          "output_type": "execute_result",
          "data": {
            "text/plain": [
              "{'n_neighbors': 10, 'weights': 'uniform'}"
            ]
          },
          "metadata": {},
          "execution_count": 103
        }
      ]
    },
    {
      "cell_type": "code",
      "source": [
        "neigh = KNeighborsRegressor(n_neighbors=5, weights='distance')\n",
        "neigh.fit(X_train, y_train)"
      ],
      "metadata": {
        "colab": {
          "base_uri": "https://localhost:8080/"
        },
        "id": "f2VmHj0E-2qV",
        "outputId": "12d6109b-544f-4cd1-b1d1-36cbea5e38f9"
      },
      "execution_count": 104,
      "outputs": [
        {
          "output_type": "execute_result",
          "data": {
            "text/plain": [
              "KNeighborsRegressor(weights='distance')"
            ]
          },
          "metadata": {},
          "execution_count": 104
        }
      ]
    },
    {
      "cell_type": "code",
      "source": [
        "y_pred = neigh.predict(X_test)"
      ],
      "metadata": {
        "id": "QCoWGi5q_3mx"
      },
      "execution_count": 105,
      "outputs": []
    },
    {
      "cell_type": "code",
      "source": [
        "from sklearn.metrics import mean_absolute_error\n",
        "from sklearn.metrics import mean_squared_error\n",
        "from sklearn.metrics import r2_score\n",
        "mae = mean_absolute_error(y_test, y_pred)\n",
        "print(\"MAE:\", mae)\n",
        "mse = mean_squared_error(y_test, y_pred)\n",
        "print(\"MSE:\", mse)\n",
        "rmse = mean_squared_error(y_test, y_pred, squared=False)\n",
        "print(\"RMSE:\", rmse)\n",
        "rsquared = r2_score(y_test, y_pred)\n",
        "print(\"R Squared:\", rsquared)"
      ],
      "metadata": {
        "colab": {
          "base_uri": "https://localhost:8080/"
        },
        "id": "TO25yFhSBh_t",
        "outputId": "53c4e3a5-60d8-47d6-b22d-a15aaf3cb039"
      },
      "execution_count": 106,
      "outputs": [
        {
          "output_type": "stream",
          "name": "stdout",
          "text": [
            "MAE: 96.78126563831195\n",
            "MSE: 34364.61193529874\n",
            "RMSE: 185.37694553341507\n",
            "R Squared: 0.9705716478540602\n"
          ]
        }
      ]
    },
    {
      "cell_type": "markdown",
      "source": [
        "https://stackoverflow.com/questions/40729162/merging-results-from-model-predict-with-original-pandas-dataframe"
      ],
      "metadata": {
        "id": "fNCjUjFnC6Qb"
      }
    },
    {
      "cell_type": "code",
      "source": [
        "result_df = pd.DataFrame(y_test)\n",
        "result_df['y_pred'] = y_pred\n",
        "result_df.T"
      ],
      "metadata": {
        "colab": {
          "base_uri": "https://localhost:8080/",
          "height": 205
        },
        "id": "gUWzWBOhCpm8",
        "outputId": "cfe0ac5e-cf3e-4ff4-8ad0-8fc228a518ad"
      },
      "execution_count": 107,
      "outputs": [
        {
          "output_type": "execute_result",
          "data": {
            "text/html": [
              "\n",
              "  <div id=\"df-930a6b76-7b04-4120-838e-c7a9fbf96c4c\">\n",
              "    <div class=\"colab-df-container\">\n",
              "      <div>\n",
              "<style scoped>\n",
              "    .dataframe tbody tr th:only-of-type {\n",
              "        vertical-align: middle;\n",
              "    }\n",
              "\n",
              "    .dataframe tbody tr th {\n",
              "        vertical-align: top;\n",
              "    }\n",
              "\n",
              "    .dataframe thead th {\n",
              "        text-align: right;\n",
              "    }\n",
              "</style>\n",
              "<table border=\"1\" class=\"dataframe\">\n",
              "  <thead>\n",
              "    <tr style=\"text-align: right;\">\n",
              "      <th></th>\n",
              "      <th>7948</th>\n",
              "      <th>4600</th>\n",
              "      <th>12874</th>\n",
              "      <th>12135</th>\n",
              "      <th>12452</th>\n",
              "      <th>11735</th>\n",
              "      <th>5244</th>\n",
              "      <th>13369</th>\n",
              "      <th>12700</th>\n",
              "      <th>12923</th>\n",
              "      <th>12726</th>\n",
              "      <th>12891</th>\n",
              "      <th>10913</th>\n",
              "      <th>1801</th>\n",
              "      <th>12842</th>\n",
              "      <th>1950</th>\n",
              "      <th>13334</th>\n",
              "      <th>13260</th>\n",
              "      <th>13107</th>\n",
              "      <th>11925</th>\n",
              "      <th>12860</th>\n",
              "      <th>13231</th>\n",
              "      <th>13489</th>\n",
              "      <th>4476</th>\n",
              "      <th>13220</th>\n",
              "      <th>10229</th>\n",
              "      <th>2593</th>\n",
              "      <th>11371</th>\n",
              "      <th>11312</th>\n",
              "      <th>13371</th>\n",
              "      <th>11905</th>\n",
              "      <th>1554</th>\n",
              "      <th>11425</th>\n",
              "      <th>13619</th>\n",
              "      <th>12147</th>\n",
              "      <th>12410</th>\n",
              "      <th>11060</th>\n",
              "      <th>12454</th>\n",
              "      <th>12109</th>\n",
              "      <th>12557</th>\n",
              "      <th>...</th>\n",
              "      <th>13665</th>\n",
              "      <th>10191</th>\n",
              "      <th>12432</th>\n",
              "      <th>5400</th>\n",
              "      <th>13261</th>\n",
              "      <th>4775</th>\n",
              "      <th>13578</th>\n",
              "      <th>11007</th>\n",
              "      <th>7971</th>\n",
              "      <th>11486</th>\n",
              "      <th>11474</th>\n",
              "      <th>11040</th>\n",
              "      <th>12988</th>\n",
              "      <th>12379</th>\n",
              "      <th>13702</th>\n",
              "      <th>12559</th>\n",
              "      <th>11253</th>\n",
              "      <th>13040</th>\n",
              "      <th>9301</th>\n",
              "      <th>11549</th>\n",
              "      <th>4777</th>\n",
              "      <th>12754</th>\n",
              "      <th>13425</th>\n",
              "      <th>12633</th>\n",
              "      <th>12550</th>\n",
              "      <th>12642</th>\n",
              "      <th>1364</th>\n",
              "      <th>13383</th>\n",
              "      <th>11645</th>\n",
              "      <th>5636</th>\n",
              "      <th>12588</th>\n",
              "      <th>11043</th>\n",
              "      <th>13148</th>\n",
              "      <th>13267</th>\n",
              "      <th>12372</th>\n",
              "      <th>13620</th>\n",
              "      <th>13664</th>\n",
              "      <th>13417</th>\n",
              "      <th>9043</th>\n",
              "      <th>12096</th>\n",
              "    </tr>\n",
              "  </thead>\n",
              "  <tbody>\n",
              "    <tr>\n",
              "      <th>MAIN_AREA</th>\n",
              "      <td>1826.020000</td>\n",
              "      <td>840.0</td>\n",
              "      <td>610.0</td>\n",
              "      <td>200.0</td>\n",
              "      <td>546.000000</td>\n",
              "      <td>432.0</td>\n",
              "      <td>3095.000000</td>\n",
              "      <td>850.0</td>\n",
              "      <td>864.320000</td>\n",
              "      <td>704.0</td>\n",
              "      <td>775.750000</td>\n",
              "      <td>976.0</td>\n",
              "      <td>750.0</td>\n",
              "      <td>583.0</td>\n",
              "      <td>440.0</td>\n",
              "      <td>416.160000</td>\n",
              "      <td>685.0</td>\n",
              "      <td>7125.000000</td>\n",
              "      <td>583.0</td>\n",
              "      <td>736.0</td>\n",
              "      <td>3407.000000</td>\n",
              "      <td>523.0</td>\n",
              "      <td>1521.000000</td>\n",
              "      <td>280.0</td>\n",
              "      <td>4450.000000</td>\n",
              "      <td>360.0</td>\n",
              "      <td>702.0</td>\n",
              "      <td>1659.00000</td>\n",
              "      <td>3240.000000</td>\n",
              "      <td>1126.300000</td>\n",
              "      <td>6264.000000</td>\n",
              "      <td>384.000000</td>\n",
              "      <td>971.0</td>\n",
              "      <td>351.0</td>\n",
              "      <td>460.000000</td>\n",
              "      <td>482.0</td>\n",
              "      <td>1914.360000</td>\n",
              "      <td>680.000000</td>\n",
              "      <td>807.000000</td>\n",
              "      <td>480.0</td>\n",
              "      <td>...</td>\n",
              "      <td>1036.260000</td>\n",
              "      <td>1032.0</td>\n",
              "      <td>785.190000</td>\n",
              "      <td>4847.000000</td>\n",
              "      <td>250.0</td>\n",
              "      <td>1350.0</td>\n",
              "      <td>404.250000</td>\n",
              "      <td>320.0</td>\n",
              "      <td>457.5</td>\n",
              "      <td>300.0</td>\n",
              "      <td>1584.000000</td>\n",
              "      <td>960.0</td>\n",
              "      <td>4215.000000</td>\n",
              "      <td>942.0</td>\n",
              "      <td>1238.400000</td>\n",
              "      <td>570.500000</td>\n",
              "      <td>172.000000</td>\n",
              "      <td>1638.450000</td>\n",
              "      <td>520.0</td>\n",
              "      <td>2464.300000</td>\n",
              "      <td>200.0</td>\n",
              "      <td>80.0</td>\n",
              "      <td>424.000000</td>\n",
              "      <td>5626.530000</td>\n",
              "      <td>1200.0</td>\n",
              "      <td>710.300000</td>\n",
              "      <td>370.0</td>\n",
              "      <td>500.0</td>\n",
              "      <td>553.0</td>\n",
              "      <td>521.0</td>\n",
              "      <td>900.0</td>\n",
              "      <td>355.0</td>\n",
              "      <td>804.0</td>\n",
              "      <td>215.00</td>\n",
              "      <td>483.520000</td>\n",
              "      <td>750.000000</td>\n",
              "      <td>1045.0</td>\n",
              "      <td>225.0</td>\n",
              "      <td>761.00</td>\n",
              "      <td>1799.000000</td>\n",
              "    </tr>\n",
              "    <tr>\n",
              "      <th>y_pred</th>\n",
              "      <td>1813.330656</td>\n",
              "      <td>798.5</td>\n",
              "      <td>578.4</td>\n",
              "      <td>215.0</td>\n",
              "      <td>702.812227</td>\n",
              "      <td>449.5</td>\n",
              "      <td>1928.946179</td>\n",
              "      <td>791.0</td>\n",
              "      <td>810.179672</td>\n",
              "      <td>681.6</td>\n",
              "      <td>907.218995</td>\n",
              "      <td>1300.0</td>\n",
              "      <td>728.0</td>\n",
              "      <td>620.0</td>\n",
              "      <td>360.0</td>\n",
              "      <td>409.640925</td>\n",
              "      <td>765.0</td>\n",
              "      <td>5305.552066</td>\n",
              "      <td>656.0</td>\n",
              "      <td>797.0</td>\n",
              "      <td>3207.674426</td>\n",
              "      <td>509.0</td>\n",
              "      <td>1130.992481</td>\n",
              "      <td>311.6</td>\n",
              "      <td>4700.416612</td>\n",
              "      <td>360.0</td>\n",
              "      <td>749.0</td>\n",
              "      <td>1358.60358</td>\n",
              "      <td>2869.998036</td>\n",
              "      <td>958.259055</td>\n",
              "      <td>6393.813118</td>\n",
              "      <td>422.052632</td>\n",
              "      <td>900.0</td>\n",
              "      <td>420.0</td>\n",
              "      <td>595.309524</td>\n",
              "      <td>477.1</td>\n",
              "      <td>1898.472729</td>\n",
              "      <td>592.921212</td>\n",
              "      <td>799.339224</td>\n",
              "      <td>555.5</td>\n",
              "      <td>...</td>\n",
              "      <td>1069.485943</td>\n",
              "      <td>1328.0</td>\n",
              "      <td>644.394752</td>\n",
              "      <td>5236.756386</td>\n",
              "      <td>280.0</td>\n",
              "      <td>1172.5</td>\n",
              "      <td>388.031542</td>\n",
              "      <td>330.0</td>\n",
              "      <td>566.4</td>\n",
              "      <td>306.8</td>\n",
              "      <td>1556.153846</td>\n",
              "      <td>886.2</td>\n",
              "      <td>4832.381155</td>\n",
              "      <td>900.0</td>\n",
              "      <td>1218.976166</td>\n",
              "      <td>680.315789</td>\n",
              "      <td>152.140623</td>\n",
              "      <td>1464.271026</td>\n",
              "      <td>485.0</td>\n",
              "      <td>2150.416032</td>\n",
              "      <td>215.0</td>\n",
              "      <td>80.0</td>\n",
              "      <td>456.071429</td>\n",
              "      <td>5016.630851</td>\n",
              "      <td>1300.0</td>\n",
              "      <td>676.093644</td>\n",
              "      <td>345.0</td>\n",
              "      <td>472.5</td>\n",
              "      <td>494.0</td>\n",
              "      <td>659.5</td>\n",
              "      <td>886.2</td>\n",
              "      <td>300.0</td>\n",
              "      <td>835.0</td>\n",
              "      <td>181.25</td>\n",
              "      <td>518.204082</td>\n",
              "      <td>789.433068</td>\n",
              "      <td>1029.8</td>\n",
              "      <td>242.0</td>\n",
              "      <td>752.35</td>\n",
              "      <td>1801.038355</td>\n",
              "    </tr>\n",
              "  </tbody>\n",
              "</table>\n",
              "<p>2 rows × 799 columns</p>\n",
              "</div>\n",
              "      <button class=\"colab-df-convert\" onclick=\"convertToInteractive('df-930a6b76-7b04-4120-838e-c7a9fbf96c4c')\"\n",
              "              title=\"Convert this dataframe to an interactive table.\"\n",
              "              style=\"display:none;\">\n",
              "        \n",
              "  <svg xmlns=\"http://www.w3.org/2000/svg\" height=\"24px\"viewBox=\"0 0 24 24\"\n",
              "       width=\"24px\">\n",
              "    <path d=\"M0 0h24v24H0V0z\" fill=\"none\"/>\n",
              "    <path d=\"M18.56 5.44l.94 2.06.94-2.06 2.06-.94-2.06-.94-.94-2.06-.94 2.06-2.06.94zm-11 1L8.5 8.5l.94-2.06 2.06-.94-2.06-.94L8.5 2.5l-.94 2.06-2.06.94zm10 10l.94 2.06.94-2.06 2.06-.94-2.06-.94-.94-2.06-.94 2.06-2.06.94z\"/><path d=\"M17.41 7.96l-1.37-1.37c-.4-.4-.92-.59-1.43-.59-.52 0-1.04.2-1.43.59L10.3 9.45l-7.72 7.72c-.78.78-.78 2.05 0 2.83L4 21.41c.39.39.9.59 1.41.59.51 0 1.02-.2 1.41-.59l7.78-7.78 2.81-2.81c.8-.78.8-2.07 0-2.86zM5.41 20L4 18.59l7.72-7.72 1.47 1.35L5.41 20z\"/>\n",
              "  </svg>\n",
              "      </button>\n",
              "      \n",
              "  <style>\n",
              "    .colab-df-container {\n",
              "      display:flex;\n",
              "      flex-wrap:wrap;\n",
              "      gap: 12px;\n",
              "    }\n",
              "\n",
              "    .colab-df-convert {\n",
              "      background-color: #E8F0FE;\n",
              "      border: none;\n",
              "      border-radius: 50%;\n",
              "      cursor: pointer;\n",
              "      display: none;\n",
              "      fill: #1967D2;\n",
              "      height: 32px;\n",
              "      padding: 0 0 0 0;\n",
              "      width: 32px;\n",
              "    }\n",
              "\n",
              "    .colab-df-convert:hover {\n",
              "      background-color: #E2EBFA;\n",
              "      box-shadow: 0px 1px 2px rgba(60, 64, 67, 0.3), 0px 1px 3px 1px rgba(60, 64, 67, 0.15);\n",
              "      fill: #174EA6;\n",
              "    }\n",
              "\n",
              "    [theme=dark] .colab-df-convert {\n",
              "      background-color: #3B4455;\n",
              "      fill: #D2E3FC;\n",
              "    }\n",
              "\n",
              "    [theme=dark] .colab-df-convert:hover {\n",
              "      background-color: #434B5C;\n",
              "      box-shadow: 0px 1px 3px 1px rgba(0, 0, 0, 0.15);\n",
              "      filter: drop-shadow(0px 1px 2px rgba(0, 0, 0, 0.3));\n",
              "      fill: #FFFFFF;\n",
              "    }\n",
              "  </style>\n",
              "\n",
              "      <script>\n",
              "        const buttonEl =\n",
              "          document.querySelector('#df-930a6b76-7b04-4120-838e-c7a9fbf96c4c button.colab-df-convert');\n",
              "        buttonEl.style.display =\n",
              "          google.colab.kernel.accessAllowed ? 'block' : 'none';\n",
              "\n",
              "        async function convertToInteractive(key) {\n",
              "          const element = document.querySelector('#df-930a6b76-7b04-4120-838e-c7a9fbf96c4c');\n",
              "          const dataTable =\n",
              "            await google.colab.kernel.invokeFunction('convertToInteractive',\n",
              "                                                     [key], {});\n",
              "          if (!dataTable) return;\n",
              "\n",
              "          const docLinkHtml = 'Like what you see? Visit the ' +\n",
              "            '<a target=\"_blank\" href=https://colab.research.google.com/notebooks/data_table.ipynb>data table notebook</a>'\n",
              "            + ' to learn more about interactive tables.';\n",
              "          element.innerHTML = '';\n",
              "          dataTable['output_type'] = 'display_data';\n",
              "          await google.colab.output.renderOutput(dataTable, element);\n",
              "          const docLink = document.createElement('div');\n",
              "          docLink.innerHTML = docLinkHtml;\n",
              "          element.appendChild(docLink);\n",
              "        }\n",
              "      </script>\n",
              "    </div>\n",
              "  </div>\n",
              "  "
            ],
            "text/plain": [
              "                 7948   4600   12874  12135  ...   13664  13417   9043         12096\n",
              "MAIN_AREA  1826.020000  840.0  610.0  200.0  ...  1045.0  225.0  761.00  1799.000000\n",
              "y_pred     1813.330656  798.5  578.4  215.0  ...  1029.8  242.0  752.35  1801.038355\n",
              "\n",
              "[2 rows x 799 columns]"
            ]
          },
          "metadata": {},
          "execution_count": 107
        }
      ]
    },
    {
      "cell_type": "code",
      "source": [
        "all_data_with_predictions = pd.merge(data, result_df, left_index=True, right_index=True)\n",
        "all_data_with_predictions.head()"
      ],
      "metadata": {
        "id": "OBX3otNQGoQ9",
        "colab": {
          "base_uri": "https://localhost:8080/",
          "height": 426
        },
        "outputId": "be2364d7-0ad1-4ca3-e88a-3d23e812aab7"
      },
      "execution_count": 108,
      "outputs": [
        {
          "output_type": "execute_result",
          "data": {
            "text/html": [
              "\n",
              "  <div id=\"df-2e520d0a-3bba-4d73-bfcd-3e50cdae6dfe\">\n",
              "    <div class=\"colab-df-container\">\n",
              "      <div>\n",
              "<style scoped>\n",
              "    .dataframe tbody tr th:only-of-type {\n",
              "        vertical-align: middle;\n",
              "    }\n",
              "\n",
              "    .dataframe tbody tr th {\n",
              "        vertical-align: top;\n",
              "    }\n",
              "\n",
              "    .dataframe thead th {\n",
              "        text-align: right;\n",
              "    }\n",
              "</style>\n",
              "<table border=\"1\" class=\"dataframe\">\n",
              "  <thead>\n",
              "    <tr style=\"text-align: right;\">\n",
              "      <th></th>\n",
              "      <th>PL_NUMBER</th>\n",
              "      <th>PL_AREA</th>\n",
              "      <th>LANDUSE</th>\n",
              "      <th>MAIN_AREA_x</th>\n",
              "      <th>SERVICE_AREA</th>\n",
              "      <th>CELL_SIZE_TOTAL</th>\n",
              "      <th>CELL_SIZE_MIN</th>\n",
              "      <th>CELL_SIZE_MAX</th>\n",
              "      <th>HOUSING_UNITS</th>\n",
              "      <th>BUILDING_HEIGHT</th>\n",
              "      <th>FLOORS_NUM</th>\n",
              "      <th>TOTAL_AREA</th>\n",
              "      <th>AUTHORITY</th>\n",
              "      <th>DISTRICT</th>\n",
              "      <th>SECTOR_GROUP</th>\n",
              "      <th>CONFIRMATION_YEAR</th>\n",
              "      <th>CONSTRUCTION_TYPE_GROUP</th>\n",
              "      <th>IS_TAMAL</th>\n",
              "      <th>MAIN_AREA_y</th>\n",
              "      <th>y_pred</th>\n",
              "    </tr>\n",
              "  </thead>\n",
              "  <tbody>\n",
              "    <tr>\n",
              "      <th>445</th>\n",
              "      <td>306-0464982</td>\n",
              "      <td>306-0464982-2A</td>\n",
              "      <td>מגורים</td>\n",
              "      <td>450.5</td>\n",
              "      <td>0.00</td>\n",
              "      <td>902.00</td>\n",
              "      <td>900.0</td>\n",
              "      <td>0.0</td>\n",
              "      <td>2.0</td>\n",
              "      <td>14.0</td>\n",
              "      <td>4.0</td>\n",
              "      <td>450.50</td>\n",
              "      <td>מחוזית</td>\n",
              "      <td>חיפה</td>\n",
              "      <td>חברה כללית / מעורבת</td>\n",
              "      <td>2019</td>\n",
              "      <td>התחדשות</td>\n",
              "      <td>0</td>\n",
              "      <td>450.5</td>\n",
              "      <td>371.095238</td>\n",
              "    </tr>\n",
              "    <tr>\n",
              "      <th>739</th>\n",
              "      <td>תמל/ 1050</td>\n",
              "      <td>תמל/ 1050-13</td>\n",
              "      <td>מגורים</td>\n",
              "      <td>240.0</td>\n",
              "      <td>80.00</td>\n",
              "      <td>557.00</td>\n",
              "      <td>0.0</td>\n",
              "      <td>0.0</td>\n",
              "      <td>1.0</td>\n",
              "      <td>0.0</td>\n",
              "      <td>2.0</td>\n",
              "      <td>320.00</td>\n",
              "      <td>ארצית</td>\n",
              "      <td>דרום</td>\n",
              "      <td>חברה כללית / מעורבת</td>\n",
              "      <td>2017</td>\n",
              "      <td>חדשה</td>\n",
              "      <td>1</td>\n",
              "      <td>240.0</td>\n",
              "      <td>275.400000</td>\n",
              "    </tr>\n",
              "    <tr>\n",
              "      <th>993</th>\n",
              "      <td>101-0415521</td>\n",
              "      <td>101-0415521-1</td>\n",
              "      <td>מגורים</td>\n",
              "      <td>962.3</td>\n",
              "      <td>271.32</td>\n",
              "      <td>583.00</td>\n",
              "      <td>0.0</td>\n",
              "      <td>0.0</td>\n",
              "      <td>9.0</td>\n",
              "      <td>15.6</td>\n",
              "      <td>5.0</td>\n",
              "      <td>1233.62</td>\n",
              "      <td>מחוזית</td>\n",
              "      <td>ירושלים</td>\n",
              "      <td>חברה ערבית</td>\n",
              "      <td>2018</td>\n",
              "      <td>התחדשות</td>\n",
              "      <td>0</td>\n",
              "      <td>962.3</td>\n",
              "      <td>1105.379406</td>\n",
              "    </tr>\n",
              "    <tr>\n",
              "      <th>996</th>\n",
              "      <td>455-0501718</td>\n",
              "      <td>455-0501718-1</td>\n",
              "      <td>מגורים</td>\n",
              "      <td>310.0</td>\n",
              "      <td>60.00</td>\n",
              "      <td>999.94</td>\n",
              "      <td>0.0</td>\n",
              "      <td>0.0</td>\n",
              "      <td>1.0</td>\n",
              "      <td>7.0</td>\n",
              "      <td>2.0</td>\n",
              "      <td>370.00</td>\n",
              "      <td>מחוזית</td>\n",
              "      <td>מרכז</td>\n",
              "      <td>חברה כללית / מעורבת</td>\n",
              "      <td>2019</td>\n",
              "      <td>חדשה</td>\n",
              "      <td>0</td>\n",
              "      <td>310.0</td>\n",
              "      <td>265.000000</td>\n",
              "    </tr>\n",
              "    <tr>\n",
              "      <th>1238</th>\n",
              "      <td>455-0153890</td>\n",
              "      <td>455-0153890-1000</td>\n",
              "      <td>מגורים</td>\n",
              "      <td>2735.0</td>\n",
              "      <td>1192.00</td>\n",
              "      <td>752.00</td>\n",
              "      <td>0.0</td>\n",
              "      <td>0.0</td>\n",
              "      <td>24.0</td>\n",
              "      <td>0.0</td>\n",
              "      <td>7.0</td>\n",
              "      <td>3927.00</td>\n",
              "      <td>מחוזית</td>\n",
              "      <td>מרכז</td>\n",
              "      <td>חברה כללית / מעורבת</td>\n",
              "      <td>2017</td>\n",
              "      <td>התחדשות</td>\n",
              "      <td>0</td>\n",
              "      <td>2735.0</td>\n",
              "      <td>3090.802267</td>\n",
              "    </tr>\n",
              "  </tbody>\n",
              "</table>\n",
              "</div>\n",
              "      <button class=\"colab-df-convert\" onclick=\"convertToInteractive('df-2e520d0a-3bba-4d73-bfcd-3e50cdae6dfe')\"\n",
              "              title=\"Convert this dataframe to an interactive table.\"\n",
              "              style=\"display:none;\">\n",
              "        \n",
              "  <svg xmlns=\"http://www.w3.org/2000/svg\" height=\"24px\"viewBox=\"0 0 24 24\"\n",
              "       width=\"24px\">\n",
              "    <path d=\"M0 0h24v24H0V0z\" fill=\"none\"/>\n",
              "    <path d=\"M18.56 5.44l.94 2.06.94-2.06 2.06-.94-2.06-.94-.94-2.06-.94 2.06-2.06.94zm-11 1L8.5 8.5l.94-2.06 2.06-.94-2.06-.94L8.5 2.5l-.94 2.06-2.06.94zm10 10l.94 2.06.94-2.06 2.06-.94-2.06-.94-.94-2.06-.94 2.06-2.06.94z\"/><path d=\"M17.41 7.96l-1.37-1.37c-.4-.4-.92-.59-1.43-.59-.52 0-1.04.2-1.43.59L10.3 9.45l-7.72 7.72c-.78.78-.78 2.05 0 2.83L4 21.41c.39.39.9.59 1.41.59.51 0 1.02-.2 1.41-.59l7.78-7.78 2.81-2.81c.8-.78.8-2.07 0-2.86zM5.41 20L4 18.59l7.72-7.72 1.47 1.35L5.41 20z\"/>\n",
              "  </svg>\n",
              "      </button>\n",
              "      \n",
              "  <style>\n",
              "    .colab-df-container {\n",
              "      display:flex;\n",
              "      flex-wrap:wrap;\n",
              "      gap: 12px;\n",
              "    }\n",
              "\n",
              "    .colab-df-convert {\n",
              "      background-color: #E8F0FE;\n",
              "      border: none;\n",
              "      border-radius: 50%;\n",
              "      cursor: pointer;\n",
              "      display: none;\n",
              "      fill: #1967D2;\n",
              "      height: 32px;\n",
              "      padding: 0 0 0 0;\n",
              "      width: 32px;\n",
              "    }\n",
              "\n",
              "    .colab-df-convert:hover {\n",
              "      background-color: #E2EBFA;\n",
              "      box-shadow: 0px 1px 2px rgba(60, 64, 67, 0.3), 0px 1px 3px 1px rgba(60, 64, 67, 0.15);\n",
              "      fill: #174EA6;\n",
              "    }\n",
              "\n",
              "    [theme=dark] .colab-df-convert {\n",
              "      background-color: #3B4455;\n",
              "      fill: #D2E3FC;\n",
              "    }\n",
              "\n",
              "    [theme=dark] .colab-df-convert:hover {\n",
              "      background-color: #434B5C;\n",
              "      box-shadow: 0px 1px 3px 1px rgba(0, 0, 0, 0.15);\n",
              "      filter: drop-shadow(0px 1px 2px rgba(0, 0, 0, 0.3));\n",
              "      fill: #FFFFFF;\n",
              "    }\n",
              "  </style>\n",
              "\n",
              "      <script>\n",
              "        const buttonEl =\n",
              "          document.querySelector('#df-2e520d0a-3bba-4d73-bfcd-3e50cdae6dfe button.colab-df-convert');\n",
              "        buttonEl.style.display =\n",
              "          google.colab.kernel.accessAllowed ? 'block' : 'none';\n",
              "\n",
              "        async function convertToInteractive(key) {\n",
              "          const element = document.querySelector('#df-2e520d0a-3bba-4d73-bfcd-3e50cdae6dfe');\n",
              "          const dataTable =\n",
              "            await google.colab.kernel.invokeFunction('convertToInteractive',\n",
              "                                                     [key], {});\n",
              "          if (!dataTable) return;\n",
              "\n",
              "          const docLinkHtml = 'Like what you see? Visit the ' +\n",
              "            '<a target=\"_blank\" href=https://colab.research.google.com/notebooks/data_table.ipynb>data table notebook</a>'\n",
              "            + ' to learn more about interactive tables.';\n",
              "          element.innerHTML = '';\n",
              "          dataTable['output_type'] = 'display_data';\n",
              "          await google.colab.output.renderOutput(dataTable, element);\n",
              "          const docLink = document.createElement('div');\n",
              "          docLink.innerHTML = docLinkHtml;\n",
              "          element.appendChild(docLink);\n",
              "        }\n",
              "      </script>\n",
              "    </div>\n",
              "  </div>\n",
              "  "
            ],
            "text/plain": [
              "        PL_NUMBER           PL_AREA LANDUSE  ...  IS_TAMAL  MAIN_AREA_y       y_pred\n",
              "445   306-0464982    306-0464982-2A  מגורים  ...         0        450.5   371.095238\n",
              "739     תמל/ 1050      תמל/ 1050-13  מגורים  ...         1        240.0   275.400000\n",
              "993   101-0415521     101-0415521-1  מגורים  ...         0        962.3  1105.379406\n",
              "996   455-0501718     455-0501718-1  מגורים  ...         0        310.0   265.000000\n",
              "1238  455-0153890  455-0153890-1000  מגורים  ...         0       2735.0  3090.802267\n",
              "\n",
              "[5 rows x 20 columns]"
            ]
          },
          "metadata": {},
          "execution_count": 108
        }
      ]
    },
    {
      "cell_type": "code",
      "source": [
        "from google.colab import files\n",
        "# all_data_with_predictions.to_csv('all_data_with_predictions.csv', encoding='utf-8-sig')\n",
        "# files.download(\"all_data_with_predictions.csv\")"
      ],
      "metadata": {
        "id": "jjZFb7SUIVsM"
      },
      "execution_count": 109,
      "outputs": []
    },
    {
      "cell_type": "code",
      "source": [
        "new_data = pd.read_csv('https://raw.githubusercontent.com/mannmoshe/machine-learning/main/FinalProject/cellsData_New.csv')\n",
        "new_data = new_data.drop_duplicates(subset=\"PL_NUMBER\", keep=\"first\")\n",
        "new_data = new_data[new_data['MAIN_AREA'] < 8580]\n",
        "new_data = new_data[new_data['SERVICE_AREA'] < 2220]"
      ],
      "metadata": {
        "id": "72FIvqbA1iLD"
      },
      "execution_count": 110,
      "outputs": []
    },
    {
      "cell_type": "code",
      "source": [
        "X_new = new_data[feature_cols]\n",
        "# X_new_scaled = scaler.fit_transform(X_new)\n",
        "y_new = new_data['MAIN_AREA']"
      ],
      "metadata": {
        "id": "Vxp-M0j41o17"
      },
      "execution_count": 111,
      "outputs": []
    },
    {
      "cell_type": "code",
      "source": [
        "y_new_pred = neigh.predict(X_new)"
      ],
      "metadata": {
        "id": "kWv0vkei2MGY"
      },
      "execution_count": 112,
      "outputs": []
    },
    {
      "cell_type": "code",
      "source": [
        "mae = mean_absolute_error(y_new, y_new_pred)\n",
        "print(\"MAE:\", mae)\n",
        "mse = mean_squared_error(y_new, y_new_pred)\n",
        "print(\"MSE:\", mse)\n",
        "rmse = mean_squared_error(y_new, y_new_pred, squared=False)\n",
        "print(\"RMSE:\", rmse)\n",
        "rsquared = r2_score(y_new, y_new_pred)\n",
        "print(\"R Squared:\", rsquared)"
      ],
      "metadata": {
        "colab": {
          "base_uri": "https://localhost:8080/"
        },
        "id": "jyykmIZy2Vxs",
        "outputId": "0a1aabc8-2e0f-4f77-d586-0da29ce1a503"
      },
      "execution_count": 113,
      "outputs": [
        {
          "output_type": "stream",
          "name": "stdout",
          "text": [
            "MAE: 73.45069570376239\n",
            "MSE: 19411.904670589152\n",
            "RMSE: 139.32661149467876\n",
            "R Squared: 0.982792696346035\n"
          ]
        }
      ]
    },
    {
      "cell_type": "code",
      "source": [
        "new_result_df = pd.DataFrame(y_new)\n",
        "new_result_df['y_pred'] = y_new_pred\n",
        "print(new_result_df.shape)\n",
        "new_result_df.T"
      ],
      "metadata": {
        "colab": {
          "base_uri": "https://localhost:8080/",
          "height": 193
        },
        "id": "xoVMroZQ2wAC",
        "outputId": "00ae22c9-2d8e-4a73-e631-0e2eb028aa7e"
      },
      "execution_count": 114,
      "outputs": [
        {
          "output_type": "stream",
          "name": "stdout",
          "text": [
            "(30, 2)\n"
          ]
        },
        {
          "output_type": "execute_result",
          "data": {
            "text/html": [
              "\n",
              "  <div id=\"df-426439b8-fb0a-4916-a165-e6708fcd4edc\">\n",
              "    <div class=\"colab-df-container\">\n",
              "      <div>\n",
              "<style scoped>\n",
              "    .dataframe tbody tr th:only-of-type {\n",
              "        vertical-align: middle;\n",
              "    }\n",
              "\n",
              "    .dataframe tbody tr th {\n",
              "        vertical-align: top;\n",
              "    }\n",
              "\n",
              "    .dataframe thead th {\n",
              "        text-align: right;\n",
              "    }\n",
              "</style>\n",
              "<table border=\"1\" class=\"dataframe\">\n",
              "  <thead>\n",
              "    <tr style=\"text-align: right;\">\n",
              "      <th></th>\n",
              "      <th>0</th>\n",
              "      <th>1</th>\n",
              "      <th>3</th>\n",
              "      <th>7</th>\n",
              "      <th>8</th>\n",
              "      <th>18</th>\n",
              "      <th>282</th>\n",
              "      <th>328</th>\n",
              "      <th>333</th>\n",
              "      <th>334</th>\n",
              "      <th>336</th>\n",
              "      <th>338</th>\n",
              "      <th>339</th>\n",
              "      <th>340</th>\n",
              "      <th>341</th>\n",
              "      <th>343</th>\n",
              "      <th>344</th>\n",
              "      <th>345</th>\n",
              "      <th>346</th>\n",
              "      <th>348</th>\n",
              "      <th>349</th>\n",
              "      <th>350</th>\n",
              "      <th>351</th>\n",
              "      <th>352</th>\n",
              "      <th>353</th>\n",
              "      <th>354</th>\n",
              "      <th>355</th>\n",
              "      <th>356</th>\n",
              "      <th>357</th>\n",
              "      <th>358</th>\n",
              "    </tr>\n",
              "  </thead>\n",
              "  <tbody>\n",
              "    <tr>\n",
              "      <th>MAIN_AREA</th>\n",
              "      <td>576.0</td>\n",
              "      <td>220.0</td>\n",
              "      <td>570.400000</td>\n",
              "      <td>728.0</td>\n",
              "      <td>3250.000000</td>\n",
              "      <td>953.000000</td>\n",
              "      <td>720.0</td>\n",
              "      <td>324.000000</td>\n",
              "      <td>1894.000000</td>\n",
              "      <td>220.000000</td>\n",
              "      <td>160.0</td>\n",
              "      <td>190.000000</td>\n",
              "      <td>240.0</td>\n",
              "      <td>576.0</td>\n",
              "      <td>3060.0</td>\n",
              "      <td>897.0</td>\n",
              "      <td>332.4</td>\n",
              "      <td>4400.000000</td>\n",
              "      <td>230.0</td>\n",
              "      <td>1456.00000</td>\n",
              "      <td>230.0</td>\n",
              "      <td>370.0</td>\n",
              "      <td>383.14000</td>\n",
              "      <td>240.0</td>\n",
              "      <td>480.00</td>\n",
              "      <td>527.050000</td>\n",
              "      <td>810.600000</td>\n",
              "      <td>811.000000</td>\n",
              "      <td>920.0</td>\n",
              "      <td>3034.000000</td>\n",
              "    </tr>\n",
              "    <tr>\n",
              "      <th>y_pred</th>\n",
              "      <td>578.4</td>\n",
              "      <td>234.0</td>\n",
              "      <td>562.535974</td>\n",
              "      <td>681.6</td>\n",
              "      <td>3171.908762</td>\n",
              "      <td>1152.308033</td>\n",
              "      <td>695.2</td>\n",
              "      <td>357.964837</td>\n",
              "      <td>2000.003282</td>\n",
              "      <td>228.617021</td>\n",
              "      <td>175.0</td>\n",
              "      <td>260.428571</td>\n",
              "      <td>242.0</td>\n",
              "      <td>578.4</td>\n",
              "      <td>2800.0</td>\n",
              "      <td>825.0</td>\n",
              "      <td>330.0</td>\n",
              "      <td>4814.457193</td>\n",
              "      <td>201.4</td>\n",
              "      <td>1397.75186</td>\n",
              "      <td>237.0</td>\n",
              "      <td>381.5</td>\n",
              "      <td>389.96609</td>\n",
              "      <td>242.0</td>\n",
              "      <td>528.75</td>\n",
              "      <td>637.684972</td>\n",
              "      <td>826.188044</td>\n",
              "      <td>807.573391</td>\n",
              "      <td>971.5</td>\n",
              "      <td>2534.687186</td>\n",
              "    </tr>\n",
              "  </tbody>\n",
              "</table>\n",
              "</div>\n",
              "      <button class=\"colab-df-convert\" onclick=\"convertToInteractive('df-426439b8-fb0a-4916-a165-e6708fcd4edc')\"\n",
              "              title=\"Convert this dataframe to an interactive table.\"\n",
              "              style=\"display:none;\">\n",
              "        \n",
              "  <svg xmlns=\"http://www.w3.org/2000/svg\" height=\"24px\"viewBox=\"0 0 24 24\"\n",
              "       width=\"24px\">\n",
              "    <path d=\"M0 0h24v24H0V0z\" fill=\"none\"/>\n",
              "    <path d=\"M18.56 5.44l.94 2.06.94-2.06 2.06-.94-2.06-.94-.94-2.06-.94 2.06-2.06.94zm-11 1L8.5 8.5l.94-2.06 2.06-.94-2.06-.94L8.5 2.5l-.94 2.06-2.06.94zm10 10l.94 2.06.94-2.06 2.06-.94-2.06-.94-.94-2.06-.94 2.06-2.06.94z\"/><path d=\"M17.41 7.96l-1.37-1.37c-.4-.4-.92-.59-1.43-.59-.52 0-1.04.2-1.43.59L10.3 9.45l-7.72 7.72c-.78.78-.78 2.05 0 2.83L4 21.41c.39.39.9.59 1.41.59.51 0 1.02-.2 1.41-.59l7.78-7.78 2.81-2.81c.8-.78.8-2.07 0-2.86zM5.41 20L4 18.59l7.72-7.72 1.47 1.35L5.41 20z\"/>\n",
              "  </svg>\n",
              "      </button>\n",
              "      \n",
              "  <style>\n",
              "    .colab-df-container {\n",
              "      display:flex;\n",
              "      flex-wrap:wrap;\n",
              "      gap: 12px;\n",
              "    }\n",
              "\n",
              "    .colab-df-convert {\n",
              "      background-color: #E8F0FE;\n",
              "      border: none;\n",
              "      border-radius: 50%;\n",
              "      cursor: pointer;\n",
              "      display: none;\n",
              "      fill: #1967D2;\n",
              "      height: 32px;\n",
              "      padding: 0 0 0 0;\n",
              "      width: 32px;\n",
              "    }\n",
              "\n",
              "    .colab-df-convert:hover {\n",
              "      background-color: #E2EBFA;\n",
              "      box-shadow: 0px 1px 2px rgba(60, 64, 67, 0.3), 0px 1px 3px 1px rgba(60, 64, 67, 0.15);\n",
              "      fill: #174EA6;\n",
              "    }\n",
              "\n",
              "    [theme=dark] .colab-df-convert {\n",
              "      background-color: #3B4455;\n",
              "      fill: #D2E3FC;\n",
              "    }\n",
              "\n",
              "    [theme=dark] .colab-df-convert:hover {\n",
              "      background-color: #434B5C;\n",
              "      box-shadow: 0px 1px 3px 1px rgba(0, 0, 0, 0.15);\n",
              "      filter: drop-shadow(0px 1px 2px rgba(0, 0, 0, 0.3));\n",
              "      fill: #FFFFFF;\n",
              "    }\n",
              "  </style>\n",
              "\n",
              "      <script>\n",
              "        const buttonEl =\n",
              "          document.querySelector('#df-426439b8-fb0a-4916-a165-e6708fcd4edc button.colab-df-convert');\n",
              "        buttonEl.style.display =\n",
              "          google.colab.kernel.accessAllowed ? 'block' : 'none';\n",
              "\n",
              "        async function convertToInteractive(key) {\n",
              "          const element = document.querySelector('#df-426439b8-fb0a-4916-a165-e6708fcd4edc');\n",
              "          const dataTable =\n",
              "            await google.colab.kernel.invokeFunction('convertToInteractive',\n",
              "                                                     [key], {});\n",
              "          if (!dataTable) return;\n",
              "\n",
              "          const docLinkHtml = 'Like what you see? Visit the ' +\n",
              "            '<a target=\"_blank\" href=https://colab.research.google.com/notebooks/data_table.ipynb>data table notebook</a>'\n",
              "            + ' to learn more about interactive tables.';\n",
              "          element.innerHTML = '';\n",
              "          dataTable['output_type'] = 'display_data';\n",
              "          await google.colab.output.renderOutput(dataTable, element);\n",
              "          const docLink = document.createElement('div');\n",
              "          docLink.innerHTML = docLinkHtml;\n",
              "          element.appendChild(docLink);\n",
              "        }\n",
              "      </script>\n",
              "    </div>\n",
              "  </div>\n",
              "  "
            ],
            "text/plain": [
              "             0      1           3    ...         356    357          358\n",
              "MAIN_AREA  576.0  220.0  570.400000  ...  811.000000  920.0  3034.000000\n",
              "y_pred     578.4  234.0  562.535974  ...  807.573391  971.5  2534.687186\n",
              "\n",
              "[2 rows x 30 columns]"
            ]
          },
          "metadata": {},
          "execution_count": 114
        }
      ]
    },
    {
      "cell_type": "code",
      "source": [
        "all_new_data_with_predictions = pd.merge(new_data, new_result_df, left_index=True, right_index=True)\n",
        "all_new_data_with_predictions.head()"
      ],
      "metadata": {
        "colab": {
          "base_uri": "https://localhost:8080/",
          "height": 444
        },
        "id": "zU27phUQkkF0",
        "outputId": "21137e93-d04d-4365-ae72-093294dab343"
      },
      "execution_count": 115,
      "outputs": [
        {
          "output_type": "execute_result",
          "data": {
            "text/html": [
              "\n",
              "  <div id=\"df-0965c39a-c615-41d7-b107-dbf14dea4b2a\">\n",
              "    <div class=\"colab-df-container\">\n",
              "      <div>\n",
              "<style scoped>\n",
              "    .dataframe tbody tr th:only-of-type {\n",
              "        vertical-align: middle;\n",
              "    }\n",
              "\n",
              "    .dataframe tbody tr th {\n",
              "        vertical-align: top;\n",
              "    }\n",
              "\n",
              "    .dataframe thead th {\n",
              "        text-align: right;\n",
              "    }\n",
              "</style>\n",
              "<table border=\"1\" class=\"dataframe\">\n",
              "  <thead>\n",
              "    <tr style=\"text-align: right;\">\n",
              "      <th></th>\n",
              "      <th>PL_NUMBER</th>\n",
              "      <th>PL_AREA</th>\n",
              "      <th>LANDUSE</th>\n",
              "      <th>MAIN_AREA_x</th>\n",
              "      <th>SERVICE_AREA</th>\n",
              "      <th>CELL_SIZE_TOTAL</th>\n",
              "      <th>CELL_SIZE_MIN</th>\n",
              "      <th>CELL_SIZE_MAX</th>\n",
              "      <th>HOUSING_UNITS</th>\n",
              "      <th>BUILDING_HEIGHT</th>\n",
              "      <th>FLOORS_NUM</th>\n",
              "      <th>TOTAL_AREA</th>\n",
              "      <th>AUTHORITY</th>\n",
              "      <th>DISTRICT</th>\n",
              "      <th>SECTOR_GROUP</th>\n",
              "      <th>CONFIRMATION_YEAR</th>\n",
              "      <th>CONSTRUCTION_TYPE_GROUP</th>\n",
              "      <th>MAIN_AREA_y</th>\n",
              "      <th>y_pred</th>\n",
              "    </tr>\n",
              "  </thead>\n",
              "  <tbody>\n",
              "    <tr>\n",
              "      <th>0</th>\n",
              "      <td>257-0744540</td>\n",
              "      <td>257-0744540-1</td>\n",
              "      <td>מגורים</td>\n",
              "      <td>576.0</td>\n",
              "      <td>96.0</td>\n",
              "      <td>400.0</td>\n",
              "      <td>0</td>\n",
              "      <td>0</td>\n",
              "      <td>0</td>\n",
              "      <td>12.5</td>\n",
              "      <td>4</td>\n",
              "      <td>672.0</td>\n",
              "      <td>מחוזית</td>\n",
              "      <td>צפון</td>\n",
              "      <td>חברה ערבית</td>\n",
              "      <td>2021</td>\n",
              "      <td>חדשה</td>\n",
              "      <td>576.0</td>\n",
              "      <td>578.400000</td>\n",
              "    </tr>\n",
              "    <tr>\n",
              "      <th>1</th>\n",
              "      <td>633-0921650</td>\n",
              "      <td>633-0921650-13</td>\n",
              "      <td>מגורים</td>\n",
              "      <td>220.0</td>\n",
              "      <td>60.0</td>\n",
              "      <td>500.0</td>\n",
              "      <td>0</td>\n",
              "      <td>0</td>\n",
              "      <td>1</td>\n",
              "      <td>10.5</td>\n",
              "      <td>2</td>\n",
              "      <td>280.0</td>\n",
              "      <td>מחוזית</td>\n",
              "      <td>דרום</td>\n",
              "      <td>חברה כללית / מעורבת</td>\n",
              "      <td>2021</td>\n",
              "      <td>חדשה</td>\n",
              "      <td>220.0</td>\n",
              "      <td>234.000000</td>\n",
              "    </tr>\n",
              "    <tr>\n",
              "      <th>3</th>\n",
              "      <td>204-0765354</td>\n",
              "      <td>204-0765354-4</td>\n",
              "      <td>מגורים</td>\n",
              "      <td>570.4</td>\n",
              "      <td>92.0</td>\n",
              "      <td>460.0</td>\n",
              "      <td>0</td>\n",
              "      <td>0</td>\n",
              "      <td>4</td>\n",
              "      <td>14.4</td>\n",
              "      <td>4</td>\n",
              "      <td>662.4</td>\n",
              "      <td>מחוזית</td>\n",
              "      <td>צפון</td>\n",
              "      <td>חברה ערבית</td>\n",
              "      <td>2021</td>\n",
              "      <td>חדשה</td>\n",
              "      <td>570.4</td>\n",
              "      <td>562.535974</td>\n",
              "    </tr>\n",
              "    <tr>\n",
              "      <th>7</th>\n",
              "      <td>101-0902015</td>\n",
              "      <td>101-0902015-1</td>\n",
              "      <td>מגורים</td>\n",
              "      <td>728.0</td>\n",
              "      <td>72.0</td>\n",
              "      <td>501.0</td>\n",
              "      <td>0</td>\n",
              "      <td>0</td>\n",
              "      <td>5</td>\n",
              "      <td>12.0</td>\n",
              "      <td>4</td>\n",
              "      <td>800.0</td>\n",
              "      <td>מחוזית</td>\n",
              "      <td>ירושלים</td>\n",
              "      <td>חברה ערבית</td>\n",
              "      <td>2021</td>\n",
              "      <td>התחדשות</td>\n",
              "      <td>728.0</td>\n",
              "      <td>681.600000</td>\n",
              "    </tr>\n",
              "    <tr>\n",
              "      <th>8</th>\n",
              "      <td>354-0846360</td>\n",
              "      <td>354-0846360-100</td>\n",
              "      <td>מגורים</td>\n",
              "      <td>3250.0</td>\n",
              "      <td>1000.0</td>\n",
              "      <td>1160.0</td>\n",
              "      <td>0</td>\n",
              "      <td>0</td>\n",
              "      <td>24</td>\n",
              "      <td>0.0</td>\n",
              "      <td>6</td>\n",
              "      <td>4250.0</td>\n",
              "      <td>מחוזית</td>\n",
              "      <td>חיפה</td>\n",
              "      <td>חברה ערבית</td>\n",
              "      <td>2021</td>\n",
              "      <td>חדשה</td>\n",
              "      <td>3250.0</td>\n",
              "      <td>3171.908762</td>\n",
              "    </tr>\n",
              "  </tbody>\n",
              "</table>\n",
              "</div>\n",
              "      <button class=\"colab-df-convert\" onclick=\"convertToInteractive('df-0965c39a-c615-41d7-b107-dbf14dea4b2a')\"\n",
              "              title=\"Convert this dataframe to an interactive table.\"\n",
              "              style=\"display:none;\">\n",
              "        \n",
              "  <svg xmlns=\"http://www.w3.org/2000/svg\" height=\"24px\"viewBox=\"0 0 24 24\"\n",
              "       width=\"24px\">\n",
              "    <path d=\"M0 0h24v24H0V0z\" fill=\"none\"/>\n",
              "    <path d=\"M18.56 5.44l.94 2.06.94-2.06 2.06-.94-2.06-.94-.94-2.06-.94 2.06-2.06.94zm-11 1L8.5 8.5l.94-2.06 2.06-.94-2.06-.94L8.5 2.5l-.94 2.06-2.06.94zm10 10l.94 2.06.94-2.06 2.06-.94-2.06-.94-.94-2.06-.94 2.06-2.06.94z\"/><path d=\"M17.41 7.96l-1.37-1.37c-.4-.4-.92-.59-1.43-.59-.52 0-1.04.2-1.43.59L10.3 9.45l-7.72 7.72c-.78.78-.78 2.05 0 2.83L4 21.41c.39.39.9.59 1.41.59.51 0 1.02-.2 1.41-.59l7.78-7.78 2.81-2.81c.8-.78.8-2.07 0-2.86zM5.41 20L4 18.59l7.72-7.72 1.47 1.35L5.41 20z\"/>\n",
              "  </svg>\n",
              "      </button>\n",
              "      \n",
              "  <style>\n",
              "    .colab-df-container {\n",
              "      display:flex;\n",
              "      flex-wrap:wrap;\n",
              "      gap: 12px;\n",
              "    }\n",
              "\n",
              "    .colab-df-convert {\n",
              "      background-color: #E8F0FE;\n",
              "      border: none;\n",
              "      border-radius: 50%;\n",
              "      cursor: pointer;\n",
              "      display: none;\n",
              "      fill: #1967D2;\n",
              "      height: 32px;\n",
              "      padding: 0 0 0 0;\n",
              "      width: 32px;\n",
              "    }\n",
              "\n",
              "    .colab-df-convert:hover {\n",
              "      background-color: #E2EBFA;\n",
              "      box-shadow: 0px 1px 2px rgba(60, 64, 67, 0.3), 0px 1px 3px 1px rgba(60, 64, 67, 0.15);\n",
              "      fill: #174EA6;\n",
              "    }\n",
              "\n",
              "    [theme=dark] .colab-df-convert {\n",
              "      background-color: #3B4455;\n",
              "      fill: #D2E3FC;\n",
              "    }\n",
              "\n",
              "    [theme=dark] .colab-df-convert:hover {\n",
              "      background-color: #434B5C;\n",
              "      box-shadow: 0px 1px 3px 1px rgba(0, 0, 0, 0.15);\n",
              "      filter: drop-shadow(0px 1px 2px rgba(0, 0, 0, 0.3));\n",
              "      fill: #FFFFFF;\n",
              "    }\n",
              "  </style>\n",
              "\n",
              "      <script>\n",
              "        const buttonEl =\n",
              "          document.querySelector('#df-0965c39a-c615-41d7-b107-dbf14dea4b2a button.colab-df-convert');\n",
              "        buttonEl.style.display =\n",
              "          google.colab.kernel.accessAllowed ? 'block' : 'none';\n",
              "\n",
              "        async function convertToInteractive(key) {\n",
              "          const element = document.querySelector('#df-0965c39a-c615-41d7-b107-dbf14dea4b2a');\n",
              "          const dataTable =\n",
              "            await google.colab.kernel.invokeFunction('convertToInteractive',\n",
              "                                                     [key], {});\n",
              "          if (!dataTable) return;\n",
              "\n",
              "          const docLinkHtml = 'Like what you see? Visit the ' +\n",
              "            '<a target=\"_blank\" href=https://colab.research.google.com/notebooks/data_table.ipynb>data table notebook</a>'\n",
              "            + ' to learn more about interactive tables.';\n",
              "          element.innerHTML = '';\n",
              "          dataTable['output_type'] = 'display_data';\n",
              "          await google.colab.output.renderOutput(dataTable, element);\n",
              "          const docLink = document.createElement('div');\n",
              "          docLink.innerHTML = docLinkHtml;\n",
              "          element.appendChild(docLink);\n",
              "        }\n",
              "      </script>\n",
              "    </div>\n",
              "  </div>\n",
              "  "
            ],
            "text/plain": [
              "     PL_NUMBER          PL_AREA  ... MAIN_AREA_y       y_pred\n",
              "0  257-0744540    257-0744540-1  ...       576.0   578.400000\n",
              "1  633-0921650   633-0921650-13  ...       220.0   234.000000\n",
              "3  204-0765354    204-0765354-4  ...       570.4   562.535974\n",
              "7  101-0902015    101-0902015-1  ...       728.0   681.600000\n",
              "8  354-0846360  354-0846360-100  ...      3250.0  3171.908762\n",
              "\n",
              "[5 rows x 19 columns]"
            ]
          },
          "metadata": {},
          "execution_count": 115
        }
      ]
    },
    {
      "cell_type": "code",
      "source": [
        "from google.colab import files\n",
        "# all_new_data_with_predictions.to_csv('all_new_data_with_predictions.csv', encoding='utf-8-sig')\n",
        "# files.download(\"all_new_data_with_predictions.csv\")"
      ],
      "metadata": {
        "id": "VBARS4xpkxbf"
      },
      "execution_count": 116,
      "outputs": []
    }
  ]
}