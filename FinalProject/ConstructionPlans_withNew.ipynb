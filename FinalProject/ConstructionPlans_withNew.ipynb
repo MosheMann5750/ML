{
  "nbformat": 4,
  "nbformat_minor": 0,
  "metadata": {
    "colab": {
      "name": "ConstructionPlans.ipynb",
      "provenance": [],
      "authorship_tag": "ABX9TyOZEpn/Nq7P7/zMtdcsI02x",
      "include_colab_link": true
    },
    "kernelspec": {
      "name": "python3",
      "display_name": "Python 3"
    },
    "language_info": {
      "name": "python"
    }
  },
  "cells": [
    {
      "cell_type": "markdown",
      "metadata": {
        "id": "view-in-github",
        "colab_type": "text"
      },
      "source": [
        "<a href=\"https://colab.research.google.com/github/mannmoshe/machine-learning/blob/main/FinalProject/ConstructionPlans_withNew.ipynb\" target=\"_parent\"><img src=\"https://colab.research.google.com/assets/colab-badge.svg\" alt=\"Open In Colab\"/></a>"
      ]
    },
    {
      "cell_type": "markdown",
      "source": [
        "# Final Project - Construction plans<br>*By Moshe Mann*"
      ],
      "metadata": {
        "id": "ZEjIPay33abT"
      }
    },
    {
      "cell_type": "markdown",
      "source": [
        "**Overview**<br>\n",
        "The Israel Planning Administration (IPA) is handling detailed construction plans.<BR>Every detailed plan contains a lot of data, among the rest, division of main and service area.<BR><BR>Main area is the area that divided among the tenants, like the departments,<BR> and the service area is common to all tenants, like parking, stairwell etc.<BR><BR>\n",
        "In the near future the plans will not include the division between main and service area, because it is not important for the IPA as planning unit, but still, it is important data for regulation.<BR><BR> The purpose of the project is to predict the main and service areas based on the cell and plan features, so that the model can be used for regulatory purposes."
      ],
      "metadata": {
        "id": "pcfRRxNVLaMm"
      }
    },
    {
      "cell_type": "code",
      "execution_count": 2,
      "metadata": {
        "id": "_E9eo8uh3ZkZ"
      },
      "outputs": [],
      "source": [
        "import numpy as np\n",
        "import pandas as pd\n",
        "import seaborn as sns"
      ]
    },
    {
      "cell_type": "code",
      "source": [
        "data = pd.read_csv('https://raw.githubusercontent.com/mannmoshe/machine-learning/main/FinalProject/cellsData.csv')\n",
        "data = data.drop_duplicates(subset=\"PL_NUMBER\", keep=\"first\")"
      ],
      "metadata": {
        "id": "ZqjZVz1jUDLC"
      },
      "execution_count": 3,
      "outputs": []
    },
    {
      "cell_type": "code",
      "source": [
        "data.shape"
      ],
      "metadata": {
        "colab": {
          "base_uri": "https://localhost:8080/"
        },
        "id": "_eEhtbV44F46",
        "outputId": "5c66079d-195d-4c24-f3b7-bf0568795255"
      },
      "execution_count": 4,
      "outputs": [
        {
          "output_type": "execute_result",
          "data": {
            "text/plain": [
              "(2582, 17)"
            ]
          },
          "metadata": {},
          "execution_count": 4
        }
      ]
    },
    {
      "cell_type": "code",
      "source": [
        "data.info()"
      ],
      "metadata": {
        "colab": {
          "base_uri": "https://localhost:8080/"
        },
        "id": "K3gjPDzb4yoy",
        "outputId": "1eb55e39-0a99-4b4c-9585-db7b52774abd"
      },
      "execution_count": 5,
      "outputs": [
        {
          "output_type": "stream",
          "name": "stdout",
          "text": [
            "<class 'pandas.core.frame.DataFrame'>\n",
            "Int64Index: 2582 entries, 0 to 13708\n",
            "Data columns (total 17 columns):\n",
            " #   Column                   Non-Null Count  Dtype  \n",
            "---  ------                   --------------  -----  \n",
            " 0   PL_NUMBER                2582 non-null   object \n",
            " 1   PL_AREA                  2582 non-null   object \n",
            " 2   LANDUSE                  2582 non-null   object \n",
            " 3   MAIN_AREA                2582 non-null   float64\n",
            " 4   SERVICE_AREA             2582 non-null   float64\n",
            " 5   CELL_SIZE_TOTAL          2582 non-null   float64\n",
            " 6   CELL_SIZE_MIN            2582 non-null   float64\n",
            " 7   CELL_SIZE_MAX            2582 non-null   float64\n",
            " 8   HOUSING_UNITS            2582 non-null   float64\n",
            " 9   BUILDING_HEIGHT          2582 non-null   float64\n",
            " 10  FLOORS_NUM               2582 non-null   float64\n",
            " 11  TOTAL_AREA               2582 non-null   float64\n",
            " 12  AUTHORITY                2582 non-null   object \n",
            " 13  DISTRICT                 2582 non-null   object \n",
            " 14  SECTOR_GROUP             2582 non-null   object \n",
            " 15  CONFIRMATION_YEAR        2582 non-null   int64  \n",
            " 16  CONSTRUCTION_TYPE_GROUP  2578 non-null   object \n",
            "dtypes: float64(9), int64(1), object(7)\n",
            "memory usage: 363.1+ KB\n"
          ]
        }
      ]
    },
    {
      "cell_type": "markdown",
      "source": [
        "### Features\n",
        "\n",
        "<table>\n",
        "  <tbody>    \n",
        "    <tr valign=\"top\">\n",
        "      <td valign=\"top\">\n",
        "        <ul>\n",
        "          <li>PL_NUMBER : Number of plan</li>\n",
        "          <br>\n",
        "          <li>PL_AREA: Number of plan concatenate to number of area-cell</li>\n",
        "          <br>          \n",
        "          <li>LANDUSE: Usage of land</li>\n",
        "          <br>\n",
        "          <li>MAIN_AREA: Area divided among the tentants (square meter)<br>This is the dependent variable that need to be predicted!</li>\n",
        "          <br>\n",
        "          <li>SERVICE_AREA: Common area of all the tentants (square meter)</li>\n",
        "          <br>\n",
        "          <li>CELL_SIZE_TOTAL: The size of area-cell</li>\n",
        "          <br>\n",
        "          <li>CELL_SIZE_MIN: The minimum size of area-cell</li>\n",
        "          <br>\n",
        "          <li>CELL_SIZE_MAX: The maximum size of area-cell</li>\n",
        "          <br>\n",
        "          <li>HOUSING_UNITS: Number of housing units</li>\n",
        "          <br>\n",
        "          <li>BUILDING_HEIGHT: Height of building (meter)</li>\n",
        "          <br>\n",
        "          <li>FLOORS_NUM: Number of floors</li>\n",
        "          <br>\n",
        "          <li>TOTAL_AREA: Sum of Main area and Service area</li>\n",
        "          <br>\n",
        "          <li>AUTHORITY: Authority of plan</li>\n",
        "          <br>\n",
        "          <li>DISTRICT: District of plan</li>\n",
        "          <br>\n",
        "          <li>SECTOR_GROUP: Sector of plan</li>\n",
        "          <br>\n",
        "          <li>CONFIRMATION_YEAR: Year of plan's confirmation</li>\n",
        "          <br>\n",
        "          <li>CONSTRUCTION_TYPE_GROUP: Type of construction</li>          \n",
        "        </ul>\n",
        "      </td>\n",
        "    </tr>\n",
        "    \n",
        "  </tbody>\n",
        "</table>"
      ],
      "metadata": {
        "id": "cDWHufahSZIJ"
      }
    },
    {
      "cell_type": "code",
      "source": [
        "data.head()"
      ],
      "metadata": {
        "colab": {
          "base_uri": "https://localhost:8080/",
          "height": 409
        },
        "id": "NkyXW97Z4IrB",
        "outputId": "666698d5-ee8c-404c-8fbe-976bc30b6498"
      },
      "execution_count": 6,
      "outputs": [
        {
          "output_type": "execute_result",
          "data": {
            "text/html": [
              "\n",
              "  <div id=\"df-bc9bf4e0-e1a2-4572-8566-619e69baf8a8\">\n",
              "    <div class=\"colab-df-container\">\n",
              "      <div>\n",
              "<style scoped>\n",
              "    .dataframe tbody tr th:only-of-type {\n",
              "        vertical-align: middle;\n",
              "    }\n",
              "\n",
              "    .dataframe tbody tr th {\n",
              "        vertical-align: top;\n",
              "    }\n",
              "\n",
              "    .dataframe thead th {\n",
              "        text-align: right;\n",
              "    }\n",
              "</style>\n",
              "<table border=\"1\" class=\"dataframe\">\n",
              "  <thead>\n",
              "    <tr style=\"text-align: right;\">\n",
              "      <th></th>\n",
              "      <th>PL_NUMBER</th>\n",
              "      <th>PL_AREA</th>\n",
              "      <th>LANDUSE</th>\n",
              "      <th>MAIN_AREA</th>\n",
              "      <th>SERVICE_AREA</th>\n",
              "      <th>CELL_SIZE_TOTAL</th>\n",
              "      <th>CELL_SIZE_MIN</th>\n",
              "      <th>CELL_SIZE_MAX</th>\n",
              "      <th>HOUSING_UNITS</th>\n",
              "      <th>BUILDING_HEIGHT</th>\n",
              "      <th>FLOORS_NUM</th>\n",
              "      <th>TOTAL_AREA</th>\n",
              "      <th>AUTHORITY</th>\n",
              "      <th>DISTRICT</th>\n",
              "      <th>SECTOR_GROUP</th>\n",
              "      <th>CONFIRMATION_YEAR</th>\n",
              "      <th>CONSTRUCTION_TYPE_GROUP</th>\n",
              "    </tr>\n",
              "  </thead>\n",
              "  <tbody>\n",
              "    <tr>\n",
              "      <th>0</th>\n",
              "      <td>610-0197038</td>\n",
              "      <td>610-0197038-102</td>\n",
              "      <td>מגורים</td>\n",
              "      <td>975.0</td>\n",
              "      <td>300.0</td>\n",
              "      <td>2466.0</td>\n",
              "      <td>0.0</td>\n",
              "      <td>0.0</td>\n",
              "      <td>16.0</td>\n",
              "      <td>11.0</td>\n",
              "      <td>2.0</td>\n",
              "      <td>1275.0</td>\n",
              "      <td>מחוזית</td>\n",
              "      <td>דרום</td>\n",
              "      <td>חברה כללית / מעורבת</td>\n",
              "      <td>2017</td>\n",
              "      <td>חדשה</td>\n",
              "    </tr>\n",
              "    <tr>\n",
              "      <th>2</th>\n",
              "      <td>151-0392894</td>\n",
              "      <td>151-0392894-210</td>\n",
              "      <td>מגורים</td>\n",
              "      <td>960.0</td>\n",
              "      <td>180.0</td>\n",
              "      <td>2820.0</td>\n",
              "      <td>0.0</td>\n",
              "      <td>0.0</td>\n",
              "      <td>6.0</td>\n",
              "      <td>17.0</td>\n",
              "      <td>4.0</td>\n",
              "      <td>1140.0</td>\n",
              "      <td>מחוזית</td>\n",
              "      <td>ירושלים</td>\n",
              "      <td>חברה כללית / מעורבת</td>\n",
              "      <td>2017</td>\n",
              "      <td>התחדשות</td>\n",
              "    </tr>\n",
              "    <tr>\n",
              "      <th>73</th>\n",
              "      <td>תמל/ 1049</td>\n",
              "      <td>תמל/ 1049-123</td>\n",
              "      <td>מגורים</td>\n",
              "      <td>152.0</td>\n",
              "      <td>48.0</td>\n",
              "      <td>420.0</td>\n",
              "      <td>0.0</td>\n",
              "      <td>0.0</td>\n",
              "      <td>1.0</td>\n",
              "      <td>0.0</td>\n",
              "      <td>2.0</td>\n",
              "      <td>200.0</td>\n",
              "      <td>ארצית</td>\n",
              "      <td>מרכז</td>\n",
              "      <td>חברה כללית / מעורבת</td>\n",
              "      <td>2019</td>\n",
              "      <td>חדשה</td>\n",
              "    </tr>\n",
              "    <tr>\n",
              "      <th>297</th>\n",
              "      <td>553-0198077</td>\n",
              "      <td>553-0198077-201</td>\n",
              "      <td>מגורים</td>\n",
              "      <td>2090.0</td>\n",
              "      <td>1045.0</td>\n",
              "      <td>1496.0</td>\n",
              "      <td>0.0</td>\n",
              "      <td>0.0</td>\n",
              "      <td>19.0</td>\n",
              "      <td>25.5</td>\n",
              "      <td>6.0</td>\n",
              "      <td>3135.0</td>\n",
              "      <td>מחוזית</td>\n",
              "      <td>תל-אביב</td>\n",
              "      <td>חברה כללית / מעורבת</td>\n",
              "      <td>2017</td>\n",
              "      <td>חדשה</td>\n",
              "    </tr>\n",
              "    <tr>\n",
              "      <th>322</th>\n",
              "      <td>תמל/ 1029</td>\n",
              "      <td>תמל/ 1029-215</td>\n",
              "      <td>מגורים</td>\n",
              "      <td>675.0</td>\n",
              "      <td>225.0</td>\n",
              "      <td>563.0</td>\n",
              "      <td>0.0</td>\n",
              "      <td>0.0</td>\n",
              "      <td>4.0</td>\n",
              "      <td>21.0</td>\n",
              "      <td>4.0</td>\n",
              "      <td>900.0</td>\n",
              "      <td>ארצית</td>\n",
              "      <td>צפון</td>\n",
              "      <td>חברה ערבית</td>\n",
              "      <td>2018</td>\n",
              "      <td>חדשה</td>\n",
              "    </tr>\n",
              "  </tbody>\n",
              "</table>\n",
              "</div>\n",
              "      <button class=\"colab-df-convert\" onclick=\"convertToInteractive('df-bc9bf4e0-e1a2-4572-8566-619e69baf8a8')\"\n",
              "              title=\"Convert this dataframe to an interactive table.\"\n",
              "              style=\"display:none;\">\n",
              "        \n",
              "  <svg xmlns=\"http://www.w3.org/2000/svg\" height=\"24px\"viewBox=\"0 0 24 24\"\n",
              "       width=\"24px\">\n",
              "    <path d=\"M0 0h24v24H0V0z\" fill=\"none\"/>\n",
              "    <path d=\"M18.56 5.44l.94 2.06.94-2.06 2.06-.94-2.06-.94-.94-2.06-.94 2.06-2.06.94zm-11 1L8.5 8.5l.94-2.06 2.06-.94-2.06-.94L8.5 2.5l-.94 2.06-2.06.94zm10 10l.94 2.06.94-2.06 2.06-.94-2.06-.94-.94-2.06-.94 2.06-2.06.94z\"/><path d=\"M17.41 7.96l-1.37-1.37c-.4-.4-.92-.59-1.43-.59-.52 0-1.04.2-1.43.59L10.3 9.45l-7.72 7.72c-.78.78-.78 2.05 0 2.83L4 21.41c.39.39.9.59 1.41.59.51 0 1.02-.2 1.41-.59l7.78-7.78 2.81-2.81c.8-.78.8-2.07 0-2.86zM5.41 20L4 18.59l7.72-7.72 1.47 1.35L5.41 20z\"/>\n",
              "  </svg>\n",
              "      </button>\n",
              "      \n",
              "  <style>\n",
              "    .colab-df-container {\n",
              "      display:flex;\n",
              "      flex-wrap:wrap;\n",
              "      gap: 12px;\n",
              "    }\n",
              "\n",
              "    .colab-df-convert {\n",
              "      background-color: #E8F0FE;\n",
              "      border: none;\n",
              "      border-radius: 50%;\n",
              "      cursor: pointer;\n",
              "      display: none;\n",
              "      fill: #1967D2;\n",
              "      height: 32px;\n",
              "      padding: 0 0 0 0;\n",
              "      width: 32px;\n",
              "    }\n",
              "\n",
              "    .colab-df-convert:hover {\n",
              "      background-color: #E2EBFA;\n",
              "      box-shadow: 0px 1px 2px rgba(60, 64, 67, 0.3), 0px 1px 3px 1px rgba(60, 64, 67, 0.15);\n",
              "      fill: #174EA6;\n",
              "    }\n",
              "\n",
              "    [theme=dark] .colab-df-convert {\n",
              "      background-color: #3B4455;\n",
              "      fill: #D2E3FC;\n",
              "    }\n",
              "\n",
              "    [theme=dark] .colab-df-convert:hover {\n",
              "      background-color: #434B5C;\n",
              "      box-shadow: 0px 1px 3px 1px rgba(0, 0, 0, 0.15);\n",
              "      filter: drop-shadow(0px 1px 2px rgba(0, 0, 0, 0.3));\n",
              "      fill: #FFFFFF;\n",
              "    }\n",
              "  </style>\n",
              "\n",
              "      <script>\n",
              "        const buttonEl =\n",
              "          document.querySelector('#df-bc9bf4e0-e1a2-4572-8566-619e69baf8a8 button.colab-df-convert');\n",
              "        buttonEl.style.display =\n",
              "          google.colab.kernel.accessAllowed ? 'block' : 'none';\n",
              "\n",
              "        async function convertToInteractive(key) {\n",
              "          const element = document.querySelector('#df-bc9bf4e0-e1a2-4572-8566-619e69baf8a8');\n",
              "          const dataTable =\n",
              "            await google.colab.kernel.invokeFunction('convertToInteractive',\n",
              "                                                     [key], {});\n",
              "          if (!dataTable) return;\n",
              "\n",
              "          const docLinkHtml = 'Like what you see? Visit the ' +\n",
              "            '<a target=\"_blank\" href=https://colab.research.google.com/notebooks/data_table.ipynb>data table notebook</a>'\n",
              "            + ' to learn more about interactive tables.';\n",
              "          element.innerHTML = '';\n",
              "          dataTable['output_type'] = 'display_data';\n",
              "          await google.colab.output.renderOutput(dataTable, element);\n",
              "          const docLink = document.createElement('div');\n",
              "          docLink.innerHTML = docLinkHtml;\n",
              "          element.appendChild(docLink);\n",
              "        }\n",
              "      </script>\n",
              "    </div>\n",
              "  </div>\n",
              "  "
            ],
            "text/plain": [
              "       PL_NUMBER          PL_AREA  ... CONFIRMATION_YEAR  CONSTRUCTION_TYPE_GROUP\n",
              "0    610-0197038  610-0197038-102  ...              2017                     חדשה\n",
              "2    151-0392894  151-0392894-210  ...              2017                  התחדשות\n",
              "73     תמל/ 1049    תמל/ 1049-123  ...              2019                     חדשה\n",
              "297  553-0198077  553-0198077-201  ...              2017                     חדשה\n",
              "322    תמל/ 1029    תמל/ 1029-215  ...              2018                     חדשה\n",
              "\n",
              "[5 rows x 17 columns]"
            ]
          },
          "metadata": {},
          "execution_count": 6
        }
      ]
    },
    {
      "cell_type": "code",
      "source": [
        "data['PL_NUMBER'].str.contains('תמל').sum()"
      ],
      "metadata": {
        "id": "AdkVmcDY-JYg",
        "outputId": "74e8b19d-ff8c-4aed-97a0-8a51f0d018d9",
        "colab": {
          "base_uri": "https://localhost:8080/"
        }
      },
      "execution_count": 7,
      "outputs": [
        {
          "output_type": "execute_result",
          "data": {
            "text/plain": [
              "60"
            ]
          },
          "metadata": {},
          "execution_count": 7
        }
      ]
    },
    {
      "cell_type": "code",
      "source": [
        "data['IS_TAMAL'] = data['PL_NUMBER'].apply(lambda x: 1 if 'תמל' in x else 0)\n",
        "data['IS_TAMAL'].value_counts()"
      ],
      "metadata": {
        "id": "-3nG8IKs-Wzt",
        "outputId": "f4b58818-9d35-47af-c563-5cc7d90cb202",
        "colab": {
          "base_uri": "https://localhost:8080/"
        }
      },
      "execution_count": 8,
      "outputs": [
        {
          "output_type": "execute_result",
          "data": {
            "text/plain": [
              "0    2522\n",
              "1      60\n",
              "Name: IS_TAMAL, dtype: int64"
            ]
          },
          "metadata": {},
          "execution_count": 8
        }
      ]
    },
    {
      "cell_type": "code",
      "source": [
        "data['LANDUSE'].value_counts()"
      ],
      "metadata": {
        "id": "xEvBQ5894ZiK",
        "colab": {
          "base_uri": "https://localhost:8080/"
        },
        "outputId": "be794ac0-6b5b-409f-9bfb-2606acb2a1dd"
      },
      "execution_count": 9,
      "outputs": [
        {
          "output_type": "execute_result",
          "data": {
            "text/plain": [
              "מגורים                                2444\n",
              "מגורים ומסחר                            66\n",
              "מגורים מסחר ותעסוקה                     36\n",
              "מגורים ומבנים ומוסדות ציבור              6\n",
              "מגורים מסחר ותיירות                      6\n",
              "מגורים מסחר ומבנים ומוסדות ציבור         5\n",
              "מגורים תעסוקה ותיירות                    5\n",
              "מגורים ודיור מיוחד                       3\n",
              "תתתת מגורים ב                            2\n",
              "מגורים מסחר ותחבורה                      2\n",
              "מגורים ותיירות                           2\n",
              "מגורים ומשרדים                           2\n",
              "מגורים ואירוח כפרי                       1\n",
              "מגורים ותחבורה                           1\n",
              "מגורים תיירות ומבנים ומוסדות ציבור       1\n",
              "Name: LANDUSE, dtype: int64"
            ]
          },
          "metadata": {},
          "execution_count": 9
        }
      ]
    },
    {
      "cell_type": "code",
      "source": [
        "data['LANDUSE'] = data['LANDUSE'].mask(data['LANDUSE'] != 'מגורים', 'מגורים משולב')"
      ],
      "metadata": {
        "id": "AkzEvXcm9AZ4"
      },
      "execution_count": 10,
      "outputs": []
    },
    {
      "cell_type": "code",
      "source": [
        "data['LANDUSE'].value_counts()"
      ],
      "metadata": {
        "colab": {
          "base_uri": "https://localhost:8080/"
        },
        "id": "Zo7e6x6g9gHu",
        "outputId": "094b36fb-b231-490f-bf97-36c515f2aaab"
      },
      "execution_count": 11,
      "outputs": [
        {
          "output_type": "execute_result",
          "data": {
            "text/plain": [
              "מגורים          2444\n",
              "מגורים משולב     138\n",
              "Name: LANDUSE, dtype: int64"
            ]
          },
          "metadata": {},
          "execution_count": 11
        }
      ]
    },
    {
      "cell_type": "markdown",
      "source": [
        "Now let's explore the Main & Service columns."
      ],
      "metadata": {
        "id": "QxW-_-1mey70"
      }
    },
    {
      "cell_type": "markdown",
      "source": [
        "The outliers are probably mistakes. let's see the distribution:"
      ],
      "metadata": {
        "id": "k-sgiP2qToMQ"
      }
    },
    {
      "cell_type": "markdown",
      "source": [
        "Those columns ['CELL_SIZE_TOTAL', 'CELL_SIZE_MIN',\n",
        "       'CELL_SIZE_MAX'] describe the cell size."
      ],
      "metadata": {
        "id": "DJf_h9v3h77a"
      }
    },
    {
      "cell_type": "code",
      "source": [
        "data[['CELL_SIZE_TOTAL', 'CELL_SIZE_MIN', 'CELL_SIZE_MAX']].describe()"
      ],
      "metadata": {
        "colab": {
          "base_uri": "https://localhost:8080/",
          "height": 300
        },
        "id": "DgOES3JFnv2n",
        "outputId": "ccb9eed5-3d1c-4142-adbd-25b37daa0107"
      },
      "execution_count": 13,
      "outputs": [
        {
          "output_type": "execute_result",
          "data": {
            "text/html": [
              "\n",
              "  <div id=\"df-60c79c35-3c1b-43bf-b9e3-038ab95fcbe0\">\n",
              "    <div class=\"colab-df-container\">\n",
              "      <div>\n",
              "<style scoped>\n",
              "    .dataframe tbody tr th:only-of-type {\n",
              "        vertical-align: middle;\n",
              "    }\n",
              "\n",
              "    .dataframe tbody tr th {\n",
              "        vertical-align: top;\n",
              "    }\n",
              "\n",
              "    .dataframe thead th {\n",
              "        text-align: right;\n",
              "    }\n",
              "</style>\n",
              "<table border=\"1\" class=\"dataframe\">\n",
              "  <thead>\n",
              "    <tr style=\"text-align: right;\">\n",
              "      <th></th>\n",
              "      <th>CELL_SIZE_TOTAL</th>\n",
              "      <th>CELL_SIZE_MIN</th>\n",
              "      <th>CELL_SIZE_MAX</th>\n",
              "    </tr>\n",
              "  </thead>\n",
              "  <tbody>\n",
              "    <tr>\n",
              "      <th>count</th>\n",
              "      <td>2582.000000</td>\n",
              "      <td>2582.000000</td>\n",
              "      <td>2582.000000</td>\n",
              "    </tr>\n",
              "    <tr>\n",
              "      <th>mean</th>\n",
              "      <td>1090.196193</td>\n",
              "      <td>168.493582</td>\n",
              "      <td>8.830287</td>\n",
              "    </tr>\n",
              "    <tr>\n",
              "      <th>std</th>\n",
              "      <td>2387.854179</td>\n",
              "      <td>954.531702</td>\n",
              "      <td>149.623238</td>\n",
              "    </tr>\n",
              "    <tr>\n",
              "      <th>min</th>\n",
              "      <td>0.000000</td>\n",
              "      <td>0.000000</td>\n",
              "      <td>0.000000</td>\n",
              "    </tr>\n",
              "    <tr>\n",
              "      <th>25%</th>\n",
              "      <td>386.250000</td>\n",
              "      <td>0.000000</td>\n",
              "      <td>0.000000</td>\n",
              "    </tr>\n",
              "    <tr>\n",
              "      <th>50%</th>\n",
              "      <td>659.500000</td>\n",
              "      <td>0.000000</td>\n",
              "      <td>0.000000</td>\n",
              "    </tr>\n",
              "    <tr>\n",
              "      <th>75%</th>\n",
              "      <td>1020.750000</td>\n",
              "      <td>0.000000</td>\n",
              "      <td>0.000000</td>\n",
              "    </tr>\n",
              "    <tr>\n",
              "      <th>max</th>\n",
              "      <td>63924.000000</td>\n",
              "      <td>32000.000000</td>\n",
              "      <td>5690.000000</td>\n",
              "    </tr>\n",
              "  </tbody>\n",
              "</table>\n",
              "</div>\n",
              "      <button class=\"colab-df-convert\" onclick=\"convertToInteractive('df-60c79c35-3c1b-43bf-b9e3-038ab95fcbe0')\"\n",
              "              title=\"Convert this dataframe to an interactive table.\"\n",
              "              style=\"display:none;\">\n",
              "        \n",
              "  <svg xmlns=\"http://www.w3.org/2000/svg\" height=\"24px\"viewBox=\"0 0 24 24\"\n",
              "       width=\"24px\">\n",
              "    <path d=\"M0 0h24v24H0V0z\" fill=\"none\"/>\n",
              "    <path d=\"M18.56 5.44l.94 2.06.94-2.06 2.06-.94-2.06-.94-.94-2.06-.94 2.06-2.06.94zm-11 1L8.5 8.5l.94-2.06 2.06-.94-2.06-.94L8.5 2.5l-.94 2.06-2.06.94zm10 10l.94 2.06.94-2.06 2.06-.94-2.06-.94-.94-2.06-.94 2.06-2.06.94z\"/><path d=\"M17.41 7.96l-1.37-1.37c-.4-.4-.92-.59-1.43-.59-.52 0-1.04.2-1.43.59L10.3 9.45l-7.72 7.72c-.78.78-.78 2.05 0 2.83L4 21.41c.39.39.9.59 1.41.59.51 0 1.02-.2 1.41-.59l7.78-7.78 2.81-2.81c.8-.78.8-2.07 0-2.86zM5.41 20L4 18.59l7.72-7.72 1.47 1.35L5.41 20z\"/>\n",
              "  </svg>\n",
              "      </button>\n",
              "      \n",
              "  <style>\n",
              "    .colab-df-container {\n",
              "      display:flex;\n",
              "      flex-wrap:wrap;\n",
              "      gap: 12px;\n",
              "    }\n",
              "\n",
              "    .colab-df-convert {\n",
              "      background-color: #E8F0FE;\n",
              "      border: none;\n",
              "      border-radius: 50%;\n",
              "      cursor: pointer;\n",
              "      display: none;\n",
              "      fill: #1967D2;\n",
              "      height: 32px;\n",
              "      padding: 0 0 0 0;\n",
              "      width: 32px;\n",
              "    }\n",
              "\n",
              "    .colab-df-convert:hover {\n",
              "      background-color: #E2EBFA;\n",
              "      box-shadow: 0px 1px 2px rgba(60, 64, 67, 0.3), 0px 1px 3px 1px rgba(60, 64, 67, 0.15);\n",
              "      fill: #174EA6;\n",
              "    }\n",
              "\n",
              "    [theme=dark] .colab-df-convert {\n",
              "      background-color: #3B4455;\n",
              "      fill: #D2E3FC;\n",
              "    }\n",
              "\n",
              "    [theme=dark] .colab-df-convert:hover {\n",
              "      background-color: #434B5C;\n",
              "      box-shadow: 0px 1px 3px 1px rgba(0, 0, 0, 0.15);\n",
              "      filter: drop-shadow(0px 1px 2px rgba(0, 0, 0, 0.3));\n",
              "      fill: #FFFFFF;\n",
              "    }\n",
              "  </style>\n",
              "\n",
              "      <script>\n",
              "        const buttonEl =\n",
              "          document.querySelector('#df-60c79c35-3c1b-43bf-b9e3-038ab95fcbe0 button.colab-df-convert');\n",
              "        buttonEl.style.display =\n",
              "          google.colab.kernel.accessAllowed ? 'block' : 'none';\n",
              "\n",
              "        async function convertToInteractive(key) {\n",
              "          const element = document.querySelector('#df-60c79c35-3c1b-43bf-b9e3-038ab95fcbe0');\n",
              "          const dataTable =\n",
              "            await google.colab.kernel.invokeFunction('convertToInteractive',\n",
              "                                                     [key], {});\n",
              "          if (!dataTable) return;\n",
              "\n",
              "          const docLinkHtml = 'Like what you see? Visit the ' +\n",
              "            '<a target=\"_blank\" href=https://colab.research.google.com/notebooks/data_table.ipynb>data table notebook</a>'\n",
              "            + ' to learn more about interactive tables.';\n",
              "          element.innerHTML = '';\n",
              "          dataTable['output_type'] = 'display_data';\n",
              "          await google.colab.output.renderOutput(dataTable, element);\n",
              "          const docLink = document.createElement('div');\n",
              "          docLink.innerHTML = docLinkHtml;\n",
              "          element.appendChild(docLink);\n",
              "        }\n",
              "      </script>\n",
              "    </div>\n",
              "  </div>\n",
              "  "
            ],
            "text/plain": [
              "       CELL_SIZE_TOTAL  CELL_SIZE_MIN  CELL_SIZE_MAX\n",
              "count      2582.000000    2582.000000    2582.000000\n",
              "mean       1090.196193     168.493582       8.830287\n",
              "std        2387.854179     954.531702     149.623238\n",
              "min           0.000000       0.000000       0.000000\n",
              "25%         386.250000       0.000000       0.000000\n",
              "50%         659.500000       0.000000       0.000000\n",
              "75%        1020.750000       0.000000       0.000000\n",
              "max       63924.000000   32000.000000    5690.000000"
            ]
          },
          "metadata": {},
          "execution_count": 13
        }
      ]
    },
    {
      "cell_type": "markdown",
      "source": [
        "HOUSING_UNITS shold not be zero."
      ],
      "metadata": {
        "id": "1GdYTQhC2fHM"
      }
    },
    {
      "cell_type": "code",
      "source": [
        "data['HOUSING_UNITS'].value_counts().sort_index()"
      ],
      "metadata": {
        "colab": {
          "base_uri": "https://localhost:8080/"
        },
        "id": "eQ3ymaTt11t0",
        "outputId": "12ee4cf6-3308-48eb-ea99-8ed16f641060"
      },
      "execution_count": 14,
      "outputs": [
        {
          "output_type": "execute_result",
          "data": {
            "text/plain": [
              "0.0        79\n",
              "1.0       353\n",
              "2.0       225\n",
              "3.0       162\n",
              "4.0       393\n",
              "         ... \n",
              "471.0       1\n",
              "524.0       1\n",
              "564.0       1\n",
              "613.0       1\n",
              "1200.0      1\n",
              "Name: HOUSING_UNITS, Length: 147, dtype: int64"
            ]
          },
          "metadata": {},
          "execution_count": 14
        }
      ]
    },
    {
      "cell_type": "code",
      "source": [
        "data['HOUSING_UNITS'] = data['HOUSING_UNITS'].mask(data['HOUSING_UNITS'] == 0, data['FLOORS_NUM']*2)"
      ],
      "metadata": {
        "id": "s7Zf_lba1h-f"
      },
      "execution_count": 15,
      "outputs": []
    },
    {
      "cell_type": "code",
      "source": [
        "data['HOUSING_UNITS'].value_counts().sort_index()"
      ],
      "metadata": {
        "colab": {
          "base_uri": "https://localhost:8080/"
        },
        "id": "L-eTXlFd2Zzb",
        "outputId": "3a22bc09-a85e-47c4-df65-e28a0f65e770"
      },
      "execution_count": 16,
      "outputs": [
        {
          "output_type": "execute_result",
          "data": {
            "text/plain": [
              "0.0         2\n",
              "1.0       353\n",
              "2.0       227\n",
              "3.0       162\n",
              "4.0       406\n",
              "         ... \n",
              "471.0       1\n",
              "524.0       1\n",
              "564.0       1\n",
              "613.0       1\n",
              "1200.0      1\n",
              "Name: HOUSING_UNITS, Length: 147, dtype: int64"
            ]
          },
          "metadata": {},
          "execution_count": 16
        }
      ]
    },
    {
      "cell_type": "code",
      "source": [
        "data = data[data['HOUSING_UNITS'] > 0]\n",
        "data.shape "
      ],
      "metadata": {
        "colab": {
          "base_uri": "https://localhost:8080/"
        },
        "id": "SYgognPW2uIS",
        "outputId": "6625d11a-1d16-4ab5-dd45-42d9abe0609c"
      },
      "execution_count": 17,
      "outputs": [
        {
          "output_type": "execute_result",
          "data": {
            "text/plain": [
              "(2580, 18)"
            ]
          },
          "metadata": {},
          "execution_count": 17
        }
      ]
    },
    {
      "cell_type": "code",
      "source": [
        "data['BUILDING_HEIGHT'].value_counts()[:11]"
      ],
      "metadata": {
        "colab": {
          "base_uri": "https://localhost:8080/"
        },
        "id": "U24kWYKa3EXa",
        "outputId": "0fe23590-351b-4e3d-f373-560c921c74ea"
      },
      "execution_count": 18,
      "outputs": [
        {
          "output_type": "execute_result",
          "data": {
            "text/plain": [
              "0.00     249\n",
              "12.00    246\n",
              "8.50     178\n",
              "15.00    162\n",
              "9.00     125\n",
              "12.50     67\n",
              "14.00     57\n",
              "12.48     53\n",
              "18.00     50\n",
              "16.00     44\n",
              "10.00     43\n",
              "13.00     43\n",
              "8.00      42\n",
              "9.50      38\n",
              "7.50      38\n",
              "7.00      34\n",
              "15.60     31\n",
              "11.00     31\n",
              "Name: BUILDING_HEIGHT, dtype: int64"
            ]
          },
          "metadata": {},
          "execution_count": 18
        }
      ]
    },
    {
      "cell_type": "markdown",
      "source": [
        "A lot of missing data, BUILDING_HEIGHT should not be zero.<br>\n",
        "I will replace it with the mean of BUILDING_HEIGHT with correct values (greather than 0)."
      ],
      "metadata": {
        "id": "8a30Gn_L3NJJ"
      }
    },
    {
      "cell_type": "code",
      "source": [
        "building_height_avg = round(data[data['BUILDING_HEIGHT'] > 0]['BUILDING_HEIGHT'].mean())\n",
        "building_height_avg"
      ],
      "metadata": {
        "colab": {
          "base_uri": "https://localhost:8080/"
        },
        "id": "NNaUKZeB4CcP",
        "outputId": "5c304245-05da-40ee-c0ea-cbca646e97aa"
      },
      "execution_count": 19,
      "outputs": [
        {
          "output_type": "execute_result",
          "data": {
            "text/plain": [
              "16"
            ]
          },
          "metadata": {},
          "execution_count": 19
        }
      ]
    },
    {
      "cell_type": "code",
      "source": [
        "data['BUILDING_HEIGHT'] = data['BUILDING_HEIGHT'].mask(data['BUILDING_HEIGHT']==0, building_height_avg)\n",
        "data['BUILDING_HEIGHT'].value_counts()"
      ],
      "metadata": {
        "id": "PEH_AfoM4lX_",
        "colab": {
          "base_uri": "https://localhost:8080/"
        },
        "outputId": "2d7db254-a3ab-432b-bd1c-564688df76b6"
      },
      "execution_count": 20,
      "outputs": [
        {
          "output_type": "stream",
          "name": "stderr",
          "text": [
            "/usr/local/lib/python3.7/dist-packages/ipykernel_launcher.py:1: SettingWithCopyWarning: \n",
            "A value is trying to be set on a copy of a slice from a DataFrame.\n",
            "Try using .loc[row_indexer,col_indexer] = value instead\n",
            "\n",
            "See the caveats in the documentation: https://pandas.pydata.org/pandas-docs/stable/user_guide/indexing.html#returning-a-view-versus-a-copy\n",
            "  \"\"\"Entry point for launching an IPython kernel.\n"
          ]
        },
        {
          "output_type": "execute_result",
          "data": {
            "text/plain": [
              "16.00    293\n",
              "12.00    246\n",
              "8.50     178\n",
              "15.00    162\n",
              "9.00     125\n",
              "        ... \n",
              "85.67      1\n",
              "13.03      1\n",
              "23.65      1\n",
              "85.90      1\n",
              "9.24       1\n",
              "Name: BUILDING_HEIGHT, Length: 481, dtype: int64"
            ]
          },
          "metadata": {},
          "execution_count": 20
        }
      ]
    },
    {
      "cell_type": "code",
      "source": [
        "data['SECTOR_GROUP'].value_counts()"
      ],
      "metadata": {
        "colab": {
          "base_uri": "https://localhost:8080/"
        },
        "id": "DR9DccM06qHU",
        "outputId": "2796f9f6-c745-4082-e206-64ab0c39bf5b"
      },
      "execution_count": 21,
      "outputs": [
        {
          "output_type": "execute_result",
          "data": {
            "text/plain": [
              "חברה ערבית             1272\n",
              "חברה כללית / מעורבת    1042\n",
              "חברה חרדית              207\n",
              "(חסר)                    59\n",
              "Name: SECTOR_GROUP, dtype: int64"
            ]
          },
          "metadata": {},
          "execution_count": 21
        }
      ]
    },
    {
      "cell_type": "code",
      "source": [
        "data['SECTOR_GROUP'] = data['SECTOR_GROUP'].mask(data['SECTOR_GROUP'] == '(חסר)', 'חברה כללית / מעורבת')\n",
        "data['SECTOR_GROUP'].value_counts()"
      ],
      "metadata": {
        "colab": {
          "base_uri": "https://localhost:8080/"
        },
        "id": "9KPOl-Ys7Fz6",
        "outputId": "e74d26ea-447e-40f0-f99b-7adb2434205f"
      },
      "execution_count": 22,
      "outputs": [
        {
          "output_type": "stream",
          "name": "stderr",
          "text": [
            "/usr/local/lib/python3.7/dist-packages/ipykernel_launcher.py:1: SettingWithCopyWarning: \n",
            "A value is trying to be set on a copy of a slice from a DataFrame.\n",
            "Try using .loc[row_indexer,col_indexer] = value instead\n",
            "\n",
            "See the caveats in the documentation: https://pandas.pydata.org/pandas-docs/stable/user_guide/indexing.html#returning-a-view-versus-a-copy\n",
            "  \"\"\"Entry point for launching an IPython kernel.\n"
          ]
        },
        {
          "output_type": "execute_result",
          "data": {
            "text/plain": [
              "חברה ערבית             1272\n",
              "חברה כללית / מעורבת    1101\n",
              "חברה חרדית              207\n",
              "Name: SECTOR_GROUP, dtype: int64"
            ]
          },
          "metadata": {},
          "execution_count": 22
        }
      ]
    },
    {
      "cell_type": "markdown",
      "source": [
        "Let's handle null values:"
      ],
      "metadata": {
        "id": "_IZOF0I9qmYE"
      }
    },
    {
      "cell_type": "code",
      "source": [
        "data.isnull().sum()"
      ],
      "metadata": {
        "colab": {
          "base_uri": "https://localhost:8080/"
        },
        "id": "3h4W2P3hqp-T",
        "outputId": "bf52dd58-58f1-4044-9a1f-dad529bd7a91"
      },
      "execution_count": 23,
      "outputs": [
        {
          "output_type": "execute_result",
          "data": {
            "text/plain": [
              "PL_NUMBER                  0\n",
              "PL_AREA                    0\n",
              "LANDUSE                    0\n",
              "MAIN_AREA                  0\n",
              "SERVICE_AREA               0\n",
              "CELL_SIZE_TOTAL            0\n",
              "CELL_SIZE_MIN              0\n",
              "CELL_SIZE_MAX              0\n",
              "HOUSING_UNITS              0\n",
              "BUILDING_HEIGHT            0\n",
              "FLOORS_NUM                 0\n",
              "TOTAL_AREA                 0\n",
              "AUTHORITY                  0\n",
              "DISTRICT                   0\n",
              "SECTOR_GROUP               0\n",
              "CONFIRMATION_YEAR          0\n",
              "CONSTRUCTION_TYPE_GROUP    4\n",
              "IS_TAMAL                   0\n",
              "dtype: int64"
            ]
          },
          "metadata": {},
          "execution_count": 23
        }
      ]
    },
    {
      "cell_type": "code",
      "source": [
        "data['CONSTRUCTION_TYPE_GROUP'].value_counts(dropna=False)"
      ],
      "metadata": {
        "colab": {
          "base_uri": "https://localhost:8080/"
        },
        "id": "tOaDxX9Hrsbo",
        "outputId": "9af38df0-3fd7-44d1-ab2e-0ffd9c65d8fa"
      },
      "execution_count": 24,
      "outputs": [
        {
          "output_type": "execute_result",
          "data": {
            "text/plain": [
              "חדשה       1525\n",
              "התחדשות     921\n",
              "הסדרה       130\n",
              "NaN           4\n",
              "Name: CONSTRUCTION_TYPE_GROUP, dtype: int64"
            ]
          },
          "metadata": {},
          "execution_count": 24
        }
      ]
    },
    {
      "cell_type": "markdown",
      "source": [
        "https://stackoverflow.com/questions/32617811/imputation-of-missing-values-for-categories-in-pandas"
      ],
      "metadata": {
        "id": "uRPV7Wnb-hfq"
      }
    },
    {
      "cell_type": "code",
      "source": [
        "data['CONSTRUCTION_TYPE_GROUP'] = data['CONSTRUCTION_TYPE_GROUP'].fillna(data['CONSTRUCTION_TYPE_GROUP'].mode().iloc[0])\n",
        "data['CONSTRUCTION_TYPE_GROUP'].value_counts(dropna=False)"
      ],
      "metadata": {
        "colab": {
          "base_uri": "https://localhost:8080/"
        },
        "id": "rNJ8yHqor9D3",
        "outputId": "5d402db3-5ab8-4016-c906-739235c9a1ba"
      },
      "execution_count": 25,
      "outputs": [
        {
          "output_type": "execute_result",
          "data": {
            "text/plain": [
              "חדשה       1529\n",
              "התחדשות     921\n",
              "הסדרה       130\n",
              "Name: CONSTRUCTION_TYPE_GROUP, dtype: int64"
            ]
          },
          "metadata": {},
          "execution_count": 25
        }
      ]
    },
    {
      "cell_type": "code",
      "source": [
        "data = data.drop(['PL_NUMBER', 'PL_AREA', 'SERVICE_AREA'], axis=1)"
      ],
      "metadata": {
        "id": "M06mV6re8jkH"
      },
      "execution_count": 26,
      "outputs": []
    },
    {
      "cell_type": "markdown",
      "source": [
        "Now let's get dummies of the categorical columns so we will be able to bulid a model."
      ],
      "metadata": {
        "id": "o2QKX3017lRZ"
      }
    },
    {
      "cell_type": "code",
      "source": [
        "dummies_data = pd.get_dummies(data)\n",
        "print(dummies_data.shape)\n",
        "dummies_data.columns = ['MAIN_AREA', 'CELL_SIZE_TOTAL', 'CELL_SIZE_MIN', 'CELL_SIZE_MAX',\n",
        "       'HOUSING_UNITS', 'BUILDING_HEIGHT', 'FLOORS_NUM', 'TOTAL_AREA',\n",
        "       'CONFIRMATION_YEAR', 'IS_TAMAL', 'LANDUSE_RESIDENCE',\n",
        "       'LANDUSE_RESIDENCE_MIXED', 'AUTHORITY_COUNTRY', 'AUTHORITY_DISTRICT',\n",
        "       'DISTRICT_SOUTH', 'DISTRICT_HAIFA', 'DISTRICT_JERUSALEM', 'DISTRICT_DAN',\n",
        "       'DISTRICT_NORTH', 'DISTRICT_TEL_AVIV', 'SECTOR_REL',\n",
        "       'SECTOR_MIXED', 'SECTOR_ARAB',\n",
        "       'CONSTRUCTION_TYPE_ARRANGING', 'CONSTRUCTION_TYPE_REGENERATION',\n",
        "       'CONSTRUCTION_TYPE_NEW']\n",
        "dummies_data.head()"
      ],
      "metadata": {
        "colab": {
          "base_uri": "https://localhost:8080/",
          "height": 288
        },
        "id": "1rMH_5-a7x3H",
        "outputId": "41a2e0c3-2a57-4540-829b-1e10d82ab2a1"
      },
      "execution_count": 27,
      "outputs": [
        {
          "output_type": "stream",
          "name": "stdout",
          "text": [
            "(2580, 26)\n"
          ]
        },
        {
          "output_type": "execute_result",
          "data": {
            "text/html": [
              "\n",
              "  <div id=\"df-e002b08b-6d4e-41d9-9ee3-002011e43f8e\">\n",
              "    <div class=\"colab-df-container\">\n",
              "      <div>\n",
              "<style scoped>\n",
              "    .dataframe tbody tr th:only-of-type {\n",
              "        vertical-align: middle;\n",
              "    }\n",
              "\n",
              "    .dataframe tbody tr th {\n",
              "        vertical-align: top;\n",
              "    }\n",
              "\n",
              "    .dataframe thead th {\n",
              "        text-align: right;\n",
              "    }\n",
              "</style>\n",
              "<table border=\"1\" class=\"dataframe\">\n",
              "  <thead>\n",
              "    <tr style=\"text-align: right;\">\n",
              "      <th></th>\n",
              "      <th>MAIN_AREA</th>\n",
              "      <th>CELL_SIZE_TOTAL</th>\n",
              "      <th>CELL_SIZE_MIN</th>\n",
              "      <th>CELL_SIZE_MAX</th>\n",
              "      <th>HOUSING_UNITS</th>\n",
              "      <th>BUILDING_HEIGHT</th>\n",
              "      <th>FLOORS_NUM</th>\n",
              "      <th>TOTAL_AREA</th>\n",
              "      <th>CONFIRMATION_YEAR</th>\n",
              "      <th>IS_TAMAL</th>\n",
              "      <th>LANDUSE_RESIDENCE</th>\n",
              "      <th>LANDUSE_RESIDENCE_MIXED</th>\n",
              "      <th>AUTHORITY_COUNTRY</th>\n",
              "      <th>AUTHORITY_DISTRICT</th>\n",
              "      <th>DISTRICT_SOUTH</th>\n",
              "      <th>DISTRICT_HAIFA</th>\n",
              "      <th>DISTRICT_JERUSALEM</th>\n",
              "      <th>DISTRICT_DAN</th>\n",
              "      <th>DISTRICT_NORTH</th>\n",
              "      <th>DISTRICT_TEL_AVIV</th>\n",
              "      <th>SECTOR_REL</th>\n",
              "      <th>SECTOR_MIXED</th>\n",
              "      <th>SECTOR_ARAB</th>\n",
              "      <th>CONSTRUCTION_TYPE_ARRANGING</th>\n",
              "      <th>CONSTRUCTION_TYPE_REGENERATION</th>\n",
              "      <th>CONSTRUCTION_TYPE_NEW</th>\n",
              "    </tr>\n",
              "  </thead>\n",
              "  <tbody>\n",
              "    <tr>\n",
              "      <th>0</th>\n",
              "      <td>975.0</td>\n",
              "      <td>2466.0</td>\n",
              "      <td>0.0</td>\n",
              "      <td>0.0</td>\n",
              "      <td>16.0</td>\n",
              "      <td>11.0</td>\n",
              "      <td>2.0</td>\n",
              "      <td>1275.0</td>\n",
              "      <td>2017</td>\n",
              "      <td>0</td>\n",
              "      <td>1</td>\n",
              "      <td>0</td>\n",
              "      <td>0</td>\n",
              "      <td>1</td>\n",
              "      <td>1</td>\n",
              "      <td>0</td>\n",
              "      <td>0</td>\n",
              "      <td>0</td>\n",
              "      <td>0</td>\n",
              "      <td>0</td>\n",
              "      <td>0</td>\n",
              "      <td>1</td>\n",
              "      <td>0</td>\n",
              "      <td>0</td>\n",
              "      <td>0</td>\n",
              "      <td>1</td>\n",
              "    </tr>\n",
              "    <tr>\n",
              "      <th>2</th>\n",
              "      <td>960.0</td>\n",
              "      <td>2820.0</td>\n",
              "      <td>0.0</td>\n",
              "      <td>0.0</td>\n",
              "      <td>6.0</td>\n",
              "      <td>17.0</td>\n",
              "      <td>4.0</td>\n",
              "      <td>1140.0</td>\n",
              "      <td>2017</td>\n",
              "      <td>0</td>\n",
              "      <td>1</td>\n",
              "      <td>0</td>\n",
              "      <td>0</td>\n",
              "      <td>1</td>\n",
              "      <td>0</td>\n",
              "      <td>0</td>\n",
              "      <td>1</td>\n",
              "      <td>0</td>\n",
              "      <td>0</td>\n",
              "      <td>0</td>\n",
              "      <td>0</td>\n",
              "      <td>1</td>\n",
              "      <td>0</td>\n",
              "      <td>0</td>\n",
              "      <td>1</td>\n",
              "      <td>0</td>\n",
              "    </tr>\n",
              "    <tr>\n",
              "      <th>73</th>\n",
              "      <td>152.0</td>\n",
              "      <td>420.0</td>\n",
              "      <td>0.0</td>\n",
              "      <td>0.0</td>\n",
              "      <td>1.0</td>\n",
              "      <td>16.0</td>\n",
              "      <td>2.0</td>\n",
              "      <td>200.0</td>\n",
              "      <td>2019</td>\n",
              "      <td>1</td>\n",
              "      <td>1</td>\n",
              "      <td>0</td>\n",
              "      <td>1</td>\n",
              "      <td>0</td>\n",
              "      <td>0</td>\n",
              "      <td>0</td>\n",
              "      <td>0</td>\n",
              "      <td>1</td>\n",
              "      <td>0</td>\n",
              "      <td>0</td>\n",
              "      <td>0</td>\n",
              "      <td>1</td>\n",
              "      <td>0</td>\n",
              "      <td>0</td>\n",
              "      <td>0</td>\n",
              "      <td>1</td>\n",
              "    </tr>\n",
              "    <tr>\n",
              "      <th>297</th>\n",
              "      <td>2090.0</td>\n",
              "      <td>1496.0</td>\n",
              "      <td>0.0</td>\n",
              "      <td>0.0</td>\n",
              "      <td>19.0</td>\n",
              "      <td>25.5</td>\n",
              "      <td>6.0</td>\n",
              "      <td>3135.0</td>\n",
              "      <td>2017</td>\n",
              "      <td>0</td>\n",
              "      <td>1</td>\n",
              "      <td>0</td>\n",
              "      <td>0</td>\n",
              "      <td>1</td>\n",
              "      <td>0</td>\n",
              "      <td>0</td>\n",
              "      <td>0</td>\n",
              "      <td>0</td>\n",
              "      <td>0</td>\n",
              "      <td>1</td>\n",
              "      <td>0</td>\n",
              "      <td>1</td>\n",
              "      <td>0</td>\n",
              "      <td>0</td>\n",
              "      <td>0</td>\n",
              "      <td>1</td>\n",
              "    </tr>\n",
              "    <tr>\n",
              "      <th>322</th>\n",
              "      <td>675.0</td>\n",
              "      <td>563.0</td>\n",
              "      <td>0.0</td>\n",
              "      <td>0.0</td>\n",
              "      <td>4.0</td>\n",
              "      <td>21.0</td>\n",
              "      <td>4.0</td>\n",
              "      <td>900.0</td>\n",
              "      <td>2018</td>\n",
              "      <td>1</td>\n",
              "      <td>1</td>\n",
              "      <td>0</td>\n",
              "      <td>1</td>\n",
              "      <td>0</td>\n",
              "      <td>0</td>\n",
              "      <td>0</td>\n",
              "      <td>0</td>\n",
              "      <td>0</td>\n",
              "      <td>1</td>\n",
              "      <td>0</td>\n",
              "      <td>0</td>\n",
              "      <td>0</td>\n",
              "      <td>1</td>\n",
              "      <td>0</td>\n",
              "      <td>0</td>\n",
              "      <td>1</td>\n",
              "    </tr>\n",
              "  </tbody>\n",
              "</table>\n",
              "</div>\n",
              "      <button class=\"colab-df-convert\" onclick=\"convertToInteractive('df-e002b08b-6d4e-41d9-9ee3-002011e43f8e')\"\n",
              "              title=\"Convert this dataframe to an interactive table.\"\n",
              "              style=\"display:none;\">\n",
              "        \n",
              "  <svg xmlns=\"http://www.w3.org/2000/svg\" height=\"24px\"viewBox=\"0 0 24 24\"\n",
              "       width=\"24px\">\n",
              "    <path d=\"M0 0h24v24H0V0z\" fill=\"none\"/>\n",
              "    <path d=\"M18.56 5.44l.94 2.06.94-2.06 2.06-.94-2.06-.94-.94-2.06-.94 2.06-2.06.94zm-11 1L8.5 8.5l.94-2.06 2.06-.94-2.06-.94L8.5 2.5l-.94 2.06-2.06.94zm10 10l.94 2.06.94-2.06 2.06-.94-2.06-.94-.94-2.06-.94 2.06-2.06.94z\"/><path d=\"M17.41 7.96l-1.37-1.37c-.4-.4-.92-.59-1.43-.59-.52 0-1.04.2-1.43.59L10.3 9.45l-7.72 7.72c-.78.78-.78 2.05 0 2.83L4 21.41c.39.39.9.59 1.41.59.51 0 1.02-.2 1.41-.59l7.78-7.78 2.81-2.81c.8-.78.8-2.07 0-2.86zM5.41 20L4 18.59l7.72-7.72 1.47 1.35L5.41 20z\"/>\n",
              "  </svg>\n",
              "      </button>\n",
              "      \n",
              "  <style>\n",
              "    .colab-df-container {\n",
              "      display:flex;\n",
              "      flex-wrap:wrap;\n",
              "      gap: 12px;\n",
              "    }\n",
              "\n",
              "    .colab-df-convert {\n",
              "      background-color: #E8F0FE;\n",
              "      border: none;\n",
              "      border-radius: 50%;\n",
              "      cursor: pointer;\n",
              "      display: none;\n",
              "      fill: #1967D2;\n",
              "      height: 32px;\n",
              "      padding: 0 0 0 0;\n",
              "      width: 32px;\n",
              "    }\n",
              "\n",
              "    .colab-df-convert:hover {\n",
              "      background-color: #E2EBFA;\n",
              "      box-shadow: 0px 1px 2px rgba(60, 64, 67, 0.3), 0px 1px 3px 1px rgba(60, 64, 67, 0.15);\n",
              "      fill: #174EA6;\n",
              "    }\n",
              "\n",
              "    [theme=dark] .colab-df-convert {\n",
              "      background-color: #3B4455;\n",
              "      fill: #D2E3FC;\n",
              "    }\n",
              "\n",
              "    [theme=dark] .colab-df-convert:hover {\n",
              "      background-color: #434B5C;\n",
              "      box-shadow: 0px 1px 3px 1px rgba(0, 0, 0, 0.15);\n",
              "      filter: drop-shadow(0px 1px 2px rgba(0, 0, 0, 0.3));\n",
              "      fill: #FFFFFF;\n",
              "    }\n",
              "  </style>\n",
              "\n",
              "      <script>\n",
              "        const buttonEl =\n",
              "          document.querySelector('#df-e002b08b-6d4e-41d9-9ee3-002011e43f8e button.colab-df-convert');\n",
              "        buttonEl.style.display =\n",
              "          google.colab.kernel.accessAllowed ? 'block' : 'none';\n",
              "\n",
              "        async function convertToInteractive(key) {\n",
              "          const element = document.querySelector('#df-e002b08b-6d4e-41d9-9ee3-002011e43f8e');\n",
              "          const dataTable =\n",
              "            await google.colab.kernel.invokeFunction('convertToInteractive',\n",
              "                                                     [key], {});\n",
              "          if (!dataTable) return;\n",
              "\n",
              "          const docLinkHtml = 'Like what you see? Visit the ' +\n",
              "            '<a target=\"_blank\" href=https://colab.research.google.com/notebooks/data_table.ipynb>data table notebook</a>'\n",
              "            + ' to learn more about interactive tables.';\n",
              "          element.innerHTML = '';\n",
              "          dataTable['output_type'] = 'display_data';\n",
              "          await google.colab.output.renderOutput(dataTable, element);\n",
              "          const docLink = document.createElement('div');\n",
              "          docLink.innerHTML = docLinkHtml;\n",
              "          element.appendChild(docLink);\n",
              "        }\n",
              "      </script>\n",
              "    </div>\n",
              "  </div>\n",
              "  "
            ],
            "text/plain": [
              "     MAIN_AREA  ...  CONSTRUCTION_TYPE_NEW\n",
              "0        975.0  ...                      1\n",
              "2        960.0  ...                      0\n",
              "73       152.0  ...                      1\n",
              "297     2090.0  ...                      1\n",
              "322      675.0  ...                      1\n",
              "\n",
              "[5 rows x 26 columns]"
            ]
          },
          "metadata": {},
          "execution_count": 27
        }
      ]
    },
    {
      "cell_type": "code",
      "source": [
        "corr = dummies_data.corr()\n",
        "print(corr.loc['MAIN_AREA'].sort_values(ascending=False))"
      ],
      "metadata": {
        "colab": {
          "base_uri": "https://localhost:8080/"
        },
        "id": "xkxXs7A8B7m-",
        "outputId": "6abadf1b-073f-40a2-cb48-866cfa6a3fcf"
      },
      "execution_count": 28,
      "outputs": [
        {
          "output_type": "stream",
          "name": "stdout",
          "text": [
            "MAIN_AREA                         1.000000\n",
            "TOTAL_AREA                        0.996335\n",
            "HOUSING_UNITS                     0.834821\n",
            "FLOORS_NUM                        0.658868\n",
            "CELL_SIZE_TOTAL                   0.609265\n",
            "BUILDING_HEIGHT                   0.587021\n",
            "DISTRICT_TEL_AVIV                 0.279853\n",
            "IS_TAMAL                          0.185409\n",
            "AUTHORITY_COUNTRY                 0.185409\n",
            "SECTOR_MIXED                      0.184196\n",
            "CONSTRUCTION_TYPE_REGENERATION    0.096998\n",
            "LANDUSE_RESIDENCE_MIXED           0.083635\n",
            "DISTRICT_DAN                      0.054586\n",
            "CELL_SIZE_MIN                     0.041367\n",
            "DISTRICT_HAIFA                    0.036823\n",
            "CELL_SIZE_MAX                     0.014051\n",
            "DISTRICT_SOUTH                   -0.003237\n",
            "SECTOR_REL                       -0.025171\n",
            "CONFIRMATION_YEAR                -0.032031\n",
            "CONSTRUCTION_TYPE_ARRANGING      -0.045942\n",
            "DISTRICT_JERUSALEM               -0.052744\n",
            "CONSTRUCTION_TYPE_NEW            -0.074129\n",
            "LANDUSE_RESIDENCE                -0.083635\n",
            "DISTRICT_NORTH                   -0.106619\n",
            "SECTOR_ARAB                      -0.168549\n",
            "AUTHORITY_DISTRICT               -0.185409\n",
            "Name: MAIN_AREA, dtype: float64\n"
          ]
        }
      ]
    },
    {
      "cell_type": "code",
      "source": [
        "dummies_data.plot.scatter(x = 'TOTAL_AREA', y = 'MAIN_AREA', s = 100)"
      ],
      "metadata": {
        "id": "iODuZhRtN07N",
        "outputId": "24de9e5a-baaa-4c50-b980-6f6bca68de3a",
        "colab": {
          "base_uri": "https://localhost:8080/",
          "height": 297
        }
      },
      "execution_count": 29,
      "outputs": [
        {
          "output_type": "execute_result",
          "data": {
            "text/plain": [
              "<matplotlib.axes._subplots.AxesSubplot at 0x7f9079574d50>"
            ]
          },
          "metadata": {},
          "execution_count": 29
        },
        {
          "output_type": "display_data",
          "data": {
            "image/png": "[encoded data removed]",
            "text/plain": [
              "<Figure size 432x288 with 1 Axes>"
            ]
          },
          "metadata": {
            "needs_background": "light"
          }
        }
      ]
    },
    {
      "cell_type": "code",
      "source": [
        "dummies_data = dummies_data[dummies_data['TOTAL_AREA'] < 40000]\n",
        "dummies_data.plot.scatter(x = 'TOTAL_AREA', y = 'MAIN_AREA', s = 100)"
      ],
      "metadata": {
        "id": "qhvqz1N_QH0d",
        "outputId": "5cc5932b-9acc-435d-f964-9b1618d9fba9",
        "colab": {
          "base_uri": "https://localhost:8080/",
          "height": 298
        }
      },
      "execution_count": 106,
      "outputs": [
        {
          "output_type": "execute_result",
          "data": {
            "text/plain": [
              "<matplotlib.axes._subplots.AxesSubplot at 0x7f906ee7aad0>"
            ]
          },
          "metadata": {},
          "execution_count": 106
        },
        {
          "output_type": "display_data",
          "data": {
            "image/png": "[encoded data removed]",
            "text/plain": [
              "<Figure size 432x288 with 1 Axes>"
            ]
          },
          "metadata": {
            "needs_background": "light"
          }
        }
      ]
    },
    {
      "cell_type": "code",
      "source": [
        "feature_cols = ['TOTAL_AREA'] #['TOTAL_AREA', 'FLOORS_NUM', 'BUILDING_HEIGHT', 'CELL_SIZE_TOTAL', 'HOUSING_UNITS'] "
      ],
      "metadata": {
        "id": "71TV2zFK-6kZ"
      },
      "execution_count": 107,
      "outputs": []
    },
    {
      "cell_type": "code",
      "source": [
        "X = dummies_data[feature_cols]\n",
        "y = dummies_data['MAIN_AREA']"
      ],
      "metadata": {
        "id": "67cKKj2pCGY3"
      },
      "execution_count": 108,
      "outputs": []
    },
    {
      "cell_type": "code",
      "source": [
        "# from sklearn.preprocessing import MinMaxScaler\n",
        "# scaler = MinMaxScaler()\n",
        "# # transform data\n",
        "# X_scaled = scaler.fit_transform(X)"
      ],
      "metadata": {
        "id": "DeMC-_ADarFh"
      },
      "execution_count": 109,
      "outputs": []
    },
    {
      "cell_type": "code",
      "source": [
        "from sklearn.model_selection import train_test_split\n",
        "X_train, X_test, y_train, y_test = train_test_split(X, y, test_size=0.33, random_state=42)"
      ],
      "metadata": {
        "id": "8GA9CRZ7_kdI"
      },
      "execution_count": 110,
      "outputs": []
    },
    {
      "cell_type": "code",
      "source": [
        "from sklearn.neighbors import KNeighborsRegressor\n",
        "from sklearn.model_selection import GridSearchCV\n",
        "# find best n_neighbors\n",
        "\n",
        "params = {'n_neighbors':[3,5,7,9,11,13,15,17,19,21,23,25], 'weights':['uniform', 'distance']}\n",
        "\n",
        "knn = KNeighborsRegressor()\n",
        "\n",
        "model = GridSearchCV(knn, params, cv=5)\n",
        "model.fit(X_train, y_train)\n",
        "model.best_params_"
      ],
      "metadata": {
        "colab": {
          "base_uri": "https://localhost:8080/"
        },
        "id": "ikVvMEVWwDni",
        "outputId": "0c8ac5f8-0cd5-4e44-e872-da74574dba73"
      },
      "execution_count": 111,
      "outputs": [
        {
          "output_type": "execute_result",
          "data": {
            "text/plain": [
              "{'n_neighbors': 15, 'weights': 'distance'}"
            ]
          },
          "metadata": {},
          "execution_count": 111
        }
      ]
    },
    {
      "cell_type": "code",
      "source": [
        "neigh = KNeighborsRegressor(n_neighbors=15, weights='distance')\n",
        "neigh.fit(X_train, y_train)"
      ],
      "metadata": {
        "colab": {
          "base_uri": "https://localhost:8080/"
        },
        "id": "f2VmHj0E-2qV",
        "outputId": "7c9098b1-3ff3-467f-94be-5adc26a8d596"
      },
      "execution_count": 112,
      "outputs": [
        {
          "output_type": "execute_result",
          "data": {
            "text/plain": [
              "KNeighborsRegressor(n_neighbors=15, weights='distance')"
            ]
          },
          "metadata": {},
          "execution_count": 112
        }
      ]
    },
    {
      "cell_type": "code",
      "source": [
        "y_pred = neigh.predict(X_test)"
      ],
      "metadata": {
        "id": "QCoWGi5q_3mx"
      },
      "execution_count": 113,
      "outputs": []
    },
    {
      "cell_type": "code",
      "source": [
        "from sklearn.metrics import mean_absolute_error\n",
        "from sklearn.metrics import mean_squared_error\n",
        "from sklearn.metrics import r2_score\n",
        "mae = mean_absolute_error(y_test, y_pred)\n",
        "print(\"MAE:\", mae)\n",
        "mse = mean_squared_error(y_test, y_pred)\n",
        "print(\"MSE:\", mse)\n",
        "rmse = mean_squared_error(y_test, y_pred, squared=False)\n",
        "print(\"RMSE:\", rmse)\n",
        "rsquared = r2_score(y_test, y_pred)\n",
        "print(\"R Squared:\", rsquared)"
      ],
      "metadata": {
        "colab": {
          "base_uri": "https://localhost:8080/"
        },
        "id": "TO25yFhSBh_t",
        "outputId": "cfc01648-3b29-4221-dc04-7f407f29396c"
      },
      "execution_count": 114,
      "outputs": [
        {
          "output_type": "stream",
          "name": "stdout",
          "text": [
            "MAE: 149.55219208940753\n",
            "MSE: 122649.60587307863\n",
            "RMSE: 350.2136574622392\n",
            "R Squared: 0.9869479362725436\n"
          ]
        }
      ]
    },
    {
      "cell_type": "markdown",
      "source": [
        "https://stackoverflow.com/questions/40729162/merging-results-from-model-predict-with-original-pandas-dataframe"
      ],
      "metadata": {
        "id": "fNCjUjFnC6Qb"
      }
    },
    {
      "cell_type": "code",
      "source": [
        "result_df = pd.DataFrame(y_test)\n",
        "result_df['y_pred'] = y_pred\n",
        "result_df.T"
      ],
      "metadata": {
        "colab": {
          "base_uri": "https://localhost:8080/",
          "height": 205
        },
        "id": "gUWzWBOhCpm8",
        "outputId": "bbaf1d9a-6965-454a-e229-8e60071df3b8"
      },
      "execution_count": 115,
      "outputs": [
        {
          "output_type": "execute_result",
          "data": {
            "text/html": [
              "\n",
              "  <div id=\"df-b78c2b26-50c9-40ba-b57c-0edd1d601995\">\n",
              "    <div class=\"colab-df-container\">\n",
              "      <div>\n",
              "<style scoped>\n",
              "    .dataframe tbody tr th:only-of-type {\n",
              "        vertical-align: middle;\n",
              "    }\n",
              "\n",
              "    .dataframe tbody tr th {\n",
              "        vertical-align: top;\n",
              "    }\n",
              "\n",
              "    .dataframe thead th {\n",
              "        text-align: right;\n",
              "    }\n",
              "</style>\n",
              "<table border=\"1\" class=\"dataframe\">\n",
              "  <thead>\n",
              "    <tr style=\"text-align: right;\">\n",
              "      <th></th>\n",
              "      <th>12677</th>\n",
              "      <th>12077</th>\n",
              "      <th>9296</th>\n",
              "      <th>12692</th>\n",
              "      <th>11043</th>\n",
              "      <th>11294</th>\n",
              "      <th>4786</th>\n",
              "      <th>12721</th>\n",
              "      <th>13301</th>\n",
              "      <th>13706</th>\n",
              "      <th>13520</th>\n",
              "      <th>11454</th>\n",
              "      <th>13277</th>\n",
              "      <th>11477</th>\n",
              "      <th>12713</th>\n",
              "      <th>11744</th>\n",
              "      <th>12436</th>\n",
              "      <th>9948</th>\n",
              "      <th>12602</th>\n",
              "      <th>12761</th>\n",
              "      <th>11879</th>\n",
              "      <th>11035</th>\n",
              "      <th>11689</th>\n",
              "      <th>12026</th>\n",
              "      <th>11543</th>\n",
              "      <th>13284</th>\n",
              "      <th>1571</th>\n",
              "      <th>1417</th>\n",
              "      <th>12638</th>\n",
              "      <th>13610</th>\n",
              "      <th>13529</th>\n",
              "      <th>13421</th>\n",
              "      <th>9043</th>\n",
              "      <th>11005</th>\n",
              "      <th>13542</th>\n",
              "      <th>11614</th>\n",
              "      <th>13003</th>\n",
              "      <th>13530</th>\n",
              "      <th>1336</th>\n",
              "      <th>13493</th>\n",
              "      <th>...</th>\n",
              "      <th>11663</th>\n",
              "      <th>12196</th>\n",
              "      <th>13598</th>\n",
              "      <th>12073</th>\n",
              "      <th>6517</th>\n",
              "      <th>12045</th>\n",
              "      <th>12778</th>\n",
              "      <th>11412</th>\n",
              "      <th>11698</th>\n",
              "      <th>13554</th>\n",
              "      <th>11958</th>\n",
              "      <th>5172</th>\n",
              "      <th>11776</th>\n",
              "      <th>13345</th>\n",
              "      <th>11804</th>\n",
              "      <th>7057</th>\n",
              "      <th>4577</th>\n",
              "      <th>5879</th>\n",
              "      <th>12161</th>\n",
              "      <th>12000</th>\n",
              "      <th>441</th>\n",
              "      <th>12999</th>\n",
              "      <th>5415</th>\n",
              "      <th>5385</th>\n",
              "      <th>7488</th>\n",
              "      <th>1830</th>\n",
              "      <th>12604</th>\n",
              "      <th>1947</th>\n",
              "      <th>13397</th>\n",
              "      <th>13260</th>\n",
              "      <th>12757</th>\n",
              "      <th>12364</th>\n",
              "      <th>13461</th>\n",
              "      <th>12237</th>\n",
              "      <th>1905</th>\n",
              "      <th>11832</th>\n",
              "      <th>11257</th>\n",
              "      <th>13201</th>\n",
              "      <th>12691</th>\n",
              "      <th>13536</th>\n",
              "    </tr>\n",
              "  </thead>\n",
              "  <tbody>\n",
              "    <tr>\n",
              "      <th>MAIN_AREA</th>\n",
              "      <td>1580.000000</td>\n",
              "      <td>275.000000</td>\n",
              "      <td>200.000000</td>\n",
              "      <td>952.0</td>\n",
              "      <td>355.0</td>\n",
              "      <td>75.000000</td>\n",
              "      <td>809.050000</td>\n",
              "      <td>720.0</td>\n",
              "      <td>203.010000</td>\n",
              "      <td>1211.750000</td>\n",
              "      <td>200.00</td>\n",
              "      <td>130.0</td>\n",
              "      <td>596.500000</td>\n",
              "      <td>250.0</td>\n",
              "      <td>396.000000</td>\n",
              "      <td>850.000000</td>\n",
              "      <td>3000.0</td>\n",
              "      <td>640.000000</td>\n",
              "      <td>480.000000</td>\n",
              "      <td>220.0</td>\n",
              "      <td>4352.000000</td>\n",
              "      <td>2460.000000</td>\n",
              "      <td>916.000000</td>\n",
              "      <td>262.0</td>\n",
              "      <td>5130.000000</td>\n",
              "      <td>701.4</td>\n",
              "      <td>123.600000</td>\n",
              "      <td>859.0</td>\n",
              "      <td>350.0</td>\n",
              "      <td>1107.000000</td>\n",
              "      <td>776.000000</td>\n",
              "      <td>472.500000</td>\n",
              "      <td>761.000000</td>\n",
              "      <td>467.28</td>\n",
              "      <td>450.000000</td>\n",
              "      <td>360.0</td>\n",
              "      <td>790.000000</td>\n",
              "      <td>1190.000000</td>\n",
              "      <td>860.000000</td>\n",
              "      <td>1061.000000</td>\n",
              "      <td>...</td>\n",
              "      <td>2336.000000</td>\n",
              "      <td>700.0</td>\n",
              "      <td>750.0</td>\n",
              "      <td>893.000000</td>\n",
              "      <td>90.000000</td>\n",
              "      <td>180.0</td>\n",
              "      <td>1548.030000</td>\n",
              "      <td>1344.000000</td>\n",
              "      <td>875.0</td>\n",
              "      <td>192.0</td>\n",
              "      <td>1903.000000</td>\n",
              "      <td>160.000000</td>\n",
              "      <td>568.000000</td>\n",
              "      <td>730.300000</td>\n",
              "      <td>1525.000000</td>\n",
              "      <td>670.0</td>\n",
              "      <td>1281.000000</td>\n",
              "      <td>870.000000</td>\n",
              "      <td>557.000000</td>\n",
              "      <td>490.0</td>\n",
              "      <td>3476.000000</td>\n",
              "      <td>383.000000</td>\n",
              "      <td>720.0</td>\n",
              "      <td>11875.000000</td>\n",
              "      <td>840.000000</td>\n",
              "      <td>240.0</td>\n",
              "      <td>283.0</td>\n",
              "      <td>360.000</td>\n",
              "      <td>533.000000</td>\n",
              "      <td>7125.000000</td>\n",
              "      <td>990.000000</td>\n",
              "      <td>890.000000</td>\n",
              "      <td>570.000000</td>\n",
              "      <td>399.000000</td>\n",
              "      <td>457.0</td>\n",
              "      <td>19100.000000</td>\n",
              "      <td>475.00000</td>\n",
              "      <td>868.220000</td>\n",
              "      <td>890.500000</td>\n",
              "      <td>270.0</td>\n",
              "    </tr>\n",
              "    <tr>\n",
              "      <th>y_pred</th>\n",
              "      <td>1638.283819</td>\n",
              "      <td>265.571429</td>\n",
              "      <td>199.369458</td>\n",
              "      <td>1010.0</td>\n",
              "      <td>285.0</td>\n",
              "      <td>89.357078</td>\n",
              "      <td>884.105023</td>\n",
              "      <td>751.8</td>\n",
              "      <td>175.316243</td>\n",
              "      <td>1274.213701</td>\n",
              "      <td>205.25</td>\n",
              "      <td>156.0</td>\n",
              "      <td>543.543257</td>\n",
              "      <td>246.8</td>\n",
              "      <td>375.333333</td>\n",
              "      <td>887.733333</td>\n",
              "      <td>2915.0</td>\n",
              "      <td>692.888889</td>\n",
              "      <td>499.666667</td>\n",
              "      <td>212.0</td>\n",
              "      <td>4883.968123</td>\n",
              "      <td>3294.030025</td>\n",
              "      <td>905.145878</td>\n",
              "      <td>283.0</td>\n",
              "      <td>4859.952531</td>\n",
              "      <td>698.5</td>\n",
              "      <td>136.933501</td>\n",
              "      <td>849.0</td>\n",
              "      <td>345.0</td>\n",
              "      <td>1301.849829</td>\n",
              "      <td>696.351513</td>\n",
              "      <td>402.902643</td>\n",
              "      <td>760.127899</td>\n",
              "      <td>496.10</td>\n",
              "      <td>562.918352</td>\n",
              "      <td>385.0</td>\n",
              "      <td>771.772311</td>\n",
              "      <td>1414.844986</td>\n",
              "      <td>887.733333</td>\n",
              "      <td>1031.684546</td>\n",
              "      <td>...</td>\n",
              "      <td>2035.183312</td>\n",
              "      <td>556.0</td>\n",
              "      <td>800.0</td>\n",
              "      <td>914.258038</td>\n",
              "      <td>134.375517</td>\n",
              "      <td>180.0</td>\n",
              "      <td>1653.837073</td>\n",
              "      <td>1516.477383</td>\n",
              "      <td>777.5</td>\n",
              "      <td>221.0</td>\n",
              "      <td>2371.374929</td>\n",
              "      <td>159.121672</td>\n",
              "      <td>538.666667</td>\n",
              "      <td>903.523062</td>\n",
              "      <td>1730.711936</td>\n",
              "      <td>757.0</td>\n",
              "      <td>1274.275641</td>\n",
              "      <td>938.940979</td>\n",
              "      <td>597.074009</td>\n",
              "      <td>512.0</td>\n",
              "      <td>4553.319911</td>\n",
              "      <td>357.516111</td>\n",
              "      <td>970.0</td>\n",
              "      <td>11932.468314</td>\n",
              "      <td>810.666667</td>\n",
              "      <td>246.8</td>\n",
              "      <td>246.8</td>\n",
              "      <td>334.375</td>\n",
              "      <td>466.772306</td>\n",
              "      <td>5114.103058</td>\n",
              "      <td>983.119223</td>\n",
              "      <td>1146.591923</td>\n",
              "      <td>569.727273</td>\n",
              "      <td>385.037437</td>\n",
              "      <td>468.5</td>\n",
              "      <td>18830.085928</td>\n",
              "      <td>463.88894</td>\n",
              "      <td>755.947408</td>\n",
              "      <td>828.984346</td>\n",
              "      <td>325.0</td>\n",
              "    </tr>\n",
              "  </tbody>\n",
              "</table>\n",
              "<p>2 rows × 850 columns</p>\n",
              "</div>\n",
              "      <button class=\"colab-df-convert\" onclick=\"convertToInteractive('df-b78c2b26-50c9-40ba-b57c-0edd1d601995')\"\n",
              "              title=\"Convert this dataframe to an interactive table.\"\n",
              "              style=\"display:none;\">\n",
              "        \n",
              "  <svg xmlns=\"http://www.w3.org/2000/svg\" height=\"24px\"viewBox=\"0 0 24 24\"\n",
              "       width=\"24px\">\n",
              "    <path d=\"M0 0h24v24H0V0z\" fill=\"none\"/>\n",
              "    <path d=\"M18.56 5.44l.94 2.06.94-2.06 2.06-.94-2.06-.94-.94-2.06-.94 2.06-2.06.94zm-11 1L8.5 8.5l.94-2.06 2.06-.94-2.06-.94L8.5 2.5l-.94 2.06-2.06.94zm10 10l.94 2.06.94-2.06 2.06-.94-2.06-.94-.94-2.06-.94 2.06-2.06.94z\"/><path d=\"M17.41 7.96l-1.37-1.37c-.4-.4-.92-.59-1.43-.59-.52 0-1.04.2-1.43.59L10.3 9.45l-7.72 7.72c-.78.78-.78 2.05 0 2.83L4 21.41c.39.39.9.59 1.41.59.51 0 1.02-.2 1.41-.59l7.78-7.78 2.81-2.81c.8-.78.8-2.07 0-2.86zM5.41 20L4 18.59l7.72-7.72 1.47 1.35L5.41 20z\"/>\n",
              "  </svg>\n",
              "      </button>\n",
              "      \n",
              "  <style>\n",
              "    .colab-df-container {\n",
              "      display:flex;\n",
              "      flex-wrap:wrap;\n",
              "      gap: 12px;\n",
              "    }\n",
              "\n",
              "    .colab-df-convert {\n",
              "      background-color: #E8F0FE;\n",
              "      border: none;\n",
              "      border-radius: 50%;\n",
              "      cursor: pointer;\n",
              "      display: none;\n",
              "      fill: #1967D2;\n",
              "      height: 32px;\n",
              "      padding: 0 0 0 0;\n",
              "      width: 32px;\n",
              "    }\n",
              "\n",
              "    .colab-df-convert:hover {\n",
              "      background-color: #E2EBFA;\n",
              "      box-shadow: 0px 1px 2px rgba(60, 64, 67, 0.3), 0px 1px 3px 1px rgba(60, 64, 67, 0.15);\n",
              "      fill: #174EA6;\n",
              "    }\n",
              "\n",
              "    [theme=dark] .colab-df-convert {\n",
              "      background-color: #3B4455;\n",
              "      fill: #D2E3FC;\n",
              "    }\n",
              "\n",
              "    [theme=dark] .colab-df-convert:hover {\n",
              "      background-color: #434B5C;\n",
              "      box-shadow: 0px 1px 3px 1px rgba(0, 0, 0, 0.15);\n",
              "      filter: drop-shadow(0px 1px 2px rgba(0, 0, 0, 0.3));\n",
              "      fill: #FFFFFF;\n",
              "    }\n",
              "  </style>\n",
              "\n",
              "      <script>\n",
              "        const buttonEl =\n",
              "          document.querySelector('#df-b78c2b26-50c9-40ba-b57c-0edd1d601995 button.colab-df-convert');\n",
              "        buttonEl.style.display =\n",
              "          google.colab.kernel.accessAllowed ? 'block' : 'none';\n",
              "\n",
              "        async function convertToInteractive(key) {\n",
              "          const element = document.querySelector('#df-b78c2b26-50c9-40ba-b57c-0edd1d601995');\n",
              "          const dataTable =\n",
              "            await google.colab.kernel.invokeFunction('convertToInteractive',\n",
              "                                                     [key], {});\n",
              "          if (!dataTable) return;\n",
              "\n",
              "          const docLinkHtml = 'Like what you see? Visit the ' +\n",
              "            '<a target=\"_blank\" href=https://colab.research.google.com/notebooks/data_table.ipynb>data table notebook</a>'\n",
              "            + ' to learn more about interactive tables.';\n",
              "          element.innerHTML = '';\n",
              "          dataTable['output_type'] = 'display_data';\n",
              "          await google.colab.output.renderOutput(dataTable, element);\n",
              "          const docLink = document.createElement('div');\n",
              "          docLink.innerHTML = docLinkHtml;\n",
              "          element.appendChild(docLink);\n",
              "        }\n",
              "      </script>\n",
              "    </div>\n",
              "  </div>\n",
              "  "
            ],
            "text/plain": [
              "                 12677       12077       9296   ...       13201       12691  13536\n",
              "MAIN_AREA  1580.000000  275.000000  200.000000  ...  868.220000  890.500000  270.0\n",
              "y_pred     1638.283819  265.571429  199.369458  ...  755.947408  828.984346  325.0\n",
              "\n",
              "[2 rows x 850 columns]"
            ]
          },
          "metadata": {},
          "execution_count": 115
        }
      ]
    },
    {
      "cell_type": "code",
      "source": [
        "all_data_with_predictions = pd.merge(data, result_df, left_index=True, right_index=True)\n",
        "all_data_with_predictions.head()"
      ],
      "metadata": {
        "id": "OBX3otNQGoQ9",
        "colab": {
          "base_uri": "https://localhost:8080/",
          "height": 322
        },
        "outputId": "5a9d076b-8ac3-457a-a5a2-f4fe2275f474"
      },
      "execution_count": 116,
      "outputs": [
        {
          "output_type": "execute_result",
          "data": {
            "text/html": [
              "\n",
              "  <div id=\"df-245f9889-236a-43ca-a235-7f57024e37ca\">\n",
              "    <div class=\"colab-df-container\">\n",
              "      <div>\n",
              "<style scoped>\n",
              "    .dataframe tbody tr th:only-of-type {\n",
              "        vertical-align: middle;\n",
              "    }\n",
              "\n",
              "    .dataframe tbody tr th {\n",
              "        vertical-align: top;\n",
              "    }\n",
              "\n",
              "    .dataframe thead th {\n",
              "        text-align: right;\n",
              "    }\n",
              "</style>\n",
              "<table border=\"1\" class=\"dataframe\">\n",
              "  <thead>\n",
              "    <tr style=\"text-align: right;\">\n",
              "      <th></th>\n",
              "      <th>LANDUSE</th>\n",
              "      <th>MAIN_AREA_x</th>\n",
              "      <th>CELL_SIZE_TOTAL</th>\n",
              "      <th>CELL_SIZE_MIN</th>\n",
              "      <th>CELL_SIZE_MAX</th>\n",
              "      <th>HOUSING_UNITS</th>\n",
              "      <th>BUILDING_HEIGHT</th>\n",
              "      <th>FLOORS_NUM</th>\n",
              "      <th>TOTAL_AREA</th>\n",
              "      <th>AUTHORITY</th>\n",
              "      <th>DISTRICT</th>\n",
              "      <th>SECTOR_GROUP</th>\n",
              "      <th>CONFIRMATION_YEAR</th>\n",
              "      <th>CONSTRUCTION_TYPE_GROUP</th>\n",
              "      <th>IS_TAMAL</th>\n",
              "      <th>MAIN_AREA_y</th>\n",
              "      <th>y_pred</th>\n",
              "    </tr>\n",
              "  </thead>\n",
              "  <tbody>\n",
              "    <tr>\n",
              "      <th>441</th>\n",
              "      <td>מגורים</td>\n",
              "      <td>3476.0</td>\n",
              "      <td>3650.00</td>\n",
              "      <td>0.0</td>\n",
              "      <td>0.0</td>\n",
              "      <td>38.0</td>\n",
              "      <td>18.0</td>\n",
              "      <td>5.0</td>\n",
              "      <td>5670.0</td>\n",
              "      <td>מחוזית</td>\n",
              "      <td>חיפה</td>\n",
              "      <td>חברה כללית / מעורבת</td>\n",
              "      <td>2017</td>\n",
              "      <td>התחדשות</td>\n",
              "      <td>0</td>\n",
              "      <td>3476.0</td>\n",
              "      <td>4553.319911</td>\n",
              "    </tr>\n",
              "    <tr>\n",
              "      <th>715</th>\n",
              "      <td>מגורים</td>\n",
              "      <td>948.0</td>\n",
              "      <td>1028.00</td>\n",
              "      <td>0.0</td>\n",
              "      <td>0.0</td>\n",
              "      <td>4.0</td>\n",
              "      <td>10.5</td>\n",
              "      <td>2.0</td>\n",
              "      <td>1028.0</td>\n",
              "      <td>מחוזית</td>\n",
              "      <td>דרום</td>\n",
              "      <td>חברה ערבית</td>\n",
              "      <td>2018</td>\n",
              "      <td>חדשה</td>\n",
              "      <td>0</td>\n",
              "      <td>948.0</td>\n",
              "      <td>859.046203</td>\n",
              "    </tr>\n",
              "    <tr>\n",
              "      <th>806</th>\n",
              "      <td>מגורים</td>\n",
              "      <td>1605.0</td>\n",
              "      <td>749.00</td>\n",
              "      <td>0.0</td>\n",
              "      <td>0.0</td>\n",
              "      <td>18.0</td>\n",
              "      <td>18.7</td>\n",
              "      <td>6.0</td>\n",
              "      <td>1866.0</td>\n",
              "      <td>מחוזית</td>\n",
              "      <td>ירושלים</td>\n",
              "      <td>חברה ערבית</td>\n",
              "      <td>2017</td>\n",
              "      <td>התחדשות</td>\n",
              "      <td>0</td>\n",
              "      <td>1605.0</td>\n",
              "      <td>1491.692307</td>\n",
              "    </tr>\n",
              "    <tr>\n",
              "      <th>996</th>\n",
              "      <td>מגורים</td>\n",
              "      <td>310.0</td>\n",
              "      <td>999.94</td>\n",
              "      <td>0.0</td>\n",
              "      <td>0.0</td>\n",
              "      <td>1.0</td>\n",
              "      <td>7.0</td>\n",
              "      <td>2.0</td>\n",
              "      <td>370.0</td>\n",
              "      <td>מחוזית</td>\n",
              "      <td>מרכז</td>\n",
              "      <td>חברה כללית / מעורבת</td>\n",
              "      <td>2019</td>\n",
              "      <td>חדשה</td>\n",
              "      <td>0</td>\n",
              "      <td>310.0</td>\n",
              "      <td>270.000000</td>\n",
              "    </tr>\n",
              "    <tr>\n",
              "      <th>1061</th>\n",
              "      <td>מגורים</td>\n",
              "      <td>310.0</td>\n",
              "      <td>600.00</td>\n",
              "      <td>0.0</td>\n",
              "      <td>0.0</td>\n",
              "      <td>2.0</td>\n",
              "      <td>8.0</td>\n",
              "      <td>2.0</td>\n",
              "      <td>400.0</td>\n",
              "      <td>מחוזית</td>\n",
              "      <td>צפון</td>\n",
              "      <td>חברה כללית / מעורבת</td>\n",
              "      <td>2017</td>\n",
              "      <td>חדשה</td>\n",
              "      <td>0</td>\n",
              "      <td>310.0</td>\n",
              "      <td>309.714286</td>\n",
              "    </tr>\n",
              "  </tbody>\n",
              "</table>\n",
              "</div>\n",
              "      <button class=\"colab-df-convert\" onclick=\"convertToInteractive('df-245f9889-236a-43ca-a235-7f57024e37ca')\"\n",
              "              title=\"Convert this dataframe to an interactive table.\"\n",
              "              style=\"display:none;\">\n",
              "        \n",
              "  <svg xmlns=\"http://www.w3.org/2000/svg\" height=\"24px\"viewBox=\"0 0 24 24\"\n",
              "       width=\"24px\">\n",
              "    <path d=\"M0 0h24v24H0V0z\" fill=\"none\"/>\n",
              "    <path d=\"M18.56 5.44l.94 2.06.94-2.06 2.06-.94-2.06-.94-.94-2.06-.94 2.06-2.06.94zm-11 1L8.5 8.5l.94-2.06 2.06-.94-2.06-.94L8.5 2.5l-.94 2.06-2.06.94zm10 10l.94 2.06.94-2.06 2.06-.94-2.06-.94-.94-2.06-.94 2.06-2.06.94z\"/><path d=\"M17.41 7.96l-1.37-1.37c-.4-.4-.92-.59-1.43-.59-.52 0-1.04.2-1.43.59L10.3 9.45l-7.72 7.72c-.78.78-.78 2.05 0 2.83L4 21.41c.39.39.9.59 1.41.59.51 0 1.02-.2 1.41-.59l7.78-7.78 2.81-2.81c.8-.78.8-2.07 0-2.86zM5.41 20L4 18.59l7.72-7.72 1.47 1.35L5.41 20z\"/>\n",
              "  </svg>\n",
              "      </button>\n",
              "      \n",
              "  <style>\n",
              "    .colab-df-container {\n",
              "      display:flex;\n",
              "      flex-wrap:wrap;\n",
              "      gap: 12px;\n",
              "    }\n",
              "\n",
              "    .colab-df-convert {\n",
              "      background-color: #E8F0FE;\n",
              "      border: none;\n",
              "      border-radius: 50%;\n",
              "      cursor: pointer;\n",
              "      display: none;\n",
              "      fill: #1967D2;\n",
              "      height: 32px;\n",
              "      padding: 0 0 0 0;\n",
              "      width: 32px;\n",
              "    }\n",
              "\n",
              "    .colab-df-convert:hover {\n",
              "      background-color: #E2EBFA;\n",
              "      box-shadow: 0px 1px 2px rgba(60, 64, 67, 0.3), 0px 1px 3px 1px rgba(60, 64, 67, 0.15);\n",
              "      fill: #174EA6;\n",
              "    }\n",
              "\n",
              "    [theme=dark] .colab-df-convert {\n",
              "      background-color: #3B4455;\n",
              "      fill: #D2E3FC;\n",
              "    }\n",
              "\n",
              "    [theme=dark] .colab-df-convert:hover {\n",
              "      background-color: #434B5C;\n",
              "      box-shadow: 0px 1px 3px 1px rgba(0, 0, 0, 0.15);\n",
              "      filter: drop-shadow(0px 1px 2px rgba(0, 0, 0, 0.3));\n",
              "      fill: #FFFFFF;\n",
              "    }\n",
              "  </style>\n",
              "\n",
              "      <script>\n",
              "        const buttonEl =\n",
              "          document.querySelector('#df-245f9889-236a-43ca-a235-7f57024e37ca button.colab-df-convert');\n",
              "        buttonEl.style.display =\n",
              "          google.colab.kernel.accessAllowed ? 'block' : 'none';\n",
              "\n",
              "        async function convertToInteractive(key) {\n",
              "          const element = document.querySelector('#df-245f9889-236a-43ca-a235-7f57024e37ca');\n",
              "          const dataTable =\n",
              "            await google.colab.kernel.invokeFunction('convertToInteractive',\n",
              "                                                     [key], {});\n",
              "          if (!dataTable) return;\n",
              "\n",
              "          const docLinkHtml = 'Like what you see? Visit the ' +\n",
              "            '<a target=\"_blank\" href=https://colab.research.google.com/notebooks/data_table.ipynb>data table notebook</a>'\n",
              "            + ' to learn more about interactive tables.';\n",
              "          element.innerHTML = '';\n",
              "          dataTable['output_type'] = 'display_data';\n",
              "          await google.colab.output.renderOutput(dataTable, element);\n",
              "          const docLink = document.createElement('div');\n",
              "          docLink.innerHTML = docLinkHtml;\n",
              "          element.appendChild(docLink);\n",
              "        }\n",
              "      </script>\n",
              "    </div>\n",
              "  </div>\n",
              "  "
            ],
            "text/plain": [
              "     LANDUSE  MAIN_AREA_x  CELL_SIZE_TOTAL  ...  IS_TAMAL  MAIN_AREA_y       y_pred\n",
              "441   מגורים       3476.0          3650.00  ...         0       3476.0  4553.319911\n",
              "715   מגורים        948.0          1028.00  ...         0        948.0   859.046203\n",
              "806   מגורים       1605.0           749.00  ...         0       1605.0  1491.692307\n",
              "996   מגורים        310.0           999.94  ...         0        310.0   270.000000\n",
              "1061  מגורים        310.0           600.00  ...         0        310.0   309.714286\n",
              "\n",
              "[5 rows x 17 columns]"
            ]
          },
          "metadata": {},
          "execution_count": 116
        }
      ]
    },
    {
      "cell_type": "code",
      "source": [
        "from google.colab import files\n",
        "# all_data_with_predictions.to_csv('all_data_with_predictions.csv', encoding='utf-8-sig')\n",
        "# files.download(\"all_data_with_predictions.csv\")"
      ],
      "metadata": {
        "id": "jjZFb7SUIVsM"
      },
      "execution_count": 117,
      "outputs": []
    },
    {
      "cell_type": "code",
      "source": [
        "new_data = pd.read_csv('https://raw.githubusercontent.com/mannmoshe/machine-learning/main/FinalProject/cellsData_New.csv')\n",
        "#new_data = new_data.drop_duplicates(subset=\"PL_NUMBER\", keep=\"first\")\n",
        "new_data = new_data[new_data['TOTAL_AREA'] < 40000]\n",
        "new_data.shape"
      ],
      "metadata": {
        "id": "72FIvqbA1iLD",
        "outputId": "55a40ee9-7a47-431d-934c-1f4d208a9b00",
        "colab": {
          "base_uri": "https://localhost:8080/"
        }
      },
      "execution_count": 134,
      "outputs": [
        {
          "output_type": "execute_result",
          "data": {
            "text/plain": [
              "(359, 17)"
            ]
          },
          "metadata": {},
          "execution_count": 134
        }
      ]
    },
    {
      "cell_type": "code",
      "source": [
        "X_new = new_data[feature_cols]\n",
        "# X_new_scaled = scaler.fit_transform(X_new)\n",
        "y_new = new_data['MAIN_AREA']"
      ],
      "metadata": {
        "id": "Vxp-M0j41o17"
      },
      "execution_count": 135,
      "outputs": []
    },
    {
      "cell_type": "code",
      "source": [
        "y_new_pred = neigh.predict(X_new)"
      ],
      "metadata": {
        "id": "kWv0vkei2MGY"
      },
      "execution_count": 136,
      "outputs": []
    },
    {
      "cell_type": "code",
      "source": [
        "mae = mean_absolute_error(y_new, y_new_pred)\n",
        "print(\"MAE:\", mae)\n",
        "mse = mean_squared_error(y_new, y_new_pred)\n",
        "print(\"MSE:\", mse)\n",
        "rmse = mean_squared_error(y_new, y_new_pred, squared=False)\n",
        "print(\"RMSE:\", rmse)\n",
        "rsquared = r2_score(y_new, y_new_pred)\n",
        "print(\"R Squared:\", rsquared)"
      ],
      "metadata": {
        "colab": {
          "base_uri": "https://localhost:8080/"
        },
        "id": "jyykmIZy2Vxs",
        "outputId": "0b7c7155-23e3-4778-fdc1-901cab6a0ce9"
      },
      "execution_count": 137,
      "outputs": [
        {
          "output_type": "stream",
          "name": "stdout",
          "text": [
            "MAE: 218.72816344680456\n",
            "MSE: 134402.6351713456\n",
            "RMSE: 366.60964958842203\n",
            "R Squared: 0.9737304053500706\n"
          ]
        }
      ]
    },
    {
      "cell_type": "code",
      "source": [
        "new_result_df = pd.DataFrame(y_new)\n",
        "new_result_df['y_pred'] = y_new_pred\n",
        "print(new_result_df.shape)\n",
        "new_result_df.T"
      ],
      "metadata": {
        "colab": {
          "base_uri": "https://localhost:8080/",
          "height": 223
        },
        "id": "xoVMroZQ2wAC",
        "outputId": "0fb66230-b23e-4871-ae30-b3168109482c"
      },
      "execution_count": 138,
      "outputs": [
        {
          "output_type": "stream",
          "name": "stdout",
          "text": [
            "(359, 2)\n"
          ]
        },
        {
          "output_type": "execute_result",
          "data": {
            "text/html": [
              "\n",
              "  <div id=\"df-0f2097f8-240e-4555-908b-1d96353501f1\">\n",
              "    <div class=\"colab-df-container\">\n",
              "      <div>\n",
              "<style scoped>\n",
              "    .dataframe tbody tr th:only-of-type {\n",
              "        vertical-align: middle;\n",
              "    }\n",
              "\n",
              "    .dataframe tbody tr th {\n",
              "        vertical-align: top;\n",
              "    }\n",
              "\n",
              "    .dataframe thead th {\n",
              "        text-align: right;\n",
              "    }\n",
              "</style>\n",
              "<table border=\"1\" class=\"dataframe\">\n",
              "  <thead>\n",
              "    <tr style=\"text-align: right;\">\n",
              "      <th></th>\n",
              "      <th>0</th>\n",
              "      <th>1</th>\n",
              "      <th>2</th>\n",
              "      <th>3</th>\n",
              "      <th>4</th>\n",
              "      <th>5</th>\n",
              "      <th>6</th>\n",
              "      <th>7</th>\n",
              "      <th>8</th>\n",
              "      <th>9</th>\n",
              "      <th>10</th>\n",
              "      <th>11</th>\n",
              "      <th>12</th>\n",
              "      <th>13</th>\n",
              "      <th>14</th>\n",
              "      <th>15</th>\n",
              "      <th>16</th>\n",
              "      <th>17</th>\n",
              "      <th>18</th>\n",
              "      <th>19</th>\n",
              "      <th>20</th>\n",
              "      <th>21</th>\n",
              "      <th>22</th>\n",
              "      <th>23</th>\n",
              "      <th>24</th>\n",
              "      <th>25</th>\n",
              "      <th>26</th>\n",
              "      <th>27</th>\n",
              "      <th>28</th>\n",
              "      <th>29</th>\n",
              "      <th>30</th>\n",
              "      <th>31</th>\n",
              "      <th>32</th>\n",
              "      <th>33</th>\n",
              "      <th>34</th>\n",
              "      <th>35</th>\n",
              "      <th>36</th>\n",
              "      <th>37</th>\n",
              "      <th>38</th>\n",
              "      <th>39</th>\n",
              "      <th>...</th>\n",
              "      <th>319</th>\n",
              "      <th>320</th>\n",
              "      <th>321</th>\n",
              "      <th>322</th>\n",
              "      <th>323</th>\n",
              "      <th>324</th>\n",
              "      <th>325</th>\n",
              "      <th>326</th>\n",
              "      <th>327</th>\n",
              "      <th>328</th>\n",
              "      <th>329</th>\n",
              "      <th>330</th>\n",
              "      <th>331</th>\n",
              "      <th>332</th>\n",
              "      <th>333</th>\n",
              "      <th>334</th>\n",
              "      <th>335</th>\n",
              "      <th>336</th>\n",
              "      <th>337</th>\n",
              "      <th>338</th>\n",
              "      <th>339</th>\n",
              "      <th>340</th>\n",
              "      <th>341</th>\n",
              "      <th>342</th>\n",
              "      <th>343</th>\n",
              "      <th>344</th>\n",
              "      <th>345</th>\n",
              "      <th>346</th>\n",
              "      <th>347</th>\n",
              "      <th>348</th>\n",
              "      <th>349</th>\n",
              "      <th>350</th>\n",
              "      <th>351</th>\n",
              "      <th>352</th>\n",
              "      <th>353</th>\n",
              "      <th>354</th>\n",
              "      <th>355</th>\n",
              "      <th>356</th>\n",
              "      <th>357</th>\n",
              "      <th>358</th>\n",
              "    </tr>\n",
              "  </thead>\n",
              "  <tbody>\n",
              "    <tr>\n",
              "      <th>MAIN_AREA</th>\n",
              "      <td>576.0</td>\n",
              "      <td>220.0</td>\n",
              "      <td>240.0</td>\n",
              "      <td>570.400000</td>\n",
              "      <td>768.800000</td>\n",
              "      <td>620.0</td>\n",
              "      <td>590.240000</td>\n",
              "      <td>728.000000</td>\n",
              "      <td>3250.000000</td>\n",
              "      <td>15155.000000</td>\n",
              "      <td>8155.000000</td>\n",
              "      <td>19810.000000</td>\n",
              "      <td>12985.00000</td>\n",
              "      <td>15045.000000</td>\n",
              "      <td>14015.000000</td>\n",
              "      <td>13555.000000</td>\n",
              "      <td>14965.000000</td>\n",
              "      <td>18275.000000</td>\n",
              "      <td>953.000000</td>\n",
              "      <td>575.0</td>\n",
              "      <td>647.000</td>\n",
              "      <td>618.0</td>\n",
              "      <td>653.000000</td>\n",
              "      <td>645.000000</td>\n",
              "      <td>659.00000</td>\n",
              "      <td>686.0</td>\n",
              "      <td>670.000000</td>\n",
              "      <td>651.000000</td>\n",
              "      <td>640.000000</td>\n",
              "      <td>620.00000</td>\n",
              "      <td>624.0</td>\n",
              "      <td>647.000</td>\n",
              "      <td>647.000</td>\n",
              "      <td>672.000000</td>\n",
              "      <td>1610.000000</td>\n",
              "      <td>945.000000</td>\n",
              "      <td>601.000000</td>\n",
              "      <td>1015.000000</td>\n",
              "      <td>1032.0000</td>\n",
              "      <td>1040.000000</td>\n",
              "      <td>...</td>\n",
              "      <td>720.000000</td>\n",
              "      <td>720.000000</td>\n",
              "      <td>720.000000</td>\n",
              "      <td>720.000000</td>\n",
              "      <td>720.000000</td>\n",
              "      <td>720.000000</td>\n",
              "      <td>720.000000</td>\n",
              "      <td>720.000000</td>\n",
              "      <td>720.000000</td>\n",
              "      <td>324.000000</td>\n",
              "      <td>324.000000</td>\n",
              "      <td>324.000000</td>\n",
              "      <td>324.000000</td>\n",
              "      <td>324.000000</td>\n",
              "      <td>1894.0000</td>\n",
              "      <td>220.0</td>\n",
              "      <td>205.000000</td>\n",
              "      <td>160.0</td>\n",
              "      <td>285.000000</td>\n",
              "      <td>190.000000</td>\n",
              "      <td>240.0</td>\n",
              "      <td>576.0</td>\n",
              "      <td>3060.000000</td>\n",
              "      <td>600.000000</td>\n",
              "      <td>897.0</td>\n",
              "      <td>332.400000</td>\n",
              "      <td>4400.000000</td>\n",
              "      <td>230.00</td>\n",
              "      <td>460.0</td>\n",
              "      <td>1456.00000</td>\n",
              "      <td>230.0</td>\n",
              "      <td>370.000000</td>\n",
              "      <td>383.140000</td>\n",
              "      <td>240.0</td>\n",
              "      <td>480.000000</td>\n",
              "      <td>527.050000</td>\n",
              "      <td>810.600000</td>\n",
              "      <td>811.0</td>\n",
              "      <td>920.0</td>\n",
              "      <td>3034.000000</td>\n",
              "    </tr>\n",
              "    <tr>\n",
              "      <th>y_pred</th>\n",
              "      <td>576.8</td>\n",
              "      <td>230.0</td>\n",
              "      <td>246.8</td>\n",
              "      <td>551.822287</td>\n",
              "      <td>730.580274</td>\n",
              "      <td>595.0</td>\n",
              "      <td>558.887134</td>\n",
              "      <td>686.357143</td>\n",
              "      <td>3358.802078</td>\n",
              "      <td>15772.550068</td>\n",
              "      <td>8564.061464</td>\n",
              "      <td>19962.697228</td>\n",
              "      <td>12967.59193</td>\n",
              "      <td>15626.025226</td>\n",
              "      <td>14516.864137</td>\n",
              "      <td>13770.247267</td>\n",
              "      <td>15603.645101</td>\n",
              "      <td>18484.665472</td>\n",
              "      <td>1143.339297</td>\n",
              "      <td>777.5</td>\n",
              "      <td>928.685</td>\n",
              "      <td>903.0</td>\n",
              "      <td>804.565962</td>\n",
              "      <td>910.154797</td>\n",
              "      <td>874.02346</td>\n",
              "      <td>819.0</td>\n",
              "      <td>886.333333</td>\n",
              "      <td>825.465309</td>\n",
              "      <td>887.733333</td>\n",
              "      <td>866.57257</td>\n",
              "      <td>918.0</td>\n",
              "      <td>928.685</td>\n",
              "      <td>928.685</td>\n",
              "      <td>881.339454</td>\n",
              "      <td>2177.050269</td>\n",
              "      <td>1215.545586</td>\n",
              "      <td>811.327694</td>\n",
              "      <td>1328.755567</td>\n",
              "      <td>1267.1068</td>\n",
              "      <td>1441.886046</td>\n",
              "      <td>...</td>\n",
              "      <td>692.888889</td>\n",
              "      <td>692.888889</td>\n",
              "      <td>692.888889</td>\n",
              "      <td>692.888889</td>\n",
              "      <td>692.888889</td>\n",
              "      <td>692.888889</td>\n",
              "      <td>692.888889</td>\n",
              "      <td>692.888889</td>\n",
              "      <td>692.888889</td>\n",
              "      <td>338.305085</td>\n",
              "      <td>338.305085</td>\n",
              "      <td>338.305085</td>\n",
              "      <td>338.305085</td>\n",
              "      <td>338.305085</td>\n",
              "      <td>1872.4103</td>\n",
              "      <td>220.0</td>\n",
              "      <td>211.454739</td>\n",
              "      <td>175.5</td>\n",
              "      <td>302.044524</td>\n",
              "      <td>257.785926</td>\n",
              "      <td>246.8</td>\n",
              "      <td>576.8</td>\n",
              "      <td>2477.551703</td>\n",
              "      <td>582.429969</td>\n",
              "      <td>767.0</td>\n",
              "      <td>340.616592</td>\n",
              "      <td>4379.226293</td>\n",
              "      <td>196.75</td>\n",
              "      <td>450.0</td>\n",
              "      <td>1405.35074</td>\n",
              "      <td>220.0</td>\n",
              "      <td>387.712764</td>\n",
              "      <td>385.862118</td>\n",
              "      <td>246.8</td>\n",
              "      <td>538.666667</td>\n",
              "      <td>639.757538</td>\n",
              "      <td>810.509426</td>\n",
              "      <td>781.5</td>\n",
              "      <td>971.5</td>\n",
              "      <td>2706.828496</td>\n",
              "    </tr>\n",
              "  </tbody>\n",
              "</table>\n",
              "<p>2 rows × 359 columns</p>\n",
              "</div>\n",
              "      <button class=\"colab-df-convert\" onclick=\"convertToInteractive('df-0f2097f8-240e-4555-908b-1d96353501f1')\"\n",
              "              title=\"Convert this dataframe to an interactive table.\"\n",
              "              style=\"display:none;\">\n",
              "        \n",
              "  <svg xmlns=\"http://www.w3.org/2000/svg\" height=\"24px\"viewBox=\"0 0 24 24\"\n",
              "       width=\"24px\">\n",
              "    <path d=\"M0 0h24v24H0V0z\" fill=\"none\"/>\n",
              "    <path d=\"M18.56 5.44l.94 2.06.94-2.06 2.06-.94-2.06-.94-.94-2.06-.94 2.06-2.06.94zm-11 1L8.5 8.5l.94-2.06 2.06-.94-2.06-.94L8.5 2.5l-.94 2.06-2.06.94zm10 10l.94 2.06.94-2.06 2.06-.94-2.06-.94-.94-2.06-.94 2.06-2.06.94z\"/><path d=\"M17.41 7.96l-1.37-1.37c-.4-.4-.92-.59-1.43-.59-.52 0-1.04.2-1.43.59L10.3 9.45l-7.72 7.72c-.78.78-.78 2.05 0 2.83L4 21.41c.39.39.9.59 1.41.59.51 0 1.02-.2 1.41-.59l7.78-7.78 2.81-2.81c.8-.78.8-2.07 0-2.86zM5.41 20L4 18.59l7.72-7.72 1.47 1.35L5.41 20z\"/>\n",
              "  </svg>\n",
              "      </button>\n",
              "      \n",
              "  <style>\n",
              "    .colab-df-container {\n",
              "      display:flex;\n",
              "      flex-wrap:wrap;\n",
              "      gap: 12px;\n",
              "    }\n",
              "\n",
              "    .colab-df-convert {\n",
              "      background-color: #E8F0FE;\n",
              "      border: none;\n",
              "      border-radius: 50%;\n",
              "      cursor: pointer;\n",
              "      display: none;\n",
              "      fill: #1967D2;\n",
              "      height: 32px;\n",
              "      padding: 0 0 0 0;\n",
              "      width: 32px;\n",
              "    }\n",
              "\n",
              "    .colab-df-convert:hover {\n",
              "      background-color: #E2EBFA;\n",
              "      box-shadow: 0px 1px 2px rgba(60, 64, 67, 0.3), 0px 1px 3px 1px rgba(60, 64, 67, 0.15);\n",
              "      fill: #174EA6;\n",
              "    }\n",
              "\n",
              "    [theme=dark] .colab-df-convert {\n",
              "      background-color: #3B4455;\n",
              "      fill: #D2E3FC;\n",
              "    }\n",
              "\n",
              "    [theme=dark] .colab-df-convert:hover {\n",
              "      background-color: #434B5C;\n",
              "      box-shadow: 0px 1px 3px 1px rgba(0, 0, 0, 0.15);\n",
              "      filter: drop-shadow(0px 1px 2px rgba(0, 0, 0, 0.3));\n",
              "      fill: #FFFFFF;\n",
              "    }\n",
              "  </style>\n",
              "\n",
              "      <script>\n",
              "        const buttonEl =\n",
              "          document.querySelector('#df-0f2097f8-240e-4555-908b-1d96353501f1 button.colab-df-convert');\n",
              "        buttonEl.style.display =\n",
              "          google.colab.kernel.accessAllowed ? 'block' : 'none';\n",
              "\n",
              "        async function convertToInteractive(key) {\n",
              "          const element = document.querySelector('#df-0f2097f8-240e-4555-908b-1d96353501f1');\n",
              "          const dataTable =\n",
              "            await google.colab.kernel.invokeFunction('convertToInteractive',\n",
              "                                                     [key], {});\n",
              "          if (!dataTable) return;\n",
              "\n",
              "          const docLinkHtml = 'Like what you see? Visit the ' +\n",
              "            '<a target=\"_blank\" href=https://colab.research.google.com/notebooks/data_table.ipynb>data table notebook</a>'\n",
              "            + ' to learn more about interactive tables.';\n",
              "          element.innerHTML = '';\n",
              "          dataTable['output_type'] = 'display_data';\n",
              "          await google.colab.output.renderOutput(dataTable, element);\n",
              "          const docLink = document.createElement('div');\n",
              "          docLink.innerHTML = docLinkHtml;\n",
              "          element.appendChild(docLink);\n",
              "        }\n",
              "      </script>\n",
              "    </div>\n",
              "  </div>\n",
              "  "
            ],
            "text/plain": [
              "             0      1      2    ...    356    357          358\n",
              "MAIN_AREA  576.0  220.0  240.0  ...  811.0  920.0  3034.000000\n",
              "y_pred     576.8  230.0  246.8  ...  781.5  971.5  2706.828496\n",
              "\n",
              "[2 rows x 359 columns]"
            ]
          },
          "metadata": {},
          "execution_count": 138
        }
      ]
    },
    {
      "cell_type": "code",
      "source": [
        "all_new_data_with_predictions = pd.merge(new_data, new_result_df, left_index=True, right_index=True)\n",
        "all_new_data_with_predictions.head()"
      ],
      "metadata": {
        "colab": {
          "base_uri": "https://localhost:8080/",
          "height": 444
        },
        "id": "zU27phUQkkF0",
        "outputId": "e3372fe9-4ea3-401e-ba50-911b8d980e59"
      },
      "execution_count": 139,
      "outputs": [
        {
          "output_type": "execute_result",
          "data": {
            "text/html": [
              "\n",
              "  <div id=\"df-e7b6306d-7eae-4094-9ffe-ea1acb3b487f\">\n",
              "    <div class=\"colab-df-container\">\n",
              "      <div>\n",
              "<style scoped>\n",
              "    .dataframe tbody tr th:only-of-type {\n",
              "        vertical-align: middle;\n",
              "    }\n",
              "\n",
              "    .dataframe tbody tr th {\n",
              "        vertical-align: top;\n",
              "    }\n",
              "\n",
              "    .dataframe thead th {\n",
              "        text-align: right;\n",
              "    }\n",
              "</style>\n",
              "<table border=\"1\" class=\"dataframe\">\n",
              "  <thead>\n",
              "    <tr style=\"text-align: right;\">\n",
              "      <th></th>\n",
              "      <th>PL_NUMBER</th>\n",
              "      <th>PL_AREA</th>\n",
              "      <th>LANDUSE</th>\n",
              "      <th>MAIN_AREA_x</th>\n",
              "      <th>SERVICE_AREA</th>\n",
              "      <th>CELL_SIZE_TOTAL</th>\n",
              "      <th>CELL_SIZE_MIN</th>\n",
              "      <th>CELL_SIZE_MAX</th>\n",
              "      <th>HOUSING_UNITS</th>\n",
              "      <th>BUILDING_HEIGHT</th>\n",
              "      <th>FLOORS_NUM</th>\n",
              "      <th>TOTAL_AREA</th>\n",
              "      <th>AUTHORITY</th>\n",
              "      <th>DISTRICT</th>\n",
              "      <th>SECTOR_GROUP</th>\n",
              "      <th>CONFIRMATION_YEAR</th>\n",
              "      <th>CONSTRUCTION_TYPE_GROUP</th>\n",
              "      <th>MAIN_AREA_y</th>\n",
              "      <th>y_pred</th>\n",
              "    </tr>\n",
              "  </thead>\n",
              "  <tbody>\n",
              "    <tr>\n",
              "      <th>0</th>\n",
              "      <td>257-0744540</td>\n",
              "      <td>257-0744540-1</td>\n",
              "      <td>מגורים</td>\n",
              "      <td>576.0</td>\n",
              "      <td>96.0</td>\n",
              "      <td>400.0</td>\n",
              "      <td>0</td>\n",
              "      <td>0</td>\n",
              "      <td>0</td>\n",
              "      <td>12.5</td>\n",
              "      <td>4</td>\n",
              "      <td>672.0</td>\n",
              "      <td>מחוזית</td>\n",
              "      <td>צפון</td>\n",
              "      <td>חברה ערבית</td>\n",
              "      <td>2021</td>\n",
              "      <td>חדשה</td>\n",
              "      <td>576.0</td>\n",
              "      <td>576.800000</td>\n",
              "    </tr>\n",
              "    <tr>\n",
              "      <th>1</th>\n",
              "      <td>633-0921650</td>\n",
              "      <td>633-0921650-13</td>\n",
              "      <td>מגורים</td>\n",
              "      <td>220.0</td>\n",
              "      <td>60.0</td>\n",
              "      <td>500.0</td>\n",
              "      <td>0</td>\n",
              "      <td>0</td>\n",
              "      <td>1</td>\n",
              "      <td>10.5</td>\n",
              "      <td>2</td>\n",
              "      <td>280.0</td>\n",
              "      <td>מחוזית</td>\n",
              "      <td>דרום</td>\n",
              "      <td>חברה כללית / מעורבת</td>\n",
              "      <td>2021</td>\n",
              "      <td>חדשה</td>\n",
              "      <td>220.0</td>\n",
              "      <td>230.000000</td>\n",
              "    </tr>\n",
              "    <tr>\n",
              "      <th>2</th>\n",
              "      <td>633-0921650</td>\n",
              "      <td>633-0921650-11</td>\n",
              "      <td>מגורים</td>\n",
              "      <td>240.0</td>\n",
              "      <td>60.0</td>\n",
              "      <td>599.0</td>\n",
              "      <td>0</td>\n",
              "      <td>0</td>\n",
              "      <td>1</td>\n",
              "      <td>10.5</td>\n",
              "      <td>2</td>\n",
              "      <td>300.0</td>\n",
              "      <td>מחוזית</td>\n",
              "      <td>דרום</td>\n",
              "      <td>חברה כללית / מעורבת</td>\n",
              "      <td>2021</td>\n",
              "      <td>חדשה</td>\n",
              "      <td>240.0</td>\n",
              "      <td>246.800000</td>\n",
              "    </tr>\n",
              "    <tr>\n",
              "      <th>3</th>\n",
              "      <td>204-0765354</td>\n",
              "      <td>204-0765354-4</td>\n",
              "      <td>מגורים</td>\n",
              "      <td>570.4</td>\n",
              "      <td>92.0</td>\n",
              "      <td>460.0</td>\n",
              "      <td>0</td>\n",
              "      <td>0</td>\n",
              "      <td>4</td>\n",
              "      <td>14.4</td>\n",
              "      <td>4</td>\n",
              "      <td>662.4</td>\n",
              "      <td>מחוזית</td>\n",
              "      <td>צפון</td>\n",
              "      <td>חברה ערבית</td>\n",
              "      <td>2021</td>\n",
              "      <td>חדשה</td>\n",
              "      <td>570.4</td>\n",
              "      <td>551.822287</td>\n",
              "    </tr>\n",
              "    <tr>\n",
              "      <th>4</th>\n",
              "      <td>204-0765354</td>\n",
              "      <td>204-0765354-1</td>\n",
              "      <td>מגורים</td>\n",
              "      <td>768.8</td>\n",
              "      <td>124.0</td>\n",
              "      <td>620.0</td>\n",
              "      <td>0</td>\n",
              "      <td>0</td>\n",
              "      <td>4</td>\n",
              "      <td>14.4</td>\n",
              "      <td>4</td>\n",
              "      <td>892.8</td>\n",
              "      <td>מחוזית</td>\n",
              "      <td>צפון</td>\n",
              "      <td>חברה ערבית</td>\n",
              "      <td>2021</td>\n",
              "      <td>חדשה</td>\n",
              "      <td>768.8</td>\n",
              "      <td>730.580274</td>\n",
              "    </tr>\n",
              "  </tbody>\n",
              "</table>\n",
              "</div>\n",
              "      <button class=\"colab-df-convert\" onclick=\"convertToInteractive('df-e7b6306d-7eae-4094-9ffe-ea1acb3b487f')\"\n",
              "              title=\"Convert this dataframe to an interactive table.\"\n",
              "              style=\"display:none;\">\n",
              "        \n",
              "  <svg xmlns=\"http://www.w3.org/2000/svg\" height=\"24px\"viewBox=\"0 0 24 24\"\n",
              "       width=\"24px\">\n",
              "    <path d=\"M0 0h24v24H0V0z\" fill=\"none\"/>\n",
              "    <path d=\"M18.56 5.44l.94 2.06.94-2.06 2.06-.94-2.06-.94-.94-2.06-.94 2.06-2.06.94zm-11 1L8.5 8.5l.94-2.06 2.06-.94-2.06-.94L8.5 2.5l-.94 2.06-2.06.94zm10 10l.94 2.06.94-2.06 2.06-.94-2.06-.94-.94-2.06-.94 2.06-2.06.94z\"/><path d=\"M17.41 7.96l-1.37-1.37c-.4-.4-.92-.59-1.43-.59-.52 0-1.04.2-1.43.59L10.3 9.45l-7.72 7.72c-.78.78-.78 2.05 0 2.83L4 21.41c.39.39.9.59 1.41.59.51 0 1.02-.2 1.41-.59l7.78-7.78 2.81-2.81c.8-.78.8-2.07 0-2.86zM5.41 20L4 18.59l7.72-7.72 1.47 1.35L5.41 20z\"/>\n",
              "  </svg>\n",
              "      </button>\n",
              "      \n",
              "  <style>\n",
              "    .colab-df-container {\n",
              "      display:flex;\n",
              "      flex-wrap:wrap;\n",
              "      gap: 12px;\n",
              "    }\n",
              "\n",
              "    .colab-df-convert {\n",
              "      background-color: #E8F0FE;\n",
              "      border: none;\n",
              "      border-radius: 50%;\n",
              "      cursor: pointer;\n",
              "      display: none;\n",
              "      fill: #1967D2;\n",
              "      height: 32px;\n",
              "      padding: 0 0 0 0;\n",
              "      width: 32px;\n",
              "    }\n",
              "\n",
              "    .colab-df-convert:hover {\n",
              "      background-color: #E2EBFA;\n",
              "      box-shadow: 0px 1px 2px rgba(60, 64, 67, 0.3), 0px 1px 3px 1px rgba(60, 64, 67, 0.15);\n",
              "      fill: #174EA6;\n",
              "    }\n",
              "\n",
              "    [theme=dark] .colab-df-convert {\n",
              "      background-color: #3B4455;\n",
              "      fill: #D2E3FC;\n",
              "    }\n",
              "\n",
              "    [theme=dark] .colab-df-convert:hover {\n",
              "      background-color: #434B5C;\n",
              "      box-shadow: 0px 1px 3px 1px rgba(0, 0, 0, 0.15);\n",
              "      filter: drop-shadow(0px 1px 2px rgba(0, 0, 0, 0.3));\n",
              "      fill: #FFFFFF;\n",
              "    }\n",
              "  </style>\n",
              "\n",
              "      <script>\n",
              "        const buttonEl =\n",
              "          document.querySelector('#df-e7b6306d-7eae-4094-9ffe-ea1acb3b487f button.colab-df-convert');\n",
              "        buttonEl.style.display =\n",
              "          google.colab.kernel.accessAllowed ? 'block' : 'none';\n",
              "\n",
              "        async function convertToInteractive(key) {\n",
              "          const element = document.querySelector('#df-e7b6306d-7eae-4094-9ffe-ea1acb3b487f');\n",
              "          const dataTable =\n",
              "            await google.colab.kernel.invokeFunction('convertToInteractive',\n",
              "                                                     [key], {});\n",
              "          if (!dataTable) return;\n",
              "\n",
              "          const docLinkHtml = 'Like what you see? Visit the ' +\n",
              "            '<a target=\"_blank\" href=https://colab.research.google.com/notebooks/data_table.ipynb>data table notebook</a>'\n",
              "            + ' to learn more about interactive tables.';\n",
              "          element.innerHTML = '';\n",
              "          dataTable['output_type'] = 'display_data';\n",
              "          await google.colab.output.renderOutput(dataTable, element);\n",
              "          const docLink = document.createElement('div');\n",
              "          docLink.innerHTML = docLinkHtml;\n",
              "          element.appendChild(docLink);\n",
              "        }\n",
              "      </script>\n",
              "    </div>\n",
              "  </div>\n",
              "  "
            ],
            "text/plain": [
              "     PL_NUMBER         PL_AREA  ... MAIN_AREA_y      y_pred\n",
              "0  257-0744540   257-0744540-1  ...       576.0  576.800000\n",
              "1  633-0921650  633-0921650-13  ...       220.0  230.000000\n",
              "2  633-0921650  633-0921650-11  ...       240.0  246.800000\n",
              "3  204-0765354   204-0765354-4  ...       570.4  551.822287\n",
              "4  204-0765354   204-0765354-1  ...       768.8  730.580274\n",
              "\n",
              "[5 rows x 19 columns]"
            ]
          },
          "metadata": {},
          "execution_count": 139
        }
      ]
    },
    {
      "cell_type": "code",
      "source": [
        "from google.colab import files\n",
        "# all_new_data_with_predictions.to_csv('all_new_data_with_predictions.csv', encoding='utf-8-sig')\n",
        "# files.download(\"all_new_data_with_predictions.csv\")"
      ],
      "metadata": {
        "id": "VBARS4xpkxbf"
      },
      "execution_count": 140,
      "outputs": []
    }
  ]
}