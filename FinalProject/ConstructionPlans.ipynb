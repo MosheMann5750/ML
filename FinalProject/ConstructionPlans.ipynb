{
  "nbformat": 4,
  "nbformat_minor": 0,
  "metadata": {
    "colab": {
      "name": "Untitled2.ipynb",
      "provenance": [],
      "authorship_tag": "ABX9TyN8kqFNSItrmCLWDI0lIHq6",
      "include_colab_link": true
    },
    "kernelspec": {
      "name": "python3",
      "display_name": "Python 3"
    },
    "language_info": {
      "name": "python"
    }
  },
  "cells": [
    {
      "cell_type": "markdown",
      "metadata": {
        "id": "view-in-github",
        "colab_type": "text"
      },
      "source": [
        "<a href=\"https://colab.research.google.com/github/mannmoshe/machine-learning/blob/main/FinalProject/ConstructionPlans.ipynb\" target=\"_parent\"><img src=\"https://colab.research.google.com/assets/colab-badge.svg\" alt=\"Open In Colab\"/></a>"
      ]
    },
    {
      "cell_type": "markdown",
      "source": [
        "# Final Project - Construction plans<br>*By Moshe Mann*"
      ],
      "metadata": {
        "id": "ZEjIPay33abT"
      }
    },
    {
      "cell_type": "markdown",
      "source": [
        "**Overview**<br>\n",
        "The Israel Planning Administration (IPA) is handling detailed construction plans.<BR>Every detailed plan contains a lot of data, among the rest, division of main and service area.<BR><BR>Main area is the area that divided among the tenants, like the departments,<BR> and the service area is common to all tenants, like parking, stairwell etc.<BR><BR>\n",
        "In the near future the plans will not include the division between main and service area, because it is not important for the IPA as planning unit, but still, it is important data for regulation.<BR><BR> The purpose of the project is to predict the main and service areas based on the cell and plan features, so that the model can be used for regulatory purposes."
      ],
      "metadata": {
        "id": "pcfRRxNVLaMm"
      }
    },
    {
      "cell_type": "code",
      "execution_count": 1,
      "metadata": {
        "id": "_E9eo8uh3ZkZ"
      },
      "outputs": [],
      "source": [
        "import numpy as np\n",
        "import pandas as pd\n",
        "import seaborn as sns"
      ]
    },
    {
      "cell_type": "code",
      "source": [
        "data = pd.read_csv('https://raw.githubusercontent.com/mannmoshe/machine-learning/main/FinalProject/cellsData.csv')"
      ],
      "metadata": {
        "id": "ZqjZVz1jUDLC"
      },
      "execution_count": 2,
      "outputs": []
    },
    {
      "cell_type": "code",
      "source": [
        "data.shape"
      ],
      "metadata": {
        "colab": {
          "base_uri": "https://localhost:8080/"
        },
        "id": "_eEhtbV44F46",
        "outputId": "5f6e121d-9fdd-4bb0-a968-ccbdecbf9adc"
      },
      "execution_count": 3,
      "outputs": [
        {
          "output_type": "execute_result",
          "data": {
            "text/plain": [
              "(13709, 27)"
            ]
          },
          "metadata": {},
          "execution_count": 3
        }
      ]
    },
    {
      "cell_type": "code",
      "source": [
        "data.info()"
      ],
      "metadata": {
        "colab": {
          "base_uri": "https://localhost:8080/"
        },
        "id": "K3gjPDzb4yoy",
        "outputId": "bb1ba888-7148-4cc4-e748-98ca5c8fe710"
      },
      "execution_count": 4,
      "outputs": [
        {
          "output_type": "stream",
          "name": "stdout",
          "text": [
            "<class 'pandas.core.frame.DataFrame'>\n",
            "RangeIndex: 13709 entries, 0 to 13708\n",
            "Data columns (total 27 columns):\n",
            " #   Column                   Non-Null Count  Dtype  \n",
            "---  ------                   --------------  -----  \n",
            " 0   PL_NUMBER                13709 non-null  object \n",
            " 1   PL_AREA                  13709 non-null  object \n",
            " 2   LANDUSE                  13709 non-null  object \n",
            " 3   MAIN_ABOVE               13709 non-null  float64\n",
            " 4   SERVICE_ABOVE            13709 non-null  float64\n",
            " 5   MAIN_UNDER               13709 non-null  float64\n",
            " 6   SERVICE_UNDER            13709 non-null  float64\n",
            " 7   CELL_SIZE_TOTAL          13709 non-null  float64\n",
            " 8   CELL_SIZE_MIN            13709 non-null  float64\n",
            " 9   CELL_SIZE_MAX            13709 non-null  float64\n",
            " 10  COVERED_AREA             13709 non-null  float64\n",
            " 11  HOUSING_UNITS            13709 non-null  float64\n",
            " 12  BUILDING_HEIGHT          13709 non-null  float64\n",
            " 13  FLOORS_NUM               13709 non-null  float64\n",
            " 14  TOTAL_ABOVE              13709 non-null  float64\n",
            " 15  PL_NAME                  13709 non-null  object \n",
            " 16  PL_INSTITUTION           13709 non-null  object \n",
            " 17  AUTHORITY                13709 non-null  object \n",
            " 18  DISTRICT                 13709 non-null  object \n",
            " 19  SECTOR_GROUP             13709 non-null  object \n",
            " 20  AREA                     13553 non-null  object \n",
            " 21  SECTOR                   13709 non-null  object \n",
            " 22  POPULATION               13709 non-null  object \n",
            " 23  MUNICIPAL_AREA_STATUS    13553 non-null  object \n",
            " 24  CONFIRMATION_YEAR        13709 non-null  int64  \n",
            " 25  CONSTRUCTION_TYPE_GROUP  13704 non-null  object \n",
            " 26  CELL_SIZE                13709 non-null  float64\n",
            "dtypes: float64(13), int64(1), object(13)\n",
            "memory usage: 2.8+ MB\n"
          ]
        }
      ]
    },
    {
      "cell_type": "markdown",
      "source": [
        "# Add description of each column."
      ],
      "metadata": {
        "id": "cDWHufahSZIJ"
      }
    },
    {
      "cell_type": "code",
      "source": [
        "data.head()"
      ],
      "metadata": {
        "colab": {
          "base_uri": "https://localhost:8080/",
          "height": 617
        },
        "id": "NkyXW97Z4IrB",
        "outputId": "03ae4cc0-84f6-440b-cb95-1dd96525e42f"
      },
      "execution_count": 5,
      "outputs": [
        {
          "output_type": "execute_result",
          "data": {
            "text/html": [
              "\n",
              "  <div id=\"df-6885304c-268d-49ee-bdc6-f80c7ba44f98\">\n",
              "    <div class=\"colab-df-container\">\n",
              "      <div>\n",
              "<style scoped>\n",
              "    .dataframe tbody tr th:only-of-type {\n",
              "        vertical-align: middle;\n",
              "    }\n",
              "\n",
              "    .dataframe tbody tr th {\n",
              "        vertical-align: top;\n",
              "    }\n",
              "\n",
              "    .dataframe thead th {\n",
              "        text-align: right;\n",
              "    }\n",
              "</style>\n",
              "<table border=\"1\" class=\"dataframe\">\n",
              "  <thead>\n",
              "    <tr style=\"text-align: right;\">\n",
              "      <th></th>\n",
              "      <th>PL_NUMBER</th>\n",
              "      <th>PL_AREA</th>\n",
              "      <th>LANDUSE</th>\n",
              "      <th>MAIN_ABOVE</th>\n",
              "      <th>SERVICE_ABOVE</th>\n",
              "      <th>MAIN_UNDER</th>\n",
              "      <th>SERVICE_UNDER</th>\n",
              "      <th>CELL_SIZE_TOTAL</th>\n",
              "      <th>CELL_SIZE_MIN</th>\n",
              "      <th>CELL_SIZE_MAX</th>\n",
              "      <th>COVERED_AREA</th>\n",
              "      <th>HOUSING_UNITS</th>\n",
              "      <th>BUILDING_HEIGHT</th>\n",
              "      <th>FLOORS_NUM</th>\n",
              "      <th>TOTAL_ABOVE</th>\n",
              "      <th>PL_NAME</th>\n",
              "      <th>PL_INSTITUTION</th>\n",
              "      <th>AUTHORITY</th>\n",
              "      <th>DISTRICT</th>\n",
              "      <th>SECTOR_GROUP</th>\n",
              "      <th>AREA</th>\n",
              "      <th>SECTOR</th>\n",
              "      <th>POPULATION</th>\n",
              "      <th>MUNICIPAL_AREA_STATUS</th>\n",
              "      <th>CONFIRMATION_YEAR</th>\n",
              "      <th>CONSTRUCTION_TYPE_GROUP</th>\n",
              "      <th>CELL_SIZE</th>\n",
              "    </tr>\n",
              "  </thead>\n",
              "  <tbody>\n",
              "    <tr>\n",
              "      <th>0</th>\n",
              "      <td>610-0197038</td>\n",
              "      <td>610-0197038-102</td>\n",
              "      <td>מגורים</td>\n",
              "      <td>975.0</td>\n",
              "      <td>300.0</td>\n",
              "      <td>1075.0</td>\n",
              "      <td>300.0</td>\n",
              "      <td>2466.0</td>\n",
              "      <td>0.0</td>\n",
              "      <td>0.0</td>\n",
              "      <td>1109.70</td>\n",
              "      <td>16.0</td>\n",
              "      <td>11.0</td>\n",
              "      <td>2.0</td>\n",
              "      <td>1275.0</td>\n",
              "      <td>הגדלת זכויות בניה מתחם מגורים ברחוב אירוסים 27...</td>\n",
              "      <td>דרום</td>\n",
              "      <td>מחוזית</td>\n",
              "      <td>דרום</td>\n",
              "      <td>חברה כללית / מעורבת</td>\n",
              "      <td>ערד</td>\n",
              "      <td>חברה כללית / מעורבת</td>\n",
              "      <td>26756</td>\n",
              "      <td>עירייה</td>\n",
              "      <td>2017</td>\n",
              "      <td>חדשה</td>\n",
              "      <td>2466.0</td>\n",
              "    </tr>\n",
              "    <tr>\n",
              "      <th>1</th>\n",
              "      <td>610-0197038</td>\n",
              "      <td>610-0197038-101</td>\n",
              "      <td>מגורים</td>\n",
              "      <td>975.0</td>\n",
              "      <td>300.0</td>\n",
              "      <td>1075.0</td>\n",
              "      <td>300.0</td>\n",
              "      <td>2025.0</td>\n",
              "      <td>0.0</td>\n",
              "      <td>0.0</td>\n",
              "      <td>911.25</td>\n",
              "      <td>16.0</td>\n",
              "      <td>11.0</td>\n",
              "      <td>2.0</td>\n",
              "      <td>1275.0</td>\n",
              "      <td>הגדלת זכויות בניה מתחם מגורים ברחוב אירוסים 27...</td>\n",
              "      <td>דרום</td>\n",
              "      <td>מחוזית</td>\n",
              "      <td>דרום</td>\n",
              "      <td>חברה כללית / מעורבת</td>\n",
              "      <td>ערד</td>\n",
              "      <td>חברה כללית / מעורבת</td>\n",
              "      <td>26756</td>\n",
              "      <td>עירייה</td>\n",
              "      <td>2017</td>\n",
              "      <td>חדשה</td>\n",
              "      <td>2025.0</td>\n",
              "    </tr>\n",
              "    <tr>\n",
              "      <th>2</th>\n",
              "      <td>151-0392894</td>\n",
              "      <td>151-0392894-210</td>\n",
              "      <td>מגורים</td>\n",
              "      <td>960.0</td>\n",
              "      <td>180.0</td>\n",
              "      <td>0.0</td>\n",
              "      <td>0.0</td>\n",
              "      <td>2820.0</td>\n",
              "      <td>0.0</td>\n",
              "      <td>0.0</td>\n",
              "      <td>604.00</td>\n",
              "      <td>6.0</td>\n",
              "      <td>17.0</td>\n",
              "      <td>4.0</td>\n",
              "      <td>1140.0</td>\n",
              "      <td>קיבוץ צובה</td>\n",
              "      <td>ירושלים</td>\n",
              "      <td>מחוזית</td>\n",
              "      <td>ירושלים</td>\n",
              "      <td>חברה כללית / מעורבת</td>\n",
              "      <td>מטה יהודה</td>\n",
              "      <td>חברה כללית / מעורבת</td>\n",
              "      <td>625</td>\n",
              "      <td>מועצה  מקומית,מועצה אזורית,עירייה</td>\n",
              "      <td>2017</td>\n",
              "      <td>התחדשות</td>\n",
              "      <td>2820.0</td>\n",
              "    </tr>\n",
              "    <tr>\n",
              "      <th>3</th>\n",
              "      <td>151-0392894</td>\n",
              "      <td>151-0392894-22</td>\n",
              "      <td>מגורים</td>\n",
              "      <td>4800.0</td>\n",
              "      <td>960.0</td>\n",
              "      <td>0.0</td>\n",
              "      <td>0.0</td>\n",
              "      <td>15410.0</td>\n",
              "      <td>0.0</td>\n",
              "      <td>0.0</td>\n",
              "      <td>3122.00</td>\n",
              "      <td>30.0</td>\n",
              "      <td>17.0</td>\n",
              "      <td>4.0</td>\n",
              "      <td>5760.0</td>\n",
              "      <td>קיבוץ צובה</td>\n",
              "      <td>ירושלים</td>\n",
              "      <td>מחוזית</td>\n",
              "      <td>ירושלים</td>\n",
              "      <td>חברה כללית / מעורבת</td>\n",
              "      <td>מטה יהודה</td>\n",
              "      <td>חברה כללית / מעורבת</td>\n",
              "      <td>625</td>\n",
              "      <td>מועצה  מקומית,מועצה אזורית,עירייה</td>\n",
              "      <td>2017</td>\n",
              "      <td>התחדשות</td>\n",
              "      <td>15410.0</td>\n",
              "    </tr>\n",
              "    <tr>\n",
              "      <th>4</th>\n",
              "      <td>151-0392894</td>\n",
              "      <td>151-0392894-10</td>\n",
              "      <td>מגורים</td>\n",
              "      <td>640.0</td>\n",
              "      <td>120.0</td>\n",
              "      <td>0.0</td>\n",
              "      <td>0.0</td>\n",
              "      <td>1600.0</td>\n",
              "      <td>0.0</td>\n",
              "      <td>0.0</td>\n",
              "      <td>360.00</td>\n",
              "      <td>4.0</td>\n",
              "      <td>17.0</td>\n",
              "      <td>4.0</td>\n",
              "      <td>760.0</td>\n",
              "      <td>קיבוץ צובה</td>\n",
              "      <td>ירושלים</td>\n",
              "      <td>מחוזית</td>\n",
              "      <td>ירושלים</td>\n",
              "      <td>חברה כללית / מעורבת</td>\n",
              "      <td>מטה יהודה</td>\n",
              "      <td>חברה כללית / מעורבת</td>\n",
              "      <td>625</td>\n",
              "      <td>מועצה  מקומית,מועצה אזורית,עירייה</td>\n",
              "      <td>2017</td>\n",
              "      <td>התחדשות</td>\n",
              "      <td>1600.0</td>\n",
              "    </tr>\n",
              "  </tbody>\n",
              "</table>\n",
              "</div>\n",
              "      <button class=\"colab-df-convert\" onclick=\"convertToInteractive('df-6885304c-268d-49ee-bdc6-f80c7ba44f98')\"\n",
              "              title=\"Convert this dataframe to an interactive table.\"\n",
              "              style=\"display:none;\">\n",
              "        \n",
              "  <svg xmlns=\"http://www.w3.org/2000/svg\" height=\"24px\"viewBox=\"0 0 24 24\"\n",
              "       width=\"24px\">\n",
              "    <path d=\"M0 0h24v24H0V0z\" fill=\"none\"/>\n",
              "    <path d=\"M18.56 5.44l.94 2.06.94-2.06 2.06-.94-2.06-.94-.94-2.06-.94 2.06-2.06.94zm-11 1L8.5 8.5l.94-2.06 2.06-.94-2.06-.94L8.5 2.5l-.94 2.06-2.06.94zm10 10l.94 2.06.94-2.06 2.06-.94-2.06-.94-.94-2.06-.94 2.06-2.06.94z\"/><path d=\"M17.41 7.96l-1.37-1.37c-.4-.4-.92-.59-1.43-.59-.52 0-1.04.2-1.43.59L10.3 9.45l-7.72 7.72c-.78.78-.78 2.05 0 2.83L4 21.41c.39.39.9.59 1.41.59.51 0 1.02-.2 1.41-.59l7.78-7.78 2.81-2.81c.8-.78.8-2.07 0-2.86zM5.41 20L4 18.59l7.72-7.72 1.47 1.35L5.41 20z\"/>\n",
              "  </svg>\n",
              "      </button>\n",
              "      \n",
              "  <style>\n",
              "    .colab-df-container {\n",
              "      display:flex;\n",
              "      flex-wrap:wrap;\n",
              "      gap: 12px;\n",
              "    }\n",
              "\n",
              "    .colab-df-convert {\n",
              "      background-color: #E8F0FE;\n",
              "      border: none;\n",
              "      border-radius: 50%;\n",
              "      cursor: pointer;\n",
              "      display: none;\n",
              "      fill: #1967D2;\n",
              "      height: 32px;\n",
              "      padding: 0 0 0 0;\n",
              "      width: 32px;\n",
              "    }\n",
              "\n",
              "    .colab-df-convert:hover {\n",
              "      background-color: #E2EBFA;\n",
              "      box-shadow: 0px 1px 2px rgba(60, 64, 67, 0.3), 0px 1px 3px 1px rgba(60, 64, 67, 0.15);\n",
              "      fill: #174EA6;\n",
              "    }\n",
              "\n",
              "    [theme=dark] .colab-df-convert {\n",
              "      background-color: #3B4455;\n",
              "      fill: #D2E3FC;\n",
              "    }\n",
              "\n",
              "    [theme=dark] .colab-df-convert:hover {\n",
              "      background-color: #434B5C;\n",
              "      box-shadow: 0px 1px 3px 1px rgba(0, 0, 0, 0.15);\n",
              "      filter: drop-shadow(0px 1px 2px rgba(0, 0, 0, 0.3));\n",
              "      fill: #FFFFFF;\n",
              "    }\n",
              "  </style>\n",
              "\n",
              "      <script>\n",
              "        const buttonEl =\n",
              "          document.querySelector('#df-6885304c-268d-49ee-bdc6-f80c7ba44f98 button.colab-df-convert');\n",
              "        buttonEl.style.display =\n",
              "          google.colab.kernel.accessAllowed ? 'block' : 'none';\n",
              "\n",
              "        async function convertToInteractive(key) {\n",
              "          const element = document.querySelector('#df-6885304c-268d-49ee-bdc6-f80c7ba44f98');\n",
              "          const dataTable =\n",
              "            await google.colab.kernel.invokeFunction('convertToInteractive',\n",
              "                                                     [key], {});\n",
              "          if (!dataTable) return;\n",
              "\n",
              "          const docLinkHtml = 'Like what you see? Visit the ' +\n",
              "            '<a target=\"_blank\" href=https://colab.research.google.com/notebooks/data_table.ipynb>data table notebook</a>'\n",
              "            + ' to learn more about interactive tables.';\n",
              "          element.innerHTML = '';\n",
              "          dataTable['output_type'] = 'display_data';\n",
              "          await google.colab.output.renderOutput(dataTable, element);\n",
              "          const docLink = document.createElement('div');\n",
              "          docLink.innerHTML = docLinkHtml;\n",
              "          element.appendChild(docLink);\n",
              "        }\n",
              "      </script>\n",
              "    </div>\n",
              "  </div>\n",
              "  "
            ],
            "text/plain": [
              "     PL_NUMBER          PL_AREA  ... CONSTRUCTION_TYPE_GROUP  CELL_SIZE\n",
              "0  610-0197038  610-0197038-102  ...                    חדשה     2466.0\n",
              "1  610-0197038  610-0197038-101  ...                    חדשה     2025.0\n",
              "2  151-0392894  151-0392894-210  ...                 התחדשות     2820.0\n",
              "3  151-0392894   151-0392894-22  ...                 התחדשות    15410.0\n",
              "4  151-0392894   151-0392894-10  ...                 התחדשות     1600.0\n",
              "\n",
              "[5 rows x 27 columns]"
            ]
          },
          "metadata": {},
          "execution_count": 5
        }
      ]
    },
    {
      "cell_type": "code",
      "source": [
        "data['PL_NUMBER'].str.contains('תמל').sum()"
      ],
      "metadata": {
        "id": "AdkVmcDY-JYg",
        "outputId": "c2fbc303-c801-40bb-a94a-3ecc5e280189",
        "colab": {
          "base_uri": "https://localhost:8080/"
        }
      },
      "execution_count": 6,
      "outputs": [
        {
          "output_type": "execute_result",
          "data": {
            "text/plain": [
              "5147"
            ]
          },
          "metadata": {},
          "execution_count": 6
        }
      ]
    },
    {
      "cell_type": "code",
      "source": [
        "data['IS_TAMAL'] = data['PL_NUMBER'].apply(lambda x: 1 if 'תמל' in x else 0)\n",
        "data['IS_TAMAL'].value_counts()"
      ],
      "metadata": {
        "id": "-3nG8IKs-Wzt",
        "outputId": "6b80b928-09cc-4c33-c73f-378abee23c54",
        "colab": {
          "base_uri": "https://localhost:8080/"
        }
      },
      "execution_count": 7,
      "outputs": [
        {
          "output_type": "execute_result",
          "data": {
            "text/plain": [
              "0    8562\n",
              "1    5147\n",
              "Name: IS_TAMAL, dtype: int64"
            ]
          },
          "metadata": {},
          "execution_count": 7
        }
      ]
    },
    {
      "cell_type": "code",
      "source": [
        "data['LANDUSE'].value_counts()"
      ],
      "metadata": {
        "id": "xEvBQ5894ZiK",
        "colab": {
          "base_uri": "https://localhost:8080/"
        },
        "outputId": "55aff7ad-4644-4014-ad30-dfb7689b31ad"
      },
      "execution_count": 8,
      "outputs": [
        {
          "output_type": "execute_result",
          "data": {
            "text/plain": [
              "מגורים                                13344\n",
              "מגורים ומסחר                            154\n",
              "מגורים מסחר ותעסוקה                      81\n",
              "מגורים מסחר ותיירות                      74\n",
              "מגורים ותיירות                           19\n",
              "מגורים ומבנים ומוסדות ציבור              10\n",
              "מגורים מסחר ומבנים ומוסדות ציבור          6\n",
              "מגורים תעסוקה ותיירות                     6\n",
              "מגורים ודיור מיוחד                        3\n",
              "מגורים ומשרדים                            2\n",
              "מגורים מסחר ותחבורה                       2\n",
              "מגורים ותעסוקה                            2\n",
              "תתתת מגורים ב                             2\n",
              "מגורים תעסוקה ומבנים ומוסדות ציבור        1\n",
              "מגורים ואירוח כפרי                        1\n",
              "מגורים תיירות ומבנים ומוסדות ציבור        1\n",
              "מגורים ותחבורה                            1\n",
              "Name: LANDUSE, dtype: int64"
            ]
          },
          "metadata": {},
          "execution_count": 8
        }
      ]
    },
    {
      "cell_type": "code",
      "source": [
        "data['LANDUSE'] = data['LANDUSE'].mask(data['LANDUSE'] != 'מגורים', 'מגורים משולב')"
      ],
      "metadata": {
        "id": "AkzEvXcm9AZ4"
      },
      "execution_count": 9,
      "outputs": []
    },
    {
      "cell_type": "code",
      "source": [
        "data['LANDUSE'].value_counts()"
      ],
      "metadata": {
        "colab": {
          "base_uri": "https://localhost:8080/"
        },
        "id": "Zo7e6x6g9gHu",
        "outputId": "3c0f58ae-0a3e-416a-d0d8-6e7b5dd0b498"
      },
      "execution_count": 10,
      "outputs": [
        {
          "output_type": "execute_result",
          "data": {
            "text/plain": [
              "מגורים          13344\n",
              "מגורים משולב      365\n",
              "Name: LANDUSE, dtype: int64"
            ]
          },
          "metadata": {},
          "execution_count": 10
        }
      ]
    },
    {
      "cell_type": "markdown",
      "source": [
        "Now let's explore the Main & Service columns."
      ],
      "metadata": {
        "id": "QxW-_-1mey70"
      }
    },
    {
      "cell_type": "code",
      "source": [
        "data[[\"MAIN_ABOVE\",\"SERVICE_ABOVE\"]].boxplot()"
      ],
      "metadata": {
        "colab": {
          "base_uri": "https://localhost:8080/",
          "height": 283
        },
        "id": "Gv0mvqTrS2Ux",
        "outputId": "de38a025-8b1a-4e2e-ed0e-e0c84b6124ec"
      },
      "execution_count": 11,
      "outputs": [
        {
          "output_type": "execute_result",
          "data": {
            "text/plain": [
              "<matplotlib.axes._subplots.AxesSubplot at 0x7f7433442bd0>"
            ]
          },
          "metadata": {},
          "execution_count": 11
        },
        {
          "output_type": "display_data",
          "data": {
            "image/png": "[encoded data removed]",
            "text/plain": [
              "<Figure size 432x288 with 1 Axes>"
            ]
          },
          "metadata": {
            "needs_background": "light"
          }
        }
      ]
    },
    {
      "cell_type": "markdown",
      "source": [
        "The outliers are probably mistakes. let's see the distribution:"
      ],
      "metadata": {
        "id": "k-sgiP2qToMQ"
      }
    },
    {
      "cell_type": "code",
      "source": [
        "sns.histplot(data=data, x=\"MAIN_ABOVE\", bins=100, kde=True)"
      ],
      "metadata": {
        "colab": {
          "base_uri": "https://localhost:8080/",
          "height": 297
        },
        "id": "5jB1Jo90av5F",
        "outputId": "66dea8eb-5a27-4075-a434-76621d6e8a5a"
      },
      "execution_count": 12,
      "outputs": [
        {
          "output_type": "execute_result",
          "data": {
            "text/plain": [
              "<matplotlib.axes._subplots.AxesSubplot at 0x7f743333bad0>"
            ]
          },
          "metadata": {},
          "execution_count": 12
        },
        {
          "output_type": "display_data",
          "data": {
            "image/png": "[encoded data removed]",
            "text/plain": [
              "<Figure size 432x288 with 1 Axes>"
            ]
          },
          "metadata": {
            "needs_background": "light"
          }
        }
      ]
    },
    {
      "cell_type": "code",
      "source": [
        "data.iloc[:, 3].describe(percentiles=np.arange(0.05, 1, .05))"
      ],
      "metadata": {
        "colab": {
          "base_uri": "https://localhost:8080/"
        },
        "id": "Hw4OU1SZb9qF",
        "outputId": "8e1d2a5e-f5ef-462d-eed1-316e4931ce76"
      },
      "execution_count": 13,
      "outputs": [
        {
          "output_type": "execute_result",
          "data": {
            "text/plain": [
              "count     13709.000000\n",
              "mean       1945.182818\n",
              "std        3787.593473\n",
              "min           0.000000\n",
              "5%          190.000000\n",
              "10%         220.000000\n",
              "15%         280.000000\n",
              "20%         320.000000\n",
              "25%         391.400000\n",
              "30%         449.472000\n",
              "35%         512.992000\n",
              "40%         574.560000\n",
              "45%         621.000000\n",
              "50%         696.300000\n",
              "55%         767.000000\n",
              "60%         850.000000\n",
              "65%         982.000000\n",
              "70%        1197.840000\n",
              "75%        1539.000000\n",
              "80%        2150.000000\n",
              "85%        3515.600000\n",
              "90%        5348.800000\n",
              "95%        8580.000000\n",
              "max      143759.249400\n",
              "Name: MAIN_ABOVE, dtype: float64"
            ]
          },
          "metadata": {},
          "execution_count": 13
        }
      ]
    },
    {
      "cell_type": "code",
      "source": [
        "filter_main_above = data['MAIN_ABOVE'] <= 8580\n",
        "filtered_data = data.loc[filter_main_above]"
      ],
      "metadata": {
        "id": "72cARpwTVY7y"
      },
      "execution_count": 14,
      "outputs": []
    },
    {
      "cell_type": "markdown",
      "source": [
        "Let's explore how many rows we have now, and the main and service data."
      ],
      "metadata": {
        "id": "mFEk64E4WkWw"
      }
    },
    {
      "cell_type": "code",
      "source": [
        "print(\"Remaining rows:\", filtered_data.shape[0], filtered_data.shape[0]/data.shape[0])"
      ],
      "metadata": {
        "colab": {
          "base_uri": "https://localhost:8080/"
        },
        "id": "a89_ZUtEW0HX",
        "outputId": "fe1cb39a-dfd5-47d2-c055-93bb7eb386bb"
      },
      "execution_count": 15,
      "outputs": [
        {
          "output_type": "stream",
          "name": "stdout",
          "text": [
            "Remaining rows: 13024 0.9500328251513604\n"
          ]
        }
      ]
    },
    {
      "cell_type": "code",
      "source": [
        "sns.histplot(data=filtered_data, x=\"MAIN_ABOVE\", bins=100, kde=True)"
      ],
      "metadata": {
        "colab": {
          "base_uri": "https://localhost:8080/",
          "height": 297
        },
        "id": "izs8Bsh6aToH",
        "outputId": "ca19e088-829f-4d3b-9ba0-5d5787482799"
      },
      "execution_count": 16,
      "outputs": [
        {
          "output_type": "execute_result",
          "data": {
            "text/plain": [
              "<matplotlib.axes._subplots.AxesSubplot at 0x7f7428555310>"
            ]
          },
          "metadata": {},
          "execution_count": 16
        },
        {
          "output_type": "display_data",
          "data": {
            "image/png": "[encoded data removed]",
            "text/plain": [
              "<Figure size 432x288 with 1 Axes>"
            ]
          },
          "metadata": {
            "needs_background": "light"
          }
        }
      ]
    },
    {
      "cell_type": "markdown",
      "source": [
        "Let's do the same for the Service column."
      ],
      "metadata": {
        "id": "fcVm_7JCfGAr"
      }
    },
    {
      "cell_type": "code",
      "source": [
        "sns.histplot(data=filtered_data, x=\"SERVICE_ABOVE\", bins=100, kde=True)"
      ],
      "metadata": {
        "id": "MttTmxZcfCOD",
        "outputId": "65f2dde8-4e17-40eb-dfb6-d248657d7edc",
        "colab": {
          "base_uri": "https://localhost:8080/",
          "height": 297
        }
      },
      "execution_count": 17,
      "outputs": [
        {
          "output_type": "execute_result",
          "data": {
            "text/plain": [
              "<matplotlib.axes._subplots.AxesSubplot at 0x7f742837b910>"
            ]
          },
          "metadata": {},
          "execution_count": 17
        },
        {
          "output_type": "display_data",
          "data": {
            "image/png": "[encoded data removed]",
            "text/plain": [
              "<Figure size 432x288 with 1 Axes>"
            ]
          },
          "metadata": {
            "needs_background": "light"
          }
        }
      ]
    },
    {
      "cell_type": "code",
      "source": [
        "filtered_data.iloc[:, 4].describe(percentiles=np.arange(0.05, 1, .05))"
      ],
      "metadata": {
        "id": "HghAYRZCfhaM",
        "outputId": "3fef0d46-09c8-4786-94f9-a57a3784824f",
        "colab": {
          "base_uri": "https://localhost:8080/"
        }
      },
      "execution_count": 18,
      "outputs": [
        {
          "output_type": "execute_result",
          "data": {
            "text/plain": [
              "count    13024.000000\n",
              "mean       453.399652\n",
              "std        732.652339\n",
              "min          0.000000\n",
              "5%          40.000000\n",
              "10%         50.000000\n",
              "15%         60.000000\n",
              "20%         70.000000\n",
              "25%         80.000000\n",
              "30%         92.535000\n",
              "35%        111.000000\n",
              "40%        124.000000\n",
              "45%        155.000000\n",
              "50%        182.900000\n",
              "55%        201.000000\n",
              "60%        235.000000\n",
              "65%        270.000000\n",
              "70%        320.764000\n",
              "75%        425.000000\n",
              "80%        550.000000\n",
              "85%        760.000000\n",
              "90%       1300.000000\n",
              "95%       2220.000000\n",
              "max       9910.000000\n",
              "Name: SERVICE_ABOVE, dtype: float64"
            ]
          },
          "metadata": {},
          "execution_count": 18
        }
      ]
    },
    {
      "cell_type": "code",
      "source": [
        "filter_service_above = filtered_data['SERVICE_ABOVE'] <= 2220\n",
        "filtered_data = filtered_data.loc[filter_service_above]"
      ],
      "metadata": {
        "id": "6eNZnH4kf0LU"
      },
      "execution_count": 19,
      "outputs": []
    },
    {
      "cell_type": "code",
      "source": [
        "print(\"Remaining rows:\", filtered_data.shape[0], filtered_data.shape[0]/data.shape[0])"
      ],
      "metadata": {
        "id": "L6ggWHhwgB1K",
        "outputId": "e647d771-47bc-4e42-cb67-1e312eb0a399",
        "colab": {
          "base_uri": "https://localhost:8080/"
        }
      },
      "execution_count": 20,
      "outputs": [
        {
          "output_type": "stream",
          "name": "stdout",
          "text": [
            "Remaining rows: 12373 0.9025457728499526\n"
          ]
        }
      ]
    },
    {
      "cell_type": "code",
      "source": [
        "sns.histplot(data=filtered_data, x=\"SERVICE_ABOVE\", bins=100, kde=True)"
      ],
      "metadata": {
        "id": "uhHb9nyGgNK6",
        "outputId": "8cb85385-7e88-42a0-d026-a7bd08d719eb",
        "colab": {
          "base_uri": "https://localhost:8080/",
          "height": 297
        }
      },
      "execution_count": 21,
      "outputs": [
        {
          "output_type": "execute_result",
          "data": {
            "text/plain": [
              "<matplotlib.axes._subplots.AxesSubplot at 0x7f74281f5ed0>"
            ]
          },
          "metadata": {},
          "execution_count": 21
        },
        {
          "output_type": "display_data",
          "data": {
            "image/png": "[encoded data removed]",
            "text/plain": [
              "<Figure size 432x288 with 1 Axes>"
            ]
          },
          "metadata": {
            "needs_background": "light"
          }
        }
      ]
    },
    {
      "cell_type": "markdown",
      "source": [
        "The determining entrance is 0th floor.\n",
        "<BR>\n",
        "Above/Under at the columns names refers to the determining entrance.<BR>\n",
        "As part of the project I will try to predict only the above areas.<BR> The under areas are not relevant for now, so I will ignore them. "
      ],
      "metadata": {
        "id": "wvj_OBQEgu7L"
      }
    },
    {
      "cell_type": "markdown",
      "source": [
        "Those columns ['CELL_SIZE_TOTAL', 'CELL_SIZE_MIN',\n",
        "       'CELL_SIZE_MAX'] describe the cell size."
      ],
      "metadata": {
        "id": "DJf_h9v3h77a"
      }
    },
    {
      "cell_type": "code",
      "source": [
        "filtered_data[['CELL_SIZE_TOTAL', 'CELL_SIZE_MIN', 'CELL_SIZE_MAX']].describe()"
      ],
      "metadata": {
        "id": "DgOES3JFnv2n",
        "outputId": "dc0a3d85-6145-4229-f03f-b5d9f32a1b3e",
        "colab": {
          "base_uri": "https://localhost:8080/",
          "height": 300
        }
      },
      "execution_count": 22,
      "outputs": [
        {
          "output_type": "execute_result",
          "data": {
            "text/html": [
              "\n",
              "  <div id=\"df-e67554d8-3948-46a8-8b15-263cba3f4e64\">\n",
              "    <div class=\"colab-df-container\">\n",
              "      <div>\n",
              "<style scoped>\n",
              "    .dataframe tbody tr th:only-of-type {\n",
              "        vertical-align: middle;\n",
              "    }\n",
              "\n",
              "    .dataframe tbody tr th {\n",
              "        vertical-align: top;\n",
              "    }\n",
              "\n",
              "    .dataframe thead th {\n",
              "        text-align: right;\n",
              "    }\n",
              "</style>\n",
              "<table border=\"1\" class=\"dataframe\">\n",
              "  <thead>\n",
              "    <tr style=\"text-align: right;\">\n",
              "      <th></th>\n",
              "      <th>CELL_SIZE_TOTAL</th>\n",
              "      <th>CELL_SIZE_MIN</th>\n",
              "      <th>CELL_SIZE_MAX</th>\n",
              "    </tr>\n",
              "  </thead>\n",
              "  <tbody>\n",
              "    <tr>\n",
              "      <th>count</th>\n",
              "      <td>12373.000000</td>\n",
              "      <td>12373.000000</td>\n",
              "      <td>12373.000000</td>\n",
              "    </tr>\n",
              "    <tr>\n",
              "      <th>mean</th>\n",
              "      <td>915.024729</td>\n",
              "      <td>204.636008</td>\n",
              "      <td>15.372518</td>\n",
              "    </tr>\n",
              "    <tr>\n",
              "      <th>std</th>\n",
              "      <td>1735.648840</td>\n",
              "      <td>687.801227</td>\n",
              "      <td>185.583836</td>\n",
              "    </tr>\n",
              "    <tr>\n",
              "      <th>min</th>\n",
              "      <td>0.000000</td>\n",
              "      <td>0.000000</td>\n",
              "      <td>0.000000</td>\n",
              "    </tr>\n",
              "    <tr>\n",
              "      <th>25%</th>\n",
              "      <td>329.000000</td>\n",
              "      <td>0.000000</td>\n",
              "      <td>0.000000</td>\n",
              "    </tr>\n",
              "    <tr>\n",
              "      <th>50%</th>\n",
              "      <td>575.000000</td>\n",
              "      <td>0.000000</td>\n",
              "      <td>0.000000</td>\n",
              "    </tr>\n",
              "    <tr>\n",
              "      <th>75%</th>\n",
              "      <td>998.000000</td>\n",
              "      <td>0.000000</td>\n",
              "      <td>0.000000</td>\n",
              "    </tr>\n",
              "    <tr>\n",
              "      <th>max</th>\n",
              "      <td>63924.000000</td>\n",
              "      <td>32000.000000</td>\n",
              "      <td>5575.000000</td>\n",
              "    </tr>\n",
              "  </tbody>\n",
              "</table>\n",
              "</div>\n",
              "      <button class=\"colab-df-convert\" onclick=\"convertToInteractive('df-e67554d8-3948-46a8-8b15-263cba3f4e64')\"\n",
              "              title=\"Convert this dataframe to an interactive table.\"\n",
              "              style=\"display:none;\">\n",
              "        \n",
              "  <svg xmlns=\"http://www.w3.org/2000/svg\" height=\"24px\"viewBox=\"0 0 24 24\"\n",
              "       width=\"24px\">\n",
              "    <path d=\"M0 0h24v24H0V0z\" fill=\"none\"/>\n",
              "    <path d=\"M18.56 5.44l.94 2.06.94-2.06 2.06-.94-2.06-.94-.94-2.06-.94 2.06-2.06.94zm-11 1L8.5 8.5l.94-2.06 2.06-.94-2.06-.94L8.5 2.5l-.94 2.06-2.06.94zm10 10l.94 2.06.94-2.06 2.06-.94-2.06-.94-.94-2.06-.94 2.06-2.06.94z\"/><path d=\"M17.41 7.96l-1.37-1.37c-.4-.4-.92-.59-1.43-.59-.52 0-1.04.2-1.43.59L10.3 9.45l-7.72 7.72c-.78.78-.78 2.05 0 2.83L4 21.41c.39.39.9.59 1.41.59.51 0 1.02-.2 1.41-.59l7.78-7.78 2.81-2.81c.8-.78.8-2.07 0-2.86zM5.41 20L4 18.59l7.72-7.72 1.47 1.35L5.41 20z\"/>\n",
              "  </svg>\n",
              "      </button>\n",
              "      \n",
              "  <style>\n",
              "    .colab-df-container {\n",
              "      display:flex;\n",
              "      flex-wrap:wrap;\n",
              "      gap: 12px;\n",
              "    }\n",
              "\n",
              "    .colab-df-convert {\n",
              "      background-color: #E8F0FE;\n",
              "      border: none;\n",
              "      border-radius: 50%;\n",
              "      cursor: pointer;\n",
              "      display: none;\n",
              "      fill: #1967D2;\n",
              "      height: 32px;\n",
              "      padding: 0 0 0 0;\n",
              "      width: 32px;\n",
              "    }\n",
              "\n",
              "    .colab-df-convert:hover {\n",
              "      background-color: #E2EBFA;\n",
              "      box-shadow: 0px 1px 2px rgba(60, 64, 67, 0.3), 0px 1px 3px 1px rgba(60, 64, 67, 0.15);\n",
              "      fill: #174EA6;\n",
              "    }\n",
              "\n",
              "    [theme=dark] .colab-df-convert {\n",
              "      background-color: #3B4455;\n",
              "      fill: #D2E3FC;\n",
              "    }\n",
              "\n",
              "    [theme=dark] .colab-df-convert:hover {\n",
              "      background-color: #434B5C;\n",
              "      box-shadow: 0px 1px 3px 1px rgba(0, 0, 0, 0.15);\n",
              "      filter: drop-shadow(0px 1px 2px rgba(0, 0, 0, 0.3));\n",
              "      fill: #FFFFFF;\n",
              "    }\n",
              "  </style>\n",
              "\n",
              "      <script>\n",
              "        const buttonEl =\n",
              "          document.querySelector('#df-e67554d8-3948-46a8-8b15-263cba3f4e64 button.colab-df-convert');\n",
              "        buttonEl.style.display =\n",
              "          google.colab.kernel.accessAllowed ? 'block' : 'none';\n",
              "\n",
              "        async function convertToInteractive(key) {\n",
              "          const element = document.querySelector('#df-e67554d8-3948-46a8-8b15-263cba3f4e64');\n",
              "          const dataTable =\n",
              "            await google.colab.kernel.invokeFunction('convertToInteractive',\n",
              "                                                     [key], {});\n",
              "          if (!dataTable) return;\n",
              "\n",
              "          const docLinkHtml = 'Like what you see? Visit the ' +\n",
              "            '<a target=\"_blank\" href=https://colab.research.google.com/notebooks/data_table.ipynb>data table notebook</a>'\n",
              "            + ' to learn more about interactive tables.';\n",
              "          element.innerHTML = '';\n",
              "          dataTable['output_type'] = 'display_data';\n",
              "          await google.colab.output.renderOutput(dataTable, element);\n",
              "          const docLink = document.createElement('div');\n",
              "          docLink.innerHTML = docLinkHtml;\n",
              "          element.appendChild(docLink);\n",
              "        }\n",
              "      </script>\n",
              "    </div>\n",
              "  </div>\n",
              "  "
            ],
            "text/plain": [
              "       CELL_SIZE_TOTAL  CELL_SIZE_MIN  CELL_SIZE_MAX\n",
              "count     12373.000000   12373.000000   12373.000000\n",
              "mean        915.024729     204.636008      15.372518\n",
              "std        1735.648840     687.801227     185.583836\n",
              "min           0.000000       0.000000       0.000000\n",
              "25%         329.000000       0.000000       0.000000\n",
              "50%         575.000000       0.000000       0.000000\n",
              "75%         998.000000       0.000000       0.000000\n",
              "max       63924.000000   32000.000000    5575.000000"
            ]
          },
          "metadata": {},
          "execution_count": 22
        }
      ]
    },
    {
      "cell_type": "code",
      "source": [
        "filtered_data.info()"
      ],
      "metadata": {
        "id": "GbIydkENqGhd",
        "outputId": "f62d3cd2-8186-47f8-f4c0-41f6089b4ab0",
        "colab": {
          "base_uri": "https://localhost:8080/"
        }
      },
      "execution_count": 23,
      "outputs": [
        {
          "output_type": "stream",
          "name": "stdout",
          "text": [
            "<class 'pandas.core.frame.DataFrame'>\n",
            "Int64Index: 12373 entries, 0 to 13708\n",
            "Data columns (total 28 columns):\n",
            " #   Column                   Non-Null Count  Dtype  \n",
            "---  ------                   --------------  -----  \n",
            " 0   PL_NUMBER                12373 non-null  object \n",
            " 1   PL_AREA                  12373 non-null  object \n",
            " 2   LANDUSE                  12373 non-null  object \n",
            " 3   MAIN_ABOVE               12373 non-null  float64\n",
            " 4   SERVICE_ABOVE            12373 non-null  float64\n",
            " 5   MAIN_UNDER               12373 non-null  float64\n",
            " 6   SERVICE_UNDER            12373 non-null  float64\n",
            " 7   CELL_SIZE_TOTAL          12373 non-null  float64\n",
            " 8   CELL_SIZE_MIN            12373 non-null  float64\n",
            " 9   CELL_SIZE_MAX            12373 non-null  float64\n",
            " 10  COVERED_AREA             12373 non-null  float64\n",
            " 11  HOUSING_UNITS            12373 non-null  float64\n",
            " 12  BUILDING_HEIGHT          12373 non-null  float64\n",
            " 13  FLOORS_NUM               12373 non-null  float64\n",
            " 14  TOTAL_ABOVE              12373 non-null  float64\n",
            " 15  PL_NAME                  12373 non-null  object \n",
            " 16  PL_INSTITUTION           12373 non-null  object \n",
            " 17  AUTHORITY                12373 non-null  object \n",
            " 18  DISTRICT                 12373 non-null  object \n",
            " 19  SECTOR_GROUP             12373 non-null  object \n",
            " 20  AREA                     12217 non-null  object \n",
            " 21  SECTOR                   12373 non-null  object \n",
            " 22  POPULATION               12373 non-null  object \n",
            " 23  MUNICIPAL_AREA_STATUS    12217 non-null  object \n",
            " 24  CONFIRMATION_YEAR        12373 non-null  int64  \n",
            " 25  CONSTRUCTION_TYPE_GROUP  12368 non-null  object \n",
            " 26  CELL_SIZE                12373 non-null  float64\n",
            " 27  IS_TAMAL                 12373 non-null  int64  \n",
            "dtypes: float64(13), int64(2), object(13)\n",
            "memory usage: 2.7+ MB\n"
          ]
        }
      ]
    },
    {
      "cell_type": "markdown",
      "source": [
        "Let's handle null values:"
      ],
      "metadata": {
        "id": "_IZOF0I9qmYE"
      }
    },
    {
      "cell_type": "code",
      "source": [
        "filtered_data.isnull().sum()"
      ],
      "metadata": {
        "id": "3h4W2P3hqp-T",
        "outputId": "8105b885-c9d6-4221-b8ab-cbeecf5d2004",
        "colab": {
          "base_uri": "https://localhost:8080/"
        }
      },
      "execution_count": 32,
      "outputs": [
        {
          "output_type": "execute_result",
          "data": {
            "text/plain": [
              "PL_NUMBER                    0\n",
              "PL_AREA                      0\n",
              "LANDUSE                      0\n",
              "MAIN_ABOVE                   0\n",
              "SERVICE_ABOVE                0\n",
              "MAIN_UNDER                   0\n",
              "SERVICE_UNDER                0\n",
              "CELL_SIZE_TOTAL              0\n",
              "CELL_SIZE_MIN                0\n",
              "CELL_SIZE_MAX                0\n",
              "COVERED_AREA                 0\n",
              "HOUSING_UNITS                0\n",
              "BUILDING_HEIGHT              0\n",
              "FLOORS_NUM                   0\n",
              "TOTAL_ABOVE                  0\n",
              "PL_NAME                      0\n",
              "PL_INSTITUTION               0\n",
              "AUTHORITY                    0\n",
              "DISTRICT                     0\n",
              "SECTOR_GROUP                 0\n",
              "AREA                       156\n",
              "SECTOR                       0\n",
              "POPULATION                   0\n",
              "MUNICIPAL_AREA_STATUS      156\n",
              "CONFIRMATION_YEAR            0\n",
              "CONSTRUCTION_TYPE_GROUP      5\n",
              "CELL_SIZE                    0\n",
              "IS_TAMAL                     0\n",
              "dtype: int64"
            ]
          },
          "metadata": {},
          "execution_count": 32
        }
      ]
    },
    {
      "cell_type": "code",
      "source": [
        "filtered_data['AREA'].value_counts()"
      ],
      "metadata": {
        "id": "47gLngXdrY2w",
        "outputId": "f6cd5156-720d-4a1a-de4b-39aadd82286a",
        "colab": {
          "base_uri": "https://localhost:8080/"
        }
      },
      "execution_count": 33,
      "outputs": [
        {
          "output_type": "execute_result",
          "data": {
            "text/plain": [
              "עירון         865\n",
              "ירושלים       799\n",
              "קסם           541\n",
              "שפלת הגליל    510\n",
              "טירה          509\n",
              "             ... \n",
              "חולון           1\n",
              "אזור            1\n",
              "כפר יונה        1\n",
              "אופקים          1\n",
              "אלעד            1\n",
              "Name: AREA, Length: 125, dtype: int64"
            ]
          },
          "metadata": {},
          "execution_count": 33
        }
      ]
    },
    {
      "cell_type": "code",
      "source": [
        "filtered_data['MUNICIPAL_AREA_STATUS'].value_counts()"
      ],
      "metadata": {
        "id": "DOBBUIQlriq5",
        "outputId": "9f4d0ebe-ddec-435b-e0d5-a23bc23b3b39",
        "colab": {
          "base_uri": "https://localhost:8080/"
        }
      },
      "execution_count": 34,
      "outputs": [
        {
          "output_type": "execute_result",
          "data": {
            "text/plain": [
              "עירייה                               3707\n",
              "מועצה  מקומית,עירייה                 3082\n",
              "מועצה  מקומית,מועצה אזורית,עירייה    2535\n",
              "מועצה  מקומית                        1702\n",
              "מועצה אזורית,עירייה                   638\n",
              "מועצה  מקומית,מועצה אזורית            441\n",
              "מועצה אזורית                          112\n",
              "Name: MUNICIPAL_AREA_STATUS, dtype: int64"
            ]
          },
          "metadata": {},
          "execution_count": 34
        }
      ]
    },
    {
      "cell_type": "code",
      "source": [
        "filtered_data['CONSTRUCTION_TYPE_GROUP'].value_counts(dropna=False)"
      ],
      "metadata": {
        "id": "tOaDxX9Hrsbo",
        "outputId": "562ac8f2-99f6-47dd-f5c9-39d70986119f",
        "colab": {
          "base_uri": "https://localhost:8080/"
        }
      },
      "execution_count": 36,
      "outputs": [
        {
          "output_type": "execute_result",
          "data": {
            "text/plain": [
              "חדשה       9412\n",
              "התחדשות    1593\n",
              "הסדרה      1363\n",
              "NaN           5\n",
              "Name: CONSTRUCTION_TYPE_GROUP, dtype: int64"
            ]
          },
          "metadata": {},
          "execution_count": 36
        }
      ]
    },
    {
      "cell_type": "code",
      "source": [
        "filtered_data['CONSTRUCTION_TYPE_GROUP'] = filtered_data['CONSTRUCTION_TYPE_GROUP'].fillna(filtered_data['CONSTRUCTION_TYPE_GROUP'].mode().iloc[0])\n",
        "filtered_data['CONSTRUCTION_TYPE_GROUP'].value_counts(dropna=False)"
      ],
      "metadata": {
        "id": "rNJ8yHqor9D3",
        "outputId": "2f07456a-ea87-446f-8775-ce35a12a7387",
        "colab": {
          "base_uri": "https://localhost:8080/"
        }
      },
      "execution_count": 38,
      "outputs": [
        {
          "output_type": "execute_result",
          "data": {
            "text/plain": [
              "חדשה       9417\n",
              "התחדשות    1593\n",
              "הסדרה      1363\n",
              "Name: CONSTRUCTION_TYPE_GROUP, dtype: int64"
            ]
          },
          "metadata": {},
          "execution_count": 38
        }
      ]
    }
  ]
}