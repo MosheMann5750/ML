{
  "nbformat": 4,
  "nbformat_minor": 0,
  "metadata": {
    "colab": {
      "name": "Untitled2.ipynb",
      "provenance": [],
      "authorship_tag": "ABX9TyPBrErnF7kI96BU4+nN1N/g",
      "include_colab_link": true
    },
    "kernelspec": {
      "name": "python3",
      "display_name": "Python 3"
    },
    "language_info": {
      "name": "python"
    }
  },
  "cells": [
    {
      "cell_type": "markdown",
      "metadata": {
        "id": "view-in-github",
        "colab_type": "text"
      },
      "source": [
        "<a href=\"https://colab.research.google.com/github/mannmoshe/machine-learning/blob/main/FinalProject/ConstructionPlans.ipynb\" target=\"_parent\"><img src=\"https://colab.research.google.com/assets/colab-badge.svg\" alt=\"Open In Colab\"/></a>"
      ]
    },
    {
      "cell_type": "markdown",
      "source": [
        "# Final Project - Construction plans<br>*By Moshe Mann*"
      ],
      "metadata": {
        "id": "ZEjIPay33abT"
      }
    },
    {
      "cell_type": "markdown",
      "source": [
        "**Overview**<br>\n",
        "The Israel Planning Administration (IPA) is handling detailed construction plans.<BR>Every detailed plan contains a lot of data, among the rest, division of main and service area.<BR><BR>Main area is the area that divided among the tenants, like the departments,<BR> and the service area is common to all tenants, like parking, stairwell etc.<BR><BR>\n",
        "In the near future the plans will not include the division between main and service area, because it is not important for the IPA as planning unit, but still, it is important data for regulation.<BR><BR> The purpose of the project is to predict the main and service areas based on the cell and plan features, so that the model can be used for regulatory purposes."
      ],
      "metadata": {
        "id": "pcfRRxNVLaMm"
      }
    },
    {
      "cell_type": "code",
      "execution_count": 1,
      "metadata": {
        "id": "_E9eo8uh3ZkZ"
      },
      "outputs": [],
      "source": [
        "import numpy as np\n",
        "import pandas as pd\n",
        "import seaborn as sns"
      ]
    },
    {
      "cell_type": "code",
      "source": [
        "data = pd.read_csv('https://raw.githubusercontent.com/mannmoshe/machine-learning/main/FinalProject/cellsData.csv')"
      ],
      "metadata": {
        "id": "ZqjZVz1jUDLC"
      },
      "execution_count": 2,
      "outputs": []
    },
    {
      "cell_type": "code",
      "source": [
        "data.shape"
      ],
      "metadata": {
        "colab": {
          "base_uri": "https://localhost:8080/"
        },
        "id": "_eEhtbV44F46",
        "outputId": "193b1396-c79e-4d15-dc73-16a327d74dd5"
      },
      "execution_count": 3,
      "outputs": [
        {
          "output_type": "execute_result",
          "data": {
            "text/plain": [
              "(13709, 16)"
            ]
          },
          "metadata": {},
          "execution_count": 3
        }
      ]
    },
    {
      "cell_type": "code",
      "source": [
        "data.info()"
      ],
      "metadata": {
        "colab": {
          "base_uri": "https://localhost:8080/"
        },
        "id": "K3gjPDzb4yoy",
        "outputId": "f39f9ff5-9eab-44a4-92a8-6608972f70ab"
      },
      "execution_count": 4,
      "outputs": [
        {
          "output_type": "stream",
          "name": "stdout",
          "text": [
            "<class 'pandas.core.frame.DataFrame'>\n",
            "RangeIndex: 13709 entries, 0 to 13708\n",
            "Data columns (total 16 columns):\n",
            " #   Column                   Non-Null Count  Dtype  \n",
            "---  ------                   --------------  -----  \n",
            " 0   PL_NUMBER                13709 non-null  object \n",
            " 1   LANDUSE                  13709 non-null  object \n",
            " 2   MAIN_AREA                13709 non-null  float64\n",
            " 3   SERVICE_AREA             13709 non-null  float64\n",
            " 4   CELL_SIZE_TOTAL          13709 non-null  float64\n",
            " 5   CELL_SIZE_MIN            13709 non-null  float64\n",
            " 6   CELL_SIZE_MAX            13709 non-null  float64\n",
            " 7   HOUSING_UNITS            13709 non-null  float64\n",
            " 8   BUILDING_HEIGHT          13709 non-null  float64\n",
            " 9   FLOORS_NUM               13709 non-null  float64\n",
            " 10  TOTAL_AREA               13709 non-null  float64\n",
            " 11  AUTHORITY                13709 non-null  object \n",
            " 12  DISTRICT                 13709 non-null  object \n",
            " 13  SECTOR_GROUP             13709 non-null  object \n",
            " 14  CONFIRMATION_YEAR        13709 non-null  int64  \n",
            " 15  CONSTRUCTION_TYPE_GROUP  13704 non-null  object \n",
            "dtypes: float64(9), int64(1), object(6)\n",
            "memory usage: 1.7+ MB\n"
          ]
        }
      ]
    },
    {
      "cell_type": "markdown",
      "source": [
        "# Add description of each column."
      ],
      "metadata": {
        "id": "cDWHufahSZIJ"
      }
    },
    {
      "cell_type": "code",
      "source": [
        "data.head()"
      ],
      "metadata": {
        "colab": {
          "base_uri": "https://localhost:8080/",
          "height": 357
        },
        "id": "NkyXW97Z4IrB",
        "outputId": "07fa170b-62b6-433f-80d4-5df35051f165"
      },
      "execution_count": 5,
      "outputs": [
        {
          "output_type": "execute_result",
          "data": {
            "text/html": [
              "\n",
              "  <div id=\"df-a9ff2cc5-c664-42c7-bf2f-029ce9de873e\">\n",
              "    <div class=\"colab-df-container\">\n",
              "      <div>\n",
              "<style scoped>\n",
              "    .dataframe tbody tr th:only-of-type {\n",
              "        vertical-align: middle;\n",
              "    }\n",
              "\n",
              "    .dataframe tbody tr th {\n",
              "        vertical-align: top;\n",
              "    }\n",
              "\n",
              "    .dataframe thead th {\n",
              "        text-align: right;\n",
              "    }\n",
              "</style>\n",
              "<table border=\"1\" class=\"dataframe\">\n",
              "  <thead>\n",
              "    <tr style=\"text-align: right;\">\n",
              "      <th></th>\n",
              "      <th>PL_NUMBER</th>\n",
              "      <th>LANDUSE</th>\n",
              "      <th>MAIN_AREA</th>\n",
              "      <th>SERVICE_AREA</th>\n",
              "      <th>CELL_SIZE_TOTAL</th>\n",
              "      <th>CELL_SIZE_MIN</th>\n",
              "      <th>CELL_SIZE_MAX</th>\n",
              "      <th>HOUSING_UNITS</th>\n",
              "      <th>BUILDING_HEIGHT</th>\n",
              "      <th>FLOORS_NUM</th>\n",
              "      <th>TOTAL_AREA</th>\n",
              "      <th>AUTHORITY</th>\n",
              "      <th>DISTRICT</th>\n",
              "      <th>SECTOR_GROUP</th>\n",
              "      <th>CONFIRMATION_YEAR</th>\n",
              "      <th>CONSTRUCTION_TYPE_GROUP</th>\n",
              "    </tr>\n",
              "  </thead>\n",
              "  <tbody>\n",
              "    <tr>\n",
              "      <th>0</th>\n",
              "      <td>610-0197038</td>\n",
              "      <td>מגורים</td>\n",
              "      <td>975.0</td>\n",
              "      <td>300.0</td>\n",
              "      <td>2466.0</td>\n",
              "      <td>0.0</td>\n",
              "      <td>0.0</td>\n",
              "      <td>16.0</td>\n",
              "      <td>11.0</td>\n",
              "      <td>2.0</td>\n",
              "      <td>1275.0</td>\n",
              "      <td>מחוזית</td>\n",
              "      <td>דרום</td>\n",
              "      <td>חברה כללית / מעורבת</td>\n",
              "      <td>2017</td>\n",
              "      <td>חדשה</td>\n",
              "    </tr>\n",
              "    <tr>\n",
              "      <th>1</th>\n",
              "      <td>610-0197038</td>\n",
              "      <td>מגורים</td>\n",
              "      <td>975.0</td>\n",
              "      <td>300.0</td>\n",
              "      <td>2025.0</td>\n",
              "      <td>0.0</td>\n",
              "      <td>0.0</td>\n",
              "      <td>16.0</td>\n",
              "      <td>11.0</td>\n",
              "      <td>2.0</td>\n",
              "      <td>1275.0</td>\n",
              "      <td>מחוזית</td>\n",
              "      <td>דרום</td>\n",
              "      <td>חברה כללית / מעורבת</td>\n",
              "      <td>2017</td>\n",
              "      <td>חדשה</td>\n",
              "    </tr>\n",
              "    <tr>\n",
              "      <th>2</th>\n",
              "      <td>151-0392894</td>\n",
              "      <td>מגורים</td>\n",
              "      <td>960.0</td>\n",
              "      <td>180.0</td>\n",
              "      <td>2820.0</td>\n",
              "      <td>0.0</td>\n",
              "      <td>0.0</td>\n",
              "      <td>6.0</td>\n",
              "      <td>17.0</td>\n",
              "      <td>4.0</td>\n",
              "      <td>1140.0</td>\n",
              "      <td>מחוזית</td>\n",
              "      <td>ירושלים</td>\n",
              "      <td>חברה כללית / מעורבת</td>\n",
              "      <td>2017</td>\n",
              "      <td>התחדשות</td>\n",
              "    </tr>\n",
              "    <tr>\n",
              "      <th>3</th>\n",
              "      <td>151-0392894</td>\n",
              "      <td>מגורים</td>\n",
              "      <td>4800.0</td>\n",
              "      <td>960.0</td>\n",
              "      <td>15410.0</td>\n",
              "      <td>0.0</td>\n",
              "      <td>0.0</td>\n",
              "      <td>30.0</td>\n",
              "      <td>17.0</td>\n",
              "      <td>4.0</td>\n",
              "      <td>5760.0</td>\n",
              "      <td>מחוזית</td>\n",
              "      <td>ירושלים</td>\n",
              "      <td>חברה כללית / מעורבת</td>\n",
              "      <td>2017</td>\n",
              "      <td>התחדשות</td>\n",
              "    </tr>\n",
              "    <tr>\n",
              "      <th>4</th>\n",
              "      <td>151-0392894</td>\n",
              "      <td>מגורים</td>\n",
              "      <td>640.0</td>\n",
              "      <td>120.0</td>\n",
              "      <td>1600.0</td>\n",
              "      <td>0.0</td>\n",
              "      <td>0.0</td>\n",
              "      <td>4.0</td>\n",
              "      <td>17.0</td>\n",
              "      <td>4.0</td>\n",
              "      <td>760.0</td>\n",
              "      <td>מחוזית</td>\n",
              "      <td>ירושלים</td>\n",
              "      <td>חברה כללית / מעורבת</td>\n",
              "      <td>2017</td>\n",
              "      <td>התחדשות</td>\n",
              "    </tr>\n",
              "  </tbody>\n",
              "</table>\n",
              "</div>\n",
              "      <button class=\"colab-df-convert\" onclick=\"convertToInteractive('df-a9ff2cc5-c664-42c7-bf2f-029ce9de873e')\"\n",
              "              title=\"Convert this dataframe to an interactive table.\"\n",
              "              style=\"display:none;\">\n",
              "        \n",
              "  <svg xmlns=\"http://www.w3.org/2000/svg\" height=\"24px\"viewBox=\"0 0 24 24\"\n",
              "       width=\"24px\">\n",
              "    <path d=\"M0 0h24v24H0V0z\" fill=\"none\"/>\n",
              "    <path d=\"M18.56 5.44l.94 2.06.94-2.06 2.06-.94-2.06-.94-.94-2.06-.94 2.06-2.06.94zm-11 1L8.5 8.5l.94-2.06 2.06-.94-2.06-.94L8.5 2.5l-.94 2.06-2.06.94zm10 10l.94 2.06.94-2.06 2.06-.94-2.06-.94-.94-2.06-.94 2.06-2.06.94z\"/><path d=\"M17.41 7.96l-1.37-1.37c-.4-.4-.92-.59-1.43-.59-.52 0-1.04.2-1.43.59L10.3 9.45l-7.72 7.72c-.78.78-.78 2.05 0 2.83L4 21.41c.39.39.9.59 1.41.59.51 0 1.02-.2 1.41-.59l7.78-7.78 2.81-2.81c.8-.78.8-2.07 0-2.86zM5.41 20L4 18.59l7.72-7.72 1.47 1.35L5.41 20z\"/>\n",
              "  </svg>\n",
              "      </button>\n",
              "      \n",
              "  <style>\n",
              "    .colab-df-container {\n",
              "      display:flex;\n",
              "      flex-wrap:wrap;\n",
              "      gap: 12px;\n",
              "    }\n",
              "\n",
              "    .colab-df-convert {\n",
              "      background-color: #E8F0FE;\n",
              "      border: none;\n",
              "      border-radius: 50%;\n",
              "      cursor: pointer;\n",
              "      display: none;\n",
              "      fill: #1967D2;\n",
              "      height: 32px;\n",
              "      padding: 0 0 0 0;\n",
              "      width: 32px;\n",
              "    }\n",
              "\n",
              "    .colab-df-convert:hover {\n",
              "      background-color: #E2EBFA;\n",
              "      box-shadow: 0px 1px 2px rgba(60, 64, 67, 0.3), 0px 1px 3px 1px rgba(60, 64, 67, 0.15);\n",
              "      fill: #174EA6;\n",
              "    }\n",
              "\n",
              "    [theme=dark] .colab-df-convert {\n",
              "      background-color: #3B4455;\n",
              "      fill: #D2E3FC;\n",
              "    }\n",
              "\n",
              "    [theme=dark] .colab-df-convert:hover {\n",
              "      background-color: #434B5C;\n",
              "      box-shadow: 0px 1px 3px 1px rgba(0, 0, 0, 0.15);\n",
              "      filter: drop-shadow(0px 1px 2px rgba(0, 0, 0, 0.3));\n",
              "      fill: #FFFFFF;\n",
              "    }\n",
              "  </style>\n",
              "\n",
              "      <script>\n",
              "        const buttonEl =\n",
              "          document.querySelector('#df-a9ff2cc5-c664-42c7-bf2f-029ce9de873e button.colab-df-convert');\n",
              "        buttonEl.style.display =\n",
              "          google.colab.kernel.accessAllowed ? 'block' : 'none';\n",
              "\n",
              "        async function convertToInteractive(key) {\n",
              "          const element = document.querySelector('#df-a9ff2cc5-c664-42c7-bf2f-029ce9de873e');\n",
              "          const dataTable =\n",
              "            await google.colab.kernel.invokeFunction('convertToInteractive',\n",
              "                                                     [key], {});\n",
              "          if (!dataTable) return;\n",
              "\n",
              "          const docLinkHtml = 'Like what you see? Visit the ' +\n",
              "            '<a target=\"_blank\" href=https://colab.research.google.com/notebooks/data_table.ipynb>data table notebook</a>'\n",
              "            + ' to learn more about interactive tables.';\n",
              "          element.innerHTML = '';\n",
              "          dataTable['output_type'] = 'display_data';\n",
              "          await google.colab.output.renderOutput(dataTable, element);\n",
              "          const docLink = document.createElement('div');\n",
              "          docLink.innerHTML = docLinkHtml;\n",
              "          element.appendChild(docLink);\n",
              "        }\n",
              "      </script>\n",
              "    </div>\n",
              "  </div>\n",
              "  "
            ],
            "text/plain": [
              "     PL_NUMBER LANDUSE  ...  CONFIRMATION_YEAR  CONSTRUCTION_TYPE_GROUP\n",
              "0  610-0197038  מגורים  ...               2017                     חדשה\n",
              "1  610-0197038  מגורים  ...               2017                     חדשה\n",
              "2  151-0392894  מגורים  ...               2017                  התחדשות\n",
              "3  151-0392894  מגורים  ...               2017                  התחדשות\n",
              "4  151-0392894  מגורים  ...               2017                  התחדשות\n",
              "\n",
              "[5 rows x 16 columns]"
            ]
          },
          "metadata": {},
          "execution_count": 5
        }
      ]
    },
    {
      "cell_type": "code",
      "source": [
        "data['PL_NUMBER'].str.contains('תמל').sum()"
      ],
      "metadata": {
        "id": "AdkVmcDY-JYg",
        "outputId": "9f67d841-10ff-410a-a266-a05d01da4ad6",
        "colab": {
          "base_uri": "https://localhost:8080/"
        }
      },
      "execution_count": 6,
      "outputs": [
        {
          "output_type": "execute_result",
          "data": {
            "text/plain": [
              "5147"
            ]
          },
          "metadata": {},
          "execution_count": 6
        }
      ]
    },
    {
      "cell_type": "code",
      "source": [
        "data['IS_TAMAL'] = data['PL_NUMBER'].apply(lambda x: 1 if 'תמל' in x else 0)\n",
        "data['IS_TAMAL'].value_counts()"
      ],
      "metadata": {
        "id": "-3nG8IKs-Wzt",
        "outputId": "9557a798-dac3-4de6-e5a0-e0cf8d1b4c7f",
        "colab": {
          "base_uri": "https://localhost:8080/"
        }
      },
      "execution_count": 7,
      "outputs": [
        {
          "output_type": "execute_result",
          "data": {
            "text/plain": [
              "0    8562\n",
              "1    5147\n",
              "Name: IS_TAMAL, dtype: int64"
            ]
          },
          "metadata": {},
          "execution_count": 7
        }
      ]
    },
    {
      "cell_type": "code",
      "source": [
        "data['LANDUSE'].value_counts()"
      ],
      "metadata": {
        "id": "xEvBQ5894ZiK",
        "colab": {
          "base_uri": "https://localhost:8080/"
        },
        "outputId": "f418158c-9595-408a-8843-ccaac7c1eba1"
      },
      "execution_count": 8,
      "outputs": [
        {
          "output_type": "execute_result",
          "data": {
            "text/plain": [
              "מגורים                                13344\n",
              "מגורים ומסחר                            154\n",
              "מגורים מסחר ותעסוקה                      81\n",
              "מגורים מסחר ותיירות                      74\n",
              "מגורים ותיירות                           19\n",
              "מגורים ומבנים ומוסדות ציבור              10\n",
              "מגורים מסחר ומבנים ומוסדות ציבור          6\n",
              "מגורים תעסוקה ותיירות                     6\n",
              "מגורים ודיור מיוחד                        3\n",
              "מגורים מסחר ותחבורה                       2\n",
              "תתתת מגורים ב                             2\n",
              "מגורים ותעסוקה                            2\n",
              "מגורים ומשרדים                            2\n",
              "מגורים ואירוח כפרי                        1\n",
              "מגורים תיירות ומבנים ומוסדות ציבור        1\n",
              "מגורים ותחבורה                            1\n",
              "מגורים תעסוקה ומבנים ומוסדות ציבור        1\n",
              "Name: LANDUSE, dtype: int64"
            ]
          },
          "metadata": {},
          "execution_count": 8
        }
      ]
    },
    {
      "cell_type": "code",
      "source": [
        "data['LANDUSE'] = data['LANDUSE'].mask(data['LANDUSE'] != 'מגורים', 'מגורים משולב')"
      ],
      "metadata": {
        "id": "AkzEvXcm9AZ4"
      },
      "execution_count": 9,
      "outputs": []
    },
    {
      "cell_type": "code",
      "source": [
        "data['LANDUSE'].value_counts()"
      ],
      "metadata": {
        "colab": {
          "base_uri": "https://localhost:8080/"
        },
        "id": "Zo7e6x6g9gHu",
        "outputId": "2330e5d9-d858-4576-fe95-a3c03780eca2"
      },
      "execution_count": 10,
      "outputs": [
        {
          "output_type": "execute_result",
          "data": {
            "text/plain": [
              "מגורים          13344\n",
              "מגורים משולב      365\n",
              "Name: LANDUSE, dtype: int64"
            ]
          },
          "metadata": {},
          "execution_count": 10
        }
      ]
    },
    {
      "cell_type": "markdown",
      "source": [
        "Now let's explore the Main & Service columns."
      ],
      "metadata": {
        "id": "QxW-_-1mey70"
      }
    },
    {
      "cell_type": "code",
      "source": [
        "data[[\"MAIN_AREA\",\"SERVICE_AREA\"]].boxplot()"
      ],
      "metadata": {
        "colab": {
          "base_uri": "https://localhost:8080/",
          "height": 283
        },
        "id": "Gv0mvqTrS2Ux",
        "outputId": "59f0c022-d688-45a7-8271-eaef5e49c04d"
      },
      "execution_count": 11,
      "outputs": [
        {
          "output_type": "execute_result",
          "data": {
            "text/plain": [
              "<matplotlib.axes._subplots.AxesSubplot at 0x7fa71d63de50>"
            ]
          },
          "metadata": {},
          "execution_count": 11
        },
        {
          "output_type": "display_data",
          "data": {
            "image/png": "[encoded data removed]",
            "text/plain": [
              "<Figure size 432x288 with 1 Axes>"
            ]
          },
          "metadata": {
            "needs_background": "light"
          }
        }
      ]
    },
    {
      "cell_type": "markdown",
      "source": [
        "The outliers are probably mistakes. let's see the distribution:"
      ],
      "metadata": {
        "id": "k-sgiP2qToMQ"
      }
    },
    {
      "cell_type": "code",
      "source": [
        "sns.histplot(data=data, x=\"MAIN_AREA\", bins=100, kde=True)"
      ],
      "metadata": {
        "colab": {
          "base_uri": "https://localhost:8080/",
          "height": 297
        },
        "id": "5jB1Jo90av5F",
        "outputId": "e901035d-d975-44f9-a358-d55f91b1a621"
      },
      "execution_count": 12,
      "outputs": [
        {
          "output_type": "execute_result",
          "data": {
            "text/plain": [
              "<matplotlib.axes._subplots.AxesSubplot at 0x7fa71d0f2950>"
            ]
          },
          "metadata": {},
          "execution_count": 12
        },
        {
          "output_type": "display_data",
          "data": {
            "image/png": "[encoded data removed]",
            "text/plain": [
              "<Figure size 432x288 with 1 Axes>"
            ]
          },
          "metadata": {
            "needs_background": "light"
          }
        }
      ]
    },
    {
      "cell_type": "code",
      "source": [
        "data.iloc[:, 3].describe(percentiles=np.arange(0.05, 1, .05))"
      ],
      "metadata": {
        "colab": {
          "base_uri": "https://localhost:8080/"
        },
        "id": "Hw4OU1SZb9qF",
        "outputId": "8213c2a8-1f7c-4b85-dbd5-7d6163163b30"
      },
      "execution_count": 13,
      "outputs": [
        {
          "output_type": "execute_result",
          "data": {
            "text/plain": [
              "count    13709.000000\n",
              "mean       729.780482\n",
              "std       1630.404744\n",
              "min          0.000000\n",
              "5%          40.000000\n",
              "10%         50.000000\n",
              "15%         60.000000\n",
              "20%         74.000000\n",
              "25%         90.000000\n",
              "30%         97.000000\n",
              "35%        120.000000\n",
              "40%        140.000000\n",
              "45%        168.000000\n",
              "50%        197.000000\n",
              "55%        220.000000\n",
              "60%        250.720000\n",
              "65%        301.520000\n",
              "70%        396.000000\n",
              "75%        507.000000\n",
              "80%        720.000000\n",
              "85%       1247.200000\n",
              "90%       2120.000000\n",
              "95%       3474.400000\n",
              "max      60530.271000\n",
              "Name: SERVICE_AREA, dtype: float64"
            ]
          },
          "metadata": {},
          "execution_count": 13
        }
      ]
    },
    {
      "cell_type": "code",
      "source": [
        "filter_main_area = data['MAIN_AREA'] <= 8580\n",
        "filtered_data = data.loc[filter_main_area]"
      ],
      "metadata": {
        "id": "72cARpwTVY7y"
      },
      "execution_count": 14,
      "outputs": []
    },
    {
      "cell_type": "markdown",
      "source": [
        "Let's explore how many rows we have now, and the main and service data."
      ],
      "metadata": {
        "id": "mFEk64E4WkWw"
      }
    },
    {
      "cell_type": "code",
      "source": [
        "print(\"Remaining rows:\", filtered_data.shape[0], filtered_data.shape[0]/data.shape[0])"
      ],
      "metadata": {
        "colab": {
          "base_uri": "https://localhost:8080/"
        },
        "id": "a89_ZUtEW0HX",
        "outputId": "c6fb50b4-8672-4cbc-d3ba-7390009d7368"
      },
      "execution_count": 15,
      "outputs": [
        {
          "output_type": "stream",
          "name": "stdout",
          "text": [
            "Remaining rows: 13024 0.9500328251513604\n"
          ]
        }
      ]
    },
    {
      "cell_type": "code",
      "source": [
        "sns.histplot(data=filtered_data, x=\"MAIN_AREA\", bins=100, kde=True)"
      ],
      "metadata": {
        "colab": {
          "base_uri": "https://localhost:8080/",
          "height": 297
        },
        "id": "izs8Bsh6aToH",
        "outputId": "26448239-fb55-4df1-8a5a-653eb20a5b06"
      },
      "execution_count": 16,
      "outputs": [
        {
          "output_type": "execute_result",
          "data": {
            "text/plain": [
              "<matplotlib.axes._subplots.AxesSubplot at 0x7fa7127a8dd0>"
            ]
          },
          "metadata": {},
          "execution_count": 16
        },
        {
          "output_type": "display_data",
          "data": {
            "image/png": "[encoded data removed]",
            "text/plain": [
              "<Figure size 432x288 with 1 Axes>"
            ]
          },
          "metadata": {
            "needs_background": "light"
          }
        }
      ]
    },
    {
      "cell_type": "markdown",
      "source": [
        "Let's do the same for the Service column."
      ],
      "metadata": {
        "id": "fcVm_7JCfGAr"
      }
    },
    {
      "cell_type": "code",
      "source": [
        "sns.histplot(data=filtered_data, x=\"SERVICE_AREA\", bins=100, kde=True)"
      ],
      "metadata": {
        "colab": {
          "base_uri": "https://localhost:8080/",
          "height": 297
        },
        "id": "MttTmxZcfCOD",
        "outputId": "845f68eb-742b-4e24-952a-06bcb23b0681"
      },
      "execution_count": 17,
      "outputs": [
        {
          "output_type": "execute_result",
          "data": {
            "text/plain": [
              "<matplotlib.axes._subplots.AxesSubplot at 0x7fa71270f7d0>"
            ]
          },
          "metadata": {},
          "execution_count": 17
        },
        {
          "output_type": "display_data",
          "data": {
            "image/png": "[encoded data removed]",
            "text/plain": [
              "<Figure size 432x288 with 1 Axes>"
            ]
          },
          "metadata": {
            "needs_background": "light"
          }
        }
      ]
    },
    {
      "cell_type": "code",
      "source": [
        "filtered_data.iloc[:, 4].describe(percentiles=np.arange(0.05, 1, .05))"
      ],
      "metadata": {
        "colab": {
          "base_uri": "https://localhost:8080/"
        },
        "id": "HghAYRZCfhaM",
        "outputId": "ac2a69d9-2480-4a69-8d66-b495b4833b42"
      },
      "execution_count": 18,
      "outputs": [
        {
          "output_type": "execute_result",
          "data": {
            "text/plain": [
              "count    13024.000000\n",
              "mean      1042.929850\n",
              "std       1854.472766\n",
              "min          0.000000\n",
              "5%           0.000000\n",
              "10%          0.000000\n",
              "15%          0.000000\n",
              "20%          0.000000\n",
              "25%        340.000000\n",
              "30%        400.000000\n",
              "35%        455.000000\n",
              "40%        500.000000\n",
              "45%        537.000000\n",
              "50%        598.000000\n",
              "55%        656.000000\n",
              "60%        726.000000\n",
              "65%        814.000000\n",
              "70%        941.739000\n",
              "75%       1069.000000\n",
              "80%       1364.400000\n",
              "85%       1925.650000\n",
              "90%       2653.640000\n",
              "95%       3987.550000\n",
              "max      63924.000000\n",
              "Name: CELL_SIZE_TOTAL, dtype: float64"
            ]
          },
          "metadata": {},
          "execution_count": 18
        }
      ]
    },
    {
      "cell_type": "code",
      "source": [
        "filter_service_area = filtered_data['SERVICE_AREA'] <= 2220\n",
        "filtered_data = filtered_data.loc[filter_service_area]"
      ],
      "metadata": {
        "id": "6eNZnH4kf0LU"
      },
      "execution_count": 19,
      "outputs": []
    },
    {
      "cell_type": "code",
      "source": [
        "print(\"Remaining rows:\", filtered_data.shape[0], filtered_data.shape[0]/data.shape[0])"
      ],
      "metadata": {
        "colab": {
          "base_uri": "https://localhost:8080/"
        },
        "id": "L6ggWHhwgB1K",
        "outputId": "8935115f-3232-4954-c41d-e77f9ab1f19c"
      },
      "execution_count": 20,
      "outputs": [
        {
          "output_type": "stream",
          "name": "stdout",
          "text": [
            "Remaining rows: 12373 0.9025457728499526\n"
          ]
        }
      ]
    },
    {
      "cell_type": "code",
      "source": [
        "sns.histplot(data=filtered_data, x=\"SERVICE_AREA\", bins=100, kde=True)"
      ],
      "metadata": {
        "colab": {
          "base_uri": "https://localhost:8080/",
          "height": 297
        },
        "id": "uhHb9nyGgNK6",
        "outputId": "7eb6dade-12a2-41ef-dc19-702c6822a00a"
      },
      "execution_count": 21,
      "outputs": [
        {
          "output_type": "execute_result",
          "data": {
            "text/plain": [
              "<matplotlib.axes._subplots.AxesSubplot at 0x7fa71240e890>"
            ]
          },
          "metadata": {},
          "execution_count": 21
        },
        {
          "output_type": "display_data",
          "data": {
            "image/png": "[encoded data removed]",
            "text/plain": [
              "<Figure size 432x288 with 1 Axes>"
            ]
          },
          "metadata": {
            "needs_background": "light"
          }
        }
      ]
    },
    {
      "cell_type": "markdown",
      "source": [
        "Those columns ['CELL_SIZE_TOTAL', 'CELL_SIZE_MIN',\n",
        "       'CELL_SIZE_MAX'] describe the cell size."
      ],
      "metadata": {
        "id": "DJf_h9v3h77a"
      }
    },
    {
      "cell_type": "code",
      "source": [
        "filtered_data[['CELL_SIZE_TOTAL', 'CELL_SIZE_MIN', 'CELL_SIZE_MAX']].describe()"
      ],
      "metadata": {
        "colab": {
          "base_uri": "https://localhost:8080/",
          "height": 300
        },
        "id": "DgOES3JFnv2n",
        "outputId": "d486db43-5017-456f-b9e6-a0646b55e82b"
      },
      "execution_count": 22,
      "outputs": [
        {
          "output_type": "execute_result",
          "data": {
            "text/html": [
              "\n",
              "  <div id=\"df-9aaa4f2b-7fcc-4ea7-a31a-585a6a5f4377\">\n",
              "    <div class=\"colab-df-container\">\n",
              "      <div>\n",
              "<style scoped>\n",
              "    .dataframe tbody tr th:only-of-type {\n",
              "        vertical-align: middle;\n",
              "    }\n",
              "\n",
              "    .dataframe tbody tr th {\n",
              "        vertical-align: top;\n",
              "    }\n",
              "\n",
              "    .dataframe thead th {\n",
              "        text-align: right;\n",
              "    }\n",
              "</style>\n",
              "<table border=\"1\" class=\"dataframe\">\n",
              "  <thead>\n",
              "    <tr style=\"text-align: right;\">\n",
              "      <th></th>\n",
              "      <th>CELL_SIZE_TOTAL</th>\n",
              "      <th>CELL_SIZE_MIN</th>\n",
              "      <th>CELL_SIZE_MAX</th>\n",
              "    </tr>\n",
              "  </thead>\n",
              "  <tbody>\n",
              "    <tr>\n",
              "      <th>count</th>\n",
              "      <td>12373.000000</td>\n",
              "      <td>12373.000000</td>\n",
              "      <td>12373.000000</td>\n",
              "    </tr>\n",
              "    <tr>\n",
              "      <th>mean</th>\n",
              "      <td>915.024729</td>\n",
              "      <td>204.636008</td>\n",
              "      <td>15.372518</td>\n",
              "    </tr>\n",
              "    <tr>\n",
              "      <th>std</th>\n",
              "      <td>1735.648840</td>\n",
              "      <td>687.801227</td>\n",
              "      <td>185.583836</td>\n",
              "    </tr>\n",
              "    <tr>\n",
              "      <th>min</th>\n",
              "      <td>0.000000</td>\n",
              "      <td>0.000000</td>\n",
              "      <td>0.000000</td>\n",
              "    </tr>\n",
              "    <tr>\n",
              "      <th>25%</th>\n",
              "      <td>329.000000</td>\n",
              "      <td>0.000000</td>\n",
              "      <td>0.000000</td>\n",
              "    </tr>\n",
              "    <tr>\n",
              "      <th>50%</th>\n",
              "      <td>575.000000</td>\n",
              "      <td>0.000000</td>\n",
              "      <td>0.000000</td>\n",
              "    </tr>\n",
              "    <tr>\n",
              "      <th>75%</th>\n",
              "      <td>998.000000</td>\n",
              "      <td>0.000000</td>\n",
              "      <td>0.000000</td>\n",
              "    </tr>\n",
              "    <tr>\n",
              "      <th>max</th>\n",
              "      <td>63924.000000</td>\n",
              "      <td>32000.000000</td>\n",
              "      <td>5575.000000</td>\n",
              "    </tr>\n",
              "  </tbody>\n",
              "</table>\n",
              "</div>\n",
              "      <button class=\"colab-df-convert\" onclick=\"convertToInteractive('df-9aaa4f2b-7fcc-4ea7-a31a-585a6a5f4377')\"\n",
              "              title=\"Convert this dataframe to an interactive table.\"\n",
              "              style=\"display:none;\">\n",
              "        \n",
              "  <svg xmlns=\"http://www.w3.org/2000/svg\" height=\"24px\"viewBox=\"0 0 24 24\"\n",
              "       width=\"24px\">\n",
              "    <path d=\"M0 0h24v24H0V0z\" fill=\"none\"/>\n",
              "    <path d=\"M18.56 5.44l.94 2.06.94-2.06 2.06-.94-2.06-.94-.94-2.06-.94 2.06-2.06.94zm-11 1L8.5 8.5l.94-2.06 2.06-.94-2.06-.94L8.5 2.5l-.94 2.06-2.06.94zm10 10l.94 2.06.94-2.06 2.06-.94-2.06-.94-.94-2.06-.94 2.06-2.06.94z\"/><path d=\"M17.41 7.96l-1.37-1.37c-.4-.4-.92-.59-1.43-.59-.52 0-1.04.2-1.43.59L10.3 9.45l-7.72 7.72c-.78.78-.78 2.05 0 2.83L4 21.41c.39.39.9.59 1.41.59.51 0 1.02-.2 1.41-.59l7.78-7.78 2.81-2.81c.8-.78.8-2.07 0-2.86zM5.41 20L4 18.59l7.72-7.72 1.47 1.35L5.41 20z\"/>\n",
              "  </svg>\n",
              "      </button>\n",
              "      \n",
              "  <style>\n",
              "    .colab-df-container {\n",
              "      display:flex;\n",
              "      flex-wrap:wrap;\n",
              "      gap: 12px;\n",
              "    }\n",
              "\n",
              "    .colab-df-convert {\n",
              "      background-color: #E8F0FE;\n",
              "      border: none;\n",
              "      border-radius: 50%;\n",
              "      cursor: pointer;\n",
              "      display: none;\n",
              "      fill: #1967D2;\n",
              "      height: 32px;\n",
              "      padding: 0 0 0 0;\n",
              "      width: 32px;\n",
              "    }\n",
              "\n",
              "    .colab-df-convert:hover {\n",
              "      background-color: #E2EBFA;\n",
              "      box-shadow: 0px 1px 2px rgba(60, 64, 67, 0.3), 0px 1px 3px 1px rgba(60, 64, 67, 0.15);\n",
              "      fill: #174EA6;\n",
              "    }\n",
              "\n",
              "    [theme=dark] .colab-df-convert {\n",
              "      background-color: #3B4455;\n",
              "      fill: #D2E3FC;\n",
              "    }\n",
              "\n",
              "    [theme=dark] .colab-df-convert:hover {\n",
              "      background-color: #434B5C;\n",
              "      box-shadow: 0px 1px 3px 1px rgba(0, 0, 0, 0.15);\n",
              "      filter: drop-shadow(0px 1px 2px rgba(0, 0, 0, 0.3));\n",
              "      fill: #FFFFFF;\n",
              "    }\n",
              "  </style>\n",
              "\n",
              "      <script>\n",
              "        const buttonEl =\n",
              "          document.querySelector('#df-9aaa4f2b-7fcc-4ea7-a31a-585a6a5f4377 button.colab-df-convert');\n",
              "        buttonEl.style.display =\n",
              "          google.colab.kernel.accessAllowed ? 'block' : 'none';\n",
              "\n",
              "        async function convertToInteractive(key) {\n",
              "          const element = document.querySelector('#df-9aaa4f2b-7fcc-4ea7-a31a-585a6a5f4377');\n",
              "          const dataTable =\n",
              "            await google.colab.kernel.invokeFunction('convertToInteractive',\n",
              "                                                     [key], {});\n",
              "          if (!dataTable) return;\n",
              "\n",
              "          const docLinkHtml = 'Like what you see? Visit the ' +\n",
              "            '<a target=\"_blank\" href=https://colab.research.google.com/notebooks/data_table.ipynb>data table notebook</a>'\n",
              "            + ' to learn more about interactive tables.';\n",
              "          element.innerHTML = '';\n",
              "          dataTable['output_type'] = 'display_data';\n",
              "          await google.colab.output.renderOutput(dataTable, element);\n",
              "          const docLink = document.createElement('div');\n",
              "          docLink.innerHTML = docLinkHtml;\n",
              "          element.appendChild(docLink);\n",
              "        }\n",
              "      </script>\n",
              "    </div>\n",
              "  </div>\n",
              "  "
            ],
            "text/plain": [
              "       CELL_SIZE_TOTAL  CELL_SIZE_MIN  CELL_SIZE_MAX\n",
              "count     12373.000000   12373.000000   12373.000000\n",
              "mean        915.024729     204.636008      15.372518\n",
              "std        1735.648840     687.801227     185.583836\n",
              "min           0.000000       0.000000       0.000000\n",
              "25%         329.000000       0.000000       0.000000\n",
              "50%         575.000000       0.000000       0.000000\n",
              "75%         998.000000       0.000000       0.000000\n",
              "max       63924.000000   32000.000000    5575.000000"
            ]
          },
          "metadata": {},
          "execution_count": 22
        }
      ]
    },
    {
      "cell_type": "markdown",
      "source": [
        "HOUSING_UNITS shold not be zero."
      ],
      "metadata": {
        "id": "1GdYTQhC2fHM"
      }
    },
    {
      "cell_type": "code",
      "source": [
        "data['HOUSING_UNITS'].value_counts().sort_index()"
      ],
      "metadata": {
        "colab": {
          "base_uri": "https://localhost:8080/"
        },
        "id": "eQ3ymaTt11t0",
        "outputId": "db4f548d-367e-4a99-a6c3-3cf581f13190"
      },
      "execution_count": 23,
      "outputs": [
        {
          "output_type": "execute_result",
          "data": {
            "text/plain": [
              "0.0        153\n",
              "1.0       1835\n",
              "2.0       1504\n",
              "3.0       1222\n",
              "4.0       1796\n",
              "          ... \n",
              "471.0        1\n",
              "524.0       23\n",
              "564.0        2\n",
              "613.0        7\n",
              "1200.0       1\n",
              "Name: HOUSING_UNITS, Length: 229, dtype: int64"
            ]
          },
          "metadata": {},
          "execution_count": 23
        }
      ]
    },
    {
      "cell_type": "code",
      "source": [
        "filtered_data['HOUSING_UNITS'] = filtered_data['HOUSING_UNITS'].mask(data['HOUSING_UNITS'] == 0, data['FLOORS_NUM']*2)"
      ],
      "metadata": {
        "id": "s7Zf_lba1h-f"
      },
      "execution_count": 24,
      "outputs": []
    },
    {
      "cell_type": "code",
      "source": [
        "filtered_data['HOUSING_UNITS'].value_counts().sort_index()"
      ],
      "metadata": {
        "colab": {
          "base_uri": "https://localhost:8080/"
        },
        "id": "L-eTXlFd2Zzb",
        "outputId": "6c8a701f-c49e-4aaa-a5fb-abe63f540665"
      },
      "execution_count": 25,
      "outputs": [
        {
          "output_type": "execute_result",
          "data": {
            "text/plain": [
              "0.0         6\n",
              "1.0      1835\n",
              "2.0      1506\n",
              "3.0      1222\n",
              "4.0      1815\n",
              "         ... \n",
              "175.0       2\n",
              "207.0       1\n",
              "362.0       5\n",
              "524.0      23\n",
              "613.0       7\n",
              "Name: HOUSING_UNITS, Length: 105, dtype: int64"
            ]
          },
          "metadata": {},
          "execution_count": 25
        }
      ]
    },
    {
      "cell_type": "code",
      "source": [
        "filtered_data = filtered_data[filtered_data['HOUSING_UNITS'] > 0]\n",
        "filtered_data.shape "
      ],
      "metadata": {
        "colab": {
          "base_uri": "https://localhost:8080/"
        },
        "id": "SYgognPW2uIS",
        "outputId": "76cfe27e-ad23-49a6-f85b-ccd191f63f03"
      },
      "execution_count": 26,
      "outputs": [
        {
          "output_type": "execute_result",
          "data": {
            "text/plain": [
              "(12367, 17)"
            ]
          },
          "metadata": {},
          "execution_count": 26
        }
      ]
    },
    {
      "cell_type": "code",
      "source": [
        "filtered_data['BUILDING_HEIGHT'].value_counts()[:11]"
      ],
      "metadata": {
        "colab": {
          "base_uri": "https://localhost:8080/"
        },
        "id": "U24kWYKa3EXa",
        "outputId": "bed6b251-06fa-42dc-bf4e-001e148c014b"
      },
      "execution_count": 27,
      "outputs": [
        {
          "output_type": "execute_result",
          "data": {
            "text/plain": [
              "0.0     2359\n",
              "14.0    1213\n",
              "15.0     945\n",
              "9.0      827\n",
              "12.0     669\n",
              "8.5      561\n",
              "17.0     385\n",
              "10.0     349\n",
              "8.0      349\n",
              "30.0     286\n",
              "11.0     257\n",
              "Name: BUILDING_HEIGHT, dtype: int64"
            ]
          },
          "metadata": {},
          "execution_count": 27
        }
      ]
    },
    {
      "cell_type": "markdown",
      "source": [
        "A lot of missing data, BUILDING_HEIGHT should not be zero.<br>\n",
        "I will replace it with the mean of BUILDING_HEIGHT with correct values (greather than 0)."
      ],
      "metadata": {
        "id": "8a30Gn_L3NJJ"
      }
    },
    {
      "cell_type": "code",
      "source": [
        "building_height_avg = round(filtered_data[filtered_data['BUILDING_HEIGHT'] > 0]['BUILDING_HEIGHT'].mean())\n",
        "building_height_avg"
      ],
      "metadata": {
        "colab": {
          "base_uri": "https://localhost:8080/"
        },
        "id": "NNaUKZeB4CcP",
        "outputId": "0ed8eee6-17b9-4b72-ad96-d18c99d1ecb1"
      },
      "execution_count": 28,
      "outputs": [
        {
          "output_type": "execute_result",
          "data": {
            "text/plain": [
              "15"
            ]
          },
          "metadata": {},
          "execution_count": 28
        }
      ]
    },
    {
      "cell_type": "code",
      "source": [
        "filtered_data['BUILDING_HEIGHT'] = filtered_data['BUILDING_HEIGHT'].mask(filtered_data['BUILDING_HEIGHT']==0, building_height_avg)"
      ],
      "metadata": {
        "colab": {
          "base_uri": "https://localhost:8080/"
        },
        "id": "PEH_AfoM4lX_",
        "outputId": "d465a295-9d66-4930-d304-80c19ddade52"
      },
      "execution_count": 29,
      "outputs": [
        {
          "output_type": "stream",
          "name": "stderr",
          "text": [
            "/usr/local/lib/python3.7/dist-packages/ipykernel_launcher.py:1: SettingWithCopyWarning: \n",
            "A value is trying to be set on a copy of a slice from a DataFrame.\n",
            "Try using .loc[row_indexer,col_indexer] = value instead\n",
            "\n",
            "See the caveats in the documentation: https://pandas.pydata.org/pandas-docs/stable/user_guide/indexing.html#returning-a-view-versus-a-copy\n",
            "  \"\"\"Entry point for launching an IPython kernel.\n"
          ]
        }
      ]
    },
    {
      "cell_type": "code",
      "source": [
        "filtered_data['BUILDING_HEIGHT'].value_counts()"
      ],
      "metadata": {
        "colab": {
          "base_uri": "https://localhost:8080/"
        },
        "id": "CdQ1mIZB4-9d",
        "outputId": "1e0e998f-3e80-48db-9044-251d7843a009"
      },
      "execution_count": 30,
      "outputs": [
        {
          "output_type": "execute_result",
          "data": {
            "text/plain": [
              "15.00    3304\n",
              "14.00    1213\n",
              "9.00      827\n",
              "12.00     669\n",
              "8.50      561\n",
              "         ... \n",
              "16.62       1\n",
              "7.10        1\n",
              "25.64       1\n",
              "12.93       1\n",
              "23.10       1\n",
              "Name: BUILDING_HEIGHT, Length: 467, dtype: int64"
            ]
          },
          "metadata": {},
          "execution_count": 30
        }
      ]
    },
    {
      "cell_type": "code",
      "source": [
        "filtered_data['SECTOR_GROUP'].value_counts()"
      ],
      "metadata": {
        "colab": {
          "base_uri": "https://localhost:8080/"
        },
        "id": "DR9DccM06qHU",
        "outputId": "826bee6f-9b9a-4a35-b662-b01b9119b70a"
      },
      "execution_count": 35,
      "outputs": [
        {
          "output_type": "execute_result",
          "data": {
            "text/plain": [
              "חברה ערבית             6910\n",
              "חברה כללית / מעורבת    4845\n",
              "חברה חרדית              321\n",
              "(חסר)                   291\n",
              "Name: SECTOR_GROUP, dtype: int64"
            ]
          },
          "metadata": {},
          "execution_count": 35
        }
      ]
    },
    {
      "cell_type": "code",
      "source": [
        "filtered_data['SECTOR_GROUP'] = filtered_data['SECTOR_GROUP'].mask(filtered_data['SECTOR_GROUP'] == '(חסר)', 'חברה כללית / מעורבת')\n",
        "filtered_data['SECTOR_GROUP'].value_counts()"
      ],
      "metadata": {
        "colab": {
          "base_uri": "https://localhost:8080/"
        },
        "id": "9KPOl-Ys7Fz6",
        "outputId": "2657525f-3b75-483c-cf52-cba33667e3e5"
      },
      "execution_count": 37,
      "outputs": [
        {
          "output_type": "execute_result",
          "data": {
            "text/plain": [
              "חברה ערבית             6910\n",
              "חברה כללית / מעורבת    5136\n",
              "חברה חרדית              321\n",
              "Name: SECTOR_GROUP, dtype: int64"
            ]
          },
          "metadata": {},
          "execution_count": 37
        }
      ]
    },
    {
      "cell_type": "code",
      "source": [
        "filtered_data.info()"
      ],
      "metadata": {
        "colab": {
          "base_uri": "https://localhost:8080/"
        },
        "id": "GbIydkENqGhd",
        "outputId": "463ec76f-8820-40a4-a941-152bce782ac9"
      },
      "execution_count": 31,
      "outputs": [
        {
          "output_type": "stream",
          "name": "stdout",
          "text": [
            "<class 'pandas.core.frame.DataFrame'>\n",
            "Int64Index: 12367 entries, 0 to 13708\n",
            "Data columns (total 17 columns):\n",
            " #   Column                   Non-Null Count  Dtype  \n",
            "---  ------                   --------------  -----  \n",
            " 0   PL_NUMBER                12367 non-null  object \n",
            " 1   LANDUSE                  12367 non-null  object \n",
            " 2   MAIN_AREA                12367 non-null  float64\n",
            " 3   SERVICE_AREA             12367 non-null  float64\n",
            " 4   CELL_SIZE_TOTAL          12367 non-null  float64\n",
            " 5   CELL_SIZE_MIN            12367 non-null  float64\n",
            " 6   CELL_SIZE_MAX            12367 non-null  float64\n",
            " 7   HOUSING_UNITS            12367 non-null  float64\n",
            " 8   BUILDING_HEIGHT          12367 non-null  float64\n",
            " 9   FLOORS_NUM               12367 non-null  float64\n",
            " 10  TOTAL_AREA               12367 non-null  float64\n",
            " 11  AUTHORITY                12367 non-null  object \n",
            " 12  DISTRICT                 12367 non-null  object \n",
            " 13  SECTOR_GROUP             12367 non-null  object \n",
            " 14  CONFIRMATION_YEAR        12367 non-null  int64  \n",
            " 15  CONSTRUCTION_TYPE_GROUP  12362 non-null  object \n",
            " 16  IS_TAMAL                 12367 non-null  int64  \n",
            "dtypes: float64(9), int64(2), object(6)\n",
            "memory usage: 1.7+ MB\n"
          ]
        }
      ]
    },
    {
      "cell_type": "markdown",
      "source": [
        "Let's handle null values:"
      ],
      "metadata": {
        "id": "_IZOF0I9qmYE"
      }
    },
    {
      "cell_type": "code",
      "source": [
        "filtered_data.isnull().sum()"
      ],
      "metadata": {
        "colab": {
          "base_uri": "https://localhost:8080/"
        },
        "id": "3h4W2P3hqp-T",
        "outputId": "5bb82712-346e-49cd-a409-7820160117a5"
      },
      "execution_count": 32,
      "outputs": [
        {
          "output_type": "execute_result",
          "data": {
            "text/plain": [
              "PL_NUMBER                  0\n",
              "LANDUSE                    0\n",
              "MAIN_AREA                  0\n",
              "SERVICE_AREA               0\n",
              "CELL_SIZE_TOTAL            0\n",
              "CELL_SIZE_MIN              0\n",
              "CELL_SIZE_MAX              0\n",
              "HOUSING_UNITS              0\n",
              "BUILDING_HEIGHT            0\n",
              "FLOORS_NUM                 0\n",
              "TOTAL_AREA                 0\n",
              "AUTHORITY                  0\n",
              "DISTRICT                   0\n",
              "SECTOR_GROUP               0\n",
              "CONFIRMATION_YEAR          0\n",
              "CONSTRUCTION_TYPE_GROUP    5\n",
              "IS_TAMAL                   0\n",
              "dtype: int64"
            ]
          },
          "metadata": {},
          "execution_count": 32
        }
      ]
    },
    {
      "cell_type": "code",
      "source": [
        "filtered_data['CONSTRUCTION_TYPE_GROUP'].value_counts(dropna=False)"
      ],
      "metadata": {
        "colab": {
          "base_uri": "https://localhost:8080/"
        },
        "id": "tOaDxX9Hrsbo",
        "outputId": "f8fcd3c5-22bc-4475-8d9e-327ba7edf6dc"
      },
      "execution_count": 33,
      "outputs": [
        {
          "output_type": "execute_result",
          "data": {
            "text/plain": [
              "חדשה       9409\n",
              "התחדשות    1590\n",
              "הסדרה      1363\n",
              "NaN           5\n",
              "Name: CONSTRUCTION_TYPE_GROUP, dtype: int64"
            ]
          },
          "metadata": {},
          "execution_count": 33
        }
      ]
    },
    {
      "cell_type": "markdown",
      "source": [
        "https://stackoverflow.com/questions/32617811/imputation-of-missing-values-for-categories-in-pandas"
      ],
      "metadata": {
        "id": "uRPV7Wnb-hfq"
      }
    },
    {
      "cell_type": "code",
      "source": [
        "filtered_data['CONSTRUCTION_TYPE_GROUP'] = filtered_data['CONSTRUCTION_TYPE_GROUP'].fillna(filtered_data['CONSTRUCTION_TYPE_GROUP'].mode().iloc[0])\n",
        "filtered_data['CONSTRUCTION_TYPE_GROUP'].value_counts(dropna=False)"
      ],
      "metadata": {
        "colab": {
          "base_uri": "https://localhost:8080/"
        },
        "id": "rNJ8yHqor9D3",
        "outputId": "dda066b3-42a8-469d-fc5b-efe7a16b6ce8"
      },
      "execution_count": 34,
      "outputs": [
        {
          "output_type": "execute_result",
          "data": {
            "text/plain": [
              "חדשה       9414\n",
              "התחדשות    1590\n",
              "הסדרה      1363\n",
              "Name: CONSTRUCTION_TYPE_GROUP, dtype: int64"
            ]
          },
          "metadata": {},
          "execution_count": 34
        }
      ]
    },
    {
      "cell_type": "code",
      "source": [
        "filtered_data = filtered_data.drop(['PL_NUMBER', 'SERVICE_AREA'], axis=1)"
      ],
      "metadata": {
        "id": "M06mV6re8jkH"
      },
      "execution_count": 42,
      "outputs": []
    },
    {
      "cell_type": "markdown",
      "source": [
        "Now let's get dummies of the categorical columns so we will be able to bulid a model."
      ],
      "metadata": {
        "id": "o2QKX3017lRZ"
      }
    },
    {
      "cell_type": "code",
      "source": [
        "dummies_data = pd.get_dummies(filtered_data)\n",
        "print(dummies_data.shape)\n",
        "dummies_data.columns = ['MAIN_AREA', 'CELL_SIZE_TOTAL', 'CELL_SIZE_MIN', 'CELL_SIZE_MAX',\n",
        "       'HOUSING_UNITS', 'BUILDING_HEIGHT', 'FLOORS_NUM', 'TOTAL_AREA',\n",
        "       'CONFIRMATION_YEAR', 'IS_TAMAL', 'LANDUSE_RESIDENCE',\n",
        "       'LANDUSE_RESIDENCE_MIXED', 'AUTHORITY_COUNTRY', 'AUTHORITY_DISTRICT',\n",
        "       'DISTRICT_SOUTH', 'DISTRICT_HAIFA', 'DISTRICT_JERUSALEM', 'DISTRICT_DAN',\n",
        "       'DISTRICT_NORTH', 'DISTRICT_TEL_AVIV', 'SECTOR_REL',\n",
        "       'SECTOR_MIXED', 'SECTOR_ARAB',\n",
        "       'CONSTRUCTION_TYPE_ARRANGING', 'CONSTRUCTION_TYPE_REGENERATION',\n",
        "       'CONSTRUCTION_TYPE_NEW']\n",
        "dummies_data.head()"
      ],
      "metadata": {
        "colab": {
          "base_uri": "https://localhost:8080/",
          "height": 288
        },
        "id": "1rMH_5-a7x3H",
        "outputId": "fef2144e-9777-4402-e072-c8178c3aa50c"
      },
      "execution_count": 48,
      "outputs": [
        {
          "output_type": "stream",
          "name": "stdout",
          "text": [
            "(12367, 26)\n"
          ]
        },
        {
          "output_type": "execute_result",
          "data": {
            "text/html": [
              "\n",
              "  <div id=\"df-48a900e0-30da-405f-9b58-eedb165711e9\">\n",
              "    <div class=\"colab-df-container\">\n",
              "      <div>\n",
              "<style scoped>\n",
              "    .dataframe tbody tr th:only-of-type {\n",
              "        vertical-align: middle;\n",
              "    }\n",
              "\n",
              "    .dataframe tbody tr th {\n",
              "        vertical-align: top;\n",
              "    }\n",
              "\n",
              "    .dataframe thead th {\n",
              "        text-align: right;\n",
              "    }\n",
              "</style>\n",
              "<table border=\"1\" class=\"dataframe\">\n",
              "  <thead>\n",
              "    <tr style=\"text-align: right;\">\n",
              "      <th></th>\n",
              "      <th>MAIN_AREA</th>\n",
              "      <th>CELL_SIZE_TOTAL</th>\n",
              "      <th>CELL_SIZE_MIN</th>\n",
              "      <th>CELL_SIZE_MAX</th>\n",
              "      <th>HOUSING_UNITS</th>\n",
              "      <th>BUILDING_HEIGHT</th>\n",
              "      <th>FLOORS_NUM</th>\n",
              "      <th>TOTAL_AREA</th>\n",
              "      <th>CONFIRMATION_YEAR</th>\n",
              "      <th>IS_TAMAL</th>\n",
              "      <th>LANDUSE_RESIDENCE</th>\n",
              "      <th>LANDUSE_RESIDENCE_MIXED</th>\n",
              "      <th>AUTHORITY_COUNTRY</th>\n",
              "      <th>AUTHORITY_DISTRICT</th>\n",
              "      <th>DISTRICT_SOUTH</th>\n",
              "      <th>DISTRICT_HAIFA</th>\n",
              "      <th>DISTRICT_JERUSALEM</th>\n",
              "      <th>DISTRICT_DAN</th>\n",
              "      <th>DISTRICT_NORTH</th>\n",
              "      <th>DISTRICT_TEL_AVIV</th>\n",
              "      <th>SECTOR_REL</th>\n",
              "      <th>SECTOR_MIXED</th>\n",
              "      <th>SECTOR_ARAB</th>\n",
              "      <th>CONSTRUCTION_TYPE_ARRANGING</th>\n",
              "      <th>CONSTRUCTION_TYPE_REGENERATION</th>\n",
              "      <th>CONSTRUCTION_TYPE_NEW</th>\n",
              "    </tr>\n",
              "  </thead>\n",
              "  <tbody>\n",
              "    <tr>\n",
              "      <th>0</th>\n",
              "      <td>975.0</td>\n",
              "      <td>2466.0</td>\n",
              "      <td>0.0</td>\n",
              "      <td>0.0</td>\n",
              "      <td>16.0</td>\n",
              "      <td>11.0</td>\n",
              "      <td>2.0</td>\n",
              "      <td>1275.0</td>\n",
              "      <td>2017</td>\n",
              "      <td>0</td>\n",
              "      <td>1</td>\n",
              "      <td>0</td>\n",
              "      <td>0</td>\n",
              "      <td>1</td>\n",
              "      <td>1</td>\n",
              "      <td>0</td>\n",
              "      <td>0</td>\n",
              "      <td>0</td>\n",
              "      <td>0</td>\n",
              "      <td>0</td>\n",
              "      <td>0</td>\n",
              "      <td>1</td>\n",
              "      <td>0</td>\n",
              "      <td>0</td>\n",
              "      <td>0</td>\n",
              "      <td>1</td>\n",
              "    </tr>\n",
              "    <tr>\n",
              "      <th>1</th>\n",
              "      <td>975.0</td>\n",
              "      <td>2025.0</td>\n",
              "      <td>0.0</td>\n",
              "      <td>0.0</td>\n",
              "      <td>16.0</td>\n",
              "      <td>11.0</td>\n",
              "      <td>2.0</td>\n",
              "      <td>1275.0</td>\n",
              "      <td>2017</td>\n",
              "      <td>0</td>\n",
              "      <td>1</td>\n",
              "      <td>0</td>\n",
              "      <td>0</td>\n",
              "      <td>1</td>\n",
              "      <td>1</td>\n",
              "      <td>0</td>\n",
              "      <td>0</td>\n",
              "      <td>0</td>\n",
              "      <td>0</td>\n",
              "      <td>0</td>\n",
              "      <td>0</td>\n",
              "      <td>1</td>\n",
              "      <td>0</td>\n",
              "      <td>0</td>\n",
              "      <td>0</td>\n",
              "      <td>1</td>\n",
              "    </tr>\n",
              "    <tr>\n",
              "      <th>2</th>\n",
              "      <td>960.0</td>\n",
              "      <td>2820.0</td>\n",
              "      <td>0.0</td>\n",
              "      <td>0.0</td>\n",
              "      <td>6.0</td>\n",
              "      <td>17.0</td>\n",
              "      <td>4.0</td>\n",
              "      <td>1140.0</td>\n",
              "      <td>2017</td>\n",
              "      <td>0</td>\n",
              "      <td>1</td>\n",
              "      <td>0</td>\n",
              "      <td>0</td>\n",
              "      <td>1</td>\n",
              "      <td>0</td>\n",
              "      <td>0</td>\n",
              "      <td>1</td>\n",
              "      <td>0</td>\n",
              "      <td>0</td>\n",
              "      <td>0</td>\n",
              "      <td>0</td>\n",
              "      <td>1</td>\n",
              "      <td>0</td>\n",
              "      <td>0</td>\n",
              "      <td>1</td>\n",
              "      <td>0</td>\n",
              "    </tr>\n",
              "    <tr>\n",
              "      <th>3</th>\n",
              "      <td>4800.0</td>\n",
              "      <td>15410.0</td>\n",
              "      <td>0.0</td>\n",
              "      <td>0.0</td>\n",
              "      <td>30.0</td>\n",
              "      <td>17.0</td>\n",
              "      <td>4.0</td>\n",
              "      <td>5760.0</td>\n",
              "      <td>2017</td>\n",
              "      <td>0</td>\n",
              "      <td>1</td>\n",
              "      <td>0</td>\n",
              "      <td>0</td>\n",
              "      <td>1</td>\n",
              "      <td>0</td>\n",
              "      <td>0</td>\n",
              "      <td>1</td>\n",
              "      <td>0</td>\n",
              "      <td>0</td>\n",
              "      <td>0</td>\n",
              "      <td>0</td>\n",
              "      <td>1</td>\n",
              "      <td>0</td>\n",
              "      <td>0</td>\n",
              "      <td>1</td>\n",
              "      <td>0</td>\n",
              "    </tr>\n",
              "    <tr>\n",
              "      <th>4</th>\n",
              "      <td>640.0</td>\n",
              "      <td>1600.0</td>\n",
              "      <td>0.0</td>\n",
              "      <td>0.0</td>\n",
              "      <td>4.0</td>\n",
              "      <td>17.0</td>\n",
              "      <td>4.0</td>\n",
              "      <td>760.0</td>\n",
              "      <td>2017</td>\n",
              "      <td>0</td>\n",
              "      <td>1</td>\n",
              "      <td>0</td>\n",
              "      <td>0</td>\n",
              "      <td>1</td>\n",
              "      <td>0</td>\n",
              "      <td>0</td>\n",
              "      <td>1</td>\n",
              "      <td>0</td>\n",
              "      <td>0</td>\n",
              "      <td>0</td>\n",
              "      <td>0</td>\n",
              "      <td>1</td>\n",
              "      <td>0</td>\n",
              "      <td>0</td>\n",
              "      <td>1</td>\n",
              "      <td>0</td>\n",
              "    </tr>\n",
              "  </tbody>\n",
              "</table>\n",
              "</div>\n",
              "      <button class=\"colab-df-convert\" onclick=\"convertToInteractive('df-48a900e0-30da-405f-9b58-eedb165711e9')\"\n",
              "              title=\"Convert this dataframe to an interactive table.\"\n",
              "              style=\"display:none;\">\n",
              "        \n",
              "  <svg xmlns=\"http://www.w3.org/2000/svg\" height=\"24px\"viewBox=\"0 0 24 24\"\n",
              "       width=\"24px\">\n",
              "    <path d=\"M0 0h24v24H0V0z\" fill=\"none\"/>\n",
              "    <path d=\"M18.56 5.44l.94 2.06.94-2.06 2.06-.94-2.06-.94-.94-2.06-.94 2.06-2.06.94zm-11 1L8.5 8.5l.94-2.06 2.06-.94-2.06-.94L8.5 2.5l-.94 2.06-2.06.94zm10 10l.94 2.06.94-2.06 2.06-.94-2.06-.94-.94-2.06-.94 2.06-2.06.94z\"/><path d=\"M17.41 7.96l-1.37-1.37c-.4-.4-.92-.59-1.43-.59-.52 0-1.04.2-1.43.59L10.3 9.45l-7.72 7.72c-.78.78-.78 2.05 0 2.83L4 21.41c.39.39.9.59 1.41.59.51 0 1.02-.2 1.41-.59l7.78-7.78 2.81-2.81c.8-.78.8-2.07 0-2.86zM5.41 20L4 18.59l7.72-7.72 1.47 1.35L5.41 20z\"/>\n",
              "  </svg>\n",
              "      </button>\n",
              "      \n",
              "  <style>\n",
              "    .colab-df-container {\n",
              "      display:flex;\n",
              "      flex-wrap:wrap;\n",
              "      gap: 12px;\n",
              "    }\n",
              "\n",
              "    .colab-df-convert {\n",
              "      background-color: #E8F0FE;\n",
              "      border: none;\n",
              "      border-radius: 50%;\n",
              "      cursor: pointer;\n",
              "      display: none;\n",
              "      fill: #1967D2;\n",
              "      height: 32px;\n",
              "      padding: 0 0 0 0;\n",
              "      width: 32px;\n",
              "    }\n",
              "\n",
              "    .colab-df-convert:hover {\n",
              "      background-color: #E2EBFA;\n",
              "      box-shadow: 0px 1px 2px rgba(60, 64, 67, 0.3), 0px 1px 3px 1px rgba(60, 64, 67, 0.15);\n",
              "      fill: #174EA6;\n",
              "    }\n",
              "\n",
              "    [theme=dark] .colab-df-convert {\n",
              "      background-color: #3B4455;\n",
              "      fill: #D2E3FC;\n",
              "    }\n",
              "\n",
              "    [theme=dark] .colab-df-convert:hover {\n",
              "      background-color: #434B5C;\n",
              "      box-shadow: 0px 1px 3px 1px rgba(0, 0, 0, 0.15);\n",
              "      filter: drop-shadow(0px 1px 2px rgba(0, 0, 0, 0.3));\n",
              "      fill: #FFFFFF;\n",
              "    }\n",
              "  </style>\n",
              "\n",
              "      <script>\n",
              "        const buttonEl =\n",
              "          document.querySelector('#df-48a900e0-30da-405f-9b58-eedb165711e9 button.colab-df-convert');\n",
              "        buttonEl.style.display =\n",
              "          google.colab.kernel.accessAllowed ? 'block' : 'none';\n",
              "\n",
              "        async function convertToInteractive(key) {\n",
              "          const element = document.querySelector('#df-48a900e0-30da-405f-9b58-eedb165711e9');\n",
              "          const dataTable =\n",
              "            await google.colab.kernel.invokeFunction('convertToInteractive',\n",
              "                                                     [key], {});\n",
              "          if (!dataTable) return;\n",
              "\n",
              "          const docLinkHtml = 'Like what you see? Visit the ' +\n",
              "            '<a target=\"_blank\" href=https://colab.research.google.com/notebooks/data_table.ipynb>data table notebook</a>'\n",
              "            + ' to learn more about interactive tables.';\n",
              "          element.innerHTML = '';\n",
              "          dataTable['output_type'] = 'display_data';\n",
              "          await google.colab.output.renderOutput(dataTable, element);\n",
              "          const docLink = document.createElement('div');\n",
              "          docLink.innerHTML = docLinkHtml;\n",
              "          element.appendChild(docLink);\n",
              "        }\n",
              "      </script>\n",
              "    </div>\n",
              "  </div>\n",
              "  "
            ],
            "text/plain": [
              "   MAIN_AREA  ...  CONSTRUCTION_TYPE_NEW\n",
              "0      975.0  ...                      1\n",
              "1      975.0  ...                      1\n",
              "2      960.0  ...                      0\n",
              "3     4800.0  ...                      0\n",
              "4      640.0  ...                      0\n",
              "\n",
              "[5 rows x 26 columns]"
            ]
          },
          "metadata": {},
          "execution_count": 48
        }
      ]
    },
    {
      "cell_type": "code",
      "source": [
        "feature_cols = ['CELL_SIZE_TOTAL', 'CELL_SIZE_MIN', 'CELL_SIZE_MAX',\n",
        "       'HOUSING_UNITS', 'BUILDING_HEIGHT', 'FLOORS_NUM', 'TOTAL_AREA',\n",
        "       'CONFIRMATION_YEAR', 'IS_TAMAL', 'LANDUSE_RESIDENCE',\n",
        "       'LANDUSE_RESIDENCE_MIXED', 'AUTHORITY_COUNTRY', 'AUTHORITY_DISTRICT',\n",
        "       'DISTRICT_SOUTH', 'DISTRICT_HAIFA', 'DISTRICT_JERUSALEM', 'DISTRICT_DAN',\n",
        "       'DISTRICT_NORTH', 'DISTRICT_TEL_AVIV', 'SECTOR_REL',\n",
        "       'SECTOR_MIXED', 'SECTOR_ARAB',\n",
        "       'CONSTRUCTION_TYPE_ARRANGING', 'CONSTRUCTION_TYPE_REGENERATION',\n",
        "       'CONSTRUCTION_TYPE_NEW']\n",
        "X = dummies_data[feature_cols]\n",
        "y = dummies_data['MAIN_AREA']"
      ],
      "metadata": {
        "id": "71TV2zFK-6kZ"
      },
      "execution_count": 49,
      "outputs": []
    },
    {
      "cell_type": "code",
      "source": [
        "from sklearn.model_selection import train_test_split\n",
        "X_train, X_test, y_train, y_test = train_test_split(X, y, test_size=0.33, random_state=42)"
      ],
      "metadata": {
        "id": "8GA9CRZ7_kdI"
      },
      "execution_count": 51,
      "outputs": []
    },
    {
      "cell_type": "code",
      "source": [
        "from sklearn.neighbors import KNeighborsRegressor\n",
        "neigh = KNeighborsRegressor(n_neighbors=10)\n",
        "neigh.fit(X_train, y_train)"
      ],
      "metadata": {
        "id": "f2VmHj0E-2qV",
        "outputId": "e5b2c5d2-80d0-4240-85f9-b301097c11a9",
        "colab": {
          "base_uri": "https://localhost:8080/"
        }
      },
      "execution_count": 52,
      "outputs": [
        {
          "output_type": "execute_result",
          "data": {
            "text/plain": [
              "KNeighborsRegressor(n_neighbors=10)"
            ]
          },
          "metadata": {},
          "execution_count": 52
        }
      ]
    },
    {
      "cell_type": "code",
      "source": [
        "y_pred = neigh.predict(X_test)"
      ],
      "metadata": {
        "id": "QCoWGi5q_3mx"
      },
      "execution_count": 58,
      "outputs": []
    },
    {
      "cell_type": "code",
      "source": [
        "from sklearn.metrics import mean_squared_error\n",
        "mse = mean_squared_error(y_test, y_pred)\n",
        "print(\"mse:\", mse)\n",
        "rmse = mean_squared_error(y_test, y_pred, squared=False)\n",
        "print(\"rmse:\", rmse)"
      ],
      "metadata": {
        "id": "TO25yFhSBh_t",
        "outputId": "9d179337-8653-4ef1-a398-6db942f5e140",
        "colab": {
          "base_uri": "https://localhost:8080/"
        }
      },
      "execution_count": 64,
      "outputs": [
        {
          "output_type": "stream",
          "name": "stdout",
          "text": [
            "mse: 39558.70872077022\n",
            "rmse: 198.89371211974054\n"
          ]
        }
      ]
    },
    {
      "cell_type": "code",
      "source": [
        "print(y_test)"
      ],
      "metadata": {
        "id": "4Bn4tEjyBuK0",
        "outputId": "6b4a91c2-0698-458f-e15c-66c9abeb7a62",
        "colab": {
          "base_uri": "https://localhost:8080/"
        }
      },
      "execution_count": 63,
      "outputs": [
        {
          "output_type": "stream",
          "name": "stdout",
          "text": [
            "2647     1760.00\n",
            "10121    1457.00\n",
            "9306     4180.00\n",
            "856       660.00\n",
            "9430     1970.00\n",
            "          ...   \n",
            "12859     401.74\n",
            "1517      500.00\n",
            "7319      610.00\n",
            "4897      750.20\n",
            "7104      717.60\n",
            "Name: MAIN_AREA, Length: 4082, dtype: float64\n"
          ]
        }
      ]
    },
    {
      "cell_type": "markdown",
      "source": [
        "https://stackoverflow.com/questions/40729162/merging-results-from-model-predict-with-original-pandas-dataframe"
      ],
      "metadata": {
        "id": "fNCjUjFnC6Qb"
      }
    },
    {
      "cell_type": "code",
      "source": [
        "result_df = pd.DataFrame(y_test)\n",
        "result_df.head()"
      ],
      "metadata": {
        "id": "gUWzWBOhCpm8",
        "outputId": "030c1e79-9d9e-4be2-ad36-6d0d19b2c185",
        "colab": {
          "base_uri": "https://localhost:8080/",
          "height": 206
        }
      },
      "execution_count": 66,
      "outputs": [
        {
          "output_type": "execute_result",
          "data": {
            "text/html": [
              "\n",
              "  <div id=\"df-cfc6554b-931e-4948-9b98-762d7ba70901\">\n",
              "    <div class=\"colab-df-container\">\n",
              "      <div>\n",
              "<style scoped>\n",
              "    .dataframe tbody tr th:only-of-type {\n",
              "        vertical-align: middle;\n",
              "    }\n",
              "\n",
              "    .dataframe tbody tr th {\n",
              "        vertical-align: top;\n",
              "    }\n",
              "\n",
              "    .dataframe thead th {\n",
              "        text-align: right;\n",
              "    }\n",
              "</style>\n",
              "<table border=\"1\" class=\"dataframe\">\n",
              "  <thead>\n",
              "    <tr style=\"text-align: right;\">\n",
              "      <th></th>\n",
              "      <th>MAIN_AREA</th>\n",
              "    </tr>\n",
              "  </thead>\n",
              "  <tbody>\n",
              "    <tr>\n",
              "      <th>2647</th>\n",
              "      <td>1760.0</td>\n",
              "    </tr>\n",
              "    <tr>\n",
              "      <th>10121</th>\n",
              "      <td>1457.0</td>\n",
              "    </tr>\n",
              "    <tr>\n",
              "      <th>9306</th>\n",
              "      <td>4180.0</td>\n",
              "    </tr>\n",
              "    <tr>\n",
              "      <th>856</th>\n",
              "      <td>660.0</td>\n",
              "    </tr>\n",
              "    <tr>\n",
              "      <th>9430</th>\n",
              "      <td>1970.0</td>\n",
              "    </tr>\n",
              "  </tbody>\n",
              "</table>\n",
              "</div>\n",
              "      <button class=\"colab-df-convert\" onclick=\"convertToInteractive('df-cfc6554b-931e-4948-9b98-762d7ba70901')\"\n",
              "              title=\"Convert this dataframe to an interactive table.\"\n",
              "              style=\"display:none;\">\n",
              "        \n",
              "  <svg xmlns=\"http://www.w3.org/2000/svg\" height=\"24px\"viewBox=\"0 0 24 24\"\n",
              "       width=\"24px\">\n",
              "    <path d=\"M0 0h24v24H0V0z\" fill=\"none\"/>\n",
              "    <path d=\"M18.56 5.44l.94 2.06.94-2.06 2.06-.94-2.06-.94-.94-2.06-.94 2.06-2.06.94zm-11 1L8.5 8.5l.94-2.06 2.06-.94-2.06-.94L8.5 2.5l-.94 2.06-2.06.94zm10 10l.94 2.06.94-2.06 2.06-.94-2.06-.94-.94-2.06-.94 2.06-2.06.94z\"/><path d=\"M17.41 7.96l-1.37-1.37c-.4-.4-.92-.59-1.43-.59-.52 0-1.04.2-1.43.59L10.3 9.45l-7.72 7.72c-.78.78-.78 2.05 0 2.83L4 21.41c.39.39.9.59 1.41.59.51 0 1.02-.2 1.41-.59l7.78-7.78 2.81-2.81c.8-.78.8-2.07 0-2.86zM5.41 20L4 18.59l7.72-7.72 1.47 1.35L5.41 20z\"/>\n",
              "  </svg>\n",
              "      </button>\n",
              "      \n",
              "  <style>\n",
              "    .colab-df-container {\n",
              "      display:flex;\n",
              "      flex-wrap:wrap;\n",
              "      gap: 12px;\n",
              "    }\n",
              "\n",
              "    .colab-df-convert {\n",
              "      background-color: #E8F0FE;\n",
              "      border: none;\n",
              "      border-radius: 50%;\n",
              "      cursor: pointer;\n",
              "      display: none;\n",
              "      fill: #1967D2;\n",
              "      height: 32px;\n",
              "      padding: 0 0 0 0;\n",
              "      width: 32px;\n",
              "    }\n",
              "\n",
              "    .colab-df-convert:hover {\n",
              "      background-color: #E2EBFA;\n",
              "      box-shadow: 0px 1px 2px rgba(60, 64, 67, 0.3), 0px 1px 3px 1px rgba(60, 64, 67, 0.15);\n",
              "      fill: #174EA6;\n",
              "    }\n",
              "\n",
              "    [theme=dark] .colab-df-convert {\n",
              "      background-color: #3B4455;\n",
              "      fill: #D2E3FC;\n",
              "    }\n",
              "\n",
              "    [theme=dark] .colab-df-convert:hover {\n",
              "      background-color: #434B5C;\n",
              "      box-shadow: 0px 1px 3px 1px rgba(0, 0, 0, 0.15);\n",
              "      filter: drop-shadow(0px 1px 2px rgba(0, 0, 0, 0.3));\n",
              "      fill: #FFFFFF;\n",
              "    }\n",
              "  </style>\n",
              "\n",
              "      <script>\n",
              "        const buttonEl =\n",
              "          document.querySelector('#df-cfc6554b-931e-4948-9b98-762d7ba70901 button.colab-df-convert');\n",
              "        buttonEl.style.display =\n",
              "          google.colab.kernel.accessAllowed ? 'block' : 'none';\n",
              "\n",
              "        async function convertToInteractive(key) {\n",
              "          const element = document.querySelector('#df-cfc6554b-931e-4948-9b98-762d7ba70901');\n",
              "          const dataTable =\n",
              "            await google.colab.kernel.invokeFunction('convertToInteractive',\n",
              "                                                     [key], {});\n",
              "          if (!dataTable) return;\n",
              "\n",
              "          const docLinkHtml = 'Like what you see? Visit the ' +\n",
              "            '<a target=\"_blank\" href=https://colab.research.google.com/notebooks/data_table.ipynb>data table notebook</a>'\n",
              "            + ' to learn more about interactive tables.';\n",
              "          element.innerHTML = '';\n",
              "          dataTable['output_type'] = 'display_data';\n",
              "          await google.colab.output.renderOutput(dataTable, element);\n",
              "          const docLink = document.createElement('div');\n",
              "          docLink.innerHTML = docLinkHtml;\n",
              "          element.appendChild(docLink);\n",
              "        }\n",
              "      </script>\n",
              "    </div>\n",
              "  </div>\n",
              "  "
            ],
            "text/plain": [
              "       MAIN_AREA\n",
              "2647      1760.0\n",
              "10121     1457.0\n",
              "9306      4180.0\n",
              "856        660.0\n",
              "9430      1970.0"
            ]
          },
          "metadata": {},
          "execution_count": 66
        }
      ]
    },
    {
      "cell_type": "code",
      "source": [
        "result_df['y_pred'] = y_pred"
      ],
      "metadata": {
        "id": "4oKBWOijCzD0"
      },
      "execution_count": 67,
      "outputs": []
    },
    {
      "cell_type": "code",
      "source": [
        "result_df.T"
      ],
      "metadata": {
        "id": "SkVslLzoDBNz",
        "outputId": "a45b82f0-be0c-46ab-f1d5-379ff47eba55",
        "colab": {
          "base_uri": "https://localhost:8080/",
          "height": 205
        }
      },
      "execution_count": 68,
      "outputs": [
        {
          "output_type": "execute_result",
          "data": {
            "text/html": [
              "\n",
              "  <div id=\"df-ce6a50f6-717a-4be5-8ea4-b07d4cc8e827\">\n",
              "    <div class=\"colab-df-container\">\n",
              "      <div>\n",
              "<style scoped>\n",
              "    .dataframe tbody tr th:only-of-type {\n",
              "        vertical-align: middle;\n",
              "    }\n",
              "\n",
              "    .dataframe tbody tr th {\n",
              "        vertical-align: top;\n",
              "    }\n",
              "\n",
              "    .dataframe thead th {\n",
              "        text-align: right;\n",
              "    }\n",
              "</style>\n",
              "<table border=\"1\" class=\"dataframe\">\n",
              "  <thead>\n",
              "    <tr style=\"text-align: right;\">\n",
              "      <th></th>\n",
              "      <th>2647</th>\n",
              "      <th>10121</th>\n",
              "      <th>9306</th>\n",
              "      <th>856</th>\n",
              "      <th>9430</th>\n",
              "      <th>7546</th>\n",
              "      <th>9223</th>\n",
              "      <th>5722</th>\n",
              "      <th>1444</th>\n",
              "      <th>9488</th>\n",
              "      <th>7450</th>\n",
              "      <th>8252</th>\n",
              "      <th>10619</th>\n",
              "      <th>2091</th>\n",
              "      <th>9781</th>\n",
              "      <th>477</th>\n",
              "      <th>3519</th>\n",
              "      <th>9296</th>\n",
              "      <th>4796</th>\n",
              "      <th>9407</th>\n",
              "      <th>1811</th>\n",
              "      <th>3673</th>\n",
              "      <th>9486</th>\n",
              "      <th>1762</th>\n",
              "      <th>9819</th>\n",
              "      <th>7887</th>\n",
              "      <th>11912</th>\n",
              "      <th>9116</th>\n",
              "      <th>9068</th>\n",
              "      <th>335</th>\n",
              "      <th>8062</th>\n",
              "      <th>11302</th>\n",
              "      <th>527</th>\n",
              "      <th>2315</th>\n",
              "      <th>11719</th>\n",
              "      <th>5730</th>\n",
              "      <th>13663</th>\n",
              "      <th>2492</th>\n",
              "      <th>2446</th>\n",
              "      <th>12817</th>\n",
              "      <th>...</th>\n",
              "      <th>10447</th>\n",
              "      <th>10481</th>\n",
              "      <th>1505</th>\n",
              "      <th>6416</th>\n",
              "      <th>2743</th>\n",
              "      <th>10955</th>\n",
              "      <th>4082</th>\n",
              "      <th>4521</th>\n",
              "      <th>4063</th>\n",
              "      <th>13579</th>\n",
              "      <th>8882</th>\n",
              "      <th>2548</th>\n",
              "      <th>740</th>\n",
              "      <th>4707</th>\n",
              "      <th>4645</th>\n",
              "      <th>5729</th>\n",
              "      <th>12293</th>\n",
              "      <th>6892</th>\n",
              "      <th>13357</th>\n",
              "      <th>9420</th>\n",
              "      <th>13622</th>\n",
              "      <th>5709</th>\n",
              "      <th>3149</th>\n",
              "      <th>7466</th>\n",
              "      <th>9878</th>\n",
              "      <th>877</th>\n",
              "      <th>4077</th>\n",
              "      <th>13451</th>\n",
              "      <th>4286</th>\n",
              "      <th>2317</th>\n",
              "      <th>8776</th>\n",
              "      <th>12196</th>\n",
              "      <th>13136</th>\n",
              "      <th>3574</th>\n",
              "      <th>12918</th>\n",
              "      <th>12859</th>\n",
              "      <th>1517</th>\n",
              "      <th>7319</th>\n",
              "      <th>4897</th>\n",
              "      <th>7104</th>\n",
              "    </tr>\n",
              "  </thead>\n",
              "  <tbody>\n",
              "    <tr>\n",
              "      <th>MAIN_AREA</th>\n",
              "      <td>1760.0</td>\n",
              "      <td>1457.0</td>\n",
              "      <td>4180.0</td>\n",
              "      <td>660.0</td>\n",
              "      <td>1970.000</td>\n",
              "      <td>915.40</td>\n",
              "      <td>473.0</td>\n",
              "      <td>200.0</td>\n",
              "      <td>300.0</td>\n",
              "      <td>200.0</td>\n",
              "      <td>1800.0</td>\n",
              "      <td>620.0</td>\n",
              "      <td>320.0</td>\n",
              "      <td>5773.000</td>\n",
              "      <td>2044.0</td>\n",
              "      <td>634.0</td>\n",
              "      <td>878.080</td>\n",
              "      <td>200.0</td>\n",
              "      <td>540.65</td>\n",
              "      <td>1856.0</td>\n",
              "      <td>380.0</td>\n",
              "      <td>624.960</td>\n",
              "      <td>200.0</td>\n",
              "      <td>1020.1020</td>\n",
              "      <td>897.0000</td>\n",
              "      <td>270.0</td>\n",
              "      <td>4320.0</td>\n",
              "      <td>450.0</td>\n",
              "      <td>523.0</td>\n",
              "      <td>5594.0</td>\n",
              "      <td>805.0</td>\n",
              "      <td>2015.710</td>\n",
              "      <td>578.00</td>\n",
              "      <td>1000.0</td>\n",
              "      <td>280.0</td>\n",
              "      <td>1072.000</td>\n",
              "      <td>375.0</td>\n",
              "      <td>450.000</td>\n",
              "      <td>408.80</td>\n",
              "      <td>3750.0</td>\n",
              "      <td>...</td>\n",
              "      <td>570.0</td>\n",
              "      <td>570.000</td>\n",
              "      <td>2200.00</td>\n",
              "      <td>273.0</td>\n",
              "      <td>288.0</td>\n",
              "      <td>301.0</td>\n",
              "      <td>220.0</td>\n",
              "      <td>713.000</td>\n",
              "      <td>220.0</td>\n",
              "      <td>512.0</td>\n",
              "      <td>1147.000</td>\n",
              "      <td>2420.000</td>\n",
              "      <td>240.0</td>\n",
              "      <td>1000.00</td>\n",
              "      <td>550.2</td>\n",
              "      <td>503.0</td>\n",
              "      <td>480.000</td>\n",
              "      <td>400.0</td>\n",
              "      <td>440.000</td>\n",
              "      <td>1991.0</td>\n",
              "      <td>200.000</td>\n",
              "      <td>1230.00</td>\n",
              "      <td>1038.000</td>\n",
              "      <td>1800.0</td>\n",
              "      <td>1472.00</td>\n",
              "      <td>990.0</td>\n",
              "      <td>220.0</td>\n",
              "      <td>841.000</td>\n",
              "      <td>500.0</td>\n",
              "      <td>920.000</td>\n",
              "      <td>891.000</td>\n",
              "      <td>700.00</td>\n",
              "      <td>145.000</td>\n",
              "      <td>1011.360</td>\n",
              "      <td>882.0</td>\n",
              "      <td>401.74</td>\n",
              "      <td>500.000</td>\n",
              "      <td>610.000</td>\n",
              "      <td>750.200</td>\n",
              "      <td>717.600</td>\n",
              "    </tr>\n",
              "    <tr>\n",
              "      <th>y_pred</th>\n",
              "      <td>1715.3</td>\n",
              "      <td>1481.4</td>\n",
              "      <td>4206.8</td>\n",
              "      <td>702.5</td>\n",
              "      <td>2044.799</td>\n",
              "      <td>863.09</td>\n",
              "      <td>469.2</td>\n",
              "      <td>199.0</td>\n",
              "      <td>307.0</td>\n",
              "      <td>200.0</td>\n",
              "      <td>1800.0</td>\n",
              "      <td>629.5</td>\n",
              "      <td>320.0</td>\n",
              "      <td>6020.141</td>\n",
              "      <td>1963.2</td>\n",
              "      <td>637.9</td>\n",
              "      <td>900.524</td>\n",
              "      <td>207.1</td>\n",
              "      <td>548.75</td>\n",
              "      <td>1869.6</td>\n",
              "      <td>380.0</td>\n",
              "      <td>642.892</td>\n",
              "      <td>200.0</td>\n",
              "      <td>1020.3468</td>\n",
              "      <td>919.2734</td>\n",
              "      <td>267.0</td>\n",
              "      <td>4172.0</td>\n",
              "      <td>454.1</td>\n",
              "      <td>527.6</td>\n",
              "      <td>5562.5</td>\n",
              "      <td>805.0</td>\n",
              "      <td>2202.549</td>\n",
              "      <td>589.62</td>\n",
              "      <td>953.0</td>\n",
              "      <td>304.3</td>\n",
              "      <td>1015.025</td>\n",
              "      <td>300.0</td>\n",
              "      <td>418.056</td>\n",
              "      <td>389.08</td>\n",
              "      <td>3579.4</td>\n",
              "      <td>...</td>\n",
              "      <td>570.0</td>\n",
              "      <td>512.945</td>\n",
              "      <td>2152.31</td>\n",
              "      <td>271.7</td>\n",
              "      <td>317.6</td>\n",
              "      <td>256.4</td>\n",
              "      <td>220.0</td>\n",
              "      <td>585.116</td>\n",
              "      <td>220.0</td>\n",
              "      <td>600.0</td>\n",
              "      <td>1242.032</td>\n",
              "      <td>2296.808</td>\n",
              "      <td>240.0</td>\n",
              "      <td>907.35</td>\n",
              "      <td>481.8</td>\n",
              "      <td>486.4</td>\n",
              "      <td>427.385</td>\n",
              "      <td>400.0</td>\n",
              "      <td>467.786</td>\n",
              "      <td>2264.5</td>\n",
              "      <td>191.808</td>\n",
              "      <td>1489.43</td>\n",
              "      <td>803.296</td>\n",
              "      <td>1800.0</td>\n",
              "      <td>1620.84</td>\n",
              "      <td>999.4</td>\n",
              "      <td>220.0</td>\n",
              "      <td>794.478</td>\n",
              "      <td>561.9</td>\n",
              "      <td>760.416</td>\n",
              "      <td>1048.522</td>\n",
              "      <td>595.03</td>\n",
              "      <td>158.166</td>\n",
              "      <td>998.496</td>\n",
              "      <td>755.1</td>\n",
              "      <td>324.70</td>\n",
              "      <td>560.675</td>\n",
              "      <td>726.805</td>\n",
              "      <td>678.803</td>\n",
              "      <td>765.342</td>\n",
              "    </tr>\n",
              "  </tbody>\n",
              "</table>\n",
              "<p>2 rows × 4082 columns</p>\n",
              "</div>\n",
              "      <button class=\"colab-df-convert\" onclick=\"convertToInteractive('df-ce6a50f6-717a-4be5-8ea4-b07d4cc8e827')\"\n",
              "              title=\"Convert this dataframe to an interactive table.\"\n",
              "              style=\"display:none;\">\n",
              "        \n",
              "  <svg xmlns=\"http://www.w3.org/2000/svg\" height=\"24px\"viewBox=\"0 0 24 24\"\n",
              "       width=\"24px\">\n",
              "    <path d=\"M0 0h24v24H0V0z\" fill=\"none\"/>\n",
              "    <path d=\"M18.56 5.44l.94 2.06.94-2.06 2.06-.94-2.06-.94-.94-2.06-.94 2.06-2.06.94zm-11 1L8.5 8.5l.94-2.06 2.06-.94-2.06-.94L8.5 2.5l-.94 2.06-2.06.94zm10 10l.94 2.06.94-2.06 2.06-.94-2.06-.94-.94-2.06-.94 2.06-2.06.94z\"/><path d=\"M17.41 7.96l-1.37-1.37c-.4-.4-.92-.59-1.43-.59-.52 0-1.04.2-1.43.59L10.3 9.45l-7.72 7.72c-.78.78-.78 2.05 0 2.83L4 21.41c.39.39.9.59 1.41.59.51 0 1.02-.2 1.41-.59l7.78-7.78 2.81-2.81c.8-.78.8-2.07 0-2.86zM5.41 20L4 18.59l7.72-7.72 1.47 1.35L5.41 20z\"/>\n",
              "  </svg>\n",
              "      </button>\n",
              "      \n",
              "  <style>\n",
              "    .colab-df-container {\n",
              "      display:flex;\n",
              "      flex-wrap:wrap;\n",
              "      gap: 12px;\n",
              "    }\n",
              "\n",
              "    .colab-df-convert {\n",
              "      background-color: #E8F0FE;\n",
              "      border: none;\n",
              "      border-radius: 50%;\n",
              "      cursor: pointer;\n",
              "      display: none;\n",
              "      fill: #1967D2;\n",
              "      height: 32px;\n",
              "      padding: 0 0 0 0;\n",
              "      width: 32px;\n",
              "    }\n",
              "\n",
              "    .colab-df-convert:hover {\n",
              "      background-color: #E2EBFA;\n",
              "      box-shadow: 0px 1px 2px rgba(60, 64, 67, 0.3), 0px 1px 3px 1px rgba(60, 64, 67, 0.15);\n",
              "      fill: #174EA6;\n",
              "    }\n",
              "\n",
              "    [theme=dark] .colab-df-convert {\n",
              "      background-color: #3B4455;\n",
              "      fill: #D2E3FC;\n",
              "    }\n",
              "\n",
              "    [theme=dark] .colab-df-convert:hover {\n",
              "      background-color: #434B5C;\n",
              "      box-shadow: 0px 1px 3px 1px rgba(0, 0, 0, 0.15);\n",
              "      filter: drop-shadow(0px 1px 2px rgba(0, 0, 0, 0.3));\n",
              "      fill: #FFFFFF;\n",
              "    }\n",
              "  </style>\n",
              "\n",
              "      <script>\n",
              "        const buttonEl =\n",
              "          document.querySelector('#df-ce6a50f6-717a-4be5-8ea4-b07d4cc8e827 button.colab-df-convert');\n",
              "        buttonEl.style.display =\n",
              "          google.colab.kernel.accessAllowed ? 'block' : 'none';\n",
              "\n",
              "        async function convertToInteractive(key) {\n",
              "          const element = document.querySelector('#df-ce6a50f6-717a-4be5-8ea4-b07d4cc8e827');\n",
              "          const dataTable =\n",
              "            await google.colab.kernel.invokeFunction('convertToInteractive',\n",
              "                                                     [key], {});\n",
              "          if (!dataTable) return;\n",
              "\n",
              "          const docLinkHtml = 'Like what you see? Visit the ' +\n",
              "            '<a target=\"_blank\" href=https://colab.research.google.com/notebooks/data_table.ipynb>data table notebook</a>'\n",
              "            + ' to learn more about interactive tables.';\n",
              "          element.innerHTML = '';\n",
              "          dataTable['output_type'] = 'display_data';\n",
              "          await google.colab.output.renderOutput(dataTable, element);\n",
              "          const docLink = document.createElement('div');\n",
              "          docLink.innerHTML = docLinkHtml;\n",
              "          element.appendChild(docLink);\n",
              "        }\n",
              "      </script>\n",
              "    </div>\n",
              "  </div>\n",
              "  "
            ],
            "text/plain": [
              "            2647    10121   9306   856    ...    1517     7319     4897     7104 \n",
              "MAIN_AREA  1760.0  1457.0  4180.0  660.0  ...  500.000  610.000  750.200  717.600\n",
              "y_pred     1715.3  1481.4  4206.8  702.5  ...  560.675  726.805  678.803  765.342\n",
              "\n",
              "[2 rows x 4082 columns]"
            ]
          },
          "metadata": {},
          "execution_count": 68
        }
      ]
    }
  ]
}