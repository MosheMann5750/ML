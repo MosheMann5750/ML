{
  "nbformat": 4,
  "nbformat_minor": 0,
  "metadata": {
    "colab": {
      "name": "DetailedResidencePlans.ipynb",
      "provenance": [],
      "toc_visible": true,
      "include_colab_link": true
    },
    "kernelspec": {
      "name": "python3",
      "display_name": "Python 3"
    },
    "language_info": {
      "name": "python"
    }
  },
  "cells": [
    {
      "cell_type": "markdown",
      "metadata": {
        "id": "view-in-github",
        "colab_type": "text"
      },
      "source": [
        "<a href=\"https://colab.research.google.com/github/mannmoshe/machine-learning/blob/main/FinalProject/DetailedResidencePlans_Hebrew.ipynb\" target=\"_parent\"><img src=\"https://colab.research.google.com/assets/colab-badge.svg\" alt=\"Open In Colab\"/></a>"
      ]
    },
    {
      "cell_type": "markdown",
      "source": [
        "# פרויקט Machine Learning - תוכניות מגורים מפורטות<br>*מאת משה מן*"
      ],
      "metadata": {
        "id": "ZEjIPay33abT"
      }
    },
    {
      "cell_type": "markdown",
      "source": [
        "**סקירה כללית**<br>\n",
        "מינהל התכנון מטפל בין השאר בתוכניות בנייה מפורטות.<BR>כל תכנית מפורטת מכילה נתונים רבים,<BR> הנתונים שנתמקד בהם בפרויקט זה הם נתוני תכניות מגורים.<BR><BR> כל בניין מתחלק לשטח ראשי ושטח שירות<BR>שטח ראשי הוא השטח שחולק בין הדיירים, כמו הדירות<BR>ושטח השירות הוא שטח המשותף לכל הדיירים, כמו חניה, חדר מדרגות ועוד.<BR><BR>\n",
        "בעתיד הקרוב נתוני התוכניות לא יכללו את החלוקה בין אזור ראשי לשירות, כי זה לא חשוב לרשות כיחידה תכנונית, <BR>אבל עדיין, זה נתון חשוב לרגולציה, למשל בשביל חישוב הארנונה.<BR><BR> מטרת הפרויקט הוא לחזות את היחס בין שטח עיקרי לשטח שירות על סמך תכונות תא השטח והתוכנית, כך שניתן יהיה להשתמש במודל למטרות רגולטוריות.\n",
        "\n"
      ],
      "metadata": {
        "id": "pcfRRxNVLaMm"
      }
    },
    {
      "cell_type": "markdown",
      "source": [
        "ניתן לראות את הפרטים והמסמכים של התוכנית בכתובת:<br>\n",
        "https://mavat.moin.gov.il/MavatPS/Forms/SV3.aspx?tid=3<br>\n",
        "על ידי הזנת ה-PL_NUMBER.<BR>\n",
        "נתוני שטח עיקרי ושירות נמצאים בקובץ הוראות תוכנית."
      ],
      "metadata": {
        "id": "Ylpcw-6ojLcj"
      }
    },
    {
      "cell_type": "markdown",
      "source": [
        "ייבוא הנתונים:"
      ],
      "metadata": {
        "id": "RNO9c8MSV1kV"
      }
    },
    {
      "cell_type": "code",
      "execution_count": 1,
      "metadata": {
        "id": "_E9eo8uh3ZkZ"
      },
      "outputs": [],
      "source": [
        "import pandas as pd\n",
        "import seaborn as sns; sns.set()\n",
        "import warnings\n",
        "warnings.filterwarnings('ignore')"
      ]
    },
    {
      "cell_type": "code",
      "source": [
        "cellsdata = pd.read_csv('https://raw.githubusercontent.com/mannmoshe/machine-learning/main/FinalProject/cellsData.csv')"
      ],
      "metadata": {
        "id": "ZqjZVz1jUDLC"
      },
      "execution_count": 2,
      "outputs": []
    },
    {
      "cell_type": "markdown",
      "source": [
        "הנתונים הם של תוכניות מפורטות עם אזור מגורים שאושרו בין ינואר 2017 לנובמבר 2021.\n",
        "### רשימת השדות\n",
        "\n",
        "<table>\n",
        "  <tbody>\n",
        "    <tr valign=\"top\">\n",
        "      <td valign=\"top\">\n",
        "        <ul>\n",
        "          <li>PL_NUMBER : מספר התוכנית</li>\n",
        "          <br>\n",
        "          <li>PL_AREA: מספר התוכנית משורשר למספר של תא שטח (לתכנית יכולים להיות כמה תאי שטח)</li>\n",
        "          <br>\n",
        "          <li>LANDUSE: שימוש בקרקע</li>\n",
        "          <br>\n",
        "          <li>MAIN_AREA: שטח מחולק בין הדיירים מעל הכניסה הקובעת (מטר מרובע)<br>זהו המשתנה התלוי שצריך לחזות!</li>\n",
        "          <br>\n",
        "          <li>SERVICE_AREA: אזור משותף של כל הדיירים מעל הכניסה הקובעת (מטר מרובע)</li>\n",
        "          <br>\n",
        "          <li>CELL_SIZE_TOTAL: הגודל של תא שטח</li>\n",
        "          <br>\n",
        "          <li>CELL_SIZE_MIN: הגודל המינימלי של תא שטח</li>\n",
        "          <br>\n",
        "          <li>CELL_SIZE_MAX: הגודל המרבי של תא שטח</li>\n",
        "          <br>\n",
        "          <li>HOUSING_UNITS: מספר יחידות דיור</li>\n",
        "          <br>\n",
        "          <li>BUILDING_HEIGHT: גובה הבניין (מטר)</li>\n",
        "          <br>\n",
        "          <li>FLOORS_NUM: מספר הקומות</li>\n",
        "          <br>\n",
        "          <li>TOTAL_AREA: סכום השטח הראשי ואזור השירות</li>\n",
        "          <br>\n",
        "          <li>AUTHORITY: סמכות התוכנית</li>\n",
        "          <br>\n",
        "          <li>DISTRICT: מחוז התוכנית</li>\n",
        "          <br>\n",
        "          <li>SECTOR_GROUP: מגזר התוכנית</li>\n",
        "          <br>\n",
        "          <li>CONFIRMATION_YEAR: שנת אישור התוכנית</li>\n",
        "          <br>\n",
        "          <li>CONSTRUCTION_TYPE_GROUP: סוג הבנייה</li>\n",
        "        </ul>\n",
        "      </td>\n",
        "    </tr>\n",
        "    \n",
        "  </tbody>\n",
        "</table>"
      ],
      "metadata": {
        "id": "cDWHufahSZIJ"
      }
    },
    {
      "cell_type": "code",
      "source": [
        "cellsdata.shape"
      ],
      "metadata": {
        "colab": {
          "base_uri": "https://localhost:8080/"
        },
        "id": "_eEhtbV44F46",
        "outputId": "30d8f87a-45ee-4baa-930b-8c06a6c2ccf0"
      },
      "execution_count": 3,
      "outputs": [
        {
          "output_type": "execute_result",
          "data": {
            "text/plain": [
              "(13709, 17)"
            ]
          },
          "metadata": {},
          "execution_count": 3
        }
      ]
    },
    {
      "cell_type": "markdown",
      "source": [
        "הנתונים מורכבים מ-13,709 שורות (כאשר כל שורה מייצגת תא שטח) ו-17 עמודות."
      ],
      "metadata": {
        "id": "I-oF9IVvaaeu"
      }
    },
    {
      "cell_type": "markdown",
      "source": [
        "נראה את סוג הנתונים (data type):"
      ],
      "metadata": {
        "id": "BZ44r2yVe2Lo"
      }
    },
    {
      "cell_type": "code",
      "source": [
        "cellsdata.info()"
      ],
      "metadata": {
        "colab": {
          "base_uri": "https://localhost:8080/"
        },
        "id": "K3gjPDzb4yoy",
        "outputId": "223fb044-5af2-414a-9ef9-342392f37207"
      },
      "execution_count": 4,
      "outputs": [
        {
          "output_type": "stream",
          "name": "stdout",
          "text": [
            "<class 'pandas.core.frame.DataFrame'>\n",
            "RangeIndex: 13709 entries, 0 to 13708\n",
            "Data columns (total 17 columns):\n",
            " #   Column                   Non-Null Count  Dtype  \n",
            "---  ------                   --------------  -----  \n",
            " 0   PL_NUMBER                13709 non-null  object \n",
            " 1   PL_AREA                  13709 non-null  object \n",
            " 2   LANDUSE                  13709 non-null  object \n",
            " 3   MAIN_AREA                13709 non-null  float64\n",
            " 4   SERVICE_AREA             13709 non-null  float64\n",
            " 5   CELL_SIZE_TOTAL          13709 non-null  float64\n",
            " 6   CELL_SIZE_MIN            13709 non-null  float64\n",
            " 7   CELL_SIZE_MAX            13709 non-null  float64\n",
            " 8   HOUSING_UNITS            13709 non-null  float64\n",
            " 9   BUILDING_HEIGHT          13709 non-null  float64\n",
            " 10  FLOORS_NUM               13709 non-null  float64\n",
            " 11  TOTAL_AREA               13709 non-null  float64\n",
            " 12  AUTHORITY                13709 non-null  object \n",
            " 13  DISTRICT                 13709 non-null  object \n",
            " 14  SECTOR_GROUP             13709 non-null  object \n",
            " 15  CONFIRMATION_YEAR        13709 non-null  int64  \n",
            " 16  CONSTRUCTION_TYPE_GROUP  13704 non-null  object \n",
            "dtypes: float64(9), int64(1), object(7)\n",
            "memory usage: 1.8+ MB\n"
          ]
        }
      ]
    },
    {
      "cell_type": "markdown",
      "source": [
        "## Data Preprocessing"
      ],
      "metadata": {
        "id": "0P1kMNgmnqvp"
      }
    },
    {
      "cell_type": "markdown",
      "source": [
        "כעת נייצר עמודה נוספת בכדי לבדוק מהו אחוז השטח העיקרי"
      ],
      "metadata": {
        "id": "QpP-ELM9gGza"
      }
    },
    {
      "cell_type": "code",
      "source": [
        "cellsdata['MAIN_AREA_PER'] = cellsdata['MAIN_AREA'] / cellsdata['TOTAL_AREA']"
      ],
      "metadata": {
        "id": "qL3zuU0wgF0Z"
      },
      "execution_count": 5,
      "outputs": []
    },
    {
      "cell_type": "markdown",
      "source": [
        "כמעט כל תכנית מורכבת משטחים מרובים, ובדרך כלל תכונות השטח של אותה תכנית דומות מאוד, עובדה זו עשויה לתת השפעה עודפת לתכנית ספציפית; <br>למשל תכנית שיש לה 100 תאי שטח שבכולם אחוז שטח העיקרי הוא 80% תשפיע על הממוצע יותר מתכנית עם תא שטח בודד שבה השטח העיקרי הוא 60% <br>לכן אקח רק את השטח הראשון של כל תכנית."
      ],
      "metadata": {
        "id": "6JIi8ZdCbmFN"
      }
    },
    {
      "cell_type": "code",
      "source": [
        "data = cellsdata.drop_duplicates(subset=\"PL_NUMBER\", keep=\"first\")\n",
        "data.shape"
      ],
      "metadata": {
        "colab": {
          "base_uri": "https://localhost:8080/"
        },
        "id": "UTJXt5xKbtjb",
        "outputId": "ad5c6b45-486d-435a-a225-60385618c1f3"
      },
      "execution_count": 6,
      "outputs": [
        {
          "output_type": "execute_result",
          "data": {
            "text/plain": [
              "(2582, 18)"
            ]
          },
          "metadata": {},
          "execution_count": 6
        }
      ]
    },
    {
      "cell_type": "markdown",
      "source": [
        "נותרנו עם 2,582 תכניות, כאשר לכל תכנית יש תא שטח יחיד שמייצג אותה.\n",
        "הנה חלק מהנתונים לדוגמא:"
      ],
      "metadata": {
        "id": "WUbGDbcma8Ux"
      }
    },
    {
      "cell_type": "code",
      "source": [
        "data.head(3)"
      ],
      "metadata": {
        "colab": {
          "base_uri": "https://localhost:8080/",
          "height": 294
        },
        "id": "NkyXW97Z4IrB",
        "outputId": "14dce567-0cf6-4926-8d94-7b6907528ad3"
      },
      "execution_count": 7,
      "outputs": [
        {
          "output_type": "execute_result",
          "data": {
            "text/plain": [
              "      PL_NUMBER          PL_AREA LANDUSE  MAIN_AREA  SERVICE_AREA  \\\n",
              "0   610-0197038  610-0197038-102  מגורים      975.0         300.0   \n",
              "2   151-0392894  151-0392894-210  מגורים      960.0         180.0   \n",
              "73    תמל/ 1049    תמל/ 1049-123  מגורים      152.0          48.0   \n",
              "\n",
              "    CELL_SIZE_TOTAL  CELL_SIZE_MIN  CELL_SIZE_MAX  HOUSING_UNITS  \\\n",
              "0            2466.0            0.0            0.0           16.0   \n",
              "2            2820.0            0.0            0.0            6.0   \n",
              "73            420.0            0.0            0.0            1.0   \n",
              "\n",
              "    BUILDING_HEIGHT  FLOORS_NUM  TOTAL_AREA AUTHORITY DISTRICT  \\\n",
              "0              11.0         2.0      1275.0    מחוזית     דרום   \n",
              "2              17.0         4.0      1140.0    מחוזית  ירושלים   \n",
              "73              0.0         2.0       200.0     ארצית     מרכז   \n",
              "\n",
              "           SECTOR_GROUP  CONFIRMATION_YEAR CONSTRUCTION_TYPE_GROUP  \\\n",
              "0   חברה כללית / מעורבת               2017                    חדשה   \n",
              "2   חברה כללית / מעורבת               2017                 התחדשות   \n",
              "73  חברה כללית / מעורבת               2019                    חדשה   \n",
              "\n",
              "    MAIN_AREA_PER  \n",
              "0        0.764706  \n",
              "2        0.842105  \n",
              "73       0.760000  "
            ],
            "text/html": [
              "\n",
              "  <div id=\"df-0a8bf955-f992-4932-b833-af74574e3f20\">\n",
              "    <div class=\"colab-df-container\">\n",
              "      <div>\n",
              "<style scoped>\n",
              "    .dataframe tbody tr th:only-of-type {\n",
              "        vertical-align: middle;\n",
              "    }\n",
              "\n",
              "    .dataframe tbody tr th {\n",
              "        vertical-align: top;\n",
              "    }\n",
              "\n",
              "    .dataframe thead th {\n",
              "        text-align: right;\n",
              "    }\n",
              "</style>\n",
              "<table border=\"1\" class=\"dataframe\">\n",
              "  <thead>\n",
              "    <tr style=\"text-align: right;\">\n",
              "      <th></th>\n",
              "      <th>PL_NUMBER</th>\n",
              "      <th>PL_AREA</th>\n",
              "      <th>LANDUSE</th>\n",
              "      <th>MAIN_AREA</th>\n",
              "      <th>SERVICE_AREA</th>\n",
              "      <th>CELL_SIZE_TOTAL</th>\n",
              "      <th>CELL_SIZE_MIN</th>\n",
              "      <th>CELL_SIZE_MAX</th>\n",
              "      <th>HOUSING_UNITS</th>\n",
              "      <th>BUILDING_HEIGHT</th>\n",
              "      <th>FLOORS_NUM</th>\n",
              "      <th>TOTAL_AREA</th>\n",
              "      <th>AUTHORITY</th>\n",
              "      <th>DISTRICT</th>\n",
              "      <th>SECTOR_GROUP</th>\n",
              "      <th>CONFIRMATION_YEAR</th>\n",
              "      <th>CONSTRUCTION_TYPE_GROUP</th>\n",
              "      <th>MAIN_AREA_PER</th>\n",
              "    </tr>\n",
              "  </thead>\n",
              "  <tbody>\n",
              "    <tr>\n",
              "      <th>0</th>\n",
              "      <td>610-0197038</td>\n",
              "      <td>610-0197038-102</td>\n",
              "      <td>מגורים</td>\n",
              "      <td>975.0</td>\n",
              "      <td>300.0</td>\n",
              "      <td>2466.0</td>\n",
              "      <td>0.0</td>\n",
              "      <td>0.0</td>\n",
              "      <td>16.0</td>\n",
              "      <td>11.0</td>\n",
              "      <td>2.0</td>\n",
              "      <td>1275.0</td>\n",
              "      <td>מחוזית</td>\n",
              "      <td>דרום</td>\n",
              "      <td>חברה כללית / מעורבת</td>\n",
              "      <td>2017</td>\n",
              "      <td>חדשה</td>\n",
              "      <td>0.764706</td>\n",
              "    </tr>\n",
              "    <tr>\n",
              "      <th>2</th>\n",
              "      <td>151-0392894</td>\n",
              "      <td>151-0392894-210</td>\n",
              "      <td>מגורים</td>\n",
              "      <td>960.0</td>\n",
              "      <td>180.0</td>\n",
              "      <td>2820.0</td>\n",
              "      <td>0.0</td>\n",
              "      <td>0.0</td>\n",
              "      <td>6.0</td>\n",
              "      <td>17.0</td>\n",
              "      <td>4.0</td>\n",
              "      <td>1140.0</td>\n",
              "      <td>מחוזית</td>\n",
              "      <td>ירושלים</td>\n",
              "      <td>חברה כללית / מעורבת</td>\n",
              "      <td>2017</td>\n",
              "      <td>התחדשות</td>\n",
              "      <td>0.842105</td>\n",
              "    </tr>\n",
              "    <tr>\n",
              "      <th>73</th>\n",
              "      <td>תמל/ 1049</td>\n",
              "      <td>תמל/ 1049-123</td>\n",
              "      <td>מגורים</td>\n",
              "      <td>152.0</td>\n",
              "      <td>48.0</td>\n",
              "      <td>420.0</td>\n",
              "      <td>0.0</td>\n",
              "      <td>0.0</td>\n",
              "      <td>1.0</td>\n",
              "      <td>0.0</td>\n",
              "      <td>2.0</td>\n",
              "      <td>200.0</td>\n",
              "      <td>ארצית</td>\n",
              "      <td>מרכז</td>\n",
              "      <td>חברה כללית / מעורבת</td>\n",
              "      <td>2019</td>\n",
              "      <td>חדשה</td>\n",
              "      <td>0.760000</td>\n",
              "    </tr>\n",
              "  </tbody>\n",
              "</table>\n",
              "</div>\n",
              "      <button class=\"colab-df-convert\" onclick=\"convertToInteractive('df-0a8bf955-f992-4932-b833-af74574e3f20')\"\n",
              "              title=\"Convert this dataframe to an interactive table.\"\n",
              "              style=\"display:none;\">\n",
              "        \n",
              "  <svg xmlns=\"http://www.w3.org/2000/svg\" height=\"24px\"viewBox=\"0 0 24 24\"\n",
              "       width=\"24px\">\n",
              "    <path d=\"M0 0h24v24H0V0z\" fill=\"none\"/>\n",
              "    <path d=\"M18.56 5.44l.94 2.06.94-2.06 2.06-.94-2.06-.94-.94-2.06-.94 2.06-2.06.94zm-11 1L8.5 8.5l.94-2.06 2.06-.94-2.06-.94L8.5 2.5l-.94 2.06-2.06.94zm10 10l.94 2.06.94-2.06 2.06-.94-2.06-.94-.94-2.06-.94 2.06-2.06.94z\"/><path d=\"M17.41 7.96l-1.37-1.37c-.4-.4-.92-.59-1.43-.59-.52 0-1.04.2-1.43.59L10.3 9.45l-7.72 7.72c-.78.78-.78 2.05 0 2.83L4 21.41c.39.39.9.59 1.41.59.51 0 1.02-.2 1.41-.59l7.78-7.78 2.81-2.81c.8-.78.8-2.07 0-2.86zM5.41 20L4 18.59l7.72-7.72 1.47 1.35L5.41 20z\"/>\n",
              "  </svg>\n",
              "      </button>\n",
              "      \n",
              "  <style>\n",
              "    .colab-df-container {\n",
              "      display:flex;\n",
              "      flex-wrap:wrap;\n",
              "      gap: 12px;\n",
              "    }\n",
              "\n",
              "    .colab-df-convert {\n",
              "      background-color: #E8F0FE;\n",
              "      border: none;\n",
              "      border-radius: 50%;\n",
              "      cursor: pointer;\n",
              "      display: none;\n",
              "      fill: #1967D2;\n",
              "      height: 32px;\n",
              "      padding: 0 0 0 0;\n",
              "      width: 32px;\n",
              "    }\n",
              "\n",
              "    .colab-df-convert:hover {\n",
              "      background-color: #E2EBFA;\n",
              "      box-shadow: 0px 1px 2px rgba(60, 64, 67, 0.3), 0px 1px 3px 1px rgba(60, 64, 67, 0.15);\n",
              "      fill: #174EA6;\n",
              "    }\n",
              "\n",
              "    [theme=dark] .colab-df-convert {\n",
              "      background-color: #3B4455;\n",
              "      fill: #D2E3FC;\n",
              "    }\n",
              "\n",
              "    [theme=dark] .colab-df-convert:hover {\n",
              "      background-color: #434B5C;\n",
              "      box-shadow: 0px 1px 3px 1px rgba(0, 0, 0, 0.15);\n",
              "      filter: drop-shadow(0px 1px 2px rgba(0, 0, 0, 0.3));\n",
              "      fill: #FFFFFF;\n",
              "    }\n",
              "  </style>\n",
              "\n",
              "      <script>\n",
              "        const buttonEl =\n",
              "          document.querySelector('#df-0a8bf955-f992-4932-b833-af74574e3f20 button.colab-df-convert');\n",
              "        buttonEl.style.display =\n",
              "          google.colab.kernel.accessAllowed ? 'block' : 'none';\n",
              "\n",
              "        async function convertToInteractive(key) {\n",
              "          const element = document.querySelector('#df-0a8bf955-f992-4932-b833-af74574e3f20');\n",
              "          const dataTable =\n",
              "            await google.colab.kernel.invokeFunction('convertToInteractive',\n",
              "                                                     [key], {});\n",
              "          if (!dataTable) return;\n",
              "\n",
              "          const docLinkHtml = 'Like what you see? Visit the ' +\n",
              "            '<a target=\"_blank\" href=https://colab.research.google.com/notebooks/data_table.ipynb>data table notebook</a>'\n",
              "            + ' to learn more about interactive tables.';\n",
              "          element.innerHTML = '';\n",
              "          dataTable['output_type'] = 'display_data';\n",
              "          await google.colab.output.renderOutput(dataTable, element);\n",
              "          const docLink = document.createElement('div');\n",
              "          docLink.innerHTML = docLinkHtml;\n",
              "          element.appendChild(docLink);\n",
              "        }\n",
              "      </script>\n",
              "    </div>\n",
              "  </div>\n",
              "  "
            ]
          },
          "metadata": {},
          "execution_count": 7
        }
      ]
    },
    {
      "cell_type": "code",
      "source": [
        "sum(data['MAIN_AREA'] == data['TOTAL_AREA'])"
      ],
      "metadata": {
        "colab": {
          "base_uri": "https://localhost:8080/"
        },
        "id": "IQx_ExQc3oIL",
        "outputId": "3fb4770a-1bab-4c69-b1a1-0c7b508d606f"
      },
      "execution_count": 8,
      "outputs": [
        {
          "output_type": "execute_result",
          "data": {
            "text/plain": [
              "55"
            ]
          },
          "metadata": {},
          "execution_count": 8
        }
      ]
    },
    {
      "cell_type": "markdown",
      "source": [
        "נחשב את אחוז השטח העיקרי הממוצע:"
      ],
      "metadata": {
        "id": "dWTv_DkRgzeY"
      }
    },
    {
      "cell_type": "code",
      "source": [
        "data['MAIN_AREA_PER'].mean()"
      ],
      "metadata": {
        "colab": {
          "base_uri": "https://localhost:8080/"
        },
        "id": "H7cwIFMugymg",
        "outputId": "3171a521-d06e-4dff-b47c-28e1c7d5dff6"
      },
      "execution_count": 9,
      "outputs": [
        {
          "output_type": "execute_result",
          "data": {
            "text/plain": [
              "0.8183585634216552"
            ]
          },
          "metadata": {},
          "execution_count": 9
        }
      ]
    },
    {
      "cell_type": "code",
      "source": [
        "sns.histplot(data=data, x=\"MAIN_AREA_PER\", bins=50, kde=True)"
      ],
      "metadata": {
        "colab": {
          "base_uri": "https://localhost:8080/",
          "height": 302
        },
        "id": "3Te7SoWRVumj",
        "outputId": "dd2b97c0-ce29-4735-8dec-9c3519047c51"
      },
      "execution_count": 10,
      "outputs": [
        {
          "output_type": "execute_result",
          "data": {
            "text/plain": [
              "<matplotlib.axes._subplots.AxesSubplot at 0x7f0cab01cc90>"
            ]
          },
          "metadata": {},
          "execution_count": 10
        },
        {
          "output_type": "display_data",
          "data": {
            "text/plain": [
              "<Figure size 432x288 with 1 Axes>"
            ],
            "image/png": "[encoded data removed]"
          },
          "metadata": {
            "needs_background": "light"
          }
        }
      ]
    },
    {
      "cell_type": "markdown",
      "source": [
        "## Feature engineering"
      ],
      "metadata": {
        "id": "LJlJP1_4j51y"
      }
    },
    {
      "cell_type": "markdown",
      "source": [
        "### שדות קטגוריים"
      ],
      "metadata": {
        "id": "trslP-Ei_vNW"
      }
    },
    {
      "cell_type": "markdown",
      "source": [
        "ראשית נוסיף עמודה שתבדוק האם תכנית היא תמ\"ל או לא."
      ],
      "metadata": {
        "id": "3OaXwH0ElbkQ"
      }
    },
    {
      "cell_type": "code",
      "source": [
        "data['PL_NUMBER'].str.contains('תמל').sum()"
      ],
      "metadata": {
        "id": "AdkVmcDY-JYg",
        "outputId": "b0ef2121-2fcb-4466-8f61-0d6333595dd5",
        "colab": {
          "base_uri": "https://localhost:8080/"
        }
      },
      "execution_count": 11,
      "outputs": [
        {
          "output_type": "execute_result",
          "data": {
            "text/plain": [
              "60"
            ]
          },
          "metadata": {},
          "execution_count": 11
        }
      ]
    },
    {
      "cell_type": "code",
      "source": [
        "data['IS_TAMAL'] = data['PL_NUMBER'].apply(lambda x: 1 if 'תמל' in x else 0)\n",
        "data['IS_TAMAL'].value_counts()"
      ],
      "metadata": {
        "id": "-3nG8IKs-Wzt",
        "outputId": "d9888281-530e-42a0-a52d-2a60012d7591",
        "colab": {
          "base_uri": "https://localhost:8080/"
        }
      },
      "execution_count": 12,
      "outputs": [
        {
          "output_type": "execute_result",
          "data": {
            "text/plain": [
              "0    2522\n",
              "1      60\n",
              "Name: IS_TAMAL, dtype: int64"
            ]
          },
          "metadata": {},
          "execution_count": 12
        }
      ]
    },
    {
      "cell_type": "markdown",
      "source": [
        "ישנן 60 תכניות תמ\"ל בלבד וכעת יש לנו סיווג שלהן."
      ],
      "metadata": {
        "id": "3Ajxdhj5l74C"
      }
    },
    {
      "cell_type": "markdown",
      "source": [
        "כעת נבחן אילו שימושי קרקע קיימים:"
      ],
      "metadata": {
        "id": "W5MBmFOlly1J"
      }
    },
    {
      "cell_type": "code",
      "source": [
        "data['LANDUSE'].value_counts()"
      ],
      "metadata": {
        "id": "xEvBQ5894ZiK",
        "colab": {
          "base_uri": "https://localhost:8080/"
        },
        "outputId": "238c07c2-9692-4606-da5b-27eb05c008a4"
      },
      "execution_count": 13,
      "outputs": [
        {
          "output_type": "execute_result",
          "data": {
            "text/plain": [
              "מגורים                                2444\n",
              "מגורים ומסחר                            66\n",
              "מגורים מסחר ותעסוקה                     36\n",
              "מגורים ומבנים ומוסדות ציבור              6\n",
              "מגורים מסחר ותיירות                      6\n",
              "מגורים מסחר ומבנים ומוסדות ציבור         5\n",
              "מגורים תעסוקה ותיירות                    5\n",
              "מגורים ודיור מיוחד                       3\n",
              "מגורים ותיירות                           2\n",
              "מגורים מסחר ותחבורה                      2\n",
              "מגורים ומשרדים                           2\n",
              "תתתת מגורים ב                            2\n",
              "מגורים ותחבורה                           1\n",
              "מגורים תיירות ומבנים ומוסדות ציבור       1\n",
              "מגורים ואירוח כפרי                       1\n",
              "Name: LANDUSE, dtype: int64"
            ]
          },
          "metadata": {},
          "execution_count": 13
        }
      ]
    },
    {
      "cell_type": "markdown",
      "source": [
        "הרוב המוחלט - מגורים, את כל השאר נאחד לקטגוריה אחת שתיקרא: מגורים משולב"
      ],
      "metadata": {
        "id": "DzUA75zsmIoM"
      }
    },
    {
      "cell_type": "code",
      "source": [
        "data['LANDUSE'] = data['LANDUSE'].mask(data['LANDUSE'] != 'מגורים', 'מגורים משולב')"
      ],
      "metadata": {
        "id": "AkzEvXcm9AZ4"
      },
      "execution_count": 14,
      "outputs": []
    },
    {
      "cell_type": "code",
      "source": [
        "data['LANDUSE'].value_counts()"
      ],
      "metadata": {
        "colab": {
          "base_uri": "https://localhost:8080/"
        },
        "id": "Zo7e6x6g9gHu",
        "outputId": "58502ccf-a6f9-480e-aacc-af61d799649e"
      },
      "execution_count": 15,
      "outputs": [
        {
          "output_type": "execute_result",
          "data": {
            "text/plain": [
              "מגורים          2444\n",
              "מגורים משולב     138\n",
              "Name: LANDUSE, dtype: int64"
            ]
          },
          "metadata": {},
          "execution_count": 15
        }
      ]
    },
    {
      "cell_type": "markdown",
      "source": [
        "נטפל בערכים חסרים:"
      ],
      "metadata": {
        "id": "lkjK98aq7qZc"
      }
    },
    {
      "cell_type": "code",
      "source": [
        "data['SECTOR_GROUP'].value_counts()"
      ],
      "metadata": {
        "colab": {
          "base_uri": "https://localhost:8080/"
        },
        "id": "DR9DccM06qHU",
        "outputId": "b804af9b-d60c-4c0d-b493-ced89ff8dd6f"
      },
      "execution_count": 16,
      "outputs": [
        {
          "output_type": "execute_result",
          "data": {
            "text/plain": [
              "חברה ערבית             1273\n",
              "חברה כללית / מעורבת    1043\n",
              "חברה חרדית              207\n",
              "(חסר)                    59\n",
              "Name: SECTOR_GROUP, dtype: int64"
            ]
          },
          "metadata": {},
          "execution_count": 16
        }
      ]
    },
    {
      "cell_type": "markdown",
      "source": [
        "ניתן להניח שאפשר לשייך את הסקטור החסר לחברה כללית כי זוהי קטגוריה כללית "
      ],
      "metadata": {
        "id": "ToilP7-E7v--"
      }
    },
    {
      "cell_type": "code",
      "source": [
        "data['SECTOR_GROUP'] = data['SECTOR_GROUP'].mask(data['SECTOR_GROUP'] == '(חסר)', 'חברה כללית / מעורבת')\n",
        "data['SECTOR_GROUP'].value_counts()"
      ],
      "metadata": {
        "colab": {
          "base_uri": "https://localhost:8080/"
        },
        "id": "9KPOl-Ys7Fz6",
        "outputId": "d317f0f6-b4aa-4608-c486-277ac50d6d50"
      },
      "execution_count": 17,
      "outputs": [
        {
          "output_type": "execute_result",
          "data": {
            "text/plain": [
              "חברה ערבית             1273\n",
              "חברה כללית / מעורבת    1102\n",
              "חברה חרדית              207\n",
              "Name: SECTOR_GROUP, dtype: int64"
            ]
          },
          "metadata": {},
          "execution_count": 17
        }
      ]
    },
    {
      "cell_type": "markdown",
      "source": [
        "[טיפול בערכים ריקים](https://stackoverflow.com/questions/57135918/remove-non-zero-fields-from-df-isnull-sum/57135996):"
      ],
      "metadata": {
        "id": "_IZOF0I9qmYE"
      }
    },
    {
      "cell_type": "code",
      "source": [
        "nullseries = data.isnull().sum()\n",
        "nullseries[nullseries > 0]"
      ],
      "metadata": {
        "colab": {
          "base_uri": "https://localhost:8080/"
        },
        "id": "3h4W2P3hqp-T",
        "outputId": "ec325685-234a-47a0-a917-6ee4535eefb8"
      },
      "execution_count": 18,
      "outputs": [
        {
          "output_type": "execute_result",
          "data": {
            "text/plain": [
              "CONSTRUCTION_TYPE_GROUP    4\n",
              "dtype: int64"
            ]
          },
          "metadata": {},
          "execution_count": 18
        }
      ]
    },
    {
      "cell_type": "code",
      "source": [
        "data['CONSTRUCTION_TYPE_GROUP'].value_counts(dropna=False)"
      ],
      "metadata": {
        "colab": {
          "base_uri": "https://localhost:8080/"
        },
        "id": "tOaDxX9Hrsbo",
        "outputId": "51d394b5-d6a4-4e2c-e238-339ce1d65346"
      },
      "execution_count": 19,
      "outputs": [
        {
          "output_type": "execute_result",
          "data": {
            "text/plain": [
              "חדשה       1526\n",
              "התחדשות     922\n",
              "הסדרה       130\n",
              "NaN           4\n",
              "Name: CONSTRUCTION_TYPE_GROUP, dtype: int64"
            ]
          },
          "metadata": {},
          "execution_count": 19
        }
      ]
    },
    {
      "cell_type": "markdown",
      "source": [
        "[נמלא את השדות הריקים עם סוג הבניה הנפוץ ביותר](https://stackoverflow.com/questions/32617811/imputation-of-missing-values-for-categories-in-pandas) ההסתברות של סוג בניה \"חדשה\" היא הגבוהה ביותר"
      ],
      "metadata": {
        "id": "uRPV7Wnb-hfq"
      }
    },
    {
      "cell_type": "code",
      "source": [
        "data['CONSTRUCTION_TYPE_GROUP'] = data['CONSTRUCTION_TYPE_GROUP'].fillna(data['CONSTRUCTION_TYPE_GROUP'].mode().iloc[0])\n",
        "data['CONSTRUCTION_TYPE_GROUP'].value_counts(dropna=False)"
      ],
      "metadata": {
        "colab": {
          "base_uri": "https://localhost:8080/"
        },
        "id": "rNJ8yHqor9D3",
        "outputId": "58c1e032-7c3b-4510-8668-a72873525a83"
      },
      "execution_count": 20,
      "outputs": [
        {
          "output_type": "execute_result",
          "data": {
            "text/plain": [
              "חדשה       1530\n",
              "התחדשות     922\n",
              "הסדרה       130\n",
              "Name: CONSTRUCTION_TYPE_GROUP, dtype: int64"
            ]
          },
          "metadata": {},
          "execution_count": 20
        }
      ]
    },
    {
      "cell_type": "markdown",
      "source": [
        "כעת נבחן את אחוז השטח העיקרי לפי השדות הקטגוריים השונים"
      ],
      "metadata": {
        "id": "8Nq3YzWoALVG"
      }
    },
    {
      "cell_type": "code",
      "source": [
        "categorical_cols = data.select_dtypes(['object']).columns\n",
        "categorical_cols"
      ],
      "metadata": {
        "id": "BS_JmKv7IhjA",
        "outputId": "09964277-6d60-4de0-e7b7-368f0b1acafa",
        "colab": {
          "base_uri": "https://localhost:8080/"
        }
      },
      "execution_count": 21,
      "outputs": [
        {
          "output_type": "execute_result",
          "data": {
            "text/plain": [
              "Index(['PL_NUMBER', 'PL_AREA', 'LANDUSE', 'AUTHORITY', 'DISTRICT',\n",
              "       'SECTOR_GROUP', 'CONSTRUCTION_TYPE_GROUP'],\n",
              "      dtype='object')"
            ]
          },
          "metadata": {},
          "execution_count": 21
        }
      ]
    },
    {
      "cell_type": "code",
      "source": [
        "print(data.groupby('IS_TAMAL')['MAIN_AREA_PER'].mean())\n",
        "print(data.groupby('AUTHORITY')['MAIN_AREA_PER'].mean())\n",
        "\n",
        "(data.groupby('IS_TAMAL')['MAIN_AREA_PER'].mean()).plot(kind='barh')"
      ],
      "metadata": {
        "id": "EXHrpizbAXJt",
        "outputId": "8bf930c0-3677-4a02-eb20-64a51382bb9c",
        "colab": {
          "base_uri": "https://localhost:8080/",
          "height": 424
        }
      },
      "execution_count": 22,
      "outputs": [
        {
          "output_type": "stream",
          "name": "stdout",
          "text": [
            "IS_TAMAL\n",
            "0    0.820495\n",
            "1    0.728565\n",
            "Name: MAIN_AREA_PER, dtype: float64\n",
            "AUTHORITY\n",
            "ארצית     0.728565\n",
            "מחוזית    0.820495\n",
            "Name: MAIN_AREA_PER, dtype: float64\n"
          ]
        },
        {
          "output_type": "execute_result",
          "data": {
            "text/plain": [
              "<matplotlib.axes._subplots.AxesSubplot at 0x7f0ca89cb490>"
            ]
          },
          "metadata": {},
          "execution_count": 22
        },
        {
          "output_type": "display_data",
          "data": {
            "text/plain": [
              "<Figure size 432x288 with 1 Axes>"
            ],
            "image/png": "[encoded data removed]"
          },
          "metadata": {
            "needs_background": "light"
          }
        }
      ]
    },
    {
      "cell_type": "markdown",
      "source": [
        "בתכניות תמל הממוצע הוא של 73% שטח עיקרי לעומת שאר התכניות ששם זה 82% שטח עיקרי"
      ],
      "metadata": {
        "id": "14Ezs25qFJAg"
      }
    },
    {
      "cell_type": "code",
      "source": [
        "data.groupby('LANDUSE')['MAIN_AREA_PER'].mean().sort_values()"
      ],
      "metadata": {
        "id": "V8veUjvyHarC",
        "outputId": "f506843d-fd99-44e9-b320-4e3d4f41ef5e",
        "colab": {
          "base_uri": "https://localhost:8080/"
        }
      },
      "execution_count": 23,
      "outputs": [
        {
          "output_type": "execute_result",
          "data": {
            "text/plain": [
              "LANDUSE\n",
              "מגורים משולב    0.803289\n",
              "מגורים          0.819209\n",
              "Name: MAIN_AREA_PER, dtype: float64"
            ]
          },
          "metadata": {},
          "execution_count": 23
        }
      ]
    },
    {
      "cell_type": "markdown",
      "source": [
        "אין הבדל משמעותי בין מגורים למגורים משולב"
      ],
      "metadata": {
        "id": "xetEI-3mHqdm"
      }
    },
    {
      "cell_type": "code",
      "source": [
        "print(data.groupby('DISTRICT')['MAIN_AREA_PER'].mean().sort_values())\n",
        "(data.groupby('DISTRICT')['MAIN_AREA_PER'].mean().sort_values()).plot(kind='barh')"
      ],
      "metadata": {
        "id": "odt_4aqEN1RH",
        "outputId": "f40f6eaf-0720-44f8-d836-b869ba02fb24",
        "colab": {
          "base_uri": "https://localhost:8080/",
          "height": 424
        }
      },
      "execution_count": 24,
      "outputs": [
        {
          "output_type": "stream",
          "name": "stdout",
          "text": [
            "DISTRICT\n",
            "תל-אביב    0.734659\n",
            "חיפה       0.753132\n",
            "מרכז       0.778301\n",
            "צפון       0.823117\n",
            "ירושלים    0.840985\n",
            "דרום       0.845286\n",
            "Name: MAIN_AREA_PER, dtype: float64\n"
          ]
        },
        {
          "output_type": "execute_result",
          "data": {
            "text/plain": [
              "<matplotlib.axes._subplots.AxesSubplot at 0x7f0ca89a12d0>"
            ]
          },
          "metadata": {},
          "execution_count": 24
        },
        {
          "output_type": "display_data",
          "data": {
            "text/plain": [
              "<Figure size 432x288 with 1 Axes>"
            ],
            "image/png": "[encoded data removed]"
          },
          "metadata": {
            "needs_background": "light"
          }
        }
      ]
    },
    {
      "cell_type": "markdown",
      "source": [
        "ניתן לראות שיש הבדלים באחוז השטח העיקרי בין המחוזות השונים"
      ],
      "metadata": {
        "id": "pf6gXWnIOdnQ"
      }
    },
    {
      "cell_type": "code",
      "source": [
        "data.groupby('SECTOR_GROUP')['MAIN_AREA_PER'].mean().sort_values()"
      ],
      "metadata": {
        "id": "-6sZPuyAOL1H",
        "outputId": "f0a0b1a7-9e43-4ba0-bb54-a6487a2f430a",
        "colab": {
          "base_uri": "https://localhost:8080/"
        }
      },
      "execution_count": 25,
      "outputs": [
        {
          "output_type": "execute_result",
          "data": {
            "text/plain": [
              "SECTOR_GROUP\n",
              "חברה כללית / מעורבת    0.790148\n",
              "חברה חרדית             0.817537\n",
              "חברה ערבית             0.842913\n",
              "Name: MAIN_AREA_PER, dtype: float64"
            ]
          },
          "metadata": {},
          "execution_count": 25
        }
      ]
    },
    {
      "cell_type": "markdown",
      "source": [
        "ניתן לראות שבחברה הערבית אחוז השטח העיקרי הגבוה ביותר"
      ],
      "metadata": {
        "id": "JgG2RRTwOlY_"
      }
    },
    {
      "cell_type": "code",
      "source": [
        "data.groupby('CONSTRUCTION_TYPE_GROUP')['MAIN_AREA_PER'].mean().sort_values()"
      ],
      "metadata": {
        "id": "Iu46W2McOTLX",
        "outputId": "e2ed7fd0-7dff-4fd0-9e03-1c874f80a99a",
        "colab": {
          "base_uri": "https://localhost:8080/"
        }
      },
      "execution_count": 26,
      "outputs": [
        {
          "output_type": "execute_result",
          "data": {
            "text/plain": [
              "CONSTRUCTION_TYPE_GROUP\n",
              "חדשה       0.816283\n",
              "התחדשות    0.819859\n",
              "הסדרה      0.832148\n",
              "Name: MAIN_AREA_PER, dtype: float64"
            ]
          },
          "metadata": {},
          "execution_count": 26
        }
      ]
    },
    {
      "cell_type": "markdown",
      "source": [
        "ניתן לראות שבסוג בניה \"הסדרה\" אחוז השטח העיקרי הגבוה ביותר"
      ],
      "metadata": {
        "id": "Hv_gDOnIOwQR"
      }
    },
    {
      "cell_type": "markdown",
      "source": [
        "### שדות נומריים"
      ],
      "metadata": {
        "id": "FvD42oXAO7OA"
      }
    },
    {
      "cell_type": "markdown",
      "source": [
        "העמודות CELL_SIZE_TOTAL, CELL_SIZE_MIN ו-CELL_SIZE_MAX מתארות את גודל התא."
      ],
      "metadata": {
        "id": "DJf_h9v3h77a"
      }
    },
    {
      "cell_type": "code",
      "source": [
        "data[['CELL_SIZE_TOTAL', 'CELL_SIZE_MIN', 'CELL_SIZE_MAX']].describe()"
      ],
      "metadata": {
        "colab": {
          "base_uri": "https://localhost:8080/",
          "height": 300
        },
        "id": "DgOES3JFnv2n",
        "outputId": "012e8649-7e6b-49f0-f605-ce4911b1bb73"
      },
      "execution_count": 27,
      "outputs": [
        {
          "output_type": "execute_result",
          "data": {
            "text/plain": [
              "       CELL_SIZE_TOTAL  CELL_SIZE_MIN  CELL_SIZE_MAX\n",
              "count      2582.000000    2582.000000    2582.000000\n",
              "mean       1090.196193     168.493582       8.830287\n",
              "std        2387.854179     954.531702     149.623238\n",
              "min           0.000000       0.000000       0.000000\n",
              "25%         386.250000       0.000000       0.000000\n",
              "50%         659.500000       0.000000       0.000000\n",
              "75%        1020.750000       0.000000       0.000000\n",
              "max       63924.000000   32000.000000    5690.000000"
            ],
            "text/html": [
              "\n",
              "  <div id=\"df-5b327976-5bc6-49ed-b119-6eb56afbcb44\">\n",
              "    <div class=\"colab-df-container\">\n",
              "      <div>\n",
              "<style scoped>\n",
              "    .dataframe tbody tr th:only-of-type {\n",
              "        vertical-align: middle;\n",
              "    }\n",
              "\n",
              "    .dataframe tbody tr th {\n",
              "        vertical-align: top;\n",
              "    }\n",
              "\n",
              "    .dataframe thead th {\n",
              "        text-align: right;\n",
              "    }\n",
              "</style>\n",
              "<table border=\"1\" class=\"dataframe\">\n",
              "  <thead>\n",
              "    <tr style=\"text-align: right;\">\n",
              "      <th></th>\n",
              "      <th>CELL_SIZE_TOTAL</th>\n",
              "      <th>CELL_SIZE_MIN</th>\n",
              "      <th>CELL_SIZE_MAX</th>\n",
              "    </tr>\n",
              "  </thead>\n",
              "  <tbody>\n",
              "    <tr>\n",
              "      <th>count</th>\n",
              "      <td>2582.000000</td>\n",
              "      <td>2582.000000</td>\n",
              "      <td>2582.000000</td>\n",
              "    </tr>\n",
              "    <tr>\n",
              "      <th>mean</th>\n",
              "      <td>1090.196193</td>\n",
              "      <td>168.493582</td>\n",
              "      <td>8.830287</td>\n",
              "    </tr>\n",
              "    <tr>\n",
              "      <th>std</th>\n",
              "      <td>2387.854179</td>\n",
              "      <td>954.531702</td>\n",
              "      <td>149.623238</td>\n",
              "    </tr>\n",
              "    <tr>\n",
              "      <th>min</th>\n",
              "      <td>0.000000</td>\n",
              "      <td>0.000000</td>\n",
              "      <td>0.000000</td>\n",
              "    </tr>\n",
              "    <tr>\n",
              "      <th>25%</th>\n",
              "      <td>386.250000</td>\n",
              "      <td>0.000000</td>\n",
              "      <td>0.000000</td>\n",
              "    </tr>\n",
              "    <tr>\n",
              "      <th>50%</th>\n",
              "      <td>659.500000</td>\n",
              "      <td>0.000000</td>\n",
              "      <td>0.000000</td>\n",
              "    </tr>\n",
              "    <tr>\n",
              "      <th>75%</th>\n",
              "      <td>1020.750000</td>\n",
              "      <td>0.000000</td>\n",
              "      <td>0.000000</td>\n",
              "    </tr>\n",
              "    <tr>\n",
              "      <th>max</th>\n",
              "      <td>63924.000000</td>\n",
              "      <td>32000.000000</td>\n",
              "      <td>5690.000000</td>\n",
              "    </tr>\n",
              "  </tbody>\n",
              "</table>\n",
              "</div>\n",
              "      <button class=\"colab-df-convert\" onclick=\"convertToInteractive('df-5b327976-5bc6-49ed-b119-6eb56afbcb44')\"\n",
              "              title=\"Convert this dataframe to an interactive table.\"\n",
              "              style=\"display:none;\">\n",
              "        \n",
              "  <svg xmlns=\"http://www.w3.org/2000/svg\" height=\"24px\"viewBox=\"0 0 24 24\"\n",
              "       width=\"24px\">\n",
              "    <path d=\"M0 0h24v24H0V0z\" fill=\"none\"/>\n",
              "    <path d=\"M18.56 5.44l.94 2.06.94-2.06 2.06-.94-2.06-.94-.94-2.06-.94 2.06-2.06.94zm-11 1L8.5 8.5l.94-2.06 2.06-.94-2.06-.94L8.5 2.5l-.94 2.06-2.06.94zm10 10l.94 2.06.94-2.06 2.06-.94-2.06-.94-.94-2.06-.94 2.06-2.06.94z\"/><path d=\"M17.41 7.96l-1.37-1.37c-.4-.4-.92-.59-1.43-.59-.52 0-1.04.2-1.43.59L10.3 9.45l-7.72 7.72c-.78.78-.78 2.05 0 2.83L4 21.41c.39.39.9.59 1.41.59.51 0 1.02-.2 1.41-.59l7.78-7.78 2.81-2.81c.8-.78.8-2.07 0-2.86zM5.41 20L4 18.59l7.72-7.72 1.47 1.35L5.41 20z\"/>\n",
              "  </svg>\n",
              "      </button>\n",
              "      \n",
              "  <style>\n",
              "    .colab-df-container {\n",
              "      display:flex;\n",
              "      flex-wrap:wrap;\n",
              "      gap: 12px;\n",
              "    }\n",
              "\n",
              "    .colab-df-convert {\n",
              "      background-color: #E8F0FE;\n",
              "      border: none;\n",
              "      border-radius: 50%;\n",
              "      cursor: pointer;\n",
              "      display: none;\n",
              "      fill: #1967D2;\n",
              "      height: 32px;\n",
              "      padding: 0 0 0 0;\n",
              "      width: 32px;\n",
              "    }\n",
              "\n",
              "    .colab-df-convert:hover {\n",
              "      background-color: #E2EBFA;\n",
              "      box-shadow: 0px 1px 2px rgba(60, 64, 67, 0.3), 0px 1px 3px 1px rgba(60, 64, 67, 0.15);\n",
              "      fill: #174EA6;\n",
              "    }\n",
              "\n",
              "    [theme=dark] .colab-df-convert {\n",
              "      background-color: #3B4455;\n",
              "      fill: #D2E3FC;\n",
              "    }\n",
              "\n",
              "    [theme=dark] .colab-df-convert:hover {\n",
              "      background-color: #434B5C;\n",
              "      box-shadow: 0px 1px 3px 1px rgba(0, 0, 0, 0.15);\n",
              "      filter: drop-shadow(0px 1px 2px rgba(0, 0, 0, 0.3));\n",
              "      fill: #FFFFFF;\n",
              "    }\n",
              "  </style>\n",
              "\n",
              "      <script>\n",
              "        const buttonEl =\n",
              "          document.querySelector('#df-5b327976-5bc6-49ed-b119-6eb56afbcb44 button.colab-df-convert');\n",
              "        buttonEl.style.display =\n",
              "          google.colab.kernel.accessAllowed ? 'block' : 'none';\n",
              "\n",
              "        async function convertToInteractive(key) {\n",
              "          const element = document.querySelector('#df-5b327976-5bc6-49ed-b119-6eb56afbcb44');\n",
              "          const dataTable =\n",
              "            await google.colab.kernel.invokeFunction('convertToInteractive',\n",
              "                                                     [key], {});\n",
              "          if (!dataTable) return;\n",
              "\n",
              "          const docLinkHtml = 'Like what you see? Visit the ' +\n",
              "            '<a target=\"_blank\" href=https://colab.research.google.com/notebooks/data_table.ipynb>data table notebook</a>'\n",
              "            + ' to learn more about interactive tables.';\n",
              "          element.innerHTML = '';\n",
              "          dataTable['output_type'] = 'display_data';\n",
              "          await google.colab.output.renderOutput(dataTable, element);\n",
              "          const docLink = document.createElement('div');\n",
              "          docLink.innerHTML = docLinkHtml;\n",
              "          element.appendChild(docLink);\n",
              "        }\n",
              "      </script>\n",
              "    </div>\n",
              "  </div>\n",
              "  "
            ]
          },
          "metadata": {},
          "execution_count": 27
        }
      ]
    },
    {
      "cell_type": "markdown",
      "source": [
        "נבדוק את כמות יחידות הדיור:"
      ],
      "metadata": {
        "id": "fjEB9ue2QBcQ"
      }
    },
    {
      "cell_type": "code",
      "source": [
        "data['HOUSING_UNITS'].value_counts().sort_index().head()"
      ],
      "metadata": {
        "colab": {
          "base_uri": "https://localhost:8080/"
        },
        "id": "eQ3ymaTt11t0",
        "outputId": "bf577dcb-dff8-42e2-cd51-97fe492d6c64"
      },
      "execution_count": 28,
      "outputs": [
        {
          "output_type": "execute_result",
          "data": {
            "text/plain": [
              "0.0     79\n",
              "1.0    353\n",
              "2.0    225\n",
              "3.0    162\n",
              "4.0    393\n",
              "Name: HOUSING_UNITS, dtype: int64"
            ]
          },
          "metadata": {},
          "execution_count": 28
        }
      ]
    },
    {
      "cell_type": "markdown",
      "source": [
        "יחידות דיור לא צריכות להיות אפס.<BR> במקום 0 נתן את מספר הקומות כפול 2"
      ],
      "metadata": {
        "id": "1GdYTQhC2fHM"
      }
    },
    {
      "cell_type": "code",
      "source": [
        "data['HOUSING_UNITS'] = data['HOUSING_UNITS'].mask(data['HOUSING_UNITS'] == 0, data['FLOORS_NUM']*2)"
      ],
      "metadata": {
        "id": "s7Zf_lba1h-f"
      },
      "execution_count": 29,
      "outputs": []
    },
    {
      "cell_type": "code",
      "source": [
        "data['HOUSING_UNITS'].value_counts().sort_index().head()"
      ],
      "metadata": {
        "colab": {
          "base_uri": "https://localhost:8080/"
        },
        "id": "L-eTXlFd2Zzb",
        "outputId": "5f3b507c-6708-49ad-9cea-a311d9b811a7"
      },
      "execution_count": 30,
      "outputs": [
        {
          "output_type": "execute_result",
          "data": {
            "text/plain": [
              "0.0      2\n",
              "1.0    353\n",
              "2.0    227\n",
              "3.0    162\n",
              "4.0    406\n",
              "Name: HOUSING_UNITS, dtype: int64"
            ]
          },
          "metadata": {},
          "execution_count": 30
        }
      ]
    },
    {
      "cell_type": "markdown",
      "source": [
        "עדיין נותרו 2 מקרים של אפסים (אין נתון של מספר קומות) - נוריד את המקרים החריגים."
      ],
      "metadata": {
        "id": "COdsO2PuQP-R"
      }
    },
    {
      "cell_type": "code",
      "source": [
        "data = data[data['HOUSING_UNITS'] > 0]\n",
        "data.shape "
      ],
      "metadata": {
        "colab": {
          "base_uri": "https://localhost:8080/"
        },
        "id": "SYgognPW2uIS",
        "outputId": "55d3c0b1-9fa3-4244-dcd0-c51c2c01ea33"
      },
      "execution_count": 31,
      "outputs": [
        {
          "output_type": "execute_result",
          "data": {
            "text/plain": [
              "(2580, 19)"
            ]
          },
          "metadata": {},
          "execution_count": 31
        }
      ]
    },
    {
      "cell_type": "markdown",
      "source": [
        "כעת נבחן את נתוני גובה הבניין"
      ],
      "metadata": {
        "id": "TaBKOyKtSc96"
      }
    },
    {
      "cell_type": "code",
      "source": [
        "data['BUILDING_HEIGHT'].value_counts()[:11].head()"
      ],
      "metadata": {
        "colab": {
          "base_uri": "https://localhost:8080/"
        },
        "id": "U24kWYKa3EXa",
        "outputId": "1f9073a8-d4db-44c4-e3a7-dce858d27c30"
      },
      "execution_count": 32,
      "outputs": [
        {
          "output_type": "execute_result",
          "data": {
            "text/plain": [
              "0.0     249\n",
              "12.0    246\n",
              "8.5     178\n",
              "15.0    162\n",
              "9.0     125\n",
              "Name: BUILDING_HEIGHT, dtype: int64"
            ]
          },
          "metadata": {},
          "execution_count": 32
        }
      ]
    },
    {
      "cell_type": "markdown",
      "source": [
        "הרבה נתונים חסרים, BUILDING_HEIGHT לא אמור להיות אפס.<br>\n",
        "אחליף אותו בממוצע של BUILDING_HEIGHT."
      ],
      "metadata": {
        "id": "8a30Gn_L3NJJ"
      }
    },
    {
      "cell_type": "code",
      "source": [
        "building_height_avg = round(data[data['BUILDING_HEIGHT'] > 0]['BUILDING_HEIGHT'].mean())\n",
        "building_height_avg"
      ],
      "metadata": {
        "colab": {
          "base_uri": "https://localhost:8080/"
        },
        "id": "NNaUKZeB4CcP",
        "outputId": "5f52d5fe-8e16-4e31-c5e7-2d69b469cd30"
      },
      "execution_count": 33,
      "outputs": [
        {
          "output_type": "execute_result",
          "data": {
            "text/plain": [
              "16"
            ]
          },
          "metadata": {},
          "execution_count": 33
        }
      ]
    },
    {
      "cell_type": "code",
      "source": [
        "data['BUILDING_HEIGHT'] = data['BUILDING_HEIGHT'].mask(data['BUILDING_HEIGHT']==0, building_height_avg)\n",
        "data['BUILDING_HEIGHT'].value_counts().head()"
      ],
      "metadata": {
        "id": "PEH_AfoM4lX_",
        "colab": {
          "base_uri": "https://localhost:8080/"
        },
        "outputId": "fae97752-8579-4210-dc82-846f7edbd01d"
      },
      "execution_count": 34,
      "outputs": [
        {
          "output_type": "execute_result",
          "data": {
            "text/plain": [
              "16.0    293\n",
              "12.0    246\n",
              "8.5     178\n",
              "15.0    162\n",
              "9.0     125\n",
              "Name: BUILDING_HEIGHT, dtype: int64"
            ]
          },
          "metadata": {},
          "execution_count": 34
        }
      ]
    },
    {
      "cell_type": "markdown",
      "source": [
        "נסיר את העמודות שאינן שימושיות עבור החיזוי"
      ],
      "metadata": {
        "id": "ZiMdLBv8Tvry"
      }
    },
    {
      "cell_type": "code",
      "source": [
        "data = data.drop(['PL_NUMBER', 'PL_AREA', 'MAIN_AREA_PER', 'SERVICE_AREA'], axis=1)"
      ],
      "metadata": {
        "id": "M06mV6re8jkH"
      },
      "execution_count": 35,
      "outputs": []
    },
    {
      "cell_type": "code",
      "source": [
        "dummies_data = pd.get_dummies(data)\n",
        "print(dummies_data.shape)\n",
        "dummies_data.head()"
      ],
      "metadata": {
        "colab": {
          "base_uri": "https://localhost:8080/",
          "height": 334
        },
        "id": "C1UR01f8a73h",
        "outputId": "7c37cfd8-77d9-4f78-9f47-31e8591efc82"
      },
      "execution_count": 36,
      "outputs": [
        {
          "output_type": "stream",
          "name": "stdout",
          "text": [
            "(2580, 26)\n"
          ]
        },
        {
          "output_type": "execute_result",
          "data": {
            "text/plain": [
              "     MAIN_AREA  CELL_SIZE_TOTAL  CELL_SIZE_MIN  CELL_SIZE_MAX  HOUSING_UNITS  \\\n",
              "0        975.0           2466.0            0.0            0.0           16.0   \n",
              "2        960.0           2820.0            0.0            0.0            6.0   \n",
              "73       152.0            420.0            0.0            0.0            1.0   \n",
              "297     2090.0           1496.0            0.0            0.0           19.0   \n",
              "322      675.0            563.0            0.0            0.0            4.0   \n",
              "\n",
              "     BUILDING_HEIGHT  FLOORS_NUM  TOTAL_AREA  CONFIRMATION_YEAR  IS_TAMAL  \\\n",
              "0               11.0         2.0      1275.0               2017         0   \n",
              "2               17.0         4.0      1140.0               2017         0   \n",
              "73              16.0         2.0       200.0               2019         1   \n",
              "297             25.5         6.0      3135.0               2017         0   \n",
              "322             21.0         4.0       900.0               2018         1   \n",
              "\n",
              "     ...  DISTRICT_ירושלים  DISTRICT_מרכז  DISTRICT_צפון  DISTRICT_תל-אביב  \\\n",
              "0    ...                 0              0              0                 0   \n",
              "2    ...                 1              0              0                 0   \n",
              "73   ...                 0              1              0                 0   \n",
              "297  ...                 0              0              0                 1   \n",
              "322  ...                 0              0              1                 0   \n",
              "\n",
              "     SECTOR_GROUP_חברה חרדית  SECTOR_GROUP_חברה כללית / מעורבת  \\\n",
              "0                          0                                 1   \n",
              "2                          0                                 1   \n",
              "73                         0                                 1   \n",
              "297                        0                                 1   \n",
              "322                        0                                 0   \n",
              "\n",
              "     SECTOR_GROUP_חברה ערבית  CONSTRUCTION_TYPE_GROUP_הסדרה  \\\n",
              "0                          0                              0   \n",
              "2                          0                              0   \n",
              "73                         0                              0   \n",
              "297                        0                              0   \n",
              "322                        1                              0   \n",
              "\n",
              "     CONSTRUCTION_TYPE_GROUP_התחדשות  CONSTRUCTION_TYPE_GROUP_חדשה  \n",
              "0                                  0                             1  \n",
              "2                                  1                             0  \n",
              "73                                 0                             1  \n",
              "297                                0                             1  \n",
              "322                                0                             1  \n",
              "\n",
              "[5 rows x 26 columns]"
            ],
            "text/html": [
              "\n",
              "  <div id=\"df-427c6e1e-d693-4be1-bb27-57ac5b76c2ec\">\n",
              "    <div class=\"colab-df-container\">\n",
              "      <div>\n",
              "<style scoped>\n",
              "    .dataframe tbody tr th:only-of-type {\n",
              "        vertical-align: middle;\n",
              "    }\n",
              "\n",
              "    .dataframe tbody tr th {\n",
              "        vertical-align: top;\n",
              "    }\n",
              "\n",
              "    .dataframe thead th {\n",
              "        text-align: right;\n",
              "    }\n",
              "</style>\n",
              "<table border=\"1\" class=\"dataframe\">\n",
              "  <thead>\n",
              "    <tr style=\"text-align: right;\">\n",
              "      <th></th>\n",
              "      <th>MAIN_AREA</th>\n",
              "      <th>CELL_SIZE_TOTAL</th>\n",
              "      <th>CELL_SIZE_MIN</th>\n",
              "      <th>CELL_SIZE_MAX</th>\n",
              "      <th>HOUSING_UNITS</th>\n",
              "      <th>BUILDING_HEIGHT</th>\n",
              "      <th>FLOORS_NUM</th>\n",
              "      <th>TOTAL_AREA</th>\n",
              "      <th>CONFIRMATION_YEAR</th>\n",
              "      <th>IS_TAMAL</th>\n",
              "      <th>...</th>\n",
              "      <th>DISTRICT_ירושלים</th>\n",
              "      <th>DISTRICT_מרכז</th>\n",
              "      <th>DISTRICT_צפון</th>\n",
              "      <th>DISTRICT_תל-אביב</th>\n",
              "      <th>SECTOR_GROUP_חברה חרדית</th>\n",
              "      <th>SECTOR_GROUP_חברה כללית / מעורבת</th>\n",
              "      <th>SECTOR_GROUP_חברה ערבית</th>\n",
              "      <th>CONSTRUCTION_TYPE_GROUP_הסדרה</th>\n",
              "      <th>CONSTRUCTION_TYPE_GROUP_התחדשות</th>\n",
              "      <th>CONSTRUCTION_TYPE_GROUP_חדשה</th>\n",
              "    </tr>\n",
              "  </thead>\n",
              "  <tbody>\n",
              "    <tr>\n",
              "      <th>0</th>\n",
              "      <td>975.0</td>\n",
              "      <td>2466.0</td>\n",
              "      <td>0.0</td>\n",
              "      <td>0.0</td>\n",
              "      <td>16.0</td>\n",
              "      <td>11.0</td>\n",
              "      <td>2.0</td>\n",
              "      <td>1275.0</td>\n",
              "      <td>2017</td>\n",
              "      <td>0</td>\n",
              "      <td>...</td>\n",
              "      <td>0</td>\n",
              "      <td>0</td>\n",
              "      <td>0</td>\n",
              "      <td>0</td>\n",
              "      <td>0</td>\n",
              "      <td>1</td>\n",
              "      <td>0</td>\n",
              "      <td>0</td>\n",
              "      <td>0</td>\n",
              "      <td>1</td>\n",
              "    </tr>\n",
              "    <tr>\n",
              "      <th>2</th>\n",
              "      <td>960.0</td>\n",
              "      <td>2820.0</td>\n",
              "      <td>0.0</td>\n",
              "      <td>0.0</td>\n",
              "      <td>6.0</td>\n",
              "      <td>17.0</td>\n",
              "      <td>4.0</td>\n",
              "      <td>1140.0</td>\n",
              "      <td>2017</td>\n",
              "      <td>0</td>\n",
              "      <td>...</td>\n",
              "      <td>1</td>\n",
              "      <td>0</td>\n",
              "      <td>0</td>\n",
              "      <td>0</td>\n",
              "      <td>0</td>\n",
              "      <td>1</td>\n",
              "      <td>0</td>\n",
              "      <td>0</td>\n",
              "      <td>1</td>\n",
              "      <td>0</td>\n",
              "    </tr>\n",
              "    <tr>\n",
              "      <th>73</th>\n",
              "      <td>152.0</td>\n",
              "      <td>420.0</td>\n",
              "      <td>0.0</td>\n",
              "      <td>0.0</td>\n",
              "      <td>1.0</td>\n",
              "      <td>16.0</td>\n",
              "      <td>2.0</td>\n",
              "      <td>200.0</td>\n",
              "      <td>2019</td>\n",
              "      <td>1</td>\n",
              "      <td>...</td>\n",
              "      <td>0</td>\n",
              "      <td>1</td>\n",
              "      <td>0</td>\n",
              "      <td>0</td>\n",
              "      <td>0</td>\n",
              "      <td>1</td>\n",
              "      <td>0</td>\n",
              "      <td>0</td>\n",
              "      <td>0</td>\n",
              "      <td>1</td>\n",
              "    </tr>\n",
              "    <tr>\n",
              "      <th>297</th>\n",
              "      <td>2090.0</td>\n",
              "      <td>1496.0</td>\n",
              "      <td>0.0</td>\n",
              "      <td>0.0</td>\n",
              "      <td>19.0</td>\n",
              "      <td>25.5</td>\n",
              "      <td>6.0</td>\n",
              "      <td>3135.0</td>\n",
              "      <td>2017</td>\n",
              "      <td>0</td>\n",
              "      <td>...</td>\n",
              "      <td>0</td>\n",
              "      <td>0</td>\n",
              "      <td>0</td>\n",
              "      <td>1</td>\n",
              "      <td>0</td>\n",
              "      <td>1</td>\n",
              "      <td>0</td>\n",
              "      <td>0</td>\n",
              "      <td>0</td>\n",
              "      <td>1</td>\n",
              "    </tr>\n",
              "    <tr>\n",
              "      <th>322</th>\n",
              "      <td>675.0</td>\n",
              "      <td>563.0</td>\n",
              "      <td>0.0</td>\n",
              "      <td>0.0</td>\n",
              "      <td>4.0</td>\n",
              "      <td>21.0</td>\n",
              "      <td>4.0</td>\n",
              "      <td>900.0</td>\n",
              "      <td>2018</td>\n",
              "      <td>1</td>\n",
              "      <td>...</td>\n",
              "      <td>0</td>\n",
              "      <td>0</td>\n",
              "      <td>1</td>\n",
              "      <td>0</td>\n",
              "      <td>0</td>\n",
              "      <td>0</td>\n",
              "      <td>1</td>\n",
              "      <td>0</td>\n",
              "      <td>0</td>\n",
              "      <td>1</td>\n",
              "    </tr>\n",
              "  </tbody>\n",
              "</table>\n",
              "<p>5 rows × 26 columns</p>\n",
              "</div>\n",
              "      <button class=\"colab-df-convert\" onclick=\"convertToInteractive('df-427c6e1e-d693-4be1-bb27-57ac5b76c2ec')\"\n",
              "              title=\"Convert this dataframe to an interactive table.\"\n",
              "              style=\"display:none;\">\n",
              "        \n",
              "  <svg xmlns=\"http://www.w3.org/2000/svg\" height=\"24px\"viewBox=\"0 0 24 24\"\n",
              "       width=\"24px\">\n",
              "    <path d=\"M0 0h24v24H0V0z\" fill=\"none\"/>\n",
              "    <path d=\"M18.56 5.44l.94 2.06.94-2.06 2.06-.94-2.06-.94-.94-2.06-.94 2.06-2.06.94zm-11 1L8.5 8.5l.94-2.06 2.06-.94-2.06-.94L8.5 2.5l-.94 2.06-2.06.94zm10 10l.94 2.06.94-2.06 2.06-.94-2.06-.94-.94-2.06-.94 2.06-2.06.94z\"/><path d=\"M17.41 7.96l-1.37-1.37c-.4-.4-.92-.59-1.43-.59-.52 0-1.04.2-1.43.59L10.3 9.45l-7.72 7.72c-.78.78-.78 2.05 0 2.83L4 21.41c.39.39.9.59 1.41.59.51 0 1.02-.2 1.41-.59l7.78-7.78 2.81-2.81c.8-.78.8-2.07 0-2.86zM5.41 20L4 18.59l7.72-7.72 1.47 1.35L5.41 20z\"/>\n",
              "  </svg>\n",
              "      </button>\n",
              "      \n",
              "  <style>\n",
              "    .colab-df-container {\n",
              "      display:flex;\n",
              "      flex-wrap:wrap;\n",
              "      gap: 12px;\n",
              "    }\n",
              "\n",
              "    .colab-df-convert {\n",
              "      background-color: #E8F0FE;\n",
              "      border: none;\n",
              "      border-radius: 50%;\n",
              "      cursor: pointer;\n",
              "      display: none;\n",
              "      fill: #1967D2;\n",
              "      height: 32px;\n",
              "      padding: 0 0 0 0;\n",
              "      width: 32px;\n",
              "    }\n",
              "\n",
              "    .colab-df-convert:hover {\n",
              "      background-color: #E2EBFA;\n",
              "      box-shadow: 0px 1px 2px rgba(60, 64, 67, 0.3), 0px 1px 3px 1px rgba(60, 64, 67, 0.15);\n",
              "      fill: #174EA6;\n",
              "    }\n",
              "\n",
              "    [theme=dark] .colab-df-convert {\n",
              "      background-color: #3B4455;\n",
              "      fill: #D2E3FC;\n",
              "    }\n",
              "\n",
              "    [theme=dark] .colab-df-convert:hover {\n",
              "      background-color: #434B5C;\n",
              "      box-shadow: 0px 1px 3px 1px rgba(0, 0, 0, 0.15);\n",
              "      filter: drop-shadow(0px 1px 2px rgba(0, 0, 0, 0.3));\n",
              "      fill: #FFFFFF;\n",
              "    }\n",
              "  </style>\n",
              "\n",
              "      <script>\n",
              "        const buttonEl =\n",
              "          document.querySelector('#df-427c6e1e-d693-4be1-bb27-57ac5b76c2ec button.colab-df-convert');\n",
              "        buttonEl.style.display =\n",
              "          google.colab.kernel.accessAllowed ? 'block' : 'none';\n",
              "\n",
              "        async function convertToInteractive(key) {\n",
              "          const element = document.querySelector('#df-427c6e1e-d693-4be1-bb27-57ac5b76c2ec');\n",
              "          const dataTable =\n",
              "            await google.colab.kernel.invokeFunction('convertToInteractive',\n",
              "                                                     [key], {});\n",
              "          if (!dataTable) return;\n",
              "\n",
              "          const docLinkHtml = 'Like what you see? Visit the ' +\n",
              "            '<a target=\"_blank\" href=https://colab.research.google.com/notebooks/data_table.ipynb>data table notebook</a>'\n",
              "            + ' to learn more about interactive tables.';\n",
              "          element.innerHTML = '';\n",
              "          dataTable['output_type'] = 'display_data';\n",
              "          await google.colab.output.renderOutput(dataTable, element);\n",
              "          const docLink = document.createElement('div');\n",
              "          docLink.innerHTML = docLinkHtml;\n",
              "          element.appendChild(docLink);\n",
              "        }\n",
              "      </script>\n",
              "    </div>\n",
              "  </div>\n",
              "  "
            ]
          },
          "metadata": {},
          "execution_count": 36
        }
      ]
    },
    {
      "cell_type": "markdown",
      "source": [
        "Get dummies של העמודות הקטגוריות כדי שנוכל לבנות מודל."
      ],
      "metadata": {
        "id": "o2QKX3017lRZ"
      }
    },
    {
      "cell_type": "code",
      "source": [
        "\n",
        "dummies_data.columns = ['MAIN_AREA', 'CELL_SIZE_TOTAL', 'CELL_SIZE_MIN', 'CELL_SIZE_MAX', 'HOUSING_UNITS', 'BUILDING_HEIGHT', 'FLOORS_NUM', 'TOTAL_AREA',\n",
        "                        'CONFIRMATION_YEAR', 'IS_TAMAL', 'LANDUSE_RESIDENCE', 'LANDUSE_RESIDENCE_MIXED', 'AUTHORITY_COUNTRY', 'AUTHORITY_DISTRICT',\n",
        "                        'DISTRICT_SOUTH', 'DISTRICT_HAIFA', 'DISTRICT_JERUSALEM', 'DISTRICT_DAN', 'DISTRICT_NORTH', 'DISTRICT_TEL_AVIV', 'SECTOR_REL',\n",
        "                        'SECTOR_MIXED', 'SECTOR_ARAB', 'CONSTRUCTION_TYPE_ARRANGING', 'CONSTRUCTION_TYPE_REGENERATION', 'CONSTRUCTION_TYPE_NEW']\n",
        "dummies_data.head()"
      ],
      "metadata": {
        "colab": {
          "base_uri": "https://localhost:8080/",
          "height": 300
        },
        "id": "1rMH_5-a7x3H",
        "outputId": "1a701147-0ff4-4045-ae04-154724675175"
      },
      "execution_count": 37,
      "outputs": [
        {
          "output_type": "execute_result",
          "data": {
            "text/plain": [
              "     MAIN_AREA  CELL_SIZE_TOTAL  CELL_SIZE_MIN  CELL_SIZE_MAX  HOUSING_UNITS  \\\n",
              "0        975.0           2466.0            0.0            0.0           16.0   \n",
              "2        960.0           2820.0            0.0            0.0            6.0   \n",
              "73       152.0            420.0            0.0            0.0            1.0   \n",
              "297     2090.0           1496.0            0.0            0.0           19.0   \n",
              "322      675.0            563.0            0.0            0.0            4.0   \n",
              "\n",
              "     BUILDING_HEIGHT  FLOORS_NUM  TOTAL_AREA  CONFIRMATION_YEAR  IS_TAMAL  \\\n",
              "0               11.0         2.0      1275.0               2017         0   \n",
              "2               17.0         4.0      1140.0               2017         0   \n",
              "73              16.0         2.0       200.0               2019         1   \n",
              "297             25.5         6.0      3135.0               2017         0   \n",
              "322             21.0         4.0       900.0               2018         1   \n",
              "\n",
              "     ...  DISTRICT_JERUSALEM  DISTRICT_DAN  DISTRICT_NORTH  DISTRICT_TEL_AVIV  \\\n",
              "0    ...                   0             0               0                  0   \n",
              "2    ...                   1             0               0                  0   \n",
              "73   ...                   0             1               0                  0   \n",
              "297  ...                   0             0               0                  1   \n",
              "322  ...                   0             0               1                  0   \n",
              "\n",
              "     SECTOR_REL  SECTOR_MIXED  SECTOR_ARAB  CONSTRUCTION_TYPE_ARRANGING  \\\n",
              "0             0             1            0                            0   \n",
              "2             0             1            0                            0   \n",
              "73            0             1            0                            0   \n",
              "297           0             1            0                            0   \n",
              "322           0             0            1                            0   \n",
              "\n",
              "     CONSTRUCTION_TYPE_REGENERATION  CONSTRUCTION_TYPE_NEW  \n",
              "0                                 0                      1  \n",
              "2                                 1                      0  \n",
              "73                                0                      1  \n",
              "297                               0                      1  \n",
              "322                               0                      1  \n",
              "\n",
              "[5 rows x 26 columns]"
            ],
            "text/html": [
              "\n",
              "  <div id=\"df-946a2d95-be60-4977-9303-e74902a0b8a7\">\n",
              "    <div class=\"colab-df-container\">\n",
              "      <div>\n",
              "<style scoped>\n",
              "    .dataframe tbody tr th:only-of-type {\n",
              "        vertical-align: middle;\n",
              "    }\n",
              "\n",
              "    .dataframe tbody tr th {\n",
              "        vertical-align: top;\n",
              "    }\n",
              "\n",
              "    .dataframe thead th {\n",
              "        text-align: right;\n",
              "    }\n",
              "</style>\n",
              "<table border=\"1\" class=\"dataframe\">\n",
              "  <thead>\n",
              "    <tr style=\"text-align: right;\">\n",
              "      <th></th>\n",
              "      <th>MAIN_AREA</th>\n",
              "      <th>CELL_SIZE_TOTAL</th>\n",
              "      <th>CELL_SIZE_MIN</th>\n",
              "      <th>CELL_SIZE_MAX</th>\n",
              "      <th>HOUSING_UNITS</th>\n",
              "      <th>BUILDING_HEIGHT</th>\n",
              "      <th>FLOORS_NUM</th>\n",
              "      <th>TOTAL_AREA</th>\n",
              "      <th>CONFIRMATION_YEAR</th>\n",
              "      <th>IS_TAMAL</th>\n",
              "      <th>...</th>\n",
              "      <th>DISTRICT_JERUSALEM</th>\n",
              "      <th>DISTRICT_DAN</th>\n",
              "      <th>DISTRICT_NORTH</th>\n",
              "      <th>DISTRICT_TEL_AVIV</th>\n",
              "      <th>SECTOR_REL</th>\n",
              "      <th>SECTOR_MIXED</th>\n",
              "      <th>SECTOR_ARAB</th>\n",
              "      <th>CONSTRUCTION_TYPE_ARRANGING</th>\n",
              "      <th>CONSTRUCTION_TYPE_REGENERATION</th>\n",
              "      <th>CONSTRUCTION_TYPE_NEW</th>\n",
              "    </tr>\n",
              "  </thead>\n",
              "  <tbody>\n",
              "    <tr>\n",
              "      <th>0</th>\n",
              "      <td>975.0</td>\n",
              "      <td>2466.0</td>\n",
              "      <td>0.0</td>\n",
              "      <td>0.0</td>\n",
              "      <td>16.0</td>\n",
              "      <td>11.0</td>\n",
              "      <td>2.0</td>\n",
              "      <td>1275.0</td>\n",
              "      <td>2017</td>\n",
              "      <td>0</td>\n",
              "      <td>...</td>\n",
              "      <td>0</td>\n",
              "      <td>0</td>\n",
              "      <td>0</td>\n",
              "      <td>0</td>\n",
              "      <td>0</td>\n",
              "      <td>1</td>\n",
              "      <td>0</td>\n",
              "      <td>0</td>\n",
              "      <td>0</td>\n",
              "      <td>1</td>\n",
              "    </tr>\n",
              "    <tr>\n",
              "      <th>2</th>\n",
              "      <td>960.0</td>\n",
              "      <td>2820.0</td>\n",
              "      <td>0.0</td>\n",
              "      <td>0.0</td>\n",
              "      <td>6.0</td>\n",
              "      <td>17.0</td>\n",
              "      <td>4.0</td>\n",
              "      <td>1140.0</td>\n",
              "      <td>2017</td>\n",
              "      <td>0</td>\n",
              "      <td>...</td>\n",
              "      <td>1</td>\n",
              "      <td>0</td>\n",
              "      <td>0</td>\n",
              "      <td>0</td>\n",
              "      <td>0</td>\n",
              "      <td>1</td>\n",
              "      <td>0</td>\n",
              "      <td>0</td>\n",
              "      <td>1</td>\n",
              "      <td>0</td>\n",
              "    </tr>\n",
              "    <tr>\n",
              "      <th>73</th>\n",
              "      <td>152.0</td>\n",
              "      <td>420.0</td>\n",
              "      <td>0.0</td>\n",
              "      <td>0.0</td>\n",
              "      <td>1.0</td>\n",
              "      <td>16.0</td>\n",
              "      <td>2.0</td>\n",
              "      <td>200.0</td>\n",
              "      <td>2019</td>\n",
              "      <td>1</td>\n",
              "      <td>...</td>\n",
              "      <td>0</td>\n",
              "      <td>1</td>\n",
              "      <td>0</td>\n",
              "      <td>0</td>\n",
              "      <td>0</td>\n",
              "      <td>1</td>\n",
              "      <td>0</td>\n",
              "      <td>0</td>\n",
              "      <td>0</td>\n",
              "      <td>1</td>\n",
              "    </tr>\n",
              "    <tr>\n",
              "      <th>297</th>\n",
              "      <td>2090.0</td>\n",
              "      <td>1496.0</td>\n",
              "      <td>0.0</td>\n",
              "      <td>0.0</td>\n",
              "      <td>19.0</td>\n",
              "      <td>25.5</td>\n",
              "      <td>6.0</td>\n",
              "      <td>3135.0</td>\n",
              "      <td>2017</td>\n",
              "      <td>0</td>\n",
              "      <td>...</td>\n",
              "      <td>0</td>\n",
              "      <td>0</td>\n",
              "      <td>0</td>\n",
              "      <td>1</td>\n",
              "      <td>0</td>\n",
              "      <td>1</td>\n",
              "      <td>0</td>\n",
              "      <td>0</td>\n",
              "      <td>0</td>\n",
              "      <td>1</td>\n",
              "    </tr>\n",
              "    <tr>\n",
              "      <th>322</th>\n",
              "      <td>675.0</td>\n",
              "      <td>563.0</td>\n",
              "      <td>0.0</td>\n",
              "      <td>0.0</td>\n",
              "      <td>4.0</td>\n",
              "      <td>21.0</td>\n",
              "      <td>4.0</td>\n",
              "      <td>900.0</td>\n",
              "      <td>2018</td>\n",
              "      <td>1</td>\n",
              "      <td>...</td>\n",
              "      <td>0</td>\n",
              "      <td>0</td>\n",
              "      <td>1</td>\n",
              "      <td>0</td>\n",
              "      <td>0</td>\n",
              "      <td>0</td>\n",
              "      <td>1</td>\n",
              "      <td>0</td>\n",
              "      <td>0</td>\n",
              "      <td>1</td>\n",
              "    </tr>\n",
              "  </tbody>\n",
              "</table>\n",
              "<p>5 rows × 26 columns</p>\n",
              "</div>\n",
              "      <button class=\"colab-df-convert\" onclick=\"convertToInteractive('df-946a2d95-be60-4977-9303-e74902a0b8a7')\"\n",
              "              title=\"Convert this dataframe to an interactive table.\"\n",
              "              style=\"display:none;\">\n",
              "        \n",
              "  <svg xmlns=\"http://www.w3.org/2000/svg\" height=\"24px\"viewBox=\"0 0 24 24\"\n",
              "       width=\"24px\">\n",
              "    <path d=\"M0 0h24v24H0V0z\" fill=\"none\"/>\n",
              "    <path d=\"M18.56 5.44l.94 2.06.94-2.06 2.06-.94-2.06-.94-.94-2.06-.94 2.06-2.06.94zm-11 1L8.5 8.5l.94-2.06 2.06-.94-2.06-.94L8.5 2.5l-.94 2.06-2.06.94zm10 10l.94 2.06.94-2.06 2.06-.94-2.06-.94-.94-2.06-.94 2.06-2.06.94z\"/><path d=\"M17.41 7.96l-1.37-1.37c-.4-.4-.92-.59-1.43-.59-.52 0-1.04.2-1.43.59L10.3 9.45l-7.72 7.72c-.78.78-.78 2.05 0 2.83L4 21.41c.39.39.9.59 1.41.59.51 0 1.02-.2 1.41-.59l7.78-7.78 2.81-2.81c.8-.78.8-2.07 0-2.86zM5.41 20L4 18.59l7.72-7.72 1.47 1.35L5.41 20z\"/>\n",
              "  </svg>\n",
              "      </button>\n",
              "      \n",
              "  <style>\n",
              "    .colab-df-container {\n",
              "      display:flex;\n",
              "      flex-wrap:wrap;\n",
              "      gap: 12px;\n",
              "    }\n",
              "\n",
              "    .colab-df-convert {\n",
              "      background-color: #E8F0FE;\n",
              "      border: none;\n",
              "      border-radius: 50%;\n",
              "      cursor: pointer;\n",
              "      display: none;\n",
              "      fill: #1967D2;\n",
              "      height: 32px;\n",
              "      padding: 0 0 0 0;\n",
              "      width: 32px;\n",
              "    }\n",
              "\n",
              "    .colab-df-convert:hover {\n",
              "      background-color: #E2EBFA;\n",
              "      box-shadow: 0px 1px 2px rgba(60, 64, 67, 0.3), 0px 1px 3px 1px rgba(60, 64, 67, 0.15);\n",
              "      fill: #174EA6;\n",
              "    }\n",
              "\n",
              "    [theme=dark] .colab-df-convert {\n",
              "      background-color: #3B4455;\n",
              "      fill: #D2E3FC;\n",
              "    }\n",
              "\n",
              "    [theme=dark] .colab-df-convert:hover {\n",
              "      background-color: #434B5C;\n",
              "      box-shadow: 0px 1px 3px 1px rgba(0, 0, 0, 0.15);\n",
              "      filter: drop-shadow(0px 1px 2px rgba(0, 0, 0, 0.3));\n",
              "      fill: #FFFFFF;\n",
              "    }\n",
              "  </style>\n",
              "\n",
              "      <script>\n",
              "        const buttonEl =\n",
              "          document.querySelector('#df-946a2d95-be60-4977-9303-e74902a0b8a7 button.colab-df-convert');\n",
              "        buttonEl.style.display =\n",
              "          google.colab.kernel.accessAllowed ? 'block' : 'none';\n",
              "\n",
              "        async function convertToInteractive(key) {\n",
              "          const element = document.querySelector('#df-946a2d95-be60-4977-9303-e74902a0b8a7');\n",
              "          const dataTable =\n",
              "            await google.colab.kernel.invokeFunction('convertToInteractive',\n",
              "                                                     [key], {});\n",
              "          if (!dataTable) return;\n",
              "\n",
              "          const docLinkHtml = 'Like what you see? Visit the ' +\n",
              "            '<a target=\"_blank\" href=https://colab.research.google.com/notebooks/data_table.ipynb>data table notebook</a>'\n",
              "            + ' to learn more about interactive tables.';\n",
              "          element.innerHTML = '';\n",
              "          dataTable['output_type'] = 'display_data';\n",
              "          await google.colab.output.renderOutput(dataTable, element);\n",
              "          const docLink = document.createElement('div');\n",
              "          docLink.innerHTML = docLinkHtml;\n",
              "          element.appendChild(docLink);\n",
              "        }\n",
              "      </script>\n",
              "    </div>\n",
              "  </div>\n",
              "  "
            ]
          },
          "metadata": {},
          "execution_count": 37
        }
      ]
    },
    {
      "cell_type": "markdown",
      "source": [
        "לבסוף, הנתונים מוכנים ללימוד מכונה.<BR>\n",
        "# Data Exploration\n",
        "מציאת קורלציות בין המאפיינים השונים לבין אחוז שטח עיקרי:"
      ],
      "metadata": {
        "id": "1Bs6fW69kJkR"
      }
    },
    {
      "cell_type": "code",
      "source": [
        "corr = dummies_data.corr()\n",
        "corr.loc['MAIN_AREA'].sort_values(ascending=False)"
      ],
      "metadata": {
        "colab": {
          "base_uri": "https://localhost:8080/"
        },
        "id": "qdjZMXZGf5GL",
        "outputId": "2341c3ee-043c-48b8-b0fb-8300b08fd03a"
      },
      "execution_count": 38,
      "outputs": [
        {
          "output_type": "execute_result",
          "data": {
            "text/plain": [
              "MAIN_AREA                         1.000000\n",
              "TOTAL_AREA                        0.996335\n",
              "HOUSING_UNITS                     0.834821\n",
              "FLOORS_NUM                        0.658868\n",
              "CELL_SIZE_TOTAL                   0.609265\n",
              "BUILDING_HEIGHT                   0.587021\n",
              "DISTRICT_TEL_AVIV                 0.279853\n",
              "AUTHORITY_COUNTRY                 0.185409\n",
              "IS_TAMAL                          0.185409\n",
              "SECTOR_MIXED                      0.184196\n",
              "CONSTRUCTION_TYPE_REGENERATION    0.096998\n",
              "LANDUSE_RESIDENCE_MIXED           0.083635\n",
              "DISTRICT_DAN                      0.054586\n",
              "CELL_SIZE_MIN                     0.041367\n",
              "DISTRICT_HAIFA                    0.036823\n",
              "CELL_SIZE_MAX                     0.014051\n",
              "DISTRICT_SOUTH                   -0.003237\n",
              "SECTOR_REL                       -0.025171\n",
              "CONFIRMATION_YEAR                -0.032031\n",
              "CONSTRUCTION_TYPE_ARRANGING      -0.045942\n",
              "DISTRICT_JERUSALEM               -0.052744\n",
              "CONSTRUCTION_TYPE_NEW            -0.074129\n",
              "LANDUSE_RESIDENCE                -0.083635\n",
              "DISTRICT_NORTH                   -0.106619\n",
              "SECTOR_ARAB                      -0.168549\n",
              "AUTHORITY_DISTRICT               -0.185409\n",
              "Name: MAIN_AREA, dtype: float64"
            ]
          },
          "metadata": {},
          "execution_count": 38
        }
      ]
    },
    {
      "cell_type": "markdown",
      "source": [
        "ניתן לראות שבסקטור הערבי יש קורלציה מסויימת (אחוז השטח העיקרי שם גבוה יותר)<br> וכן שיש קשר שלילי בין מספר הקומות, גובה הבניין והשטח הכולל - ככל שיש יותר קומות, והשטח הכולל גדול יותר - אחוז השטח העיקרי נמוך יותר."
      ],
      "metadata": {
        "id": "or2-Zq16gdS6"
      }
    },
    {
      "cell_type": "code",
      "source": [
        "abs_corr = abs(dummies_data.corr())\n",
        "abs_corr.loc['MAIN_AREA'].sort_values(ascending=False).head(10)"
      ],
      "metadata": {
        "colab": {
          "base_uri": "https://localhost:8080/"
        },
        "id": "xkxXs7A8B7m-",
        "outputId": "3f2724d7-f579-4b97-c49f-bb4d90316c1b"
      },
      "execution_count": 39,
      "outputs": [
        {
          "output_type": "execute_result",
          "data": {
            "text/plain": [
              "MAIN_AREA             1.000000\n",
              "TOTAL_AREA            0.996335\n",
              "HOUSING_UNITS         0.834821\n",
              "FLOORS_NUM            0.658868\n",
              "CELL_SIZE_TOTAL       0.609265\n",
              "BUILDING_HEIGHT       0.587021\n",
              "DISTRICT_TEL_AVIV     0.279853\n",
              "IS_TAMAL              0.185409\n",
              "AUTHORITY_COUNTRY     0.185409\n",
              "AUTHORITY_DISTRICT    0.185409\n",
              "Name: MAIN_AREA, dtype: float64"
            ]
          },
          "metadata": {},
          "execution_count": 39
        }
      ]
    },
    {
      "cell_type": "code",
      "source": [
        "%matplotlib inline\n",
        "sns.pairplot(dummies_data[['MAIN_AREA', 'TOTAL_AREA', 'HOUSING_UNITS', 'FLOORS_NUM']], height=1.5);"
      ],
      "metadata": {
        "colab": {
          "base_uri": "https://localhost:8080/",
          "height": 444
        },
        "id": "bnR_fFAipkZJ",
        "outputId": "602f31b7-e839-49c6-f20b-0cece365c71e"
      },
      "execution_count": 40,
      "outputs": [
        {
          "output_type": "display_data",
          "data": {
            "text/plain": [
              "<Figure size 432x432 with 20 Axes>"
            ],
            "image/png": "[encoded data removed]"
          },
          "metadata": {
            "needs_background": "light"
          }
        }
      ]
    },
    {
      "cell_type": "code",
      "source": [
        "dummies_data.plot.scatter(x = 'TOTAL_AREA', y = 'MAIN_AREA', s = 10)"
      ],
      "metadata": {
        "colab": {
          "base_uri": "https://localhost:8080/",
          "height": 340
        },
        "id": "iODuZhRtN07N",
        "outputId": "0c034c99-d380-4d3d-efad-797948328f52"
      },
      "execution_count": 41,
      "outputs": [
        {
          "output_type": "stream",
          "name": "stderr",
          "text": [
            "*c* argument looks like a single numeric RGB or RGBA sequence, which should be avoided as value-mapping will have precedence in case its length matches with *x* & *y*.  Please use the *color* keyword-argument or provide a 2-D array with a single row if you intend to specify the same RGB or RGBA value for all points.\n"
          ]
        },
        {
          "output_type": "execute_result",
          "data": {
            "text/plain": [
              "<matplotlib.axes._subplots.AxesSubplot at 0x7f0ca4f19210>"
            ]
          },
          "metadata": {},
          "execution_count": 41
        },
        {
          "output_type": "display_data",
          "data": {
            "text/plain": [
              "<Figure size 432x288 with 1 Axes>"
            ],
            "image/png": "[encoded data removed]"
          },
          "metadata": {
            "needs_background": "light"
          }
        }
      ]
    },
    {
      "cell_type": "markdown",
      "source": [
        "הסרת חריגים:"
      ],
      "metadata": {
        "id": "SQ3_45GpfiDX"
      }
    },
    {
      "cell_type": "code",
      "source": [
        "dummies_data = dummies_data[dummies_data['TOTAL_AREA'] < 40000]\n",
        "dummies_data.plot.scatter(x = 'TOTAL_AREA', y = 'MAIN_AREA', s = 1)"
      ],
      "metadata": {
        "colab": {
          "base_uri": "https://localhost:8080/",
          "height": 340
        },
        "id": "qhvqz1N_QH0d",
        "outputId": "192540a3-acee-4ecf-b2c7-8b954927ca9e"
      },
      "execution_count": 42,
      "outputs": [
        {
          "output_type": "stream",
          "name": "stderr",
          "text": [
            "*c* argument looks like a single numeric RGB or RGBA sequence, which should be avoided as value-mapping will have precedence in case its length matches with *x* & *y*.  Please use the *color* keyword-argument or provide a 2-D array with a single row if you intend to specify the same RGB or RGBA value for all points.\n"
          ]
        },
        {
          "output_type": "execute_result",
          "data": {
            "text/plain": [
              "<matplotlib.axes._subplots.AxesSubplot at 0x7f0ca4125fd0>"
            ]
          },
          "metadata": {},
          "execution_count": 42
        },
        {
          "output_type": "display_data",
          "data": {
            "text/plain": [
              "<Figure size 432x288 with 1 Axes>"
            ],
            "image/png": "[encoded data removed]"
          },
          "metadata": {
            "needs_background": "light"
          }
        }
      ]
    },
    {
      "cell_type": "markdown",
      "source": [
        "ל-TOTAL_AREA יש מערכת יחסים חזקה מאוד עם MAIN_AREA!\n",
        "\n",
        "אנסה את מודל KNeighborsRegressor לניבוי ה-MAIN_AREA.\n",
        "TOTAL_AREA יהיה המאפיין היחיד."
      ],
      "metadata": {
        "id": "n6CQ7R3jgLc1"
      }
    },
    {
      "cell_type": "markdown",
      "source": [
        "# K Nearest Neighbors model"
      ],
      "metadata": {
        "id": "CIoD8snBJrHg"
      }
    },
    {
      "cell_type": "code",
      "source": [
        "feature_cols = ['TOTAL_AREA']"
      ],
      "metadata": {
        "id": "71TV2zFK-6kZ"
      },
      "execution_count": 43,
      "outputs": []
    },
    {
      "cell_type": "code",
      "source": [
        "X = dummies_data[feature_cols]\n",
        "y = dummies_data['MAIN_AREA']"
      ],
      "metadata": {
        "id": "67cKKj2pCGY3"
      },
      "execution_count": 44,
      "outputs": []
    },
    {
      "cell_type": "markdown",
      "source": [
        "אין צורך לשנות את קנה המידה של X, כי אני רוצה שהמודל יתייחס לערך TOTAL_AREA בפועל."
      ],
      "metadata": {
        "id": "n6-oXQPYd3oH"
      }
    },
    {
      "cell_type": "code",
      "source": [
        "from sklearn.model_selection import train_test_split\n",
        "X_train, X_test, y_train, y_test = train_test_split(X, y, test_size=0.33, random_state=42)"
      ],
      "metadata": {
        "id": "8GA9CRZ7_kdI"
      },
      "execution_count": 45,
      "outputs": []
    },
    {
      "cell_type": "code",
      "source": [
        "# from sklearn import preprocessing\n",
        "# scaler = preprocessing.StandardScaler().fit(X_train)\n",
        "# X_scaled = scaler.transform(X_train)"
      ],
      "metadata": {
        "id": "6lf6AYjrr4jC"
      },
      "execution_count": 46,
      "outputs": []
    },
    {
      "cell_type": "markdown",
      "source": [
        "כוונון היפרפרמטר: מציאת הפרמטרים הטובים ביותר"
      ],
      "metadata": {
        "id": "-M1WuvhWeXi_"
      }
    },
    {
      "cell_type": "code",
      "source": [
        "from sklearn.neighbors import KNeighborsRegressor\n",
        "from sklearn.model_selection import GridSearchCV\n",
        "\n",
        "# find best n_neighbors and weights\n",
        "params = {'n_neighbors':[3,5,7,9,11,13,15,17,19,21,23,25], 'weights':['uniform', 'distance']}\n",
        "\n",
        "knn = KNeighborsRegressor()\n",
        "\n",
        "model = GridSearchCV(knn, params, cv=5)\n",
        "model.fit(X_train, y_train)\n",
        "#model.fit(X_scaled, y_train)\n",
        "model.best_params_"
      ],
      "metadata": {
        "colab": {
          "base_uri": "https://localhost:8080/"
        },
        "id": "ikVvMEVWwDni",
        "outputId": "df982946-8b1d-4ef4-ac44-b321458a02a7"
      },
      "execution_count": 47,
      "outputs": [
        {
          "output_type": "execute_result",
          "data": {
            "text/plain": [
              "{'n_neighbors': 15, 'weights': 'distance'}"
            ]
          },
          "metadata": {},
          "execution_count": 47
        }
      ]
    },
    {
      "cell_type": "code",
      "source": [
        "neigh = KNeighborsRegressor(n_neighbors=15, weights='distance')\n",
        "neigh.fit(X_train, y_train)\n",
        "#neigh.fit(X_scaled, y_train)"
      ],
      "metadata": {
        "colab": {
          "base_uri": "https://localhost:8080/"
        },
        "id": "f2VmHj0E-2qV",
        "outputId": "f180c464-416d-47f1-c8de-ef6540c54fde"
      },
      "execution_count": 48,
      "outputs": [
        {
          "output_type": "execute_result",
          "data": {
            "text/plain": [
              "KNeighborsRegressor(n_neighbors=15, weights='distance')"
            ]
          },
          "metadata": {},
          "execution_count": 48
        }
      ]
    },
    {
      "cell_type": "code",
      "source": [
        "y_pred = neigh.predict(X_test)"
      ],
      "metadata": {
        "id": "QCoWGi5q_3mx"
      },
      "execution_count": 49,
      "outputs": []
    },
    {
      "cell_type": "code",
      "source": [
        "from sklearn.metrics import mean_absolute_error\n",
        "from sklearn.metrics import mean_squared_error\n",
        "from sklearn.metrics import r2_score\n",
        "knn_mae = mean_absolute_error(y_test, y_pred)\n",
        "print(\"MAE:\", knn_mae)\n",
        "\n",
        "knn_mse = mean_squared_error(y_test, y_pred)\n",
        "print(\"MSE:\", knn_mse)\n",
        "\n",
        "knn_rmse = mean_squared_error(y_test, y_pred, squared=False)\n",
        "print(\"RMSE:\", knn_rmse)\n",
        "\n",
        "knn_rsquared = r2_score(y_test, y_pred)\n",
        "print(\"R Squared:\", knn_rsquared)"
      ],
      "metadata": {
        "colab": {
          "base_uri": "https://localhost:8080/"
        },
        "id": "TO25yFhSBh_t",
        "outputId": "3f946164-5562-4f2a-d3a7-a108660f25af"
      },
      "execution_count": 50,
      "outputs": [
        {
          "output_type": "stream",
          "name": "stdout",
          "text": [
            "MAE: 149.55219208940758\n",
            "MSE: 122649.60587307863\n",
            "RMSE: 350.2136574622392\n",
            "R Squared: 0.9869479362725436\n"
          ]
        }
      ]
    },
    {
      "cell_type": "markdown",
      "source": [
        "ניתן לראות שהתקבלו תוצאות מעולות!"
      ],
      "metadata": {
        "id": "GAcigVwitsrF"
      }
    },
    {
      "cell_type": "markdown",
      "source": [
        "[Merging results from model predict with original pandas dataframe.](https://stackoverflow.com/questions/40729162/merging-results-from-model-predict-with-original-pandas-dataframe)\n"
      ],
      "metadata": {
        "id": "fNCjUjFnC6Qb"
      }
    },
    {
      "cell_type": "markdown",
      "source": [
        "והנה החיזויים של המודל:"
      ],
      "metadata": {
        "id": "g-MFU_stt0PD"
      }
    },
    {
      "cell_type": "code",
      "source": [
        "test_predictions_df = pd.DataFrame(y_test)\n",
        "test_predictions_df['y_pred'] = y_pred\n",
        "test_predictions_df.columns = ['MAIN_AREA_true', 'KNN_predictions']\n",
        "test_predictions_df['Total_area'] = dummies_data['TOTAL_AREA']\n",
        "test_predictions_df.T"
      ],
      "metadata": {
        "colab": {
          "base_uri": "https://localhost:8080/",
          "height": 237
        },
        "id": "gUWzWBOhCpm8",
        "outputId": "f3953d75-8f50-4eb0-da21-e51f1f892096"
      },
      "execution_count": 51,
      "outputs": [
        {
          "output_type": "execute_result",
          "data": {
            "text/plain": [
              "                       12677       12077       9296    12692  11043  \\\n",
              "MAIN_AREA_true   1580.000000  275.000000  200.000000   952.0  355.0   \n",
              "KNN_predictions  1638.283819  265.571429  199.369458  1010.0  285.0   \n",
              "Total_area       2003.000000  320.000000  258.000000  1155.0  355.0   \n",
              "\n",
              "                     11294       4786   12721       13301        13706  ...  \\\n",
              "MAIN_AREA_true   75.000000  809.050000  720.0  203.010000  1211.750000  ...   \n",
              "KNN_predictions  89.357078  884.105023  751.8  175.316243  1274.213701  ...   \n",
              "Total_area       90.000000  985.570000  880.0  217.980000  1473.750000  ...   \n",
              "\n",
              "                       12757        12364       13461       12237  1905   \\\n",
              "MAIN_AREA_true    990.000000   890.000000  570.000000  399.000000  457.0   \n",
              "KNN_predictions   983.119223  1146.591923  569.727273  385.037437  468.5   \n",
              "Total_area       1232.000000  1340.000000  600.000000  449.500000  580.0   \n",
              "\n",
              "                        11832      11257       13201        12691  13536  \n",
              "MAIN_AREA_true   19100.000000  475.00000  868.220000   890.500000  270.0  \n",
              "KNN_predictions  18830.085928  463.88894  755.947408   828.984346  325.0  \n",
              "Total_area       27400.000000  615.00000  904.970000  1027.500000  350.0  \n",
              "\n",
              "[3 rows x 850 columns]"
            ],
            "text/html": [
              "\n",
              "  <div id=\"df-58e073de-f746-442f-a934-7cba72a8a9e9\">\n",
              "    <div class=\"colab-df-container\">\n",
              "      <div>\n",
              "<style scoped>\n",
              "    .dataframe tbody tr th:only-of-type {\n",
              "        vertical-align: middle;\n",
              "    }\n",
              "\n",
              "    .dataframe tbody tr th {\n",
              "        vertical-align: top;\n",
              "    }\n",
              "\n",
              "    .dataframe thead th {\n",
              "        text-align: right;\n",
              "    }\n",
              "</style>\n",
              "<table border=\"1\" class=\"dataframe\">\n",
              "  <thead>\n",
              "    <tr style=\"text-align: right;\">\n",
              "      <th></th>\n",
              "      <th>12677</th>\n",
              "      <th>12077</th>\n",
              "      <th>9296</th>\n",
              "      <th>12692</th>\n",
              "      <th>11043</th>\n",
              "      <th>11294</th>\n",
              "      <th>4786</th>\n",
              "      <th>12721</th>\n",
              "      <th>13301</th>\n",
              "      <th>13706</th>\n",
              "      <th>...</th>\n",
              "      <th>12757</th>\n",
              "      <th>12364</th>\n",
              "      <th>13461</th>\n",
              "      <th>12237</th>\n",
              "      <th>1905</th>\n",
              "      <th>11832</th>\n",
              "      <th>11257</th>\n",
              "      <th>13201</th>\n",
              "      <th>12691</th>\n",
              "      <th>13536</th>\n",
              "    </tr>\n",
              "  </thead>\n",
              "  <tbody>\n",
              "    <tr>\n",
              "      <th>MAIN_AREA_true</th>\n",
              "      <td>1580.000000</td>\n",
              "      <td>275.000000</td>\n",
              "      <td>200.000000</td>\n",
              "      <td>952.0</td>\n",
              "      <td>355.0</td>\n",
              "      <td>75.000000</td>\n",
              "      <td>809.050000</td>\n",
              "      <td>720.0</td>\n",
              "      <td>203.010000</td>\n",
              "      <td>1211.750000</td>\n",
              "      <td>...</td>\n",
              "      <td>990.000000</td>\n",
              "      <td>890.000000</td>\n",
              "      <td>570.000000</td>\n",
              "      <td>399.000000</td>\n",
              "      <td>457.0</td>\n",
              "      <td>19100.000000</td>\n",
              "      <td>475.00000</td>\n",
              "      <td>868.220000</td>\n",
              "      <td>890.500000</td>\n",
              "      <td>270.0</td>\n",
              "    </tr>\n",
              "    <tr>\n",
              "      <th>KNN_predictions</th>\n",
              "      <td>1638.283819</td>\n",
              "      <td>265.571429</td>\n",
              "      <td>199.369458</td>\n",
              "      <td>1010.0</td>\n",
              "      <td>285.0</td>\n",
              "      <td>89.357078</td>\n",
              "      <td>884.105023</td>\n",
              "      <td>751.8</td>\n",
              "      <td>175.316243</td>\n",
              "      <td>1274.213701</td>\n",
              "      <td>...</td>\n",
              "      <td>983.119223</td>\n",
              "      <td>1146.591923</td>\n",
              "      <td>569.727273</td>\n",
              "      <td>385.037437</td>\n",
              "      <td>468.5</td>\n",
              "      <td>18830.085928</td>\n",
              "      <td>463.88894</td>\n",
              "      <td>755.947408</td>\n",
              "      <td>828.984346</td>\n",
              "      <td>325.0</td>\n",
              "    </tr>\n",
              "    <tr>\n",
              "      <th>Total_area</th>\n",
              "      <td>2003.000000</td>\n",
              "      <td>320.000000</td>\n",
              "      <td>258.000000</td>\n",
              "      <td>1155.0</td>\n",
              "      <td>355.0</td>\n",
              "      <td>90.000000</td>\n",
              "      <td>985.570000</td>\n",
              "      <td>880.0</td>\n",
              "      <td>217.980000</td>\n",
              "      <td>1473.750000</td>\n",
              "      <td>...</td>\n",
              "      <td>1232.000000</td>\n",
              "      <td>1340.000000</td>\n",
              "      <td>600.000000</td>\n",
              "      <td>449.500000</td>\n",
              "      <td>580.0</td>\n",
              "      <td>27400.000000</td>\n",
              "      <td>615.00000</td>\n",
              "      <td>904.970000</td>\n",
              "      <td>1027.500000</td>\n",
              "      <td>350.0</td>\n",
              "    </tr>\n",
              "  </tbody>\n",
              "</table>\n",
              "<p>3 rows × 850 columns</p>\n",
              "</div>\n",
              "      <button class=\"colab-df-convert\" onclick=\"convertToInteractive('df-58e073de-f746-442f-a934-7cba72a8a9e9')\"\n",
              "              title=\"Convert this dataframe to an interactive table.\"\n",
              "              style=\"display:none;\">\n",
              "        \n",
              "  <svg xmlns=\"http://www.w3.org/2000/svg\" height=\"24px\"viewBox=\"0 0 24 24\"\n",
              "       width=\"24px\">\n",
              "    <path d=\"M0 0h24v24H0V0z\" fill=\"none\"/>\n",
              "    <path d=\"M18.56 5.44l.94 2.06.94-2.06 2.06-.94-2.06-.94-.94-2.06-.94 2.06-2.06.94zm-11 1L8.5 8.5l.94-2.06 2.06-.94-2.06-.94L8.5 2.5l-.94 2.06-2.06.94zm10 10l.94 2.06.94-2.06 2.06-.94-2.06-.94-.94-2.06-.94 2.06-2.06.94z\"/><path d=\"M17.41 7.96l-1.37-1.37c-.4-.4-.92-.59-1.43-.59-.52 0-1.04.2-1.43.59L10.3 9.45l-7.72 7.72c-.78.78-.78 2.05 0 2.83L4 21.41c.39.39.9.59 1.41.59.51 0 1.02-.2 1.41-.59l7.78-7.78 2.81-2.81c.8-.78.8-2.07 0-2.86zM5.41 20L4 18.59l7.72-7.72 1.47 1.35L5.41 20z\"/>\n",
              "  </svg>\n",
              "      </button>\n",
              "      \n",
              "  <style>\n",
              "    .colab-df-container {\n",
              "      display:flex;\n",
              "      flex-wrap:wrap;\n",
              "      gap: 12px;\n",
              "    }\n",
              "\n",
              "    .colab-df-convert {\n",
              "      background-color: #E8F0FE;\n",
              "      border: none;\n",
              "      border-radius: 50%;\n",
              "      cursor: pointer;\n",
              "      display: none;\n",
              "      fill: #1967D2;\n",
              "      height: 32px;\n",
              "      padding: 0 0 0 0;\n",
              "      width: 32px;\n",
              "    }\n",
              "\n",
              "    .colab-df-convert:hover {\n",
              "      background-color: #E2EBFA;\n",
              "      box-shadow: 0px 1px 2px rgba(60, 64, 67, 0.3), 0px 1px 3px 1px rgba(60, 64, 67, 0.15);\n",
              "      fill: #174EA6;\n",
              "    }\n",
              "\n",
              "    [theme=dark] .colab-df-convert {\n",
              "      background-color: #3B4455;\n",
              "      fill: #D2E3FC;\n",
              "    }\n",
              "\n",
              "    [theme=dark] .colab-df-convert:hover {\n",
              "      background-color: #434B5C;\n",
              "      box-shadow: 0px 1px 3px 1px rgba(0, 0, 0, 0.15);\n",
              "      filter: drop-shadow(0px 1px 2px rgba(0, 0, 0, 0.3));\n",
              "      fill: #FFFFFF;\n",
              "    }\n",
              "  </style>\n",
              "\n",
              "      <script>\n",
              "        const buttonEl =\n",
              "          document.querySelector('#df-58e073de-f746-442f-a934-7cba72a8a9e9 button.colab-df-convert');\n",
              "        buttonEl.style.display =\n",
              "          google.colab.kernel.accessAllowed ? 'block' : 'none';\n",
              "\n",
              "        async function convertToInteractive(key) {\n",
              "          const element = document.querySelector('#df-58e073de-f746-442f-a934-7cba72a8a9e9');\n",
              "          const dataTable =\n",
              "            await google.colab.kernel.invokeFunction('convertToInteractive',\n",
              "                                                     [key], {});\n",
              "          if (!dataTable) return;\n",
              "\n",
              "          const docLinkHtml = 'Like what you see? Visit the ' +\n",
              "            '<a target=\"_blank\" href=https://colab.research.google.com/notebooks/data_table.ipynb>data table notebook</a>'\n",
              "            + ' to learn more about interactive tables.';\n",
              "          element.innerHTML = '';\n",
              "          dataTable['output_type'] = 'display_data';\n",
              "          await google.colab.output.renderOutput(dataTable, element);\n",
              "          const docLink = document.createElement('div');\n",
              "          docLink.innerHTML = docLinkHtml;\n",
              "          element.appendChild(docLink);\n",
              "        }\n",
              "      </script>\n",
              "    </div>\n",
              "  </div>\n",
              "  "
            ]
          },
          "metadata": {},
          "execution_count": 51
        }
      ]
    },
    {
      "cell_type": "markdown",
      "source": [
        "**בודק את המודל שוב על נתונים חדשים - רק אזורי תוכניות שאושרו לאחר נובמבר 2021.**"
      ],
      "metadata": {
        "id": "YZcu9OZpdEq6"
      }
    },
    {
      "cell_type": "code",
      "source": [
        "new_cellsdata = pd.read_csv('https://raw.githubusercontent.com/mannmoshe/machine-learning/main/FinalProject/cellsData_New.csv')"
      ],
      "metadata": {
        "id": "72FIvqbA1iLD"
      },
      "execution_count": 52,
      "outputs": []
    },
    {
      "cell_type": "markdown",
      "source": [
        "כאן לא אכפת לי לקחת מספר אזורים של אותן תוכניות - כי אני רוצה לבדוק את המודל."
      ],
      "metadata": {
        "id": "aom_caCQdXwg"
      }
    },
    {
      "cell_type": "code",
      "source": [
        "new_data = new_cellsdata[new_cellsdata['TOTAL_AREA'] < 40000]\n",
        "new_data.shape"
      ],
      "metadata": {
        "colab": {
          "base_uri": "https://localhost:8080/"
        },
        "id": "ejUKxsg-dWOB",
        "outputId": "427ea441-c270-4da8-c765-7711c0730671"
      },
      "execution_count": 53,
      "outputs": [
        {
          "output_type": "execute_result",
          "data": {
            "text/plain": [
              "(359, 17)"
            ]
          },
          "metadata": {},
          "execution_count": 53
        }
      ]
    },
    {
      "cell_type": "code",
      "source": [
        "X_new = new_data[feature_cols]\n",
        "y_new = new_data['MAIN_AREA']"
      ],
      "metadata": {
        "id": "Vxp-M0j41o17"
      },
      "execution_count": 54,
      "outputs": []
    },
    {
      "cell_type": "code",
      "source": [
        "y_new_pred = neigh.predict(X_new)"
      ],
      "metadata": {
        "id": "kWv0vkei2MGY"
      },
      "execution_count": 55,
      "outputs": []
    },
    {
      "cell_type": "code",
      "source": [
        "knn_new_mae = mean_absolute_error(y_new, y_new_pred)\n",
        "print(\"MAE:\", knn_new_mae)\n",
        "\n",
        "knn_new_mse = mean_squared_error(y_new, y_new_pred)\n",
        "print(\"MSE:\", knn_new_mse)\n",
        "\n",
        "knn_new_rmse = mean_squared_error(y_new, y_new_pred, squared=False)\n",
        "print(\"RMSE:\", knn_new_rmse)\n",
        "\n",
        "knn_new_rsquared = r2_score(y_new, y_new_pred)\n",
        "print(\"R Squared:\", knn_new_rsquared)"
      ],
      "metadata": {
        "colab": {
          "base_uri": "https://localhost:8080/"
        },
        "id": "jyykmIZy2Vxs",
        "outputId": "b5606e56-7162-4b18-9435-414cc121791e"
      },
      "execution_count": 56,
      "outputs": [
        {
          "output_type": "stream",
          "name": "stdout",
          "text": [
            "MAE: 218.72816344680456\n",
            "MSE: 134402.6351713456\n",
            "RMSE: 366.60964958842203\n",
            "R Squared: 0.9737304053500706\n"
          ]
        }
      ]
    },
    {
      "cell_type": "markdown",
      "source": [
        "התוצאות מעט פחות טובות מה-train, <BR> יש מעט overfitting."
      ],
      "metadata": {
        "id": "VWvBUiRWuB_6"
      }
    },
    {
      "cell_type": "code",
      "source": [
        "new_predictions_df = pd.DataFrame(y_new)\n",
        "new_predictions_df['y_pred'] = y_new_pred\n",
        "new_predictions_df.columns = ['MAIN_AREA_true', 'KNN_predictions']\n",
        "new_predictions_df['Total_area'] = new_data['TOTAL_AREA']\n",
        "\n",
        "new_predictions_df.T"
      ],
      "metadata": {
        "colab": {
          "base_uri": "https://localhost:8080/",
          "height": 237
        },
        "id": "xoVMroZQ2wAC",
        "outputId": "7631f4de-1741-4b49-d975-bf9bdb33926f"
      },
      "execution_count": 57,
      "outputs": [
        {
          "output_type": "execute_result",
          "data": {
            "text/plain": [
              "                   0      1      2           3           4      5    \\\n",
              "MAIN_AREA_true   576.0  220.0  240.0  570.400000  768.800000  620.0   \n",
              "KNN_predictions  576.8  230.0  246.8  551.822287  730.580274  595.0   \n",
              "Total_area       672.0  280.0  300.0  662.400000  892.800000  720.0   \n",
              "\n",
              "                        6           7            8             9    ...  \\\n",
              "MAIN_AREA_true   590.240000  728.000000  3250.000000  15155.000000  ...   \n",
              "KNN_predictions  558.887134  686.357143  3358.802078  15772.550068  ...   \n",
              "Total_area       685.440000  800.000000  4250.000000  22220.000000  ...   \n",
              "\n",
              "                   349         350         351    352         353         354  \\\n",
              "MAIN_AREA_true   230.0  370.000000  383.140000  240.0  480.000000  527.050000   \n",
              "KNN_predictions  220.0  387.712764  385.862118  246.8  538.666667  639.757538   \n",
              "Total_area       284.0  452.000000  457.140000  300.0  640.000000  746.940000   \n",
              "\n",
              "                        355    356     357          358  \n",
              "MAIN_AREA_true   810.600000  811.0   920.0  3034.000000  \n",
              "KNN_predictions  810.509426  781.5   971.5  2706.828496  \n",
              "Total_area       955.350000  943.0  1130.0  3634.000000  \n",
              "\n",
              "[3 rows x 359 columns]"
            ],
            "text/html": [
              "\n",
              "  <div id=\"df-7d4733bb-00dd-48e9-84aa-99a41c0a05f1\">\n",
              "    <div class=\"colab-df-container\">\n",
              "      <div>\n",
              "<style scoped>\n",
              "    .dataframe tbody tr th:only-of-type {\n",
              "        vertical-align: middle;\n",
              "    }\n",
              "\n",
              "    .dataframe tbody tr th {\n",
              "        vertical-align: top;\n",
              "    }\n",
              "\n",
              "    .dataframe thead th {\n",
              "        text-align: right;\n",
              "    }\n",
              "</style>\n",
              "<table border=\"1\" class=\"dataframe\">\n",
              "  <thead>\n",
              "    <tr style=\"text-align: right;\">\n",
              "      <th></th>\n",
              "      <th>0</th>\n",
              "      <th>1</th>\n",
              "      <th>2</th>\n",
              "      <th>3</th>\n",
              "      <th>4</th>\n",
              "      <th>5</th>\n",
              "      <th>6</th>\n",
              "      <th>7</th>\n",
              "      <th>8</th>\n",
              "      <th>9</th>\n",
              "      <th>...</th>\n",
              "      <th>349</th>\n",
              "      <th>350</th>\n",
              "      <th>351</th>\n",
              "      <th>352</th>\n",
              "      <th>353</th>\n",
              "      <th>354</th>\n",
              "      <th>355</th>\n",
              "      <th>356</th>\n",
              "      <th>357</th>\n",
              "      <th>358</th>\n",
              "    </tr>\n",
              "  </thead>\n",
              "  <tbody>\n",
              "    <tr>\n",
              "      <th>MAIN_AREA_true</th>\n",
              "      <td>576.0</td>\n",
              "      <td>220.0</td>\n",
              "      <td>240.0</td>\n",
              "      <td>570.400000</td>\n",
              "      <td>768.800000</td>\n",
              "      <td>620.0</td>\n",
              "      <td>590.240000</td>\n",
              "      <td>728.000000</td>\n",
              "      <td>3250.000000</td>\n",
              "      <td>15155.000000</td>\n",
              "      <td>...</td>\n",
              "      <td>230.0</td>\n",
              "      <td>370.000000</td>\n",
              "      <td>383.140000</td>\n",
              "      <td>240.0</td>\n",
              "      <td>480.000000</td>\n",
              "      <td>527.050000</td>\n",
              "      <td>810.600000</td>\n",
              "      <td>811.0</td>\n",
              "      <td>920.0</td>\n",
              "      <td>3034.000000</td>\n",
              "    </tr>\n",
              "    <tr>\n",
              "      <th>KNN_predictions</th>\n",
              "      <td>576.8</td>\n",
              "      <td>230.0</td>\n",
              "      <td>246.8</td>\n",
              "      <td>551.822287</td>\n",
              "      <td>730.580274</td>\n",
              "      <td>595.0</td>\n",
              "      <td>558.887134</td>\n",
              "      <td>686.357143</td>\n",
              "      <td>3358.802078</td>\n",
              "      <td>15772.550068</td>\n",
              "      <td>...</td>\n",
              "      <td>220.0</td>\n",
              "      <td>387.712764</td>\n",
              "      <td>385.862118</td>\n",
              "      <td>246.8</td>\n",
              "      <td>538.666667</td>\n",
              "      <td>639.757538</td>\n",
              "      <td>810.509426</td>\n",
              "      <td>781.5</td>\n",
              "      <td>971.5</td>\n",
              "      <td>2706.828496</td>\n",
              "    </tr>\n",
              "    <tr>\n",
              "      <th>Total_area</th>\n",
              "      <td>672.0</td>\n",
              "      <td>280.0</td>\n",
              "      <td>300.0</td>\n",
              "      <td>662.400000</td>\n",
              "      <td>892.800000</td>\n",
              "      <td>720.0</td>\n",
              "      <td>685.440000</td>\n",
              "      <td>800.000000</td>\n",
              "      <td>4250.000000</td>\n",
              "      <td>22220.000000</td>\n",
              "      <td>...</td>\n",
              "      <td>284.0</td>\n",
              "      <td>452.000000</td>\n",
              "      <td>457.140000</td>\n",
              "      <td>300.0</td>\n",
              "      <td>640.000000</td>\n",
              "      <td>746.940000</td>\n",
              "      <td>955.350000</td>\n",
              "      <td>943.0</td>\n",
              "      <td>1130.0</td>\n",
              "      <td>3634.000000</td>\n",
              "    </tr>\n",
              "  </tbody>\n",
              "</table>\n",
              "<p>3 rows × 359 columns</p>\n",
              "</div>\n",
              "      <button class=\"colab-df-convert\" onclick=\"convertToInteractive('df-7d4733bb-00dd-48e9-84aa-99a41c0a05f1')\"\n",
              "              title=\"Convert this dataframe to an interactive table.\"\n",
              "              style=\"display:none;\">\n",
              "        \n",
              "  <svg xmlns=\"http://www.w3.org/2000/svg\" height=\"24px\"viewBox=\"0 0 24 24\"\n",
              "       width=\"24px\">\n",
              "    <path d=\"M0 0h24v24H0V0z\" fill=\"none\"/>\n",
              "    <path d=\"M18.56 5.44l.94 2.06.94-2.06 2.06-.94-2.06-.94-.94-2.06-.94 2.06-2.06.94zm-11 1L8.5 8.5l.94-2.06 2.06-.94-2.06-.94L8.5 2.5l-.94 2.06-2.06.94zm10 10l.94 2.06.94-2.06 2.06-.94-2.06-.94-.94-2.06-.94 2.06-2.06.94z\"/><path d=\"M17.41 7.96l-1.37-1.37c-.4-.4-.92-.59-1.43-.59-.52 0-1.04.2-1.43.59L10.3 9.45l-7.72 7.72c-.78.78-.78 2.05 0 2.83L4 21.41c.39.39.9.59 1.41.59.51 0 1.02-.2 1.41-.59l7.78-7.78 2.81-2.81c.8-.78.8-2.07 0-2.86zM5.41 20L4 18.59l7.72-7.72 1.47 1.35L5.41 20z\"/>\n",
              "  </svg>\n",
              "      </button>\n",
              "      \n",
              "  <style>\n",
              "    .colab-df-container {\n",
              "      display:flex;\n",
              "      flex-wrap:wrap;\n",
              "      gap: 12px;\n",
              "    }\n",
              "\n",
              "    .colab-df-convert {\n",
              "      background-color: #E8F0FE;\n",
              "      border: none;\n",
              "      border-radius: 50%;\n",
              "      cursor: pointer;\n",
              "      display: none;\n",
              "      fill: #1967D2;\n",
              "      height: 32px;\n",
              "      padding: 0 0 0 0;\n",
              "      width: 32px;\n",
              "    }\n",
              "\n",
              "    .colab-df-convert:hover {\n",
              "      background-color: #E2EBFA;\n",
              "      box-shadow: 0px 1px 2px rgba(60, 64, 67, 0.3), 0px 1px 3px 1px rgba(60, 64, 67, 0.15);\n",
              "      fill: #174EA6;\n",
              "    }\n",
              "\n",
              "    [theme=dark] .colab-df-convert {\n",
              "      background-color: #3B4455;\n",
              "      fill: #D2E3FC;\n",
              "    }\n",
              "\n",
              "    [theme=dark] .colab-df-convert:hover {\n",
              "      background-color: #434B5C;\n",
              "      box-shadow: 0px 1px 3px 1px rgba(0, 0, 0, 0.15);\n",
              "      filter: drop-shadow(0px 1px 2px rgba(0, 0, 0, 0.3));\n",
              "      fill: #FFFFFF;\n",
              "    }\n",
              "  </style>\n",
              "\n",
              "      <script>\n",
              "        const buttonEl =\n",
              "          document.querySelector('#df-7d4733bb-00dd-48e9-84aa-99a41c0a05f1 button.colab-df-convert');\n",
              "        buttonEl.style.display =\n",
              "          google.colab.kernel.accessAllowed ? 'block' : 'none';\n",
              "\n",
              "        async function convertToInteractive(key) {\n",
              "          const element = document.querySelector('#df-7d4733bb-00dd-48e9-84aa-99a41c0a05f1');\n",
              "          const dataTable =\n",
              "            await google.colab.kernel.invokeFunction('convertToInteractive',\n",
              "                                                     [key], {});\n",
              "          if (!dataTable) return;\n",
              "\n",
              "          const docLinkHtml = 'Like what you see? Visit the ' +\n",
              "            '<a target=\"_blank\" href=https://colab.research.google.com/notebooks/data_table.ipynb>data table notebook</a>'\n",
              "            + ' to learn more about interactive tables.';\n",
              "          element.innerHTML = '';\n",
              "          dataTable['output_type'] = 'display_data';\n",
              "          await google.colab.output.renderOutput(dataTable, element);\n",
              "          const docLink = document.createElement('div');\n",
              "          docLink.innerHTML = docLinkHtml;\n",
              "          element.appendChild(docLink);\n",
              "        }\n",
              "      </script>\n",
              "    </div>\n",
              "  </div>\n",
              "  "
            ]
          },
          "metadata": {},
          "execution_count": 57
        }
      ]
    },
    {
      "cell_type": "markdown",
      "source": [
        "# Linear Regression model"
      ],
      "metadata": {
        "id": "j0ShezChJi-m"
      }
    },
    {
      "cell_type": "markdown",
      "source": [
        "השלב הבא הוא לנסות מודל רגרסיה ליניארית ולראות כיצד הוא משפיע על התוצאות.<BE>עמודות התכונה יהיו כל התכונות עם מקדם מתאם של פירסון לפחות 0.5."
      ],
      "metadata": {
        "id": "rOZC_4gWE5SK"
      }
    },
    {
      "cell_type": "code",
      "source": [
        "corr.loc['MAIN_AREA'].sort_values(ascending=False).head(10)"
      ],
      "metadata": {
        "colab": {
          "base_uri": "https://localhost:8080/"
        },
        "id": "dPwN5ERGGDW7",
        "outputId": "2f877694-b011-4eaa-b43f-bdefa78b7866"
      },
      "execution_count": 58,
      "outputs": [
        {
          "output_type": "execute_result",
          "data": {
            "text/plain": [
              "MAIN_AREA            1.000000\n",
              "TOTAL_AREA           0.996335\n",
              "HOUSING_UNITS        0.834821\n",
              "FLOORS_NUM           0.658868\n",
              "CELL_SIZE_TOTAL      0.609265\n",
              "BUILDING_HEIGHT      0.587021\n",
              "DISTRICT_TEL_AVIV    0.279853\n",
              "AUTHORITY_COUNTRY    0.185409\n",
              "IS_TAMAL             0.185409\n",
              "SECTOR_MIXED         0.184196\n",
              "Name: MAIN_AREA, dtype: float64"
            ]
          },
          "metadata": {},
          "execution_count": 58
        }
      ]
    },
    {
      "cell_type": "code",
      "source": [
        "feature_cols_linear_reg = ['TOTAL_AREA', 'HOUSING_UNITS', 'FLOORS_NUM', 'CELL_SIZE_TOTAL', 'BUILDING_HEIGHT'] "
      ],
      "metadata": {
        "id": "sltIIzxqFKHS"
      },
      "execution_count": 59,
      "outputs": []
    },
    {
      "cell_type": "code",
      "source": [
        "X = dummies_data[feature_cols_linear_reg]\n",
        "y = dummies_data['MAIN_AREA']"
      ],
      "metadata": {
        "id": "-eCiChfgGcdM"
      },
      "execution_count": 60,
      "outputs": []
    },
    {
      "cell_type": "code",
      "source": [
        "X_train, X_test, y_train, y_test = train_test_split(X, y, test_size=0.33, random_state=42)"
      ],
      "metadata": {
        "id": "iLrnZxP1HGfs"
      },
      "execution_count": 61,
      "outputs": []
    },
    {
      "cell_type": "code",
      "source": [
        "from sklearn.linear_model import LinearRegression, Ridge, Lasso\n",
        "\n",
        "lr = LinearRegression()\n",
        "lr.fit(X_train, y_train)\n",
        "\n",
        "rr = Ridge()\n",
        "rr.fit(X_train, y_train)\n",
        "\n",
        "lassor = Lasso()\n",
        "lassor.fit(X_train, y_train)"
      ],
      "metadata": {
        "colab": {
          "base_uri": "https://localhost:8080/"
        },
        "id": "cK4p9rOHHHnh",
        "outputId": "020bd6a4-2084-43b1-da2d-c2ccde617807"
      },
      "execution_count": 62,
      "outputs": [
        {
          "output_type": "execute_result",
          "data": {
            "text/plain": [
              "Lasso()"
            ]
          },
          "metadata": {},
          "execution_count": 62
        }
      ]
    },
    {
      "cell_type": "code",
      "source": [
        "lr_y_pred = lr.predict(X_test)\n",
        "rr_y_pred = rr.predict(X_test)\n",
        "lassor_y_pred = lassor.predict(X_test)"
      ],
      "metadata": {
        "id": "kof5pUKgHU8S"
      },
      "execution_count": 63,
      "outputs": []
    },
    {
      "cell_type": "code",
      "source": [
        "lr_mae = mean_absolute_error(y_test, lr_y_pred)\n",
        "rr_mae = mean_absolute_error(y_test, rr_y_pred)\n",
        "lassor_mae = mean_absolute_error(y_test, lassor_y_pred)\n",
        "\n",
        "lr_mse = mean_squared_error(y_test, lr_y_pred)\n",
        "rr_mse = mean_squared_error(y_test, rr_y_pred)\n",
        "lassor_mse = mean_squared_error(y_test, lassor_y_pred)\n",
        "\n",
        "lr_rmse = mean_squared_error(y_test, lr_y_pred, squared=False)\n",
        "rr_rmse = mean_squared_error(y_test, rr_y_pred, squared=False)\n",
        "lassor_rmse = mean_squared_error(y_test, lassor_y_pred, squared=False)\n",
        "\n",
        "lr_rsquared = r2_score(y_test, lr_y_pred)\n",
        "rr_rsquared = r2_score(y_test, rr_y_pred)\n",
        "lassor_rsquared = r2_score(y_test, lassor_y_pred)\n",
        "\n",
        "reg_labels = ['Linear Regression', 'Ridge', 'Lasso']\n",
        "\n",
        "reg_mae_vals = [lr_mae, rr_mae, lassor_mae]\n",
        "reg_mse_vals = [lr_mse, rr_mse, lassor_mse]\n",
        "reg_rmse_vals = [lr_rmse, rr_rmse, lassor_rmse]\n",
        "reg_rsquared_vals = [lr_rsquared, rr_rsquared, lassor_rsquared]\n",
        "\n",
        "reg_compare_df = pd.DataFrame({\n",
        "    'MAE': reg_mae_vals,\n",
        "    'MSE': reg_mse_vals,\n",
        "    'RMSE': reg_rmse_vals,\n",
        "    'Rsquared': reg_rsquared_vals\n",
        "}, index=reg_labels)\n",
        "\n",
        "reg_compare_df"
      ],
      "metadata": {
        "colab": {
          "base_uri": "https://localhost:8080/",
          "height": 143
        },
        "id": "IVwU950vIHTS",
        "outputId": "3fbcea66-87e6-4775-deeb-c4f501da5988"
      },
      "execution_count": 64,
      "outputs": [
        {
          "output_type": "execute_result",
          "data": {
            "text/plain": [
              "                          MAE            MSE        RMSE  Rsquared\n",
              "Linear Regression  161.878259  117972.609724  343.471410  0.987446\n",
              "Ridge              161.877535  117972.391486  343.471093  0.987446\n",
              "Lasso              161.815705  117959.751029  343.452691  0.987447"
            ],
            "text/html": [
              "\n",
              "  <div id=\"df-f7f083f0-2f51-4272-ad7c-500f107a9a6a\">\n",
              "    <div class=\"colab-df-container\">\n",
              "      <div>\n",
              "<style scoped>\n",
              "    .dataframe tbody tr th:only-of-type {\n",
              "        vertical-align: middle;\n",
              "    }\n",
              "\n",
              "    .dataframe tbody tr th {\n",
              "        vertical-align: top;\n",
              "    }\n",
              "\n",
              "    .dataframe thead th {\n",
              "        text-align: right;\n",
              "    }\n",
              "</style>\n",
              "<table border=\"1\" class=\"dataframe\">\n",
              "  <thead>\n",
              "    <tr style=\"text-align: right;\">\n",
              "      <th></th>\n",
              "      <th>MAE</th>\n",
              "      <th>MSE</th>\n",
              "      <th>RMSE</th>\n",
              "      <th>Rsquared</th>\n",
              "    </tr>\n",
              "  </thead>\n",
              "  <tbody>\n",
              "    <tr>\n",
              "      <th>Linear Regression</th>\n",
              "      <td>161.878259</td>\n",
              "      <td>117972.609724</td>\n",
              "      <td>343.471410</td>\n",
              "      <td>0.987446</td>\n",
              "    </tr>\n",
              "    <tr>\n",
              "      <th>Ridge</th>\n",
              "      <td>161.877535</td>\n",
              "      <td>117972.391486</td>\n",
              "      <td>343.471093</td>\n",
              "      <td>0.987446</td>\n",
              "    </tr>\n",
              "    <tr>\n",
              "      <th>Lasso</th>\n",
              "      <td>161.815705</td>\n",
              "      <td>117959.751029</td>\n",
              "      <td>343.452691</td>\n",
              "      <td>0.987447</td>\n",
              "    </tr>\n",
              "  </tbody>\n",
              "</table>\n",
              "</div>\n",
              "      <button class=\"colab-df-convert\" onclick=\"convertToInteractive('df-f7f083f0-2f51-4272-ad7c-500f107a9a6a')\"\n",
              "              title=\"Convert this dataframe to an interactive table.\"\n",
              "              style=\"display:none;\">\n",
              "        \n",
              "  <svg xmlns=\"http://www.w3.org/2000/svg\" height=\"24px\"viewBox=\"0 0 24 24\"\n",
              "       width=\"24px\">\n",
              "    <path d=\"M0 0h24v24H0V0z\" fill=\"none\"/>\n",
              "    <path d=\"M18.56 5.44l.94 2.06.94-2.06 2.06-.94-2.06-.94-.94-2.06-.94 2.06-2.06.94zm-11 1L8.5 8.5l.94-2.06 2.06-.94-2.06-.94L8.5 2.5l-.94 2.06-2.06.94zm10 10l.94 2.06.94-2.06 2.06-.94-2.06-.94-.94-2.06-.94 2.06-2.06.94z\"/><path d=\"M17.41 7.96l-1.37-1.37c-.4-.4-.92-.59-1.43-.59-.52 0-1.04.2-1.43.59L10.3 9.45l-7.72 7.72c-.78.78-.78 2.05 0 2.83L4 21.41c.39.39.9.59 1.41.59.51 0 1.02-.2 1.41-.59l7.78-7.78 2.81-2.81c.8-.78.8-2.07 0-2.86zM5.41 20L4 18.59l7.72-7.72 1.47 1.35L5.41 20z\"/>\n",
              "  </svg>\n",
              "      </button>\n",
              "      \n",
              "  <style>\n",
              "    .colab-df-container {\n",
              "      display:flex;\n",
              "      flex-wrap:wrap;\n",
              "      gap: 12px;\n",
              "    }\n",
              "\n",
              "    .colab-df-convert {\n",
              "      background-color: #E8F0FE;\n",
              "      border: none;\n",
              "      border-radius: 50%;\n",
              "      cursor: pointer;\n",
              "      display: none;\n",
              "      fill: #1967D2;\n",
              "      height: 32px;\n",
              "      padding: 0 0 0 0;\n",
              "      width: 32px;\n",
              "    }\n",
              "\n",
              "    .colab-df-convert:hover {\n",
              "      background-color: #E2EBFA;\n",
              "      box-shadow: 0px 1px 2px rgba(60, 64, 67, 0.3), 0px 1px 3px 1px rgba(60, 64, 67, 0.15);\n",
              "      fill: #174EA6;\n",
              "    }\n",
              "\n",
              "    [theme=dark] .colab-df-convert {\n",
              "      background-color: #3B4455;\n",
              "      fill: #D2E3FC;\n",
              "    }\n",
              "\n",
              "    [theme=dark] .colab-df-convert:hover {\n",
              "      background-color: #434B5C;\n",
              "      box-shadow: 0px 1px 3px 1px rgba(0, 0, 0, 0.15);\n",
              "      filter: drop-shadow(0px 1px 2px rgba(0, 0, 0, 0.3));\n",
              "      fill: #FFFFFF;\n",
              "    }\n",
              "  </style>\n",
              "\n",
              "      <script>\n",
              "        const buttonEl =\n",
              "          document.querySelector('#df-f7f083f0-2f51-4272-ad7c-500f107a9a6a button.colab-df-convert');\n",
              "        buttonEl.style.display =\n",
              "          google.colab.kernel.accessAllowed ? 'block' : 'none';\n",
              "\n",
              "        async function convertToInteractive(key) {\n",
              "          const element = document.querySelector('#df-f7f083f0-2f51-4272-ad7c-500f107a9a6a');\n",
              "          const dataTable =\n",
              "            await google.colab.kernel.invokeFunction('convertToInteractive',\n",
              "                                                     [key], {});\n",
              "          if (!dataTable) return;\n",
              "\n",
              "          const docLinkHtml = 'Like what you see? Visit the ' +\n",
              "            '<a target=\"_blank\" href=https://colab.research.google.com/notebooks/data_table.ipynb>data table notebook</a>'\n",
              "            + ' to learn more about interactive tables.';\n",
              "          element.innerHTML = '';\n",
              "          dataTable['output_type'] = 'display_data';\n",
              "          await google.colab.output.renderOutput(dataTable, element);\n",
              "          const docLink = document.createElement('div');\n",
              "          docLink.innerHTML = docLinkHtml;\n",
              "          element.appendChild(docLink);\n",
              "        }\n",
              "      </script>\n",
              "    </div>\n",
              "  </div>\n",
              "  "
            ]
          },
          "metadata": {},
          "execution_count": 64
        }
      ]
    },
    {
      "cell_type": "markdown",
      "source": [
        "תוצאות ה-Lasso מעט טובות יותר מרגרסיה של רכס ורגרסיה לינארית,<br>לכן אשאר עם מודל ה-Lasso."
      ],
      "metadata": {
        "id": "2GdCEPzNVssK"
      }
    },
    {
      "cell_type": "code",
      "source": [
        "# find best parameters for lasso\n",
        "params = {'alpha':[.1, .3, .5, .7, .9, 1], 'max_iter':[200, 400, 600, 800, 1000],\n",
        "          'selection':['cyclic', 'random'], 'fit_intercept':[True, False]}\n",
        "\n",
        "lassor = Lasso()\n",
        "\n",
        "model = GridSearchCV(lassor, params, cv=5)\n",
        "model.fit(X_train, y_train)\n",
        "model.best_params_"
      ],
      "metadata": {
        "colab": {
          "base_uri": "https://localhost:8080/"
        },
        "id": "NBbU7UocaSVz",
        "outputId": "92be1a2f-cd35-47d6-c02e-f649750863a3"
      },
      "execution_count": 65,
      "outputs": [
        {
          "output_type": "execute_result",
          "data": {
            "text/plain": [
              "{'alpha': 0.1, 'fit_intercept': True, 'max_iter': 200, 'selection': 'cyclic'}"
            ]
          },
          "metadata": {},
          "execution_count": 65
        }
      ]
    },
    {
      "cell_type": "code",
      "source": [
        "lassor = Lasso(alpha=.1, max_iter=1000, selection='random', fit_intercept=False)\n",
        "lassor.fit(X_train, y_train)\n",
        "\n",
        "lassor_y_pred = lassor.predict(X_test)\n",
        "\n",
        "lassor_mae = mean_absolute_error(y_test, lassor_y_pred)\n",
        "lassor_mse = mean_squared_error(y_test, lassor_y_pred)\n",
        "lassor_rmse = mean_squared_error(y_test, lassor_y_pred, squared=False)\n",
        "lassor_rsquared = r2_score(y_test, lassor_y_pred)\n",
        "\n",
        "print(\"MAE:\", lassor_mae)\n",
        "print(\"MSE:\", lassor_mse)\n",
        "print(\"RMSE:\", lassor_rmse)\n",
        "print(\"R Squared:\", lassor_rsquared)"
      ],
      "metadata": {
        "colab": {
          "base_uri": "https://localhost:8080/"
        },
        "id": "DTqolUC_blsT",
        "outputId": "216d958b-da55-45d8-a65b-37efc97507c2"
      },
      "execution_count": 66,
      "outputs": [
        {
          "output_type": "stream",
          "name": "stdout",
          "text": [
            "MAE: 153.49564561959477\n",
            "MSE: 116012.11980016316\n",
            "RMSE: 340.60551933308886\n",
            "R Squared: 0.987654280908526\n"
          ]
        }
      ]
    },
    {
      "cell_type": "code",
      "source": [
        "print(lassor.coef_, lassor.intercept_)"
      ],
      "metadata": {
        "colab": {
          "base_uri": "https://localhost:8080/"
        },
        "id": "WDjRZ8l4epGv",
        "outputId": "a83c1b75-c505-45cb-c0b1-7ea06e00dc75"
      },
      "execution_count": 67,
      "outputs": [
        {
          "output_type": "stream",
          "name": "stdout",
          "text": [
            "[ 0.70058197 -0.25201446 -3.0893494   0.0322109   4.41974934] 0.0\n"
          ]
        }
      ]
    },
    {
      "cell_type": "markdown",
      "source": [
        "המשוואה הליניארית היא:<BR>\n",
        "\\begin{align}\n",
        "  MAIN AREA = 0.7 * totalarea - 0.25 * housingunits -3.09 * floorsnum + 0.03 * cellsizetotal + 4.42 * buildingheight\n",
        "  \\end{align}"
      ],
      "metadata": {
        "id": "0FKZAg4Ee3fg"
      }
    },
    {
      "cell_type": "code",
      "source": [
        "test_predictions_df['LASSO_predictions'] = lassor_y_pred\n",
        "test_predictions_df.T"
      ],
      "metadata": {
        "colab": {
          "base_uri": "https://localhost:8080/",
          "height": 268
        },
        "id": "Xq8qpNAVjuoD",
        "outputId": "1a10ec70-e8ac-4a1c-fe7b-fbcaa6d4354a"
      },
      "execution_count": 68,
      "outputs": [
        {
          "output_type": "execute_result",
          "data": {
            "text/plain": [
              "                         12677       12077       9296        12692      11043  \\\n",
              "MAIN_AREA_true     1580.000000  275.000000  200.000000   952.00000  355.00000   \n",
              "KNN_predictions    1638.283819  265.571429  199.369458  1010.00000  285.00000   \n",
              "Total_area         2003.000000  320.000000  258.000000  1155.00000  355.00000   \n",
              "LASSO_predictions  1489.141709  323.416051  227.992755   896.69457  312.73986   \n",
              "\n",
              "                       11294       4786        12721       13301        13706  \\\n",
              "MAIN_AREA_true     75.000000  809.050000  720.000000  203.010000  1211.750000   \n",
              "KNN_predictions    89.357078  884.105023  751.800000  175.316243  1274.213701   \n",
              "Total_area         90.000000  985.570000  880.000000  217.980000  1473.750000   \n",
              "LASSO_predictions  69.461051  775.691916  660.673746  199.829679  1116.429485   \n",
              "\n",
              "                   ...        12757        12364       13461       12237  \\\n",
              "MAIN_AREA_true     ...   990.000000   890.000000  570.000000  399.000000   \n",
              "KNN_predictions    ...   983.119223  1146.591923  569.727273  385.037437   \n",
              "Total_area         ...  1232.000000  1340.000000  600.000000  449.500000   \n",
              "LASSO_predictions  ...   937.262635  1065.491613  484.170964  405.969804   \n",
              "\n",
              "                        1905          11832       11257       13201  \\\n",
              "MAIN_AREA_true     457.000000  19100.000000  475.000000  868.220000   \n",
              "KNN_predictions    468.500000  18830.085928  463.888940  755.947408   \n",
              "Total_area         580.000000  27400.000000  615.000000  904.970000   \n",
              "LASSO_predictions  460.429253  19190.746014  505.067592  698.193831   \n",
              "\n",
              "                         12691       13536  \n",
              "MAIN_AREA_true      890.500000  270.000000  \n",
              "KNN_predictions     828.984346  325.000000  \n",
              "Total_area         1027.500000  350.000000  \n",
              "LASSO_predictions   775.616092  272.584058  \n",
              "\n",
              "[4 rows x 850 columns]"
            ],
            "text/html": [
              "\n",
              "  <div id=\"df-35c6e022-6553-4310-83ed-b39df8cfd683\">\n",
              "    <div class=\"colab-df-container\">\n",
              "      <div>\n",
              "<style scoped>\n",
              "    .dataframe tbody tr th:only-of-type {\n",
              "        vertical-align: middle;\n",
              "    }\n",
              "\n",
              "    .dataframe tbody tr th {\n",
              "        vertical-align: top;\n",
              "    }\n",
              "\n",
              "    .dataframe thead th {\n",
              "        text-align: right;\n",
              "    }\n",
              "</style>\n",
              "<table border=\"1\" class=\"dataframe\">\n",
              "  <thead>\n",
              "    <tr style=\"text-align: right;\">\n",
              "      <th></th>\n",
              "      <th>12677</th>\n",
              "      <th>12077</th>\n",
              "      <th>9296</th>\n",
              "      <th>12692</th>\n",
              "      <th>11043</th>\n",
              "      <th>11294</th>\n",
              "      <th>4786</th>\n",
              "      <th>12721</th>\n",
              "      <th>13301</th>\n",
              "      <th>13706</th>\n",
              "      <th>...</th>\n",
              "      <th>12757</th>\n",
              "      <th>12364</th>\n",
              "      <th>13461</th>\n",
              "      <th>12237</th>\n",
              "      <th>1905</th>\n",
              "      <th>11832</th>\n",
              "      <th>11257</th>\n",
              "      <th>13201</th>\n",
              "      <th>12691</th>\n",
              "      <th>13536</th>\n",
              "    </tr>\n",
              "  </thead>\n",
              "  <tbody>\n",
              "    <tr>\n",
              "      <th>MAIN_AREA_true</th>\n",
              "      <td>1580.000000</td>\n",
              "      <td>275.000000</td>\n",
              "      <td>200.000000</td>\n",
              "      <td>952.00000</td>\n",
              "      <td>355.00000</td>\n",
              "      <td>75.000000</td>\n",
              "      <td>809.050000</td>\n",
              "      <td>720.000000</td>\n",
              "      <td>203.010000</td>\n",
              "      <td>1211.750000</td>\n",
              "      <td>...</td>\n",
              "      <td>990.000000</td>\n",
              "      <td>890.000000</td>\n",
              "      <td>570.000000</td>\n",
              "      <td>399.000000</td>\n",
              "      <td>457.000000</td>\n",
              "      <td>19100.000000</td>\n",
              "      <td>475.000000</td>\n",
              "      <td>868.220000</td>\n",
              "      <td>890.500000</td>\n",
              "      <td>270.000000</td>\n",
              "    </tr>\n",
              "    <tr>\n",
              "      <th>KNN_predictions</th>\n",
              "      <td>1638.283819</td>\n",
              "      <td>265.571429</td>\n",
              "      <td>199.369458</td>\n",
              "      <td>1010.00000</td>\n",
              "      <td>285.00000</td>\n",
              "      <td>89.357078</td>\n",
              "      <td>884.105023</td>\n",
              "      <td>751.800000</td>\n",
              "      <td>175.316243</td>\n",
              "      <td>1274.213701</td>\n",
              "      <td>...</td>\n",
              "      <td>983.119223</td>\n",
              "      <td>1146.591923</td>\n",
              "      <td>569.727273</td>\n",
              "      <td>385.037437</td>\n",
              "      <td>468.500000</td>\n",
              "      <td>18830.085928</td>\n",
              "      <td>463.888940</td>\n",
              "      <td>755.947408</td>\n",
              "      <td>828.984346</td>\n",
              "      <td>325.000000</td>\n",
              "    </tr>\n",
              "    <tr>\n",
              "      <th>Total_area</th>\n",
              "      <td>2003.000000</td>\n",
              "      <td>320.000000</td>\n",
              "      <td>258.000000</td>\n",
              "      <td>1155.00000</td>\n",
              "      <td>355.00000</td>\n",
              "      <td>90.000000</td>\n",
              "      <td>985.570000</td>\n",
              "      <td>880.000000</td>\n",
              "      <td>217.980000</td>\n",
              "      <td>1473.750000</td>\n",
              "      <td>...</td>\n",
              "      <td>1232.000000</td>\n",
              "      <td>1340.000000</td>\n",
              "      <td>600.000000</td>\n",
              "      <td>449.500000</td>\n",
              "      <td>580.000000</td>\n",
              "      <td>27400.000000</td>\n",
              "      <td>615.000000</td>\n",
              "      <td>904.970000</td>\n",
              "      <td>1027.500000</td>\n",
              "      <td>350.000000</td>\n",
              "    </tr>\n",
              "    <tr>\n",
              "      <th>LASSO_predictions</th>\n",
              "      <td>1489.141709</td>\n",
              "      <td>323.416051</td>\n",
              "      <td>227.992755</td>\n",
              "      <td>896.69457</td>\n",
              "      <td>312.73986</td>\n",
              "      <td>69.461051</td>\n",
              "      <td>775.691916</td>\n",
              "      <td>660.673746</td>\n",
              "      <td>199.829679</td>\n",
              "      <td>1116.429485</td>\n",
              "      <td>...</td>\n",
              "      <td>937.262635</td>\n",
              "      <td>1065.491613</td>\n",
              "      <td>484.170964</td>\n",
              "      <td>405.969804</td>\n",
              "      <td>460.429253</td>\n",
              "      <td>19190.746014</td>\n",
              "      <td>505.067592</td>\n",
              "      <td>698.193831</td>\n",
              "      <td>775.616092</td>\n",
              "      <td>272.584058</td>\n",
              "    </tr>\n",
              "  </tbody>\n",
              "</table>\n",
              "<p>4 rows × 850 columns</p>\n",
              "</div>\n",
              "      <button class=\"colab-df-convert\" onclick=\"convertToInteractive('df-35c6e022-6553-4310-83ed-b39df8cfd683')\"\n",
              "              title=\"Convert this dataframe to an interactive table.\"\n",
              "              style=\"display:none;\">\n",
              "        \n",
              "  <svg xmlns=\"http://www.w3.org/2000/svg\" height=\"24px\"viewBox=\"0 0 24 24\"\n",
              "       width=\"24px\">\n",
              "    <path d=\"M0 0h24v24H0V0z\" fill=\"none\"/>\n",
              "    <path d=\"M18.56 5.44l.94 2.06.94-2.06 2.06-.94-2.06-.94-.94-2.06-.94 2.06-2.06.94zm-11 1L8.5 8.5l.94-2.06 2.06-.94-2.06-.94L8.5 2.5l-.94 2.06-2.06.94zm10 10l.94 2.06.94-2.06 2.06-.94-2.06-.94-.94-2.06-.94 2.06-2.06.94z\"/><path d=\"M17.41 7.96l-1.37-1.37c-.4-.4-.92-.59-1.43-.59-.52 0-1.04.2-1.43.59L10.3 9.45l-7.72 7.72c-.78.78-.78 2.05 0 2.83L4 21.41c.39.39.9.59 1.41.59.51 0 1.02-.2 1.41-.59l7.78-7.78 2.81-2.81c.8-.78.8-2.07 0-2.86zM5.41 20L4 18.59l7.72-7.72 1.47 1.35L5.41 20z\"/>\n",
              "  </svg>\n",
              "      </button>\n",
              "      \n",
              "  <style>\n",
              "    .colab-df-container {\n",
              "      display:flex;\n",
              "      flex-wrap:wrap;\n",
              "      gap: 12px;\n",
              "    }\n",
              "\n",
              "    .colab-df-convert {\n",
              "      background-color: #E8F0FE;\n",
              "      border: none;\n",
              "      border-radius: 50%;\n",
              "      cursor: pointer;\n",
              "      display: none;\n",
              "      fill: #1967D2;\n",
              "      height: 32px;\n",
              "      padding: 0 0 0 0;\n",
              "      width: 32px;\n",
              "    }\n",
              "\n",
              "    .colab-df-convert:hover {\n",
              "      background-color: #E2EBFA;\n",
              "      box-shadow: 0px 1px 2px rgba(60, 64, 67, 0.3), 0px 1px 3px 1px rgba(60, 64, 67, 0.15);\n",
              "      fill: #174EA6;\n",
              "    }\n",
              "\n",
              "    [theme=dark] .colab-df-convert {\n",
              "      background-color: #3B4455;\n",
              "      fill: #D2E3FC;\n",
              "    }\n",
              "\n",
              "    [theme=dark] .colab-df-convert:hover {\n",
              "      background-color: #434B5C;\n",
              "      box-shadow: 0px 1px 3px 1px rgba(0, 0, 0, 0.15);\n",
              "      filter: drop-shadow(0px 1px 2px rgba(0, 0, 0, 0.3));\n",
              "      fill: #FFFFFF;\n",
              "    }\n",
              "  </style>\n",
              "\n",
              "      <script>\n",
              "        const buttonEl =\n",
              "          document.querySelector('#df-35c6e022-6553-4310-83ed-b39df8cfd683 button.colab-df-convert');\n",
              "        buttonEl.style.display =\n",
              "          google.colab.kernel.accessAllowed ? 'block' : 'none';\n",
              "\n",
              "        async function convertToInteractive(key) {\n",
              "          const element = document.querySelector('#df-35c6e022-6553-4310-83ed-b39df8cfd683');\n",
              "          const dataTable =\n",
              "            await google.colab.kernel.invokeFunction('convertToInteractive',\n",
              "                                                     [key], {});\n",
              "          if (!dataTable) return;\n",
              "\n",
              "          const docLinkHtml = 'Like what you see? Visit the ' +\n",
              "            '<a target=\"_blank\" href=https://colab.research.google.com/notebooks/data_table.ipynb>data table notebook</a>'\n",
              "            + ' to learn more about interactive tables.';\n",
              "          element.innerHTML = '';\n",
              "          dataTable['output_type'] = 'display_data';\n",
              "          await google.colab.output.renderOutput(dataTable, element);\n",
              "          const docLink = document.createElement('div');\n",
              "          docLink.innerHTML = docLinkHtml;\n",
              "          element.appendChild(docLink);\n",
              "        }\n",
              "      </script>\n",
              "    </div>\n",
              "  </div>\n",
              "  "
            ]
          },
          "metadata": {},
          "execution_count": 68
        }
      ]
    },
    {
      "cell_type": "markdown",
      "source": [
        "**בדיקת מודל הרגרסיה הליניארית שוב על נתונים חדשים - רק אזורי תוכניות שאושרו לאחר נובמבר 2021.**"
      ],
      "metadata": {
        "id": "WA4xjCyrjN0D"
      }
    },
    {
      "cell_type": "code",
      "source": [
        "X_new = new_data[feature_cols_linear_reg]\n",
        "lasso_y_new_pred = lassor.predict(X_new)\n",
        "\n",
        "lasso_new_mae = mean_absolute_error(y_new, lasso_y_new_pred)\n",
        "print(\"MAE:\", lasso_new_mae)\n",
        "\n",
        "lasso_new_mse = mean_squared_error(y_new, lasso_y_new_pred)\n",
        "print(\"MSE:\", lasso_new_mse)\n",
        "\n",
        "lasso_new_rmse = mean_squared_error(y_new, lasso_y_new_pred, squared=False)\n",
        "print(\"RMSE:\", lasso_new_rmse)\n",
        "\n",
        "lasso_new_rsquared = r2_score(y_new, lasso_y_new_pred)\n",
        "print(\"R Squared:\", lasso_new_rsquared)"
      ],
      "metadata": {
        "colab": {
          "base_uri": "https://localhost:8080/"
        },
        "id": "Lw2V6KYTVi6J",
        "outputId": "a393e4a9-576b-4994-c5cd-f177a743b9c5"
      },
      "execution_count": 69,
      "outputs": [
        {
          "output_type": "stream",
          "name": "stdout",
          "text": [
            "MAE: 149.4180822396708\n",
            "MSE: 72033.05540197142\n",
            "RMSE: 268.3897453368355\n",
            "R Squared: 0.9859208179631799\n"
          ]
        }
      ]
    },
    {
      "cell_type": "code",
      "source": [
        "new_predictions_df['LASSO_predictions'] = lasso_y_new_pred\n",
        "new_predictions_df.T"
      ],
      "metadata": {
        "colab": {
          "base_uri": "https://localhost:8080/",
          "height": 268
        },
        "id": "R-ifHLtGfjkD",
        "outputId": "0721262c-3879-4be9-ed59-f4994837fcbb"
      },
      "execution_count": 70,
      "outputs": [
        {
          "output_type": "execute_result",
          "data": {
            "text/plain": [
              "                          0           1           2           3           4    \\\n",
              "MAIN_AREA_true     576.000000  220.000000  240.000000  570.400000  768.800000   \n",
              "KNN_predictions    576.800000  230.000000  246.800000  551.822287  730.580274   \n",
              "Total_area         672.000000  280.000000  300.000000  662.400000  892.800000   \n",
              "LASSO_predictions  526.564913  252.245057  269.445576  529.161446  695.729276   \n",
              "\n",
              "                          5           6           7            8    \\\n",
              "MAIN_AREA_true     620.000000  590.240000  728.000000  3250.000000   \n",
              "KNN_predictions    595.000000  558.887134  686.357143  3358.802078   \n",
              "Total_area         720.000000  685.440000  800.000000  4250.000000   \n",
              "LASSO_predictions  570.803403  545.818229  616.022759  2990.253568   \n",
              "\n",
              "                            9    ...         349         350         351  \\\n",
              "MAIN_AREA_true     15155.000000  ...  230.000000  370.000000  383.140000   \n",
              "KNN_predictions    15772.550068  ...  220.000000  387.712764  385.862118   \n",
              "Total_area         22220.000000  ...  284.000000  452.000000  457.140000   \n",
              "LASSO_predictions  15732.720811  ...  206.288621  373.741002  366.025427   \n",
              "\n",
              "                          352         353         354         355        356  \\\n",
              "MAIN_AREA_true     240.000000  480.000000  527.050000  810.600000  811.00000   \n",
              "KNN_predictions    246.800000  538.666667  639.757538  810.509426  781.50000   \n",
              "Total_area         300.000000  640.000000  746.940000  955.350000  943.00000   \n",
              "LASSO_predictions  257.417198  497.135509  578.181376  755.219514  720.91806   \n",
              "\n",
              "                           357          358  \n",
              "MAIN_AREA_true      920.000000  3034.000000  \n",
              "KNN_predictions     971.500000  2706.828496  \n",
              "Total_area         1130.000000  3634.000000  \n",
              "LASSO_predictions   916.156954  2677.448067  \n",
              "\n",
              "[4 rows x 359 columns]"
            ],
            "text/html": [
              "\n",
              "  <div id=\"df-af149b4e-bb83-48a3-9725-2b168426b2d8\">\n",
              "    <div class=\"colab-df-container\">\n",
              "      <div>\n",
              "<style scoped>\n",
              "    .dataframe tbody tr th:only-of-type {\n",
              "        vertical-align: middle;\n",
              "    }\n",
              "\n",
              "    .dataframe tbody tr th {\n",
              "        vertical-align: top;\n",
              "    }\n",
              "\n",
              "    .dataframe thead th {\n",
              "        text-align: right;\n",
              "    }\n",
              "</style>\n",
              "<table border=\"1\" class=\"dataframe\">\n",
              "  <thead>\n",
              "    <tr style=\"text-align: right;\">\n",
              "      <th></th>\n",
              "      <th>0</th>\n",
              "      <th>1</th>\n",
              "      <th>2</th>\n",
              "      <th>3</th>\n",
              "      <th>4</th>\n",
              "      <th>5</th>\n",
              "      <th>6</th>\n",
              "      <th>7</th>\n",
              "      <th>8</th>\n",
              "      <th>9</th>\n",
              "      <th>...</th>\n",
              "      <th>349</th>\n",
              "      <th>350</th>\n",
              "      <th>351</th>\n",
              "      <th>352</th>\n",
              "      <th>353</th>\n",
              "      <th>354</th>\n",
              "      <th>355</th>\n",
              "      <th>356</th>\n",
              "      <th>357</th>\n",
              "      <th>358</th>\n",
              "    </tr>\n",
              "  </thead>\n",
              "  <tbody>\n",
              "    <tr>\n",
              "      <th>MAIN_AREA_true</th>\n",
              "      <td>576.000000</td>\n",
              "      <td>220.000000</td>\n",
              "      <td>240.000000</td>\n",
              "      <td>570.400000</td>\n",
              "      <td>768.800000</td>\n",
              "      <td>620.000000</td>\n",
              "      <td>590.240000</td>\n",
              "      <td>728.000000</td>\n",
              "      <td>3250.000000</td>\n",
              "      <td>15155.000000</td>\n",
              "      <td>...</td>\n",
              "      <td>230.000000</td>\n",
              "      <td>370.000000</td>\n",
              "      <td>383.140000</td>\n",
              "      <td>240.000000</td>\n",
              "      <td>480.000000</td>\n",
              "      <td>527.050000</td>\n",
              "      <td>810.600000</td>\n",
              "      <td>811.00000</td>\n",
              "      <td>920.000000</td>\n",
              "      <td>3034.000000</td>\n",
              "    </tr>\n",
              "    <tr>\n",
              "      <th>KNN_predictions</th>\n",
              "      <td>576.800000</td>\n",
              "      <td>230.000000</td>\n",
              "      <td>246.800000</td>\n",
              "      <td>551.822287</td>\n",
              "      <td>730.580274</td>\n",
              "      <td>595.000000</td>\n",
              "      <td>558.887134</td>\n",
              "      <td>686.357143</td>\n",
              "      <td>3358.802078</td>\n",
              "      <td>15772.550068</td>\n",
              "      <td>...</td>\n",
              "      <td>220.000000</td>\n",
              "      <td>387.712764</td>\n",
              "      <td>385.862118</td>\n",
              "      <td>246.800000</td>\n",
              "      <td>538.666667</td>\n",
              "      <td>639.757538</td>\n",
              "      <td>810.509426</td>\n",
              "      <td>781.50000</td>\n",
              "      <td>971.500000</td>\n",
              "      <td>2706.828496</td>\n",
              "    </tr>\n",
              "    <tr>\n",
              "      <th>Total_area</th>\n",
              "      <td>672.000000</td>\n",
              "      <td>280.000000</td>\n",
              "      <td>300.000000</td>\n",
              "      <td>662.400000</td>\n",
              "      <td>892.800000</td>\n",
              "      <td>720.000000</td>\n",
              "      <td>685.440000</td>\n",
              "      <td>800.000000</td>\n",
              "      <td>4250.000000</td>\n",
              "      <td>22220.000000</td>\n",
              "      <td>...</td>\n",
              "      <td>284.000000</td>\n",
              "      <td>452.000000</td>\n",
              "      <td>457.140000</td>\n",
              "      <td>300.000000</td>\n",
              "      <td>640.000000</td>\n",
              "      <td>746.940000</td>\n",
              "      <td>955.350000</td>\n",
              "      <td>943.00000</td>\n",
              "      <td>1130.000000</td>\n",
              "      <td>3634.000000</td>\n",
              "    </tr>\n",
              "    <tr>\n",
              "      <th>LASSO_predictions</th>\n",
              "      <td>526.564913</td>\n",
              "      <td>252.245057</td>\n",
              "      <td>269.445576</td>\n",
              "      <td>529.161446</td>\n",
              "      <td>695.729276</td>\n",
              "      <td>570.803403</td>\n",
              "      <td>545.818229</td>\n",
              "      <td>616.022759</td>\n",
              "      <td>2990.253568</td>\n",
              "      <td>15732.720811</td>\n",
              "      <td>...</td>\n",
              "      <td>206.288621</td>\n",
              "      <td>373.741002</td>\n",
              "      <td>366.025427</td>\n",
              "      <td>257.417198</td>\n",
              "      <td>497.135509</td>\n",
              "      <td>578.181376</td>\n",
              "      <td>755.219514</td>\n",
              "      <td>720.91806</td>\n",
              "      <td>916.156954</td>\n",
              "      <td>2677.448067</td>\n",
              "    </tr>\n",
              "  </tbody>\n",
              "</table>\n",
              "<p>4 rows × 359 columns</p>\n",
              "</div>\n",
              "      <button class=\"colab-df-convert\" onclick=\"convertToInteractive('df-af149b4e-bb83-48a3-9725-2b168426b2d8')\"\n",
              "              title=\"Convert this dataframe to an interactive table.\"\n",
              "              style=\"display:none;\">\n",
              "        \n",
              "  <svg xmlns=\"http://www.w3.org/2000/svg\" height=\"24px\"viewBox=\"0 0 24 24\"\n",
              "       width=\"24px\">\n",
              "    <path d=\"M0 0h24v24H0V0z\" fill=\"none\"/>\n",
              "    <path d=\"M18.56 5.44l.94 2.06.94-2.06 2.06-.94-2.06-.94-.94-2.06-.94 2.06-2.06.94zm-11 1L8.5 8.5l.94-2.06 2.06-.94-2.06-.94L8.5 2.5l-.94 2.06-2.06.94zm10 10l.94 2.06.94-2.06 2.06-.94-2.06-.94-.94-2.06-.94 2.06-2.06.94z\"/><path d=\"M17.41 7.96l-1.37-1.37c-.4-.4-.92-.59-1.43-.59-.52 0-1.04.2-1.43.59L10.3 9.45l-7.72 7.72c-.78.78-.78 2.05 0 2.83L4 21.41c.39.39.9.59 1.41.59.51 0 1.02-.2 1.41-.59l7.78-7.78 2.81-2.81c.8-.78.8-2.07 0-2.86zM5.41 20L4 18.59l7.72-7.72 1.47 1.35L5.41 20z\"/>\n",
              "  </svg>\n",
              "      </button>\n",
              "      \n",
              "  <style>\n",
              "    .colab-df-container {\n",
              "      display:flex;\n",
              "      flex-wrap:wrap;\n",
              "      gap: 12px;\n",
              "    }\n",
              "\n",
              "    .colab-df-convert {\n",
              "      background-color: #E8F0FE;\n",
              "      border: none;\n",
              "      border-radius: 50%;\n",
              "      cursor: pointer;\n",
              "      display: none;\n",
              "      fill: #1967D2;\n",
              "      height: 32px;\n",
              "      padding: 0 0 0 0;\n",
              "      width: 32px;\n",
              "    }\n",
              "\n",
              "    .colab-df-convert:hover {\n",
              "      background-color: #E2EBFA;\n",
              "      box-shadow: 0px 1px 2px rgba(60, 64, 67, 0.3), 0px 1px 3px 1px rgba(60, 64, 67, 0.15);\n",
              "      fill: #174EA6;\n",
              "    }\n",
              "\n",
              "    [theme=dark] .colab-df-convert {\n",
              "      background-color: #3B4455;\n",
              "      fill: #D2E3FC;\n",
              "    }\n",
              "\n",
              "    [theme=dark] .colab-df-convert:hover {\n",
              "      background-color: #434B5C;\n",
              "      box-shadow: 0px 1px 3px 1px rgba(0, 0, 0, 0.15);\n",
              "      filter: drop-shadow(0px 1px 2px rgba(0, 0, 0, 0.3));\n",
              "      fill: #FFFFFF;\n",
              "    }\n",
              "  </style>\n",
              "\n",
              "      <script>\n",
              "        const buttonEl =\n",
              "          document.querySelector('#df-af149b4e-bb83-48a3-9725-2b168426b2d8 button.colab-df-convert');\n",
              "        buttonEl.style.display =\n",
              "          google.colab.kernel.accessAllowed ? 'block' : 'none';\n",
              "\n",
              "        async function convertToInteractive(key) {\n",
              "          const element = document.querySelector('#df-af149b4e-bb83-48a3-9725-2b168426b2d8');\n",
              "          const dataTable =\n",
              "            await google.colab.kernel.invokeFunction('convertToInteractive',\n",
              "                                                     [key], {});\n",
              "          if (!dataTable) return;\n",
              "\n",
              "          const docLinkHtml = 'Like what you see? Visit the ' +\n",
              "            '<a target=\"_blank\" href=https://colab.research.google.com/notebooks/data_table.ipynb>data table notebook</a>'\n",
              "            + ' to learn more about interactive tables.';\n",
              "          element.innerHTML = '';\n",
              "          dataTable['output_type'] = 'display_data';\n",
              "          await google.colab.output.renderOutput(dataTable, element);\n",
              "          const docLink = document.createElement('div');\n",
              "          docLink.innerHTML = docLinkHtml;\n",
              "          element.appendChild(docLink);\n",
              "        }\n",
              "      </script>\n",
              "    </div>\n",
              "  </div>\n",
              "  "
            ]
          },
          "metadata": {},
          "execution_count": 70
        }
      ]
    },
    {
      "cell_type": "markdown",
      "source": [
        "# Comparing Test Results"
      ],
      "metadata": {
        "id": "885FDtHnOVm0"
      }
    },
    {
      "cell_type": "code",
      "source": [
        "mae_vals = [lassor_mae, knn_mae]\n",
        "mse_vals = [lassor_mse, knn_mse]\n",
        "rmse_vals = [lassor_rmse, knn_rmse]\n",
        "rs_vals = [lassor_rsquared, knn_rsquared]\n",
        "\n",
        "labels = ['Lasso', 'KNN']\n",
        "\n",
        "results_df = pd.DataFrame({\n",
        "    'MAE': mae_vals,\n",
        "    'MSE': mse_vals,\n",
        "    'RMSE': rmse_vals,\n",
        "    'Rsquared': rs_vals\n",
        "}, index=labels)\n",
        "\n",
        "results_df"
      ],
      "metadata": {
        "colab": {
          "base_uri": "https://localhost:8080/",
          "height": 112
        },
        "id": "IkDfFeDrOSU1",
        "outputId": "d289add5-da49-4352-fe22-10b12e713855"
      },
      "execution_count": 71,
      "outputs": [
        {
          "output_type": "execute_result",
          "data": {
            "text/plain": [
              "              MAE            MSE        RMSE  Rsquared\n",
              "Lasso  153.495646  116012.119800  340.605519  0.987654\n",
              "KNN    149.552192  122649.605873  350.213657  0.986948"
            ],
            "text/html": [
              "\n",
              "  <div id=\"df-686827f0-54fe-41fa-856c-622d1dcbbecb\">\n",
              "    <div class=\"colab-df-container\">\n",
              "      <div>\n",
              "<style scoped>\n",
              "    .dataframe tbody tr th:only-of-type {\n",
              "        vertical-align: middle;\n",
              "    }\n",
              "\n",
              "    .dataframe tbody tr th {\n",
              "        vertical-align: top;\n",
              "    }\n",
              "\n",
              "    .dataframe thead th {\n",
              "        text-align: right;\n",
              "    }\n",
              "</style>\n",
              "<table border=\"1\" class=\"dataframe\">\n",
              "  <thead>\n",
              "    <tr style=\"text-align: right;\">\n",
              "      <th></th>\n",
              "      <th>MAE</th>\n",
              "      <th>MSE</th>\n",
              "      <th>RMSE</th>\n",
              "      <th>Rsquared</th>\n",
              "    </tr>\n",
              "  </thead>\n",
              "  <tbody>\n",
              "    <tr>\n",
              "      <th>Lasso</th>\n",
              "      <td>153.495646</td>\n",
              "      <td>116012.119800</td>\n",
              "      <td>340.605519</td>\n",
              "      <td>0.987654</td>\n",
              "    </tr>\n",
              "    <tr>\n",
              "      <th>KNN</th>\n",
              "      <td>149.552192</td>\n",
              "      <td>122649.605873</td>\n",
              "      <td>350.213657</td>\n",
              "      <td>0.986948</td>\n",
              "    </tr>\n",
              "  </tbody>\n",
              "</table>\n",
              "</div>\n",
              "      <button class=\"colab-df-convert\" onclick=\"convertToInteractive('df-686827f0-54fe-41fa-856c-622d1dcbbecb')\"\n",
              "              title=\"Convert this dataframe to an interactive table.\"\n",
              "              style=\"display:none;\">\n",
              "        \n",
              "  <svg xmlns=\"http://www.w3.org/2000/svg\" height=\"24px\"viewBox=\"0 0 24 24\"\n",
              "       width=\"24px\">\n",
              "    <path d=\"M0 0h24v24H0V0z\" fill=\"none\"/>\n",
              "    <path d=\"M18.56 5.44l.94 2.06.94-2.06 2.06-.94-2.06-.94-.94-2.06-.94 2.06-2.06.94zm-11 1L8.5 8.5l.94-2.06 2.06-.94-2.06-.94L8.5 2.5l-.94 2.06-2.06.94zm10 10l.94 2.06.94-2.06 2.06-.94-2.06-.94-.94-2.06-.94 2.06-2.06.94z\"/><path d=\"M17.41 7.96l-1.37-1.37c-.4-.4-.92-.59-1.43-.59-.52 0-1.04.2-1.43.59L10.3 9.45l-7.72 7.72c-.78.78-.78 2.05 0 2.83L4 21.41c.39.39.9.59 1.41.59.51 0 1.02-.2 1.41-.59l7.78-7.78 2.81-2.81c.8-.78.8-2.07 0-2.86zM5.41 20L4 18.59l7.72-7.72 1.47 1.35L5.41 20z\"/>\n",
              "  </svg>\n",
              "      </button>\n",
              "      \n",
              "  <style>\n",
              "    .colab-df-container {\n",
              "      display:flex;\n",
              "      flex-wrap:wrap;\n",
              "      gap: 12px;\n",
              "    }\n",
              "\n",
              "    .colab-df-convert {\n",
              "      background-color: #E8F0FE;\n",
              "      border: none;\n",
              "      border-radius: 50%;\n",
              "      cursor: pointer;\n",
              "      display: none;\n",
              "      fill: #1967D2;\n",
              "      height: 32px;\n",
              "      padding: 0 0 0 0;\n",
              "      width: 32px;\n",
              "    }\n",
              "\n",
              "    .colab-df-convert:hover {\n",
              "      background-color: #E2EBFA;\n",
              "      box-shadow: 0px 1px 2px rgba(60, 64, 67, 0.3), 0px 1px 3px 1px rgba(60, 64, 67, 0.15);\n",
              "      fill: #174EA6;\n",
              "    }\n",
              "\n",
              "    [theme=dark] .colab-df-convert {\n",
              "      background-color: #3B4455;\n",
              "      fill: #D2E3FC;\n",
              "    }\n",
              "\n",
              "    [theme=dark] .colab-df-convert:hover {\n",
              "      background-color: #434B5C;\n",
              "      box-shadow: 0px 1px 3px 1px rgba(0, 0, 0, 0.15);\n",
              "      filter: drop-shadow(0px 1px 2px rgba(0, 0, 0, 0.3));\n",
              "      fill: #FFFFFF;\n",
              "    }\n",
              "  </style>\n",
              "\n",
              "      <script>\n",
              "        const buttonEl =\n",
              "          document.querySelector('#df-686827f0-54fe-41fa-856c-622d1dcbbecb button.colab-df-convert');\n",
              "        buttonEl.style.display =\n",
              "          google.colab.kernel.accessAllowed ? 'block' : 'none';\n",
              "\n",
              "        async function convertToInteractive(key) {\n",
              "          const element = document.querySelector('#df-686827f0-54fe-41fa-856c-622d1dcbbecb');\n",
              "          const dataTable =\n",
              "            await google.colab.kernel.invokeFunction('convertToInteractive',\n",
              "                                                     [key], {});\n",
              "          if (!dataTable) return;\n",
              "\n",
              "          const docLinkHtml = 'Like what you see? Visit the ' +\n",
              "            '<a target=\"_blank\" href=https://colab.research.google.com/notebooks/data_table.ipynb>data table notebook</a>'\n",
              "            + ' to learn more about interactive tables.';\n",
              "          element.innerHTML = '';\n",
              "          dataTable['output_type'] = 'display_data';\n",
              "          await google.colab.output.renderOutput(dataTable, element);\n",
              "          const docLink = document.createElement('div');\n",
              "          docLink.innerHTML = docLinkHtml;\n",
              "          element.appendChild(docLink);\n",
              "        }\n",
              "      </script>\n",
              "    </div>\n",
              "  </div>\n",
              "  "
            ]
          },
          "metadata": {},
          "execution_count": 71
        }
      ]
    },
    {
      "cell_type": "markdown",
      "source": [
        "ניתן לראות שהמדדים של Lasso מעט טובים יותר משל KNN"
      ],
      "metadata": {
        "id": "YIZYRrR1vkc4"
      }
    },
    {
      "cell_type": "markdown",
      "source": [
        "# Comparing New Data Results"
      ],
      "metadata": {
        "id": "-lCHXj7TRuPb"
      }
    },
    {
      "cell_type": "code",
      "source": [
        "n_mae_vals = [lasso_new_mae, knn_new_mae]\n",
        "n_mse_vals = [lasso_new_mse, knn_new_mse]\n",
        "n_rmse_vals = [lasso_new_rmse, knn_new_rmse]\n",
        "n_rs_vals = [lasso_new_rsquared, knn_new_rsquared]\n",
        "\n",
        "n_labels = ['Lasso', 'KNN']\n",
        "\n",
        "n_results_df = pd.DataFrame({\n",
        "    'MAE': n_mae_vals,\n",
        "    'MSE': n_mse_vals,\n",
        "    'RMSE': n_rmse_vals,\n",
        "    'Rsquared': n_rs_vals\n",
        "}, index=n_labels)\n",
        "\n",
        "n_results_df"
      ],
      "metadata": {
        "colab": {
          "base_uri": "https://localhost:8080/",
          "height": 112
        },
        "id": "jSMzex-GRxpb",
        "outputId": "ecb304df-6b31-4b31-97eb-3e2496da1aea"
      },
      "execution_count": 72,
      "outputs": [
        {
          "output_type": "execute_result",
          "data": {
            "text/plain": [
              "              MAE            MSE        RMSE  Rsquared\n",
              "Lasso  149.418082   72033.055402  268.389745  0.985921\n",
              "KNN    218.728163  134402.635171  366.609650  0.973730"
            ],
            "text/html": [
              "\n",
              "  <div id=\"df-de495a04-1201-42dd-a634-23f0e0cd4d98\">\n",
              "    <div class=\"colab-df-container\">\n",
              "      <div>\n",
              "<style scoped>\n",
              "    .dataframe tbody tr th:only-of-type {\n",
              "        vertical-align: middle;\n",
              "    }\n",
              "\n",
              "    .dataframe tbody tr th {\n",
              "        vertical-align: top;\n",
              "    }\n",
              "\n",
              "    .dataframe thead th {\n",
              "        text-align: right;\n",
              "    }\n",
              "</style>\n",
              "<table border=\"1\" class=\"dataframe\">\n",
              "  <thead>\n",
              "    <tr style=\"text-align: right;\">\n",
              "      <th></th>\n",
              "      <th>MAE</th>\n",
              "      <th>MSE</th>\n",
              "      <th>RMSE</th>\n",
              "      <th>Rsquared</th>\n",
              "    </tr>\n",
              "  </thead>\n",
              "  <tbody>\n",
              "    <tr>\n",
              "      <th>Lasso</th>\n",
              "      <td>149.418082</td>\n",
              "      <td>72033.055402</td>\n",
              "      <td>268.389745</td>\n",
              "      <td>0.985921</td>\n",
              "    </tr>\n",
              "    <tr>\n",
              "      <th>KNN</th>\n",
              "      <td>218.728163</td>\n",
              "      <td>134402.635171</td>\n",
              "      <td>366.609650</td>\n",
              "      <td>0.973730</td>\n",
              "    </tr>\n",
              "  </tbody>\n",
              "</table>\n",
              "</div>\n",
              "      <button class=\"colab-df-convert\" onclick=\"convertToInteractive('df-de495a04-1201-42dd-a634-23f0e0cd4d98')\"\n",
              "              title=\"Convert this dataframe to an interactive table.\"\n",
              "              style=\"display:none;\">\n",
              "        \n",
              "  <svg xmlns=\"http://www.w3.org/2000/svg\" height=\"24px\"viewBox=\"0 0 24 24\"\n",
              "       width=\"24px\">\n",
              "    <path d=\"M0 0h24v24H0V0z\" fill=\"none\"/>\n",
              "    <path d=\"M18.56 5.44l.94 2.06.94-2.06 2.06-.94-2.06-.94-.94-2.06-.94 2.06-2.06.94zm-11 1L8.5 8.5l.94-2.06 2.06-.94-2.06-.94L8.5 2.5l-.94 2.06-2.06.94zm10 10l.94 2.06.94-2.06 2.06-.94-2.06-.94-.94-2.06-.94 2.06-2.06.94z\"/><path d=\"M17.41 7.96l-1.37-1.37c-.4-.4-.92-.59-1.43-.59-.52 0-1.04.2-1.43.59L10.3 9.45l-7.72 7.72c-.78.78-.78 2.05 0 2.83L4 21.41c.39.39.9.59 1.41.59.51 0 1.02-.2 1.41-.59l7.78-7.78 2.81-2.81c.8-.78.8-2.07 0-2.86zM5.41 20L4 18.59l7.72-7.72 1.47 1.35L5.41 20z\"/>\n",
              "  </svg>\n",
              "      </button>\n",
              "      \n",
              "  <style>\n",
              "    .colab-df-container {\n",
              "      display:flex;\n",
              "      flex-wrap:wrap;\n",
              "      gap: 12px;\n",
              "    }\n",
              "\n",
              "    .colab-df-convert {\n",
              "      background-color: #E8F0FE;\n",
              "      border: none;\n",
              "      border-radius: 50%;\n",
              "      cursor: pointer;\n",
              "      display: none;\n",
              "      fill: #1967D2;\n",
              "      height: 32px;\n",
              "      padding: 0 0 0 0;\n",
              "      width: 32px;\n",
              "    }\n",
              "\n",
              "    .colab-df-convert:hover {\n",
              "      background-color: #E2EBFA;\n",
              "      box-shadow: 0px 1px 2px rgba(60, 64, 67, 0.3), 0px 1px 3px 1px rgba(60, 64, 67, 0.15);\n",
              "      fill: #174EA6;\n",
              "    }\n",
              "\n",
              "    [theme=dark] .colab-df-convert {\n",
              "      background-color: #3B4455;\n",
              "      fill: #D2E3FC;\n",
              "    }\n",
              "\n",
              "    [theme=dark] .colab-df-convert:hover {\n",
              "      background-color: #434B5C;\n",
              "      box-shadow: 0px 1px 3px 1px rgba(0, 0, 0, 0.15);\n",
              "      filter: drop-shadow(0px 1px 2px rgba(0, 0, 0, 0.3));\n",
              "      fill: #FFFFFF;\n",
              "    }\n",
              "  </style>\n",
              "\n",
              "      <script>\n",
              "        const buttonEl =\n",
              "          document.querySelector('#df-de495a04-1201-42dd-a634-23f0e0cd4d98 button.colab-df-convert');\n",
              "        buttonEl.style.display =\n",
              "          google.colab.kernel.accessAllowed ? 'block' : 'none';\n",
              "\n",
              "        async function convertToInteractive(key) {\n",
              "          const element = document.querySelector('#df-de495a04-1201-42dd-a634-23f0e0cd4d98');\n",
              "          const dataTable =\n",
              "            await google.colab.kernel.invokeFunction('convertToInteractive',\n",
              "                                                     [key], {});\n",
              "          if (!dataTable) return;\n",
              "\n",
              "          const docLinkHtml = 'Like what you see? Visit the ' +\n",
              "            '<a target=\"_blank\" href=https://colab.research.google.com/notebooks/data_table.ipynb>data table notebook</a>'\n",
              "            + ' to learn more about interactive tables.';\n",
              "          element.innerHTML = '';\n",
              "          dataTable['output_type'] = 'display_data';\n",
              "          await google.colab.output.renderOutput(dataTable, element);\n",
              "          const docLink = document.createElement('div');\n",
              "          docLink.innerHTML = docLinkHtml;\n",
              "          element.appendChild(docLink);\n",
              "        }\n",
              "      </script>\n",
              "    </div>\n",
              "  </div>\n",
              "  "
            ]
          },
          "metadata": {},
          "execution_count": 72
        }
      ]
    },
    {
      "cell_type": "markdown",
      "source": [
        "מודל הלאסו מנבא את MAIN_AREA טוב יותר מ-KNN!"
      ],
      "metadata": {
        "id": "Tr15LinLdXEK"
      }
    },
    {
      "cell_type": "markdown",
      "source": [
        "# Desicion Tree model"
      ],
      "metadata": {
        "id": "ldHjRQ0_BcYh"
      }
    },
    {
      "cell_type": "code",
      "source": [
        "feature_cols_desicion_tree = ['TOTAL_AREA', 'HOUSING_UNITS', 'FLOORS_NUM', 'CELL_SIZE_TOTAL', 'BUILDING_HEIGHT'] "
      ],
      "metadata": {
        "id": "-CJRM-YLBx_d"
      },
      "execution_count": 73,
      "outputs": []
    },
    {
      "cell_type": "code",
      "source": [
        "X = dummies_data[feature_cols_desicion_tree]\n",
        "y = dummies_data['MAIN_AREA']"
      ],
      "metadata": {
        "id": "8NcvhPsIBx_e"
      },
      "execution_count": 74,
      "outputs": []
    },
    {
      "cell_type": "code",
      "source": [
        "X_train, X_test, y_train, y_test = train_test_split(X, y, test_size=0.33, random_state=42)"
      ],
      "metadata": {
        "id": "FPGIyU6FBx_e"
      },
      "execution_count": 75,
      "outputs": []
    },
    {
      "cell_type": "code",
      "source": [
        "from sklearn.tree import DecisionTreeRegressor\n",
        "regressor = DecisionTreeRegressor(random_state=0)"
      ],
      "metadata": {
        "id": "5ksjnlfBBixP"
      },
      "execution_count": 76,
      "outputs": []
    },
    {
      "cell_type": "code",
      "source": [
        "regressor.fit(X_train, y_train)\n",
        "\n",
        "regressor_y_pred = regressor.predict(X_test)\n",
        "\n",
        "regressor_mae = mean_absolute_error(y_test, regressor_y_pred)\n",
        "regressor_mse = mean_squared_error(y_test, regressor_y_pred)\n",
        "regressor_rmse = mean_squared_error(y_test, regressor_y_pred, squared=False)\n",
        "regressor_rsquared = r2_score(y_test, regressor_y_pred)\n",
        "\n",
        "print(\"MAE:\", regressor_mae)\n",
        "print(\"MSE:\", regressor_mse)\n",
        "print(\"RMSE:\", regressor_rmse)\n",
        "print(\"R Squared:\", regressor_rsquared)"
      ],
      "metadata": {
        "colab": {
          "base_uri": "https://localhost:8080/"
        },
        "id": "CXBTn_anCdqA",
        "outputId": "f34b4c67-85dd-4db5-b033-02218316711f"
      },
      "execution_count": 77,
      "outputs": [
        {
          "output_type": "stream",
          "name": "stdout",
          "text": [
            "MAE: 177.22277406745098\n",
            "MSE: 165026.40562396072\n",
            "RMSE: 406.2344220077377\n",
            "R Squared: 0.9824383034288268\n"
          ]
        }
      ]
    },
    {
      "cell_type": "code",
      "source": [
        "# find best parameters for desicion tree\n",
        "params = {'criterion':['squared_error', 'friedman_mse', 'absolute_error', 'poisson'], \n",
        "          'splitter':['best', 'random'],\n",
        "          'max_depth':[2, 3, 4, 5, 6, 7, None], \n",
        "          'min_samples_leaf':[1, 5, 10, 20, 30]}\n",
        "\n",
        "regressor = DecisionTreeRegressor()\n",
        "\n",
        "model = GridSearchCV(regressor, params, cv=5)\n",
        "model.fit(X_train, y_train)\n",
        "model.best_params_"
      ],
      "metadata": {
        "colab": {
          "base_uri": "https://localhost:8080/"
        },
        "id": "zARfYte-C5wx",
        "outputId": "04c35824-b6d5-4979-b5e5-03e0a42cbda3"
      },
      "execution_count": 78,
      "outputs": [
        {
          "output_type": "execute_result",
          "data": {
            "text/plain": [
              "{'criterion': 'poisson',\n",
              " 'max_depth': None,\n",
              " 'min_samples_leaf': 5,\n",
              " 'splitter': 'best'}"
            ]
          },
          "metadata": {},
          "execution_count": 78
        }
      ]
    },
    {
      "cell_type": "code",
      "source": [
        "regressor = DecisionTreeRegressor(criterion='poisson', min_samples_leaf=5, max_depth=10)\n",
        "regressor.fit(X_train, y_train)\n",
        "\n",
        "regressor_y_pred = regressor.predict(X_test)\n",
        "\n",
        "regressor_mae = mean_absolute_error(y_test, regressor_y_pred)\n",
        "regressor_mse = mean_squared_error(y_test, regressor_y_pred)\n",
        "regressor_rmse = mean_squared_error(y_test, regressor_y_pred, squared=False)\n",
        "regressor_rsquared = r2_score(y_test, regressor_y_pred)\n",
        "\n",
        "print(\"MAE:\", regressor_mae)\n",
        "print(\"MSE:\", regressor_mse)\n",
        "print(\"RMSE:\", regressor_rmse)\n",
        "print(\"R Squared:\", regressor_rsquared)"
      ],
      "metadata": {
        "colab": {
          "base_uri": "https://localhost:8080/"
        },
        "id": "cGJPfUYpEWKu",
        "outputId": "182a5abf-d488-4e52-9967-0f5d259f0208"
      },
      "execution_count": 79,
      "outputs": [
        {
          "output_type": "stream",
          "name": "stdout",
          "text": [
            "MAE: 941.5542039154258\n",
            "MSE: 2448680.508578911\n",
            "RMSE: 1564.8260314101728\n",
            "R Squared: 0.739417556064341\n"
          ]
        }
      ]
    },
    {
      "cell_type": "code",
      "source": [
        "mae_vals = [lassor_mae, knn_mae, regressor_mae]\n",
        "mse_vals = [lassor_mse, knn_mse, regressor_mse]\n",
        "rmse_vals = [lassor_rmse, knn_rmse, regressor_rmse]\n",
        "rs_vals = [lassor_rsquared, knn_rsquared, regressor_rsquared]\n",
        "\n",
        "labels = ['Lasso', 'KNN', 'Desicion Tree']\n",
        "\n",
        "results_df = pd.DataFrame({\n",
        "    'MAE': mae_vals,\n",
        "    'MSE': mse_vals,\n",
        "    'RMSE': rmse_vals,\n",
        "    'Rsquared': rs_vals\n",
        "}, index=labels)\n",
        "\n",
        "results_df"
      ],
      "metadata": {
        "colab": {
          "base_uri": "https://localhost:8080/",
          "height": 143
        },
        "id": "F6qDIsHDE6Ud",
        "outputId": "d7455570-99e4-4aad-be18-8df5e5e39b5a"
      },
      "execution_count": 80,
      "outputs": [
        {
          "output_type": "execute_result",
          "data": {
            "text/plain": [
              "                      MAE           MSE         RMSE  Rsquared\n",
              "Lasso          153.495646  1.160121e+05   340.605519  0.987654\n",
              "KNN            149.552192  1.226496e+05   350.213657  0.986948\n",
              "Desicion Tree  941.554204  2.448681e+06  1564.826031  0.739418"
            ],
            "text/html": [
              "\n",
              "  <div id=\"df-c89fbdad-cc66-4341-9c62-0e37b83839fa\">\n",
              "    <div class=\"colab-df-container\">\n",
              "      <div>\n",
              "<style scoped>\n",
              "    .dataframe tbody tr th:only-of-type {\n",
              "        vertical-align: middle;\n",
              "    }\n",
              "\n",
              "    .dataframe tbody tr th {\n",
              "        vertical-align: top;\n",
              "    }\n",
              "\n",
              "    .dataframe thead th {\n",
              "        text-align: right;\n",
              "    }\n",
              "</style>\n",
              "<table border=\"1\" class=\"dataframe\">\n",
              "  <thead>\n",
              "    <tr style=\"text-align: right;\">\n",
              "      <th></th>\n",
              "      <th>MAE</th>\n",
              "      <th>MSE</th>\n",
              "      <th>RMSE</th>\n",
              "      <th>Rsquared</th>\n",
              "    </tr>\n",
              "  </thead>\n",
              "  <tbody>\n",
              "    <tr>\n",
              "      <th>Lasso</th>\n",
              "      <td>153.495646</td>\n",
              "      <td>1.160121e+05</td>\n",
              "      <td>340.605519</td>\n",
              "      <td>0.987654</td>\n",
              "    </tr>\n",
              "    <tr>\n",
              "      <th>KNN</th>\n",
              "      <td>149.552192</td>\n",
              "      <td>1.226496e+05</td>\n",
              "      <td>350.213657</td>\n",
              "      <td>0.986948</td>\n",
              "    </tr>\n",
              "    <tr>\n",
              "      <th>Desicion Tree</th>\n",
              "      <td>941.554204</td>\n",
              "      <td>2.448681e+06</td>\n",
              "      <td>1564.826031</td>\n",
              "      <td>0.739418</td>\n",
              "    </tr>\n",
              "  </tbody>\n",
              "</table>\n",
              "</div>\n",
              "      <button class=\"colab-df-convert\" onclick=\"convertToInteractive('df-c89fbdad-cc66-4341-9c62-0e37b83839fa')\"\n",
              "              title=\"Convert this dataframe to an interactive table.\"\n",
              "              style=\"display:none;\">\n",
              "        \n",
              "  <svg xmlns=\"http://www.w3.org/2000/svg\" height=\"24px\"viewBox=\"0 0 24 24\"\n",
              "       width=\"24px\">\n",
              "    <path d=\"M0 0h24v24H0V0z\" fill=\"none\"/>\n",
              "    <path d=\"M18.56 5.44l.94 2.06.94-2.06 2.06-.94-2.06-.94-.94-2.06-.94 2.06-2.06.94zm-11 1L8.5 8.5l.94-2.06 2.06-.94-2.06-.94L8.5 2.5l-.94 2.06-2.06.94zm10 10l.94 2.06.94-2.06 2.06-.94-2.06-.94-.94-2.06-.94 2.06-2.06.94z\"/><path d=\"M17.41 7.96l-1.37-1.37c-.4-.4-.92-.59-1.43-.59-.52 0-1.04.2-1.43.59L10.3 9.45l-7.72 7.72c-.78.78-.78 2.05 0 2.83L4 21.41c.39.39.9.59 1.41.59.51 0 1.02-.2 1.41-.59l7.78-7.78 2.81-2.81c.8-.78.8-2.07 0-2.86zM5.41 20L4 18.59l7.72-7.72 1.47 1.35L5.41 20z\"/>\n",
              "  </svg>\n",
              "      </button>\n",
              "      \n",
              "  <style>\n",
              "    .colab-df-container {\n",
              "      display:flex;\n",
              "      flex-wrap:wrap;\n",
              "      gap: 12px;\n",
              "    }\n",
              "\n",
              "    .colab-df-convert {\n",
              "      background-color: #E8F0FE;\n",
              "      border: none;\n",
              "      border-radius: 50%;\n",
              "      cursor: pointer;\n",
              "      display: none;\n",
              "      fill: #1967D2;\n",
              "      height: 32px;\n",
              "      padding: 0 0 0 0;\n",
              "      width: 32px;\n",
              "    }\n",
              "\n",
              "    .colab-df-convert:hover {\n",
              "      background-color: #E2EBFA;\n",
              "      box-shadow: 0px 1px 2px rgba(60, 64, 67, 0.3), 0px 1px 3px 1px rgba(60, 64, 67, 0.15);\n",
              "      fill: #174EA6;\n",
              "    }\n",
              "\n",
              "    [theme=dark] .colab-df-convert {\n",
              "      background-color: #3B4455;\n",
              "      fill: #D2E3FC;\n",
              "    }\n",
              "\n",
              "    [theme=dark] .colab-df-convert:hover {\n",
              "      background-color: #434B5C;\n",
              "      box-shadow: 0px 1px 3px 1px rgba(0, 0, 0, 0.15);\n",
              "      filter: drop-shadow(0px 1px 2px rgba(0, 0, 0, 0.3));\n",
              "      fill: #FFFFFF;\n",
              "    }\n",
              "  </style>\n",
              "\n",
              "      <script>\n",
              "        const buttonEl =\n",
              "          document.querySelector('#df-c89fbdad-cc66-4341-9c62-0e37b83839fa button.colab-df-convert');\n",
              "        buttonEl.style.display =\n",
              "          google.colab.kernel.accessAllowed ? 'block' : 'none';\n",
              "\n",
              "        async function convertToInteractive(key) {\n",
              "          const element = document.querySelector('#df-c89fbdad-cc66-4341-9c62-0e37b83839fa');\n",
              "          const dataTable =\n",
              "            await google.colab.kernel.invokeFunction('convertToInteractive',\n",
              "                                                     [key], {});\n",
              "          if (!dataTable) return;\n",
              "\n",
              "          const docLinkHtml = 'Like what you see? Visit the ' +\n",
              "            '<a target=\"_blank\" href=https://colab.research.google.com/notebooks/data_table.ipynb>data table notebook</a>'\n",
              "            + ' to learn more about interactive tables.';\n",
              "          element.innerHTML = '';\n",
              "          dataTable['output_type'] = 'display_data';\n",
              "          await google.colab.output.renderOutput(dataTable, element);\n",
              "          const docLink = document.createElement('div');\n",
              "          docLink.innerHTML = docLinkHtml;\n",
              "          element.appendChild(docLink);\n",
              "        }\n",
              "      </script>\n",
              "    </div>\n",
              "  </div>\n",
              "  "
            ]
          },
          "metadata": {},
          "execution_count": 80
        }
      ]
    },
    {
      "cell_type": "code",
      "source": [
        "X_new = new_data[feature_cols_linear_reg]\n",
        "regressor_y_new_pred = regressor.predict(X_new)\n",
        "\n",
        "regressor_new_mae = mean_absolute_error(y_new, regressor_y_new_pred)\n",
        "print(\"MAE:\", regressor_new_mae)\n",
        "\n",
        "regressor_new_mse = mean_squared_error(y_new, regressor_y_new_pred)\n",
        "print(\"MSE:\", regressor_new_mse)\n",
        "\n",
        "regressor_new_rmse = mean_squared_error(y_new, regressor_y_new_pred, squared=False)\n",
        "print(\"RMSE:\", regressor_new_rmse)\n",
        "\n",
        "regressor_new_rsquared = r2_score(y_new, regressor_y_new_pred)\n",
        "print(\"R Squared:\", regressor_new_rsquared)"
      ],
      "metadata": {
        "colab": {
          "base_uri": "https://localhost:8080/"
        },
        "id": "7iR_k5k2FP11",
        "outputId": "03335f2c-9efe-4106-e807-e72878e15c2f"
      },
      "execution_count": 81,
      "outputs": [
        {
          "output_type": "stream",
          "name": "stdout",
          "text": [
            "MAE: 493.8941012538826\n",
            "MSE: 460680.50728661194\n",
            "RMSE: 678.7344895366758\n",
            "R Squared: 0.9099579396332904\n"
          ]
        }
      ]
    },
    {
      "cell_type": "code",
      "source": [
        "n_mae_vals = [lasso_new_mae, knn_new_mae, regressor_new_mae]\n",
        "n_mse_vals = [lasso_new_mse, knn_new_mse, regressor_new_mse]\n",
        "n_rmse_vals = [lasso_new_rmse, knn_new_rmse, regressor_new_rmse]\n",
        "n_rs_vals = [lasso_new_rsquared, knn_new_rsquared, regressor_new_rsquared]\n",
        "\n",
        "n_labels = ['Lasso', 'KNN', 'Desicion Tree']\n",
        "\n",
        "n_results_df = pd.DataFrame({\n",
        "    'MAE': n_mae_vals,\n",
        "    'MSE': n_mse_vals,\n",
        "    'RMSE': n_rmse_vals,\n",
        "    'Rsquared': n_rs_vals\n",
        "}, index=n_labels)\n",
        "\n",
        "n_results_df"
      ],
      "metadata": {
        "colab": {
          "base_uri": "https://localhost:8080/",
          "height": 143
        },
        "id": "YIXl1HUhF3WG",
        "outputId": "53838059-1135-4382-db1b-19b962165040"
      },
      "execution_count": 82,
      "outputs": [
        {
          "output_type": "execute_result",
          "data": {
            "text/plain": [
              "                      MAE            MSE        RMSE  Rsquared\n",
              "Lasso          149.418082   72033.055402  268.389745  0.985921\n",
              "KNN            218.728163  134402.635171  366.609650  0.973730\n",
              "Desicion Tree  493.894101  460680.507287  678.734490  0.909958"
            ],
            "text/html": [
              "\n",
              "  <div id=\"df-a1a2c389-0c9a-40a5-a853-af2ee8271dd3\">\n",
              "    <div class=\"colab-df-container\">\n",
              "      <div>\n",
              "<style scoped>\n",
              "    .dataframe tbody tr th:only-of-type {\n",
              "        vertical-align: middle;\n",
              "    }\n",
              "\n",
              "    .dataframe tbody tr th {\n",
              "        vertical-align: top;\n",
              "    }\n",
              "\n",
              "    .dataframe thead th {\n",
              "        text-align: right;\n",
              "    }\n",
              "</style>\n",
              "<table border=\"1\" class=\"dataframe\">\n",
              "  <thead>\n",
              "    <tr style=\"text-align: right;\">\n",
              "      <th></th>\n",
              "      <th>MAE</th>\n",
              "      <th>MSE</th>\n",
              "      <th>RMSE</th>\n",
              "      <th>Rsquared</th>\n",
              "    </tr>\n",
              "  </thead>\n",
              "  <tbody>\n",
              "    <tr>\n",
              "      <th>Lasso</th>\n",
              "      <td>149.418082</td>\n",
              "      <td>72033.055402</td>\n",
              "      <td>268.389745</td>\n",
              "      <td>0.985921</td>\n",
              "    </tr>\n",
              "    <tr>\n",
              "      <th>KNN</th>\n",
              "      <td>218.728163</td>\n",
              "      <td>134402.635171</td>\n",
              "      <td>366.609650</td>\n",
              "      <td>0.973730</td>\n",
              "    </tr>\n",
              "    <tr>\n",
              "      <th>Desicion Tree</th>\n",
              "      <td>493.894101</td>\n",
              "      <td>460680.507287</td>\n",
              "      <td>678.734490</td>\n",
              "      <td>0.909958</td>\n",
              "    </tr>\n",
              "  </tbody>\n",
              "</table>\n",
              "</div>\n",
              "      <button class=\"colab-df-convert\" onclick=\"convertToInteractive('df-a1a2c389-0c9a-40a5-a853-af2ee8271dd3')\"\n",
              "              title=\"Convert this dataframe to an interactive table.\"\n",
              "              style=\"display:none;\">\n",
              "        \n",
              "  <svg xmlns=\"http://www.w3.org/2000/svg\" height=\"24px\"viewBox=\"0 0 24 24\"\n",
              "       width=\"24px\">\n",
              "    <path d=\"M0 0h24v24H0V0z\" fill=\"none\"/>\n",
              "    <path d=\"M18.56 5.44l.94 2.06.94-2.06 2.06-.94-2.06-.94-.94-2.06-.94 2.06-2.06.94zm-11 1L8.5 8.5l.94-2.06 2.06-.94-2.06-.94L8.5 2.5l-.94 2.06-2.06.94zm10 10l.94 2.06.94-2.06 2.06-.94-2.06-.94-.94-2.06-.94 2.06-2.06.94z\"/><path d=\"M17.41 7.96l-1.37-1.37c-.4-.4-.92-.59-1.43-.59-.52 0-1.04.2-1.43.59L10.3 9.45l-7.72 7.72c-.78.78-.78 2.05 0 2.83L4 21.41c.39.39.9.59 1.41.59.51 0 1.02-.2 1.41-.59l7.78-7.78 2.81-2.81c.8-.78.8-2.07 0-2.86zM5.41 20L4 18.59l7.72-7.72 1.47 1.35L5.41 20z\"/>\n",
              "  </svg>\n",
              "      </button>\n",
              "      \n",
              "  <style>\n",
              "    .colab-df-container {\n",
              "      display:flex;\n",
              "      flex-wrap:wrap;\n",
              "      gap: 12px;\n",
              "    }\n",
              "\n",
              "    .colab-df-convert {\n",
              "      background-color: #E8F0FE;\n",
              "      border: none;\n",
              "      border-radius: 50%;\n",
              "      cursor: pointer;\n",
              "      display: none;\n",
              "      fill: #1967D2;\n",
              "      height: 32px;\n",
              "      padding: 0 0 0 0;\n",
              "      width: 32px;\n",
              "    }\n",
              "\n",
              "    .colab-df-convert:hover {\n",
              "      background-color: #E2EBFA;\n",
              "      box-shadow: 0px 1px 2px rgba(60, 64, 67, 0.3), 0px 1px 3px 1px rgba(60, 64, 67, 0.15);\n",
              "      fill: #174EA6;\n",
              "    }\n",
              "\n",
              "    [theme=dark] .colab-df-convert {\n",
              "      background-color: #3B4455;\n",
              "      fill: #D2E3FC;\n",
              "    }\n",
              "\n",
              "    [theme=dark] .colab-df-convert:hover {\n",
              "      background-color: #434B5C;\n",
              "      box-shadow: 0px 1px 3px 1px rgba(0, 0, 0, 0.15);\n",
              "      filter: drop-shadow(0px 1px 2px rgba(0, 0, 0, 0.3));\n",
              "      fill: #FFFFFF;\n",
              "    }\n",
              "  </style>\n",
              "\n",
              "      <script>\n",
              "        const buttonEl =\n",
              "          document.querySelector('#df-a1a2c389-0c9a-40a5-a853-af2ee8271dd3 button.colab-df-convert');\n",
              "        buttonEl.style.display =\n",
              "          google.colab.kernel.accessAllowed ? 'block' : 'none';\n",
              "\n",
              "        async function convertToInteractive(key) {\n",
              "          const element = document.querySelector('#df-a1a2c389-0c9a-40a5-a853-af2ee8271dd3');\n",
              "          const dataTable =\n",
              "            await google.colab.kernel.invokeFunction('convertToInteractive',\n",
              "                                                     [key], {});\n",
              "          if (!dataTable) return;\n",
              "\n",
              "          const docLinkHtml = 'Like what you see? Visit the ' +\n",
              "            '<a target=\"_blank\" href=https://colab.research.google.com/notebooks/data_table.ipynb>data table notebook</a>'\n",
              "            + ' to learn more about interactive tables.';\n",
              "          element.innerHTML = '';\n",
              "          dataTable['output_type'] = 'display_data';\n",
              "          await google.colab.output.renderOutput(dataTable, element);\n",
              "          const docLink = document.createElement('div');\n",
              "          docLink.innerHTML = docLinkHtml;\n",
              "          element.appendChild(docLink);\n",
              "        }\n",
              "      </script>\n",
              "    </div>\n",
              "  </div>\n",
              "  "
            ]
          },
          "metadata": {},
          "execution_count": 82
        }
      ]
    },
    {
      "cell_type": "markdown",
      "source": [
        "# Ensemble\n",
        "לסיום אנסה את שיטת האנסמבל שמשלבת בין השיטות השונות ואראה איך זה משפיע על התוצאות:"
      ],
      "metadata": {
        "id": "A2b4I7yyyklg"
      }
    },
    {
      "cell_type": "code",
      "source": [
        "from sklearn.ensemble import VotingRegressor"
      ],
      "metadata": {
        "id": "6zkmgM5Ul-CU"
      },
      "execution_count": 83,
      "outputs": []
    },
    {
      "cell_type": "code",
      "source": [
        "# find best parameters for VotingRegressor\n",
        "params = {'weights':[[.8, .1, .1], [.7, .2, .1], [.7, .1, .1]]}\n",
        "\n",
        "erm = VotingRegressor([('lasso', lassor), ('knn', neigh), ('dt', regressor)])\n",
        "\n",
        "model = GridSearchCV(erm, params, cv=5)\n",
        "model.fit(X_train, y_train)\n",
        "model.best_params_"
      ],
      "metadata": {
        "colab": {
          "base_uri": "https://localhost:8080/"
        },
        "id": "Zop8InpouCdc",
        "outputId": "5d698fba-5369-4be2-f62b-987fbee79191"
      },
      "execution_count": 84,
      "outputs": [
        {
          "output_type": "execute_result",
          "data": {
            "text/plain": [
              "{'weights': [0.8, 0.1, 0.1]}"
            ]
          },
          "metadata": {},
          "execution_count": 84
        }
      ]
    },
    {
      "cell_type": "code",
      "source": [
        "er = VotingRegressor([('lasso', lassor), ('knn', neigh), ('dt', regressor)], weights=[.8, .1, .1])\n",
        "er.fit(X_train, y_train)\n",
        "er_y_pred = er.predict(X_test)"
      ],
      "metadata": {
        "id": "FaSJUqlJmqET"
      },
      "execution_count": 85,
      "outputs": []
    },
    {
      "cell_type": "code",
      "source": [
        "test_predictions_df['VotingRegressor_predictions'] = er_y_pred\n",
        "test_predictions_df.T"
      ],
      "metadata": {
        "colab": {
          "base_uri": "https://localhost:8080/",
          "height": 300
        },
        "id": "Plej0XBDq8AK",
        "outputId": "8936966f-0409-4624-f44e-7c78a4a56c3d"
      },
      "execution_count": 86,
      "outputs": [
        {
          "output_type": "execute_result",
          "data": {
            "text/plain": [
              "                                   12677       12077       9296         12692  \\\n",
              "MAIN_AREA_true               1580.000000  275.000000  200.000000   952.000000   \n",
              "KNN_predictions              1638.283819  265.571429  199.369458  1010.000000   \n",
              "Total_area                   2003.000000  320.000000  258.000000  1155.000000   \n",
              "LASSO_predictions            1489.141709  323.416051  227.992755   896.694570   \n",
              "VotingRegressor_predictions  1465.311973  404.711765  316.292857   927.976219   \n",
              "\n",
              "                                  11043       11294       4786        12721  \\\n",
              "MAIN_AREA_true               355.000000   75.000000  809.050000  720.000000   \n",
              "KNN_predictions              285.000000   89.357078  884.105023  751.800000   \n",
              "Total_area                   355.000000   90.000000  985.570000  880.000000   \n",
              "LASSO_predictions            312.739860   69.461051  775.691916  660.673746   \n",
              "VotingRegressor_predictions  394.952718  178.347969  815.209128  711.271468   \n",
              "\n",
              "                                  13301        13706  ...        12757  \\\n",
              "MAIN_AREA_true               203.010000  1211.750000  ...   990.000000   \n",
              "KNN_predictions              175.316243  1274.213701  ...   983.119223   \n",
              "Total_area                   217.980000  1473.750000  ...  1232.000000   \n",
              "LASSO_predictions            199.829679  1116.429485  ...   937.262635   \n",
              "VotingRegressor_predictions  291.972978  1118.764124  ...   967.059318   \n",
              "\n",
              "                                   12364       13461       12237       1905   \\\n",
              "MAIN_AREA_true                890.000000  570.000000  399.000000  457.000000   \n",
              "KNN_predictions              1146.591923  569.727273  385.037437  468.500000   \n",
              "Total_area                   1340.000000  600.000000  449.500000  580.000000   \n",
              "LASSO_predictions            1065.491613  484.170964  405.969804  460.429253   \n",
              "VotingRegressor_predictions  1073.653145  554.992864  475.593333  531.154941   \n",
              "\n",
              "                                    11832       11257       13201  \\\n",
              "MAIN_AREA_true               19100.000000  475.000000  868.220000   \n",
              "KNN_predictions              18830.085928  463.888940  755.947408   \n",
              "Total_area                   27400.000000  615.000000  904.970000   \n",
              "LASSO_predictions            19190.746014  505.067592  698.193831   \n",
              "VotingRegressor_predictions  19264.902027  567.227431  750.472462   \n",
              "\n",
              "                                   12691       13536  \n",
              "MAIN_AREA_true                890.500000  270.000000  \n",
              "KNN_predictions               828.984346  325.000000  \n",
              "Total_area                   1027.500000  350.000000  \n",
              "LASSO_predictions             775.616092  272.584058  \n",
              "VotingRegressor_predictions   817.555761  364.531900  \n",
              "\n",
              "[5 rows x 850 columns]"
            ],
            "text/html": [
              "\n",
              "  <div id=\"df-65fc1f87-8131-43ef-9a49-e2b5b7e3d8f3\">\n",
              "    <div class=\"colab-df-container\">\n",
              "      <div>\n",
              "<style scoped>\n",
              "    .dataframe tbody tr th:only-of-type {\n",
              "        vertical-align: middle;\n",
              "    }\n",
              "\n",
              "    .dataframe tbody tr th {\n",
              "        vertical-align: top;\n",
              "    }\n",
              "\n",
              "    .dataframe thead th {\n",
              "        text-align: right;\n",
              "    }\n",
              "</style>\n",
              "<table border=\"1\" class=\"dataframe\">\n",
              "  <thead>\n",
              "    <tr style=\"text-align: right;\">\n",
              "      <th></th>\n",
              "      <th>12677</th>\n",
              "      <th>12077</th>\n",
              "      <th>9296</th>\n",
              "      <th>12692</th>\n",
              "      <th>11043</th>\n",
              "      <th>11294</th>\n",
              "      <th>4786</th>\n",
              "      <th>12721</th>\n",
              "      <th>13301</th>\n",
              "      <th>13706</th>\n",
              "      <th>...</th>\n",
              "      <th>12757</th>\n",
              "      <th>12364</th>\n",
              "      <th>13461</th>\n",
              "      <th>12237</th>\n",
              "      <th>1905</th>\n",
              "      <th>11832</th>\n",
              "      <th>11257</th>\n",
              "      <th>13201</th>\n",
              "      <th>12691</th>\n",
              "      <th>13536</th>\n",
              "    </tr>\n",
              "  </thead>\n",
              "  <tbody>\n",
              "    <tr>\n",
              "      <th>MAIN_AREA_true</th>\n",
              "      <td>1580.000000</td>\n",
              "      <td>275.000000</td>\n",
              "      <td>200.000000</td>\n",
              "      <td>952.000000</td>\n",
              "      <td>355.000000</td>\n",
              "      <td>75.000000</td>\n",
              "      <td>809.050000</td>\n",
              "      <td>720.000000</td>\n",
              "      <td>203.010000</td>\n",
              "      <td>1211.750000</td>\n",
              "      <td>...</td>\n",
              "      <td>990.000000</td>\n",
              "      <td>890.000000</td>\n",
              "      <td>570.000000</td>\n",
              "      <td>399.000000</td>\n",
              "      <td>457.000000</td>\n",
              "      <td>19100.000000</td>\n",
              "      <td>475.000000</td>\n",
              "      <td>868.220000</td>\n",
              "      <td>890.500000</td>\n",
              "      <td>270.000000</td>\n",
              "    </tr>\n",
              "    <tr>\n",
              "      <th>KNN_predictions</th>\n",
              "      <td>1638.283819</td>\n",
              "      <td>265.571429</td>\n",
              "      <td>199.369458</td>\n",
              "      <td>1010.000000</td>\n",
              "      <td>285.000000</td>\n",
              "      <td>89.357078</td>\n",
              "      <td>884.105023</td>\n",
              "      <td>751.800000</td>\n",
              "      <td>175.316243</td>\n",
              "      <td>1274.213701</td>\n",
              "      <td>...</td>\n",
              "      <td>983.119223</td>\n",
              "      <td>1146.591923</td>\n",
              "      <td>569.727273</td>\n",
              "      <td>385.037437</td>\n",
              "      <td>468.500000</td>\n",
              "      <td>18830.085928</td>\n",
              "      <td>463.888940</td>\n",
              "      <td>755.947408</td>\n",
              "      <td>828.984346</td>\n",
              "      <td>325.000000</td>\n",
              "    </tr>\n",
              "    <tr>\n",
              "      <th>Total_area</th>\n",
              "      <td>2003.000000</td>\n",
              "      <td>320.000000</td>\n",
              "      <td>258.000000</td>\n",
              "      <td>1155.000000</td>\n",
              "      <td>355.000000</td>\n",
              "      <td>90.000000</td>\n",
              "      <td>985.570000</td>\n",
              "      <td>880.000000</td>\n",
              "      <td>217.980000</td>\n",
              "      <td>1473.750000</td>\n",
              "      <td>...</td>\n",
              "      <td>1232.000000</td>\n",
              "      <td>1340.000000</td>\n",
              "      <td>600.000000</td>\n",
              "      <td>449.500000</td>\n",
              "      <td>580.000000</td>\n",
              "      <td>27400.000000</td>\n",
              "      <td>615.000000</td>\n",
              "      <td>904.970000</td>\n",
              "      <td>1027.500000</td>\n",
              "      <td>350.000000</td>\n",
              "    </tr>\n",
              "    <tr>\n",
              "      <th>LASSO_predictions</th>\n",
              "      <td>1489.141709</td>\n",
              "      <td>323.416051</td>\n",
              "      <td>227.992755</td>\n",
              "      <td>896.694570</td>\n",
              "      <td>312.739860</td>\n",
              "      <td>69.461051</td>\n",
              "      <td>775.691916</td>\n",
              "      <td>660.673746</td>\n",
              "      <td>199.829679</td>\n",
              "      <td>1116.429485</td>\n",
              "      <td>...</td>\n",
              "      <td>937.262635</td>\n",
              "      <td>1065.491613</td>\n",
              "      <td>484.170964</td>\n",
              "      <td>405.969804</td>\n",
              "      <td>460.429253</td>\n",
              "      <td>19190.746014</td>\n",
              "      <td>505.067592</td>\n",
              "      <td>698.193831</td>\n",
              "      <td>775.616092</td>\n",
              "      <td>272.584058</td>\n",
              "    </tr>\n",
              "    <tr>\n",
              "      <th>VotingRegressor_predictions</th>\n",
              "      <td>1465.311973</td>\n",
              "      <td>404.711765</td>\n",
              "      <td>316.292857</td>\n",
              "      <td>927.976219</td>\n",
              "      <td>394.952718</td>\n",
              "      <td>178.347969</td>\n",
              "      <td>815.209128</td>\n",
              "      <td>711.271468</td>\n",
              "      <td>291.972978</td>\n",
              "      <td>1118.764124</td>\n",
              "      <td>...</td>\n",
              "      <td>967.059318</td>\n",
              "      <td>1073.653145</td>\n",
              "      <td>554.992864</td>\n",
              "      <td>475.593333</td>\n",
              "      <td>531.154941</td>\n",
              "      <td>19264.902027</td>\n",
              "      <td>567.227431</td>\n",
              "      <td>750.472462</td>\n",
              "      <td>817.555761</td>\n",
              "      <td>364.531900</td>\n",
              "    </tr>\n",
              "  </tbody>\n",
              "</table>\n",
              "<p>5 rows × 850 columns</p>\n",
              "</div>\n",
              "      <button class=\"colab-df-convert\" onclick=\"convertToInteractive('df-65fc1f87-8131-43ef-9a49-e2b5b7e3d8f3')\"\n",
              "              title=\"Convert this dataframe to an interactive table.\"\n",
              "              style=\"display:none;\">\n",
              "        \n",
              "  <svg xmlns=\"http://www.w3.org/2000/svg\" height=\"24px\"viewBox=\"0 0 24 24\"\n",
              "       width=\"24px\">\n",
              "    <path d=\"M0 0h24v24H0V0z\" fill=\"none\"/>\n",
              "    <path d=\"M18.56 5.44l.94 2.06.94-2.06 2.06-.94-2.06-.94-.94-2.06-.94 2.06-2.06.94zm-11 1L8.5 8.5l.94-2.06 2.06-.94-2.06-.94L8.5 2.5l-.94 2.06-2.06.94zm10 10l.94 2.06.94-2.06 2.06-.94-2.06-.94-.94-2.06-.94 2.06-2.06.94z\"/><path d=\"M17.41 7.96l-1.37-1.37c-.4-.4-.92-.59-1.43-.59-.52 0-1.04.2-1.43.59L10.3 9.45l-7.72 7.72c-.78.78-.78 2.05 0 2.83L4 21.41c.39.39.9.59 1.41.59.51 0 1.02-.2 1.41-.59l7.78-7.78 2.81-2.81c.8-.78.8-2.07 0-2.86zM5.41 20L4 18.59l7.72-7.72 1.47 1.35L5.41 20z\"/>\n",
              "  </svg>\n",
              "      </button>\n",
              "      \n",
              "  <style>\n",
              "    .colab-df-container {\n",
              "      display:flex;\n",
              "      flex-wrap:wrap;\n",
              "      gap: 12px;\n",
              "    }\n",
              "\n",
              "    .colab-df-convert {\n",
              "      background-color: #E8F0FE;\n",
              "      border: none;\n",
              "      border-radius: 50%;\n",
              "      cursor: pointer;\n",
              "      display: none;\n",
              "      fill: #1967D2;\n",
              "      height: 32px;\n",
              "      padding: 0 0 0 0;\n",
              "      width: 32px;\n",
              "    }\n",
              "\n",
              "    .colab-df-convert:hover {\n",
              "      background-color: #E2EBFA;\n",
              "      box-shadow: 0px 1px 2px rgba(60, 64, 67, 0.3), 0px 1px 3px 1px rgba(60, 64, 67, 0.15);\n",
              "      fill: #174EA6;\n",
              "    }\n",
              "\n",
              "    [theme=dark] .colab-df-convert {\n",
              "      background-color: #3B4455;\n",
              "      fill: #D2E3FC;\n",
              "    }\n",
              "\n",
              "    [theme=dark] .colab-df-convert:hover {\n",
              "      background-color: #434B5C;\n",
              "      box-shadow: 0px 1px 3px 1px rgba(0, 0, 0, 0.15);\n",
              "      filter: drop-shadow(0px 1px 2px rgba(0, 0, 0, 0.3));\n",
              "      fill: #FFFFFF;\n",
              "    }\n",
              "  </style>\n",
              "\n",
              "      <script>\n",
              "        const buttonEl =\n",
              "          document.querySelector('#df-65fc1f87-8131-43ef-9a49-e2b5b7e3d8f3 button.colab-df-convert');\n",
              "        buttonEl.style.display =\n",
              "          google.colab.kernel.accessAllowed ? 'block' : 'none';\n",
              "\n",
              "        async function convertToInteractive(key) {\n",
              "          const element = document.querySelector('#df-65fc1f87-8131-43ef-9a49-e2b5b7e3d8f3');\n",
              "          const dataTable =\n",
              "            await google.colab.kernel.invokeFunction('convertToInteractive',\n",
              "                                                     [key], {});\n",
              "          if (!dataTable) return;\n",
              "\n",
              "          const docLinkHtml = 'Like what you see? Visit the ' +\n",
              "            '<a target=\"_blank\" href=https://colab.research.google.com/notebooks/data_table.ipynb>data table notebook</a>'\n",
              "            + ' to learn more about interactive tables.';\n",
              "          element.innerHTML = '';\n",
              "          dataTable['output_type'] = 'display_data';\n",
              "          await google.colab.output.renderOutput(dataTable, element);\n",
              "          const docLink = document.createElement('div');\n",
              "          docLink.innerHTML = docLinkHtml;\n",
              "          element.appendChild(docLink);\n",
              "        }\n",
              "      </script>\n",
              "    </div>\n",
              "  </div>\n",
              "  "
            ]
          },
          "metadata": {},
          "execution_count": 86
        }
      ]
    },
    {
      "cell_type": "code",
      "source": [
        "er_mae = mean_absolute_error(y_test, er_y_pred)\n",
        "er_mse = mean_squared_error(y_test, er_y_pred)\n",
        "er_rmse = mean_squared_error(y_test, er_y_pred, squared=False)\n",
        "er_rsquared = r2_score(y_test, er_y_pred)\n",
        "\n",
        "results_df.loc['VotingRegressor'] = [er_mae, er_mse, er_rmse, er_rsquared]\n",
        "print('Test results:')\n",
        "results_df"
      ],
      "metadata": {
        "colab": {
          "base_uri": "https://localhost:8080/",
          "height": 192
        },
        "id": "GBuMIEz5m_Pj",
        "outputId": "78b563be-363d-4f7f-e67e-689ed583278c"
      },
      "execution_count": 87,
      "outputs": [
        {
          "output_type": "stream",
          "name": "stdout",
          "text": [
            "Test results:\n"
          ]
        },
        {
          "output_type": "execute_result",
          "data": {
            "text/plain": [
              "                        MAE           MSE         RMSE  Rsquared\n",
              "Lasso            153.495646  1.160121e+05   340.605519  0.987654\n",
              "KNN              149.552192  1.226496e+05   350.213657  0.986948\n",
              "Desicion Tree    941.554204  2.448681e+06  1564.826031  0.739418\n",
              "VotingRegressor  182.650918  1.406673e+05   375.056341  0.985031"
            ],
            "text/html": [
              "\n",
              "  <div id=\"df-8ad18550-19ee-40a5-8e86-b90002a4a302\">\n",
              "    <div class=\"colab-df-container\">\n",
              "      <div>\n",
              "<style scoped>\n",
              "    .dataframe tbody tr th:only-of-type {\n",
              "        vertical-align: middle;\n",
              "    }\n",
              "\n",
              "    .dataframe tbody tr th {\n",
              "        vertical-align: top;\n",
              "    }\n",
              "\n",
              "    .dataframe thead th {\n",
              "        text-align: right;\n",
              "    }\n",
              "</style>\n",
              "<table border=\"1\" class=\"dataframe\">\n",
              "  <thead>\n",
              "    <tr style=\"text-align: right;\">\n",
              "      <th></th>\n",
              "      <th>MAE</th>\n",
              "      <th>MSE</th>\n",
              "      <th>RMSE</th>\n",
              "      <th>Rsquared</th>\n",
              "    </tr>\n",
              "  </thead>\n",
              "  <tbody>\n",
              "    <tr>\n",
              "      <th>Lasso</th>\n",
              "      <td>153.495646</td>\n",
              "      <td>1.160121e+05</td>\n",
              "      <td>340.605519</td>\n",
              "      <td>0.987654</td>\n",
              "    </tr>\n",
              "    <tr>\n",
              "      <th>KNN</th>\n",
              "      <td>149.552192</td>\n",
              "      <td>1.226496e+05</td>\n",
              "      <td>350.213657</td>\n",
              "      <td>0.986948</td>\n",
              "    </tr>\n",
              "    <tr>\n",
              "      <th>Desicion Tree</th>\n",
              "      <td>941.554204</td>\n",
              "      <td>2.448681e+06</td>\n",
              "      <td>1564.826031</td>\n",
              "      <td>0.739418</td>\n",
              "    </tr>\n",
              "    <tr>\n",
              "      <th>VotingRegressor</th>\n",
              "      <td>182.650918</td>\n",
              "      <td>1.406673e+05</td>\n",
              "      <td>375.056341</td>\n",
              "      <td>0.985031</td>\n",
              "    </tr>\n",
              "  </tbody>\n",
              "</table>\n",
              "</div>\n",
              "      <button class=\"colab-df-convert\" onclick=\"convertToInteractive('df-8ad18550-19ee-40a5-8e86-b90002a4a302')\"\n",
              "              title=\"Convert this dataframe to an interactive table.\"\n",
              "              style=\"display:none;\">\n",
              "        \n",
              "  <svg xmlns=\"http://www.w3.org/2000/svg\" height=\"24px\"viewBox=\"0 0 24 24\"\n",
              "       width=\"24px\">\n",
              "    <path d=\"M0 0h24v24H0V0z\" fill=\"none\"/>\n",
              "    <path d=\"M18.56 5.44l.94 2.06.94-2.06 2.06-.94-2.06-.94-.94-2.06-.94 2.06-2.06.94zm-11 1L8.5 8.5l.94-2.06 2.06-.94-2.06-.94L8.5 2.5l-.94 2.06-2.06.94zm10 10l.94 2.06.94-2.06 2.06-.94-2.06-.94-.94-2.06-.94 2.06-2.06.94z\"/><path d=\"M17.41 7.96l-1.37-1.37c-.4-.4-.92-.59-1.43-.59-.52 0-1.04.2-1.43.59L10.3 9.45l-7.72 7.72c-.78.78-.78 2.05 0 2.83L4 21.41c.39.39.9.59 1.41.59.51 0 1.02-.2 1.41-.59l7.78-7.78 2.81-2.81c.8-.78.8-2.07 0-2.86zM5.41 20L4 18.59l7.72-7.72 1.47 1.35L5.41 20z\"/>\n",
              "  </svg>\n",
              "      </button>\n",
              "      \n",
              "  <style>\n",
              "    .colab-df-container {\n",
              "      display:flex;\n",
              "      flex-wrap:wrap;\n",
              "      gap: 12px;\n",
              "    }\n",
              "\n",
              "    .colab-df-convert {\n",
              "      background-color: #E8F0FE;\n",
              "      border: none;\n",
              "      border-radius: 50%;\n",
              "      cursor: pointer;\n",
              "      display: none;\n",
              "      fill: #1967D2;\n",
              "      height: 32px;\n",
              "      padding: 0 0 0 0;\n",
              "      width: 32px;\n",
              "    }\n",
              "\n",
              "    .colab-df-convert:hover {\n",
              "      background-color: #E2EBFA;\n",
              "      box-shadow: 0px 1px 2px rgba(60, 64, 67, 0.3), 0px 1px 3px 1px rgba(60, 64, 67, 0.15);\n",
              "      fill: #174EA6;\n",
              "    }\n",
              "\n",
              "    [theme=dark] .colab-df-convert {\n",
              "      background-color: #3B4455;\n",
              "      fill: #D2E3FC;\n",
              "    }\n",
              "\n",
              "    [theme=dark] .colab-df-convert:hover {\n",
              "      background-color: #434B5C;\n",
              "      box-shadow: 0px 1px 3px 1px rgba(0, 0, 0, 0.15);\n",
              "      filter: drop-shadow(0px 1px 2px rgba(0, 0, 0, 0.3));\n",
              "      fill: #FFFFFF;\n",
              "    }\n",
              "  </style>\n",
              "\n",
              "      <script>\n",
              "        const buttonEl =\n",
              "          document.querySelector('#df-8ad18550-19ee-40a5-8e86-b90002a4a302 button.colab-df-convert');\n",
              "        buttonEl.style.display =\n",
              "          google.colab.kernel.accessAllowed ? 'block' : 'none';\n",
              "\n",
              "        async function convertToInteractive(key) {\n",
              "          const element = document.querySelector('#df-8ad18550-19ee-40a5-8e86-b90002a4a302');\n",
              "          const dataTable =\n",
              "            await google.colab.kernel.invokeFunction('convertToInteractive',\n",
              "                                                     [key], {});\n",
              "          if (!dataTable) return;\n",
              "\n",
              "          const docLinkHtml = 'Like what you see? Visit the ' +\n",
              "            '<a target=\"_blank\" href=https://colab.research.google.com/notebooks/data_table.ipynb>data table notebook</a>'\n",
              "            + ' to learn more about interactive tables.';\n",
              "          element.innerHTML = '';\n",
              "          dataTable['output_type'] = 'display_data';\n",
              "          await google.colab.output.renderOutput(dataTable, element);\n",
              "          const docLink = document.createElement('div');\n",
              "          docLink.innerHTML = docLinkHtml;\n",
              "          element.appendChild(docLink);\n",
              "        }\n",
              "      </script>\n",
              "    </div>\n",
              "  </div>\n",
              "  "
            ]
          },
          "metadata": {},
          "execution_count": 87
        }
      ]
    },
    {
      "cell_type": "code",
      "source": [
        "new_er_y_pred = er.predict(X_new)"
      ],
      "metadata": {
        "id": "VBW6UyBnqwM6"
      },
      "execution_count": 88,
      "outputs": []
    },
    {
      "cell_type": "code",
      "source": [
        "new_er_mae = mean_absolute_error(y_new, new_er_y_pred)\n",
        "new_er_mse = mean_squared_error(y_new, new_er_y_pred)\n",
        "new_er_rmse = mean_squared_error(y_new, new_er_y_pred, squared=False)\n",
        "new_er_rsquared = r2_score(y_new, new_er_y_pred)\n",
        "\n",
        "n_results_df.loc['VotingRegressor'] = [new_er_mae, new_er_mse, new_er_rmse, new_er_rsquared]\n",
        "print('New data results:')\n",
        "n_results_df"
      ],
      "metadata": {
        "colab": {
          "base_uri": "https://localhost:8080/",
          "height": 192
        },
        "id": "cdR1FUiTso6o",
        "outputId": "67c1ccd8-5417-4768-de28-cd6d19e33265"
      },
      "execution_count": 89,
      "outputs": [
        {
          "output_type": "stream",
          "name": "stdout",
          "text": [
            "New data results:\n"
          ]
        },
        {
          "output_type": "execute_result",
          "data": {
            "text/plain": [
              "                        MAE            MSE        RMSE  Rsquared\n",
              "Lasso            149.418082   72033.055402  268.389745  0.985921\n",
              "KNN              218.728163  134402.635171  366.609650  0.973730\n",
              "Desicion Tree    493.894101  460680.507287  678.734490  0.909958\n",
              "VotingRegressor  177.034005   69608.065277  263.833404  0.986395"
            ],
            "text/html": [
              "\n",
              "  <div id=\"df-b4e206a6-2675-447f-b989-af647b924961\">\n",
              "    <div class=\"colab-df-container\">\n",
              "      <div>\n",
              "<style scoped>\n",
              "    .dataframe tbody tr th:only-of-type {\n",
              "        vertical-align: middle;\n",
              "    }\n",
              "\n",
              "    .dataframe tbody tr th {\n",
              "        vertical-align: top;\n",
              "    }\n",
              "\n",
              "    .dataframe thead th {\n",
              "        text-align: right;\n",
              "    }\n",
              "</style>\n",
              "<table border=\"1\" class=\"dataframe\">\n",
              "  <thead>\n",
              "    <tr style=\"text-align: right;\">\n",
              "      <th></th>\n",
              "      <th>MAE</th>\n",
              "      <th>MSE</th>\n",
              "      <th>RMSE</th>\n",
              "      <th>Rsquared</th>\n",
              "    </tr>\n",
              "  </thead>\n",
              "  <tbody>\n",
              "    <tr>\n",
              "      <th>Lasso</th>\n",
              "      <td>149.418082</td>\n",
              "      <td>72033.055402</td>\n",
              "      <td>268.389745</td>\n",
              "      <td>0.985921</td>\n",
              "    </tr>\n",
              "    <tr>\n",
              "      <th>KNN</th>\n",
              "      <td>218.728163</td>\n",
              "      <td>134402.635171</td>\n",
              "      <td>366.609650</td>\n",
              "      <td>0.973730</td>\n",
              "    </tr>\n",
              "    <tr>\n",
              "      <th>Desicion Tree</th>\n",
              "      <td>493.894101</td>\n",
              "      <td>460680.507287</td>\n",
              "      <td>678.734490</td>\n",
              "      <td>0.909958</td>\n",
              "    </tr>\n",
              "    <tr>\n",
              "      <th>VotingRegressor</th>\n",
              "      <td>177.034005</td>\n",
              "      <td>69608.065277</td>\n",
              "      <td>263.833404</td>\n",
              "      <td>0.986395</td>\n",
              "    </tr>\n",
              "  </tbody>\n",
              "</table>\n",
              "</div>\n",
              "      <button class=\"colab-df-convert\" onclick=\"convertToInteractive('df-b4e206a6-2675-447f-b989-af647b924961')\"\n",
              "              title=\"Convert this dataframe to an interactive table.\"\n",
              "              style=\"display:none;\">\n",
              "        \n",
              "  <svg xmlns=\"http://www.w3.org/2000/svg\" height=\"24px\"viewBox=\"0 0 24 24\"\n",
              "       width=\"24px\">\n",
              "    <path d=\"M0 0h24v24H0V0z\" fill=\"none\"/>\n",
              "    <path d=\"M18.56 5.44l.94 2.06.94-2.06 2.06-.94-2.06-.94-.94-2.06-.94 2.06-2.06.94zm-11 1L8.5 8.5l.94-2.06 2.06-.94-2.06-.94L8.5 2.5l-.94 2.06-2.06.94zm10 10l.94 2.06.94-2.06 2.06-.94-2.06-.94-.94-2.06-.94 2.06-2.06.94z\"/><path d=\"M17.41 7.96l-1.37-1.37c-.4-.4-.92-.59-1.43-.59-.52 0-1.04.2-1.43.59L10.3 9.45l-7.72 7.72c-.78.78-.78 2.05 0 2.83L4 21.41c.39.39.9.59 1.41.59.51 0 1.02-.2 1.41-.59l7.78-7.78 2.81-2.81c.8-.78.8-2.07 0-2.86zM5.41 20L4 18.59l7.72-7.72 1.47 1.35L5.41 20z\"/>\n",
              "  </svg>\n",
              "      </button>\n",
              "      \n",
              "  <style>\n",
              "    .colab-df-container {\n",
              "      display:flex;\n",
              "      flex-wrap:wrap;\n",
              "      gap: 12px;\n",
              "    }\n",
              "\n",
              "    .colab-df-convert {\n",
              "      background-color: #E8F0FE;\n",
              "      border: none;\n",
              "      border-radius: 50%;\n",
              "      cursor: pointer;\n",
              "      display: none;\n",
              "      fill: #1967D2;\n",
              "      height: 32px;\n",
              "      padding: 0 0 0 0;\n",
              "      width: 32px;\n",
              "    }\n",
              "\n",
              "    .colab-df-convert:hover {\n",
              "      background-color: #E2EBFA;\n",
              "      box-shadow: 0px 1px 2px rgba(60, 64, 67, 0.3), 0px 1px 3px 1px rgba(60, 64, 67, 0.15);\n",
              "      fill: #174EA6;\n",
              "    }\n",
              "\n",
              "    [theme=dark] .colab-df-convert {\n",
              "      background-color: #3B4455;\n",
              "      fill: #D2E3FC;\n",
              "    }\n",
              "\n",
              "    [theme=dark] .colab-df-convert:hover {\n",
              "      background-color: #434B5C;\n",
              "      box-shadow: 0px 1px 3px 1px rgba(0, 0, 0, 0.15);\n",
              "      filter: drop-shadow(0px 1px 2px rgba(0, 0, 0, 0.3));\n",
              "      fill: #FFFFFF;\n",
              "    }\n",
              "  </style>\n",
              "\n",
              "      <script>\n",
              "        const buttonEl =\n",
              "          document.querySelector('#df-b4e206a6-2675-447f-b989-af647b924961 button.colab-df-convert');\n",
              "        buttonEl.style.display =\n",
              "          google.colab.kernel.accessAllowed ? 'block' : 'none';\n",
              "\n",
              "        async function convertToInteractive(key) {\n",
              "          const element = document.querySelector('#df-b4e206a6-2675-447f-b989-af647b924961');\n",
              "          const dataTable =\n",
              "            await google.colab.kernel.invokeFunction('convertToInteractive',\n",
              "                                                     [key], {});\n",
              "          if (!dataTable) return;\n",
              "\n",
              "          const docLinkHtml = 'Like what you see? Visit the ' +\n",
              "            '<a target=\"_blank\" href=https://colab.research.google.com/notebooks/data_table.ipynb>data table notebook</a>'\n",
              "            + ' to learn more about interactive tables.';\n",
              "          element.innerHTML = '';\n",
              "          dataTable['output_type'] = 'display_data';\n",
              "          await google.colab.output.renderOutput(dataTable, element);\n",
              "          const docLink = document.createElement('div');\n",
              "          docLink.innerHTML = docLinkHtml;\n",
              "          element.appendChild(docLink);\n",
              "        }\n",
              "      </script>\n",
              "    </div>\n",
              "  </div>\n",
              "  "
            ]
          },
          "metadata": {},
          "execution_count": 89
        }
      ]
    },
    {
      "cell_type": "markdown",
      "source": [
        "מודל VotingRegressor הוביל לשיפור במדד MSE אבל פחות טוב במדד MAE. <BR> כלומר בשטחים הקטנים המודל Lasso מדויק יותר."
      ],
      "metadata": {
        "id": "JhCWELg1wPlp"
      }
    }
  ]
}