{
  "nbformat": 4,
  "nbformat_minor": 0,
  "metadata": {
    "colab": {
      "name": "DetailedResidencePlans.ipynb",
      "provenance": [],
      "toc_visible": true,
      "include_colab_link": true
    },
    "kernelspec": {
      "name": "python3",
      "display_name": "Python 3"
    },
    "language_info": {
      "name": "python"
    }
  },
  "cells": [
    {
      "cell_type": "markdown",
      "metadata": {
        "id": "view-in-github",
        "colab_type": "text"
      },
      "source": [
        "<a href=\"https://colab.research.google.com/github/mannmoshe/machine-learning/blob/main/FinalProject/DetailedResidencePlans_Hebrew.ipynb\" target=\"_parent\"><img src=\"https://colab.research.google.com/assets/colab-badge.svg\" alt=\"Open In Colab\"/></a>"
      ]
    },
    {
      "cell_type": "markdown",
      "source": [
        "# פרויקט Machine Learning - תוכניות מגורים מפורטות<br>*מאת משה מן*"
      ],
      "metadata": {
        "id": "ZEjIPay33abT"
      }
    },
    {
      "cell_type": "markdown",
      "source": [
        "**סקירה כללית**<br>\n",
        "מינהל התכנון מטפל בין השאר בתוכניות בנייה מפורטות.<BR>כל תכנית מפורטת מכילה נתונים רבים,<BR> הנתונים שנתמקד בהם בפרויקט זה הם נתוני תכניות מגורים.<BR><BR> כל בניין מתחלק לשטח ראשי ושטח שירות<BR>שטח ראשי הוא השטח שחולק בין הדיירים, כמו הדירות<BR>ושטח השירות הוא שטח המשותף לכל הדיירים, כמו חניה, חדר מדרגות ועוד.<BR><BR>\n",
        "בעתיד הקרוב נתוני התוכניות לא יכללו את החלוקה בין אזור ראשי לשירות, כי זה לא חשוב לרשות כיחידה תכנונית, <BR>אבל עדיין, זה נתון חשוב לרגולציה, למשל בשביל חישוב הארנונה.<BR><BR> מטרת הפרויקט הוא לחזות את היחס בין שטח עיקרי לשטח שירות על סמך תכונות תא השטח והתוכנית, כך שניתן יהיה להשתמש במודל למטרות רגולטוריות.\n",
        "\n"
      ],
      "metadata": {
        "id": "pcfRRxNVLaMm"
      }
    },
    {
      "cell_type": "markdown",
      "source": [
        "ניתן לראות את הפרטים והמסמכים של התוכנית בכתובת:<br>\n",
        "https://mavat.moin.gov.il/MavatPS/Forms/SV3.aspx?tid=3<br>\n",
        "על ידי הזנת ה-PL_NUMBER.<BR>\n",
        "נתוני שטח עיקרי ושירות נמצאים בקובץ הוראות תוכנית."
      ],
      "metadata": {
        "id": "Ylpcw-6ojLcj"
      }
    },
    {
      "cell_type": "markdown",
      "source": [
        "ייבוא הנתונים:"
      ],
      "metadata": {
        "id": "RNO9c8MSV1kV"
      }
    },
    {
      "cell_type": "code",
      "execution_count": 66,
      "metadata": {
        "id": "_E9eo8uh3ZkZ"
      },
      "outputs": [],
      "source": [
        "import pandas as pd\n",
        "import seaborn as sns; sns.set()\n",
        "import warnings\n",
        "warnings.filterwarnings('ignore')"
      ]
    },
    {
      "cell_type": "code",
      "source": [
        "cellsdata = pd.read_csv('https://raw.githubusercontent.com/mannmoshe/machine-learning/main/FinalProject/cellsData.csv')"
      ],
      "metadata": {
        "id": "ZqjZVz1jUDLC"
      },
      "execution_count": 67,
      "outputs": []
    },
    {
      "cell_type": "markdown",
      "source": [
        "הנתונים הם של תוכניות מפורטות עם אזור מגורים שאושרו בין ינואר 2017 לנובמבר 2021.\n",
        "### רשימת השדות\n",
        "\n",
        "<table>\n",
        "  <tbody>\n",
        "    <tr valign=\"top\">\n",
        "      <td valign=\"top\">\n",
        "        <ul>\n",
        "          <li>PL_NUMBER : מספר התוכנית</li>\n",
        "          <br>\n",
        "          <li>PL_AREA: מספר התוכנית משורשר למספר של תא שטח (לתכנית יכולים להיות כמה תאי שטח)</li>\n",
        "          <br>\n",
        "          <li>LANDUSE: שימוש בקרקע</li>\n",
        "          <br>\n",
        "          <li>MAIN_AREA: שטח מחולק בין הדיירים מעל הכניסה הקובעת (מטר מרובע)<br>זהו המשתנה התלוי שצריך לחזות!</li>\n",
        "          <br>\n",
        "          <li>SERVICE_AREA: אזור משותף של כל הדיירים מעל הכניסה הקובעת (מטר מרובע)</li>\n",
        "          <br>\n",
        "          <li>CELL_SIZE_TOTAL: הגודל של תא שטח</li>\n",
        "          <br>\n",
        "          <li>CELL_SIZE_MIN: הגודל המינימלי של תא שטח</li>\n",
        "          <br>\n",
        "          <li>CELL_SIZE_MAX: הגודל המרבי של תא שטח</li>\n",
        "          <br>\n",
        "          <li>HOUSING_UNITS: מספר יחידות דיור</li>\n",
        "          <br>\n",
        "          <li>BUILDING_HEIGHT: גובה הבניין (מטר)</li>\n",
        "          <br>\n",
        "          <li>FLOORS_NUM: מספר הקומות</li>\n",
        "          <br>\n",
        "          <li>TOTAL_AREA: סכום השטח הראשי ואזור השירות</li>\n",
        "          <br>\n",
        "          <li>AUTHORITY: סמכות התוכנית</li>\n",
        "          <br>\n",
        "          <li>DISTRICT: מחוז התוכנית</li>\n",
        "          <br>\n",
        "          <li>SECTOR_GROUP: מגזר התוכנית</li>\n",
        "          <br>\n",
        "          <li>CONFIRMATION_YEAR: שנת אישור התוכנית</li>\n",
        "          <br>\n",
        "          <li>CONSTRUCTION_TYPE_GROUP: סוג הבנייה</li>\n",
        "        </ul>\n",
        "      </td>\n",
        "    </tr>\n",
        "    \n",
        "  </tbody>\n",
        "</table>"
      ],
      "metadata": {
        "id": "cDWHufahSZIJ"
      }
    },
    {
      "cell_type": "code",
      "source": [
        "cellsdata.shape"
      ],
      "metadata": {
        "colab": {
          "base_uri": "https://localhost:8080/"
        },
        "id": "_eEhtbV44F46",
        "outputId": "7dc0acec-cf94-4cde-e467-9155214f6942"
      },
      "execution_count": 68,
      "outputs": [
        {
          "output_type": "execute_result",
          "data": {
            "text/plain": [
              "(13709, 17)"
            ]
          },
          "metadata": {},
          "execution_count": 68
        }
      ]
    },
    {
      "cell_type": "markdown",
      "source": [
        "הנתונים מורכבים מ-13,709 שורות (כאשר כל שורה מייצגת תא שטח) ו-17 עמודות."
      ],
      "metadata": {
        "id": "I-oF9IVvaaeu"
      }
    },
    {
      "cell_type": "markdown",
      "source": [
        "נראה את סוג הנתונים (data type):"
      ],
      "metadata": {
        "id": "BZ44r2yVe2Lo"
      }
    },
    {
      "cell_type": "code",
      "source": [
        "cellsdata.info()"
      ],
      "metadata": {
        "colab": {
          "base_uri": "https://localhost:8080/"
        },
        "id": "K3gjPDzb4yoy",
        "outputId": "bcbea9ab-b83e-4773-ce65-5c7b2b8a58b5"
      },
      "execution_count": 69,
      "outputs": [
        {
          "output_type": "stream",
          "name": "stdout",
          "text": [
            "<class 'pandas.core.frame.DataFrame'>\n",
            "RangeIndex: 13709 entries, 0 to 13708\n",
            "Data columns (total 17 columns):\n",
            " #   Column                   Non-Null Count  Dtype  \n",
            "---  ------                   --------------  -----  \n",
            " 0   PL_NUMBER                13709 non-null  object \n",
            " 1   PL_AREA                  13709 non-null  object \n",
            " 2   LANDUSE                  13709 non-null  object \n",
            " 3   MAIN_AREA                13709 non-null  float64\n",
            " 4   SERVICE_AREA             13709 non-null  float64\n",
            " 5   CELL_SIZE_TOTAL          13709 non-null  float64\n",
            " 6   CELL_SIZE_MIN            13709 non-null  float64\n",
            " 7   CELL_SIZE_MAX            13709 non-null  float64\n",
            " 8   HOUSING_UNITS            13709 non-null  float64\n",
            " 9   BUILDING_HEIGHT          13709 non-null  float64\n",
            " 10  FLOORS_NUM               13709 non-null  float64\n",
            " 11  TOTAL_AREA               13709 non-null  float64\n",
            " 12  AUTHORITY                13709 non-null  object \n",
            " 13  DISTRICT                 13709 non-null  object \n",
            " 14  SECTOR_GROUP             13709 non-null  object \n",
            " 15  CONFIRMATION_YEAR        13709 non-null  int64  \n",
            " 16  CONSTRUCTION_TYPE_GROUP  13704 non-null  object \n",
            "dtypes: float64(9), int64(1), object(7)\n",
            "memory usage: 1.8+ MB\n"
          ]
        }
      ]
    },
    {
      "cell_type": "markdown",
      "source": [
        "## Data Preprocessing"
      ],
      "metadata": {
        "id": "0P1kMNgmnqvp"
      }
    },
    {
      "cell_type": "markdown",
      "source": [
        "כעת נייצר עמודה נוספת בכדי לבדוק מהו אחוז השטח העיקרי"
      ],
      "metadata": {
        "id": "QpP-ELM9gGza"
      }
    },
    {
      "cell_type": "code",
      "source": [
        "cellsdata['MAIN_AREA_PER'] = cellsdata['MAIN_AREA'] / cellsdata['TOTAL_AREA']"
      ],
      "metadata": {
        "id": "qL3zuU0wgF0Z"
      },
      "execution_count": 70,
      "outputs": []
    },
    {
      "cell_type": "markdown",
      "source": [
        "כמעט כל תכנית מורכבת משטחים מרובים, ובדרך כלל תכונות השטח של אותה תכנית דומות מאוד, עובדה זו עשויה לתת השפעה עודפת לתכנית ספציפית; <br>למשל תכנית שיש לה 100 תאי שטח שבכולם אחוז שטח העיקרי הוא 80% תשפיע על הממוצע יותר מתכנית עם תא שטח בודד שבה השטח העיקרי הוא 60% <br>לכן אקח רק את השטח הראשון של כל תכנית."
      ],
      "metadata": {
        "id": "6JIi8ZdCbmFN"
      }
    },
    {
      "cell_type": "code",
      "source": [
        "data = cellsdata.drop_duplicates(subset=\"PL_NUMBER\", keep=\"first\")\n",
        "data.shape"
      ],
      "metadata": {
        "colab": {
          "base_uri": "https://localhost:8080/"
        },
        "id": "UTJXt5xKbtjb",
        "outputId": "635cd587-c4fe-4f7b-bef4-bd4446d9a4d2"
      },
      "execution_count": 71,
      "outputs": [
        {
          "output_type": "execute_result",
          "data": {
            "text/plain": [
              "(2582, 18)"
            ]
          },
          "metadata": {},
          "execution_count": 71
        }
      ]
    },
    {
      "cell_type": "markdown",
      "source": [
        "נותרנו עם 2,582 תכניות, כאשר לכל תכנית יש תא שטח יחיד שמייצג אותה.\n",
        "הנה חלק מהנתונים לדוגמא:"
      ],
      "metadata": {
        "id": "WUbGDbcma8Ux"
      }
    },
    {
      "cell_type": "code",
      "source": [
        "data.head(3)"
      ],
      "metadata": {
        "colab": {
          "base_uri": "https://localhost:8080/",
          "height": 294
        },
        "id": "NkyXW97Z4IrB",
        "outputId": "e9d174c2-6a75-4a51-f5d3-2537c94a1bb8"
      },
      "execution_count": 72,
      "outputs": [
        {
          "output_type": "execute_result",
          "data": {
            "text/plain": [
              "      PL_NUMBER          PL_AREA LANDUSE  MAIN_AREA  SERVICE_AREA  \\\n",
              "0   610-0197038  610-0197038-102  מגורים      975.0         300.0   \n",
              "2   151-0392894  151-0392894-210  מגורים      960.0         180.0   \n",
              "73    תמל/ 1049    תמל/ 1049-123  מגורים      152.0          48.0   \n",
              "\n",
              "    CELL_SIZE_TOTAL  CELL_SIZE_MIN  CELL_SIZE_MAX  HOUSING_UNITS  \\\n",
              "0            2466.0            0.0            0.0           16.0   \n",
              "2            2820.0            0.0            0.0            6.0   \n",
              "73            420.0            0.0            0.0            1.0   \n",
              "\n",
              "    BUILDING_HEIGHT  FLOORS_NUM  TOTAL_AREA AUTHORITY DISTRICT  \\\n",
              "0              11.0         2.0      1275.0    מחוזית     דרום   \n",
              "2              17.0         4.0      1140.0    מחוזית  ירושלים   \n",
              "73              0.0         2.0       200.0     ארצית     מרכז   \n",
              "\n",
              "           SECTOR_GROUP  CONFIRMATION_YEAR CONSTRUCTION_TYPE_GROUP  \\\n",
              "0   חברה כללית / מעורבת               2017                    חדשה   \n",
              "2   חברה כללית / מעורבת               2017                 התחדשות   \n",
              "73  חברה כללית / מעורבת               2019                    חדשה   \n",
              "\n",
              "    MAIN_AREA_PER  \n",
              "0        0.764706  \n",
              "2        0.842105  \n",
              "73       0.760000  "
            ],
            "text/html": [
              "\n",
              "  <div id=\"df-7ea4aee6-eefd-481b-8b2b-45742e4456d5\">\n",
              "    <div class=\"colab-df-container\">\n",
              "      <div>\n",
              "<style scoped>\n",
              "    .dataframe tbody tr th:only-of-type {\n",
              "        vertical-align: middle;\n",
              "    }\n",
              "\n",
              "    .dataframe tbody tr th {\n",
              "        vertical-align: top;\n",
              "    }\n",
              "\n",
              "    .dataframe thead th {\n",
              "        text-align: right;\n",
              "    }\n",
              "</style>\n",
              "<table border=\"1\" class=\"dataframe\">\n",
              "  <thead>\n",
              "    <tr style=\"text-align: right;\">\n",
              "      <th></th>\n",
              "      <th>PL_NUMBER</th>\n",
              "      <th>PL_AREA</th>\n",
              "      <th>LANDUSE</th>\n",
              "      <th>MAIN_AREA</th>\n",
              "      <th>SERVICE_AREA</th>\n",
              "      <th>CELL_SIZE_TOTAL</th>\n",
              "      <th>CELL_SIZE_MIN</th>\n",
              "      <th>CELL_SIZE_MAX</th>\n",
              "      <th>HOUSING_UNITS</th>\n",
              "      <th>BUILDING_HEIGHT</th>\n",
              "      <th>FLOORS_NUM</th>\n",
              "      <th>TOTAL_AREA</th>\n",
              "      <th>AUTHORITY</th>\n",
              "      <th>DISTRICT</th>\n",
              "      <th>SECTOR_GROUP</th>\n",
              "      <th>CONFIRMATION_YEAR</th>\n",
              "      <th>CONSTRUCTION_TYPE_GROUP</th>\n",
              "      <th>MAIN_AREA_PER</th>\n",
              "    </tr>\n",
              "  </thead>\n",
              "  <tbody>\n",
              "    <tr>\n",
              "      <th>0</th>\n",
              "      <td>610-0197038</td>\n",
              "      <td>610-0197038-102</td>\n",
              "      <td>מגורים</td>\n",
              "      <td>975.0</td>\n",
              "      <td>300.0</td>\n",
              "      <td>2466.0</td>\n",
              "      <td>0.0</td>\n",
              "      <td>0.0</td>\n",
              "      <td>16.0</td>\n",
              "      <td>11.0</td>\n",
              "      <td>2.0</td>\n",
              "      <td>1275.0</td>\n",
              "      <td>מחוזית</td>\n",
              "      <td>דרום</td>\n",
              "      <td>חברה כללית / מעורבת</td>\n",
              "      <td>2017</td>\n",
              "      <td>חדשה</td>\n",
              "      <td>0.764706</td>\n",
              "    </tr>\n",
              "    <tr>\n",
              "      <th>2</th>\n",
              "      <td>151-0392894</td>\n",
              "      <td>151-0392894-210</td>\n",
              "      <td>מגורים</td>\n",
              "      <td>960.0</td>\n",
              "      <td>180.0</td>\n",
              "      <td>2820.0</td>\n",
              "      <td>0.0</td>\n",
              "      <td>0.0</td>\n",
              "      <td>6.0</td>\n",
              "      <td>17.0</td>\n",
              "      <td>4.0</td>\n",
              "      <td>1140.0</td>\n",
              "      <td>מחוזית</td>\n",
              "      <td>ירושלים</td>\n",
              "      <td>חברה כללית / מעורבת</td>\n",
              "      <td>2017</td>\n",
              "      <td>התחדשות</td>\n",
              "      <td>0.842105</td>\n",
              "    </tr>\n",
              "    <tr>\n",
              "      <th>73</th>\n",
              "      <td>תמל/ 1049</td>\n",
              "      <td>תמל/ 1049-123</td>\n",
              "      <td>מגורים</td>\n",
              "      <td>152.0</td>\n",
              "      <td>48.0</td>\n",
              "      <td>420.0</td>\n",
              "      <td>0.0</td>\n",
              "      <td>0.0</td>\n",
              "      <td>1.0</td>\n",
              "      <td>0.0</td>\n",
              "      <td>2.0</td>\n",
              "      <td>200.0</td>\n",
              "      <td>ארצית</td>\n",
              "      <td>מרכז</td>\n",
              "      <td>חברה כללית / מעורבת</td>\n",
              "      <td>2019</td>\n",
              "      <td>חדשה</td>\n",
              "      <td>0.760000</td>\n",
              "    </tr>\n",
              "  </tbody>\n",
              "</table>\n",
              "</div>\n",
              "      <button class=\"colab-df-convert\" onclick=\"convertToInteractive('df-7ea4aee6-eefd-481b-8b2b-45742e4456d5')\"\n",
              "              title=\"Convert this dataframe to an interactive table.\"\n",
              "              style=\"display:none;\">\n",
              "        \n",
              "  <svg xmlns=\"http://www.w3.org/2000/svg\" height=\"24px\"viewBox=\"0 0 24 24\"\n",
              "       width=\"24px\">\n",
              "    <path d=\"M0 0h24v24H0V0z\" fill=\"none\"/>\n",
              "    <path d=\"M18.56 5.44l.94 2.06.94-2.06 2.06-.94-2.06-.94-.94-2.06-.94 2.06-2.06.94zm-11 1L8.5 8.5l.94-2.06 2.06-.94-2.06-.94L8.5 2.5l-.94 2.06-2.06.94zm10 10l.94 2.06.94-2.06 2.06-.94-2.06-.94-.94-2.06-.94 2.06-2.06.94z\"/><path d=\"M17.41 7.96l-1.37-1.37c-.4-.4-.92-.59-1.43-.59-.52 0-1.04.2-1.43.59L10.3 9.45l-7.72 7.72c-.78.78-.78 2.05 0 2.83L4 21.41c.39.39.9.59 1.41.59.51 0 1.02-.2 1.41-.59l7.78-7.78 2.81-2.81c.8-.78.8-2.07 0-2.86zM5.41 20L4 18.59l7.72-7.72 1.47 1.35L5.41 20z\"/>\n",
              "  </svg>\n",
              "      </button>\n",
              "      \n",
              "  <style>\n",
              "    .colab-df-container {\n",
              "      display:flex;\n",
              "      flex-wrap:wrap;\n",
              "      gap: 12px;\n",
              "    }\n",
              "\n",
              "    .colab-df-convert {\n",
              "      background-color: #E8F0FE;\n",
              "      border: none;\n",
              "      border-radius: 50%;\n",
              "      cursor: pointer;\n",
              "      display: none;\n",
              "      fill: #1967D2;\n",
              "      height: 32px;\n",
              "      padding: 0 0 0 0;\n",
              "      width: 32px;\n",
              "    }\n",
              "\n",
              "    .colab-df-convert:hover {\n",
              "      background-color: #E2EBFA;\n",
              "      box-shadow: 0px 1px 2px rgba(60, 64, 67, 0.3), 0px 1px 3px 1px rgba(60, 64, 67, 0.15);\n",
              "      fill: #174EA6;\n",
              "    }\n",
              "\n",
              "    [theme=dark] .colab-df-convert {\n",
              "      background-color: #3B4455;\n",
              "      fill: #D2E3FC;\n",
              "    }\n",
              "\n",
              "    [theme=dark] .colab-df-convert:hover {\n",
              "      background-color: #434B5C;\n",
              "      box-shadow: 0px 1px 3px 1px rgba(0, 0, 0, 0.15);\n",
              "      filter: drop-shadow(0px 1px 2px rgba(0, 0, 0, 0.3));\n",
              "      fill: #FFFFFF;\n",
              "    }\n",
              "  </style>\n",
              "\n",
              "      <script>\n",
              "        const buttonEl =\n",
              "          document.querySelector('#df-7ea4aee6-eefd-481b-8b2b-45742e4456d5 button.colab-df-convert');\n",
              "        buttonEl.style.display =\n",
              "          google.colab.kernel.accessAllowed ? 'block' : 'none';\n",
              "\n",
              "        async function convertToInteractive(key) {\n",
              "          const element = document.querySelector('#df-7ea4aee6-eefd-481b-8b2b-45742e4456d5');\n",
              "          const dataTable =\n",
              "            await google.colab.kernel.invokeFunction('convertToInteractive',\n",
              "                                                     [key], {});\n",
              "          if (!dataTable) return;\n",
              "\n",
              "          const docLinkHtml = 'Like what you see? Visit the ' +\n",
              "            '<a target=\"_blank\" href=https://colab.research.google.com/notebooks/data_table.ipynb>data table notebook</a>'\n",
              "            + ' to learn more about interactive tables.';\n",
              "          element.innerHTML = '';\n",
              "          dataTable['output_type'] = 'display_data';\n",
              "          await google.colab.output.renderOutput(dataTable, element);\n",
              "          const docLink = document.createElement('div');\n",
              "          docLink.innerHTML = docLinkHtml;\n",
              "          element.appendChild(docLink);\n",
              "        }\n",
              "      </script>\n",
              "    </div>\n",
              "  </div>\n",
              "  "
            ]
          },
          "metadata": {},
          "execution_count": 72
        }
      ]
    },
    {
      "cell_type": "markdown",
      "source": [
        "נחשב את אחוז השטח העיקרי הממוצע:"
      ],
      "metadata": {
        "id": "dWTv_DkRgzeY"
      }
    },
    {
      "cell_type": "code",
      "source": [
        "data['MAIN_AREA_PER'].mean()"
      ],
      "metadata": {
        "colab": {
          "base_uri": "https://localhost:8080/"
        },
        "id": "H7cwIFMugymg",
        "outputId": "ed189518-30cc-44f4-afbb-5fa167e93039"
      },
      "execution_count": 73,
      "outputs": [
        {
          "output_type": "execute_result",
          "data": {
            "text/plain": [
              "0.8183585634216552"
            ]
          },
          "metadata": {},
          "execution_count": 73
        }
      ]
    },
    {
      "cell_type": "code",
      "source": [
        "sns.histplot(data=data, x=\"MAIN_AREA_PER\", bins=50, kde=True)"
      ],
      "metadata": {
        "id": "3Te7SoWRVumj",
        "outputId": "1e10ac42-23e1-4d1f-9743-33adfd3962ea",
        "colab": {
          "base_uri": "https://localhost:8080/",
          "height": 302
        }
      },
      "execution_count": 110,
      "outputs": [
        {
          "output_type": "execute_result",
          "data": {
            "text/plain": [
              "<matplotlib.axes._subplots.AxesSubplot at 0x7f712d6f2f90>"
            ]
          },
          "metadata": {},
          "execution_count": 110
        },
        {
          "output_type": "display_data",
          "data": {
            "text/plain": [
              "<Figure size 432x288 with 1 Axes>"
            ],
            "image/png": "[encoded data removed]"
          },
          "metadata": {}
        }
      ]
    },
    {
      "cell_type": "markdown",
      "source": [
        "## Feature engineering"
      ],
      "metadata": {
        "id": "LJlJP1_4j51y"
      }
    },
    {
      "cell_type": "markdown",
      "source": [
        "### שדות קטגוריים"
      ],
      "metadata": {
        "id": "trslP-Ei_vNW"
      }
    },
    {
      "cell_type": "markdown",
      "source": [
        "ראשית נוסיף עמודה שתבדוק האם תכנית היא תמ\"ל או לא."
      ],
      "metadata": {
        "id": "3OaXwH0ElbkQ"
      }
    },
    {
      "cell_type": "code",
      "source": [
        "data['PL_NUMBER'].str.contains('תמל').sum()"
      ],
      "metadata": {
        "id": "AdkVmcDY-JYg",
        "outputId": "96740395-76e2-4604-de8b-8e6f513cfbe2",
        "colab": {
          "base_uri": "https://localhost:8080/"
        }
      },
      "execution_count": 74,
      "outputs": [
        {
          "output_type": "execute_result",
          "data": {
            "text/plain": [
              "60"
            ]
          },
          "metadata": {},
          "execution_count": 74
        }
      ]
    },
    {
      "cell_type": "code",
      "source": [
        "data['IS_TAMAL'] = data['PL_NUMBER'].apply(lambda x: 1 if 'תמל' in x else 0)\n",
        "data['IS_TAMAL'].value_counts()"
      ],
      "metadata": {
        "id": "-3nG8IKs-Wzt",
        "outputId": "e96eeefe-9ac1-46d9-a8dd-0fd3d4d06010",
        "colab": {
          "base_uri": "https://localhost:8080/"
        }
      },
      "execution_count": 75,
      "outputs": [
        {
          "output_type": "execute_result",
          "data": {
            "text/plain": [
              "0    2522\n",
              "1      60\n",
              "Name: IS_TAMAL, dtype: int64"
            ]
          },
          "metadata": {},
          "execution_count": 75
        }
      ]
    },
    {
      "cell_type": "markdown",
      "source": [
        "ישנן 60 תכניות תמ\"ל בלבד וכעת יש לנו סיווג שלהן."
      ],
      "metadata": {
        "id": "3Ajxdhj5l74C"
      }
    },
    {
      "cell_type": "markdown",
      "source": [
        "כעת נבחן אילו שימושי קרקע קיימים:"
      ],
      "metadata": {
        "id": "W5MBmFOlly1J"
      }
    },
    {
      "cell_type": "code",
      "source": [
        "data['LANDUSE'].value_counts()"
      ],
      "metadata": {
        "id": "xEvBQ5894ZiK",
        "colab": {
          "base_uri": "https://localhost:8080/"
        },
        "outputId": "c0815fab-738d-48cc-b424-4385ba16d332"
      },
      "execution_count": 76,
      "outputs": [
        {
          "output_type": "execute_result",
          "data": {
            "text/plain": [
              "מגורים                                2444\n",
              "מגורים ומסחר                            66\n",
              "מגורים מסחר ותעסוקה                     36\n",
              "מגורים ומבנים ומוסדות ציבור              6\n",
              "מגורים מסחר ותיירות                      6\n",
              "מגורים מסחר ומבנים ומוסדות ציבור         5\n",
              "מגורים תעסוקה ותיירות                    5\n",
              "מגורים ודיור מיוחד                       3\n",
              "מגורים ותיירות                           2\n",
              "מגורים מסחר ותחבורה                      2\n",
              "מגורים ומשרדים                           2\n",
              "תתתת מגורים ב                            2\n",
              "מגורים ותחבורה                           1\n",
              "מגורים תיירות ומבנים ומוסדות ציבור       1\n",
              "מגורים ואירוח כפרי                       1\n",
              "Name: LANDUSE, dtype: int64"
            ]
          },
          "metadata": {},
          "execution_count": 76
        }
      ]
    },
    {
      "cell_type": "markdown",
      "source": [
        "הרוב המוחלט - מגורים, את כל השאר נאחד לקטגוריה אחת שתיקרא: מגורים משולב"
      ],
      "metadata": {
        "id": "DzUA75zsmIoM"
      }
    },
    {
      "cell_type": "code",
      "source": [
        "data['LANDUSE'] = data['LANDUSE'].mask(data['LANDUSE'] != 'מגורים', 'מגורים משולב')"
      ],
      "metadata": {
        "id": "AkzEvXcm9AZ4"
      },
      "execution_count": 77,
      "outputs": []
    },
    {
      "cell_type": "code",
      "source": [
        "data['LANDUSE'].value_counts()"
      ],
      "metadata": {
        "colab": {
          "base_uri": "https://localhost:8080/"
        },
        "id": "Zo7e6x6g9gHu",
        "outputId": "7dd04983-7a00-4efc-f316-17daefa43d06"
      },
      "execution_count": 78,
      "outputs": [
        {
          "output_type": "execute_result",
          "data": {
            "text/plain": [
              "מגורים          2444\n",
              "מגורים משולב     138\n",
              "Name: LANDUSE, dtype: int64"
            ]
          },
          "metadata": {},
          "execution_count": 78
        }
      ]
    },
    {
      "cell_type": "markdown",
      "source": [
        "נטפל בערכים חסרים:"
      ],
      "metadata": {
        "id": "lkjK98aq7qZc"
      }
    },
    {
      "cell_type": "code",
      "source": [
        "data['SECTOR_GROUP'].value_counts()"
      ],
      "metadata": {
        "colab": {
          "base_uri": "https://localhost:8080/"
        },
        "id": "DR9DccM06qHU",
        "outputId": "bb54abe2-bf24-4b2b-a83f-1d62e8780b7e"
      },
      "execution_count": 79,
      "outputs": [
        {
          "output_type": "execute_result",
          "data": {
            "text/plain": [
              "חברה ערבית             1273\n",
              "חברה כללית / מעורבת    1043\n",
              "חברה חרדית              207\n",
              "(חסר)                    59\n",
              "Name: SECTOR_GROUP, dtype: int64"
            ]
          },
          "metadata": {},
          "execution_count": 79
        }
      ]
    },
    {
      "cell_type": "markdown",
      "source": [
        "ניתן להניח שאפשר לשייך את הסקטור החסר לחברה כללית כי זוהי קטגוריה כללית "
      ],
      "metadata": {
        "id": "ToilP7-E7v--"
      }
    },
    {
      "cell_type": "code",
      "source": [
        "data['SECTOR_GROUP'] = data['SECTOR_GROUP'].mask(data['SECTOR_GROUP'] == '(חסר)', 'חברה כללית / מעורבת')\n",
        "data['SECTOR_GROUP'].value_counts()"
      ],
      "metadata": {
        "colab": {
          "base_uri": "https://localhost:8080/"
        },
        "id": "9KPOl-Ys7Fz6",
        "outputId": "de414ae3-0a52-4c50-ec9d-83f631fcead6"
      },
      "execution_count": 80,
      "outputs": [
        {
          "output_type": "execute_result",
          "data": {
            "text/plain": [
              "חברה ערבית             1273\n",
              "חברה כללית / מעורבת    1102\n",
              "חברה חרדית              207\n",
              "Name: SECTOR_GROUP, dtype: int64"
            ]
          },
          "metadata": {},
          "execution_count": 80
        }
      ]
    },
    {
      "cell_type": "markdown",
      "source": [
        "[טיפול בערכים ריקים](https://stackoverflow.com/questions/57135918/remove-non-zero-fields-from-df-isnull-sum/57135996):"
      ],
      "metadata": {
        "id": "_IZOF0I9qmYE"
      }
    },
    {
      "cell_type": "code",
      "source": [
        "nullseries = data.isnull().sum()\n",
        "nullseries[nullseries > 0]"
      ],
      "metadata": {
        "colab": {
          "base_uri": "https://localhost:8080/"
        },
        "id": "3h4W2P3hqp-T",
        "outputId": "782e6cfd-e4fd-402f-f5aa-46fe5f64f41f"
      },
      "execution_count": 81,
      "outputs": [
        {
          "output_type": "execute_result",
          "data": {
            "text/plain": [
              "CONSTRUCTION_TYPE_GROUP    4\n",
              "dtype: int64"
            ]
          },
          "metadata": {},
          "execution_count": 81
        }
      ]
    },
    {
      "cell_type": "code",
      "source": [
        "data['CONSTRUCTION_TYPE_GROUP'].value_counts(dropna=False)"
      ],
      "metadata": {
        "colab": {
          "base_uri": "https://localhost:8080/"
        },
        "id": "tOaDxX9Hrsbo",
        "outputId": "3185399e-cd62-4a52-e072-d551a1903bfc"
      },
      "execution_count": 82,
      "outputs": [
        {
          "output_type": "execute_result",
          "data": {
            "text/plain": [
              "חדשה       1526\n",
              "התחדשות     922\n",
              "הסדרה       130\n",
              "NaN           4\n",
              "Name: CONSTRUCTION_TYPE_GROUP, dtype: int64"
            ]
          },
          "metadata": {},
          "execution_count": 82
        }
      ]
    },
    {
      "cell_type": "markdown",
      "source": [
        "[נמלא את השדות הריקים עם סוג הבניה הנפוץ ביותר](https://stackoverflow.com/questions/32617811/imputation-of-missing-values-for-categories-in-pandas) ההסתברות של סוג בניה \"חדשה\" היא הגבוהה ביותר"
      ],
      "metadata": {
        "id": "uRPV7Wnb-hfq"
      }
    },
    {
      "cell_type": "code",
      "source": [
        "data['CONSTRUCTION_TYPE_GROUP'] = data['CONSTRUCTION_TYPE_GROUP'].fillna(data['CONSTRUCTION_TYPE_GROUP'].mode().iloc[0])\n",
        "data['CONSTRUCTION_TYPE_GROUP'].value_counts(dropna=False)"
      ],
      "metadata": {
        "colab": {
          "base_uri": "https://localhost:8080/"
        },
        "id": "rNJ8yHqor9D3",
        "outputId": "2ceb232f-b63b-47b5-a7da-5b96d6ce1563"
      },
      "execution_count": 83,
      "outputs": [
        {
          "output_type": "execute_result",
          "data": {
            "text/plain": [
              "חדשה       1530\n",
              "התחדשות     922\n",
              "הסדרה       130\n",
              "Name: CONSTRUCTION_TYPE_GROUP, dtype: int64"
            ]
          },
          "metadata": {},
          "execution_count": 83
        }
      ]
    },
    {
      "cell_type": "markdown",
      "source": [
        "כעת נבחן את אחוז השטח העיקרי לפי השדות הקטגוריים השונים"
      ],
      "metadata": {
        "id": "8Nq3YzWoALVG"
      }
    },
    {
      "cell_type": "code",
      "source": [
        "categorical_cols = data.select_dtypes(['object']).columns\n",
        "categorical_cols"
      ],
      "metadata": {
        "id": "BS_JmKv7IhjA",
        "outputId": "b27812ba-e217-44ae-b7ae-5028b723b22d",
        "colab": {
          "base_uri": "https://localhost:8080/"
        }
      },
      "execution_count": 84,
      "outputs": [
        {
          "output_type": "execute_result",
          "data": {
            "text/plain": [
              "Index(['PL_NUMBER', 'PL_AREA', 'LANDUSE', 'AUTHORITY', 'DISTRICT',\n",
              "       'SECTOR_GROUP', 'CONSTRUCTION_TYPE_GROUP'],\n",
              "      dtype='object')"
            ]
          },
          "metadata": {},
          "execution_count": 84
        }
      ]
    },
    {
      "cell_type": "code",
      "source": [
        "print(data.groupby('IS_TAMAL')['MAIN_AREA_PER'].mean())\n",
        "print(data.groupby('AUTHORITY')['MAIN_AREA_PER'].mean())\n",
        "\n",
        "(data.groupby('IS_TAMAL')['MAIN_AREA_PER'].mean()).plot(kind='barh')"
      ],
      "metadata": {
        "id": "EXHrpizbAXJt",
        "outputId": "e7be4001-8c5c-4c33-e0ef-332e6b45435f",
        "colab": {
          "base_uri": "https://localhost:8080/",
          "height": 424
        }
      },
      "execution_count": 85,
      "outputs": [
        {
          "output_type": "stream",
          "name": "stdout",
          "text": [
            "IS_TAMAL\n",
            "0    0.820495\n",
            "1    0.728565\n",
            "Name: MAIN_AREA_PER, dtype: float64\n",
            "AUTHORITY\n",
            "ארצית     0.728565\n",
            "מחוזית    0.820495\n",
            "Name: MAIN_AREA_PER, dtype: float64\n"
          ]
        },
        {
          "output_type": "execute_result",
          "data": {
            "text/plain": [
              "<matplotlib.axes._subplots.AxesSubplot at 0x7f7143e05ad0>"
            ]
          },
          "metadata": {},
          "execution_count": 85
        },
        {
          "output_type": "display_data",
          "data": {
            "text/plain": [
              "<Figure size 432x288 with 1 Axes>"
            ],
            "image/png": "[encoded data removed]"
          },
          "metadata": {}
        }
      ]
    },
    {
      "cell_type": "markdown",
      "source": [
        "בתכניות תמל הממוצע הוא של 73% שטח עיקרי לעומת שאר התכניות ששם זה 82% שטח עיקרי"
      ],
      "metadata": {
        "id": "14Ezs25qFJAg"
      }
    },
    {
      "cell_type": "code",
      "source": [
        "data.groupby('LANDUSE')['MAIN_AREA_PER'].mean().sort_values()"
      ],
      "metadata": {
        "id": "V8veUjvyHarC",
        "outputId": "fe047d7e-ab46-4937-9bbd-79fb12709dfd",
        "colab": {
          "base_uri": "https://localhost:8080/"
        }
      },
      "execution_count": 86,
      "outputs": [
        {
          "output_type": "execute_result",
          "data": {
            "text/plain": [
              "LANDUSE\n",
              "מגורים משולב    0.803289\n",
              "מגורים          0.819209\n",
              "Name: MAIN_AREA_PER, dtype: float64"
            ]
          },
          "metadata": {},
          "execution_count": 86
        }
      ]
    },
    {
      "cell_type": "markdown",
      "source": [
        "אין הבדל משמעותי בין מגורים למגורים משולב"
      ],
      "metadata": {
        "id": "xetEI-3mHqdm"
      }
    },
    {
      "cell_type": "code",
      "source": [
        "print(data.groupby('DISTRICT')['MAIN_AREA_PER'].mean().sort_values())\n",
        "(data.groupby('DISTRICT')['MAIN_AREA_PER'].mean().sort_values()).plot(kind='barh')"
      ],
      "metadata": {
        "id": "odt_4aqEN1RH",
        "outputId": "86e72125-3de1-4587-f1c7-d08c7e3075a3",
        "colab": {
          "base_uri": "https://localhost:8080/",
          "height": 424
        }
      },
      "execution_count": 87,
      "outputs": [
        {
          "output_type": "stream",
          "name": "stdout",
          "text": [
            "DISTRICT\n",
            "תל-אביב    0.734659\n",
            "חיפה       0.753132\n",
            "מרכז       0.778301\n",
            "צפון       0.823117\n",
            "ירושלים    0.840985\n",
            "דרום       0.845286\n",
            "Name: MAIN_AREA_PER, dtype: float64\n"
          ]
        },
        {
          "output_type": "execute_result",
          "data": {
            "text/plain": [
              "<matplotlib.axes._subplots.AxesSubplot at 0x7f7143dec050>"
            ]
          },
          "metadata": {},
          "execution_count": 87
        },
        {
          "output_type": "display_data",
          "data": {
            "text/plain": [
              "<Figure size 432x288 with 1 Axes>"
            ],
            "image/png": "[encoded data removed]"
          },
          "metadata": {}
        }
      ]
    },
    {
      "cell_type": "markdown",
      "source": [
        "ניתן לראות שיש הבדלים באחוז השטח העיקרי בין המחוזות השונים"
      ],
      "metadata": {
        "id": "pf6gXWnIOdnQ"
      }
    },
    {
      "cell_type": "code",
      "source": [
        "data.groupby('SECTOR_GROUP')['MAIN_AREA_PER'].mean().sort_values()"
      ],
      "metadata": {
        "id": "-6sZPuyAOL1H",
        "outputId": "480e5aec-6e7b-4f7f-9739-dd5ad49d58ad",
        "colab": {
          "base_uri": "https://localhost:8080/"
        }
      },
      "execution_count": 88,
      "outputs": [
        {
          "output_type": "execute_result",
          "data": {
            "text/plain": [
              "SECTOR_GROUP\n",
              "חברה כללית / מעורבת    0.790148\n",
              "חברה חרדית             0.817537\n",
              "חברה ערבית             0.842913\n",
              "Name: MAIN_AREA_PER, dtype: float64"
            ]
          },
          "metadata": {},
          "execution_count": 88
        }
      ]
    },
    {
      "cell_type": "markdown",
      "source": [
        "ניתן לראות שבחברה הערבית אחוז השטח העיקרי הגבוה ביותר"
      ],
      "metadata": {
        "id": "JgG2RRTwOlY_"
      }
    },
    {
      "cell_type": "code",
      "source": [
        "data.groupby('CONSTRUCTION_TYPE_GROUP')['MAIN_AREA_PER'].mean().sort_values()"
      ],
      "metadata": {
        "id": "Iu46W2McOTLX",
        "outputId": "4116abf0-137a-4f43-bc81-afddac4be639",
        "colab": {
          "base_uri": "https://localhost:8080/"
        }
      },
      "execution_count": 89,
      "outputs": [
        {
          "output_type": "execute_result",
          "data": {
            "text/plain": [
              "CONSTRUCTION_TYPE_GROUP\n",
              "חדשה       0.816283\n",
              "התחדשות    0.819859\n",
              "הסדרה      0.832148\n",
              "Name: MAIN_AREA_PER, dtype: float64"
            ]
          },
          "metadata": {},
          "execution_count": 89
        }
      ]
    },
    {
      "cell_type": "markdown",
      "source": [
        "ניתן לראות שבסוג בניה \"הסדרה\" אחוז השטח העיקרי הגבוה ביותר"
      ],
      "metadata": {
        "id": "Hv_gDOnIOwQR"
      }
    },
    {
      "cell_type": "markdown",
      "source": [
        "### שדות נומריים"
      ],
      "metadata": {
        "id": "FvD42oXAO7OA"
      }
    },
    {
      "cell_type": "markdown",
      "source": [
        "העמודות CELL_SIZE_TOTAL, CELL_SIZE_MIN ו-CELL_SIZE_MAX מתארות את גודל התא."
      ],
      "metadata": {
        "id": "DJf_h9v3h77a"
      }
    },
    {
      "cell_type": "code",
      "source": [
        "data[['CELL_SIZE_TOTAL', 'CELL_SIZE_MIN', 'CELL_SIZE_MAX']].describe()"
      ],
      "metadata": {
        "colab": {
          "base_uri": "https://localhost:8080/",
          "height": 300
        },
        "id": "DgOES3JFnv2n",
        "outputId": "3021c7b2-7ec1-4888-e76b-b49d838520a6"
      },
      "execution_count": 90,
      "outputs": [
        {
          "output_type": "execute_result",
          "data": {
            "text/plain": [
              "       CELL_SIZE_TOTAL  CELL_SIZE_MIN  CELL_SIZE_MAX\n",
              "count      2582.000000    2582.000000    2582.000000\n",
              "mean       1090.196193     168.493582       8.830287\n",
              "std        2387.854179     954.531702     149.623238\n",
              "min           0.000000       0.000000       0.000000\n",
              "25%         386.250000       0.000000       0.000000\n",
              "50%         659.500000       0.000000       0.000000\n",
              "75%        1020.750000       0.000000       0.000000\n",
              "max       63924.000000   32000.000000    5690.000000"
            ],
            "text/html": [
              "\n",
              "  <div id=\"df-54e1068a-a27d-49da-904c-573b4fd074d7\">\n",
              "    <div class=\"colab-df-container\">\n",
              "      <div>\n",
              "<style scoped>\n",
              "    .dataframe tbody tr th:only-of-type {\n",
              "        vertical-align: middle;\n",
              "    }\n",
              "\n",
              "    .dataframe tbody tr th {\n",
              "        vertical-align: top;\n",
              "    }\n",
              "\n",
              "    .dataframe thead th {\n",
              "        text-align: right;\n",
              "    }\n",
              "</style>\n",
              "<table border=\"1\" class=\"dataframe\">\n",
              "  <thead>\n",
              "    <tr style=\"text-align: right;\">\n",
              "      <th></th>\n",
              "      <th>CELL_SIZE_TOTAL</th>\n",
              "      <th>CELL_SIZE_MIN</th>\n",
              "      <th>CELL_SIZE_MAX</th>\n",
              "    </tr>\n",
              "  </thead>\n",
              "  <tbody>\n",
              "    <tr>\n",
              "      <th>count</th>\n",
              "      <td>2582.000000</td>\n",
              "      <td>2582.000000</td>\n",
              "      <td>2582.000000</td>\n",
              "    </tr>\n",
              "    <tr>\n",
              "      <th>mean</th>\n",
              "      <td>1090.196193</td>\n",
              "      <td>168.493582</td>\n",
              "      <td>8.830287</td>\n",
              "    </tr>\n",
              "    <tr>\n",
              "      <th>std</th>\n",
              "      <td>2387.854179</td>\n",
              "      <td>954.531702</td>\n",
              "      <td>149.623238</td>\n",
              "    </tr>\n",
              "    <tr>\n",
              "      <th>min</th>\n",
              "      <td>0.000000</td>\n",
              "      <td>0.000000</td>\n",
              "      <td>0.000000</td>\n",
              "    </tr>\n",
              "    <tr>\n",
              "      <th>25%</th>\n",
              "      <td>386.250000</td>\n",
              "      <td>0.000000</td>\n",
              "      <td>0.000000</td>\n",
              "    </tr>\n",
              "    <tr>\n",
              "      <th>50%</th>\n",
              "      <td>659.500000</td>\n",
              "      <td>0.000000</td>\n",
              "      <td>0.000000</td>\n",
              "    </tr>\n",
              "    <tr>\n",
              "      <th>75%</th>\n",
              "      <td>1020.750000</td>\n",
              "      <td>0.000000</td>\n",
              "      <td>0.000000</td>\n",
              "    </tr>\n",
              "    <tr>\n",
              "      <th>max</th>\n",
              "      <td>63924.000000</td>\n",
              "      <td>32000.000000</td>\n",
              "      <td>5690.000000</td>\n",
              "    </tr>\n",
              "  </tbody>\n",
              "</table>\n",
              "</div>\n",
              "      <button class=\"colab-df-convert\" onclick=\"convertToInteractive('df-54e1068a-a27d-49da-904c-573b4fd074d7')\"\n",
              "              title=\"Convert this dataframe to an interactive table.\"\n",
              "              style=\"display:none;\">\n",
              "        \n",
              "  <svg xmlns=\"http://www.w3.org/2000/svg\" height=\"24px\"viewBox=\"0 0 24 24\"\n",
              "       width=\"24px\">\n",
              "    <path d=\"M0 0h24v24H0V0z\" fill=\"none\"/>\n",
              "    <path d=\"M18.56 5.44l.94 2.06.94-2.06 2.06-.94-2.06-.94-.94-2.06-.94 2.06-2.06.94zm-11 1L8.5 8.5l.94-2.06 2.06-.94-2.06-.94L8.5 2.5l-.94 2.06-2.06.94zm10 10l.94 2.06.94-2.06 2.06-.94-2.06-.94-.94-2.06-.94 2.06-2.06.94z\"/><path d=\"M17.41 7.96l-1.37-1.37c-.4-.4-.92-.59-1.43-.59-.52 0-1.04.2-1.43.59L10.3 9.45l-7.72 7.72c-.78.78-.78 2.05 0 2.83L4 21.41c.39.39.9.59 1.41.59.51 0 1.02-.2 1.41-.59l7.78-7.78 2.81-2.81c.8-.78.8-2.07 0-2.86zM5.41 20L4 18.59l7.72-7.72 1.47 1.35L5.41 20z\"/>\n",
              "  </svg>\n",
              "      </button>\n",
              "      \n",
              "  <style>\n",
              "    .colab-df-container {\n",
              "      display:flex;\n",
              "      flex-wrap:wrap;\n",
              "      gap: 12px;\n",
              "    }\n",
              "\n",
              "    .colab-df-convert {\n",
              "      background-color: #E8F0FE;\n",
              "      border: none;\n",
              "      border-radius: 50%;\n",
              "      cursor: pointer;\n",
              "      display: none;\n",
              "      fill: #1967D2;\n",
              "      height: 32px;\n",
              "      padding: 0 0 0 0;\n",
              "      width: 32px;\n",
              "    }\n",
              "\n",
              "    .colab-df-convert:hover {\n",
              "      background-color: #E2EBFA;\n",
              "      box-shadow: 0px 1px 2px rgba(60, 64, 67, 0.3), 0px 1px 3px 1px rgba(60, 64, 67, 0.15);\n",
              "      fill: #174EA6;\n",
              "    }\n",
              "\n",
              "    [theme=dark] .colab-df-convert {\n",
              "      background-color: #3B4455;\n",
              "      fill: #D2E3FC;\n",
              "    }\n",
              "\n",
              "    [theme=dark] .colab-df-convert:hover {\n",
              "      background-color: #434B5C;\n",
              "      box-shadow: 0px 1px 3px 1px rgba(0, 0, 0, 0.15);\n",
              "      filter: drop-shadow(0px 1px 2px rgba(0, 0, 0, 0.3));\n",
              "      fill: #FFFFFF;\n",
              "    }\n",
              "  </style>\n",
              "\n",
              "      <script>\n",
              "        const buttonEl =\n",
              "          document.querySelector('#df-54e1068a-a27d-49da-904c-573b4fd074d7 button.colab-df-convert');\n",
              "        buttonEl.style.display =\n",
              "          google.colab.kernel.accessAllowed ? 'block' : 'none';\n",
              "\n",
              "        async function convertToInteractive(key) {\n",
              "          const element = document.querySelector('#df-54e1068a-a27d-49da-904c-573b4fd074d7');\n",
              "          const dataTable =\n",
              "            await google.colab.kernel.invokeFunction('convertToInteractive',\n",
              "                                                     [key], {});\n",
              "          if (!dataTable) return;\n",
              "\n",
              "          const docLinkHtml = 'Like what you see? Visit the ' +\n",
              "            '<a target=\"_blank\" href=https://colab.research.google.com/notebooks/data_table.ipynb>data table notebook</a>'\n",
              "            + ' to learn more about interactive tables.';\n",
              "          element.innerHTML = '';\n",
              "          dataTable['output_type'] = 'display_data';\n",
              "          await google.colab.output.renderOutput(dataTable, element);\n",
              "          const docLink = document.createElement('div');\n",
              "          docLink.innerHTML = docLinkHtml;\n",
              "          element.appendChild(docLink);\n",
              "        }\n",
              "      </script>\n",
              "    </div>\n",
              "  </div>\n",
              "  "
            ]
          },
          "metadata": {},
          "execution_count": 90
        }
      ]
    },
    {
      "cell_type": "markdown",
      "source": [
        "נבדוק את כמות יחידות הדיור:"
      ],
      "metadata": {
        "id": "fjEB9ue2QBcQ"
      }
    },
    {
      "cell_type": "code",
      "source": [
        "data['HOUSING_UNITS'].value_counts().sort_index().head()"
      ],
      "metadata": {
        "colab": {
          "base_uri": "https://localhost:8080/"
        },
        "id": "eQ3ymaTt11t0",
        "outputId": "8f1a9e03-b1e9-46f6-b23b-57de8a345637"
      },
      "execution_count": 91,
      "outputs": [
        {
          "output_type": "execute_result",
          "data": {
            "text/plain": [
              "0.0     79\n",
              "1.0    353\n",
              "2.0    225\n",
              "3.0    162\n",
              "4.0    393\n",
              "Name: HOUSING_UNITS, dtype: int64"
            ]
          },
          "metadata": {},
          "execution_count": 91
        }
      ]
    },
    {
      "cell_type": "markdown",
      "source": [
        "יחידות דיור לא צריכות להיות אפס.<BR> במקום 0 נתן את מספר הקומות כפול 2"
      ],
      "metadata": {
        "id": "1GdYTQhC2fHM"
      }
    },
    {
      "cell_type": "code",
      "source": [
        "data['HOUSING_UNITS'] = data['HOUSING_UNITS'].mask(data['HOUSING_UNITS'] == 0, data['FLOORS_NUM']*2)"
      ],
      "metadata": {
        "id": "s7Zf_lba1h-f"
      },
      "execution_count": 92,
      "outputs": []
    },
    {
      "cell_type": "code",
      "source": [
        "data['HOUSING_UNITS'].value_counts().sort_index().head()"
      ],
      "metadata": {
        "colab": {
          "base_uri": "https://localhost:8080/"
        },
        "id": "L-eTXlFd2Zzb",
        "outputId": "885a7aaf-bcf4-4e00-92fa-3654b91ce3fb"
      },
      "execution_count": 93,
      "outputs": [
        {
          "output_type": "execute_result",
          "data": {
            "text/plain": [
              "0.0      2\n",
              "1.0    353\n",
              "2.0    227\n",
              "3.0    162\n",
              "4.0    406\n",
              "Name: HOUSING_UNITS, dtype: int64"
            ]
          },
          "metadata": {},
          "execution_count": 93
        }
      ]
    },
    {
      "cell_type": "markdown",
      "source": [
        "עדיין נותרו 2 מקרים של אפסים (אין נתון של מספר קומות) - נוריד את המקרים החריגים."
      ],
      "metadata": {
        "id": "COdsO2PuQP-R"
      }
    },
    {
      "cell_type": "code",
      "source": [
        "data = data[data['HOUSING_UNITS'] > 0]\n",
        "data.shape "
      ],
      "metadata": {
        "colab": {
          "base_uri": "https://localhost:8080/"
        },
        "id": "SYgognPW2uIS",
        "outputId": "ba481f07-0760-41ad-edc7-3002aa242411"
      },
      "execution_count": 94,
      "outputs": [
        {
          "output_type": "execute_result",
          "data": {
            "text/plain": [
              "(2580, 19)"
            ]
          },
          "metadata": {},
          "execution_count": 94
        }
      ]
    },
    {
      "cell_type": "markdown",
      "source": [
        "כעת נבחן את נתוני גובה הבניין"
      ],
      "metadata": {
        "id": "TaBKOyKtSc96"
      }
    },
    {
      "cell_type": "code",
      "source": [
        "data['BUILDING_HEIGHT'].value_counts()[:11].head()"
      ],
      "metadata": {
        "colab": {
          "base_uri": "https://localhost:8080/"
        },
        "id": "U24kWYKa3EXa",
        "outputId": "50ed1739-46c6-403d-9e65-3afd7fdb4387"
      },
      "execution_count": 95,
      "outputs": [
        {
          "output_type": "execute_result",
          "data": {
            "text/plain": [
              "0.0     249\n",
              "12.0    246\n",
              "8.5     178\n",
              "15.0    162\n",
              "9.0     125\n",
              "Name: BUILDING_HEIGHT, dtype: int64"
            ]
          },
          "metadata": {},
          "execution_count": 95
        }
      ]
    },
    {
      "cell_type": "markdown",
      "source": [
        "הרבה נתונים חסרים, BUILDING_HEIGHT לא אמור להיות אפס.<br>\n",
        "אחליף אותו בממוצע של BUILDING_HEIGHT."
      ],
      "metadata": {
        "id": "8a30Gn_L3NJJ"
      }
    },
    {
      "cell_type": "code",
      "source": [
        "building_height_avg = round(data[data['BUILDING_HEIGHT'] > 0]['BUILDING_HEIGHT'].mean())\n",
        "building_height_avg"
      ],
      "metadata": {
        "colab": {
          "base_uri": "https://localhost:8080/"
        },
        "id": "NNaUKZeB4CcP",
        "outputId": "1cdfc9db-fc5b-49e2-e916-69cbbeaaee61"
      },
      "execution_count": 96,
      "outputs": [
        {
          "output_type": "execute_result",
          "data": {
            "text/plain": [
              "16"
            ]
          },
          "metadata": {},
          "execution_count": 96
        }
      ]
    },
    {
      "cell_type": "code",
      "source": [
        "data['BUILDING_HEIGHT'] = data['BUILDING_HEIGHT'].mask(data['BUILDING_HEIGHT']==0, building_height_avg)\n",
        "data['BUILDING_HEIGHT'].value_counts().head()"
      ],
      "metadata": {
        "id": "PEH_AfoM4lX_",
        "colab": {
          "base_uri": "https://localhost:8080/"
        },
        "outputId": "541b6313-9c5b-4182-ddf8-cdc58c27660c"
      },
      "execution_count": 97,
      "outputs": [
        {
          "output_type": "execute_result",
          "data": {
            "text/plain": [
              "16.0    293\n",
              "12.0    246\n",
              "8.5     178\n",
              "15.0    162\n",
              "9.0     125\n",
              "Name: BUILDING_HEIGHT, dtype: int64"
            ]
          },
          "metadata": {},
          "execution_count": 97
        }
      ]
    },
    {
      "cell_type": "markdown",
      "source": [
        "נסיר את העמודות שאינן שימושיות עבור החיזוי"
      ],
      "metadata": {
        "id": "ZiMdLBv8Tvry"
      }
    },
    {
      "cell_type": "code",
      "source": [
        "data = data.drop(['PL_NUMBER', 'PL_AREA', 'SERVICE_AREA'], axis=1)"
      ],
      "metadata": {
        "id": "M06mV6re8jkH"
      },
      "execution_count": 98,
      "outputs": []
    },
    {
      "cell_type": "markdown",
      "source": [
        "Get dummies של העמודות הקטגוריות כדי שנוכל לבנות מודל."
      ],
      "metadata": {
        "id": "o2QKX3017lRZ"
      }
    },
    {
      "cell_type": "code",
      "source": [
        "dummies_data = pd.get_dummies(data)\n",
        "print(dummies_data.shape)\n",
        "dummies_data.columns = ['MAIN_AREA', 'CELL_SIZE_TOTAL', 'CELL_SIZE_MIN', 'CELL_SIZE_MAX', 'HOUSING_UNITS', 'BUILDING_HEIGHT', 'FLOORS_NUM', 'TOTAL_AREA',\n",
        "                        'CONFIRMATION_YEAR', 'MAIN_AREA_PER', 'IS_TAMAL', 'LANDUSE_RESIDENCE', 'LANDUSE_RESIDENCE_MIXED', 'AUTHORITY_COUNTRY', 'AUTHORITY_DISTRICT',\n",
        "                        'DISTRICT_SOUTH', 'DISTRICT_HAIFA', 'DISTRICT_JERUSALEM', 'DISTRICT_DAN', 'DISTRICT_NORTH', 'DISTRICT_TEL_AVIV', 'SECTOR_REL',\n",
        "                        'SECTOR_MIXED', 'SECTOR_ARAB', 'CONSTRUCTION_TYPE_ARRANGING', 'CONSTRUCTION_TYPE_REGENERATION', 'CONSTRUCTION_TYPE_NEW']\n",
        "dummies_data.head()"
      ],
      "metadata": {
        "colab": {
          "base_uri": "https://localhost:8080/",
          "height": 317
        },
        "id": "1rMH_5-a7x3H",
        "outputId": "17f08e59-8862-4cc6-ab4f-b5d17a9121ad"
      },
      "execution_count": 102,
      "outputs": [
        {
          "output_type": "stream",
          "name": "stdout",
          "text": [
            "(2580, 27)\n"
          ]
        },
        {
          "output_type": "execute_result",
          "data": {
            "text/plain": [
              "     MAIN_AREA  CELL_SIZE_TOTAL  CELL_SIZE_MIN  CELL_SIZE_MAX  HOUSING_UNITS  \\\n",
              "0        975.0           2466.0            0.0            0.0           16.0   \n",
              "2        960.0           2820.0            0.0            0.0            6.0   \n",
              "73       152.0            420.0            0.0            0.0            1.0   \n",
              "297     2090.0           1496.0            0.0            0.0           19.0   \n",
              "322      675.0            563.0            0.0            0.0            4.0   \n",
              "\n",
              "     BUILDING_HEIGHT  FLOORS_NUM  TOTAL_AREA  CONFIRMATION_YEAR  \\\n",
              "0               11.0         2.0      1275.0               2017   \n",
              "2               17.0         4.0      1140.0               2017   \n",
              "73              16.0         2.0       200.0               2019   \n",
              "297             25.5         6.0      3135.0               2017   \n",
              "322             21.0         4.0       900.0               2018   \n",
              "\n",
              "     MAIN_AREA_PER  ...  DISTRICT_JERUSALEM  DISTRICT_DAN  DISTRICT_NORTH  \\\n",
              "0         0.764706  ...                   0             0               0   \n",
              "2         0.842105  ...                   1             0               0   \n",
              "73        0.760000  ...                   0             1               0   \n",
              "297       0.666667  ...                   0             0               0   \n",
              "322       0.750000  ...                   0             0               1   \n",
              "\n",
              "     DISTRICT_TEL_AVIV  SECTOR_REL  SECTOR_MIXED  SECTOR_ARAB  \\\n",
              "0                    0           0             1            0   \n",
              "2                    0           0             1            0   \n",
              "73                   0           0             1            0   \n",
              "297                  1           0             1            0   \n",
              "322                  0           0             0            1   \n",
              "\n",
              "     CONSTRUCTION_TYPE_ARRANGING  CONSTRUCTION_TYPE_REGENERATION  \\\n",
              "0                              0                               0   \n",
              "2                              0                               1   \n",
              "73                             0                               0   \n",
              "297                            0                               0   \n",
              "322                            0                               0   \n",
              "\n",
              "     CONSTRUCTION_TYPE_NEW  \n",
              "0                        1  \n",
              "2                        0  \n",
              "73                       1  \n",
              "297                      1  \n",
              "322                      1  \n",
              "\n",
              "[5 rows x 27 columns]"
            ],
            "text/html": [
              "\n",
              "  <div id=\"df-54eaa679-f22a-4444-8daa-616e7bfaf93c\">\n",
              "    <div class=\"colab-df-container\">\n",
              "      <div>\n",
              "<style scoped>\n",
              "    .dataframe tbody tr th:only-of-type {\n",
              "        vertical-align: middle;\n",
              "    }\n",
              "\n",
              "    .dataframe tbody tr th {\n",
              "        vertical-align: top;\n",
              "    }\n",
              "\n",
              "    .dataframe thead th {\n",
              "        text-align: right;\n",
              "    }\n",
              "</style>\n",
              "<table border=\"1\" class=\"dataframe\">\n",
              "  <thead>\n",
              "    <tr style=\"text-align: right;\">\n",
              "      <th></th>\n",
              "      <th>MAIN_AREA</th>\n",
              "      <th>CELL_SIZE_TOTAL</th>\n",
              "      <th>CELL_SIZE_MIN</th>\n",
              "      <th>CELL_SIZE_MAX</th>\n",
              "      <th>HOUSING_UNITS</th>\n",
              "      <th>BUILDING_HEIGHT</th>\n",
              "      <th>FLOORS_NUM</th>\n",
              "      <th>TOTAL_AREA</th>\n",
              "      <th>CONFIRMATION_YEAR</th>\n",
              "      <th>MAIN_AREA_PER</th>\n",
              "      <th>...</th>\n",
              "      <th>DISTRICT_JERUSALEM</th>\n",
              "      <th>DISTRICT_DAN</th>\n",
              "      <th>DISTRICT_NORTH</th>\n",
              "      <th>DISTRICT_TEL_AVIV</th>\n",
              "      <th>SECTOR_REL</th>\n",
              "      <th>SECTOR_MIXED</th>\n",
              "      <th>SECTOR_ARAB</th>\n",
              "      <th>CONSTRUCTION_TYPE_ARRANGING</th>\n",
              "      <th>CONSTRUCTION_TYPE_REGENERATION</th>\n",
              "      <th>CONSTRUCTION_TYPE_NEW</th>\n",
              "    </tr>\n",
              "  </thead>\n",
              "  <tbody>\n",
              "    <tr>\n",
              "      <th>0</th>\n",
              "      <td>975.0</td>\n",
              "      <td>2466.0</td>\n",
              "      <td>0.0</td>\n",
              "      <td>0.0</td>\n",
              "      <td>16.0</td>\n",
              "      <td>11.0</td>\n",
              "      <td>2.0</td>\n",
              "      <td>1275.0</td>\n",
              "      <td>2017</td>\n",
              "      <td>0.764706</td>\n",
              "      <td>...</td>\n",
              "      <td>0</td>\n",
              "      <td>0</td>\n",
              "      <td>0</td>\n",
              "      <td>0</td>\n",
              "      <td>0</td>\n",
              "      <td>1</td>\n",
              "      <td>0</td>\n",
              "      <td>0</td>\n",
              "      <td>0</td>\n",
              "      <td>1</td>\n",
              "    </tr>\n",
              "    <tr>\n",
              "      <th>2</th>\n",
              "      <td>960.0</td>\n",
              "      <td>2820.0</td>\n",
              "      <td>0.0</td>\n",
              "      <td>0.0</td>\n",
              "      <td>6.0</td>\n",
              "      <td>17.0</td>\n",
              "      <td>4.0</td>\n",
              "      <td>1140.0</td>\n",
              "      <td>2017</td>\n",
              "      <td>0.842105</td>\n",
              "      <td>...</td>\n",
              "      <td>1</td>\n",
              "      <td>0</td>\n",
              "      <td>0</td>\n",
              "      <td>0</td>\n",
              "      <td>0</td>\n",
              "      <td>1</td>\n",
              "      <td>0</td>\n",
              "      <td>0</td>\n",
              "      <td>1</td>\n",
              "      <td>0</td>\n",
              "    </tr>\n",
              "    <tr>\n",
              "      <th>73</th>\n",
              "      <td>152.0</td>\n",
              "      <td>420.0</td>\n",
              "      <td>0.0</td>\n",
              "      <td>0.0</td>\n",
              "      <td>1.0</td>\n",
              "      <td>16.0</td>\n",
              "      <td>2.0</td>\n",
              "      <td>200.0</td>\n",
              "      <td>2019</td>\n",
              "      <td>0.760000</td>\n",
              "      <td>...</td>\n",
              "      <td>0</td>\n",
              "      <td>1</td>\n",
              "      <td>0</td>\n",
              "      <td>0</td>\n",
              "      <td>0</td>\n",
              "      <td>1</td>\n",
              "      <td>0</td>\n",
              "      <td>0</td>\n",
              "      <td>0</td>\n",
              "      <td>1</td>\n",
              "    </tr>\n",
              "    <tr>\n",
              "      <th>297</th>\n",
              "      <td>2090.0</td>\n",
              "      <td>1496.0</td>\n",
              "      <td>0.0</td>\n",
              "      <td>0.0</td>\n",
              "      <td>19.0</td>\n",
              "      <td>25.5</td>\n",
              "      <td>6.0</td>\n",
              "      <td>3135.0</td>\n",
              "      <td>2017</td>\n",
              "      <td>0.666667</td>\n",
              "      <td>...</td>\n",
              "      <td>0</td>\n",
              "      <td>0</td>\n",
              "      <td>0</td>\n",
              "      <td>1</td>\n",
              "      <td>0</td>\n",
              "      <td>1</td>\n",
              "      <td>0</td>\n",
              "      <td>0</td>\n",
              "      <td>0</td>\n",
              "      <td>1</td>\n",
              "    </tr>\n",
              "    <tr>\n",
              "      <th>322</th>\n",
              "      <td>675.0</td>\n",
              "      <td>563.0</td>\n",
              "      <td>0.0</td>\n",
              "      <td>0.0</td>\n",
              "      <td>4.0</td>\n",
              "      <td>21.0</td>\n",
              "      <td>4.0</td>\n",
              "      <td>900.0</td>\n",
              "      <td>2018</td>\n",
              "      <td>0.750000</td>\n",
              "      <td>...</td>\n",
              "      <td>0</td>\n",
              "      <td>0</td>\n",
              "      <td>1</td>\n",
              "      <td>0</td>\n",
              "      <td>0</td>\n",
              "      <td>0</td>\n",
              "      <td>1</td>\n",
              "      <td>0</td>\n",
              "      <td>0</td>\n",
              "      <td>1</td>\n",
              "    </tr>\n",
              "  </tbody>\n",
              "</table>\n",
              "<p>5 rows × 27 columns</p>\n",
              "</div>\n",
              "      <button class=\"colab-df-convert\" onclick=\"convertToInteractive('df-54eaa679-f22a-4444-8daa-616e7bfaf93c')\"\n",
              "              title=\"Convert this dataframe to an interactive table.\"\n",
              "              style=\"display:none;\">\n",
              "        \n",
              "  <svg xmlns=\"http://www.w3.org/2000/svg\" height=\"24px\"viewBox=\"0 0 24 24\"\n",
              "       width=\"24px\">\n",
              "    <path d=\"M0 0h24v24H0V0z\" fill=\"none\"/>\n",
              "    <path d=\"M18.56 5.44l.94 2.06.94-2.06 2.06-.94-2.06-.94-.94-2.06-.94 2.06-2.06.94zm-11 1L8.5 8.5l.94-2.06 2.06-.94-2.06-.94L8.5 2.5l-.94 2.06-2.06.94zm10 10l.94 2.06.94-2.06 2.06-.94-2.06-.94-.94-2.06-.94 2.06-2.06.94z\"/><path d=\"M17.41 7.96l-1.37-1.37c-.4-.4-.92-.59-1.43-.59-.52 0-1.04.2-1.43.59L10.3 9.45l-7.72 7.72c-.78.78-.78 2.05 0 2.83L4 21.41c.39.39.9.59 1.41.59.51 0 1.02-.2 1.41-.59l7.78-7.78 2.81-2.81c.8-.78.8-2.07 0-2.86zM5.41 20L4 18.59l7.72-7.72 1.47 1.35L5.41 20z\"/>\n",
              "  </svg>\n",
              "      </button>\n",
              "      \n",
              "  <style>\n",
              "    .colab-df-container {\n",
              "      display:flex;\n",
              "      flex-wrap:wrap;\n",
              "      gap: 12px;\n",
              "    }\n",
              "\n",
              "    .colab-df-convert {\n",
              "      background-color: #E8F0FE;\n",
              "      border: none;\n",
              "      border-radius: 50%;\n",
              "      cursor: pointer;\n",
              "      display: none;\n",
              "      fill: #1967D2;\n",
              "      height: 32px;\n",
              "      padding: 0 0 0 0;\n",
              "      width: 32px;\n",
              "    }\n",
              "\n",
              "    .colab-df-convert:hover {\n",
              "      background-color: #E2EBFA;\n",
              "      box-shadow: 0px 1px 2px rgba(60, 64, 67, 0.3), 0px 1px 3px 1px rgba(60, 64, 67, 0.15);\n",
              "      fill: #174EA6;\n",
              "    }\n",
              "\n",
              "    [theme=dark] .colab-df-convert {\n",
              "      background-color: #3B4455;\n",
              "      fill: #D2E3FC;\n",
              "    }\n",
              "\n",
              "    [theme=dark] .colab-df-convert:hover {\n",
              "      background-color: #434B5C;\n",
              "      box-shadow: 0px 1px 3px 1px rgba(0, 0, 0, 0.15);\n",
              "      filter: drop-shadow(0px 1px 2px rgba(0, 0, 0, 0.3));\n",
              "      fill: #FFFFFF;\n",
              "    }\n",
              "  </style>\n",
              "\n",
              "      <script>\n",
              "        const buttonEl =\n",
              "          document.querySelector('#df-54eaa679-f22a-4444-8daa-616e7bfaf93c button.colab-df-convert');\n",
              "        buttonEl.style.display =\n",
              "          google.colab.kernel.accessAllowed ? 'block' : 'none';\n",
              "\n",
              "        async function convertToInteractive(key) {\n",
              "          const element = document.querySelector('#df-54eaa679-f22a-4444-8daa-616e7bfaf93c');\n",
              "          const dataTable =\n",
              "            await google.colab.kernel.invokeFunction('convertToInteractive',\n",
              "                                                     [key], {});\n",
              "          if (!dataTable) return;\n",
              "\n",
              "          const docLinkHtml = 'Like what you see? Visit the ' +\n",
              "            '<a target=\"_blank\" href=https://colab.research.google.com/notebooks/data_table.ipynb>data table notebook</a>'\n",
              "            + ' to learn more about interactive tables.';\n",
              "          element.innerHTML = '';\n",
              "          dataTable['output_type'] = 'display_data';\n",
              "          await google.colab.output.renderOutput(dataTable, element);\n",
              "          const docLink = document.createElement('div');\n",
              "          docLink.innerHTML = docLinkHtml;\n",
              "          element.appendChild(docLink);\n",
              "        }\n",
              "      </script>\n",
              "    </div>\n",
              "  </div>\n",
              "  "
            ]
          },
          "metadata": {},
          "execution_count": 102
        }
      ]
    },
    {
      "cell_type": "markdown",
      "source": [
        "לבסוף, הנתונים מוכנים ללימוד מכונה.<BR>\n",
        "# Data Exploration\n",
        "מציאת קורלציות בין תכונות לבין אחוז שטח עיקרי:"
      ],
      "metadata": {
        "id": "1Bs6fW69kJkR"
      }
    },
    {
      "cell_type": "code",
      "source": [
        "corr = abs(dummies_data.corr())\n",
        "corr.loc['MAIN_AREA_PER'].sort_values(ascending=False).head(10)"
      ],
      "metadata": {
        "colab": {
          "base_uri": "https://localhost:8080/"
        },
        "id": "xkxXs7A8B7m-",
        "outputId": "65701c33-480e-450d-c954-4e153915de82"
      },
      "execution_count": 103,
      "outputs": [
        {
          "output_type": "execute_result",
          "data": {
            "text/plain": [
              "MAIN_AREA_PER        1.000000\n",
              "FLOORS_NUM           0.310616\n",
              "BUILDING_HEIGHT      0.283408\n",
              "TOTAL_AREA           0.273785\n",
              "DISTRICT_HAIFA       0.270759\n",
              "SECTOR_MIXED         0.266034\n",
              "SECTOR_ARAB          0.264512\n",
              "MAIN_AREA            0.236457\n",
              "HOUSING_UNITS        0.226856\n",
              "DISTRICT_TEL_AVIV    0.159549\n",
              "Name: MAIN_AREA_PER, dtype: float64"
            ]
          },
          "metadata": {},
          "execution_count": 103
        }
      ]
    },
    {
      "cell_type": "code",
      "source": [
        "%matplotlib inline\n",
        "sns.pairplot(dummies_data[['MAIN_AREA_PER', 'FLOORS_NUM', 'BUILDING_HEIGHT', 'TOTAL_AREA']], height=1.5);"
      ],
      "metadata": {
        "colab": {
          "base_uri": "https://localhost:8080/",
          "height": 445
        },
        "id": "bnR_fFAipkZJ",
        "outputId": "c60bfcc0-d665-4ee5-93f3-31db6c7f4ca4"
      },
      "execution_count": 112,
      "outputs": [
        {
          "output_type": "display_data",
          "data": {
            "text/plain": [
              "<Figure size 432x432 with 20 Axes>"
            ],
            "image/png": "[encoded data removed]"
          },
          "metadata": {
            "needs_background": "light"
          }
        }
      ]
    },
    {
      "cell_type": "code",
      "source": [
        "dummies_data.plot.scatter(x = 'TOTAL_AREA', y = 'MAIN_AREA_PER', s = 100)"
      ],
      "metadata": {
        "colab": {
          "base_uri": "https://localhost:8080/",
          "height": 340
        },
        "id": "iODuZhRtN07N",
        "outputId": "2e6fd5c2-8106-4952-cfc3-8a203add9faa"
      },
      "execution_count": 105,
      "outputs": [
        {
          "output_type": "stream",
          "name": "stderr",
          "text": [
            "*c* argument looks like a single numeric RGB or RGBA sequence, which should be avoided as value-mapping will have precedence in case its length matches with *x* & *y*.  Please use the *color* keyword-argument or provide a 2-D array with a single row if you intend to specify the same RGB or RGBA value for all points.\n"
          ]
        },
        {
          "output_type": "execute_result",
          "data": {
            "text/plain": [
              "<matplotlib.axes._subplots.AxesSubplot at 0x7f7143e3be90>"
            ]
          },
          "metadata": {},
          "execution_count": 105
        },
        {
          "output_type": "display_data",
          "data": {
            "text/plain": [
              "<Figure size 432x288 with 1 Axes>"
            ],
            "image/png": "[encoded data removed]"
          },
          "metadata": {}
        }
      ]
    },
    {
      "cell_type": "markdown",
      "source": [
        "Removing outliers:"
      ],
      "metadata": {
        "id": "SQ3_45GpfiDX"
      }
    },
    {
      "cell_type": "code",
      "source": [
        "dummies_data = dummies_data[dummies_data['TOTAL_AREA'] < 40000]\n",
        "dummies_data.plot.scatter(x = 'TOTAL_AREA', y = 'MAIN_AREA_PER', s = 100)"
      ],
      "metadata": {
        "colab": {
          "base_uri": "https://localhost:8080/",
          "height": 340
        },
        "id": "qhvqz1N_QH0d",
        "outputId": "7170d8c8-9213-4f40-8e3c-3dfaa01c07b7"
      },
      "execution_count": 106,
      "outputs": [
        {
          "output_type": "stream",
          "name": "stderr",
          "text": [
            "*c* argument looks like a single numeric RGB or RGBA sequence, which should be avoided as value-mapping will have precedence in case its length matches with *x* & *y*.  Please use the *color* keyword-argument or provide a 2-D array with a single row if you intend to specify the same RGB or RGBA value for all points.\n"
          ]
        },
        {
          "output_type": "execute_result",
          "data": {
            "text/plain": [
              "<matplotlib.axes._subplots.AxesSubplot at 0x7f712c36b550>"
            ]
          },
          "metadata": {},
          "execution_count": 106
        },
        {
          "output_type": "display_data",
          "data": {
            "text/plain": [
              "<Figure size 432x288 with 1 Axes>"
            ],
            "image/png": "[encoded data removed]"
          },
          "metadata": {}
        }
      ]
    },
    {
      "cell_type": "markdown",
      "source": [
        "TOTAL_AREA has very strong lienar relationship with MAIN_AREA!<BR><BR>\n",
        "I will try the KNeighborsRegressor model for predict the MAIN_AREA.<br>The TOTAL_AREA will be the only feature column."
      ],
      "metadata": {
        "id": "n6CQ7R3jgLc1"
      }
    },
    {
      "cell_type": "markdown",
      "source": [
        "# K Nearest Neighbors model"
      ],
      "metadata": {
        "id": "CIoD8snBJrHg"
      }
    },
    {
      "cell_type": "code",
      "source": [
        "feature_cols = ['TOTAL_AREA'] "
      ],
      "metadata": {
        "id": "71TV2zFK-6kZ"
      },
      "execution_count": null,
      "outputs": []
    },
    {
      "cell_type": "code",
      "source": [
        "X = dummies_data[feature_cols]\n",
        "y = dummies_data['MAIN_AREA']"
      ],
      "metadata": {
        "id": "67cKKj2pCGY3"
      },
      "execution_count": null,
      "outputs": []
    },
    {
      "cell_type": "markdown",
      "source": [
        "There is no need to scale X, because I want the model will refer to the actual TOTAL_AREA value. "
      ],
      "metadata": {
        "id": "n6-oXQPYd3oH"
      }
    },
    {
      "cell_type": "code",
      "source": [
        "from sklearn.model_selection import train_test_split\n",
        "X_train, X_test, y_train, y_test = train_test_split(X, y, test_size=0.33, random_state=42)"
      ],
      "metadata": {
        "id": "8GA9CRZ7_kdI"
      },
      "execution_count": null,
      "outputs": []
    },
    {
      "cell_type": "markdown",
      "source": [
        "Hyperparameter Tuning: Finding best parameters"
      ],
      "metadata": {
        "id": "-M1WuvhWeXi_"
      }
    },
    {
      "cell_type": "code",
      "source": [
        "from sklearn.neighbors import KNeighborsRegressor\n",
        "from sklearn.model_selection import GridSearchCV\n",
        "\n",
        "# find best n_neighbors and weights\n",
        "params = {'n_neighbors':[3,5,7,9,11,13,15,17,19,21,23,25], 'weights':['uniform', 'distance']}\n",
        "\n",
        "knn = KNeighborsRegressor()\n",
        "\n",
        "model = GridSearchCV(knn, params, cv=5)\n",
        "model.fit(X_train, y_train)\n",
        "model.best_params_"
      ],
      "metadata": {
        "colab": {
          "base_uri": "https://localhost:8080/"
        },
        "id": "ikVvMEVWwDni",
        "outputId": "49b9e7cd-f218-43d9-e919-a1441214bd66"
      },
      "execution_count": null,
      "outputs": [
        {
          "output_type": "execute_result",
          "data": {
            "text/plain": [
              "{'n_neighbors': 15, 'weights': 'distance'}"
            ]
          },
          "metadata": {},
          "execution_count": 34
        }
      ]
    },
    {
      "cell_type": "code",
      "source": [
        "neigh = KNeighborsRegressor(n_neighbors=15, weights='distance')\n",
        "neigh.fit(X_train, y_train)"
      ],
      "metadata": {
        "colab": {
          "base_uri": "https://localhost:8080/"
        },
        "id": "f2VmHj0E-2qV",
        "outputId": "97cf93d1-6d8a-4e97-90fa-8b45412e6936"
      },
      "execution_count": null,
      "outputs": [
        {
          "output_type": "execute_result",
          "data": {
            "text/plain": [
              "KNeighborsRegressor(n_neighbors=15, weights='distance')"
            ]
          },
          "metadata": {},
          "execution_count": 35
        }
      ]
    },
    {
      "cell_type": "code",
      "source": [
        "y_pred = neigh.predict(X_test)"
      ],
      "metadata": {
        "id": "QCoWGi5q_3mx"
      },
      "execution_count": null,
      "outputs": []
    },
    {
      "cell_type": "code",
      "source": [
        "from sklearn.metrics import mean_absolute_error\n",
        "from sklearn.metrics import mean_squared_error\n",
        "from sklearn.metrics import r2_score\n",
        "knn_mae = mean_absolute_error(y_test, y_pred)\n",
        "print(\"MAE:\", knn_mae)\n",
        "\n",
        "knn_mse = mean_squared_error(y_test, y_pred)\n",
        "print(\"MSE:\", knn_mse)\n",
        "\n",
        "knn_rmse = mean_squared_error(y_test, y_pred, squared=False)\n",
        "print(\"RMSE:\", knn_rmse)\n",
        "\n",
        "knn_rsquared = r2_score(y_test, y_pred)\n",
        "print(\"R Squared:\", knn_rsquared)"
      ],
      "metadata": {
        "colab": {
          "base_uri": "https://localhost:8080/"
        },
        "id": "TO25yFhSBh_t",
        "outputId": "b85fa339-81d3-4855-89cf-0f95b0895409"
      },
      "execution_count": null,
      "outputs": [
        {
          "output_type": "stream",
          "name": "stdout",
          "text": [
            "MAE: 149.55219208940753\n",
            "MSE: 122649.60587307863\n",
            "RMSE: 350.2136574622392\n",
            "R Squared: 0.9869479362725436\n"
          ]
        }
      ]
    },
    {
      "cell_type": "markdown",
      "source": [
        "[Merging results from model predict with original pandas dataframe.](https://stackoverflow.com/questions/40729162/merging-results-from-model-predict-with-original-pandas-dataframe)\n"
      ],
      "metadata": {
        "id": "fNCjUjFnC6Qb"
      }
    },
    {
      "cell_type": "code",
      "source": [
        "test_predictions_df = pd.DataFrame(y_test)\n",
        "test_predictions_df['y_pred'] = y_pred\n",
        "test_predictions_df.columns = ['MAIN_AREA_true', 'KNN_predictions']\n",
        "test_predictions_df.T"
      ],
      "metadata": {
        "colab": {
          "base_uri": "https://localhost:8080/",
          "height": 205
        },
        "id": "gUWzWBOhCpm8",
        "outputId": "fc60216a-0bb4-42b7-e7ba-ff68cf4df602"
      },
      "execution_count": null,
      "outputs": [
        {
          "output_type": "execute_result",
          "data": {
            "text/html": [
              "\n",
              "  <div id=\"df-423de22d-82eb-4457-834e-51ee2303b5cf\">\n",
              "    <div class=\"colab-df-container\">\n",
              "      <div>\n",
              "<style scoped>\n",
              "    .dataframe tbody tr th:only-of-type {\n",
              "        vertical-align: middle;\n",
              "    }\n",
              "\n",
              "    .dataframe tbody tr th {\n",
              "        vertical-align: top;\n",
              "    }\n",
              "\n",
              "    .dataframe thead th {\n",
              "        text-align: right;\n",
              "    }\n",
              "</style>\n",
              "<table border=\"1\" class=\"dataframe\">\n",
              "  <thead>\n",
              "    <tr style=\"text-align: right;\">\n",
              "      <th></th>\n",
              "      <th>12677</th>\n",
              "      <th>12077</th>\n",
              "      <th>9296</th>\n",
              "      <th>12692</th>\n",
              "      <th>11043</th>\n",
              "      <th>11294</th>\n",
              "      <th>4786</th>\n",
              "      <th>12721</th>\n",
              "      <th>13301</th>\n",
              "      <th>13706</th>\n",
              "      <th>13520</th>\n",
              "      <th>11454</th>\n",
              "      <th>13277</th>\n",
              "      <th>11477</th>\n",
              "      <th>12713</th>\n",
              "      <th>11744</th>\n",
              "      <th>12436</th>\n",
              "      <th>9948</th>\n",
              "      <th>12602</th>\n",
              "      <th>12761</th>\n",
              "      <th>11879</th>\n",
              "      <th>11035</th>\n",
              "      <th>11689</th>\n",
              "      <th>12026</th>\n",
              "      <th>11543</th>\n",
              "      <th>13284</th>\n",
              "      <th>1571</th>\n",
              "      <th>1417</th>\n",
              "      <th>12638</th>\n",
              "      <th>13610</th>\n",
              "      <th>13529</th>\n",
              "      <th>13421</th>\n",
              "      <th>9043</th>\n",
              "      <th>11005</th>\n",
              "      <th>13542</th>\n",
              "      <th>11614</th>\n",
              "      <th>13003</th>\n",
              "      <th>13530</th>\n",
              "      <th>1336</th>\n",
              "      <th>13493</th>\n",
              "      <th>...</th>\n",
              "      <th>11663</th>\n",
              "      <th>12196</th>\n",
              "      <th>13598</th>\n",
              "      <th>12073</th>\n",
              "      <th>6517</th>\n",
              "      <th>12045</th>\n",
              "      <th>12778</th>\n",
              "      <th>11412</th>\n",
              "      <th>11698</th>\n",
              "      <th>13554</th>\n",
              "      <th>11958</th>\n",
              "      <th>5172</th>\n",
              "      <th>11776</th>\n",
              "      <th>13345</th>\n",
              "      <th>11804</th>\n",
              "      <th>7057</th>\n",
              "      <th>4577</th>\n",
              "      <th>5879</th>\n",
              "      <th>12161</th>\n",
              "      <th>12000</th>\n",
              "      <th>441</th>\n",
              "      <th>12999</th>\n",
              "      <th>5415</th>\n",
              "      <th>5385</th>\n",
              "      <th>7488</th>\n",
              "      <th>1830</th>\n",
              "      <th>12604</th>\n",
              "      <th>1947</th>\n",
              "      <th>13397</th>\n",
              "      <th>13260</th>\n",
              "      <th>12757</th>\n",
              "      <th>12364</th>\n",
              "      <th>13461</th>\n",
              "      <th>12237</th>\n",
              "      <th>1905</th>\n",
              "      <th>11832</th>\n",
              "      <th>11257</th>\n",
              "      <th>13201</th>\n",
              "      <th>12691</th>\n",
              "      <th>13536</th>\n",
              "    </tr>\n",
              "  </thead>\n",
              "  <tbody>\n",
              "    <tr>\n",
              "      <th>MAIN_AREA_true</th>\n",
              "      <td>1580.000000</td>\n",
              "      <td>275.000000</td>\n",
              "      <td>200.000000</td>\n",
              "      <td>952.0</td>\n",
              "      <td>355.0</td>\n",
              "      <td>75.000000</td>\n",
              "      <td>809.050000</td>\n",
              "      <td>720.0</td>\n",
              "      <td>203.010000</td>\n",
              "      <td>1211.750000</td>\n",
              "      <td>200.00</td>\n",
              "      <td>130.0</td>\n",
              "      <td>596.500000</td>\n",
              "      <td>250.0</td>\n",
              "      <td>396.000000</td>\n",
              "      <td>850.000000</td>\n",
              "      <td>3000.0</td>\n",
              "      <td>640.000000</td>\n",
              "      <td>480.000000</td>\n",
              "      <td>220.0</td>\n",
              "      <td>4352.000000</td>\n",
              "      <td>2460.000000</td>\n",
              "      <td>916.000000</td>\n",
              "      <td>262.0</td>\n",
              "      <td>5130.000000</td>\n",
              "      <td>701.4</td>\n",
              "      <td>123.600000</td>\n",
              "      <td>859.0</td>\n",
              "      <td>350.0</td>\n",
              "      <td>1107.000000</td>\n",
              "      <td>776.000000</td>\n",
              "      <td>472.500000</td>\n",
              "      <td>761.000000</td>\n",
              "      <td>467.28</td>\n",
              "      <td>450.000000</td>\n",
              "      <td>360.0</td>\n",
              "      <td>790.000000</td>\n",
              "      <td>1190.000000</td>\n",
              "      <td>860.000000</td>\n",
              "      <td>1061.000000</td>\n",
              "      <td>...</td>\n",
              "      <td>2336.000000</td>\n",
              "      <td>700.0</td>\n",
              "      <td>750.0</td>\n",
              "      <td>893.000000</td>\n",
              "      <td>90.000000</td>\n",
              "      <td>180.0</td>\n",
              "      <td>1548.030000</td>\n",
              "      <td>1344.000000</td>\n",
              "      <td>875.0</td>\n",
              "      <td>192.0</td>\n",
              "      <td>1903.000000</td>\n",
              "      <td>160.000000</td>\n",
              "      <td>568.000000</td>\n",
              "      <td>730.300000</td>\n",
              "      <td>1525.000000</td>\n",
              "      <td>670.0</td>\n",
              "      <td>1281.000000</td>\n",
              "      <td>870.000000</td>\n",
              "      <td>557.000000</td>\n",
              "      <td>490.0</td>\n",
              "      <td>3476.000000</td>\n",
              "      <td>383.000000</td>\n",
              "      <td>720.0</td>\n",
              "      <td>11875.000000</td>\n",
              "      <td>840.000000</td>\n",
              "      <td>240.0</td>\n",
              "      <td>283.0</td>\n",
              "      <td>360.000</td>\n",
              "      <td>533.000000</td>\n",
              "      <td>7125.000000</td>\n",
              "      <td>990.000000</td>\n",
              "      <td>890.000000</td>\n",
              "      <td>570.000000</td>\n",
              "      <td>399.000000</td>\n",
              "      <td>457.0</td>\n",
              "      <td>19100.000000</td>\n",
              "      <td>475.00000</td>\n",
              "      <td>868.220000</td>\n",
              "      <td>890.500000</td>\n",
              "      <td>270.0</td>\n",
              "    </tr>\n",
              "    <tr>\n",
              "      <th>KNN_predictions</th>\n",
              "      <td>1638.283819</td>\n",
              "      <td>265.571429</td>\n",
              "      <td>199.369458</td>\n",
              "      <td>1010.0</td>\n",
              "      <td>285.0</td>\n",
              "      <td>89.357078</td>\n",
              "      <td>884.105023</td>\n",
              "      <td>751.8</td>\n",
              "      <td>175.316243</td>\n",
              "      <td>1274.213701</td>\n",
              "      <td>205.25</td>\n",
              "      <td>156.0</td>\n",
              "      <td>543.543257</td>\n",
              "      <td>246.8</td>\n",
              "      <td>375.333333</td>\n",
              "      <td>887.733333</td>\n",
              "      <td>2915.0</td>\n",
              "      <td>692.888889</td>\n",
              "      <td>499.666667</td>\n",
              "      <td>212.0</td>\n",
              "      <td>4883.968123</td>\n",
              "      <td>3294.030025</td>\n",
              "      <td>905.145878</td>\n",
              "      <td>283.0</td>\n",
              "      <td>4859.952531</td>\n",
              "      <td>698.5</td>\n",
              "      <td>136.933501</td>\n",
              "      <td>849.0</td>\n",
              "      <td>345.0</td>\n",
              "      <td>1301.849829</td>\n",
              "      <td>696.351513</td>\n",
              "      <td>402.902643</td>\n",
              "      <td>760.127899</td>\n",
              "      <td>496.10</td>\n",
              "      <td>562.918352</td>\n",
              "      <td>385.0</td>\n",
              "      <td>771.772311</td>\n",
              "      <td>1414.844986</td>\n",
              "      <td>887.733333</td>\n",
              "      <td>1031.684546</td>\n",
              "      <td>...</td>\n",
              "      <td>2035.183312</td>\n",
              "      <td>556.0</td>\n",
              "      <td>800.0</td>\n",
              "      <td>914.258038</td>\n",
              "      <td>134.375517</td>\n",
              "      <td>180.0</td>\n",
              "      <td>1653.837073</td>\n",
              "      <td>1516.477383</td>\n",
              "      <td>777.5</td>\n",
              "      <td>221.0</td>\n",
              "      <td>2371.374929</td>\n",
              "      <td>159.121672</td>\n",
              "      <td>538.666667</td>\n",
              "      <td>903.523062</td>\n",
              "      <td>1730.711936</td>\n",
              "      <td>757.0</td>\n",
              "      <td>1274.275641</td>\n",
              "      <td>938.940979</td>\n",
              "      <td>597.074009</td>\n",
              "      <td>512.0</td>\n",
              "      <td>4553.319911</td>\n",
              "      <td>357.516111</td>\n",
              "      <td>970.0</td>\n",
              "      <td>11932.468314</td>\n",
              "      <td>810.666667</td>\n",
              "      <td>246.8</td>\n",
              "      <td>246.8</td>\n",
              "      <td>334.375</td>\n",
              "      <td>466.772306</td>\n",
              "      <td>5114.103058</td>\n",
              "      <td>983.119223</td>\n",
              "      <td>1146.591923</td>\n",
              "      <td>569.727273</td>\n",
              "      <td>385.037437</td>\n",
              "      <td>468.5</td>\n",
              "      <td>18830.085928</td>\n",
              "      <td>463.88894</td>\n",
              "      <td>755.947408</td>\n",
              "      <td>828.984346</td>\n",
              "      <td>325.0</td>\n",
              "    </tr>\n",
              "  </tbody>\n",
              "</table>\n",
              "<p>2 rows × 850 columns</p>\n",
              "</div>\n",
              "      <button class=\"colab-df-convert\" onclick=\"convertToInteractive('df-423de22d-82eb-4457-834e-51ee2303b5cf')\"\n",
              "              title=\"Convert this dataframe to an interactive table.\"\n",
              "              style=\"display:none;\">\n",
              "        \n",
              "  <svg xmlns=\"http://www.w3.org/2000/svg\" height=\"24px\"viewBox=\"0 0 24 24\"\n",
              "       width=\"24px\">\n",
              "    <path d=\"M0 0h24v24H0V0z\" fill=\"none\"/>\n",
              "    <path d=\"M18.56 5.44l.94 2.06.94-2.06 2.06-.94-2.06-.94-.94-2.06-.94 2.06-2.06.94zm-11 1L8.5 8.5l.94-2.06 2.06-.94-2.06-.94L8.5 2.5l-.94 2.06-2.06.94zm10 10l.94 2.06.94-2.06 2.06-.94-2.06-.94-.94-2.06-.94 2.06-2.06.94z\"/><path d=\"M17.41 7.96l-1.37-1.37c-.4-.4-.92-.59-1.43-.59-.52 0-1.04.2-1.43.59L10.3 9.45l-7.72 7.72c-.78.78-.78 2.05 0 2.83L4 21.41c.39.39.9.59 1.41.59.51 0 1.02-.2 1.41-.59l7.78-7.78 2.81-2.81c.8-.78.8-2.07 0-2.86zM5.41 20L4 18.59l7.72-7.72 1.47 1.35L5.41 20z\"/>\n",
              "  </svg>\n",
              "      </button>\n",
              "      \n",
              "  <style>\n",
              "    .colab-df-container {\n",
              "      display:flex;\n",
              "      flex-wrap:wrap;\n",
              "      gap: 12px;\n",
              "    }\n",
              "\n",
              "    .colab-df-convert {\n",
              "      background-color: #E8F0FE;\n",
              "      border: none;\n",
              "      border-radius: 50%;\n",
              "      cursor: pointer;\n",
              "      display: none;\n",
              "      fill: #1967D2;\n",
              "      height: 32px;\n",
              "      padding: 0 0 0 0;\n",
              "      width: 32px;\n",
              "    }\n",
              "\n",
              "    .colab-df-convert:hover {\n",
              "      background-color: #E2EBFA;\n",
              "      box-shadow: 0px 1px 2px rgba(60, 64, 67, 0.3), 0px 1px 3px 1px rgba(60, 64, 67, 0.15);\n",
              "      fill: #174EA6;\n",
              "    }\n",
              "\n",
              "    [theme=dark] .colab-df-convert {\n",
              "      background-color: #3B4455;\n",
              "      fill: #D2E3FC;\n",
              "    }\n",
              "\n",
              "    [theme=dark] .colab-df-convert:hover {\n",
              "      background-color: #434B5C;\n",
              "      box-shadow: 0px 1px 3px 1px rgba(0, 0, 0, 0.15);\n",
              "      filter: drop-shadow(0px 1px 2px rgba(0, 0, 0, 0.3));\n",
              "      fill: #FFFFFF;\n",
              "    }\n",
              "  </style>\n",
              "\n",
              "      <script>\n",
              "        const buttonEl =\n",
              "          document.querySelector('#df-423de22d-82eb-4457-834e-51ee2303b5cf button.colab-df-convert');\n",
              "        buttonEl.style.display =\n",
              "          google.colab.kernel.accessAllowed ? 'block' : 'none';\n",
              "\n",
              "        async function convertToInteractive(key) {\n",
              "          const element = document.querySelector('#df-423de22d-82eb-4457-834e-51ee2303b5cf');\n",
              "          const dataTable =\n",
              "            await google.colab.kernel.invokeFunction('convertToInteractive',\n",
              "                                                     [key], {});\n",
              "          if (!dataTable) return;\n",
              "\n",
              "          const docLinkHtml = 'Like what you see? Visit the ' +\n",
              "            '<a target=\"_blank\" href=https://colab.research.google.com/notebooks/data_table.ipynb>data table notebook</a>'\n",
              "            + ' to learn more about interactive tables.';\n",
              "          element.innerHTML = '';\n",
              "          dataTable['output_type'] = 'display_data';\n",
              "          await google.colab.output.renderOutput(dataTable, element);\n",
              "          const docLink = document.createElement('div');\n",
              "          docLink.innerHTML = docLinkHtml;\n",
              "          element.appendChild(docLink);\n",
              "        }\n",
              "      </script>\n",
              "    </div>\n",
              "  </div>\n",
              "  "
            ],
            "text/plain": [
              "                       12677       12077  ...       12691  13536\n",
              "MAIN_AREA_true   1580.000000  275.000000  ...  890.500000  270.0\n",
              "KNN_predictions  1638.283819  265.571429  ...  828.984346  325.0\n",
              "\n",
              "[2 rows x 850 columns]"
            ]
          },
          "metadata": {},
          "execution_count": 38
        }
      ]
    },
    {
      "cell_type": "markdown",
      "source": [
        "**Testing the model again on new data - only areas of plans that confirmed after Nov 2021.**"
      ],
      "metadata": {
        "id": "YZcu9OZpdEq6"
      }
    },
    {
      "cell_type": "code",
      "source": [
        "new_cellsdata = pd.read_csv('https://raw.githubusercontent.com/mannmoshe/machine-learning/main/FinalProject/cellsData_New.csv')"
      ],
      "metadata": {
        "id": "72FIvqbA1iLD"
      },
      "execution_count": null,
      "outputs": []
    },
    {
      "cell_type": "markdown",
      "source": [
        "Here I do not care to take multiple areas of same plans - because I want to test the model."
      ],
      "metadata": {
        "id": "aom_caCQdXwg"
      }
    },
    {
      "cell_type": "code",
      "source": [
        "new_data = new_cellsdata[new_cellsdata['TOTAL_AREA'] < 40000]\n",
        "new_data.shape"
      ],
      "metadata": {
        "colab": {
          "base_uri": "https://localhost:8080/"
        },
        "id": "ejUKxsg-dWOB",
        "outputId": "1834f4db-fb3c-4670-c482-5e731fb4bcda"
      },
      "execution_count": null,
      "outputs": [
        {
          "output_type": "execute_result",
          "data": {
            "text/plain": [
              "(359, 17)"
            ]
          },
          "metadata": {},
          "execution_count": 40
        }
      ]
    },
    {
      "cell_type": "code",
      "source": [
        "X_new = new_data[feature_cols]\n",
        "y_new = new_data['MAIN_AREA']"
      ],
      "metadata": {
        "id": "Vxp-M0j41o17"
      },
      "execution_count": null,
      "outputs": []
    },
    {
      "cell_type": "code",
      "source": [
        "y_new_pred = neigh.predict(X_new)"
      ],
      "metadata": {
        "id": "kWv0vkei2MGY"
      },
      "execution_count": null,
      "outputs": []
    },
    {
      "cell_type": "code",
      "source": [
        "knn_new_mae = mean_absolute_error(y_new, y_new_pred)\n",
        "print(\"MAE:\", knn_new_mae)\n",
        "\n",
        "knn_new_mse = mean_squared_error(y_new, y_new_pred)\n",
        "print(\"MSE:\", knn_new_mse)\n",
        "\n",
        "knn_new_rmse = mean_squared_error(y_new, y_new_pred, squared=False)\n",
        "print(\"RMSE:\", knn_new_rmse)\n",
        "\n",
        "knn_new_rsquared = r2_score(y_new, y_new_pred)\n",
        "print(\"R Squared:\", knn_new_rsquared)"
      ],
      "metadata": {
        "colab": {
          "base_uri": "https://localhost:8080/"
        },
        "id": "jyykmIZy2Vxs",
        "outputId": "00e24a1a-460d-4858-ae58-4bb46a817c47"
      },
      "execution_count": null,
      "outputs": [
        {
          "output_type": "stream",
          "name": "stdout",
          "text": [
            "MAE: 218.72816344680456\n",
            "MSE: 134402.6351713456\n",
            "RMSE: 366.60964958842203\n",
            "R Squared: 0.9737304053500706\n"
          ]
        }
      ]
    },
    {
      "cell_type": "code",
      "source": [
        "new_predictions_df = pd.DataFrame(y_new)\n",
        "new_predictions_df['y_pred'] = y_new_pred\n",
        "new_predictions_df.columns = ['MAIN_AREA_true', 'KNN_predictions']\n",
        "\n",
        "new_predictions_df.T"
      ],
      "metadata": {
        "colab": {
          "base_uri": "https://localhost:8080/",
          "height": 205
        },
        "id": "xoVMroZQ2wAC",
        "outputId": "89ea9d46-7778-4b5f-9975-99e5da099d10"
      },
      "execution_count": null,
      "outputs": [
        {
          "output_type": "execute_result",
          "data": {
            "text/html": [
              "\n",
              "  <div id=\"df-0857cef9-6628-43b2-a57d-5ea139ab3a78\">\n",
              "    <div class=\"colab-df-container\">\n",
              "      <div>\n",
              "<style scoped>\n",
              "    .dataframe tbody tr th:only-of-type {\n",
              "        vertical-align: middle;\n",
              "    }\n",
              "\n",
              "    .dataframe tbody tr th {\n",
              "        vertical-align: top;\n",
              "    }\n",
              "\n",
              "    .dataframe thead th {\n",
              "        text-align: right;\n",
              "    }\n",
              "</style>\n",
              "<table border=\"1\" class=\"dataframe\">\n",
              "  <thead>\n",
              "    <tr style=\"text-align: right;\">\n",
              "      <th></th>\n",
              "      <th>0</th>\n",
              "      <th>1</th>\n",
              "      <th>2</th>\n",
              "      <th>3</th>\n",
              "      <th>4</th>\n",
              "      <th>5</th>\n",
              "      <th>6</th>\n",
              "      <th>7</th>\n",
              "      <th>8</th>\n",
              "      <th>9</th>\n",
              "      <th>10</th>\n",
              "      <th>11</th>\n",
              "      <th>12</th>\n",
              "      <th>13</th>\n",
              "      <th>14</th>\n",
              "      <th>15</th>\n",
              "      <th>16</th>\n",
              "      <th>17</th>\n",
              "      <th>18</th>\n",
              "      <th>19</th>\n",
              "      <th>20</th>\n",
              "      <th>21</th>\n",
              "      <th>22</th>\n",
              "      <th>23</th>\n",
              "      <th>24</th>\n",
              "      <th>25</th>\n",
              "      <th>26</th>\n",
              "      <th>27</th>\n",
              "      <th>28</th>\n",
              "      <th>29</th>\n",
              "      <th>30</th>\n",
              "      <th>31</th>\n",
              "      <th>32</th>\n",
              "      <th>33</th>\n",
              "      <th>34</th>\n",
              "      <th>35</th>\n",
              "      <th>36</th>\n",
              "      <th>37</th>\n",
              "      <th>38</th>\n",
              "      <th>39</th>\n",
              "      <th>...</th>\n",
              "      <th>319</th>\n",
              "      <th>320</th>\n",
              "      <th>321</th>\n",
              "      <th>322</th>\n",
              "      <th>323</th>\n",
              "      <th>324</th>\n",
              "      <th>325</th>\n",
              "      <th>326</th>\n",
              "      <th>327</th>\n",
              "      <th>328</th>\n",
              "      <th>329</th>\n",
              "      <th>330</th>\n",
              "      <th>331</th>\n",
              "      <th>332</th>\n",
              "      <th>333</th>\n",
              "      <th>334</th>\n",
              "      <th>335</th>\n",
              "      <th>336</th>\n",
              "      <th>337</th>\n",
              "      <th>338</th>\n",
              "      <th>339</th>\n",
              "      <th>340</th>\n",
              "      <th>341</th>\n",
              "      <th>342</th>\n",
              "      <th>343</th>\n",
              "      <th>344</th>\n",
              "      <th>345</th>\n",
              "      <th>346</th>\n",
              "      <th>347</th>\n",
              "      <th>348</th>\n",
              "      <th>349</th>\n",
              "      <th>350</th>\n",
              "      <th>351</th>\n",
              "      <th>352</th>\n",
              "      <th>353</th>\n",
              "      <th>354</th>\n",
              "      <th>355</th>\n",
              "      <th>356</th>\n",
              "      <th>357</th>\n",
              "      <th>358</th>\n",
              "    </tr>\n",
              "  </thead>\n",
              "  <tbody>\n",
              "    <tr>\n",
              "      <th>MAIN_AREA_true</th>\n",
              "      <td>576.0</td>\n",
              "      <td>220.0</td>\n",
              "      <td>240.0</td>\n",
              "      <td>570.400000</td>\n",
              "      <td>768.800000</td>\n",
              "      <td>620.0</td>\n",
              "      <td>590.240000</td>\n",
              "      <td>728.000000</td>\n",
              "      <td>3250.000000</td>\n",
              "      <td>15155.000000</td>\n",
              "      <td>8155.000000</td>\n",
              "      <td>19810.000000</td>\n",
              "      <td>12985.00000</td>\n",
              "      <td>15045.000000</td>\n",
              "      <td>14015.000000</td>\n",
              "      <td>13555.000000</td>\n",
              "      <td>14965.000000</td>\n",
              "      <td>18275.000000</td>\n",
              "      <td>953.000000</td>\n",
              "      <td>575.0</td>\n",
              "      <td>647.000</td>\n",
              "      <td>618.0</td>\n",
              "      <td>653.000000</td>\n",
              "      <td>645.000000</td>\n",
              "      <td>659.00000</td>\n",
              "      <td>686.0</td>\n",
              "      <td>670.000000</td>\n",
              "      <td>651.000000</td>\n",
              "      <td>640.000000</td>\n",
              "      <td>620.00000</td>\n",
              "      <td>624.0</td>\n",
              "      <td>647.000</td>\n",
              "      <td>647.000</td>\n",
              "      <td>672.000000</td>\n",
              "      <td>1610.000000</td>\n",
              "      <td>945.000000</td>\n",
              "      <td>601.000000</td>\n",
              "      <td>1015.000000</td>\n",
              "      <td>1032.0000</td>\n",
              "      <td>1040.000000</td>\n",
              "      <td>...</td>\n",
              "      <td>720.000000</td>\n",
              "      <td>720.000000</td>\n",
              "      <td>720.000000</td>\n",
              "      <td>720.000000</td>\n",
              "      <td>720.000000</td>\n",
              "      <td>720.000000</td>\n",
              "      <td>720.000000</td>\n",
              "      <td>720.000000</td>\n",
              "      <td>720.000000</td>\n",
              "      <td>324.000000</td>\n",
              "      <td>324.000000</td>\n",
              "      <td>324.000000</td>\n",
              "      <td>324.000000</td>\n",
              "      <td>324.000000</td>\n",
              "      <td>1894.0000</td>\n",
              "      <td>220.0</td>\n",
              "      <td>205.000000</td>\n",
              "      <td>160.0</td>\n",
              "      <td>285.000000</td>\n",
              "      <td>190.000000</td>\n",
              "      <td>240.0</td>\n",
              "      <td>576.0</td>\n",
              "      <td>3060.000000</td>\n",
              "      <td>600.000000</td>\n",
              "      <td>897.0</td>\n",
              "      <td>332.400000</td>\n",
              "      <td>4400.000000</td>\n",
              "      <td>230.00</td>\n",
              "      <td>460.0</td>\n",
              "      <td>1456.00000</td>\n",
              "      <td>230.0</td>\n",
              "      <td>370.000000</td>\n",
              "      <td>383.140000</td>\n",
              "      <td>240.0</td>\n",
              "      <td>480.000000</td>\n",
              "      <td>527.050000</td>\n",
              "      <td>810.600000</td>\n",
              "      <td>811.0</td>\n",
              "      <td>920.0</td>\n",
              "      <td>3034.000000</td>\n",
              "    </tr>\n",
              "    <tr>\n",
              "      <th>KNN_predictions</th>\n",
              "      <td>576.8</td>\n",
              "      <td>230.0</td>\n",
              "      <td>246.8</td>\n",
              "      <td>551.822287</td>\n",
              "      <td>730.580274</td>\n",
              "      <td>595.0</td>\n",
              "      <td>558.887134</td>\n",
              "      <td>686.357143</td>\n",
              "      <td>3358.802078</td>\n",
              "      <td>15772.550068</td>\n",
              "      <td>8564.061464</td>\n",
              "      <td>19962.697228</td>\n",
              "      <td>12967.59193</td>\n",
              "      <td>15626.025226</td>\n",
              "      <td>14516.864137</td>\n",
              "      <td>13770.247267</td>\n",
              "      <td>15603.645101</td>\n",
              "      <td>18484.665472</td>\n",
              "      <td>1143.339297</td>\n",
              "      <td>777.5</td>\n",
              "      <td>928.685</td>\n",
              "      <td>903.0</td>\n",
              "      <td>804.565962</td>\n",
              "      <td>910.154797</td>\n",
              "      <td>874.02346</td>\n",
              "      <td>819.0</td>\n",
              "      <td>886.333333</td>\n",
              "      <td>825.465309</td>\n",
              "      <td>887.733333</td>\n",
              "      <td>866.57257</td>\n",
              "      <td>918.0</td>\n",
              "      <td>928.685</td>\n",
              "      <td>928.685</td>\n",
              "      <td>881.339454</td>\n",
              "      <td>2177.050269</td>\n",
              "      <td>1215.545586</td>\n",
              "      <td>811.327694</td>\n",
              "      <td>1328.755567</td>\n",
              "      <td>1267.1068</td>\n",
              "      <td>1441.886046</td>\n",
              "      <td>...</td>\n",
              "      <td>692.888889</td>\n",
              "      <td>692.888889</td>\n",
              "      <td>692.888889</td>\n",
              "      <td>692.888889</td>\n",
              "      <td>692.888889</td>\n",
              "      <td>692.888889</td>\n",
              "      <td>692.888889</td>\n",
              "      <td>692.888889</td>\n",
              "      <td>692.888889</td>\n",
              "      <td>338.305085</td>\n",
              "      <td>338.305085</td>\n",
              "      <td>338.305085</td>\n",
              "      <td>338.305085</td>\n",
              "      <td>338.305085</td>\n",
              "      <td>1872.4103</td>\n",
              "      <td>220.0</td>\n",
              "      <td>211.454739</td>\n",
              "      <td>175.5</td>\n",
              "      <td>302.044524</td>\n",
              "      <td>257.785926</td>\n",
              "      <td>246.8</td>\n",
              "      <td>576.8</td>\n",
              "      <td>2477.551703</td>\n",
              "      <td>582.429969</td>\n",
              "      <td>767.0</td>\n",
              "      <td>340.616592</td>\n",
              "      <td>4379.226293</td>\n",
              "      <td>196.75</td>\n",
              "      <td>450.0</td>\n",
              "      <td>1405.35074</td>\n",
              "      <td>220.0</td>\n",
              "      <td>387.712764</td>\n",
              "      <td>385.862118</td>\n",
              "      <td>246.8</td>\n",
              "      <td>538.666667</td>\n",
              "      <td>639.757538</td>\n",
              "      <td>810.509426</td>\n",
              "      <td>781.5</td>\n",
              "      <td>971.5</td>\n",
              "      <td>2706.828496</td>\n",
              "    </tr>\n",
              "  </tbody>\n",
              "</table>\n",
              "<p>2 rows × 359 columns</p>\n",
              "</div>\n",
              "      <button class=\"colab-df-convert\" onclick=\"convertToInteractive('df-0857cef9-6628-43b2-a57d-5ea139ab3a78')\"\n",
              "              title=\"Convert this dataframe to an interactive table.\"\n",
              "              style=\"display:none;\">\n",
              "        \n",
              "  <svg xmlns=\"http://www.w3.org/2000/svg\" height=\"24px\"viewBox=\"0 0 24 24\"\n",
              "       width=\"24px\">\n",
              "    <path d=\"M0 0h24v24H0V0z\" fill=\"none\"/>\n",
              "    <path d=\"M18.56 5.44l.94 2.06.94-2.06 2.06-.94-2.06-.94-.94-2.06-.94 2.06-2.06.94zm-11 1L8.5 8.5l.94-2.06 2.06-.94-2.06-.94L8.5 2.5l-.94 2.06-2.06.94zm10 10l.94 2.06.94-2.06 2.06-.94-2.06-.94-.94-2.06-.94 2.06-2.06.94z\"/><path d=\"M17.41 7.96l-1.37-1.37c-.4-.4-.92-.59-1.43-.59-.52 0-1.04.2-1.43.59L10.3 9.45l-7.72 7.72c-.78.78-.78 2.05 0 2.83L4 21.41c.39.39.9.59 1.41.59.51 0 1.02-.2 1.41-.59l7.78-7.78 2.81-2.81c.8-.78.8-2.07 0-2.86zM5.41 20L4 18.59l7.72-7.72 1.47 1.35L5.41 20z\"/>\n",
              "  </svg>\n",
              "      </button>\n",
              "      \n",
              "  <style>\n",
              "    .colab-df-container {\n",
              "      display:flex;\n",
              "      flex-wrap:wrap;\n",
              "      gap: 12px;\n",
              "    }\n",
              "\n",
              "    .colab-df-convert {\n",
              "      background-color: #E8F0FE;\n",
              "      border: none;\n",
              "      border-radius: 50%;\n",
              "      cursor: pointer;\n",
              "      display: none;\n",
              "      fill: #1967D2;\n",
              "      height: 32px;\n",
              "      padding: 0 0 0 0;\n",
              "      width: 32px;\n",
              "    }\n",
              "\n",
              "    .colab-df-convert:hover {\n",
              "      background-color: #E2EBFA;\n",
              "      box-shadow: 0px 1px 2px rgba(60, 64, 67, 0.3), 0px 1px 3px 1px rgba(60, 64, 67, 0.15);\n",
              "      fill: #174EA6;\n",
              "    }\n",
              "\n",
              "    [theme=dark] .colab-df-convert {\n",
              "      background-color: #3B4455;\n",
              "      fill: #D2E3FC;\n",
              "    }\n",
              "\n",
              "    [theme=dark] .colab-df-convert:hover {\n",
              "      background-color: #434B5C;\n",
              "      box-shadow: 0px 1px 3px 1px rgba(0, 0, 0, 0.15);\n",
              "      filter: drop-shadow(0px 1px 2px rgba(0, 0, 0, 0.3));\n",
              "      fill: #FFFFFF;\n",
              "    }\n",
              "  </style>\n",
              "\n",
              "      <script>\n",
              "        const buttonEl =\n",
              "          document.querySelector('#df-0857cef9-6628-43b2-a57d-5ea139ab3a78 button.colab-df-convert');\n",
              "        buttonEl.style.display =\n",
              "          google.colab.kernel.accessAllowed ? 'block' : 'none';\n",
              "\n",
              "        async function convertToInteractive(key) {\n",
              "          const element = document.querySelector('#df-0857cef9-6628-43b2-a57d-5ea139ab3a78');\n",
              "          const dataTable =\n",
              "            await google.colab.kernel.invokeFunction('convertToInteractive',\n",
              "                                                     [key], {});\n",
              "          if (!dataTable) return;\n",
              "\n",
              "          const docLinkHtml = 'Like what you see? Visit the ' +\n",
              "            '<a target=\"_blank\" href=https://colab.research.google.com/notebooks/data_table.ipynb>data table notebook</a>'\n",
              "            + ' to learn more about interactive tables.';\n",
              "          element.innerHTML = '';\n",
              "          dataTable['output_type'] = 'display_data';\n",
              "          await google.colab.output.renderOutput(dataTable, element);\n",
              "          const docLink = document.createElement('div');\n",
              "          docLink.innerHTML = docLinkHtml;\n",
              "          element.appendChild(docLink);\n",
              "        }\n",
              "      </script>\n",
              "    </div>\n",
              "  </div>\n",
              "  "
            ],
            "text/plain": [
              "                   0      1      2    ...    356    357          358\n",
              "MAIN_AREA_true   576.0  220.0  240.0  ...  811.0  920.0  3034.000000\n",
              "KNN_predictions  576.8  230.0  246.8  ...  781.5  971.5  2706.828496\n",
              "\n",
              "[2 rows x 359 columns]"
            ]
          },
          "metadata": {},
          "execution_count": 44
        }
      ]
    },
    {
      "cell_type": "markdown",
      "source": [
        "# Linear Regression model"
      ],
      "metadata": {
        "id": "j0ShezChJi-m"
      }
    },
    {
      "cell_type": "markdown",
      "source": [
        "The next step is to try linear regression model and see how it affect the results.<BR>The feture cloumns will be all the features with at least 0.5 Pearson correlation coefficient. "
      ],
      "metadata": {
        "id": "rOZC_4gWE5SK"
      }
    },
    {
      "cell_type": "code",
      "source": [
        "corr.loc['MAIN_AREA'].sort_values(ascending=False).head(10)"
      ],
      "metadata": {
        "colab": {
          "base_uri": "https://localhost:8080/"
        },
        "id": "dPwN5ERGGDW7",
        "outputId": "1c4e2ca4-8eba-4f4f-896f-9004ef227028"
      },
      "execution_count": null,
      "outputs": [
        {
          "output_type": "execute_result",
          "data": {
            "text/plain": [
              "MAIN_AREA             1.000000\n",
              "TOTAL_AREA            0.996335\n",
              "HOUSING_UNITS         0.834821\n",
              "FLOORS_NUM            0.658868\n",
              "CELL_SIZE_TOTAL       0.609265\n",
              "BUILDING_HEIGHT       0.587021\n",
              "DISTRICT_TEL_AVIV     0.279853\n",
              "IS_TAMAL              0.185409\n",
              "AUTHORITY_COUNTRY     0.185409\n",
              "AUTHORITY_DISTRICT    0.185409\n",
              "Name: MAIN_AREA, dtype: float64"
            ]
          },
          "metadata": {},
          "execution_count": 45
        }
      ]
    },
    {
      "cell_type": "code",
      "source": [
        "feature_cols_linear_reg = ['TOTAL_AREA', 'HOUSING_UNITS', 'FLOORS_NUM', 'CELL_SIZE_TOTAL', 'BUILDING_HEIGHT'] "
      ],
      "metadata": {
        "id": "sltIIzxqFKHS"
      },
      "execution_count": null,
      "outputs": []
    },
    {
      "cell_type": "code",
      "source": [
        "X = dummies_data[feature_cols_linear_reg]\n",
        "y = dummies_data['MAIN_AREA']"
      ],
      "metadata": {
        "id": "-eCiChfgGcdM"
      },
      "execution_count": null,
      "outputs": []
    },
    {
      "cell_type": "code",
      "source": [
        "X_train, X_test, y_train, y_test = train_test_split(X, y, test_size=0.33, random_state=42)"
      ],
      "metadata": {
        "id": "iLrnZxP1HGfs"
      },
      "execution_count": null,
      "outputs": []
    },
    {
      "cell_type": "code",
      "source": [
        "from sklearn.linear_model import LinearRegression, Ridge, Lasso\n",
        "\n",
        "lr = LinearRegression()\n",
        "lr.fit(X_train, y_train)\n",
        "\n",
        "rr = Ridge()\n",
        "rr.fit(X_train, y_train)\n",
        "\n",
        "lassor = Lasso()\n",
        "lassor.fit(X_train, y_train)"
      ],
      "metadata": {
        "colab": {
          "base_uri": "https://localhost:8080/"
        },
        "id": "cK4p9rOHHHnh",
        "outputId": "00d143e9-8d9e-4b10-9129-085d1bc2fa94"
      },
      "execution_count": null,
      "outputs": [
        {
          "output_type": "execute_result",
          "data": {
            "text/plain": [
              "Lasso()"
            ]
          },
          "metadata": {},
          "execution_count": 49
        }
      ]
    },
    {
      "cell_type": "code",
      "source": [
        "lr_y_pred = lr.predict(X_test)\n",
        "rr_y_pred = rr.predict(X_test)\n",
        "lassor_y_pred = lassor.predict(X_test)"
      ],
      "metadata": {
        "id": "kof5pUKgHU8S"
      },
      "execution_count": null,
      "outputs": []
    },
    {
      "cell_type": "code",
      "source": [
        "lr_mae = mean_absolute_error(y_test, lr_y_pred)\n",
        "rr_mae = mean_absolute_error(y_test, rr_y_pred)\n",
        "lassor_mae = mean_absolute_error(y_test, lassor_y_pred)\n",
        "\n",
        "lr_mse = mean_squared_error(y_test, lr_y_pred)\n",
        "rr_mse = mean_squared_error(y_test, rr_y_pred)\n",
        "lassor_mse = mean_squared_error(y_test, lassor_y_pred)\n",
        "\n",
        "lr_rmse = mean_squared_error(y_test, lr_y_pred, squared=False)\n",
        "rr_rmse = mean_squared_error(y_test, rr_y_pred, squared=False)\n",
        "lassor_rmse = mean_squared_error(y_test, lassor_y_pred, squared=False)\n",
        "\n",
        "lr_rsquared = r2_score(y_test, lr_y_pred)\n",
        "rr_rsquared = r2_score(y_test, rr_y_pred)\n",
        "lassor_rsquared = r2_score(y_test, lassor_y_pred)\n",
        "\n",
        "reg_labels = ['Linear Regression', 'Ridge', 'Lasso']\n",
        "\n",
        "reg_mae_vals = [lr_mae, rr_mae, lassor_mae]\n",
        "reg_mse_vals = [lr_mse, rr_mse, lassor_mse]\n",
        "reg_rmse_vals = [lr_rmse, rr_rmse, lassor_rmse]\n",
        "reg_rsquared_vals = [lr_rsquared, rr_rsquared, lassor_rsquared]\n",
        "\n",
        "reg_compare_df = pd.DataFrame({\n",
        "    'MAE': reg_mae_vals,\n",
        "    'MSE': reg_mse_vals,\n",
        "    'RMSE': reg_rmse_vals,\n",
        "    'Rsquared': reg_rsquared_vals\n",
        "}, index=reg_labels)\n",
        "\n",
        "reg_compare_df"
      ],
      "metadata": {
        "colab": {
          "base_uri": "https://localhost:8080/",
          "height": 143
        },
        "id": "IVwU950vIHTS",
        "outputId": "3d2fd14a-916c-485c-e1a3-1199e8534db4"
      },
      "execution_count": null,
      "outputs": [
        {
          "output_type": "execute_result",
          "data": {
            "text/html": [
              "\n",
              "  <div id=\"df-c2ea730f-29d2-4fbe-b644-80c09dc493c9\">\n",
              "    <div class=\"colab-df-container\">\n",
              "      <div>\n",
              "<style scoped>\n",
              "    .dataframe tbody tr th:only-of-type {\n",
              "        vertical-align: middle;\n",
              "    }\n",
              "\n",
              "    .dataframe tbody tr th {\n",
              "        vertical-align: top;\n",
              "    }\n",
              "\n",
              "    .dataframe thead th {\n",
              "        text-align: right;\n",
              "    }\n",
              "</style>\n",
              "<table border=\"1\" class=\"dataframe\">\n",
              "  <thead>\n",
              "    <tr style=\"text-align: right;\">\n",
              "      <th></th>\n",
              "      <th>MAE</th>\n",
              "      <th>MSE</th>\n",
              "      <th>RMSE</th>\n",
              "      <th>Rsquared</th>\n",
              "    </tr>\n",
              "  </thead>\n",
              "  <tbody>\n",
              "    <tr>\n",
              "      <th>Linear Regression</th>\n",
              "      <td>161.878259</td>\n",
              "      <td>117972.609724</td>\n",
              "      <td>343.471410</td>\n",
              "      <td>0.987446</td>\n",
              "    </tr>\n",
              "    <tr>\n",
              "      <th>Ridge</th>\n",
              "      <td>161.877535</td>\n",
              "      <td>117972.391486</td>\n",
              "      <td>343.471093</td>\n",
              "      <td>0.987446</td>\n",
              "    </tr>\n",
              "    <tr>\n",
              "      <th>Lasso</th>\n",
              "      <td>161.815705</td>\n",
              "      <td>117959.751029</td>\n",
              "      <td>343.452691</td>\n",
              "      <td>0.987447</td>\n",
              "    </tr>\n",
              "  </tbody>\n",
              "</table>\n",
              "</div>\n",
              "      <button class=\"colab-df-convert\" onclick=\"convertToInteractive('df-c2ea730f-29d2-4fbe-b644-80c09dc493c9')\"\n",
              "              title=\"Convert this dataframe to an interactive table.\"\n",
              "              style=\"display:none;\">\n",
              "        \n",
              "  <svg xmlns=\"http://www.w3.org/2000/svg\" height=\"24px\"viewBox=\"0 0 24 24\"\n",
              "       width=\"24px\">\n",
              "    <path d=\"M0 0h24v24H0V0z\" fill=\"none\"/>\n",
              "    <path d=\"M18.56 5.44l.94 2.06.94-2.06 2.06-.94-2.06-.94-.94-2.06-.94 2.06-2.06.94zm-11 1L8.5 8.5l.94-2.06 2.06-.94-2.06-.94L8.5 2.5l-.94 2.06-2.06.94zm10 10l.94 2.06.94-2.06 2.06-.94-2.06-.94-.94-2.06-.94 2.06-2.06.94z\"/><path d=\"M17.41 7.96l-1.37-1.37c-.4-.4-.92-.59-1.43-.59-.52 0-1.04.2-1.43.59L10.3 9.45l-7.72 7.72c-.78.78-.78 2.05 0 2.83L4 21.41c.39.39.9.59 1.41.59.51 0 1.02-.2 1.41-.59l7.78-7.78 2.81-2.81c.8-.78.8-2.07 0-2.86zM5.41 20L4 18.59l7.72-7.72 1.47 1.35L5.41 20z\"/>\n",
              "  </svg>\n",
              "      </button>\n",
              "      \n",
              "  <style>\n",
              "    .colab-df-container {\n",
              "      display:flex;\n",
              "      flex-wrap:wrap;\n",
              "      gap: 12px;\n",
              "    }\n",
              "\n",
              "    .colab-df-convert {\n",
              "      background-color: #E8F0FE;\n",
              "      border: none;\n",
              "      border-radius: 50%;\n",
              "      cursor: pointer;\n",
              "      display: none;\n",
              "      fill: #1967D2;\n",
              "      height: 32px;\n",
              "      padding: 0 0 0 0;\n",
              "      width: 32px;\n",
              "    }\n",
              "\n",
              "    .colab-df-convert:hover {\n",
              "      background-color: #E2EBFA;\n",
              "      box-shadow: 0px 1px 2px rgba(60, 64, 67, 0.3), 0px 1px 3px 1px rgba(60, 64, 67, 0.15);\n",
              "      fill: #174EA6;\n",
              "    }\n",
              "\n",
              "    [theme=dark] .colab-df-convert {\n",
              "      background-color: #3B4455;\n",
              "      fill: #D2E3FC;\n",
              "    }\n",
              "\n",
              "    [theme=dark] .colab-df-convert:hover {\n",
              "      background-color: #434B5C;\n",
              "      box-shadow: 0px 1px 3px 1px rgba(0, 0, 0, 0.15);\n",
              "      filter: drop-shadow(0px 1px 2px rgba(0, 0, 0, 0.3));\n",
              "      fill: #FFFFFF;\n",
              "    }\n",
              "  </style>\n",
              "\n",
              "      <script>\n",
              "        const buttonEl =\n",
              "          document.querySelector('#df-c2ea730f-29d2-4fbe-b644-80c09dc493c9 button.colab-df-convert');\n",
              "        buttonEl.style.display =\n",
              "          google.colab.kernel.accessAllowed ? 'block' : 'none';\n",
              "\n",
              "        async function convertToInteractive(key) {\n",
              "          const element = document.querySelector('#df-c2ea730f-29d2-4fbe-b644-80c09dc493c9');\n",
              "          const dataTable =\n",
              "            await google.colab.kernel.invokeFunction('convertToInteractive',\n",
              "                                                     [key], {});\n",
              "          if (!dataTable) return;\n",
              "\n",
              "          const docLinkHtml = 'Like what you see? Visit the ' +\n",
              "            '<a target=\"_blank\" href=https://colab.research.google.com/notebooks/data_table.ipynb>data table notebook</a>'\n",
              "            + ' to learn more about interactive tables.';\n",
              "          element.innerHTML = '';\n",
              "          dataTable['output_type'] = 'display_data';\n",
              "          await google.colab.output.renderOutput(dataTable, element);\n",
              "          const docLink = document.createElement('div');\n",
              "          docLink.innerHTML = docLinkHtml;\n",
              "          element.appendChild(docLink);\n",
              "        }\n",
              "      </script>\n",
              "    </div>\n",
              "  </div>\n",
              "  "
            ],
            "text/plain": [
              "                          MAE            MSE        RMSE  Rsquared\n",
              "Linear Regression  161.878259  117972.609724  343.471410  0.987446\n",
              "Ridge              161.877535  117972.391486  343.471093  0.987446\n",
              "Lasso              161.815705  117959.751029  343.452691  0.987447"
            ]
          },
          "metadata": {},
          "execution_count": 51
        }
      ]
    },
    {
      "cell_type": "markdown",
      "source": [
        "The Lasso results are slightly better than ridge and linear regression,<br>therefore I will stay with the Lasso model."
      ],
      "metadata": {
        "id": "2GdCEPzNVssK"
      }
    },
    {
      "cell_type": "code",
      "source": [
        "# find best parameters for lasso\n",
        "params = {'alpha':[.1, .3, .5, .7, .9, 1], 'max_iter':[200, 400, 600, 800, 1000], 'selection':['cyclic', 'random']}\n",
        "\n",
        "lassor = Lasso()\n",
        "\n",
        "model = GridSearchCV(lassor, params, cv=5)\n",
        "model.fit(X_train, y_train)\n",
        "model.best_params_"
      ],
      "metadata": {
        "colab": {
          "base_uri": "https://localhost:8080/"
        },
        "id": "NBbU7UocaSVz",
        "outputId": "3f2d7cce-137b-4073-e638-203b106e4998"
      },
      "execution_count": null,
      "outputs": [
        {
          "output_type": "execute_result",
          "data": {
            "text/plain": [
              "{'alpha': 0.1, 'max_iter': 200, 'selection': 'cyclic'}"
            ]
          },
          "metadata": {},
          "execution_count": 52
        }
      ]
    },
    {
      "cell_type": "code",
      "source": [
        "lassor = Lasso(alpha=0.1, max_iter=1000, selection='random')\n",
        "lassor.fit(X_train, y_train)\n",
        "\n",
        "lassor_mae = mean_absolute_error(y_test, lassor_y_pred)\n",
        "lassor_mse = mean_squared_error(y_test, lassor_y_pred)\n",
        "lassor_rmse = mean_squared_error(y_test, lassor_y_pred, squared=False)\n",
        "lassor_rsquared = r2_score(y_test, lassor_y_pred)\n",
        "\n",
        "print(\"MAE:\", lassor_mae)\n",
        "print(\"MSE:\", lassor_mse)\n",
        "print(\"RMSE:\", lassor_rmse)\n",
        "print(\"R Squared:\", lassor_rsquared)"
      ],
      "metadata": {
        "colab": {
          "base_uri": "https://localhost:8080/"
        },
        "id": "DTqolUC_blsT",
        "outputId": "68c78a26-333a-4145-e40b-ec6364bdd325"
      },
      "execution_count": null,
      "outputs": [
        {
          "output_type": "stream",
          "name": "stdout",
          "text": [
            "MAE: 161.81570510436867\n",
            "MSE: 117959.75102886723\n",
            "RMSE: 343.4526911073303\n",
            "R Squared: 0.9874470188734491\n"
          ]
        }
      ]
    },
    {
      "cell_type": "code",
      "source": [
        "print(lassor.coef_, lassor.intercept_)"
      ],
      "metadata": {
        "colab": {
          "base_uri": "https://localhost:8080/"
        },
        "id": "WDjRZ8l4epGv",
        "outputId": "6d4f1dae-35e9-4d86-a181-11865030cdf7"
      },
      "execution_count": null,
      "outputs": [
        {
          "output_type": "stream",
          "name": "stdout",
          "text": [
            "[  0.71367267  -0.16425064 -18.23752788   0.02238      0.47266634] 155.7776625884078\n"
          ]
        }
      ]
    },
    {
      "cell_type": "markdown",
      "source": [
        "The linear equation is:<BR>\n",
        "\\begin{align}\n",
        "  MAIN AREA = 0.71 * totalarea - 0.16 * housingunits -18.23 * floorsnum + 0.022 * cellsizetotal + 0.47 * buildingheight + 155.77 \n",
        "  \\end{align}"
      ],
      "metadata": {
        "id": "0FKZAg4Ee3fg"
      }
    },
    {
      "cell_type": "code",
      "source": [
        "test_predictions_df['LASSO_predictions'] = lassor_y_pred\n",
        "test_predictions_df.T"
      ],
      "metadata": {
        "colab": {
          "base_uri": "https://localhost:8080/",
          "height": 237
        },
        "id": "Xq8qpNAVjuoD",
        "outputId": "0f58e4f0-e4ba-4fe6-e9b3-a42b8a50875f"
      },
      "execution_count": null,
      "outputs": [
        {
          "output_type": "execute_result",
          "data": {
            "text/html": [
              "\n",
              "  <div id=\"df-eaf34464-ae0f-40e5-a03d-f9e8a7aa584b\">\n",
              "    <div class=\"colab-df-container\">\n",
              "      <div>\n",
              "<style scoped>\n",
              "    .dataframe tbody tr th:only-of-type {\n",
              "        vertical-align: middle;\n",
              "    }\n",
              "\n",
              "    .dataframe tbody tr th {\n",
              "        vertical-align: top;\n",
              "    }\n",
              "\n",
              "    .dataframe thead th {\n",
              "        text-align: right;\n",
              "    }\n",
              "</style>\n",
              "<table border=\"1\" class=\"dataframe\">\n",
              "  <thead>\n",
              "    <tr style=\"text-align: right;\">\n",
              "      <th></th>\n",
              "      <th>12677</th>\n",
              "      <th>12077</th>\n",
              "      <th>9296</th>\n",
              "      <th>12692</th>\n",
              "      <th>11043</th>\n",
              "      <th>11294</th>\n",
              "      <th>4786</th>\n",
              "      <th>12721</th>\n",
              "      <th>13301</th>\n",
              "      <th>13706</th>\n",
              "      <th>13520</th>\n",
              "      <th>11454</th>\n",
              "      <th>13277</th>\n",
              "      <th>11477</th>\n",
              "      <th>12713</th>\n",
              "      <th>11744</th>\n",
              "      <th>12436</th>\n",
              "      <th>9948</th>\n",
              "      <th>12602</th>\n",
              "      <th>12761</th>\n",
              "      <th>11879</th>\n",
              "      <th>11035</th>\n",
              "      <th>11689</th>\n",
              "      <th>12026</th>\n",
              "      <th>11543</th>\n",
              "      <th>13284</th>\n",
              "      <th>1571</th>\n",
              "      <th>1417</th>\n",
              "      <th>12638</th>\n",
              "      <th>13610</th>\n",
              "      <th>13529</th>\n",
              "      <th>13421</th>\n",
              "      <th>9043</th>\n",
              "      <th>11005</th>\n",
              "      <th>13542</th>\n",
              "      <th>11614</th>\n",
              "      <th>13003</th>\n",
              "      <th>13530</th>\n",
              "      <th>1336</th>\n",
              "      <th>13493</th>\n",
              "      <th>...</th>\n",
              "      <th>11663</th>\n",
              "      <th>12196</th>\n",
              "      <th>13598</th>\n",
              "      <th>12073</th>\n",
              "      <th>6517</th>\n",
              "      <th>12045</th>\n",
              "      <th>12778</th>\n",
              "      <th>11412</th>\n",
              "      <th>11698</th>\n",
              "      <th>13554</th>\n",
              "      <th>11958</th>\n",
              "      <th>5172</th>\n",
              "      <th>11776</th>\n",
              "      <th>13345</th>\n",
              "      <th>11804</th>\n",
              "      <th>7057</th>\n",
              "      <th>4577</th>\n",
              "      <th>5879</th>\n",
              "      <th>12161</th>\n",
              "      <th>12000</th>\n",
              "      <th>441</th>\n",
              "      <th>12999</th>\n",
              "      <th>5415</th>\n",
              "      <th>5385</th>\n",
              "      <th>7488</th>\n",
              "      <th>1830</th>\n",
              "      <th>12604</th>\n",
              "      <th>1947</th>\n",
              "      <th>13397</th>\n",
              "      <th>13260</th>\n",
              "      <th>12757</th>\n",
              "      <th>12364</th>\n",
              "      <th>13461</th>\n",
              "      <th>12237</th>\n",
              "      <th>1905</th>\n",
              "      <th>11832</th>\n",
              "      <th>11257</th>\n",
              "      <th>13201</th>\n",
              "      <th>12691</th>\n",
              "      <th>13536</th>\n",
              "    </tr>\n",
              "  </thead>\n",
              "  <tbody>\n",
              "    <tr>\n",
              "      <th>MAIN_AREA_true</th>\n",
              "      <td>1580.000000</td>\n",
              "      <td>275.000000</td>\n",
              "      <td>200.000000</td>\n",
              "      <td>952.000000</td>\n",
              "      <td>355.000000</td>\n",
              "      <td>75.000000</td>\n",
              "      <td>809.050000</td>\n",
              "      <td>720.000000</td>\n",
              "      <td>203.010000</td>\n",
              "      <td>1211.750000</td>\n",
              "      <td>200.000000</td>\n",
              "      <td>130.000000</td>\n",
              "      <td>596.500000</td>\n",
              "      <td>250.000000</td>\n",
              "      <td>396.000000</td>\n",
              "      <td>850.000000</td>\n",
              "      <td>3000.000000</td>\n",
              "      <td>640.000000</td>\n",
              "      <td>480.000000</td>\n",
              "      <td>220.000000</td>\n",
              "      <td>4352.000000</td>\n",
              "      <td>2460.000000</td>\n",
              "      <td>916.000000</td>\n",
              "      <td>262.000000</td>\n",
              "      <td>5130.000000</td>\n",
              "      <td>701.400000</td>\n",
              "      <td>123.600000</td>\n",
              "      <td>859.000000</td>\n",
              "      <td>350.000000</td>\n",
              "      <td>1107.000000</td>\n",
              "      <td>776.000000</td>\n",
              "      <td>472.500000</td>\n",
              "      <td>761.000000</td>\n",
              "      <td>467.280000</td>\n",
              "      <td>450.000000</td>\n",
              "      <td>360.000000</td>\n",
              "      <td>790.000000</td>\n",
              "      <td>1190.000000</td>\n",
              "      <td>860.000000</td>\n",
              "      <td>1061.000000</td>\n",
              "      <td>...</td>\n",
              "      <td>2336.000000</td>\n",
              "      <td>700.000000</td>\n",
              "      <td>750.000000</td>\n",
              "      <td>893.000000</td>\n",
              "      <td>90.000000</td>\n",
              "      <td>180.000000</td>\n",
              "      <td>1548.030000</td>\n",
              "      <td>1344.000000</td>\n",
              "      <td>875.000000</td>\n",
              "      <td>192.000000</td>\n",
              "      <td>1903.000000</td>\n",
              "      <td>160.000000</td>\n",
              "      <td>568.000000</td>\n",
              "      <td>730.300000</td>\n",
              "      <td>1525.000000</td>\n",
              "      <td>670.00000</td>\n",
              "      <td>1281.000000</td>\n",
              "      <td>870.000000</td>\n",
              "      <td>557.000000</td>\n",
              "      <td>490.000000</td>\n",
              "      <td>3476.000000</td>\n",
              "      <td>383.000000</td>\n",
              "      <td>720.00000</td>\n",
              "      <td>11875.000000</td>\n",
              "      <td>840.000000</td>\n",
              "      <td>240.000000</td>\n",
              "      <td>283.000000</td>\n",
              "      <td>360.000000</td>\n",
              "      <td>533.000000</td>\n",
              "      <td>7125.000000</td>\n",
              "      <td>990.000000</td>\n",
              "      <td>890.000000</td>\n",
              "      <td>570.000000</td>\n",
              "      <td>399.000000</td>\n",
              "      <td>457.000000</td>\n",
              "      <td>19100.000000</td>\n",
              "      <td>475.000000</td>\n",
              "      <td>868.220000</td>\n",
              "      <td>890.500000</td>\n",
              "      <td>270.000000</td>\n",
              "    </tr>\n",
              "    <tr>\n",
              "      <th>KNN_predictions</th>\n",
              "      <td>1638.283819</td>\n",
              "      <td>265.571429</td>\n",
              "      <td>199.369458</td>\n",
              "      <td>1010.000000</td>\n",
              "      <td>285.000000</td>\n",
              "      <td>89.357078</td>\n",
              "      <td>884.105023</td>\n",
              "      <td>751.800000</td>\n",
              "      <td>175.316243</td>\n",
              "      <td>1274.213701</td>\n",
              "      <td>205.250000</td>\n",
              "      <td>156.000000</td>\n",
              "      <td>543.543257</td>\n",
              "      <td>246.800000</td>\n",
              "      <td>375.333333</td>\n",
              "      <td>887.733333</td>\n",
              "      <td>2915.000000</td>\n",
              "      <td>692.888889</td>\n",
              "      <td>499.666667</td>\n",
              "      <td>212.000000</td>\n",
              "      <td>4883.968123</td>\n",
              "      <td>3294.030025</td>\n",
              "      <td>905.145878</td>\n",
              "      <td>283.000000</td>\n",
              "      <td>4859.952531</td>\n",
              "      <td>698.500000</td>\n",
              "      <td>136.933501</td>\n",
              "      <td>849.000000</td>\n",
              "      <td>345.000000</td>\n",
              "      <td>1301.849829</td>\n",
              "      <td>696.351513</td>\n",
              "      <td>402.902643</td>\n",
              "      <td>760.127899</td>\n",
              "      <td>496.100000</td>\n",
              "      <td>562.918352</td>\n",
              "      <td>385.000000</td>\n",
              "      <td>771.772311</td>\n",
              "      <td>1414.844986</td>\n",
              "      <td>887.733333</td>\n",
              "      <td>1031.684546</td>\n",
              "      <td>...</td>\n",
              "      <td>2035.183312</td>\n",
              "      <td>556.000000</td>\n",
              "      <td>800.000000</td>\n",
              "      <td>914.258038</td>\n",
              "      <td>134.375517</td>\n",
              "      <td>180.000000</td>\n",
              "      <td>1653.837073</td>\n",
              "      <td>1516.477383</td>\n",
              "      <td>777.500000</td>\n",
              "      <td>221.000000</td>\n",
              "      <td>2371.374929</td>\n",
              "      <td>159.121672</td>\n",
              "      <td>538.666667</td>\n",
              "      <td>903.523062</td>\n",
              "      <td>1730.711936</td>\n",
              "      <td>757.00000</td>\n",
              "      <td>1274.275641</td>\n",
              "      <td>938.940979</td>\n",
              "      <td>597.074009</td>\n",
              "      <td>512.000000</td>\n",
              "      <td>4553.319911</td>\n",
              "      <td>357.516111</td>\n",
              "      <td>970.00000</td>\n",
              "      <td>11932.468314</td>\n",
              "      <td>810.666667</td>\n",
              "      <td>246.800000</td>\n",
              "      <td>246.800000</td>\n",
              "      <td>334.375000</td>\n",
              "      <td>466.772306</td>\n",
              "      <td>5114.103058</td>\n",
              "      <td>983.119223</td>\n",
              "      <td>1146.591923</td>\n",
              "      <td>569.727273</td>\n",
              "      <td>385.037437</td>\n",
              "      <td>468.500000</td>\n",
              "      <td>18830.085928</td>\n",
              "      <td>463.888940</td>\n",
              "      <td>755.947408</td>\n",
              "      <td>828.984346</td>\n",
              "      <td>325.000000</td>\n",
              "    </tr>\n",
              "    <tr>\n",
              "      <th>LASSO_predictions</th>\n",
              "      <td>1539.022697</td>\n",
              "      <td>401.470369</td>\n",
              "      <td>318.344638</td>\n",
              "      <td>953.385826</td>\n",
              "      <td>379.233269</td>\n",
              "      <td>195.680686</td>\n",
              "      <td>841.586674</td>\n",
              "      <td>698.166406</td>\n",
              "      <td>288.257423</td>\n",
              "      <td>1138.829269</td>\n",
              "      <td>301.624213</td>\n",
              "      <td>263.092509</td>\n",
              "      <td>570.474845</td>\n",
              "      <td>354.774828</td>\n",
              "      <td>427.078738</td>\n",
              "      <td>842.132515</td>\n",
              "      <td>3049.296168</td>\n",
              "      <td>724.061252</td>\n",
              "      <td>506.477746</td>\n",
              "      <td>343.680027</td>\n",
              "      <td>4885.886271</td>\n",
              "      <td>2823.968120</td>\n",
              "      <td>846.470451</td>\n",
              "      <td>354.225456</td>\n",
              "      <td>4536.791994</td>\n",
              "      <td>678.090356</td>\n",
              "      <td>216.788079</td>\n",
              "      <td>797.157982</td>\n",
              "      <td>485.935751</td>\n",
              "      <td>1365.972481</td>\n",
              "      <td>736.069400</td>\n",
              "      <td>451.227348</td>\n",
              "      <td>798.408110</td>\n",
              "      <td>474.324927</td>\n",
              "      <td>709.174485</td>\n",
              "      <td>436.835967</td>\n",
              "      <td>749.265149</td>\n",
              "      <td>1492.411545</td>\n",
              "      <td>842.054409</td>\n",
              "      <td>974.201819</td>\n",
              "      <td>...</td>\n",
              "      <td>1932.139869</td>\n",
              "      <td>685.201219</td>\n",
              "      <td>823.575249</td>\n",
              "      <td>829.754993</td>\n",
              "      <td>227.380789</td>\n",
              "      <td>289.757837</td>\n",
              "      <td>1575.328437</td>\n",
              "      <td>1405.014094</td>\n",
              "      <td>792.083049</td>\n",
              "      <td>308.613897</td>\n",
              "      <td>2050.601747</td>\n",
              "      <td>257.330312</td>\n",
              "      <td>554.561113</td>\n",
              "      <td>830.896367</td>\n",
              "      <td>1451.308138</td>\n",
              "      <td>706.45565</td>\n",
              "      <td>1189.494849</td>\n",
              "      <td>851.114208</td>\n",
              "      <td>592.329350</td>\n",
              "      <td>531.987301</td>\n",
              "      <td>4194.929947</td>\n",
              "      <td>396.365525</td>\n",
              "      <td>844.37513</td>\n",
              "      <td>11344.579066</td>\n",
              "      <td>819.889987</td>\n",
              "      <td>353.049228</td>\n",
              "      <td>331.112548</td>\n",
              "      <td>421.954175</td>\n",
              "      <td>560.492460</td>\n",
              "      <td>5134.576711</td>\n",
              "      <td>1007.051127</td>\n",
              "      <td>975.444756</td>\n",
              "      <td>543.918168</td>\n",
              "      <td>465.485415</td>\n",
              "      <td>510.473075</td>\n",
              "      <td>19127.676685</td>\n",
              "      <td>501.571874</td>\n",
              "      <td>751.008508</td>\n",
              "      <td>840.303452</td>\n",
              "      <td>372.432631</td>\n",
              "    </tr>\n",
              "  </tbody>\n",
              "</table>\n",
              "<p>3 rows × 850 columns</p>\n",
              "</div>\n",
              "      <button class=\"colab-df-convert\" onclick=\"convertToInteractive('df-eaf34464-ae0f-40e5-a03d-f9e8a7aa584b')\"\n",
              "              title=\"Convert this dataframe to an interactive table.\"\n",
              "              style=\"display:none;\">\n",
              "        \n",
              "  <svg xmlns=\"http://www.w3.org/2000/svg\" height=\"24px\"viewBox=\"0 0 24 24\"\n",
              "       width=\"24px\">\n",
              "    <path d=\"M0 0h24v24H0V0z\" fill=\"none\"/>\n",
              "    <path d=\"M18.56 5.44l.94 2.06.94-2.06 2.06-.94-2.06-.94-.94-2.06-.94 2.06-2.06.94zm-11 1L8.5 8.5l.94-2.06 2.06-.94-2.06-.94L8.5 2.5l-.94 2.06-2.06.94zm10 10l.94 2.06.94-2.06 2.06-.94-2.06-.94-.94-2.06-.94 2.06-2.06.94z\"/><path d=\"M17.41 7.96l-1.37-1.37c-.4-.4-.92-.59-1.43-.59-.52 0-1.04.2-1.43.59L10.3 9.45l-7.72 7.72c-.78.78-.78 2.05 0 2.83L4 21.41c.39.39.9.59 1.41.59.51 0 1.02-.2 1.41-.59l7.78-7.78 2.81-2.81c.8-.78.8-2.07 0-2.86zM5.41 20L4 18.59l7.72-7.72 1.47 1.35L5.41 20z\"/>\n",
              "  </svg>\n",
              "      </button>\n",
              "      \n",
              "  <style>\n",
              "    .colab-df-container {\n",
              "      display:flex;\n",
              "      flex-wrap:wrap;\n",
              "      gap: 12px;\n",
              "    }\n",
              "\n",
              "    .colab-df-convert {\n",
              "      background-color: #E8F0FE;\n",
              "      border: none;\n",
              "      border-radius: 50%;\n",
              "      cursor: pointer;\n",
              "      display: none;\n",
              "      fill: #1967D2;\n",
              "      height: 32px;\n",
              "      padding: 0 0 0 0;\n",
              "      width: 32px;\n",
              "    }\n",
              "\n",
              "    .colab-df-convert:hover {\n",
              "      background-color: #E2EBFA;\n",
              "      box-shadow: 0px 1px 2px rgba(60, 64, 67, 0.3), 0px 1px 3px 1px rgba(60, 64, 67, 0.15);\n",
              "      fill: #174EA6;\n",
              "    }\n",
              "\n",
              "    [theme=dark] .colab-df-convert {\n",
              "      background-color: #3B4455;\n",
              "      fill: #D2E3FC;\n",
              "    }\n",
              "\n",
              "    [theme=dark] .colab-df-convert:hover {\n",
              "      background-color: #434B5C;\n",
              "      box-shadow: 0px 1px 3px 1px rgba(0, 0, 0, 0.15);\n",
              "      filter: drop-shadow(0px 1px 2px rgba(0, 0, 0, 0.3));\n",
              "      fill: #FFFFFF;\n",
              "    }\n",
              "  </style>\n",
              "\n",
              "      <script>\n",
              "        const buttonEl =\n",
              "          document.querySelector('#df-eaf34464-ae0f-40e5-a03d-f9e8a7aa584b button.colab-df-convert');\n",
              "        buttonEl.style.display =\n",
              "          google.colab.kernel.accessAllowed ? 'block' : 'none';\n",
              "\n",
              "        async function convertToInteractive(key) {\n",
              "          const element = document.querySelector('#df-eaf34464-ae0f-40e5-a03d-f9e8a7aa584b');\n",
              "          const dataTable =\n",
              "            await google.colab.kernel.invokeFunction('convertToInteractive',\n",
              "                                                     [key], {});\n",
              "          if (!dataTable) return;\n",
              "\n",
              "          const docLinkHtml = 'Like what you see? Visit the ' +\n",
              "            '<a target=\"_blank\" href=https://colab.research.google.com/notebooks/data_table.ipynb>data table notebook</a>'\n",
              "            + ' to learn more about interactive tables.';\n",
              "          element.innerHTML = '';\n",
              "          dataTable['output_type'] = 'display_data';\n",
              "          await google.colab.output.renderOutput(dataTable, element);\n",
              "          const docLink = document.createElement('div');\n",
              "          docLink.innerHTML = docLinkHtml;\n",
              "          element.appendChild(docLink);\n",
              "        }\n",
              "      </script>\n",
              "    </div>\n",
              "  </div>\n",
              "  "
            ],
            "text/plain": [
              "                         12677       12077  ...       12691       13536\n",
              "MAIN_AREA_true     1580.000000  275.000000  ...  890.500000  270.000000\n",
              "KNN_predictions    1638.283819  265.571429  ...  828.984346  325.000000\n",
              "LASSO_predictions  1539.022697  401.470369  ...  840.303452  372.432631\n",
              "\n",
              "[3 rows x 850 columns]"
            ]
          },
          "metadata": {},
          "execution_count": 56
        }
      ]
    },
    {
      "cell_type": "markdown",
      "source": [
        "**Testing the linear regression model again on new data - only areas of plans that confirmed after Nov 2021.**"
      ],
      "metadata": {
        "id": "WA4xjCyrjN0D"
      }
    },
    {
      "cell_type": "code",
      "source": [
        "X_new = new_data[feature_cols_linear_reg]\n",
        "lasso_y_new_pred = lassor.predict(X_new)\n",
        "\n",
        "lasso_new_mae = mean_absolute_error(y_new, lasso_y_new_pred)\n",
        "print(\"MAE:\", lasso_new_mae)\n",
        "\n",
        "lasso_new_mse = mean_squared_error(y_new, lasso_y_new_pred)\n",
        "print(\"MSE:\", lasso_new_mse)\n",
        "\n",
        "lasso_new_rmse = mean_squared_error(y_new, lasso_y_new_pred, squared=False)\n",
        "print(\"RMSE:\", lasso_new_rmse)\n",
        "\n",
        "lasso_new_rsquared = r2_score(y_new, lasso_y_new_pred)\n",
        "print(\"R Squared:\", lasso_new_rsquared)"
      ],
      "metadata": {
        "colab": {
          "base_uri": "https://localhost:8080/"
        },
        "id": "Lw2V6KYTVi6J",
        "outputId": "10a5c8b4-f21f-491a-f9e4-ce94e4e1747d"
      },
      "execution_count": null,
      "outputs": [
        {
          "output_type": "stream",
          "name": "stdout",
          "text": [
            "MAE: 170.41189618601564\n",
            "MSE: 81192.384450071\n",
            "RMSE: 284.9427739916754\n",
            "R Squared: 0.9841305862385403\n"
          ]
        }
      ]
    },
    {
      "cell_type": "code",
      "source": [
        "new_predictions_df['LASSO_predictions'] = lasso_y_new_pred\n",
        "new_predictions_df.T"
      ],
      "metadata": {
        "colab": {
          "base_uri": "https://localhost:8080/",
          "height": 237
        },
        "id": "R-ifHLtGfjkD",
        "outputId": "22d8bf80-5556-4a3c-ca02-d1e58cbe806e"
      },
      "execution_count": null,
      "outputs": [
        {
          "output_type": "execute_result",
          "data": {
            "text/html": [
              "\n",
              "  <div id=\"df-a19b7c8c-34dc-4c19-b400-5005ec530532\">\n",
              "    <div class=\"colab-df-container\">\n",
              "      <div>\n",
              "<style scoped>\n",
              "    .dataframe tbody tr th:only-of-type {\n",
              "        vertical-align: middle;\n",
              "    }\n",
              "\n",
              "    .dataframe tbody tr th {\n",
              "        vertical-align: top;\n",
              "    }\n",
              "\n",
              "    .dataframe thead th {\n",
              "        text-align: right;\n",
              "    }\n",
              "</style>\n",
              "<table border=\"1\" class=\"dataframe\">\n",
              "  <thead>\n",
              "    <tr style=\"text-align: right;\">\n",
              "      <th></th>\n",
              "      <th>0</th>\n",
              "      <th>1</th>\n",
              "      <th>2</th>\n",
              "      <th>3</th>\n",
              "      <th>4</th>\n",
              "      <th>5</th>\n",
              "      <th>6</th>\n",
              "      <th>7</th>\n",
              "      <th>8</th>\n",
              "      <th>9</th>\n",
              "      <th>10</th>\n",
              "      <th>11</th>\n",
              "      <th>12</th>\n",
              "      <th>13</th>\n",
              "      <th>14</th>\n",
              "      <th>15</th>\n",
              "      <th>16</th>\n",
              "      <th>17</th>\n",
              "      <th>18</th>\n",
              "      <th>19</th>\n",
              "      <th>20</th>\n",
              "      <th>21</th>\n",
              "      <th>22</th>\n",
              "      <th>23</th>\n",
              "      <th>24</th>\n",
              "      <th>25</th>\n",
              "      <th>26</th>\n",
              "      <th>27</th>\n",
              "      <th>28</th>\n",
              "      <th>29</th>\n",
              "      <th>30</th>\n",
              "      <th>31</th>\n",
              "      <th>32</th>\n",
              "      <th>33</th>\n",
              "      <th>34</th>\n",
              "      <th>35</th>\n",
              "      <th>36</th>\n",
              "      <th>37</th>\n",
              "      <th>38</th>\n",
              "      <th>39</th>\n",
              "      <th>...</th>\n",
              "      <th>319</th>\n",
              "      <th>320</th>\n",
              "      <th>321</th>\n",
              "      <th>322</th>\n",
              "      <th>323</th>\n",
              "      <th>324</th>\n",
              "      <th>325</th>\n",
              "      <th>326</th>\n",
              "      <th>327</th>\n",
              "      <th>328</th>\n",
              "      <th>329</th>\n",
              "      <th>330</th>\n",
              "      <th>331</th>\n",
              "      <th>332</th>\n",
              "      <th>333</th>\n",
              "      <th>334</th>\n",
              "      <th>335</th>\n",
              "      <th>336</th>\n",
              "      <th>337</th>\n",
              "      <th>338</th>\n",
              "      <th>339</th>\n",
              "      <th>340</th>\n",
              "      <th>341</th>\n",
              "      <th>342</th>\n",
              "      <th>343</th>\n",
              "      <th>344</th>\n",
              "      <th>345</th>\n",
              "      <th>346</th>\n",
              "      <th>347</th>\n",
              "      <th>348</th>\n",
              "      <th>349</th>\n",
              "      <th>350</th>\n",
              "      <th>351</th>\n",
              "      <th>352</th>\n",
              "      <th>353</th>\n",
              "      <th>354</th>\n",
              "      <th>355</th>\n",
              "      <th>356</th>\n",
              "      <th>357</th>\n",
              "      <th>358</th>\n",
              "    </tr>\n",
              "  </thead>\n",
              "  <tbody>\n",
              "    <tr>\n",
              "      <th>MAIN_AREA_true</th>\n",
              "      <td>576.000000</td>\n",
              "      <td>220.000000</td>\n",
              "      <td>240.000000</td>\n",
              "      <td>570.400000</td>\n",
              "      <td>768.800000</td>\n",
              "      <td>620.000000</td>\n",
              "      <td>590.240000</td>\n",
              "      <td>728.000000</td>\n",
              "      <td>3250.000000</td>\n",
              "      <td>15155.000000</td>\n",
              "      <td>8155.000000</td>\n",
              "      <td>19810.000000</td>\n",
              "      <td>12985.000000</td>\n",
              "      <td>15045.000000</td>\n",
              "      <td>14015.000000</td>\n",
              "      <td>13555.000000</td>\n",
              "      <td>14965.000000</td>\n",
              "      <td>18275.000000</td>\n",
              "      <td>953.000000</td>\n",
              "      <td>575.000000</td>\n",
              "      <td>647.000000</td>\n",
              "      <td>618.000000</td>\n",
              "      <td>653.000000</td>\n",
              "      <td>645.000000</td>\n",
              "      <td>659.000000</td>\n",
              "      <td>686.000000</td>\n",
              "      <td>670.000000</td>\n",
              "      <td>651.000000</td>\n",
              "      <td>640.000000</td>\n",
              "      <td>620.000000</td>\n",
              "      <td>624.000000</td>\n",
              "      <td>647.000000</td>\n",
              "      <td>647.000000</td>\n",
              "      <td>672.000000</td>\n",
              "      <td>1610.000000</td>\n",
              "      <td>945.000000</td>\n",
              "      <td>601.000000</td>\n",
              "      <td>1015.000000</td>\n",
              "      <td>1032.000000</td>\n",
              "      <td>1040.000000</td>\n",
              "      <td>...</td>\n",
              "      <td>720.000000</td>\n",
              "      <td>720.000000</td>\n",
              "      <td>720.000000</td>\n",
              "      <td>720.000000</td>\n",
              "      <td>720.000000</td>\n",
              "      <td>720.000000</td>\n",
              "      <td>720.000000</td>\n",
              "      <td>720.000000</td>\n",
              "      <td>720.000000</td>\n",
              "      <td>324.000000</td>\n",
              "      <td>324.000000</td>\n",
              "      <td>324.000000</td>\n",
              "      <td>324.000000</td>\n",
              "      <td>324.000000</td>\n",
              "      <td>1894.000000</td>\n",
              "      <td>220.000000</td>\n",
              "      <td>205.000000</td>\n",
              "      <td>160.000000</td>\n",
              "      <td>285.000000</td>\n",
              "      <td>190.000000</td>\n",
              "      <td>240.00000</td>\n",
              "      <td>576.000000</td>\n",
              "      <td>3060.000000</td>\n",
              "      <td>600.000000</td>\n",
              "      <td>897.000000</td>\n",
              "      <td>332.400000</td>\n",
              "      <td>4400.000000</td>\n",
              "      <td>230.00000</td>\n",
              "      <td>460.00000</td>\n",
              "      <td>1456.000000</td>\n",
              "      <td>230.000000</td>\n",
              "      <td>370.000000</td>\n",
              "      <td>383.140000</td>\n",
              "      <td>240.00000</td>\n",
              "      <td>480.000000</td>\n",
              "      <td>527.050000</td>\n",
              "      <td>810.600000</td>\n",
              "      <td>811.000000</td>\n",
              "      <td>920.00000</td>\n",
              "      <td>3034.000000</td>\n",
              "    </tr>\n",
              "    <tr>\n",
              "      <th>KNN_predictions</th>\n",
              "      <td>576.800000</td>\n",
              "      <td>230.000000</td>\n",
              "      <td>246.800000</td>\n",
              "      <td>551.822287</td>\n",
              "      <td>730.580274</td>\n",
              "      <td>595.000000</td>\n",
              "      <td>558.887134</td>\n",
              "      <td>686.357143</td>\n",
              "      <td>3358.802078</td>\n",
              "      <td>15772.550068</td>\n",
              "      <td>8564.061464</td>\n",
              "      <td>19962.697228</td>\n",
              "      <td>12967.591930</td>\n",
              "      <td>15626.025226</td>\n",
              "      <td>14516.864137</td>\n",
              "      <td>13770.247267</td>\n",
              "      <td>15603.645101</td>\n",
              "      <td>18484.665472</td>\n",
              "      <td>1143.339297</td>\n",
              "      <td>777.500000</td>\n",
              "      <td>928.685000</td>\n",
              "      <td>903.000000</td>\n",
              "      <td>804.565962</td>\n",
              "      <td>910.154797</td>\n",
              "      <td>874.023460</td>\n",
              "      <td>819.000000</td>\n",
              "      <td>886.333333</td>\n",
              "      <td>825.465309</td>\n",
              "      <td>887.733333</td>\n",
              "      <td>866.572570</td>\n",
              "      <td>918.000000</td>\n",
              "      <td>928.685000</td>\n",
              "      <td>928.685000</td>\n",
              "      <td>881.339454</td>\n",
              "      <td>2177.050269</td>\n",
              "      <td>1215.545586</td>\n",
              "      <td>811.327694</td>\n",
              "      <td>1328.755567</td>\n",
              "      <td>1267.106800</td>\n",
              "      <td>1441.886046</td>\n",
              "      <td>...</td>\n",
              "      <td>692.888889</td>\n",
              "      <td>692.888889</td>\n",
              "      <td>692.888889</td>\n",
              "      <td>692.888889</td>\n",
              "      <td>692.888889</td>\n",
              "      <td>692.888889</td>\n",
              "      <td>692.888889</td>\n",
              "      <td>692.888889</td>\n",
              "      <td>692.888889</td>\n",
              "      <td>338.305085</td>\n",
              "      <td>338.305085</td>\n",
              "      <td>338.305085</td>\n",
              "      <td>338.305085</td>\n",
              "      <td>338.305085</td>\n",
              "      <td>1872.410300</td>\n",
              "      <td>220.000000</td>\n",
              "      <td>211.454739</td>\n",
              "      <td>175.500000</td>\n",
              "      <td>302.044524</td>\n",
              "      <td>257.785926</td>\n",
              "      <td>246.80000</td>\n",
              "      <td>576.800000</td>\n",
              "      <td>2477.551703</td>\n",
              "      <td>582.429969</td>\n",
              "      <td>767.000000</td>\n",
              "      <td>340.616592</td>\n",
              "      <td>4379.226293</td>\n",
              "      <td>196.75000</td>\n",
              "      <td>450.00000</td>\n",
              "      <td>1405.350740</td>\n",
              "      <td>220.000000</td>\n",
              "      <td>387.712764</td>\n",
              "      <td>385.862118</td>\n",
              "      <td>246.80000</td>\n",
              "      <td>538.666667</td>\n",
              "      <td>639.757538</td>\n",
              "      <td>810.509426</td>\n",
              "      <td>781.500000</td>\n",
              "      <td>971.50000</td>\n",
              "      <td>2706.828496</td>\n",
              "    </tr>\n",
              "    <tr>\n",
              "      <th>LASSO_predictions</th>\n",
              "      <td>577.275913</td>\n",
              "      <td>335.119699</td>\n",
              "      <td>351.608772</td>\n",
              "      <td>572.008518</td>\n",
              "      <td>740.019501</td>\n",
              "      <td>614.011264</td>\n",
              "      <td>588.809617</td>\n",
              "      <td>669.828808</td>\n",
              "      <td>3101.480117</td>\n",
              "      <td>15889.111383</td>\n",
              "      <td>8454.555950</td>\n",
              "      <td>20720.126478</td>\n",
              "      <td>13552.721452</td>\n",
              "      <td>15682.810455</td>\n",
              "      <td>14588.137007</td>\n",
              "      <td>14112.507934</td>\n",
              "      <td>15619.629282</td>\n",
              "      <td>19080.061663</td>\n",
              "      <td>1122.724368</td>\n",
              "      <td>752.391178</td>\n",
              "      <td>822.192178</td>\n",
              "      <td>783.934915</td>\n",
              "      <td>792.093930</td>\n",
              "      <td>786.653109</td>\n",
              "      <td>798.345406</td>\n",
              "      <td>819.740668</td>\n",
              "      <td>821.806814</td>\n",
              "      <td>808.090373</td>\n",
              "      <td>783.420445</td>\n",
              "      <td>752.081283</td>\n",
              "      <td>754.935974</td>\n",
              "      <td>771.350445</td>\n",
              "      <td>787.811894</td>\n",
              "      <td>849.160260</td>\n",
              "      <td>1951.313723</td>\n",
              "      <td>1135.817697</td>\n",
              "      <td>771.802480</td>\n",
              "      <td>1205.929521</td>\n",
              "      <td>1218.240996</td>\n",
              "      <td>1267.904527</td>\n",
              "      <td>...</td>\n",
              "      <td>625.433136</td>\n",
              "      <td>625.433136</td>\n",
              "      <td>625.433136</td>\n",
              "      <td>625.433136</td>\n",
              "      <td>625.433136</td>\n",
              "      <td>625.433136</td>\n",
              "      <td>625.433136</td>\n",
              "      <td>625.433136</td>\n",
              "      <td>625.433136</td>\n",
              "      <td>386.392136</td>\n",
              "      <td>386.392136</td>\n",
              "      <td>386.392136</td>\n",
              "      <td>386.392136</td>\n",
              "      <td>386.392136</td>\n",
              "      <td>1824.632823</td>\n",
              "      <td>323.019976</td>\n",
              "      <td>318.877194</td>\n",
              "      <td>293.296194</td>\n",
              "      <td>431.703965</td>\n",
              "      <td>359.393916</td>\n",
              "      <td>350.17108</td>\n",
              "      <td>576.999408</td>\n",
              "      <td>2508.371869</td>\n",
              "      <td>585.823209</td>\n",
              "      <td>790.341062</td>\n",
              "      <td>395.398668</td>\n",
              "      <td>4385.806564</td>\n",
              "      <td>305.85155</td>\n",
              "      <td>487.67383</td>\n",
              "      <td>1422.205807</td>\n",
              "      <td>331.377653</td>\n",
              "      <td>419.929186</td>\n",
              "      <td>442.571343</td>\n",
              "      <td>348.44782</td>\n",
              "      <td>545.702635</td>\n",
              "      <td>630.238899</td>\n",
              "      <td>767.514633</td>\n",
              "      <td>796.482136</td>\n",
              "      <td>884.69603</td>\n",
              "      <td>2642.104115</td>\n",
              "    </tr>\n",
              "  </tbody>\n",
              "</table>\n",
              "<p>3 rows × 359 columns</p>\n",
              "</div>\n",
              "      <button class=\"colab-df-convert\" onclick=\"convertToInteractive('df-a19b7c8c-34dc-4c19-b400-5005ec530532')\"\n",
              "              title=\"Convert this dataframe to an interactive table.\"\n",
              "              style=\"display:none;\">\n",
              "        \n",
              "  <svg xmlns=\"http://www.w3.org/2000/svg\" height=\"24px\"viewBox=\"0 0 24 24\"\n",
              "       width=\"24px\">\n",
              "    <path d=\"M0 0h24v24H0V0z\" fill=\"none\"/>\n",
              "    <path d=\"M18.56 5.44l.94 2.06.94-2.06 2.06-.94-2.06-.94-.94-2.06-.94 2.06-2.06.94zm-11 1L8.5 8.5l.94-2.06 2.06-.94-2.06-.94L8.5 2.5l-.94 2.06-2.06.94zm10 10l.94 2.06.94-2.06 2.06-.94-2.06-.94-.94-2.06-.94 2.06-2.06.94z\"/><path d=\"M17.41 7.96l-1.37-1.37c-.4-.4-.92-.59-1.43-.59-.52 0-1.04.2-1.43.59L10.3 9.45l-7.72 7.72c-.78.78-.78 2.05 0 2.83L4 21.41c.39.39.9.59 1.41.59.51 0 1.02-.2 1.41-.59l7.78-7.78 2.81-2.81c.8-.78.8-2.07 0-2.86zM5.41 20L4 18.59l7.72-7.72 1.47 1.35L5.41 20z\"/>\n",
              "  </svg>\n",
              "      </button>\n",
              "      \n",
              "  <style>\n",
              "    .colab-df-container {\n",
              "      display:flex;\n",
              "      flex-wrap:wrap;\n",
              "      gap: 12px;\n",
              "    }\n",
              "\n",
              "    .colab-df-convert {\n",
              "      background-color: #E8F0FE;\n",
              "      border: none;\n",
              "      border-radius: 50%;\n",
              "      cursor: pointer;\n",
              "      display: none;\n",
              "      fill: #1967D2;\n",
              "      height: 32px;\n",
              "      padding: 0 0 0 0;\n",
              "      width: 32px;\n",
              "    }\n",
              "\n",
              "    .colab-df-convert:hover {\n",
              "      background-color: #E2EBFA;\n",
              "      box-shadow: 0px 1px 2px rgba(60, 64, 67, 0.3), 0px 1px 3px 1px rgba(60, 64, 67, 0.15);\n",
              "      fill: #174EA6;\n",
              "    }\n",
              "\n",
              "    [theme=dark] .colab-df-convert {\n",
              "      background-color: #3B4455;\n",
              "      fill: #D2E3FC;\n",
              "    }\n",
              "\n",
              "    [theme=dark] .colab-df-convert:hover {\n",
              "      background-color: #434B5C;\n",
              "      box-shadow: 0px 1px 3px 1px rgba(0, 0, 0, 0.15);\n",
              "      filter: drop-shadow(0px 1px 2px rgba(0, 0, 0, 0.3));\n",
              "      fill: #FFFFFF;\n",
              "    }\n",
              "  </style>\n",
              "\n",
              "      <script>\n",
              "        const buttonEl =\n",
              "          document.querySelector('#df-a19b7c8c-34dc-4c19-b400-5005ec530532 button.colab-df-convert');\n",
              "        buttonEl.style.display =\n",
              "          google.colab.kernel.accessAllowed ? 'block' : 'none';\n",
              "\n",
              "        async function convertToInteractive(key) {\n",
              "          const element = document.querySelector('#df-a19b7c8c-34dc-4c19-b400-5005ec530532');\n",
              "          const dataTable =\n",
              "            await google.colab.kernel.invokeFunction('convertToInteractive',\n",
              "                                                     [key], {});\n",
              "          if (!dataTable) return;\n",
              "\n",
              "          const docLinkHtml = 'Like what you see? Visit the ' +\n",
              "            '<a target=\"_blank\" href=https://colab.research.google.com/notebooks/data_table.ipynb>data table notebook</a>'\n",
              "            + ' to learn more about interactive tables.';\n",
              "          element.innerHTML = '';\n",
              "          dataTable['output_type'] = 'display_data';\n",
              "          await google.colab.output.renderOutput(dataTable, element);\n",
              "          const docLink = document.createElement('div');\n",
              "          docLink.innerHTML = docLinkHtml;\n",
              "          element.appendChild(docLink);\n",
              "        }\n",
              "      </script>\n",
              "    </div>\n",
              "  </div>\n",
              "  "
            ],
            "text/plain": [
              "                          0           1    ...        357          358\n",
              "MAIN_AREA_true     576.000000  220.000000  ...  920.00000  3034.000000\n",
              "KNN_predictions    576.800000  230.000000  ...  971.50000  2706.828496\n",
              "LASSO_predictions  577.275913  335.119699  ...  884.69603  2642.104115\n",
              "\n",
              "[3 rows x 359 columns]"
            ]
          },
          "metadata": {},
          "execution_count": 58
        }
      ]
    },
    {
      "cell_type": "markdown",
      "source": [
        "# Comparing Test Results"
      ],
      "metadata": {
        "id": "885FDtHnOVm0"
      }
    },
    {
      "cell_type": "code",
      "source": [
        "mae_vals = [lassor_mae, knn_mae]\n",
        "mse_vals = [lassor_mse, knn_mse]\n",
        "rmse_vals = [lassor_rmse, knn_rmse]\n",
        "rs_vals = [lassor_rsquared, knn_rsquared]\n",
        "\n",
        "labels = ['Lasso', 'KNN']\n",
        "\n",
        "results_df = pd.DataFrame({\n",
        "    'MAE': mae_vals,\n",
        "    'MSE': mse_vals,\n",
        "    'RMSE': rmse_vals,\n",
        "    'Rsquared': rs_vals\n",
        "}, index=labels)\n",
        "\n",
        "results_df"
      ],
      "metadata": {
        "colab": {
          "base_uri": "https://localhost:8080/",
          "height": 112
        },
        "id": "IkDfFeDrOSU1",
        "outputId": "13c0a709-e10d-4d50-d243-b172b7c04d3d"
      },
      "execution_count": null,
      "outputs": [
        {
          "output_type": "execute_result",
          "data": {
            "text/html": [
              "\n",
              "  <div id=\"df-75896c14-758d-4a58-b495-4aa0c65d1a1f\">\n",
              "    <div class=\"colab-df-container\">\n",
              "      <div>\n",
              "<style scoped>\n",
              "    .dataframe tbody tr th:only-of-type {\n",
              "        vertical-align: middle;\n",
              "    }\n",
              "\n",
              "    .dataframe tbody tr th {\n",
              "        vertical-align: top;\n",
              "    }\n",
              "\n",
              "    .dataframe thead th {\n",
              "        text-align: right;\n",
              "    }\n",
              "</style>\n",
              "<table border=\"1\" class=\"dataframe\">\n",
              "  <thead>\n",
              "    <tr style=\"text-align: right;\">\n",
              "      <th></th>\n",
              "      <th>MAE</th>\n",
              "      <th>MSE</th>\n",
              "      <th>RMSE</th>\n",
              "      <th>Rsquared</th>\n",
              "    </tr>\n",
              "  </thead>\n",
              "  <tbody>\n",
              "    <tr>\n",
              "      <th>Lasso</th>\n",
              "      <td>161.815705</td>\n",
              "      <td>117959.751029</td>\n",
              "      <td>343.452691</td>\n",
              "      <td>0.987447</td>\n",
              "    </tr>\n",
              "    <tr>\n",
              "      <th>KNN</th>\n",
              "      <td>149.552192</td>\n",
              "      <td>122649.605873</td>\n",
              "      <td>350.213657</td>\n",
              "      <td>0.986948</td>\n",
              "    </tr>\n",
              "  </tbody>\n",
              "</table>\n",
              "</div>\n",
              "      <button class=\"colab-df-convert\" onclick=\"convertToInteractive('df-75896c14-758d-4a58-b495-4aa0c65d1a1f')\"\n",
              "              title=\"Convert this dataframe to an interactive table.\"\n",
              "              style=\"display:none;\">\n",
              "        \n",
              "  <svg xmlns=\"http://www.w3.org/2000/svg\" height=\"24px\"viewBox=\"0 0 24 24\"\n",
              "       width=\"24px\">\n",
              "    <path d=\"M0 0h24v24H0V0z\" fill=\"none\"/>\n",
              "    <path d=\"M18.56 5.44l.94 2.06.94-2.06 2.06-.94-2.06-.94-.94-2.06-.94 2.06-2.06.94zm-11 1L8.5 8.5l.94-2.06 2.06-.94-2.06-.94L8.5 2.5l-.94 2.06-2.06.94zm10 10l.94 2.06.94-2.06 2.06-.94-2.06-.94-.94-2.06-.94 2.06-2.06.94z\"/><path d=\"M17.41 7.96l-1.37-1.37c-.4-.4-.92-.59-1.43-.59-.52 0-1.04.2-1.43.59L10.3 9.45l-7.72 7.72c-.78.78-.78 2.05 0 2.83L4 21.41c.39.39.9.59 1.41.59.51 0 1.02-.2 1.41-.59l7.78-7.78 2.81-2.81c.8-.78.8-2.07 0-2.86zM5.41 20L4 18.59l7.72-7.72 1.47 1.35L5.41 20z\"/>\n",
              "  </svg>\n",
              "      </button>\n",
              "      \n",
              "  <style>\n",
              "    .colab-df-container {\n",
              "      display:flex;\n",
              "      flex-wrap:wrap;\n",
              "      gap: 12px;\n",
              "    }\n",
              "\n",
              "    .colab-df-convert {\n",
              "      background-color: #E8F0FE;\n",
              "      border: none;\n",
              "      border-radius: 50%;\n",
              "      cursor: pointer;\n",
              "      display: none;\n",
              "      fill: #1967D2;\n",
              "      height: 32px;\n",
              "      padding: 0 0 0 0;\n",
              "      width: 32px;\n",
              "    }\n",
              "\n",
              "    .colab-df-convert:hover {\n",
              "      background-color: #E2EBFA;\n",
              "      box-shadow: 0px 1px 2px rgba(60, 64, 67, 0.3), 0px 1px 3px 1px rgba(60, 64, 67, 0.15);\n",
              "      fill: #174EA6;\n",
              "    }\n",
              "\n",
              "    [theme=dark] .colab-df-convert {\n",
              "      background-color: #3B4455;\n",
              "      fill: #D2E3FC;\n",
              "    }\n",
              "\n",
              "    [theme=dark] .colab-df-convert:hover {\n",
              "      background-color: #434B5C;\n",
              "      box-shadow: 0px 1px 3px 1px rgba(0, 0, 0, 0.15);\n",
              "      filter: drop-shadow(0px 1px 2px rgba(0, 0, 0, 0.3));\n",
              "      fill: #FFFFFF;\n",
              "    }\n",
              "  </style>\n",
              "\n",
              "      <script>\n",
              "        const buttonEl =\n",
              "          document.querySelector('#df-75896c14-758d-4a58-b495-4aa0c65d1a1f button.colab-df-convert');\n",
              "        buttonEl.style.display =\n",
              "          google.colab.kernel.accessAllowed ? 'block' : 'none';\n",
              "\n",
              "        async function convertToInteractive(key) {\n",
              "          const element = document.querySelector('#df-75896c14-758d-4a58-b495-4aa0c65d1a1f');\n",
              "          const dataTable =\n",
              "            await google.colab.kernel.invokeFunction('convertToInteractive',\n",
              "                                                     [key], {});\n",
              "          if (!dataTable) return;\n",
              "\n",
              "          const docLinkHtml = 'Like what you see? Visit the ' +\n",
              "            '<a target=\"_blank\" href=https://colab.research.google.com/notebooks/data_table.ipynb>data table notebook</a>'\n",
              "            + ' to learn more about interactive tables.';\n",
              "          element.innerHTML = '';\n",
              "          dataTable['output_type'] = 'display_data';\n",
              "          await google.colab.output.renderOutput(dataTable, element);\n",
              "          const docLink = document.createElement('div');\n",
              "          docLink.innerHTML = docLinkHtml;\n",
              "          element.appendChild(docLink);\n",
              "        }\n",
              "      </script>\n",
              "    </div>\n",
              "  </div>\n",
              "  "
            ],
            "text/plain": [
              "              MAE            MSE        RMSE  Rsquared\n",
              "Lasso  161.815705  117959.751029  343.452691  0.987447\n",
              "KNN    149.552192  122649.605873  350.213657  0.986948"
            ]
          },
          "metadata": {},
          "execution_count": 59
        }
      ]
    },
    {
      "cell_type": "markdown",
      "source": [
        "# Comparing New Data Results"
      ],
      "metadata": {
        "id": "-lCHXj7TRuPb"
      }
    },
    {
      "cell_type": "code",
      "source": [
        "n_mae_vals = [lasso_new_mae, knn_new_mae]\n",
        "n_mse_vals = [lasso_new_mse, knn_new_mse]\n",
        "n_rmse_vals = [lasso_new_rmse, knn_new_rmse]\n",
        "n_rs_vals = [lasso_new_rsquared, knn_new_rsquared]\n",
        "\n",
        "n_labels = ['Lasso', 'KNN']\n",
        "\n",
        "n_results_df = pd.DataFrame({\n",
        "    'MAE': n_mae_vals,\n",
        "    'MSE': n_mse_vals,\n",
        "    'RMSE': n_rmse_vals,\n",
        "    'Rsquared': n_rs_vals\n",
        "}, index=n_labels)\n",
        "\n",
        "n_results_df"
      ],
      "metadata": {
        "colab": {
          "base_uri": "https://localhost:8080/",
          "height": 112
        },
        "id": "jSMzex-GRxpb",
        "outputId": "96f57980-4e86-427c-8098-8db32e133305"
      },
      "execution_count": null,
      "outputs": [
        {
          "output_type": "execute_result",
          "data": {
            "text/html": [
              "\n",
              "  <div id=\"df-03e09d49-de8f-42d1-b7c1-686de0a1871e\">\n",
              "    <div class=\"colab-df-container\">\n",
              "      <div>\n",
              "<style scoped>\n",
              "    .dataframe tbody tr th:only-of-type {\n",
              "        vertical-align: middle;\n",
              "    }\n",
              "\n",
              "    .dataframe tbody tr th {\n",
              "        vertical-align: top;\n",
              "    }\n",
              "\n",
              "    .dataframe thead th {\n",
              "        text-align: right;\n",
              "    }\n",
              "</style>\n",
              "<table border=\"1\" class=\"dataframe\">\n",
              "  <thead>\n",
              "    <tr style=\"text-align: right;\">\n",
              "      <th></th>\n",
              "      <th>MAE</th>\n",
              "      <th>MSE</th>\n",
              "      <th>RMSE</th>\n",
              "      <th>Rsquared</th>\n",
              "    </tr>\n",
              "  </thead>\n",
              "  <tbody>\n",
              "    <tr>\n",
              "      <th>Lasso</th>\n",
              "      <td>170.411896</td>\n",
              "      <td>81192.384450</td>\n",
              "      <td>284.942774</td>\n",
              "      <td>0.984131</td>\n",
              "    </tr>\n",
              "    <tr>\n",
              "      <th>KNN</th>\n",
              "      <td>218.728163</td>\n",
              "      <td>134402.635171</td>\n",
              "      <td>366.609650</td>\n",
              "      <td>0.973730</td>\n",
              "    </tr>\n",
              "  </tbody>\n",
              "</table>\n",
              "</div>\n",
              "      <button class=\"colab-df-convert\" onclick=\"convertToInteractive('df-03e09d49-de8f-42d1-b7c1-686de0a1871e')\"\n",
              "              title=\"Convert this dataframe to an interactive table.\"\n",
              "              style=\"display:none;\">\n",
              "        \n",
              "  <svg xmlns=\"http://www.w3.org/2000/svg\" height=\"24px\"viewBox=\"0 0 24 24\"\n",
              "       width=\"24px\">\n",
              "    <path d=\"M0 0h24v24H0V0z\" fill=\"none\"/>\n",
              "    <path d=\"M18.56 5.44l.94 2.06.94-2.06 2.06-.94-2.06-.94-.94-2.06-.94 2.06-2.06.94zm-11 1L8.5 8.5l.94-2.06 2.06-.94-2.06-.94L8.5 2.5l-.94 2.06-2.06.94zm10 10l.94 2.06.94-2.06 2.06-.94-2.06-.94-.94-2.06-.94 2.06-2.06.94z\"/><path d=\"M17.41 7.96l-1.37-1.37c-.4-.4-.92-.59-1.43-.59-.52 0-1.04.2-1.43.59L10.3 9.45l-7.72 7.72c-.78.78-.78 2.05 0 2.83L4 21.41c.39.39.9.59 1.41.59.51 0 1.02-.2 1.41-.59l7.78-7.78 2.81-2.81c.8-.78.8-2.07 0-2.86zM5.41 20L4 18.59l7.72-7.72 1.47 1.35L5.41 20z\"/>\n",
              "  </svg>\n",
              "      </button>\n",
              "      \n",
              "  <style>\n",
              "    .colab-df-container {\n",
              "      display:flex;\n",
              "      flex-wrap:wrap;\n",
              "      gap: 12px;\n",
              "    }\n",
              "\n",
              "    .colab-df-convert {\n",
              "      background-color: #E8F0FE;\n",
              "      border: none;\n",
              "      border-radius: 50%;\n",
              "      cursor: pointer;\n",
              "      display: none;\n",
              "      fill: #1967D2;\n",
              "      height: 32px;\n",
              "      padding: 0 0 0 0;\n",
              "      width: 32px;\n",
              "    }\n",
              "\n",
              "    .colab-df-convert:hover {\n",
              "      background-color: #E2EBFA;\n",
              "      box-shadow: 0px 1px 2px rgba(60, 64, 67, 0.3), 0px 1px 3px 1px rgba(60, 64, 67, 0.15);\n",
              "      fill: #174EA6;\n",
              "    }\n",
              "\n",
              "    [theme=dark] .colab-df-convert {\n",
              "      background-color: #3B4455;\n",
              "      fill: #D2E3FC;\n",
              "    }\n",
              "\n",
              "    [theme=dark] .colab-df-convert:hover {\n",
              "      background-color: #434B5C;\n",
              "      box-shadow: 0px 1px 3px 1px rgba(0, 0, 0, 0.15);\n",
              "      filter: drop-shadow(0px 1px 2px rgba(0, 0, 0, 0.3));\n",
              "      fill: #FFFFFF;\n",
              "    }\n",
              "  </style>\n",
              "\n",
              "      <script>\n",
              "        const buttonEl =\n",
              "          document.querySelector('#df-03e09d49-de8f-42d1-b7c1-686de0a1871e button.colab-df-convert');\n",
              "        buttonEl.style.display =\n",
              "          google.colab.kernel.accessAllowed ? 'block' : 'none';\n",
              "\n",
              "        async function convertToInteractive(key) {\n",
              "          const element = document.querySelector('#df-03e09d49-de8f-42d1-b7c1-686de0a1871e');\n",
              "          const dataTable =\n",
              "            await google.colab.kernel.invokeFunction('convertToInteractive',\n",
              "                                                     [key], {});\n",
              "          if (!dataTable) return;\n",
              "\n",
              "          const docLinkHtml = 'Like what you see? Visit the ' +\n",
              "            '<a target=\"_blank\" href=https://colab.research.google.com/notebooks/data_table.ipynb>data table notebook</a>'\n",
              "            + ' to learn more about interactive tables.';\n",
              "          element.innerHTML = '';\n",
              "          dataTable['output_type'] = 'display_data';\n",
              "          await google.colab.output.renderOutput(dataTable, element);\n",
              "          const docLink = document.createElement('div');\n",
              "          docLink.innerHTML = docLinkHtml;\n",
              "          element.appendChild(docLink);\n",
              "        }\n",
              "      </script>\n",
              "    </div>\n",
              "  </div>\n",
              "  "
            ],
            "text/plain": [
              "              MAE            MSE        RMSE  Rsquared\n",
              "Lasso  170.411896   81192.384450  284.942774  0.984131\n",
              "KNN    218.728163  134402.635171  366.609650  0.973730"
            ]
          },
          "metadata": {},
          "execution_count": 60
        }
      ]
    },
    {
      "cell_type": "markdown",
      "source": [
        "The Lasso model predict the MAIN_AREA better than KNN! "
      ],
      "metadata": {
        "id": "Tr15LinLdXEK"
      }
    },
    {
      "cell_type": "markdown",
      "source": [
        "# Ensemble\n",
        "To finish I will try ensemble method and see how if affect the results:"
      ],
      "metadata": {
        "id": "A2b4I7yyyklg"
      }
    },
    {
      "cell_type": "code",
      "source": [
        "from sklearn.ensemble import VotingRegressor"
      ],
      "metadata": {
        "id": "6zkmgM5Ul-CU"
      },
      "execution_count": null,
      "outputs": []
    },
    {
      "cell_type": "code",
      "source": [
        "# find best parameters for VotingRegressor\n",
        "params = {'weights':[[.1, .9], [.2, .8],[.3, .7], [.4, .6], [.5, .5], [.6, .4], [.7, .3], [.8, .2], [.9, .1]]}\n",
        "\n",
        "erm = VotingRegressor([('lasso', lassor), ('knn', neigh)])\n",
        "\n",
        "model = GridSearchCV(erm, params, cv=5)\n",
        "model.fit(X_train, y_train)\n",
        "model.best_params_"
      ],
      "metadata": {
        "colab": {
          "base_uri": "https://localhost:8080/"
        },
        "id": "Zop8InpouCdc",
        "outputId": "0a0deb2f-396e-4055-feac-8b2be29d4734"
      },
      "execution_count": null,
      "outputs": [
        {
          "output_type": "execute_result",
          "data": {
            "text/plain": [
              "{'weights': [0.9, 0.1]}"
            ]
          },
          "metadata": {},
          "execution_count": 62
        }
      ]
    },
    {
      "cell_type": "code",
      "source": [
        "er = VotingRegressor([('lasso', lassor), ('knn', neigh)], weights=[.9, .1])\n",
        "er.fit(X_train, y_train)\n",
        "er_y_pred = er.predict(X_test)"
      ],
      "metadata": {
        "id": "FaSJUqlJmqET"
      },
      "execution_count": null,
      "outputs": []
    },
    {
      "cell_type": "code",
      "source": [
        "test_predictions_df['VotingRegressor_predictions'] = er_y_pred\n",
        "test_predictions_df.T"
      ],
      "metadata": {
        "colab": {
          "base_uri": "https://localhost:8080/",
          "height": 268
        },
        "id": "Plej0XBDq8AK",
        "outputId": "0963b44b-8338-4cec-8889-cdd8b4c79a3e"
      },
      "execution_count": null,
      "outputs": [
        {
          "output_type": "execute_result",
          "data": {
            "text/html": [
              "\n",
              "  <div id=\"df-7fbc1572-9e1f-4506-b18c-20d763d73c18\">\n",
              "    <div class=\"colab-df-container\">\n",
              "      <div>\n",
              "<style scoped>\n",
              "    .dataframe tbody tr th:only-of-type {\n",
              "        vertical-align: middle;\n",
              "    }\n",
              "\n",
              "    .dataframe tbody tr th {\n",
              "        vertical-align: top;\n",
              "    }\n",
              "\n",
              "    .dataframe thead th {\n",
              "        text-align: right;\n",
              "    }\n",
              "</style>\n",
              "<table border=\"1\" class=\"dataframe\">\n",
              "  <thead>\n",
              "    <tr style=\"text-align: right;\">\n",
              "      <th></th>\n",
              "      <th>12677</th>\n",
              "      <th>12077</th>\n",
              "      <th>9296</th>\n",
              "      <th>12692</th>\n",
              "      <th>11043</th>\n",
              "      <th>11294</th>\n",
              "      <th>4786</th>\n",
              "      <th>12721</th>\n",
              "      <th>13301</th>\n",
              "      <th>13706</th>\n",
              "      <th>13520</th>\n",
              "      <th>11454</th>\n",
              "      <th>13277</th>\n",
              "      <th>11477</th>\n",
              "      <th>12713</th>\n",
              "      <th>11744</th>\n",
              "      <th>12436</th>\n",
              "      <th>9948</th>\n",
              "      <th>12602</th>\n",
              "      <th>12761</th>\n",
              "      <th>11879</th>\n",
              "      <th>11035</th>\n",
              "      <th>11689</th>\n",
              "      <th>12026</th>\n",
              "      <th>11543</th>\n",
              "      <th>13284</th>\n",
              "      <th>1571</th>\n",
              "      <th>1417</th>\n",
              "      <th>12638</th>\n",
              "      <th>13610</th>\n",
              "      <th>13529</th>\n",
              "      <th>13421</th>\n",
              "      <th>9043</th>\n",
              "      <th>11005</th>\n",
              "      <th>13542</th>\n",
              "      <th>11614</th>\n",
              "      <th>13003</th>\n",
              "      <th>13530</th>\n",
              "      <th>1336</th>\n",
              "      <th>13493</th>\n",
              "      <th>...</th>\n",
              "      <th>11663</th>\n",
              "      <th>12196</th>\n",
              "      <th>13598</th>\n",
              "      <th>12073</th>\n",
              "      <th>6517</th>\n",
              "      <th>12045</th>\n",
              "      <th>12778</th>\n",
              "      <th>11412</th>\n",
              "      <th>11698</th>\n",
              "      <th>13554</th>\n",
              "      <th>11958</th>\n",
              "      <th>5172</th>\n",
              "      <th>11776</th>\n",
              "      <th>13345</th>\n",
              "      <th>11804</th>\n",
              "      <th>7057</th>\n",
              "      <th>4577</th>\n",
              "      <th>5879</th>\n",
              "      <th>12161</th>\n",
              "      <th>12000</th>\n",
              "      <th>441</th>\n",
              "      <th>12999</th>\n",
              "      <th>5415</th>\n",
              "      <th>5385</th>\n",
              "      <th>7488</th>\n",
              "      <th>1830</th>\n",
              "      <th>12604</th>\n",
              "      <th>1947</th>\n",
              "      <th>13397</th>\n",
              "      <th>13260</th>\n",
              "      <th>12757</th>\n",
              "      <th>12364</th>\n",
              "      <th>13461</th>\n",
              "      <th>12237</th>\n",
              "      <th>1905</th>\n",
              "      <th>11832</th>\n",
              "      <th>11257</th>\n",
              "      <th>13201</th>\n",
              "      <th>12691</th>\n",
              "      <th>13536</th>\n",
              "    </tr>\n",
              "  </thead>\n",
              "  <tbody>\n",
              "    <tr>\n",
              "      <th>MAIN_AREA_true</th>\n",
              "      <td>1580.000000</td>\n",
              "      <td>275.000000</td>\n",
              "      <td>200.000000</td>\n",
              "      <td>952.000000</td>\n",
              "      <td>355.000000</td>\n",
              "      <td>75.000000</td>\n",
              "      <td>809.050000</td>\n",
              "      <td>720.000000</td>\n",
              "      <td>203.010000</td>\n",
              "      <td>1211.750000</td>\n",
              "      <td>200.000000</td>\n",
              "      <td>130.000000</td>\n",
              "      <td>596.500000</td>\n",
              "      <td>250.000000</td>\n",
              "      <td>396.000000</td>\n",
              "      <td>850.000000</td>\n",
              "      <td>3000.000000</td>\n",
              "      <td>640.000000</td>\n",
              "      <td>480.000000</td>\n",
              "      <td>220.000000</td>\n",
              "      <td>4352.000000</td>\n",
              "      <td>2460.000000</td>\n",
              "      <td>916.000000</td>\n",
              "      <td>262.000000</td>\n",
              "      <td>5130.000000</td>\n",
              "      <td>701.400000</td>\n",
              "      <td>123.600000</td>\n",
              "      <td>859.000000</td>\n",
              "      <td>350.000000</td>\n",
              "      <td>1107.000000</td>\n",
              "      <td>776.000000</td>\n",
              "      <td>472.500000</td>\n",
              "      <td>761.000000</td>\n",
              "      <td>467.280000</td>\n",
              "      <td>450.000000</td>\n",
              "      <td>360.000000</td>\n",
              "      <td>790.000000</td>\n",
              "      <td>1190.000000</td>\n",
              "      <td>860.000000</td>\n",
              "      <td>1061.000000</td>\n",
              "      <td>...</td>\n",
              "      <td>2336.000000</td>\n",
              "      <td>700.000000</td>\n",
              "      <td>750.000000</td>\n",
              "      <td>893.000000</td>\n",
              "      <td>90.000000</td>\n",
              "      <td>180.000000</td>\n",
              "      <td>1548.030000</td>\n",
              "      <td>1344.000000</td>\n",
              "      <td>875.000000</td>\n",
              "      <td>192.000000</td>\n",
              "      <td>1903.000000</td>\n",
              "      <td>160.000000</td>\n",
              "      <td>568.000000</td>\n",
              "      <td>730.300000</td>\n",
              "      <td>1525.000000</td>\n",
              "      <td>670.00000</td>\n",
              "      <td>1281.000000</td>\n",
              "      <td>870.000000</td>\n",
              "      <td>557.000000</td>\n",
              "      <td>490.000000</td>\n",
              "      <td>3476.000000</td>\n",
              "      <td>383.000000</td>\n",
              "      <td>720.000000</td>\n",
              "      <td>11875.000000</td>\n",
              "      <td>840.000000</td>\n",
              "      <td>240.000000</td>\n",
              "      <td>283.000000</td>\n",
              "      <td>360.000000</td>\n",
              "      <td>533.000000</td>\n",
              "      <td>7125.000000</td>\n",
              "      <td>990.000000</td>\n",
              "      <td>890.000000</td>\n",
              "      <td>570.000000</td>\n",
              "      <td>399.000000</td>\n",
              "      <td>457.000000</td>\n",
              "      <td>19100.000000</td>\n",
              "      <td>475.000000</td>\n",
              "      <td>868.220000</td>\n",
              "      <td>890.500000</td>\n",
              "      <td>270.000000</td>\n",
              "    </tr>\n",
              "    <tr>\n",
              "      <th>KNN_predictions</th>\n",
              "      <td>1638.283819</td>\n",
              "      <td>265.571429</td>\n",
              "      <td>199.369458</td>\n",
              "      <td>1010.000000</td>\n",
              "      <td>285.000000</td>\n",
              "      <td>89.357078</td>\n",
              "      <td>884.105023</td>\n",
              "      <td>751.800000</td>\n",
              "      <td>175.316243</td>\n",
              "      <td>1274.213701</td>\n",
              "      <td>205.250000</td>\n",
              "      <td>156.000000</td>\n",
              "      <td>543.543257</td>\n",
              "      <td>246.800000</td>\n",
              "      <td>375.333333</td>\n",
              "      <td>887.733333</td>\n",
              "      <td>2915.000000</td>\n",
              "      <td>692.888889</td>\n",
              "      <td>499.666667</td>\n",
              "      <td>212.000000</td>\n",
              "      <td>4883.968123</td>\n",
              "      <td>3294.030025</td>\n",
              "      <td>905.145878</td>\n",
              "      <td>283.000000</td>\n",
              "      <td>4859.952531</td>\n",
              "      <td>698.500000</td>\n",
              "      <td>136.933501</td>\n",
              "      <td>849.000000</td>\n",
              "      <td>345.000000</td>\n",
              "      <td>1301.849829</td>\n",
              "      <td>696.351513</td>\n",
              "      <td>402.902643</td>\n",
              "      <td>760.127899</td>\n",
              "      <td>496.100000</td>\n",
              "      <td>562.918352</td>\n",
              "      <td>385.000000</td>\n",
              "      <td>771.772311</td>\n",
              "      <td>1414.844986</td>\n",
              "      <td>887.733333</td>\n",
              "      <td>1031.684546</td>\n",
              "      <td>...</td>\n",
              "      <td>2035.183312</td>\n",
              "      <td>556.000000</td>\n",
              "      <td>800.000000</td>\n",
              "      <td>914.258038</td>\n",
              "      <td>134.375517</td>\n",
              "      <td>180.000000</td>\n",
              "      <td>1653.837073</td>\n",
              "      <td>1516.477383</td>\n",
              "      <td>777.500000</td>\n",
              "      <td>221.000000</td>\n",
              "      <td>2371.374929</td>\n",
              "      <td>159.121672</td>\n",
              "      <td>538.666667</td>\n",
              "      <td>903.523062</td>\n",
              "      <td>1730.711936</td>\n",
              "      <td>757.00000</td>\n",
              "      <td>1274.275641</td>\n",
              "      <td>938.940979</td>\n",
              "      <td>597.074009</td>\n",
              "      <td>512.000000</td>\n",
              "      <td>4553.319911</td>\n",
              "      <td>357.516111</td>\n",
              "      <td>970.000000</td>\n",
              "      <td>11932.468314</td>\n",
              "      <td>810.666667</td>\n",
              "      <td>246.800000</td>\n",
              "      <td>246.800000</td>\n",
              "      <td>334.375000</td>\n",
              "      <td>466.772306</td>\n",
              "      <td>5114.103058</td>\n",
              "      <td>983.119223</td>\n",
              "      <td>1146.591923</td>\n",
              "      <td>569.727273</td>\n",
              "      <td>385.037437</td>\n",
              "      <td>468.500000</td>\n",
              "      <td>18830.085928</td>\n",
              "      <td>463.888940</td>\n",
              "      <td>755.947408</td>\n",
              "      <td>828.984346</td>\n",
              "      <td>325.000000</td>\n",
              "    </tr>\n",
              "    <tr>\n",
              "      <th>LASSO_predictions</th>\n",
              "      <td>1539.022697</td>\n",
              "      <td>401.470369</td>\n",
              "      <td>318.344638</td>\n",
              "      <td>953.385826</td>\n",
              "      <td>379.233269</td>\n",
              "      <td>195.680686</td>\n",
              "      <td>841.586674</td>\n",
              "      <td>698.166406</td>\n",
              "      <td>288.257423</td>\n",
              "      <td>1138.829269</td>\n",
              "      <td>301.624213</td>\n",
              "      <td>263.092509</td>\n",
              "      <td>570.474845</td>\n",
              "      <td>354.774828</td>\n",
              "      <td>427.078738</td>\n",
              "      <td>842.132515</td>\n",
              "      <td>3049.296168</td>\n",
              "      <td>724.061252</td>\n",
              "      <td>506.477746</td>\n",
              "      <td>343.680027</td>\n",
              "      <td>4885.886271</td>\n",
              "      <td>2823.968120</td>\n",
              "      <td>846.470451</td>\n",
              "      <td>354.225456</td>\n",
              "      <td>4536.791994</td>\n",
              "      <td>678.090356</td>\n",
              "      <td>216.788079</td>\n",
              "      <td>797.157982</td>\n",
              "      <td>485.935751</td>\n",
              "      <td>1365.972481</td>\n",
              "      <td>736.069400</td>\n",
              "      <td>451.227348</td>\n",
              "      <td>798.408110</td>\n",
              "      <td>474.324927</td>\n",
              "      <td>709.174485</td>\n",
              "      <td>436.835967</td>\n",
              "      <td>749.265149</td>\n",
              "      <td>1492.411545</td>\n",
              "      <td>842.054409</td>\n",
              "      <td>974.201819</td>\n",
              "      <td>...</td>\n",
              "      <td>1932.139869</td>\n",
              "      <td>685.201219</td>\n",
              "      <td>823.575249</td>\n",
              "      <td>829.754993</td>\n",
              "      <td>227.380789</td>\n",
              "      <td>289.757837</td>\n",
              "      <td>1575.328437</td>\n",
              "      <td>1405.014094</td>\n",
              "      <td>792.083049</td>\n",
              "      <td>308.613897</td>\n",
              "      <td>2050.601747</td>\n",
              "      <td>257.330312</td>\n",
              "      <td>554.561113</td>\n",
              "      <td>830.896367</td>\n",
              "      <td>1451.308138</td>\n",
              "      <td>706.45565</td>\n",
              "      <td>1189.494849</td>\n",
              "      <td>851.114208</td>\n",
              "      <td>592.329350</td>\n",
              "      <td>531.987301</td>\n",
              "      <td>4194.929947</td>\n",
              "      <td>396.365525</td>\n",
              "      <td>844.375130</td>\n",
              "      <td>11344.579066</td>\n",
              "      <td>819.889987</td>\n",
              "      <td>353.049228</td>\n",
              "      <td>331.112548</td>\n",
              "      <td>421.954175</td>\n",
              "      <td>560.492460</td>\n",
              "      <td>5134.576711</td>\n",
              "      <td>1007.051127</td>\n",
              "      <td>975.444756</td>\n",
              "      <td>543.918168</td>\n",
              "      <td>465.485415</td>\n",
              "      <td>510.473075</td>\n",
              "      <td>19127.676685</td>\n",
              "      <td>501.571874</td>\n",
              "      <td>751.008508</td>\n",
              "      <td>840.303452</td>\n",
              "      <td>372.432631</td>\n",
              "    </tr>\n",
              "    <tr>\n",
              "      <th>VotingRegressor_predictions</th>\n",
              "      <td>1545.588883</td>\n",
              "      <td>393.652249</td>\n",
              "      <td>306.891689</td>\n",
              "      <td>955.296597</td>\n",
              "      <td>373.026405</td>\n",
              "      <td>185.475104</td>\n",
              "      <td>838.440264</td>\n",
              "      <td>697.088279</td>\n",
              "      <td>278.055680</td>\n",
              "      <td>1136.829314</td>\n",
              "      <td>291.627936</td>\n",
              "      <td>253.373391</td>\n",
              "      <td>567.074710</td>\n",
              "      <td>347.634823</td>\n",
              "      <td>423.565659</td>\n",
              "      <td>844.886491</td>\n",
              "      <td>3043.335719</td>\n",
              "      <td>724.773848</td>\n",
              "      <td>505.886014</td>\n",
              "      <td>333.586858</td>\n",
              "      <td>4873.420291</td>\n",
              "      <td>2841.333879</td>\n",
              "      <td>853.489146</td>\n",
              "      <td>344.605863</td>\n",
              "      <td>4533.854970</td>\n",
              "      <td>680.612427</td>\n",
              "      <td>209.660671</td>\n",
              "      <td>802.409482</td>\n",
              "      <td>482.009474</td>\n",
              "      <td>1347.722866</td>\n",
              "      <td>739.060442</td>\n",
              "      <td>444.901154</td>\n",
              "      <td>794.837971</td>\n",
              "      <td>471.281385</td>\n",
              "      <td>706.047901</td>\n",
              "      <td>431.252238</td>\n",
              "      <td>749.583940</td>\n",
              "      <td>1500.326792</td>\n",
              "      <td>846.518743</td>\n",
              "      <td>978.105887</td>\n",
              "      <td>...</td>\n",
              "      <td>1934.487661</td>\n",
              "      <td>686.657131</td>\n",
              "      <td>822.745095</td>\n",
              "      <td>833.313140</td>\n",
              "      <td>222.059626</td>\n",
              "      <td>279.052426</td>\n",
              "      <td>1577.238567</td>\n",
              "      <td>1418.568916</td>\n",
              "      <td>794.056133</td>\n",
              "      <td>298.626099</td>\n",
              "      <td>2071.373173</td>\n",
              "      <td>248.416778</td>\n",
              "      <td>551.028859</td>\n",
              "      <td>833.823779</td>\n",
              "      <td>1461.292237</td>\n",
              "      <td>711.00804</td>\n",
              "      <td>1192.148877</td>\n",
              "      <td>855.877862</td>\n",
              "      <td>591.331229</td>\n",
              "      <td>529.726845</td>\n",
              "      <td>4207.394357</td>\n",
              "      <td>390.336383</td>\n",
              "      <td>839.336852</td>\n",
              "      <td>11380.890848</td>\n",
              "      <td>822.829907</td>\n",
              "      <td>343.306226</td>\n",
              "      <td>322.813518</td>\n",
              "      <td>414.277610</td>\n",
              "      <td>557.663338</td>\n",
              "      <td>5135.884343</td>\n",
              "      <td>1010.053596</td>\n",
              "      <td>985.009340</td>\n",
              "      <td>543.722071</td>\n",
              "      <td>456.680218</td>\n",
              "      <td>508.410166</td>\n",
              "      <td>19095.327729</td>\n",
              "      <td>500.540854</td>\n",
              "      <td>753.972296</td>\n",
              "      <td>839.998135</td>\n",
              "      <td>368.117260</td>\n",
              "    </tr>\n",
              "  </tbody>\n",
              "</table>\n",
              "<p>4 rows × 850 columns</p>\n",
              "</div>\n",
              "      <button class=\"colab-df-convert\" onclick=\"convertToInteractive('df-7fbc1572-9e1f-4506-b18c-20d763d73c18')\"\n",
              "              title=\"Convert this dataframe to an interactive table.\"\n",
              "              style=\"display:none;\">\n",
              "        \n",
              "  <svg xmlns=\"http://www.w3.org/2000/svg\" height=\"24px\"viewBox=\"0 0 24 24\"\n",
              "       width=\"24px\">\n",
              "    <path d=\"M0 0h24v24H0V0z\" fill=\"none\"/>\n",
              "    <path d=\"M18.56 5.44l.94 2.06.94-2.06 2.06-.94-2.06-.94-.94-2.06-.94 2.06-2.06.94zm-11 1L8.5 8.5l.94-2.06 2.06-.94-2.06-.94L8.5 2.5l-.94 2.06-2.06.94zm10 10l.94 2.06.94-2.06 2.06-.94-2.06-.94-.94-2.06-.94 2.06-2.06.94z\"/><path d=\"M17.41 7.96l-1.37-1.37c-.4-.4-.92-.59-1.43-.59-.52 0-1.04.2-1.43.59L10.3 9.45l-7.72 7.72c-.78.78-.78 2.05 0 2.83L4 21.41c.39.39.9.59 1.41.59.51 0 1.02-.2 1.41-.59l7.78-7.78 2.81-2.81c.8-.78.8-2.07 0-2.86zM5.41 20L4 18.59l7.72-7.72 1.47 1.35L5.41 20z\"/>\n",
              "  </svg>\n",
              "      </button>\n",
              "      \n",
              "  <style>\n",
              "    .colab-df-container {\n",
              "      display:flex;\n",
              "      flex-wrap:wrap;\n",
              "      gap: 12px;\n",
              "    }\n",
              "\n",
              "    .colab-df-convert {\n",
              "      background-color: #E8F0FE;\n",
              "      border: none;\n",
              "      border-radius: 50%;\n",
              "      cursor: pointer;\n",
              "      display: none;\n",
              "      fill: #1967D2;\n",
              "      height: 32px;\n",
              "      padding: 0 0 0 0;\n",
              "      width: 32px;\n",
              "    }\n",
              "\n",
              "    .colab-df-convert:hover {\n",
              "      background-color: #E2EBFA;\n",
              "      box-shadow: 0px 1px 2px rgba(60, 64, 67, 0.3), 0px 1px 3px 1px rgba(60, 64, 67, 0.15);\n",
              "      fill: #174EA6;\n",
              "    }\n",
              "\n",
              "    [theme=dark] .colab-df-convert {\n",
              "      background-color: #3B4455;\n",
              "      fill: #D2E3FC;\n",
              "    }\n",
              "\n",
              "    [theme=dark] .colab-df-convert:hover {\n",
              "      background-color: #434B5C;\n",
              "      box-shadow: 0px 1px 3px 1px rgba(0, 0, 0, 0.15);\n",
              "      filter: drop-shadow(0px 1px 2px rgba(0, 0, 0, 0.3));\n",
              "      fill: #FFFFFF;\n",
              "    }\n",
              "  </style>\n",
              "\n",
              "      <script>\n",
              "        const buttonEl =\n",
              "          document.querySelector('#df-7fbc1572-9e1f-4506-b18c-20d763d73c18 button.colab-df-convert');\n",
              "        buttonEl.style.display =\n",
              "          google.colab.kernel.accessAllowed ? 'block' : 'none';\n",
              "\n",
              "        async function convertToInteractive(key) {\n",
              "          const element = document.querySelector('#df-7fbc1572-9e1f-4506-b18c-20d763d73c18');\n",
              "          const dataTable =\n",
              "            await google.colab.kernel.invokeFunction('convertToInteractive',\n",
              "                                                     [key], {});\n",
              "          if (!dataTable) return;\n",
              "\n",
              "          const docLinkHtml = 'Like what you see? Visit the ' +\n",
              "            '<a target=\"_blank\" href=https://colab.research.google.com/notebooks/data_table.ipynb>data table notebook</a>'\n",
              "            + ' to learn more about interactive tables.';\n",
              "          element.innerHTML = '';\n",
              "          dataTable['output_type'] = 'display_data';\n",
              "          await google.colab.output.renderOutput(dataTable, element);\n",
              "          const docLink = document.createElement('div');\n",
              "          docLink.innerHTML = docLinkHtml;\n",
              "          element.appendChild(docLink);\n",
              "        }\n",
              "      </script>\n",
              "    </div>\n",
              "  </div>\n",
              "  "
            ],
            "text/plain": [
              "                                   12677       12077  ...       12691       13536\n",
              "MAIN_AREA_true               1580.000000  275.000000  ...  890.500000  270.000000\n",
              "KNN_predictions              1638.283819  265.571429  ...  828.984346  325.000000\n",
              "LASSO_predictions            1539.022697  401.470369  ...  840.303452  372.432631\n",
              "VotingRegressor_predictions  1545.588883  393.652249  ...  839.998135  368.117260\n",
              "\n",
              "[4 rows x 850 columns]"
            ]
          },
          "metadata": {},
          "execution_count": 64
        }
      ]
    },
    {
      "cell_type": "code",
      "source": [
        "er_mae = mean_absolute_error(y_test, er_y_pred)\n",
        "er_mse = mean_squared_error(y_test, er_y_pred)\n",
        "er_rmse = mean_squared_error(y_test, er_y_pred, squared=False)\n",
        "er_rsquared = r2_score(y_test, er_y_pred)\n",
        "\n",
        "results_df.loc['VotingRegressor'] = [er_mae, er_mse, er_rmse, er_rsquared]\n",
        "print('Test results:')\n",
        "results_df"
      ],
      "metadata": {
        "colab": {
          "base_uri": "https://localhost:8080/",
          "height": 161
        },
        "id": "GBuMIEz5m_Pj",
        "outputId": "35281a52-c5c5-4234-8bed-1003dcc1f4f7"
      },
      "execution_count": null,
      "outputs": [
        {
          "output_type": "stream",
          "name": "stdout",
          "text": [
            "Test results:\n"
          ]
        },
        {
          "output_type": "execute_result",
          "data": {
            "text/html": [
              "\n",
              "  <div id=\"df-2f284442-424b-4178-af5b-10251c7f6dd0\">\n",
              "    <div class=\"colab-df-container\">\n",
              "      <div>\n",
              "<style scoped>\n",
              "    .dataframe tbody tr th:only-of-type {\n",
              "        vertical-align: middle;\n",
              "    }\n",
              "\n",
              "    .dataframe tbody tr th {\n",
              "        vertical-align: top;\n",
              "    }\n",
              "\n",
              "    .dataframe thead th {\n",
              "        text-align: right;\n",
              "    }\n",
              "</style>\n",
              "<table border=\"1\" class=\"dataframe\">\n",
              "  <thead>\n",
              "    <tr style=\"text-align: right;\">\n",
              "      <th></th>\n",
              "      <th>MAE</th>\n",
              "      <th>MSE</th>\n",
              "      <th>RMSE</th>\n",
              "      <th>Rsquared</th>\n",
              "    </tr>\n",
              "  </thead>\n",
              "  <tbody>\n",
              "    <tr>\n",
              "      <th>Lasso</th>\n",
              "      <td>161.815705</td>\n",
              "      <td>117959.751029</td>\n",
              "      <td>343.452691</td>\n",
              "      <td>0.987447</td>\n",
              "    </tr>\n",
              "    <tr>\n",
              "      <th>KNN</th>\n",
              "      <td>149.552192</td>\n",
              "      <td>122649.605873</td>\n",
              "      <td>350.213657</td>\n",
              "      <td>0.986948</td>\n",
              "    </tr>\n",
              "    <tr>\n",
              "      <th>VotingRegressor</th>\n",
              "      <td>157.082022</td>\n",
              "      <td>114759.677797</td>\n",
              "      <td>338.761978</td>\n",
              "      <td>0.987788</td>\n",
              "    </tr>\n",
              "  </tbody>\n",
              "</table>\n",
              "</div>\n",
              "      <button class=\"colab-df-convert\" onclick=\"convertToInteractive('df-2f284442-424b-4178-af5b-10251c7f6dd0')\"\n",
              "              title=\"Convert this dataframe to an interactive table.\"\n",
              "              style=\"display:none;\">\n",
              "        \n",
              "  <svg xmlns=\"http://www.w3.org/2000/svg\" height=\"24px\"viewBox=\"0 0 24 24\"\n",
              "       width=\"24px\">\n",
              "    <path d=\"M0 0h24v24H0V0z\" fill=\"none\"/>\n",
              "    <path d=\"M18.56 5.44l.94 2.06.94-2.06 2.06-.94-2.06-.94-.94-2.06-.94 2.06-2.06.94zm-11 1L8.5 8.5l.94-2.06 2.06-.94-2.06-.94L8.5 2.5l-.94 2.06-2.06.94zm10 10l.94 2.06.94-2.06 2.06-.94-2.06-.94-.94-2.06-.94 2.06-2.06.94z\"/><path d=\"M17.41 7.96l-1.37-1.37c-.4-.4-.92-.59-1.43-.59-.52 0-1.04.2-1.43.59L10.3 9.45l-7.72 7.72c-.78.78-.78 2.05 0 2.83L4 21.41c.39.39.9.59 1.41.59.51 0 1.02-.2 1.41-.59l7.78-7.78 2.81-2.81c.8-.78.8-2.07 0-2.86zM5.41 20L4 18.59l7.72-7.72 1.47 1.35L5.41 20z\"/>\n",
              "  </svg>\n",
              "      </button>\n",
              "      \n",
              "  <style>\n",
              "    .colab-df-container {\n",
              "      display:flex;\n",
              "      flex-wrap:wrap;\n",
              "      gap: 12px;\n",
              "    }\n",
              "\n",
              "    .colab-df-convert {\n",
              "      background-color: #E8F0FE;\n",
              "      border: none;\n",
              "      border-radius: 50%;\n",
              "      cursor: pointer;\n",
              "      display: none;\n",
              "      fill: #1967D2;\n",
              "      height: 32px;\n",
              "      padding: 0 0 0 0;\n",
              "      width: 32px;\n",
              "    }\n",
              "\n",
              "    .colab-df-convert:hover {\n",
              "      background-color: #E2EBFA;\n",
              "      box-shadow: 0px 1px 2px rgba(60, 64, 67, 0.3), 0px 1px 3px 1px rgba(60, 64, 67, 0.15);\n",
              "      fill: #174EA6;\n",
              "    }\n",
              "\n",
              "    [theme=dark] .colab-df-convert {\n",
              "      background-color: #3B4455;\n",
              "      fill: #D2E3FC;\n",
              "    }\n",
              "\n",
              "    [theme=dark] .colab-df-convert:hover {\n",
              "      background-color: #434B5C;\n",
              "      box-shadow: 0px 1px 3px 1px rgba(0, 0, 0, 0.15);\n",
              "      filter: drop-shadow(0px 1px 2px rgba(0, 0, 0, 0.3));\n",
              "      fill: #FFFFFF;\n",
              "    }\n",
              "  </style>\n",
              "\n",
              "      <script>\n",
              "        const buttonEl =\n",
              "          document.querySelector('#df-2f284442-424b-4178-af5b-10251c7f6dd0 button.colab-df-convert');\n",
              "        buttonEl.style.display =\n",
              "          google.colab.kernel.accessAllowed ? 'block' : 'none';\n",
              "\n",
              "        async function convertToInteractive(key) {\n",
              "          const element = document.querySelector('#df-2f284442-424b-4178-af5b-10251c7f6dd0');\n",
              "          const dataTable =\n",
              "            await google.colab.kernel.invokeFunction('convertToInteractive',\n",
              "                                                     [key], {});\n",
              "          if (!dataTable) return;\n",
              "\n",
              "          const docLinkHtml = 'Like what you see? Visit the ' +\n",
              "            '<a target=\"_blank\" href=https://colab.research.google.com/notebooks/data_table.ipynb>data table notebook</a>'\n",
              "            + ' to learn more about interactive tables.';\n",
              "          element.innerHTML = '';\n",
              "          dataTable['output_type'] = 'display_data';\n",
              "          await google.colab.output.renderOutput(dataTable, element);\n",
              "          const docLink = document.createElement('div');\n",
              "          docLink.innerHTML = docLinkHtml;\n",
              "          element.appendChild(docLink);\n",
              "        }\n",
              "      </script>\n",
              "    </div>\n",
              "  </div>\n",
              "  "
            ],
            "text/plain": [
              "                        MAE            MSE        RMSE  Rsquared\n",
              "Lasso            161.815705  117959.751029  343.452691  0.987447\n",
              "KNN              149.552192  122649.605873  350.213657  0.986948\n",
              "VotingRegressor  157.082022  114759.677797  338.761978  0.987788"
            ]
          },
          "metadata": {},
          "execution_count": 65
        }
      ]
    },
    {
      "cell_type": "code",
      "source": [
        "new_er_y_pred = er.predict(X_new)"
      ],
      "metadata": {
        "id": "VBW6UyBnqwM6"
      },
      "execution_count": null,
      "outputs": []
    },
    {
      "cell_type": "code",
      "source": [
        "new_predictions_df['VotingRegressor'] = new_er_y_pred\n",
        "new_predictions_df.T"
      ],
      "metadata": {
        "colab": {
          "base_uri": "https://localhost:8080/",
          "height": 268
        },
        "id": "vkycoWtNsRmq",
        "outputId": "523e1e11-aeab-4df7-90c4-91fc5baa5589"
      },
      "execution_count": null,
      "outputs": [
        {
          "output_type": "execute_result",
          "data": {
            "text/html": [
              "\n",
              "  <div id=\"df-6600ee9b-4ea3-4152-b07e-9ed7cae43d38\">\n",
              "    <div class=\"colab-df-container\">\n",
              "      <div>\n",
              "<style scoped>\n",
              "    .dataframe tbody tr th:only-of-type {\n",
              "        vertical-align: middle;\n",
              "    }\n",
              "\n",
              "    .dataframe tbody tr th {\n",
              "        vertical-align: top;\n",
              "    }\n",
              "\n",
              "    .dataframe thead th {\n",
              "        text-align: right;\n",
              "    }\n",
              "</style>\n",
              "<table border=\"1\" class=\"dataframe\">\n",
              "  <thead>\n",
              "    <tr style=\"text-align: right;\">\n",
              "      <th></th>\n",
              "      <th>0</th>\n",
              "      <th>1</th>\n",
              "      <th>2</th>\n",
              "      <th>3</th>\n",
              "      <th>4</th>\n",
              "      <th>5</th>\n",
              "      <th>6</th>\n",
              "      <th>7</th>\n",
              "      <th>8</th>\n",
              "      <th>9</th>\n",
              "      <th>10</th>\n",
              "      <th>11</th>\n",
              "      <th>12</th>\n",
              "      <th>13</th>\n",
              "      <th>14</th>\n",
              "      <th>15</th>\n",
              "      <th>16</th>\n",
              "      <th>17</th>\n",
              "      <th>18</th>\n",
              "      <th>19</th>\n",
              "      <th>20</th>\n",
              "      <th>21</th>\n",
              "      <th>22</th>\n",
              "      <th>23</th>\n",
              "      <th>24</th>\n",
              "      <th>25</th>\n",
              "      <th>26</th>\n",
              "      <th>27</th>\n",
              "      <th>28</th>\n",
              "      <th>29</th>\n",
              "      <th>30</th>\n",
              "      <th>31</th>\n",
              "      <th>32</th>\n",
              "      <th>33</th>\n",
              "      <th>34</th>\n",
              "      <th>35</th>\n",
              "      <th>36</th>\n",
              "      <th>37</th>\n",
              "      <th>38</th>\n",
              "      <th>39</th>\n",
              "      <th>...</th>\n",
              "      <th>319</th>\n",
              "      <th>320</th>\n",
              "      <th>321</th>\n",
              "      <th>322</th>\n",
              "      <th>323</th>\n",
              "      <th>324</th>\n",
              "      <th>325</th>\n",
              "      <th>326</th>\n",
              "      <th>327</th>\n",
              "      <th>328</th>\n",
              "      <th>329</th>\n",
              "      <th>330</th>\n",
              "      <th>331</th>\n",
              "      <th>332</th>\n",
              "      <th>333</th>\n",
              "      <th>334</th>\n",
              "      <th>335</th>\n",
              "      <th>336</th>\n",
              "      <th>337</th>\n",
              "      <th>338</th>\n",
              "      <th>339</th>\n",
              "      <th>340</th>\n",
              "      <th>341</th>\n",
              "      <th>342</th>\n",
              "      <th>343</th>\n",
              "      <th>344</th>\n",
              "      <th>345</th>\n",
              "      <th>346</th>\n",
              "      <th>347</th>\n",
              "      <th>348</th>\n",
              "      <th>349</th>\n",
              "      <th>350</th>\n",
              "      <th>351</th>\n",
              "      <th>352</th>\n",
              "      <th>353</th>\n",
              "      <th>354</th>\n",
              "      <th>355</th>\n",
              "      <th>356</th>\n",
              "      <th>357</th>\n",
              "      <th>358</th>\n",
              "    </tr>\n",
              "  </thead>\n",
              "  <tbody>\n",
              "    <tr>\n",
              "      <th>MAIN_AREA_true</th>\n",
              "      <td>576.000000</td>\n",
              "      <td>220.000000</td>\n",
              "      <td>240.000000</td>\n",
              "      <td>570.400000</td>\n",
              "      <td>768.800000</td>\n",
              "      <td>620.000000</td>\n",
              "      <td>590.240000</td>\n",
              "      <td>728.000000</td>\n",
              "      <td>3250.000000</td>\n",
              "      <td>15155.000000</td>\n",
              "      <td>8155.000000</td>\n",
              "      <td>19810.000000</td>\n",
              "      <td>12985.000000</td>\n",
              "      <td>15045.000000</td>\n",
              "      <td>14015.000000</td>\n",
              "      <td>13555.000000</td>\n",
              "      <td>14965.000000</td>\n",
              "      <td>18275.000000</td>\n",
              "      <td>953.000000</td>\n",
              "      <td>575.000000</td>\n",
              "      <td>647.000000</td>\n",
              "      <td>618.000000</td>\n",
              "      <td>653.000000</td>\n",
              "      <td>645.000000</td>\n",
              "      <td>659.000000</td>\n",
              "      <td>686.000000</td>\n",
              "      <td>670.000000</td>\n",
              "      <td>651.000000</td>\n",
              "      <td>640.000000</td>\n",
              "      <td>620.000000</td>\n",
              "      <td>624.000000</td>\n",
              "      <td>647.000000</td>\n",
              "      <td>647.000000</td>\n",
              "      <td>672.000000</td>\n",
              "      <td>1610.000000</td>\n",
              "      <td>945.000000</td>\n",
              "      <td>601.000000</td>\n",
              "      <td>1015.000000</td>\n",
              "      <td>1032.000000</td>\n",
              "      <td>1040.000000</td>\n",
              "      <td>...</td>\n",
              "      <td>720.000000</td>\n",
              "      <td>720.000000</td>\n",
              "      <td>720.000000</td>\n",
              "      <td>720.000000</td>\n",
              "      <td>720.000000</td>\n",
              "      <td>720.000000</td>\n",
              "      <td>720.000000</td>\n",
              "      <td>720.000000</td>\n",
              "      <td>720.000000</td>\n",
              "      <td>324.000000</td>\n",
              "      <td>324.000000</td>\n",
              "      <td>324.000000</td>\n",
              "      <td>324.000000</td>\n",
              "      <td>324.000000</td>\n",
              "      <td>1894.000000</td>\n",
              "      <td>220.000000</td>\n",
              "      <td>205.000000</td>\n",
              "      <td>160.000000</td>\n",
              "      <td>285.000000</td>\n",
              "      <td>190.000000</td>\n",
              "      <td>240.000000</td>\n",
              "      <td>576.000000</td>\n",
              "      <td>3060.000000</td>\n",
              "      <td>600.000000</td>\n",
              "      <td>897.000000</td>\n",
              "      <td>332.400000</td>\n",
              "      <td>4400.000000</td>\n",
              "      <td>230.000000</td>\n",
              "      <td>460.000000</td>\n",
              "      <td>1456.000000</td>\n",
              "      <td>230.000000</td>\n",
              "      <td>370.000000</td>\n",
              "      <td>383.140000</td>\n",
              "      <td>240.000000</td>\n",
              "      <td>480.000000</td>\n",
              "      <td>527.050000</td>\n",
              "      <td>810.600000</td>\n",
              "      <td>811.000000</td>\n",
              "      <td>920.000000</td>\n",
              "      <td>3034.000000</td>\n",
              "    </tr>\n",
              "    <tr>\n",
              "      <th>KNN_predictions</th>\n",
              "      <td>576.800000</td>\n",
              "      <td>230.000000</td>\n",
              "      <td>246.800000</td>\n",
              "      <td>551.822287</td>\n",
              "      <td>730.580274</td>\n",
              "      <td>595.000000</td>\n",
              "      <td>558.887134</td>\n",
              "      <td>686.357143</td>\n",
              "      <td>3358.802078</td>\n",
              "      <td>15772.550068</td>\n",
              "      <td>8564.061464</td>\n",
              "      <td>19962.697228</td>\n",
              "      <td>12967.591930</td>\n",
              "      <td>15626.025226</td>\n",
              "      <td>14516.864137</td>\n",
              "      <td>13770.247267</td>\n",
              "      <td>15603.645101</td>\n",
              "      <td>18484.665472</td>\n",
              "      <td>1143.339297</td>\n",
              "      <td>777.500000</td>\n",
              "      <td>928.685000</td>\n",
              "      <td>903.000000</td>\n",
              "      <td>804.565962</td>\n",
              "      <td>910.154797</td>\n",
              "      <td>874.023460</td>\n",
              "      <td>819.000000</td>\n",
              "      <td>886.333333</td>\n",
              "      <td>825.465309</td>\n",
              "      <td>887.733333</td>\n",
              "      <td>866.572570</td>\n",
              "      <td>918.000000</td>\n",
              "      <td>928.685000</td>\n",
              "      <td>928.685000</td>\n",
              "      <td>881.339454</td>\n",
              "      <td>2177.050269</td>\n",
              "      <td>1215.545586</td>\n",
              "      <td>811.327694</td>\n",
              "      <td>1328.755567</td>\n",
              "      <td>1267.106800</td>\n",
              "      <td>1441.886046</td>\n",
              "      <td>...</td>\n",
              "      <td>692.888889</td>\n",
              "      <td>692.888889</td>\n",
              "      <td>692.888889</td>\n",
              "      <td>692.888889</td>\n",
              "      <td>692.888889</td>\n",
              "      <td>692.888889</td>\n",
              "      <td>692.888889</td>\n",
              "      <td>692.888889</td>\n",
              "      <td>692.888889</td>\n",
              "      <td>338.305085</td>\n",
              "      <td>338.305085</td>\n",
              "      <td>338.305085</td>\n",
              "      <td>338.305085</td>\n",
              "      <td>338.305085</td>\n",
              "      <td>1872.410300</td>\n",
              "      <td>220.000000</td>\n",
              "      <td>211.454739</td>\n",
              "      <td>175.500000</td>\n",
              "      <td>302.044524</td>\n",
              "      <td>257.785926</td>\n",
              "      <td>246.800000</td>\n",
              "      <td>576.800000</td>\n",
              "      <td>2477.551703</td>\n",
              "      <td>582.429969</td>\n",
              "      <td>767.000000</td>\n",
              "      <td>340.616592</td>\n",
              "      <td>4379.226293</td>\n",
              "      <td>196.750000</td>\n",
              "      <td>450.000000</td>\n",
              "      <td>1405.350740</td>\n",
              "      <td>220.000000</td>\n",
              "      <td>387.712764</td>\n",
              "      <td>385.862118</td>\n",
              "      <td>246.800000</td>\n",
              "      <td>538.666667</td>\n",
              "      <td>639.757538</td>\n",
              "      <td>810.509426</td>\n",
              "      <td>781.500000</td>\n",
              "      <td>971.500000</td>\n",
              "      <td>2706.828496</td>\n",
              "    </tr>\n",
              "    <tr>\n",
              "      <th>LASSO_predictions</th>\n",
              "      <td>577.275913</td>\n",
              "      <td>335.119699</td>\n",
              "      <td>351.608772</td>\n",
              "      <td>572.008518</td>\n",
              "      <td>740.019501</td>\n",
              "      <td>614.011264</td>\n",
              "      <td>588.809617</td>\n",
              "      <td>669.828808</td>\n",
              "      <td>3101.480117</td>\n",
              "      <td>15889.111383</td>\n",
              "      <td>8454.555950</td>\n",
              "      <td>20720.126478</td>\n",
              "      <td>13552.721452</td>\n",
              "      <td>15682.810455</td>\n",
              "      <td>14588.137007</td>\n",
              "      <td>14112.507934</td>\n",
              "      <td>15619.629282</td>\n",
              "      <td>19080.061663</td>\n",
              "      <td>1122.724368</td>\n",
              "      <td>752.391178</td>\n",
              "      <td>822.192178</td>\n",
              "      <td>783.934915</td>\n",
              "      <td>792.093930</td>\n",
              "      <td>786.653109</td>\n",
              "      <td>798.345406</td>\n",
              "      <td>819.740668</td>\n",
              "      <td>821.806814</td>\n",
              "      <td>808.090373</td>\n",
              "      <td>783.420445</td>\n",
              "      <td>752.081283</td>\n",
              "      <td>754.935974</td>\n",
              "      <td>771.350445</td>\n",
              "      <td>787.811894</td>\n",
              "      <td>849.160260</td>\n",
              "      <td>1951.313723</td>\n",
              "      <td>1135.817697</td>\n",
              "      <td>771.802480</td>\n",
              "      <td>1205.929521</td>\n",
              "      <td>1218.240996</td>\n",
              "      <td>1267.904527</td>\n",
              "      <td>...</td>\n",
              "      <td>625.433136</td>\n",
              "      <td>625.433136</td>\n",
              "      <td>625.433136</td>\n",
              "      <td>625.433136</td>\n",
              "      <td>625.433136</td>\n",
              "      <td>625.433136</td>\n",
              "      <td>625.433136</td>\n",
              "      <td>625.433136</td>\n",
              "      <td>625.433136</td>\n",
              "      <td>386.392136</td>\n",
              "      <td>386.392136</td>\n",
              "      <td>386.392136</td>\n",
              "      <td>386.392136</td>\n",
              "      <td>386.392136</td>\n",
              "      <td>1824.632823</td>\n",
              "      <td>323.019976</td>\n",
              "      <td>318.877194</td>\n",
              "      <td>293.296194</td>\n",
              "      <td>431.703965</td>\n",
              "      <td>359.393916</td>\n",
              "      <td>350.171080</td>\n",
              "      <td>576.999408</td>\n",
              "      <td>2508.371869</td>\n",
              "      <td>585.823209</td>\n",
              "      <td>790.341062</td>\n",
              "      <td>395.398668</td>\n",
              "      <td>4385.806564</td>\n",
              "      <td>305.851550</td>\n",
              "      <td>487.673830</td>\n",
              "      <td>1422.205807</td>\n",
              "      <td>331.377653</td>\n",
              "      <td>419.929186</td>\n",
              "      <td>442.571343</td>\n",
              "      <td>348.447820</td>\n",
              "      <td>545.702635</td>\n",
              "      <td>630.238899</td>\n",
              "      <td>767.514633</td>\n",
              "      <td>796.482136</td>\n",
              "      <td>884.696030</td>\n",
              "      <td>2642.104115</td>\n",
              "    </tr>\n",
              "    <tr>\n",
              "      <th>VotingRegressor</th>\n",
              "      <td>573.893385</td>\n",
              "      <td>323.951543</td>\n",
              "      <td>341.352851</td>\n",
              "      <td>569.512722</td>\n",
              "      <td>741.412961</td>\n",
              "      <td>610.356647</td>\n",
              "      <td>585.922052</td>\n",
              "      <td>670.250682</td>\n",
              "      <td>3103.962644</td>\n",
              "      <td>15833.633799</td>\n",
              "      <td>8434.690062</td>\n",
              "      <td>20603.492770</td>\n",
              "      <td>13541.556398</td>\n",
              "      <td>15604.124081</td>\n",
              "      <td>14515.515281</td>\n",
              "      <td>14077.216117</td>\n",
              "      <td>15555.194873</td>\n",
              "      <td>19006.032690</td>\n",
              "      <td>1142.063726</td>\n",
              "      <td>756.495267</td>\n",
              "      <td>822.993014</td>\n",
              "      <td>788.252954</td>\n",
              "      <td>796.326981</td>\n",
              "      <td>791.020757</td>\n",
              "      <td>807.366006</td>\n",
              "      <td>828.060517</td>\n",
              "      <td>824.605969</td>\n",
              "      <td>809.526286</td>\n",
              "      <td>784.996232</td>\n",
              "      <td>759.251733</td>\n",
              "      <td>761.697287</td>\n",
              "      <td>776.757587</td>\n",
              "      <td>791.591193</td>\n",
              "      <td>855.378942</td>\n",
              "      <td>1955.144341</td>\n",
              "      <td>1148.944137</td>\n",
              "      <td>775.637486</td>\n",
              "      <td>1216.965948</td>\n",
              "      <td>1228.511122</td>\n",
              "      <td>1274.103456</td>\n",
              "      <td>...</td>\n",
              "      <td>631.643399</td>\n",
              "      <td>631.643399</td>\n",
              "      <td>631.643399</td>\n",
              "      <td>631.643399</td>\n",
              "      <td>631.643399</td>\n",
              "      <td>631.643399</td>\n",
              "      <td>631.643399</td>\n",
              "      <td>631.643399</td>\n",
              "      <td>631.643399</td>\n",
              "      <td>379.615254</td>\n",
              "      <td>379.615254</td>\n",
              "      <td>379.615254</td>\n",
              "      <td>379.615254</td>\n",
              "      <td>379.615254</td>\n",
              "      <td>1820.994610</td>\n",
              "      <td>312.625201</td>\n",
              "      <td>309.367840</td>\n",
              "      <td>282.788206</td>\n",
              "      <td>419.281879</td>\n",
              "      <td>349.659032</td>\n",
              "      <td>339.732317</td>\n",
              "      <td>574.890293</td>\n",
              "      <td>2518.522601</td>\n",
              "      <td>585.257977</td>\n",
              "      <td>786.024144</td>\n",
              "      <td>391.442342</td>\n",
              "      <td>4377.847169</td>\n",
              "      <td>294.701637</td>\n",
              "      <td>480.472315</td>\n",
              "      <td>1434.117655</td>\n",
              "      <td>323.006856</td>\n",
              "      <td>414.291679</td>\n",
              "      <td>435.251277</td>\n",
              "      <td>339.601775</td>\n",
              "      <td>546.354920</td>\n",
              "      <td>628.211737</td>\n",
              "      <td>767.808397</td>\n",
              "      <td>798.614032</td>\n",
              "      <td>890.606832</td>\n",
              "      <td>2676.274081</td>\n",
              "    </tr>\n",
              "  </tbody>\n",
              "</table>\n",
              "<p>4 rows × 359 columns</p>\n",
              "</div>\n",
              "      <button class=\"colab-df-convert\" onclick=\"convertToInteractive('df-6600ee9b-4ea3-4152-b07e-9ed7cae43d38')\"\n",
              "              title=\"Convert this dataframe to an interactive table.\"\n",
              "              style=\"display:none;\">\n",
              "        \n",
              "  <svg xmlns=\"http://www.w3.org/2000/svg\" height=\"24px\"viewBox=\"0 0 24 24\"\n",
              "       width=\"24px\">\n",
              "    <path d=\"M0 0h24v24H0V0z\" fill=\"none\"/>\n",
              "    <path d=\"M18.56 5.44l.94 2.06.94-2.06 2.06-.94-2.06-.94-.94-2.06-.94 2.06-2.06.94zm-11 1L8.5 8.5l.94-2.06 2.06-.94-2.06-.94L8.5 2.5l-.94 2.06-2.06.94zm10 10l.94 2.06.94-2.06 2.06-.94-2.06-.94-.94-2.06-.94 2.06-2.06.94z\"/><path d=\"M17.41 7.96l-1.37-1.37c-.4-.4-.92-.59-1.43-.59-.52 0-1.04.2-1.43.59L10.3 9.45l-7.72 7.72c-.78.78-.78 2.05 0 2.83L4 21.41c.39.39.9.59 1.41.59.51 0 1.02-.2 1.41-.59l7.78-7.78 2.81-2.81c.8-.78.8-2.07 0-2.86zM5.41 20L4 18.59l7.72-7.72 1.47 1.35L5.41 20z\"/>\n",
              "  </svg>\n",
              "      </button>\n",
              "      \n",
              "  <style>\n",
              "    .colab-df-container {\n",
              "      display:flex;\n",
              "      flex-wrap:wrap;\n",
              "      gap: 12px;\n",
              "    }\n",
              "\n",
              "    .colab-df-convert {\n",
              "      background-color: #E8F0FE;\n",
              "      border: none;\n",
              "      border-radius: 50%;\n",
              "      cursor: pointer;\n",
              "      display: none;\n",
              "      fill: #1967D2;\n",
              "      height: 32px;\n",
              "      padding: 0 0 0 0;\n",
              "      width: 32px;\n",
              "    }\n",
              "\n",
              "    .colab-df-convert:hover {\n",
              "      background-color: #E2EBFA;\n",
              "      box-shadow: 0px 1px 2px rgba(60, 64, 67, 0.3), 0px 1px 3px 1px rgba(60, 64, 67, 0.15);\n",
              "      fill: #174EA6;\n",
              "    }\n",
              "\n",
              "    [theme=dark] .colab-df-convert {\n",
              "      background-color: #3B4455;\n",
              "      fill: #D2E3FC;\n",
              "    }\n",
              "\n",
              "    [theme=dark] .colab-df-convert:hover {\n",
              "      background-color: #434B5C;\n",
              "      box-shadow: 0px 1px 3px 1px rgba(0, 0, 0, 0.15);\n",
              "      filter: drop-shadow(0px 1px 2px rgba(0, 0, 0, 0.3));\n",
              "      fill: #FFFFFF;\n",
              "    }\n",
              "  </style>\n",
              "\n",
              "      <script>\n",
              "        const buttonEl =\n",
              "          document.querySelector('#df-6600ee9b-4ea3-4152-b07e-9ed7cae43d38 button.colab-df-convert');\n",
              "        buttonEl.style.display =\n",
              "          google.colab.kernel.accessAllowed ? 'block' : 'none';\n",
              "\n",
              "        async function convertToInteractive(key) {\n",
              "          const element = document.querySelector('#df-6600ee9b-4ea3-4152-b07e-9ed7cae43d38');\n",
              "          const dataTable =\n",
              "            await google.colab.kernel.invokeFunction('convertToInteractive',\n",
              "                                                     [key], {});\n",
              "          if (!dataTable) return;\n",
              "\n",
              "          const docLinkHtml = 'Like what you see? Visit the ' +\n",
              "            '<a target=\"_blank\" href=https://colab.research.google.com/notebooks/data_table.ipynb>data table notebook</a>'\n",
              "            + ' to learn more about interactive tables.';\n",
              "          element.innerHTML = '';\n",
              "          dataTable['output_type'] = 'display_data';\n",
              "          await google.colab.output.renderOutput(dataTable, element);\n",
              "          const docLink = document.createElement('div');\n",
              "          docLink.innerHTML = docLinkHtml;\n",
              "          element.appendChild(docLink);\n",
              "        }\n",
              "      </script>\n",
              "    </div>\n",
              "  </div>\n",
              "  "
            ],
            "text/plain": [
              "                          0           1    ...         357          358\n",
              "MAIN_AREA_true     576.000000  220.000000  ...  920.000000  3034.000000\n",
              "KNN_predictions    576.800000  230.000000  ...  971.500000  2706.828496\n",
              "LASSO_predictions  577.275913  335.119699  ...  884.696030  2642.104115\n",
              "VotingRegressor    573.893385  323.951543  ...  890.606832  2676.274081\n",
              "\n",
              "[4 rows x 359 columns]"
            ]
          },
          "metadata": {},
          "execution_count": 67
        }
      ]
    },
    {
      "cell_type": "code",
      "source": [
        "new_er_mae = mean_absolute_error(y_new, new_er_y_pred)\n",
        "new_er_mse = mean_squared_error(y_new, new_er_y_pred)\n",
        "new_er_rmse = mean_squared_error(y_new, new_er_y_pred, squared=False)\n",
        "new_er_rsquared = r2_score(y_new, new_er_y_pred)\n",
        "\n",
        "n_results_df.loc['VotingRegressor'] = [new_er_mae, new_er_mse, new_er_rmse, new_er_rsquared]\n",
        "print('New data results:')\n",
        "n_results_df"
      ],
      "metadata": {
        "colab": {
          "base_uri": "https://localhost:8080/",
          "height": 161
        },
        "id": "cdR1FUiTso6o",
        "outputId": "572d1d59-acea-42d2-c650-e8062572b908"
      },
      "execution_count": null,
      "outputs": [
        {
          "output_type": "stream",
          "name": "stdout",
          "text": [
            "New data results:\n"
          ]
        },
        {
          "output_type": "execute_result",
          "data": {
            "text/html": [
              "\n",
              "  <div id=\"df-50d376dd-efec-4f67-ba82-2bba89ccbca1\">\n",
              "    <div class=\"colab-df-container\">\n",
              "      <div>\n",
              "<style scoped>\n",
              "    .dataframe tbody tr th:only-of-type {\n",
              "        vertical-align: middle;\n",
              "    }\n",
              "\n",
              "    .dataframe tbody tr th {\n",
              "        vertical-align: top;\n",
              "    }\n",
              "\n",
              "    .dataframe thead th {\n",
              "        text-align: right;\n",
              "    }\n",
              "</style>\n",
              "<table border=\"1\" class=\"dataframe\">\n",
              "  <thead>\n",
              "    <tr style=\"text-align: right;\">\n",
              "      <th></th>\n",
              "      <th>MAE</th>\n",
              "      <th>MSE</th>\n",
              "      <th>RMSE</th>\n",
              "      <th>Rsquared</th>\n",
              "    </tr>\n",
              "  </thead>\n",
              "  <tbody>\n",
              "    <tr>\n",
              "      <th>Lasso</th>\n",
              "      <td>170.411896</td>\n",
              "      <td>81192.384450</td>\n",
              "      <td>284.942774</td>\n",
              "      <td>0.984131</td>\n",
              "    </tr>\n",
              "    <tr>\n",
              "      <th>KNN</th>\n",
              "      <td>218.728163</td>\n",
              "      <td>134402.635171</td>\n",
              "      <td>366.609650</td>\n",
              "      <td>0.973730</td>\n",
              "    </tr>\n",
              "    <tr>\n",
              "      <th>VotingRegressor</th>\n",
              "      <td>173.051415</td>\n",
              "      <td>81024.630697</td>\n",
              "      <td>284.648258</td>\n",
              "      <td>0.984163</td>\n",
              "    </tr>\n",
              "  </tbody>\n",
              "</table>\n",
              "</div>\n",
              "      <button class=\"colab-df-convert\" onclick=\"convertToInteractive('df-50d376dd-efec-4f67-ba82-2bba89ccbca1')\"\n",
              "              title=\"Convert this dataframe to an interactive table.\"\n",
              "              style=\"display:none;\">\n",
              "        \n",
              "  <svg xmlns=\"http://www.w3.org/2000/svg\" height=\"24px\"viewBox=\"0 0 24 24\"\n",
              "       width=\"24px\">\n",
              "    <path d=\"M0 0h24v24H0V0z\" fill=\"none\"/>\n",
              "    <path d=\"M18.56 5.44l.94 2.06.94-2.06 2.06-.94-2.06-.94-.94-2.06-.94 2.06-2.06.94zm-11 1L8.5 8.5l.94-2.06 2.06-.94-2.06-.94L8.5 2.5l-.94 2.06-2.06.94zm10 10l.94 2.06.94-2.06 2.06-.94-2.06-.94-.94-2.06-.94 2.06-2.06.94z\"/><path d=\"M17.41 7.96l-1.37-1.37c-.4-.4-.92-.59-1.43-.59-.52 0-1.04.2-1.43.59L10.3 9.45l-7.72 7.72c-.78.78-.78 2.05 0 2.83L4 21.41c.39.39.9.59 1.41.59.51 0 1.02-.2 1.41-.59l7.78-7.78 2.81-2.81c.8-.78.8-2.07 0-2.86zM5.41 20L4 18.59l7.72-7.72 1.47 1.35L5.41 20z\"/>\n",
              "  </svg>\n",
              "      </button>\n",
              "      \n",
              "  <style>\n",
              "    .colab-df-container {\n",
              "      display:flex;\n",
              "      flex-wrap:wrap;\n",
              "      gap: 12px;\n",
              "    }\n",
              "\n",
              "    .colab-df-convert {\n",
              "      background-color: #E8F0FE;\n",
              "      border: none;\n",
              "      border-radius: 50%;\n",
              "      cursor: pointer;\n",
              "      display: none;\n",
              "      fill: #1967D2;\n",
              "      height: 32px;\n",
              "      padding: 0 0 0 0;\n",
              "      width: 32px;\n",
              "    }\n",
              "\n",
              "    .colab-df-convert:hover {\n",
              "      background-color: #E2EBFA;\n",
              "      box-shadow: 0px 1px 2px rgba(60, 64, 67, 0.3), 0px 1px 3px 1px rgba(60, 64, 67, 0.15);\n",
              "      fill: #174EA6;\n",
              "    }\n",
              "\n",
              "    [theme=dark] .colab-df-convert {\n",
              "      background-color: #3B4455;\n",
              "      fill: #D2E3FC;\n",
              "    }\n",
              "\n",
              "    [theme=dark] .colab-df-convert:hover {\n",
              "      background-color: #434B5C;\n",
              "      box-shadow: 0px 1px 3px 1px rgba(0, 0, 0, 0.15);\n",
              "      filter: drop-shadow(0px 1px 2px rgba(0, 0, 0, 0.3));\n",
              "      fill: #FFFFFF;\n",
              "    }\n",
              "  </style>\n",
              "\n",
              "      <script>\n",
              "        const buttonEl =\n",
              "          document.querySelector('#df-50d376dd-efec-4f67-ba82-2bba89ccbca1 button.colab-df-convert');\n",
              "        buttonEl.style.display =\n",
              "          google.colab.kernel.accessAllowed ? 'block' : 'none';\n",
              "\n",
              "        async function convertToInteractive(key) {\n",
              "          const element = document.querySelector('#df-50d376dd-efec-4f67-ba82-2bba89ccbca1');\n",
              "          const dataTable =\n",
              "            await google.colab.kernel.invokeFunction('convertToInteractive',\n",
              "                                                     [key], {});\n",
              "          if (!dataTable) return;\n",
              "\n",
              "          const docLinkHtml = 'Like what you see? Visit the ' +\n",
              "            '<a target=\"_blank\" href=https://colab.research.google.com/notebooks/data_table.ipynb>data table notebook</a>'\n",
              "            + ' to learn more about interactive tables.';\n",
              "          element.innerHTML = '';\n",
              "          dataTable['output_type'] = 'display_data';\n",
              "          await google.colab.output.renderOutput(dataTable, element);\n",
              "          const docLink = document.createElement('div');\n",
              "          docLink.innerHTML = docLinkHtml;\n",
              "          element.appendChild(docLink);\n",
              "        }\n",
              "      </script>\n",
              "    </div>\n",
              "  </div>\n",
              "  "
            ],
            "text/plain": [
              "                        MAE            MSE        RMSE  Rsquared\n",
              "Lasso            170.411896   81192.384450  284.942774  0.984131\n",
              "KNN              218.728163  134402.635171  366.609650  0.973730\n",
              "VotingRegressor  173.051415   81024.630697  284.648258  0.984163"
            ]
          },
          "metadata": {},
          "execution_count": 68
        }
      ]
    },
    {
      "cell_type": "markdown",
      "source": [
        "The VotingRegressor model has led to a small improvement."
      ],
      "metadata": {
        "id": "JhCWELg1wPlp"
      }
    }
  ]
}