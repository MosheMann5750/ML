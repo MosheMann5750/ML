{
  "nbformat": 4,
  "nbformat_minor": 0,
  "metadata": {
    "colab": {
      "name": "DetailedResidencePlans.ipynb",
      "provenance": [],
      "authorship_tag": "ABX9TyPpRU9fAM8K4CjAC+hziPgm",
      "include_colab_link": true
    },
    "kernelspec": {
      "name": "python3",
      "display_name": "Python 3"
    },
    "language_info": {
      "name": "python"
    }
  },
  "cells": [
    {
      "cell_type": "markdown",
      "metadata": {
        "id": "view-in-github",
        "colab_type": "text"
      },
      "source": [
        "<a href=\"https://colab.research.google.com/github/mannmoshe/machine-learning/blob/main/FinalProject/DetailedResidencePlans.ipynb\" target=\"_parent\"><img src=\"https://colab.research.google.com/assets/colab-badge.svg\" alt=\"Open In Colab\"/></a>"
      ]
    },
    {
      "cell_type": "markdown",
      "source": [
        "# Final Project - Detailed residence plans<br>*By Moshe Mann*"
      ],
      "metadata": {
        "id": "ZEjIPay33abT"
      }
    },
    {
      "cell_type": "markdown",
      "source": [
        "**Overview**<br>\n",
        "The Israel Planning Administration (IPA) is handling detailed construction plans.<BR>Every detailed plan contains a lot of data, among the rest, division of main and service area.<BR><BR>Main area is the area that divided among the tenants, like the departments,<BR> and the service area is common to all tenants, like parking, stairwell etc.<BR><BR>\n",
        "In the near future the plans will not include the division between main and service area, because it is not important for the IPA as planning unit, but still, it is important data for regulation.<BR><BR> The purpose of the project is to predict the main and service areas based on the cell and plan features, so that the model can be used for regulatory purposes."
      ],
      "metadata": {
        "id": "pcfRRxNVLaMm"
      }
    },
    {
      "cell_type": "markdown",
      "source": [
        "You can view plan's details and documents at:<br>\n",
        "https://mavat.moin.gov.il/MavatPS/Forms/SV3.aspx?tid=3<br>\n",
        "by entering the PL_NUMBER.<BR>\n",
        "The \"MAIN_AREA\" data founds at \"Plan Instructions\" file (הוראות התכנית)."
      ],
      "metadata": {
        "id": "Ylpcw-6ojLcj"
      }
    },
    {
      "cell_type": "code",
      "execution_count": 1,
      "metadata": {
        "id": "_E9eo8uh3ZkZ"
      },
      "outputs": [],
      "source": [
        "import pandas as pd\n",
        "import warnings\n",
        "warnings.filterwarnings('ignore')"
      ]
    },
    {
      "cell_type": "code",
      "source": [
        "cellsdata = pd.read_csv('https://raw.githubusercontent.com/mannmoshe/machine-learning/main/FinalProject/cellsData.csv')"
      ],
      "metadata": {
        "id": "ZqjZVz1jUDLC"
      },
      "execution_count": 2,
      "outputs": []
    },
    {
      "cell_type": "markdown",
      "source": [
        "The data comes from detailed plans with residence area that confirmed between Jan 2017 and Nov 2021.\n",
        "### Data Features\n",
        "\n",
        "<table>\n",
        "  <tbody>    \n",
        "    <tr valign=\"top\">\n",
        "      <td valign=\"top\">\n",
        "        <ul>\n",
        "          <li>PL_NUMBER : Number of plan</li>\n",
        "          <br>\n",
        "          <li>PL_AREA: Number of plan concatenate to number of area-cell</li>\n",
        "          <br>          \n",
        "          <li>LANDUSE: Usage of land</li>\n",
        "          <br>\n",
        "          <li>MAIN_AREA: Area divided among the tentants above the determining entrance (square meter)<br>This is the dependent variable that need to be predicted!</li>\n",
        "          <br>\n",
        "          <li>SERVICE_AREA: Common area of all the tentants above the determining entrance (square meter)</li>\n",
        "          <br>\n",
        "          <li>CELL_SIZE_TOTAL: The size of area-cell</li>\n",
        "          <br>\n",
        "          <li>CELL_SIZE_MIN: The minimum size of area-cell</li>\n",
        "          <br>\n",
        "          <li>CELL_SIZE_MAX: The maximum size of area-cell</li>\n",
        "          <br>\n",
        "          <li>HOUSING_UNITS: Number of housing units</li>\n",
        "          <br>\n",
        "          <li>BUILDING_HEIGHT: Height of building (meter)</li>\n",
        "          <br>\n",
        "          <li>FLOORS_NUM: Number of floors</li>\n",
        "          <br>\n",
        "          <li>TOTAL_AREA: Sum of Main area and Service area</li>\n",
        "          <br>\n",
        "          <li>AUTHORITY: Authority of plan</li>\n",
        "          <br>\n",
        "          <li>DISTRICT: District of plan</li>\n",
        "          <br>\n",
        "          <li>SECTOR_GROUP: Sector of plan</li>\n",
        "          <br>\n",
        "          <li>CONFIRMATION_YEAR: Year of plan's confirmation</li>\n",
        "          <br>\n",
        "          <li>CONSTRUCTION_TYPE_GROUP: Type of construction</li>          \n",
        "        </ul>\n",
        "      </td>\n",
        "    </tr>\n",
        "    \n",
        "  </tbody>\n",
        "</table>"
      ],
      "metadata": {
        "id": "cDWHufahSZIJ"
      }
    },
    {
      "cell_type": "code",
      "source": [
        "cellsdata.shape"
      ],
      "metadata": {
        "colab": {
          "base_uri": "https://localhost:8080/"
        },
        "id": "_eEhtbV44F46",
        "outputId": "f283eabc-073f-4107-c237-30033459674a"
      },
      "execution_count": 3,
      "outputs": [
        {
          "output_type": "execute_result",
          "data": {
            "text/plain": [
              "(13709, 17)"
            ]
          },
          "metadata": {},
          "execution_count": 3
        }
      ]
    },
    {
      "cell_type": "code",
      "source": [
        "cellsdata.info()"
      ],
      "metadata": {
        "colab": {
          "base_uri": "https://localhost:8080/"
        },
        "id": "K3gjPDzb4yoy",
        "outputId": "5f81b575-ef52-4b6d-9d1a-863edd44986c"
      },
      "execution_count": 4,
      "outputs": [
        {
          "output_type": "stream",
          "name": "stdout",
          "text": [
            "<class 'pandas.core.frame.DataFrame'>\n",
            "RangeIndex: 13709 entries, 0 to 13708\n",
            "Data columns (total 17 columns):\n",
            " #   Column                   Non-Null Count  Dtype  \n",
            "---  ------                   --------------  -----  \n",
            " 0   PL_NUMBER                13709 non-null  object \n",
            " 1   PL_AREA                  13709 non-null  object \n",
            " 2   LANDUSE                  13709 non-null  object \n",
            " 3   MAIN_AREA                13709 non-null  float64\n",
            " 4   SERVICE_AREA             13709 non-null  float64\n",
            " 5   CELL_SIZE_TOTAL          13709 non-null  float64\n",
            " 6   CELL_SIZE_MIN            13709 non-null  float64\n",
            " 7   CELL_SIZE_MAX            13709 non-null  float64\n",
            " 8   HOUSING_UNITS            13709 non-null  float64\n",
            " 9   BUILDING_HEIGHT          13709 non-null  float64\n",
            " 10  FLOORS_NUM               13709 non-null  float64\n",
            " 11  TOTAL_AREA               13709 non-null  float64\n",
            " 12  AUTHORITY                13709 non-null  object \n",
            " 13  DISTRICT                 13709 non-null  object \n",
            " 14  SECTOR_GROUP             13709 non-null  object \n",
            " 15  CONFIRMATION_YEAR        13709 non-null  int64  \n",
            " 16  CONSTRUCTION_TYPE_GROUP  13704 non-null  object \n",
            "dtypes: float64(9), int64(1), object(7)\n",
            "memory usage: 1.8+ MB\n"
          ]
        }
      ]
    },
    {
      "cell_type": "markdown",
      "source": [
        "## Data Preprocessing"
      ],
      "metadata": {
        "id": "0P1kMNgmnqvp"
      }
    },
    {
      "cell_type": "markdown",
      "source": [
        "Because almost every plan consist of multiple area, and usually area's features of same plan are very similar, what might give extra influence for specific plan - I will take only the first area of every plan.  "
      ],
      "metadata": {
        "id": "6JIi8ZdCbmFN"
      }
    },
    {
      "cell_type": "code",
      "source": [
        "data = cellsdata.drop_duplicates(subset=\"PL_NUMBER\", keep=\"first\")\n",
        "data.shape"
      ],
      "metadata": {
        "colab": {
          "base_uri": "https://localhost:8080/"
        },
        "id": "UTJXt5xKbtjb",
        "outputId": "16253d43-f3ea-42ca-87eb-06a39f30fab2"
      },
      "execution_count": 5,
      "outputs": [
        {
          "output_type": "execute_result",
          "data": {
            "text/plain": [
              "(2582, 17)"
            ]
          },
          "metadata": {},
          "execution_count": 5
        }
      ]
    },
    {
      "cell_type": "code",
      "source": [
        "data.head(3)"
      ],
      "metadata": {
        "colab": {
          "base_uri": "https://localhost:8080/",
          "height": 294
        },
        "id": "NkyXW97Z4IrB",
        "outputId": "ebfc5bcf-0e57-457a-f755-fa5c209b3269"
      },
      "execution_count": 6,
      "outputs": [
        {
          "output_type": "execute_result",
          "data": {
            "text/html": [
              "\n",
              "  <div id=\"df-ab53219b-b6d4-480c-8786-c72ee4e25ab4\">\n",
              "    <div class=\"colab-df-container\">\n",
              "      <div>\n",
              "<style scoped>\n",
              "    .dataframe tbody tr th:only-of-type {\n",
              "        vertical-align: middle;\n",
              "    }\n",
              "\n",
              "    .dataframe tbody tr th {\n",
              "        vertical-align: top;\n",
              "    }\n",
              "\n",
              "    .dataframe thead th {\n",
              "        text-align: right;\n",
              "    }\n",
              "</style>\n",
              "<table border=\"1\" class=\"dataframe\">\n",
              "  <thead>\n",
              "    <tr style=\"text-align: right;\">\n",
              "      <th></th>\n",
              "      <th>PL_NUMBER</th>\n",
              "      <th>PL_AREA</th>\n",
              "      <th>LANDUSE</th>\n",
              "      <th>MAIN_AREA</th>\n",
              "      <th>SERVICE_AREA</th>\n",
              "      <th>CELL_SIZE_TOTAL</th>\n",
              "      <th>CELL_SIZE_MIN</th>\n",
              "      <th>CELL_SIZE_MAX</th>\n",
              "      <th>HOUSING_UNITS</th>\n",
              "      <th>BUILDING_HEIGHT</th>\n",
              "      <th>FLOORS_NUM</th>\n",
              "      <th>TOTAL_AREA</th>\n",
              "      <th>AUTHORITY</th>\n",
              "      <th>DISTRICT</th>\n",
              "      <th>SECTOR_GROUP</th>\n",
              "      <th>CONFIRMATION_YEAR</th>\n",
              "      <th>CONSTRUCTION_TYPE_GROUP</th>\n",
              "    </tr>\n",
              "  </thead>\n",
              "  <tbody>\n",
              "    <tr>\n",
              "      <th>0</th>\n",
              "      <td>610-0197038</td>\n",
              "      <td>610-0197038-102</td>\n",
              "      <td>מגורים</td>\n",
              "      <td>975.0</td>\n",
              "      <td>300.0</td>\n",
              "      <td>2466.0</td>\n",
              "      <td>0.0</td>\n",
              "      <td>0.0</td>\n",
              "      <td>16.0</td>\n",
              "      <td>11.0</td>\n",
              "      <td>2.0</td>\n",
              "      <td>1275.0</td>\n",
              "      <td>מחוזית</td>\n",
              "      <td>דרום</td>\n",
              "      <td>חברה כללית / מעורבת</td>\n",
              "      <td>2017</td>\n",
              "      <td>חדשה</td>\n",
              "    </tr>\n",
              "    <tr>\n",
              "      <th>2</th>\n",
              "      <td>151-0392894</td>\n",
              "      <td>151-0392894-210</td>\n",
              "      <td>מגורים</td>\n",
              "      <td>960.0</td>\n",
              "      <td>180.0</td>\n",
              "      <td>2820.0</td>\n",
              "      <td>0.0</td>\n",
              "      <td>0.0</td>\n",
              "      <td>6.0</td>\n",
              "      <td>17.0</td>\n",
              "      <td>4.0</td>\n",
              "      <td>1140.0</td>\n",
              "      <td>מחוזית</td>\n",
              "      <td>ירושלים</td>\n",
              "      <td>חברה כללית / מעורבת</td>\n",
              "      <td>2017</td>\n",
              "      <td>התחדשות</td>\n",
              "    </tr>\n",
              "    <tr>\n",
              "      <th>73</th>\n",
              "      <td>תמל/ 1049</td>\n",
              "      <td>תמל/ 1049-123</td>\n",
              "      <td>מגורים</td>\n",
              "      <td>152.0</td>\n",
              "      <td>48.0</td>\n",
              "      <td>420.0</td>\n",
              "      <td>0.0</td>\n",
              "      <td>0.0</td>\n",
              "      <td>1.0</td>\n",
              "      <td>0.0</td>\n",
              "      <td>2.0</td>\n",
              "      <td>200.0</td>\n",
              "      <td>ארצית</td>\n",
              "      <td>מרכז</td>\n",
              "      <td>חברה כללית / מעורבת</td>\n",
              "      <td>2019</td>\n",
              "      <td>חדשה</td>\n",
              "    </tr>\n",
              "  </tbody>\n",
              "</table>\n",
              "</div>\n",
              "      <button class=\"colab-df-convert\" onclick=\"convertToInteractive('df-ab53219b-b6d4-480c-8786-c72ee4e25ab4')\"\n",
              "              title=\"Convert this dataframe to an interactive table.\"\n",
              "              style=\"display:none;\">\n",
              "        \n",
              "  <svg xmlns=\"http://www.w3.org/2000/svg\" height=\"24px\"viewBox=\"0 0 24 24\"\n",
              "       width=\"24px\">\n",
              "    <path d=\"M0 0h24v24H0V0z\" fill=\"none\"/>\n",
              "    <path d=\"M18.56 5.44l.94 2.06.94-2.06 2.06-.94-2.06-.94-.94-2.06-.94 2.06-2.06.94zm-11 1L8.5 8.5l.94-2.06 2.06-.94-2.06-.94L8.5 2.5l-.94 2.06-2.06.94zm10 10l.94 2.06.94-2.06 2.06-.94-2.06-.94-.94-2.06-.94 2.06-2.06.94z\"/><path d=\"M17.41 7.96l-1.37-1.37c-.4-.4-.92-.59-1.43-.59-.52 0-1.04.2-1.43.59L10.3 9.45l-7.72 7.72c-.78.78-.78 2.05 0 2.83L4 21.41c.39.39.9.59 1.41.59.51 0 1.02-.2 1.41-.59l7.78-7.78 2.81-2.81c.8-.78.8-2.07 0-2.86zM5.41 20L4 18.59l7.72-7.72 1.47 1.35L5.41 20z\"/>\n",
              "  </svg>\n",
              "      </button>\n",
              "      \n",
              "  <style>\n",
              "    .colab-df-container {\n",
              "      display:flex;\n",
              "      flex-wrap:wrap;\n",
              "      gap: 12px;\n",
              "    }\n",
              "\n",
              "    .colab-df-convert {\n",
              "      background-color: #E8F0FE;\n",
              "      border: none;\n",
              "      border-radius: 50%;\n",
              "      cursor: pointer;\n",
              "      display: none;\n",
              "      fill: #1967D2;\n",
              "      height: 32px;\n",
              "      padding: 0 0 0 0;\n",
              "      width: 32px;\n",
              "    }\n",
              "\n",
              "    .colab-df-convert:hover {\n",
              "      background-color: #E2EBFA;\n",
              "      box-shadow: 0px 1px 2px rgba(60, 64, 67, 0.3), 0px 1px 3px 1px rgba(60, 64, 67, 0.15);\n",
              "      fill: #174EA6;\n",
              "    }\n",
              "\n",
              "    [theme=dark] .colab-df-convert {\n",
              "      background-color: #3B4455;\n",
              "      fill: #D2E3FC;\n",
              "    }\n",
              "\n",
              "    [theme=dark] .colab-df-convert:hover {\n",
              "      background-color: #434B5C;\n",
              "      box-shadow: 0px 1px 3px 1px rgba(0, 0, 0, 0.15);\n",
              "      filter: drop-shadow(0px 1px 2px rgba(0, 0, 0, 0.3));\n",
              "      fill: #FFFFFF;\n",
              "    }\n",
              "  </style>\n",
              "\n",
              "      <script>\n",
              "        const buttonEl =\n",
              "          document.querySelector('#df-ab53219b-b6d4-480c-8786-c72ee4e25ab4 button.colab-df-convert');\n",
              "        buttonEl.style.display =\n",
              "          google.colab.kernel.accessAllowed ? 'block' : 'none';\n",
              "\n",
              "        async function convertToInteractive(key) {\n",
              "          const element = document.querySelector('#df-ab53219b-b6d4-480c-8786-c72ee4e25ab4');\n",
              "          const dataTable =\n",
              "            await google.colab.kernel.invokeFunction('convertToInteractive',\n",
              "                                                     [key], {});\n",
              "          if (!dataTable) return;\n",
              "\n",
              "          const docLinkHtml = 'Like what you see? Visit the ' +\n",
              "            '<a target=\"_blank\" href=https://colab.research.google.com/notebooks/data_table.ipynb>data table notebook</a>'\n",
              "            + ' to learn more about interactive tables.';\n",
              "          element.innerHTML = '';\n",
              "          dataTable['output_type'] = 'display_data';\n",
              "          await google.colab.output.renderOutput(dataTable, element);\n",
              "          const docLink = document.createElement('div');\n",
              "          docLink.innerHTML = docLinkHtml;\n",
              "          element.appendChild(docLink);\n",
              "        }\n",
              "      </script>\n",
              "    </div>\n",
              "  </div>\n",
              "  "
            ],
            "text/plain": [
              "      PL_NUMBER          PL_AREA  ... CONFIRMATION_YEAR  CONSTRUCTION_TYPE_GROUP\n",
              "0   610-0197038  610-0197038-102  ...              2017                     חדשה\n",
              "2   151-0392894  151-0392894-210  ...              2017                  התחדשות\n",
              "73    תמל/ 1049    תמל/ 1049-123  ...              2019                     חדשה\n",
              "\n",
              "[3 rows x 17 columns]"
            ]
          },
          "metadata": {},
          "execution_count": 6
        }
      ]
    },
    {
      "cell_type": "code",
      "source": [
        "# from google.colab import files\n",
        "# data.to_csv('data.csv', encoding='utf-8-sig')\n",
        "# files.download(\"data.csv\")"
      ],
      "metadata": {
        "colab": {
          "base_uri": "https://localhost:8080/",
          "height": 17
        },
        "id": "6nyzUwEpMtKm",
        "outputId": "c7cec391-f27e-4302-9cdf-c21ab4a78228"
      },
      "execution_count": 7,
      "outputs": [
        {
          "output_type": "display_data",
          "data": {
            "application/javascript": [
              "\n",
              "    async function download(id, filename, size) {\n",
              "      if (!google.colab.kernel.accessAllowed) {\n",
              "        return;\n",
              "      }\n",
              "      const div = document.createElement('div');\n",
              "      const label = document.createElement('label');\n",
              "      label.textContent = `Downloading \"${filename}\": `;\n",
              "      div.appendChild(label);\n",
              "      const progress = document.createElement('progress');\n",
              "      progress.max = size;\n",
              "      div.appendChild(progress);\n",
              "      document.body.appendChild(div);\n",
              "\n",
              "      const buffers = [];\n",
              "      let downloaded = 0;\n",
              "\n",
              "      const channel = await google.colab.kernel.comms.open(id);\n",
              "      // Send a message to notify the kernel that we're ready.\n",
              "      channel.send({})\n",
              "\n",
              "      for await (const message of channel.messages) {\n",
              "        // Send a message to notify the kernel that we're ready.\n",
              "        channel.send({})\n",
              "        if (message.buffers) {\n",
              "          for (const buffer of message.buffers) {\n",
              "            buffers.push(buffer);\n",
              "            downloaded += buffer.byteLength;\n",
              "            progress.value = downloaded;\n",
              "          }\n",
              "        }\n",
              "      }\n",
              "      const blob = new Blob(buffers, {type: 'application/binary'});\n",
              "      const a = document.createElement('a');\n",
              "      a.href = window.URL.createObjectURL(blob);\n",
              "      a.download = filename;\n",
              "      div.appendChild(a);\n",
              "      a.click();\n",
              "      div.remove();\n",
              "    }\n",
              "  "
            ],
            "text/plain": [
              "<IPython.core.display.Javascript object>"
            ]
          },
          "metadata": {}
        },
        {
          "output_type": "display_data",
          "data": {
            "application/javascript": [
              "download(\"download_26b1c245-e00e-4177-a1e6-833cddf3faca\", \"data.csv\", 412069)"
            ],
            "text/plain": [
              "<IPython.core.display.Javascript object>"
            ]
          },
          "metadata": {}
        }
      ]
    },
    {
      "cell_type": "markdown",
      "source": [
        "The next steps intended for feature engineering."
      ],
      "metadata": {
        "id": "LJlJP1_4j51y"
      }
    },
    {
      "cell_type": "code",
      "source": [
        "data['PL_NUMBER'].str.contains('תמל').sum()"
      ],
      "metadata": {
        "id": "AdkVmcDY-JYg",
        "outputId": "cc81ba93-142c-42a2-e4e9-1f42ca0ebb00",
        "colab": {
          "base_uri": "https://localhost:8080/"
        }
      },
      "execution_count": 8,
      "outputs": [
        {
          "output_type": "execute_result",
          "data": {
            "text/plain": [
              "60"
            ]
          },
          "metadata": {},
          "execution_count": 8
        }
      ]
    },
    {
      "cell_type": "code",
      "source": [
        "data['IS_TAMAL'] = data['PL_NUMBER'].apply(lambda x: 1 if 'תמל' in x else 0)\n",
        "data['IS_TAMAL'].value_counts()"
      ],
      "metadata": {
        "id": "-3nG8IKs-Wzt",
        "outputId": "17a5beea-66c6-420a-c33f-33ff82f63fa6",
        "colab": {
          "base_uri": "https://localhost:8080/"
        }
      },
      "execution_count": 9,
      "outputs": [
        {
          "output_type": "execute_result",
          "data": {
            "text/plain": [
              "0    2522\n",
              "1      60\n",
              "Name: IS_TAMAL, dtype: int64"
            ]
          },
          "metadata": {},
          "execution_count": 9
        }
      ]
    },
    {
      "cell_type": "code",
      "source": [
        "data['LANDUSE'].value_counts()"
      ],
      "metadata": {
        "id": "xEvBQ5894ZiK",
        "colab": {
          "base_uri": "https://localhost:8080/"
        },
        "outputId": "de35fc22-4c47-40d6-c9f3-2913222adea1"
      },
      "execution_count": 10,
      "outputs": [
        {
          "output_type": "execute_result",
          "data": {
            "text/plain": [
              "מגורים                                2444\n",
              "מגורים ומסחר                            66\n",
              "מגורים מסחר ותעסוקה                     36\n",
              "מגורים מסחר ותיירות                      6\n",
              "מגורים ומבנים ומוסדות ציבור              6\n",
              "מגורים תעסוקה ותיירות                    5\n",
              "מגורים מסחר ומבנים ומוסדות ציבור         5\n",
              "מגורים ודיור מיוחד                       3\n",
              "תתתת מגורים ב                            2\n",
              "מגורים מסחר ותחבורה                      2\n",
              "מגורים ותיירות                           2\n",
              "מגורים ומשרדים                           2\n",
              "מגורים ותחבורה                           1\n",
              "מגורים תיירות ומבנים ומוסדות ציבור       1\n",
              "מגורים ואירוח כפרי                       1\n",
              "Name: LANDUSE, dtype: int64"
            ]
          },
          "metadata": {},
          "execution_count": 10
        }
      ]
    },
    {
      "cell_type": "code",
      "source": [
        "data['LANDUSE'] = data['LANDUSE'].mask(data['LANDUSE'] != 'מגורים', 'מגורים משולב')"
      ],
      "metadata": {
        "id": "AkzEvXcm9AZ4"
      },
      "execution_count": 11,
      "outputs": []
    },
    {
      "cell_type": "code",
      "source": [
        "data['LANDUSE'].value_counts()"
      ],
      "metadata": {
        "colab": {
          "base_uri": "https://localhost:8080/"
        },
        "id": "Zo7e6x6g9gHu",
        "outputId": "6fc9fb8f-af65-466a-e8cd-74871234ce86"
      },
      "execution_count": 12,
      "outputs": [
        {
          "output_type": "execute_result",
          "data": {
            "text/plain": [
              "מגורים          2444\n",
              "מגורים משולב     138\n",
              "Name: LANDUSE, dtype: int64"
            ]
          },
          "metadata": {},
          "execution_count": 12
        }
      ]
    },
    {
      "cell_type": "markdown",
      "source": [
        "The columns CELL_SIZE_TOTAL, CELL_SIZE_MIN and CELL_SIZE_MAX describe the cell size."
      ],
      "metadata": {
        "id": "DJf_h9v3h77a"
      }
    },
    {
      "cell_type": "code",
      "source": [
        "data[['CELL_SIZE_TOTAL', 'CELL_SIZE_MIN', 'CELL_SIZE_MAX']].describe()"
      ],
      "metadata": {
        "colab": {
          "base_uri": "https://localhost:8080/",
          "height": 300
        },
        "id": "DgOES3JFnv2n",
        "outputId": "2b3f05fd-351f-4ca0-deb1-611a574f5617"
      },
      "execution_count": 13,
      "outputs": [
        {
          "output_type": "execute_result",
          "data": {
            "text/html": [
              "\n",
              "  <div id=\"df-1d0e5193-ed1c-4f20-a8ef-35cd08f0975d\">\n",
              "    <div class=\"colab-df-container\">\n",
              "      <div>\n",
              "<style scoped>\n",
              "    .dataframe tbody tr th:only-of-type {\n",
              "        vertical-align: middle;\n",
              "    }\n",
              "\n",
              "    .dataframe tbody tr th {\n",
              "        vertical-align: top;\n",
              "    }\n",
              "\n",
              "    .dataframe thead th {\n",
              "        text-align: right;\n",
              "    }\n",
              "</style>\n",
              "<table border=\"1\" class=\"dataframe\">\n",
              "  <thead>\n",
              "    <tr style=\"text-align: right;\">\n",
              "      <th></th>\n",
              "      <th>CELL_SIZE_TOTAL</th>\n",
              "      <th>CELL_SIZE_MIN</th>\n",
              "      <th>CELL_SIZE_MAX</th>\n",
              "    </tr>\n",
              "  </thead>\n",
              "  <tbody>\n",
              "    <tr>\n",
              "      <th>count</th>\n",
              "      <td>2582.000000</td>\n",
              "      <td>2582.000000</td>\n",
              "      <td>2582.000000</td>\n",
              "    </tr>\n",
              "    <tr>\n",
              "      <th>mean</th>\n",
              "      <td>1090.196193</td>\n",
              "      <td>168.493582</td>\n",
              "      <td>8.830287</td>\n",
              "    </tr>\n",
              "    <tr>\n",
              "      <th>std</th>\n",
              "      <td>2387.854179</td>\n",
              "      <td>954.531702</td>\n",
              "      <td>149.623238</td>\n",
              "    </tr>\n",
              "    <tr>\n",
              "      <th>min</th>\n",
              "      <td>0.000000</td>\n",
              "      <td>0.000000</td>\n",
              "      <td>0.000000</td>\n",
              "    </tr>\n",
              "    <tr>\n",
              "      <th>25%</th>\n",
              "      <td>386.250000</td>\n",
              "      <td>0.000000</td>\n",
              "      <td>0.000000</td>\n",
              "    </tr>\n",
              "    <tr>\n",
              "      <th>50%</th>\n",
              "      <td>659.500000</td>\n",
              "      <td>0.000000</td>\n",
              "      <td>0.000000</td>\n",
              "    </tr>\n",
              "    <tr>\n",
              "      <th>75%</th>\n",
              "      <td>1020.750000</td>\n",
              "      <td>0.000000</td>\n",
              "      <td>0.000000</td>\n",
              "    </tr>\n",
              "    <tr>\n",
              "      <th>max</th>\n",
              "      <td>63924.000000</td>\n",
              "      <td>32000.000000</td>\n",
              "      <td>5690.000000</td>\n",
              "    </tr>\n",
              "  </tbody>\n",
              "</table>\n",
              "</div>\n",
              "      <button class=\"colab-df-convert\" onclick=\"convertToInteractive('df-1d0e5193-ed1c-4f20-a8ef-35cd08f0975d')\"\n",
              "              title=\"Convert this dataframe to an interactive table.\"\n",
              "              style=\"display:none;\">\n",
              "        \n",
              "  <svg xmlns=\"http://www.w3.org/2000/svg\" height=\"24px\"viewBox=\"0 0 24 24\"\n",
              "       width=\"24px\">\n",
              "    <path d=\"M0 0h24v24H0V0z\" fill=\"none\"/>\n",
              "    <path d=\"M18.56 5.44l.94 2.06.94-2.06 2.06-.94-2.06-.94-.94-2.06-.94 2.06-2.06.94zm-11 1L8.5 8.5l.94-2.06 2.06-.94-2.06-.94L8.5 2.5l-.94 2.06-2.06.94zm10 10l.94 2.06.94-2.06 2.06-.94-2.06-.94-.94-2.06-.94 2.06-2.06.94z\"/><path d=\"M17.41 7.96l-1.37-1.37c-.4-.4-.92-.59-1.43-.59-.52 0-1.04.2-1.43.59L10.3 9.45l-7.72 7.72c-.78.78-.78 2.05 0 2.83L4 21.41c.39.39.9.59 1.41.59.51 0 1.02-.2 1.41-.59l7.78-7.78 2.81-2.81c.8-.78.8-2.07 0-2.86zM5.41 20L4 18.59l7.72-7.72 1.47 1.35L5.41 20z\"/>\n",
              "  </svg>\n",
              "      </button>\n",
              "      \n",
              "  <style>\n",
              "    .colab-df-container {\n",
              "      display:flex;\n",
              "      flex-wrap:wrap;\n",
              "      gap: 12px;\n",
              "    }\n",
              "\n",
              "    .colab-df-convert {\n",
              "      background-color: #E8F0FE;\n",
              "      border: none;\n",
              "      border-radius: 50%;\n",
              "      cursor: pointer;\n",
              "      display: none;\n",
              "      fill: #1967D2;\n",
              "      height: 32px;\n",
              "      padding: 0 0 0 0;\n",
              "      width: 32px;\n",
              "    }\n",
              "\n",
              "    .colab-df-convert:hover {\n",
              "      background-color: #E2EBFA;\n",
              "      box-shadow: 0px 1px 2px rgba(60, 64, 67, 0.3), 0px 1px 3px 1px rgba(60, 64, 67, 0.15);\n",
              "      fill: #174EA6;\n",
              "    }\n",
              "\n",
              "    [theme=dark] .colab-df-convert {\n",
              "      background-color: #3B4455;\n",
              "      fill: #D2E3FC;\n",
              "    }\n",
              "\n",
              "    [theme=dark] .colab-df-convert:hover {\n",
              "      background-color: #434B5C;\n",
              "      box-shadow: 0px 1px 3px 1px rgba(0, 0, 0, 0.15);\n",
              "      filter: drop-shadow(0px 1px 2px rgba(0, 0, 0, 0.3));\n",
              "      fill: #FFFFFF;\n",
              "    }\n",
              "  </style>\n",
              "\n",
              "      <script>\n",
              "        const buttonEl =\n",
              "          document.querySelector('#df-1d0e5193-ed1c-4f20-a8ef-35cd08f0975d button.colab-df-convert');\n",
              "        buttonEl.style.display =\n",
              "          google.colab.kernel.accessAllowed ? 'block' : 'none';\n",
              "\n",
              "        async function convertToInteractive(key) {\n",
              "          const element = document.querySelector('#df-1d0e5193-ed1c-4f20-a8ef-35cd08f0975d');\n",
              "          const dataTable =\n",
              "            await google.colab.kernel.invokeFunction('convertToInteractive',\n",
              "                                                     [key], {});\n",
              "          if (!dataTable) return;\n",
              "\n",
              "          const docLinkHtml = 'Like what you see? Visit the ' +\n",
              "            '<a target=\"_blank\" href=https://colab.research.google.com/notebooks/data_table.ipynb>data table notebook</a>'\n",
              "            + ' to learn more about interactive tables.';\n",
              "          element.innerHTML = '';\n",
              "          dataTable['output_type'] = 'display_data';\n",
              "          await google.colab.output.renderOutput(dataTable, element);\n",
              "          const docLink = document.createElement('div');\n",
              "          docLink.innerHTML = docLinkHtml;\n",
              "          element.appendChild(docLink);\n",
              "        }\n",
              "      </script>\n",
              "    </div>\n",
              "  </div>\n",
              "  "
            ],
            "text/plain": [
              "       CELL_SIZE_TOTAL  CELL_SIZE_MIN  CELL_SIZE_MAX\n",
              "count      2582.000000    2582.000000    2582.000000\n",
              "mean       1090.196193     168.493582       8.830287\n",
              "std        2387.854179     954.531702     149.623238\n",
              "min           0.000000       0.000000       0.000000\n",
              "25%         386.250000       0.000000       0.000000\n",
              "50%         659.500000       0.000000       0.000000\n",
              "75%        1020.750000       0.000000       0.000000\n",
              "max       63924.000000   32000.000000    5690.000000"
            ]
          },
          "metadata": {},
          "execution_count": 13
        }
      ]
    },
    {
      "cell_type": "markdown",
      "source": [
        "HOUSING_UNITS shold not be zero."
      ],
      "metadata": {
        "id": "1GdYTQhC2fHM"
      }
    },
    {
      "cell_type": "code",
      "source": [
        "data['HOUSING_UNITS'].value_counts().sort_index().head()"
      ],
      "metadata": {
        "colab": {
          "base_uri": "https://localhost:8080/"
        },
        "id": "eQ3ymaTt11t0",
        "outputId": "1bbfea5b-b4ea-473e-aa6d-5b62de2c8a1f"
      },
      "execution_count": 14,
      "outputs": [
        {
          "output_type": "execute_result",
          "data": {
            "text/plain": [
              "0.0     79\n",
              "1.0    353\n",
              "2.0    225\n",
              "3.0    162\n",
              "4.0    393\n",
              "Name: HOUSING_UNITS, dtype: int64"
            ]
          },
          "metadata": {},
          "execution_count": 14
        }
      ]
    },
    {
      "cell_type": "code",
      "source": [
        "data['HOUSING_UNITS'] = data['HOUSING_UNITS'].mask(data['HOUSING_UNITS'] == 0, data['FLOORS_NUM']*2)"
      ],
      "metadata": {
        "id": "s7Zf_lba1h-f"
      },
      "execution_count": 15,
      "outputs": []
    },
    {
      "cell_type": "code",
      "source": [
        "data['HOUSING_UNITS'].value_counts().sort_index().head()"
      ],
      "metadata": {
        "colab": {
          "base_uri": "https://localhost:8080/"
        },
        "id": "L-eTXlFd2Zzb",
        "outputId": "97e85933-50db-4cb7-8688-964749559a00"
      },
      "execution_count": 16,
      "outputs": [
        {
          "output_type": "execute_result",
          "data": {
            "text/plain": [
              "0.0      2\n",
              "1.0    353\n",
              "2.0    227\n",
              "3.0    162\n",
              "4.0    406\n",
              "Name: HOUSING_UNITS, dtype: int64"
            ]
          },
          "metadata": {},
          "execution_count": 16
        }
      ]
    },
    {
      "cell_type": "code",
      "source": [
        "data = data[data['HOUSING_UNITS'] > 0]\n",
        "data.shape "
      ],
      "metadata": {
        "colab": {
          "base_uri": "https://localhost:8080/"
        },
        "id": "SYgognPW2uIS",
        "outputId": "e333eda9-9722-4c1e-e12e-79ae3672796d"
      },
      "execution_count": 17,
      "outputs": [
        {
          "output_type": "execute_result",
          "data": {
            "text/plain": [
              "(2580, 18)"
            ]
          },
          "metadata": {},
          "execution_count": 17
        }
      ]
    },
    {
      "cell_type": "code",
      "source": [
        "data['BUILDING_HEIGHT'].value_counts()[:11].head()"
      ],
      "metadata": {
        "colab": {
          "base_uri": "https://localhost:8080/"
        },
        "id": "U24kWYKa3EXa",
        "outputId": "03682360-7d2c-4e58-f3ba-9b449f30f676"
      },
      "execution_count": 18,
      "outputs": [
        {
          "output_type": "execute_result",
          "data": {
            "text/plain": [
              "0.0     249\n",
              "12.0    246\n",
              "8.5     178\n",
              "15.0    162\n",
              "9.0     125\n",
              "Name: BUILDING_HEIGHT, dtype: int64"
            ]
          },
          "metadata": {},
          "execution_count": 18
        }
      ]
    },
    {
      "cell_type": "markdown",
      "source": [
        "A lot of missing data, BUILDING_HEIGHT should not be zero.<br>\n",
        "I will replace it with the mean of BUILDING_HEIGHT with correct values (greather than 0)."
      ],
      "metadata": {
        "id": "8a30Gn_L3NJJ"
      }
    },
    {
      "cell_type": "code",
      "source": [
        "building_height_avg = round(data[data['BUILDING_HEIGHT'] > 0]['BUILDING_HEIGHT'].mean())\n",
        "building_height_avg"
      ],
      "metadata": {
        "colab": {
          "base_uri": "https://localhost:8080/"
        },
        "id": "NNaUKZeB4CcP",
        "outputId": "a92252dc-0954-4cd0-a409-bee0783c8646"
      },
      "execution_count": 19,
      "outputs": [
        {
          "output_type": "execute_result",
          "data": {
            "text/plain": [
              "16"
            ]
          },
          "metadata": {},
          "execution_count": 19
        }
      ]
    },
    {
      "cell_type": "code",
      "source": [
        "data['BUILDING_HEIGHT'] = data['BUILDING_HEIGHT'].mask(data['BUILDING_HEIGHT']==0, building_height_avg)\n",
        "data['BUILDING_HEIGHT'].value_counts().head()"
      ],
      "metadata": {
        "id": "PEH_AfoM4lX_",
        "colab": {
          "base_uri": "https://localhost:8080/"
        },
        "outputId": "5442edfd-d86d-4817-8b6a-c99160dbeff7"
      },
      "execution_count": 20,
      "outputs": [
        {
          "output_type": "execute_result",
          "data": {
            "text/plain": [
              "16.0    293\n",
              "12.0    246\n",
              "8.5     178\n",
              "15.0    162\n",
              "9.0     125\n",
              "Name: BUILDING_HEIGHT, dtype: int64"
            ]
          },
          "metadata": {},
          "execution_count": 20
        }
      ]
    },
    {
      "cell_type": "code",
      "source": [
        "data['SECTOR_GROUP'].value_counts()"
      ],
      "metadata": {
        "colab": {
          "base_uri": "https://localhost:8080/"
        },
        "id": "DR9DccM06qHU",
        "outputId": "529f5bcc-4b8c-4acf-eada-88b0a07d520c"
      },
      "execution_count": 21,
      "outputs": [
        {
          "output_type": "execute_result",
          "data": {
            "text/plain": [
              "חברה ערבית             1272\n",
              "חברה כללית / מעורבת    1042\n",
              "חברה חרדית              207\n",
              "(חסר)                    59\n",
              "Name: SECTOR_GROUP, dtype: int64"
            ]
          },
          "metadata": {},
          "execution_count": 21
        }
      ]
    },
    {
      "cell_type": "code",
      "source": [
        "data['SECTOR_GROUP'] = data['SECTOR_GROUP'].mask(data['SECTOR_GROUP'] == '(חסר)', 'חברה כללית / מעורבת')\n",
        "data['SECTOR_GROUP'].value_counts()"
      ],
      "metadata": {
        "colab": {
          "base_uri": "https://localhost:8080/"
        },
        "id": "9KPOl-Ys7Fz6",
        "outputId": "7a16e4b6-bfc2-4292-ff41-85866cfa6f95"
      },
      "execution_count": 22,
      "outputs": [
        {
          "output_type": "execute_result",
          "data": {
            "text/plain": [
              "חברה ערבית             1272\n",
              "חברה כללית / מעורבת    1101\n",
              "חברה חרדית              207\n",
              "Name: SECTOR_GROUP, dtype: int64"
            ]
          },
          "metadata": {},
          "execution_count": 22
        }
      ]
    },
    {
      "cell_type": "markdown",
      "source": [
        "Let's [handle null values](https://stackoverflow.com/questions/57135918/remove-non-zero-fields-from-df-isnull-sum/57135996):"
      ],
      "metadata": {
        "id": "_IZOF0I9qmYE"
      }
    },
    {
      "cell_type": "code",
      "source": [
        "nullseries = data.isnull().sum()\n",
        "nullseries[nullseries > 0]"
      ],
      "metadata": {
        "colab": {
          "base_uri": "https://localhost:8080/"
        },
        "id": "3h4W2P3hqp-T",
        "outputId": "ea25893d-7bd7-4426-e74c-f1303bed32b9"
      },
      "execution_count": 23,
      "outputs": [
        {
          "output_type": "execute_result",
          "data": {
            "text/plain": [
              "CONSTRUCTION_TYPE_GROUP    4\n",
              "dtype: int64"
            ]
          },
          "metadata": {},
          "execution_count": 23
        }
      ]
    },
    {
      "cell_type": "code",
      "source": [
        "data['CONSTRUCTION_TYPE_GROUP'].value_counts(dropna=False)"
      ],
      "metadata": {
        "colab": {
          "base_uri": "https://localhost:8080/"
        },
        "id": "tOaDxX9Hrsbo",
        "outputId": "acd692bb-d3c2-4080-dfdf-5f57d67ed581"
      },
      "execution_count": 24,
      "outputs": [
        {
          "output_type": "execute_result",
          "data": {
            "text/plain": [
              "חדשה       1525\n",
              "התחדשות     921\n",
              "הסדרה       130\n",
              "NaN           4\n",
              "Name: CONSTRUCTION_TYPE_GROUP, dtype: int64"
            ]
          },
          "metadata": {},
          "execution_count": 24
        }
      ]
    },
    {
      "cell_type": "markdown",
      "source": [
        "[Fill null with most frequent value.](https://stackoverflow.com/questions/32617811/imputation-of-missing-values-for-categories-in-pandas) "
      ],
      "metadata": {
        "id": "uRPV7Wnb-hfq"
      }
    },
    {
      "cell_type": "code",
      "source": [
        "data['CONSTRUCTION_TYPE_GROUP'] = data['CONSTRUCTION_TYPE_GROUP'].fillna(data['CONSTRUCTION_TYPE_GROUP'].mode().iloc[0])\n",
        "data['CONSTRUCTION_TYPE_GROUP'].value_counts(dropna=False)"
      ],
      "metadata": {
        "colab": {
          "base_uri": "https://localhost:8080/"
        },
        "id": "rNJ8yHqor9D3",
        "outputId": "3b4d86fe-700e-4351-cfb7-ee5a34016f19"
      },
      "execution_count": 25,
      "outputs": [
        {
          "output_type": "execute_result",
          "data": {
            "text/plain": [
              "חדשה       1529\n",
              "התחדשות     921\n",
              "הסדרה       130\n",
              "Name: CONSTRUCTION_TYPE_GROUP, dtype: int64"
            ]
          },
          "metadata": {},
          "execution_count": 25
        }
      ]
    },
    {
      "cell_type": "code",
      "source": [
        "data = data.drop(['PL_NUMBER', 'PL_AREA', 'SERVICE_AREA'], axis=1)"
      ],
      "metadata": {
        "id": "M06mV6re8jkH"
      },
      "execution_count": 26,
      "outputs": []
    },
    {
      "cell_type": "markdown",
      "source": [
        "Now let's get dummies of the categorical columns so we will be able to bulid a model."
      ],
      "metadata": {
        "id": "o2QKX3017lRZ"
      }
    },
    {
      "cell_type": "code",
      "source": [
        "dummies_data = pd.get_dummies(data)\n",
        "print(dummies_data.shape)\n",
        "dummies_data.columns = ['MAIN_AREA', 'CELL_SIZE_TOTAL', 'CELL_SIZE_MIN', 'CELL_SIZE_MAX', 'HOUSING_UNITS', 'BUILDING_HEIGHT', 'FLOORS_NUM', 'TOTAL_AREA',\n",
        "                        'CONFIRMATION_YEAR', 'IS_TAMAL', 'LANDUSE_RESIDENCE', 'LANDUSE_RESIDENCE_MIXED', 'AUTHORITY_COUNTRY', 'AUTHORITY_DISTRICT',\n",
        "                        'DISTRICT_SOUTH', 'DISTRICT_HAIFA', 'DISTRICT_JERUSALEM', 'DISTRICT_DAN', 'DISTRICT_NORTH', 'DISTRICT_TEL_AVIV', 'SECTOR_REL',\n",
        "                        'SECTOR_MIXED', 'SECTOR_ARAB', 'CONSTRUCTION_TYPE_ARRANGING', 'CONSTRUCTION_TYPE_REGENERATION', 'CONSTRUCTION_TYPE_NEW']\n",
        "dummies_data.head()"
      ],
      "metadata": {
        "colab": {
          "base_uri": "https://localhost:8080/",
          "height": 288
        },
        "id": "1rMH_5-a7x3H",
        "outputId": "a8321c33-fe0f-4f29-fde4-d640f05c91f5"
      },
      "execution_count": 27,
      "outputs": [
        {
          "output_type": "stream",
          "name": "stdout",
          "text": [
            "(2580, 26)\n"
          ]
        },
        {
          "output_type": "execute_result",
          "data": {
            "text/html": [
              "\n",
              "  <div id=\"df-69642365-f03a-44e5-a52d-62823aae37ea\">\n",
              "    <div class=\"colab-df-container\">\n",
              "      <div>\n",
              "<style scoped>\n",
              "    .dataframe tbody tr th:only-of-type {\n",
              "        vertical-align: middle;\n",
              "    }\n",
              "\n",
              "    .dataframe tbody tr th {\n",
              "        vertical-align: top;\n",
              "    }\n",
              "\n",
              "    .dataframe thead th {\n",
              "        text-align: right;\n",
              "    }\n",
              "</style>\n",
              "<table border=\"1\" class=\"dataframe\">\n",
              "  <thead>\n",
              "    <tr style=\"text-align: right;\">\n",
              "      <th></th>\n",
              "      <th>MAIN_AREA</th>\n",
              "      <th>CELL_SIZE_TOTAL</th>\n",
              "      <th>CELL_SIZE_MIN</th>\n",
              "      <th>CELL_SIZE_MAX</th>\n",
              "      <th>HOUSING_UNITS</th>\n",
              "      <th>BUILDING_HEIGHT</th>\n",
              "      <th>FLOORS_NUM</th>\n",
              "      <th>TOTAL_AREA</th>\n",
              "      <th>CONFIRMATION_YEAR</th>\n",
              "      <th>IS_TAMAL</th>\n",
              "      <th>LANDUSE_RESIDENCE</th>\n",
              "      <th>LANDUSE_RESIDENCE_MIXED</th>\n",
              "      <th>AUTHORITY_COUNTRY</th>\n",
              "      <th>AUTHORITY_DISTRICT</th>\n",
              "      <th>DISTRICT_SOUTH</th>\n",
              "      <th>DISTRICT_HAIFA</th>\n",
              "      <th>DISTRICT_JERUSALEM</th>\n",
              "      <th>DISTRICT_DAN</th>\n",
              "      <th>DISTRICT_NORTH</th>\n",
              "      <th>DISTRICT_TEL_AVIV</th>\n",
              "      <th>SECTOR_REL</th>\n",
              "      <th>SECTOR_MIXED</th>\n",
              "      <th>SECTOR_ARAB</th>\n",
              "      <th>CONSTRUCTION_TYPE_ARRANGING</th>\n",
              "      <th>CONSTRUCTION_TYPE_REGENERATION</th>\n",
              "      <th>CONSTRUCTION_TYPE_NEW</th>\n",
              "    </tr>\n",
              "  </thead>\n",
              "  <tbody>\n",
              "    <tr>\n",
              "      <th>0</th>\n",
              "      <td>975.0</td>\n",
              "      <td>2466.0</td>\n",
              "      <td>0.0</td>\n",
              "      <td>0.0</td>\n",
              "      <td>16.0</td>\n",
              "      <td>11.0</td>\n",
              "      <td>2.0</td>\n",
              "      <td>1275.0</td>\n",
              "      <td>2017</td>\n",
              "      <td>0</td>\n",
              "      <td>1</td>\n",
              "      <td>0</td>\n",
              "      <td>0</td>\n",
              "      <td>1</td>\n",
              "      <td>1</td>\n",
              "      <td>0</td>\n",
              "      <td>0</td>\n",
              "      <td>0</td>\n",
              "      <td>0</td>\n",
              "      <td>0</td>\n",
              "      <td>0</td>\n",
              "      <td>1</td>\n",
              "      <td>0</td>\n",
              "      <td>0</td>\n",
              "      <td>0</td>\n",
              "      <td>1</td>\n",
              "    </tr>\n",
              "    <tr>\n",
              "      <th>2</th>\n",
              "      <td>960.0</td>\n",
              "      <td>2820.0</td>\n",
              "      <td>0.0</td>\n",
              "      <td>0.0</td>\n",
              "      <td>6.0</td>\n",
              "      <td>17.0</td>\n",
              "      <td>4.0</td>\n",
              "      <td>1140.0</td>\n",
              "      <td>2017</td>\n",
              "      <td>0</td>\n",
              "      <td>1</td>\n",
              "      <td>0</td>\n",
              "      <td>0</td>\n",
              "      <td>1</td>\n",
              "      <td>0</td>\n",
              "      <td>0</td>\n",
              "      <td>1</td>\n",
              "      <td>0</td>\n",
              "      <td>0</td>\n",
              "      <td>0</td>\n",
              "      <td>0</td>\n",
              "      <td>1</td>\n",
              "      <td>0</td>\n",
              "      <td>0</td>\n",
              "      <td>1</td>\n",
              "      <td>0</td>\n",
              "    </tr>\n",
              "    <tr>\n",
              "      <th>73</th>\n",
              "      <td>152.0</td>\n",
              "      <td>420.0</td>\n",
              "      <td>0.0</td>\n",
              "      <td>0.0</td>\n",
              "      <td>1.0</td>\n",
              "      <td>16.0</td>\n",
              "      <td>2.0</td>\n",
              "      <td>200.0</td>\n",
              "      <td>2019</td>\n",
              "      <td>1</td>\n",
              "      <td>1</td>\n",
              "      <td>0</td>\n",
              "      <td>1</td>\n",
              "      <td>0</td>\n",
              "      <td>0</td>\n",
              "      <td>0</td>\n",
              "      <td>0</td>\n",
              "      <td>1</td>\n",
              "      <td>0</td>\n",
              "      <td>0</td>\n",
              "      <td>0</td>\n",
              "      <td>1</td>\n",
              "      <td>0</td>\n",
              "      <td>0</td>\n",
              "      <td>0</td>\n",
              "      <td>1</td>\n",
              "    </tr>\n",
              "    <tr>\n",
              "      <th>297</th>\n",
              "      <td>2090.0</td>\n",
              "      <td>1496.0</td>\n",
              "      <td>0.0</td>\n",
              "      <td>0.0</td>\n",
              "      <td>19.0</td>\n",
              "      <td>25.5</td>\n",
              "      <td>6.0</td>\n",
              "      <td>3135.0</td>\n",
              "      <td>2017</td>\n",
              "      <td>0</td>\n",
              "      <td>1</td>\n",
              "      <td>0</td>\n",
              "      <td>0</td>\n",
              "      <td>1</td>\n",
              "      <td>0</td>\n",
              "      <td>0</td>\n",
              "      <td>0</td>\n",
              "      <td>0</td>\n",
              "      <td>0</td>\n",
              "      <td>1</td>\n",
              "      <td>0</td>\n",
              "      <td>1</td>\n",
              "      <td>0</td>\n",
              "      <td>0</td>\n",
              "      <td>0</td>\n",
              "      <td>1</td>\n",
              "    </tr>\n",
              "    <tr>\n",
              "      <th>322</th>\n",
              "      <td>675.0</td>\n",
              "      <td>563.0</td>\n",
              "      <td>0.0</td>\n",
              "      <td>0.0</td>\n",
              "      <td>4.0</td>\n",
              "      <td>21.0</td>\n",
              "      <td>4.0</td>\n",
              "      <td>900.0</td>\n",
              "      <td>2018</td>\n",
              "      <td>1</td>\n",
              "      <td>1</td>\n",
              "      <td>0</td>\n",
              "      <td>1</td>\n",
              "      <td>0</td>\n",
              "      <td>0</td>\n",
              "      <td>0</td>\n",
              "      <td>0</td>\n",
              "      <td>0</td>\n",
              "      <td>1</td>\n",
              "      <td>0</td>\n",
              "      <td>0</td>\n",
              "      <td>0</td>\n",
              "      <td>1</td>\n",
              "      <td>0</td>\n",
              "      <td>0</td>\n",
              "      <td>1</td>\n",
              "    </tr>\n",
              "  </tbody>\n",
              "</table>\n",
              "</div>\n",
              "      <button class=\"colab-df-convert\" onclick=\"convertToInteractive('df-69642365-f03a-44e5-a52d-62823aae37ea')\"\n",
              "              title=\"Convert this dataframe to an interactive table.\"\n",
              "              style=\"display:none;\">\n",
              "        \n",
              "  <svg xmlns=\"http://www.w3.org/2000/svg\" height=\"24px\"viewBox=\"0 0 24 24\"\n",
              "       width=\"24px\">\n",
              "    <path d=\"M0 0h24v24H0V0z\" fill=\"none\"/>\n",
              "    <path d=\"M18.56 5.44l.94 2.06.94-2.06 2.06-.94-2.06-.94-.94-2.06-.94 2.06-2.06.94zm-11 1L8.5 8.5l.94-2.06 2.06-.94-2.06-.94L8.5 2.5l-.94 2.06-2.06.94zm10 10l.94 2.06.94-2.06 2.06-.94-2.06-.94-.94-2.06-.94 2.06-2.06.94z\"/><path d=\"M17.41 7.96l-1.37-1.37c-.4-.4-.92-.59-1.43-.59-.52 0-1.04.2-1.43.59L10.3 9.45l-7.72 7.72c-.78.78-.78 2.05 0 2.83L4 21.41c.39.39.9.59 1.41.59.51 0 1.02-.2 1.41-.59l7.78-7.78 2.81-2.81c.8-.78.8-2.07 0-2.86zM5.41 20L4 18.59l7.72-7.72 1.47 1.35L5.41 20z\"/>\n",
              "  </svg>\n",
              "      </button>\n",
              "      \n",
              "  <style>\n",
              "    .colab-df-container {\n",
              "      display:flex;\n",
              "      flex-wrap:wrap;\n",
              "      gap: 12px;\n",
              "    }\n",
              "\n",
              "    .colab-df-convert {\n",
              "      background-color: #E8F0FE;\n",
              "      border: none;\n",
              "      border-radius: 50%;\n",
              "      cursor: pointer;\n",
              "      display: none;\n",
              "      fill: #1967D2;\n",
              "      height: 32px;\n",
              "      padding: 0 0 0 0;\n",
              "      width: 32px;\n",
              "    }\n",
              "\n",
              "    .colab-df-convert:hover {\n",
              "      background-color: #E2EBFA;\n",
              "      box-shadow: 0px 1px 2px rgba(60, 64, 67, 0.3), 0px 1px 3px 1px rgba(60, 64, 67, 0.15);\n",
              "      fill: #174EA6;\n",
              "    }\n",
              "\n",
              "    [theme=dark] .colab-df-convert {\n",
              "      background-color: #3B4455;\n",
              "      fill: #D2E3FC;\n",
              "    }\n",
              "\n",
              "    [theme=dark] .colab-df-convert:hover {\n",
              "      background-color: #434B5C;\n",
              "      box-shadow: 0px 1px 3px 1px rgba(0, 0, 0, 0.15);\n",
              "      filter: drop-shadow(0px 1px 2px rgba(0, 0, 0, 0.3));\n",
              "      fill: #FFFFFF;\n",
              "    }\n",
              "  </style>\n",
              "\n",
              "      <script>\n",
              "        const buttonEl =\n",
              "          document.querySelector('#df-69642365-f03a-44e5-a52d-62823aae37ea button.colab-df-convert');\n",
              "        buttonEl.style.display =\n",
              "          google.colab.kernel.accessAllowed ? 'block' : 'none';\n",
              "\n",
              "        async function convertToInteractive(key) {\n",
              "          const element = document.querySelector('#df-69642365-f03a-44e5-a52d-62823aae37ea');\n",
              "          const dataTable =\n",
              "            await google.colab.kernel.invokeFunction('convertToInteractive',\n",
              "                                                     [key], {});\n",
              "          if (!dataTable) return;\n",
              "\n",
              "          const docLinkHtml = 'Like what you see? Visit the ' +\n",
              "            '<a target=\"_blank\" href=https://colab.research.google.com/notebooks/data_table.ipynb>data table notebook</a>'\n",
              "            + ' to learn more about interactive tables.';\n",
              "          element.innerHTML = '';\n",
              "          dataTable['output_type'] = 'display_data';\n",
              "          await google.colab.output.renderOutput(dataTable, element);\n",
              "          const docLink = document.createElement('div');\n",
              "          docLink.innerHTML = docLinkHtml;\n",
              "          element.appendChild(docLink);\n",
              "        }\n",
              "      </script>\n",
              "    </div>\n",
              "  </div>\n",
              "  "
            ],
            "text/plain": [
              "     MAIN_AREA  ...  CONSTRUCTION_TYPE_NEW\n",
              "0        975.0  ...                      1\n",
              "2        960.0  ...                      0\n",
              "73       152.0  ...                      1\n",
              "297     2090.0  ...                      1\n",
              "322      675.0  ...                      1\n",
              "\n",
              "[5 rows x 26 columns]"
            ]
          },
          "metadata": {},
          "execution_count": 27
        }
      ]
    },
    {
      "cell_type": "markdown",
      "source": [
        "Finally, the data is ready for Machine Learning.<BR>\n",
        "Let's check correlations:"
      ],
      "metadata": {
        "id": "1Bs6fW69kJkR"
      }
    },
    {
      "cell_type": "code",
      "source": [
        "corr = abs(dummies_data.corr())\n",
        "corr.loc['MAIN_AREA'].sort_values(ascending=False).head(10)"
      ],
      "metadata": {
        "colab": {
          "base_uri": "https://localhost:8080/"
        },
        "id": "xkxXs7A8B7m-",
        "outputId": "70244747-629f-4169-add8-54229c275aa5"
      },
      "execution_count": 28,
      "outputs": [
        {
          "output_type": "execute_result",
          "data": {
            "text/plain": [
              "MAIN_AREA             1.000000\n",
              "TOTAL_AREA            0.996335\n",
              "HOUSING_UNITS         0.834821\n",
              "FLOORS_NUM            0.658868\n",
              "CELL_SIZE_TOTAL       0.609265\n",
              "BUILDING_HEIGHT       0.587021\n",
              "DISTRICT_TEL_AVIV     0.279853\n",
              "IS_TAMAL              0.185409\n",
              "AUTHORITY_COUNTRY     0.185409\n",
              "AUTHORITY_DISTRICT    0.185409\n",
              "Name: MAIN_AREA, dtype: float64"
            ]
          },
          "metadata": {},
          "execution_count": 28
        }
      ]
    },
    {
      "cell_type": "code",
      "source": [
        "%matplotlib inline\n",
        "import seaborn as sns; sns.set()\n",
        "sns.pairplot(dummies_data[['TOTAL_AREA', 'HOUSING_UNITS', 'FLOORS_NUM', 'MAIN_AREA']], height=1.5);"
      ],
      "metadata": {
        "id": "bnR_fFAipkZJ",
        "outputId": "18acb87b-161b-4838-bfff-8dd57e07575a",
        "colab": {
          "base_uri": "https://localhost:8080/",
          "height": 442
        }
      },
      "execution_count": 137,
      "outputs": [
        {
          "output_type": "display_data",
          "data": {
            "image/png": "[encoded data removed]",
            "text/plain": [
              "<Figure size 432x432 with 20 Axes>"
            ]
          },
          "metadata": {}
        }
      ]
    },
    {
      "cell_type": "code",
      "source": [
        "dummies_data.plot.scatter(x = 'TOTAL_AREA', y = 'MAIN_AREA', s = 100)"
      ],
      "metadata": {
        "colab": {
          "base_uri": "https://localhost:8080/",
          "height": 297
        },
        "id": "iODuZhRtN07N",
        "outputId": "eecb5951-767a-4041-b95c-c57acab1169d"
      },
      "execution_count": 30,
      "outputs": [
        {
          "output_type": "execute_result",
          "data": {
            "text/plain": [
              "<matplotlib.axes._subplots.AxesSubplot at 0x7ff3c3706590>"
            ]
          },
          "metadata": {},
          "execution_count": 30
        },
        {
          "output_type": "display_data",
          "data": {
            "image/png": "[encoded data removed]",
            "text/plain": [
              "<Figure size 432x288 with 1 Axes>"
            ]
          },
          "metadata": {
            "needs_background": "light"
          }
        }
      ]
    },
    {
      "cell_type": "markdown",
      "source": [
        "Removing outliers:"
      ],
      "metadata": {
        "id": "SQ3_45GpfiDX"
      }
    },
    {
      "cell_type": "code",
      "source": [
        "dummies_data = dummies_data[dummies_data['TOTAL_AREA'] < 40000]\n",
        "dummies_data.plot.scatter(x = 'TOTAL_AREA', y = 'MAIN_AREA', s = 100)"
      ],
      "metadata": {
        "colab": {
          "base_uri": "https://localhost:8080/",
          "height": 298
        },
        "id": "qhvqz1N_QH0d",
        "outputId": "eda975af-10f2-4da5-a69b-a3a9c35d90d1"
      },
      "execution_count": 31,
      "outputs": [
        {
          "output_type": "execute_result",
          "data": {
            "text/plain": [
              "<matplotlib.axes._subplots.AxesSubplot at 0x7ff3ba552e50>"
            ]
          },
          "metadata": {},
          "execution_count": 31
        },
        {
          "output_type": "display_data",
          "data": {
            "image/png": "[encoded data removed]",
            "text/plain": [
              "<Figure size 432x288 with 1 Axes>"
            ]
          },
          "metadata": {
            "needs_background": "light"
          }
        }
      ]
    },
    {
      "cell_type": "markdown",
      "source": [
        "TOTAL_AREA has very strong lienar relationship with MAIN_AREA!<BR><BR>\n",
        "I will try the KNeighborsRegressor model for predict the MAIN_AREA.<br>The TOTAL_AREA will be the only feature column."
      ],
      "metadata": {
        "id": "n6CQ7R3jgLc1"
      }
    },
    {
      "cell_type": "code",
      "source": [
        "feature_cols = ['TOTAL_AREA'] "
      ],
      "metadata": {
        "id": "71TV2zFK-6kZ"
      },
      "execution_count": 32,
      "outputs": []
    },
    {
      "cell_type": "code",
      "source": [
        "X = dummies_data[feature_cols]\n",
        "y = dummies_data['MAIN_AREA']"
      ],
      "metadata": {
        "id": "67cKKj2pCGY3"
      },
      "execution_count": 33,
      "outputs": []
    },
    {
      "cell_type": "code",
      "source": [
        "# from sklearn.preprocessing import MinMaxScaler\n",
        "# scaler = MinMaxScaler()\n",
        "# # transform data\n",
        "# X_scaled = scaler.fit_transform(X)"
      ],
      "metadata": {
        "id": "DeMC-_ADarFh"
      },
      "execution_count": 34,
      "outputs": []
    },
    {
      "cell_type": "markdown",
      "source": [
        "There is no need to scale X, because I want the model will refer to the actual TOTAL_AREA value. "
      ],
      "metadata": {
        "id": "n6-oXQPYd3oH"
      }
    },
    {
      "cell_type": "code",
      "source": [
        "from sklearn.model_selection import train_test_split\n",
        "X_train, X_test, y_train, y_test = train_test_split(X, y, test_size=0.33, random_state=42)"
      ],
      "metadata": {
        "id": "8GA9CRZ7_kdI"
      },
      "execution_count": 35,
      "outputs": []
    },
    {
      "cell_type": "markdown",
      "source": [
        "Let's find the best parameters:"
      ],
      "metadata": {
        "id": "-M1WuvhWeXi_"
      }
    },
    {
      "cell_type": "code",
      "source": [
        "from sklearn.neighbors import KNeighborsRegressor\n",
        "from sklearn.model_selection import GridSearchCV\n",
        "\n",
        "# find best n_neighbors and weights\n",
        "params = {'n_neighbors':[3,5,7,9,11,13,15,17,19,21,23,25], 'weights':['uniform', 'distance']}\n",
        "\n",
        "knn = KNeighborsRegressor()\n",
        "\n",
        "model = GridSearchCV(knn, params, cv=5)\n",
        "model.fit(X_train, y_train)\n",
        "model.best_params_"
      ],
      "metadata": {
        "colab": {
          "base_uri": "https://localhost:8080/"
        },
        "id": "ikVvMEVWwDni",
        "outputId": "cdd346e9-adbf-4bf2-9b4e-0c277fcdcc37"
      },
      "execution_count": 36,
      "outputs": [
        {
          "output_type": "execute_result",
          "data": {
            "text/plain": [
              "{'n_neighbors': 15, 'weights': 'distance'}"
            ]
          },
          "metadata": {},
          "execution_count": 36
        }
      ]
    },
    {
      "cell_type": "code",
      "source": [
        "neigh = KNeighborsRegressor(n_neighbors=15, weights='distance')\n",
        "neigh.fit(X_train, y_train)"
      ],
      "metadata": {
        "colab": {
          "base_uri": "https://localhost:8080/"
        },
        "id": "f2VmHj0E-2qV",
        "outputId": "0e74d647-9fd9-4c6d-c975-3f0b2cc1023f"
      },
      "execution_count": 37,
      "outputs": [
        {
          "output_type": "execute_result",
          "data": {
            "text/plain": [
              "KNeighborsRegressor(n_neighbors=15, weights='distance')"
            ]
          },
          "metadata": {},
          "execution_count": 37
        }
      ]
    },
    {
      "cell_type": "code",
      "source": [
        "y_pred = neigh.predict(X_test)"
      ],
      "metadata": {
        "id": "QCoWGi5q_3mx"
      },
      "execution_count": 38,
      "outputs": []
    },
    {
      "cell_type": "code",
      "source": [
        "from sklearn.metrics import mean_absolute_error\n",
        "from sklearn.metrics import mean_squared_error\n",
        "from sklearn.metrics import r2_score\n",
        "mae = mean_absolute_error(y_test, y_pred)\n",
        "print(\"MAE:\", mae)\n",
        "mse = mean_squared_error(y_test, y_pred)\n",
        "print(\"MSE:\", mse)\n",
        "rmse = mean_squared_error(y_test, y_pred, squared=False)\n",
        "print(\"RMSE:\", rmse)\n",
        "rsquared = r2_score(y_test, y_pred)\n",
        "print(\"R Squared:\", rsquared)"
      ],
      "metadata": {
        "colab": {
          "base_uri": "https://localhost:8080/"
        },
        "id": "TO25yFhSBh_t",
        "outputId": "1f283d8a-4157-4d57-e630-4ac252c563ef"
      },
      "execution_count": 39,
      "outputs": [
        {
          "output_type": "stream",
          "name": "stdout",
          "text": [
            "MAE: 149.55219208940753\n",
            "MSE: 122649.60587307863\n",
            "RMSE: 350.2136574622392\n",
            "R Squared: 0.9869479362725436\n"
          ]
        }
      ]
    },
    {
      "cell_type": "markdown",
      "source": [
        "[Merging results from model predict with original pandas dataframe.](https://stackoverflow.com/questions/40729162/merging-results-from-model-predict-with-original-pandas-dataframe)\n"
      ],
      "metadata": {
        "id": "fNCjUjFnC6Qb"
      }
    },
    {
      "cell_type": "code",
      "source": [
        "result_df = pd.DataFrame(y_test)\n",
        "result_df['y_pred'] = y_pred\n",
        "result_df.columns = ['MAIN_AREA_true', 'MAIN_AREA_predicted']\n",
        "result_df.T"
      ],
      "metadata": {
        "colab": {
          "base_uri": "https://localhost:8080/",
          "height": 205
        },
        "id": "gUWzWBOhCpm8",
        "outputId": "caeba8b0-4749-4af8-ae9e-06e581f2539c"
      },
      "execution_count": 40,
      "outputs": [
        {
          "output_type": "execute_result",
          "data": {
            "text/html": [
              "\n",
              "  <div id=\"df-16415dae-d1ec-4dfe-ab8a-260637a961ad\">\n",
              "    <div class=\"colab-df-container\">\n",
              "      <div>\n",
              "<style scoped>\n",
              "    .dataframe tbody tr th:only-of-type {\n",
              "        vertical-align: middle;\n",
              "    }\n",
              "\n",
              "    .dataframe tbody tr th {\n",
              "        vertical-align: top;\n",
              "    }\n",
              "\n",
              "    .dataframe thead th {\n",
              "        text-align: right;\n",
              "    }\n",
              "</style>\n",
              "<table border=\"1\" class=\"dataframe\">\n",
              "  <thead>\n",
              "    <tr style=\"text-align: right;\">\n",
              "      <th></th>\n",
              "      <th>12677</th>\n",
              "      <th>12077</th>\n",
              "      <th>9296</th>\n",
              "      <th>12692</th>\n",
              "      <th>11043</th>\n",
              "      <th>11294</th>\n",
              "      <th>4786</th>\n",
              "      <th>12721</th>\n",
              "      <th>13301</th>\n",
              "      <th>13706</th>\n",
              "      <th>13520</th>\n",
              "      <th>11454</th>\n",
              "      <th>13277</th>\n",
              "      <th>11477</th>\n",
              "      <th>12713</th>\n",
              "      <th>11744</th>\n",
              "      <th>12436</th>\n",
              "      <th>9948</th>\n",
              "      <th>12602</th>\n",
              "      <th>12761</th>\n",
              "      <th>11879</th>\n",
              "      <th>11035</th>\n",
              "      <th>11689</th>\n",
              "      <th>12026</th>\n",
              "      <th>11543</th>\n",
              "      <th>13284</th>\n",
              "      <th>1571</th>\n",
              "      <th>1417</th>\n",
              "      <th>12638</th>\n",
              "      <th>13610</th>\n",
              "      <th>13529</th>\n",
              "      <th>13421</th>\n",
              "      <th>9043</th>\n",
              "      <th>11005</th>\n",
              "      <th>13542</th>\n",
              "      <th>11614</th>\n",
              "      <th>13003</th>\n",
              "      <th>13530</th>\n",
              "      <th>1336</th>\n",
              "      <th>13493</th>\n",
              "      <th>...</th>\n",
              "      <th>11663</th>\n",
              "      <th>12196</th>\n",
              "      <th>13598</th>\n",
              "      <th>12073</th>\n",
              "      <th>6517</th>\n",
              "      <th>12045</th>\n",
              "      <th>12778</th>\n",
              "      <th>11412</th>\n",
              "      <th>11698</th>\n",
              "      <th>13554</th>\n",
              "      <th>11958</th>\n",
              "      <th>5172</th>\n",
              "      <th>11776</th>\n",
              "      <th>13345</th>\n",
              "      <th>11804</th>\n",
              "      <th>7057</th>\n",
              "      <th>4577</th>\n",
              "      <th>5879</th>\n",
              "      <th>12161</th>\n",
              "      <th>12000</th>\n",
              "      <th>441</th>\n",
              "      <th>12999</th>\n",
              "      <th>5415</th>\n",
              "      <th>5385</th>\n",
              "      <th>7488</th>\n",
              "      <th>1830</th>\n",
              "      <th>12604</th>\n",
              "      <th>1947</th>\n",
              "      <th>13397</th>\n",
              "      <th>13260</th>\n",
              "      <th>12757</th>\n",
              "      <th>12364</th>\n",
              "      <th>13461</th>\n",
              "      <th>12237</th>\n",
              "      <th>1905</th>\n",
              "      <th>11832</th>\n",
              "      <th>11257</th>\n",
              "      <th>13201</th>\n",
              "      <th>12691</th>\n",
              "      <th>13536</th>\n",
              "    </tr>\n",
              "  </thead>\n",
              "  <tbody>\n",
              "    <tr>\n",
              "      <th>MAIN_AREA_true</th>\n",
              "      <td>1580.000000</td>\n",
              "      <td>275.000000</td>\n",
              "      <td>200.000000</td>\n",
              "      <td>952.0</td>\n",
              "      <td>355.0</td>\n",
              "      <td>75.000000</td>\n",
              "      <td>809.050000</td>\n",
              "      <td>720.0</td>\n",
              "      <td>203.010000</td>\n",
              "      <td>1211.750000</td>\n",
              "      <td>200.00</td>\n",
              "      <td>130.0</td>\n",
              "      <td>596.500000</td>\n",
              "      <td>250.0</td>\n",
              "      <td>396.000000</td>\n",
              "      <td>850.000000</td>\n",
              "      <td>3000.0</td>\n",
              "      <td>640.000000</td>\n",
              "      <td>480.000000</td>\n",
              "      <td>220.0</td>\n",
              "      <td>4352.000000</td>\n",
              "      <td>2460.000000</td>\n",
              "      <td>916.000000</td>\n",
              "      <td>262.0</td>\n",
              "      <td>5130.000000</td>\n",
              "      <td>701.4</td>\n",
              "      <td>123.600000</td>\n",
              "      <td>859.0</td>\n",
              "      <td>350.0</td>\n",
              "      <td>1107.000000</td>\n",
              "      <td>776.000000</td>\n",
              "      <td>472.500000</td>\n",
              "      <td>761.000000</td>\n",
              "      <td>467.28</td>\n",
              "      <td>450.000000</td>\n",
              "      <td>360.0</td>\n",
              "      <td>790.000000</td>\n",
              "      <td>1190.000000</td>\n",
              "      <td>860.000000</td>\n",
              "      <td>1061.000000</td>\n",
              "      <td>...</td>\n",
              "      <td>2336.000000</td>\n",
              "      <td>700.0</td>\n",
              "      <td>750.0</td>\n",
              "      <td>893.000000</td>\n",
              "      <td>90.000000</td>\n",
              "      <td>180.0</td>\n",
              "      <td>1548.030000</td>\n",
              "      <td>1344.000000</td>\n",
              "      <td>875.0</td>\n",
              "      <td>192.0</td>\n",
              "      <td>1903.000000</td>\n",
              "      <td>160.000000</td>\n",
              "      <td>568.000000</td>\n",
              "      <td>730.300000</td>\n",
              "      <td>1525.000000</td>\n",
              "      <td>670.0</td>\n",
              "      <td>1281.000000</td>\n",
              "      <td>870.000000</td>\n",
              "      <td>557.000000</td>\n",
              "      <td>490.0</td>\n",
              "      <td>3476.000000</td>\n",
              "      <td>383.000000</td>\n",
              "      <td>720.0</td>\n",
              "      <td>11875.000000</td>\n",
              "      <td>840.000000</td>\n",
              "      <td>240.0</td>\n",
              "      <td>283.0</td>\n",
              "      <td>360.000</td>\n",
              "      <td>533.000000</td>\n",
              "      <td>7125.000000</td>\n",
              "      <td>990.000000</td>\n",
              "      <td>890.000000</td>\n",
              "      <td>570.000000</td>\n",
              "      <td>399.000000</td>\n",
              "      <td>457.0</td>\n",
              "      <td>19100.000000</td>\n",
              "      <td>475.00000</td>\n",
              "      <td>868.220000</td>\n",
              "      <td>890.500000</td>\n",
              "      <td>270.0</td>\n",
              "    </tr>\n",
              "    <tr>\n",
              "      <th>MAIN_AREA_predicted</th>\n",
              "      <td>1638.283819</td>\n",
              "      <td>265.571429</td>\n",
              "      <td>199.369458</td>\n",
              "      <td>1010.0</td>\n",
              "      <td>285.0</td>\n",
              "      <td>89.357078</td>\n",
              "      <td>884.105023</td>\n",
              "      <td>751.8</td>\n",
              "      <td>175.316243</td>\n",
              "      <td>1274.213701</td>\n",
              "      <td>205.25</td>\n",
              "      <td>156.0</td>\n",
              "      <td>543.543257</td>\n",
              "      <td>246.8</td>\n",
              "      <td>375.333333</td>\n",
              "      <td>887.733333</td>\n",
              "      <td>2915.0</td>\n",
              "      <td>692.888889</td>\n",
              "      <td>499.666667</td>\n",
              "      <td>212.0</td>\n",
              "      <td>4883.968123</td>\n",
              "      <td>3294.030025</td>\n",
              "      <td>905.145878</td>\n",
              "      <td>283.0</td>\n",
              "      <td>4859.952531</td>\n",
              "      <td>698.5</td>\n",
              "      <td>136.933501</td>\n",
              "      <td>849.0</td>\n",
              "      <td>345.0</td>\n",
              "      <td>1301.849829</td>\n",
              "      <td>696.351513</td>\n",
              "      <td>402.902643</td>\n",
              "      <td>760.127899</td>\n",
              "      <td>496.10</td>\n",
              "      <td>562.918352</td>\n",
              "      <td>385.0</td>\n",
              "      <td>771.772311</td>\n",
              "      <td>1414.844986</td>\n",
              "      <td>887.733333</td>\n",
              "      <td>1031.684546</td>\n",
              "      <td>...</td>\n",
              "      <td>2035.183312</td>\n",
              "      <td>556.0</td>\n",
              "      <td>800.0</td>\n",
              "      <td>914.258038</td>\n",
              "      <td>134.375517</td>\n",
              "      <td>180.0</td>\n",
              "      <td>1653.837073</td>\n",
              "      <td>1516.477383</td>\n",
              "      <td>777.5</td>\n",
              "      <td>221.0</td>\n",
              "      <td>2371.374929</td>\n",
              "      <td>159.121672</td>\n",
              "      <td>538.666667</td>\n",
              "      <td>903.523062</td>\n",
              "      <td>1730.711936</td>\n",
              "      <td>757.0</td>\n",
              "      <td>1274.275641</td>\n",
              "      <td>938.940979</td>\n",
              "      <td>597.074009</td>\n",
              "      <td>512.0</td>\n",
              "      <td>4553.319911</td>\n",
              "      <td>357.516111</td>\n",
              "      <td>970.0</td>\n",
              "      <td>11932.468314</td>\n",
              "      <td>810.666667</td>\n",
              "      <td>246.8</td>\n",
              "      <td>246.8</td>\n",
              "      <td>334.375</td>\n",
              "      <td>466.772306</td>\n",
              "      <td>5114.103058</td>\n",
              "      <td>983.119223</td>\n",
              "      <td>1146.591923</td>\n",
              "      <td>569.727273</td>\n",
              "      <td>385.037437</td>\n",
              "      <td>468.5</td>\n",
              "      <td>18830.085928</td>\n",
              "      <td>463.88894</td>\n",
              "      <td>755.947408</td>\n",
              "      <td>828.984346</td>\n",
              "      <td>325.0</td>\n",
              "    </tr>\n",
              "  </tbody>\n",
              "</table>\n",
              "<p>2 rows × 850 columns</p>\n",
              "</div>\n",
              "      <button class=\"colab-df-convert\" onclick=\"convertToInteractive('df-16415dae-d1ec-4dfe-ab8a-260637a961ad')\"\n",
              "              title=\"Convert this dataframe to an interactive table.\"\n",
              "              style=\"display:none;\">\n",
              "        \n",
              "  <svg xmlns=\"http://www.w3.org/2000/svg\" height=\"24px\"viewBox=\"0 0 24 24\"\n",
              "       width=\"24px\">\n",
              "    <path d=\"M0 0h24v24H0V0z\" fill=\"none\"/>\n",
              "    <path d=\"M18.56 5.44l.94 2.06.94-2.06 2.06-.94-2.06-.94-.94-2.06-.94 2.06-2.06.94zm-11 1L8.5 8.5l.94-2.06 2.06-.94-2.06-.94L8.5 2.5l-.94 2.06-2.06.94zm10 10l.94 2.06.94-2.06 2.06-.94-2.06-.94-.94-2.06-.94 2.06-2.06.94z\"/><path d=\"M17.41 7.96l-1.37-1.37c-.4-.4-.92-.59-1.43-.59-.52 0-1.04.2-1.43.59L10.3 9.45l-7.72 7.72c-.78.78-.78 2.05 0 2.83L4 21.41c.39.39.9.59 1.41.59.51 0 1.02-.2 1.41-.59l7.78-7.78 2.81-2.81c.8-.78.8-2.07 0-2.86zM5.41 20L4 18.59l7.72-7.72 1.47 1.35L5.41 20z\"/>\n",
              "  </svg>\n",
              "      </button>\n",
              "      \n",
              "  <style>\n",
              "    .colab-df-container {\n",
              "      display:flex;\n",
              "      flex-wrap:wrap;\n",
              "      gap: 12px;\n",
              "    }\n",
              "\n",
              "    .colab-df-convert {\n",
              "      background-color: #E8F0FE;\n",
              "      border: none;\n",
              "      border-radius: 50%;\n",
              "      cursor: pointer;\n",
              "      display: none;\n",
              "      fill: #1967D2;\n",
              "      height: 32px;\n",
              "      padding: 0 0 0 0;\n",
              "      width: 32px;\n",
              "    }\n",
              "\n",
              "    .colab-df-convert:hover {\n",
              "      background-color: #E2EBFA;\n",
              "      box-shadow: 0px 1px 2px rgba(60, 64, 67, 0.3), 0px 1px 3px 1px rgba(60, 64, 67, 0.15);\n",
              "      fill: #174EA6;\n",
              "    }\n",
              "\n",
              "    [theme=dark] .colab-df-convert {\n",
              "      background-color: #3B4455;\n",
              "      fill: #D2E3FC;\n",
              "    }\n",
              "\n",
              "    [theme=dark] .colab-df-convert:hover {\n",
              "      background-color: #434B5C;\n",
              "      box-shadow: 0px 1px 3px 1px rgba(0, 0, 0, 0.15);\n",
              "      filter: drop-shadow(0px 1px 2px rgba(0, 0, 0, 0.3));\n",
              "      fill: #FFFFFF;\n",
              "    }\n",
              "  </style>\n",
              "\n",
              "      <script>\n",
              "        const buttonEl =\n",
              "          document.querySelector('#df-16415dae-d1ec-4dfe-ab8a-260637a961ad button.colab-df-convert');\n",
              "        buttonEl.style.display =\n",
              "          google.colab.kernel.accessAllowed ? 'block' : 'none';\n",
              "\n",
              "        async function convertToInteractive(key) {\n",
              "          const element = document.querySelector('#df-16415dae-d1ec-4dfe-ab8a-260637a961ad');\n",
              "          const dataTable =\n",
              "            await google.colab.kernel.invokeFunction('convertToInteractive',\n",
              "                                                     [key], {});\n",
              "          if (!dataTable) return;\n",
              "\n",
              "          const docLinkHtml = 'Like what you see? Visit the ' +\n",
              "            '<a target=\"_blank\" href=https://colab.research.google.com/notebooks/data_table.ipynb>data table notebook</a>'\n",
              "            + ' to learn more about interactive tables.';\n",
              "          element.innerHTML = '';\n",
              "          dataTable['output_type'] = 'display_data';\n",
              "          await google.colab.output.renderOutput(dataTable, element);\n",
              "          const docLink = document.createElement('div');\n",
              "          docLink.innerHTML = docLinkHtml;\n",
              "          element.appendChild(docLink);\n",
              "        }\n",
              "      </script>\n",
              "    </div>\n",
              "  </div>\n",
              "  "
            ],
            "text/plain": [
              "                           12677       12077  ...       12691  13536\n",
              "MAIN_AREA_true       1580.000000  275.000000  ...  890.500000  270.0\n",
              "MAIN_AREA_predicted  1638.283819  265.571429  ...  828.984346  325.0\n",
              "\n",
              "[2 rows x 850 columns]"
            ]
          },
          "metadata": {},
          "execution_count": 40
        }
      ]
    },
    {
      "cell_type": "code",
      "source": [
        "all_data_with_predictions = pd.merge(cellsdata, result_df, left_index=True, right_index=True)\n",
        "all_data_with_predictions.head(3)"
      ],
      "metadata": {
        "id": "OBX3otNQGoQ9",
        "colab": {
          "base_uri": "https://localhost:8080/",
          "height": 312
        },
        "outputId": "9d943e66-498f-4435-95fc-cafd3d7e3a28"
      },
      "execution_count": 41,
      "outputs": [
        {
          "output_type": "execute_result",
          "data": {
            "text/html": [
              "\n",
              "  <div id=\"df-48e04201-00c9-4e9a-aae4-d5839d87532a\">\n",
              "    <div class=\"colab-df-container\">\n",
              "      <div>\n",
              "<style scoped>\n",
              "    .dataframe tbody tr th:only-of-type {\n",
              "        vertical-align: middle;\n",
              "    }\n",
              "\n",
              "    .dataframe tbody tr th {\n",
              "        vertical-align: top;\n",
              "    }\n",
              "\n",
              "    .dataframe thead th {\n",
              "        text-align: right;\n",
              "    }\n",
              "</style>\n",
              "<table border=\"1\" class=\"dataframe\">\n",
              "  <thead>\n",
              "    <tr style=\"text-align: right;\">\n",
              "      <th></th>\n",
              "      <th>PL_NUMBER</th>\n",
              "      <th>PL_AREA</th>\n",
              "      <th>LANDUSE</th>\n",
              "      <th>MAIN_AREA</th>\n",
              "      <th>SERVICE_AREA</th>\n",
              "      <th>CELL_SIZE_TOTAL</th>\n",
              "      <th>CELL_SIZE_MIN</th>\n",
              "      <th>CELL_SIZE_MAX</th>\n",
              "      <th>HOUSING_UNITS</th>\n",
              "      <th>BUILDING_HEIGHT</th>\n",
              "      <th>FLOORS_NUM</th>\n",
              "      <th>TOTAL_AREA</th>\n",
              "      <th>AUTHORITY</th>\n",
              "      <th>DISTRICT</th>\n",
              "      <th>SECTOR_GROUP</th>\n",
              "      <th>CONFIRMATION_YEAR</th>\n",
              "      <th>CONSTRUCTION_TYPE_GROUP</th>\n",
              "      <th>MAIN_AREA_true</th>\n",
              "      <th>MAIN_AREA_predicted</th>\n",
              "    </tr>\n",
              "  </thead>\n",
              "  <tbody>\n",
              "    <tr>\n",
              "      <th>441</th>\n",
              "      <td>307-0322727</td>\n",
              "      <td>307-0322727-47</td>\n",
              "      <td>מגורים</td>\n",
              "      <td>3476.0</td>\n",
              "      <td>2194.0</td>\n",
              "      <td>3650.0</td>\n",
              "      <td>0.0</td>\n",
              "      <td>0.0</td>\n",
              "      <td>38.0</td>\n",
              "      <td>18.0</td>\n",
              "      <td>5.0</td>\n",
              "      <td>5670.0</td>\n",
              "      <td>מחוזית</td>\n",
              "      <td>חיפה</td>\n",
              "      <td>חברה כללית / מעורבת</td>\n",
              "      <td>2017</td>\n",
              "      <td>התחדשות</td>\n",
              "      <td>3476.0</td>\n",
              "      <td>4553.319911</td>\n",
              "    </tr>\n",
              "    <tr>\n",
              "      <th>715</th>\n",
              "      <td>618-0420554</td>\n",
              "      <td>618-0420554-172</td>\n",
              "      <td>מגורים</td>\n",
              "      <td>948.0</td>\n",
              "      <td>80.0</td>\n",
              "      <td>1028.0</td>\n",
              "      <td>0.0</td>\n",
              "      <td>0.0</td>\n",
              "      <td>4.0</td>\n",
              "      <td>10.5</td>\n",
              "      <td>2.0</td>\n",
              "      <td>1028.0</td>\n",
              "      <td>מחוזית</td>\n",
              "      <td>דרום</td>\n",
              "      <td>חברה ערבית</td>\n",
              "      <td>2018</td>\n",
              "      <td>חדשה</td>\n",
              "      <td>948.0</td>\n",
              "      <td>859.046203</td>\n",
              "    </tr>\n",
              "    <tr>\n",
              "      <th>806</th>\n",
              "      <td>101-0336453</td>\n",
              "      <td>101-0336453-1</td>\n",
              "      <td>מגורים</td>\n",
              "      <td>1605.0</td>\n",
              "      <td>261.0</td>\n",
              "      <td>749.0</td>\n",
              "      <td>0.0</td>\n",
              "      <td>0.0</td>\n",
              "      <td>18.0</td>\n",
              "      <td>18.7</td>\n",
              "      <td>6.0</td>\n",
              "      <td>1866.0</td>\n",
              "      <td>מחוזית</td>\n",
              "      <td>ירושלים</td>\n",
              "      <td>חברה ערבית</td>\n",
              "      <td>2017</td>\n",
              "      <td>התחדשות</td>\n",
              "      <td>1605.0</td>\n",
              "      <td>1491.692307</td>\n",
              "    </tr>\n",
              "  </tbody>\n",
              "</table>\n",
              "</div>\n",
              "      <button class=\"colab-df-convert\" onclick=\"convertToInteractive('df-48e04201-00c9-4e9a-aae4-d5839d87532a')\"\n",
              "              title=\"Convert this dataframe to an interactive table.\"\n",
              "              style=\"display:none;\">\n",
              "        \n",
              "  <svg xmlns=\"http://www.w3.org/2000/svg\" height=\"24px\"viewBox=\"0 0 24 24\"\n",
              "       width=\"24px\">\n",
              "    <path d=\"M0 0h24v24H0V0z\" fill=\"none\"/>\n",
              "    <path d=\"M18.56 5.44l.94 2.06.94-2.06 2.06-.94-2.06-.94-.94-2.06-.94 2.06-2.06.94zm-11 1L8.5 8.5l.94-2.06 2.06-.94-2.06-.94L8.5 2.5l-.94 2.06-2.06.94zm10 10l.94 2.06.94-2.06 2.06-.94-2.06-.94-.94-2.06-.94 2.06-2.06.94z\"/><path d=\"M17.41 7.96l-1.37-1.37c-.4-.4-.92-.59-1.43-.59-.52 0-1.04.2-1.43.59L10.3 9.45l-7.72 7.72c-.78.78-.78 2.05 0 2.83L4 21.41c.39.39.9.59 1.41.59.51 0 1.02-.2 1.41-.59l7.78-7.78 2.81-2.81c.8-.78.8-2.07 0-2.86zM5.41 20L4 18.59l7.72-7.72 1.47 1.35L5.41 20z\"/>\n",
              "  </svg>\n",
              "      </button>\n",
              "      \n",
              "  <style>\n",
              "    .colab-df-container {\n",
              "      display:flex;\n",
              "      flex-wrap:wrap;\n",
              "      gap: 12px;\n",
              "    }\n",
              "\n",
              "    .colab-df-convert {\n",
              "      background-color: #E8F0FE;\n",
              "      border: none;\n",
              "      border-radius: 50%;\n",
              "      cursor: pointer;\n",
              "      display: none;\n",
              "      fill: #1967D2;\n",
              "      height: 32px;\n",
              "      padding: 0 0 0 0;\n",
              "      width: 32px;\n",
              "    }\n",
              "\n",
              "    .colab-df-convert:hover {\n",
              "      background-color: #E2EBFA;\n",
              "      box-shadow: 0px 1px 2px rgba(60, 64, 67, 0.3), 0px 1px 3px 1px rgba(60, 64, 67, 0.15);\n",
              "      fill: #174EA6;\n",
              "    }\n",
              "\n",
              "    [theme=dark] .colab-df-convert {\n",
              "      background-color: #3B4455;\n",
              "      fill: #D2E3FC;\n",
              "    }\n",
              "\n",
              "    [theme=dark] .colab-df-convert:hover {\n",
              "      background-color: #434B5C;\n",
              "      box-shadow: 0px 1px 3px 1px rgba(0, 0, 0, 0.15);\n",
              "      filter: drop-shadow(0px 1px 2px rgba(0, 0, 0, 0.3));\n",
              "      fill: #FFFFFF;\n",
              "    }\n",
              "  </style>\n",
              "\n",
              "      <script>\n",
              "        const buttonEl =\n",
              "          document.querySelector('#df-48e04201-00c9-4e9a-aae4-d5839d87532a button.colab-df-convert');\n",
              "        buttonEl.style.display =\n",
              "          google.colab.kernel.accessAllowed ? 'block' : 'none';\n",
              "\n",
              "        async function convertToInteractive(key) {\n",
              "          const element = document.querySelector('#df-48e04201-00c9-4e9a-aae4-d5839d87532a');\n",
              "          const dataTable =\n",
              "            await google.colab.kernel.invokeFunction('convertToInteractive',\n",
              "                                                     [key], {});\n",
              "          if (!dataTable) return;\n",
              "\n",
              "          const docLinkHtml = 'Like what you see? Visit the ' +\n",
              "            '<a target=\"_blank\" href=https://colab.research.google.com/notebooks/data_table.ipynb>data table notebook</a>'\n",
              "            + ' to learn more about interactive tables.';\n",
              "          element.innerHTML = '';\n",
              "          dataTable['output_type'] = 'display_data';\n",
              "          await google.colab.output.renderOutput(dataTable, element);\n",
              "          const docLink = document.createElement('div');\n",
              "          docLink.innerHTML = docLinkHtml;\n",
              "          element.appendChild(docLink);\n",
              "        }\n",
              "      </script>\n",
              "    </div>\n",
              "  </div>\n",
              "  "
            ],
            "text/plain": [
              "       PL_NUMBER          PL_AREA  ... MAIN_AREA_true  MAIN_AREA_predicted\n",
              "441  307-0322727   307-0322727-47  ...         3476.0          4553.319911\n",
              "715  618-0420554  618-0420554-172  ...          948.0           859.046203\n",
              "806  101-0336453    101-0336453-1  ...         1605.0          1491.692307\n",
              "\n",
              "[3 rows x 19 columns]"
            ]
          },
          "metadata": {},
          "execution_count": 41
        }
      ]
    },
    {
      "cell_type": "code",
      "source": [
        "# all_data_with_predictions.to_csv('all_data_with_predictions.csv', encoding='utf-8-sig')\n",
        "# files.download(\"all_data_with_predictions.csv\")"
      ],
      "metadata": {
        "id": "jjZFb7SUIVsM",
        "colab": {
          "base_uri": "https://localhost:8080/",
          "height": 17
        },
        "outputId": "0d178c13-a066-47d2-f71f-95a3ac6c80d6"
      },
      "execution_count": 42,
      "outputs": [
        {
          "output_type": "display_data",
          "data": {
            "application/javascript": [
              "\n",
              "    async function download(id, filename, size) {\n",
              "      if (!google.colab.kernel.accessAllowed) {\n",
              "        return;\n",
              "      }\n",
              "      const div = document.createElement('div');\n",
              "      const label = document.createElement('label');\n",
              "      label.textContent = `Downloading \"${filename}\": `;\n",
              "      div.appendChild(label);\n",
              "      const progress = document.createElement('progress');\n",
              "      progress.max = size;\n",
              "      div.appendChild(progress);\n",
              "      document.body.appendChild(div);\n",
              "\n",
              "      const buffers = [];\n",
              "      let downloaded = 0;\n",
              "\n",
              "      const channel = await google.colab.kernel.comms.open(id);\n",
              "      // Send a message to notify the kernel that we're ready.\n",
              "      channel.send({})\n",
              "\n",
              "      for await (const message of channel.messages) {\n",
              "        // Send a message to notify the kernel that we're ready.\n",
              "        channel.send({})\n",
              "        if (message.buffers) {\n",
              "          for (const buffer of message.buffers) {\n",
              "            buffers.push(buffer);\n",
              "            downloaded += buffer.byteLength;\n",
              "            progress.value = downloaded;\n",
              "          }\n",
              "        }\n",
              "      }\n",
              "      const blob = new Blob(buffers, {type: 'application/binary'});\n",
              "      const a = document.createElement('a');\n",
              "      a.href = window.URL.createObjectURL(blob);\n",
              "      a.download = filename;\n",
              "      div.appendChild(a);\n",
              "      a.click();\n",
              "      div.remove();\n",
              "    }\n",
              "  "
            ],
            "text/plain": [
              "<IPython.core.display.Javascript object>"
            ]
          },
          "metadata": {}
        },
        {
          "output_type": "display_data",
          "data": {
            "application/javascript": [
              "download(\"download_d4c841a2-cc7e-44a8-94a0-849a8cf56dd7\", \"all_data_with_predictions.csv\", 153913)"
            ],
            "text/plain": [
              "<IPython.core.display.Javascript object>"
            ]
          },
          "metadata": {}
        }
      ]
    },
    {
      "cell_type": "markdown",
      "source": [
        "**Now let's test the model again on new data - only areas of plans that confirmed after Nov 2021.**"
      ],
      "metadata": {
        "id": "YZcu9OZpdEq6"
      }
    },
    {
      "cell_type": "code",
      "source": [
        "new_cellsdata = pd.read_csv('https://raw.githubusercontent.com/mannmoshe/machine-learning/main/FinalProject/cellsData_New.csv')\n",
        "#new_data = new_data.drop_duplicates(subset=\"PL_NUMBER\", keep=\"first\")"
      ],
      "metadata": {
        "id": "72FIvqbA1iLD"
      },
      "execution_count": 43,
      "outputs": []
    },
    {
      "cell_type": "markdown",
      "source": [
        "Here I do not care to take multiple areas of same plans - because I want to test the model."
      ],
      "metadata": {
        "id": "aom_caCQdXwg"
      }
    },
    {
      "cell_type": "code",
      "source": [
        "new_data = new_cellsdata[new_cellsdata['TOTAL_AREA'] < 40000]\n",
        "new_data.shape"
      ],
      "metadata": {
        "colab": {
          "base_uri": "https://localhost:8080/"
        },
        "id": "ejUKxsg-dWOB",
        "outputId": "a15aacf0-bff0-4525-deb5-f7f9c22e41ef"
      },
      "execution_count": 44,
      "outputs": [
        {
          "output_type": "execute_result",
          "data": {
            "text/plain": [
              "(359, 17)"
            ]
          },
          "metadata": {},
          "execution_count": 44
        }
      ]
    },
    {
      "cell_type": "code",
      "source": [
        "X_new = new_data[feature_cols]\n",
        "y_new = new_data['MAIN_AREA']"
      ],
      "metadata": {
        "id": "Vxp-M0j41o17"
      },
      "execution_count": 45,
      "outputs": []
    },
    {
      "cell_type": "code",
      "source": [
        "y_new_pred = neigh.predict(X_new)"
      ],
      "metadata": {
        "id": "kWv0vkei2MGY"
      },
      "execution_count": 46,
      "outputs": []
    },
    {
      "cell_type": "code",
      "source": [
        "mae = mean_absolute_error(y_new, y_new_pred)\n",
        "print(\"MAE:\", mae)\n",
        "mse = mean_squared_error(y_new, y_new_pred)\n",
        "print(\"MSE:\", mse)\n",
        "rmse = mean_squared_error(y_new, y_new_pred, squared=False)\n",
        "print(\"RMSE:\", rmse)\n",
        "rsquared = r2_score(y_new, y_new_pred)\n",
        "print(\"R Squared:\", rsquared)"
      ],
      "metadata": {
        "colab": {
          "base_uri": "https://localhost:8080/"
        },
        "id": "jyykmIZy2Vxs",
        "outputId": "7baee21c-6e5d-4e1a-cae3-dd90e938ed27"
      },
      "execution_count": 47,
      "outputs": [
        {
          "output_type": "stream",
          "name": "stdout",
          "text": [
            "MAE: 218.72816344680456\n",
            "MSE: 134402.6351713456\n",
            "RMSE: 366.60964958842203\n",
            "R Squared: 0.9737304053500706\n"
          ]
        }
      ]
    },
    {
      "cell_type": "code",
      "source": [
        "new_result_df = pd.DataFrame(y_new)\n",
        "new_result_df['y_pred'] = y_new_pred\n",
        "new_result_df.columns = ['MAIN_AREA_true', 'MAIN_AREA_predicted']\n",
        "print(new_result_df.shape)\n",
        "new_result_df.T"
      ],
      "metadata": {
        "colab": {
          "base_uri": "https://localhost:8080/",
          "height": 223
        },
        "id": "xoVMroZQ2wAC",
        "outputId": "0b376329-af94-415d-9b3c-e6932b3ee009"
      },
      "execution_count": 48,
      "outputs": [
        {
          "output_type": "stream",
          "name": "stdout",
          "text": [
            "(359, 2)\n"
          ]
        },
        {
          "output_type": "execute_result",
          "data": {
            "text/html": [
              "\n",
              "  <div id=\"df-55684fd6-fe9d-456f-be4e-df5e5f658548\">\n",
              "    <div class=\"colab-df-container\">\n",
              "      <div>\n",
              "<style scoped>\n",
              "    .dataframe tbody tr th:only-of-type {\n",
              "        vertical-align: middle;\n",
              "    }\n",
              "\n",
              "    .dataframe tbody tr th {\n",
              "        vertical-align: top;\n",
              "    }\n",
              "\n",
              "    .dataframe thead th {\n",
              "        text-align: right;\n",
              "    }\n",
              "</style>\n",
              "<table border=\"1\" class=\"dataframe\">\n",
              "  <thead>\n",
              "    <tr style=\"text-align: right;\">\n",
              "      <th></th>\n",
              "      <th>0</th>\n",
              "      <th>1</th>\n",
              "      <th>2</th>\n",
              "      <th>3</th>\n",
              "      <th>4</th>\n",
              "      <th>5</th>\n",
              "      <th>6</th>\n",
              "      <th>7</th>\n",
              "      <th>8</th>\n",
              "      <th>9</th>\n",
              "      <th>10</th>\n",
              "      <th>11</th>\n",
              "      <th>12</th>\n",
              "      <th>13</th>\n",
              "      <th>14</th>\n",
              "      <th>15</th>\n",
              "      <th>16</th>\n",
              "      <th>17</th>\n",
              "      <th>18</th>\n",
              "      <th>19</th>\n",
              "      <th>20</th>\n",
              "      <th>21</th>\n",
              "      <th>22</th>\n",
              "      <th>23</th>\n",
              "      <th>24</th>\n",
              "      <th>25</th>\n",
              "      <th>26</th>\n",
              "      <th>27</th>\n",
              "      <th>28</th>\n",
              "      <th>29</th>\n",
              "      <th>30</th>\n",
              "      <th>31</th>\n",
              "      <th>32</th>\n",
              "      <th>33</th>\n",
              "      <th>34</th>\n",
              "      <th>35</th>\n",
              "      <th>36</th>\n",
              "      <th>37</th>\n",
              "      <th>38</th>\n",
              "      <th>39</th>\n",
              "      <th>...</th>\n",
              "      <th>319</th>\n",
              "      <th>320</th>\n",
              "      <th>321</th>\n",
              "      <th>322</th>\n",
              "      <th>323</th>\n",
              "      <th>324</th>\n",
              "      <th>325</th>\n",
              "      <th>326</th>\n",
              "      <th>327</th>\n",
              "      <th>328</th>\n",
              "      <th>329</th>\n",
              "      <th>330</th>\n",
              "      <th>331</th>\n",
              "      <th>332</th>\n",
              "      <th>333</th>\n",
              "      <th>334</th>\n",
              "      <th>335</th>\n",
              "      <th>336</th>\n",
              "      <th>337</th>\n",
              "      <th>338</th>\n",
              "      <th>339</th>\n",
              "      <th>340</th>\n",
              "      <th>341</th>\n",
              "      <th>342</th>\n",
              "      <th>343</th>\n",
              "      <th>344</th>\n",
              "      <th>345</th>\n",
              "      <th>346</th>\n",
              "      <th>347</th>\n",
              "      <th>348</th>\n",
              "      <th>349</th>\n",
              "      <th>350</th>\n",
              "      <th>351</th>\n",
              "      <th>352</th>\n",
              "      <th>353</th>\n",
              "      <th>354</th>\n",
              "      <th>355</th>\n",
              "      <th>356</th>\n",
              "      <th>357</th>\n",
              "      <th>358</th>\n",
              "    </tr>\n",
              "  </thead>\n",
              "  <tbody>\n",
              "    <tr>\n",
              "      <th>MAIN_AREA_true</th>\n",
              "      <td>576.0</td>\n",
              "      <td>220.0</td>\n",
              "      <td>240.0</td>\n",
              "      <td>570.400000</td>\n",
              "      <td>768.800000</td>\n",
              "      <td>620.0</td>\n",
              "      <td>590.240000</td>\n",
              "      <td>728.000000</td>\n",
              "      <td>3250.000000</td>\n",
              "      <td>15155.000000</td>\n",
              "      <td>8155.000000</td>\n",
              "      <td>19810.000000</td>\n",
              "      <td>12985.00000</td>\n",
              "      <td>15045.000000</td>\n",
              "      <td>14015.000000</td>\n",
              "      <td>13555.000000</td>\n",
              "      <td>14965.000000</td>\n",
              "      <td>18275.000000</td>\n",
              "      <td>953.000000</td>\n",
              "      <td>575.0</td>\n",
              "      <td>647.000</td>\n",
              "      <td>618.0</td>\n",
              "      <td>653.000000</td>\n",
              "      <td>645.000000</td>\n",
              "      <td>659.00000</td>\n",
              "      <td>686.0</td>\n",
              "      <td>670.000000</td>\n",
              "      <td>651.000000</td>\n",
              "      <td>640.000000</td>\n",
              "      <td>620.00000</td>\n",
              "      <td>624.0</td>\n",
              "      <td>647.000</td>\n",
              "      <td>647.000</td>\n",
              "      <td>672.000000</td>\n",
              "      <td>1610.000000</td>\n",
              "      <td>945.000000</td>\n",
              "      <td>601.000000</td>\n",
              "      <td>1015.000000</td>\n",
              "      <td>1032.0000</td>\n",
              "      <td>1040.000000</td>\n",
              "      <td>...</td>\n",
              "      <td>720.000000</td>\n",
              "      <td>720.000000</td>\n",
              "      <td>720.000000</td>\n",
              "      <td>720.000000</td>\n",
              "      <td>720.000000</td>\n",
              "      <td>720.000000</td>\n",
              "      <td>720.000000</td>\n",
              "      <td>720.000000</td>\n",
              "      <td>720.000000</td>\n",
              "      <td>324.000000</td>\n",
              "      <td>324.000000</td>\n",
              "      <td>324.000000</td>\n",
              "      <td>324.000000</td>\n",
              "      <td>324.000000</td>\n",
              "      <td>1894.0000</td>\n",
              "      <td>220.0</td>\n",
              "      <td>205.000000</td>\n",
              "      <td>160.0</td>\n",
              "      <td>285.000000</td>\n",
              "      <td>190.000000</td>\n",
              "      <td>240.0</td>\n",
              "      <td>576.0</td>\n",
              "      <td>3060.000000</td>\n",
              "      <td>600.000000</td>\n",
              "      <td>897.0</td>\n",
              "      <td>332.400000</td>\n",
              "      <td>4400.000000</td>\n",
              "      <td>230.00</td>\n",
              "      <td>460.0</td>\n",
              "      <td>1456.00000</td>\n",
              "      <td>230.0</td>\n",
              "      <td>370.000000</td>\n",
              "      <td>383.140000</td>\n",
              "      <td>240.0</td>\n",
              "      <td>480.000000</td>\n",
              "      <td>527.050000</td>\n",
              "      <td>810.600000</td>\n",
              "      <td>811.0</td>\n",
              "      <td>920.0</td>\n",
              "      <td>3034.000000</td>\n",
              "    </tr>\n",
              "    <tr>\n",
              "      <th>MAIN_AREA_predicted</th>\n",
              "      <td>576.8</td>\n",
              "      <td>230.0</td>\n",
              "      <td>246.8</td>\n",
              "      <td>551.822287</td>\n",
              "      <td>730.580274</td>\n",
              "      <td>595.0</td>\n",
              "      <td>558.887134</td>\n",
              "      <td>686.357143</td>\n",
              "      <td>3358.802078</td>\n",
              "      <td>15772.550068</td>\n",
              "      <td>8564.061464</td>\n",
              "      <td>19962.697228</td>\n",
              "      <td>12967.59193</td>\n",
              "      <td>15626.025226</td>\n",
              "      <td>14516.864137</td>\n",
              "      <td>13770.247267</td>\n",
              "      <td>15603.645101</td>\n",
              "      <td>18484.665472</td>\n",
              "      <td>1143.339297</td>\n",
              "      <td>777.5</td>\n",
              "      <td>928.685</td>\n",
              "      <td>903.0</td>\n",
              "      <td>804.565962</td>\n",
              "      <td>910.154797</td>\n",
              "      <td>874.02346</td>\n",
              "      <td>819.0</td>\n",
              "      <td>886.333333</td>\n",
              "      <td>825.465309</td>\n",
              "      <td>887.733333</td>\n",
              "      <td>866.57257</td>\n",
              "      <td>918.0</td>\n",
              "      <td>928.685</td>\n",
              "      <td>928.685</td>\n",
              "      <td>881.339454</td>\n",
              "      <td>2177.050269</td>\n",
              "      <td>1215.545586</td>\n",
              "      <td>811.327694</td>\n",
              "      <td>1328.755567</td>\n",
              "      <td>1267.1068</td>\n",
              "      <td>1441.886046</td>\n",
              "      <td>...</td>\n",
              "      <td>692.888889</td>\n",
              "      <td>692.888889</td>\n",
              "      <td>692.888889</td>\n",
              "      <td>692.888889</td>\n",
              "      <td>692.888889</td>\n",
              "      <td>692.888889</td>\n",
              "      <td>692.888889</td>\n",
              "      <td>692.888889</td>\n",
              "      <td>692.888889</td>\n",
              "      <td>338.305085</td>\n",
              "      <td>338.305085</td>\n",
              "      <td>338.305085</td>\n",
              "      <td>338.305085</td>\n",
              "      <td>338.305085</td>\n",
              "      <td>1872.4103</td>\n",
              "      <td>220.0</td>\n",
              "      <td>211.454739</td>\n",
              "      <td>175.5</td>\n",
              "      <td>302.044524</td>\n",
              "      <td>257.785926</td>\n",
              "      <td>246.8</td>\n",
              "      <td>576.8</td>\n",
              "      <td>2477.551703</td>\n",
              "      <td>582.429969</td>\n",
              "      <td>767.0</td>\n",
              "      <td>340.616592</td>\n",
              "      <td>4379.226293</td>\n",
              "      <td>196.75</td>\n",
              "      <td>450.0</td>\n",
              "      <td>1405.35074</td>\n",
              "      <td>220.0</td>\n",
              "      <td>387.712764</td>\n",
              "      <td>385.862118</td>\n",
              "      <td>246.8</td>\n",
              "      <td>538.666667</td>\n",
              "      <td>639.757538</td>\n",
              "      <td>810.509426</td>\n",
              "      <td>781.5</td>\n",
              "      <td>971.5</td>\n",
              "      <td>2706.828496</td>\n",
              "    </tr>\n",
              "  </tbody>\n",
              "</table>\n",
              "<p>2 rows × 359 columns</p>\n",
              "</div>\n",
              "      <button class=\"colab-df-convert\" onclick=\"convertToInteractive('df-55684fd6-fe9d-456f-be4e-df5e5f658548')\"\n",
              "              title=\"Convert this dataframe to an interactive table.\"\n",
              "              style=\"display:none;\">\n",
              "        \n",
              "  <svg xmlns=\"http://www.w3.org/2000/svg\" height=\"24px\"viewBox=\"0 0 24 24\"\n",
              "       width=\"24px\">\n",
              "    <path d=\"M0 0h24v24H0V0z\" fill=\"none\"/>\n",
              "    <path d=\"M18.56 5.44l.94 2.06.94-2.06 2.06-.94-2.06-.94-.94-2.06-.94 2.06-2.06.94zm-11 1L8.5 8.5l.94-2.06 2.06-.94-2.06-.94L8.5 2.5l-.94 2.06-2.06.94zm10 10l.94 2.06.94-2.06 2.06-.94-2.06-.94-.94-2.06-.94 2.06-2.06.94z\"/><path d=\"M17.41 7.96l-1.37-1.37c-.4-.4-.92-.59-1.43-.59-.52 0-1.04.2-1.43.59L10.3 9.45l-7.72 7.72c-.78.78-.78 2.05 0 2.83L4 21.41c.39.39.9.59 1.41.59.51 0 1.02-.2 1.41-.59l7.78-7.78 2.81-2.81c.8-.78.8-2.07 0-2.86zM5.41 20L4 18.59l7.72-7.72 1.47 1.35L5.41 20z\"/>\n",
              "  </svg>\n",
              "      </button>\n",
              "      \n",
              "  <style>\n",
              "    .colab-df-container {\n",
              "      display:flex;\n",
              "      flex-wrap:wrap;\n",
              "      gap: 12px;\n",
              "    }\n",
              "\n",
              "    .colab-df-convert {\n",
              "      background-color: #E8F0FE;\n",
              "      border: none;\n",
              "      border-radius: 50%;\n",
              "      cursor: pointer;\n",
              "      display: none;\n",
              "      fill: #1967D2;\n",
              "      height: 32px;\n",
              "      padding: 0 0 0 0;\n",
              "      width: 32px;\n",
              "    }\n",
              "\n",
              "    .colab-df-convert:hover {\n",
              "      background-color: #E2EBFA;\n",
              "      box-shadow: 0px 1px 2px rgba(60, 64, 67, 0.3), 0px 1px 3px 1px rgba(60, 64, 67, 0.15);\n",
              "      fill: #174EA6;\n",
              "    }\n",
              "\n",
              "    [theme=dark] .colab-df-convert {\n",
              "      background-color: #3B4455;\n",
              "      fill: #D2E3FC;\n",
              "    }\n",
              "\n",
              "    [theme=dark] .colab-df-convert:hover {\n",
              "      background-color: #434B5C;\n",
              "      box-shadow: 0px 1px 3px 1px rgba(0, 0, 0, 0.15);\n",
              "      filter: drop-shadow(0px 1px 2px rgba(0, 0, 0, 0.3));\n",
              "      fill: #FFFFFF;\n",
              "    }\n",
              "  </style>\n",
              "\n",
              "      <script>\n",
              "        const buttonEl =\n",
              "          document.querySelector('#df-55684fd6-fe9d-456f-be4e-df5e5f658548 button.colab-df-convert');\n",
              "        buttonEl.style.display =\n",
              "          google.colab.kernel.accessAllowed ? 'block' : 'none';\n",
              "\n",
              "        async function convertToInteractive(key) {\n",
              "          const element = document.querySelector('#df-55684fd6-fe9d-456f-be4e-df5e5f658548');\n",
              "          const dataTable =\n",
              "            await google.colab.kernel.invokeFunction('convertToInteractive',\n",
              "                                                     [key], {});\n",
              "          if (!dataTable) return;\n",
              "\n",
              "          const docLinkHtml = 'Like what you see? Visit the ' +\n",
              "            '<a target=\"_blank\" href=https://colab.research.google.com/notebooks/data_table.ipynb>data table notebook</a>'\n",
              "            + ' to learn more about interactive tables.';\n",
              "          element.innerHTML = '';\n",
              "          dataTable['output_type'] = 'display_data';\n",
              "          await google.colab.output.renderOutput(dataTable, element);\n",
              "          const docLink = document.createElement('div');\n",
              "          docLink.innerHTML = docLinkHtml;\n",
              "          element.appendChild(docLink);\n",
              "        }\n",
              "      </script>\n",
              "    </div>\n",
              "  </div>\n",
              "  "
            ],
            "text/plain": [
              "                       0      1      2    ...    356    357          358\n",
              "MAIN_AREA_true       576.0  220.0  240.0  ...  811.0  920.0  3034.000000\n",
              "MAIN_AREA_predicted  576.8  230.0  246.8  ...  781.5  971.5  2706.828496\n",
              "\n",
              "[2 rows x 359 columns]"
            ]
          },
          "metadata": {},
          "execution_count": 48
        }
      ]
    },
    {
      "cell_type": "markdown",
      "source": [
        "[Merging results from model predict with original pandas dataframe.](https://stackoverflow.com/questions/40729162/merging-results-from-model-predict-with-original-pandas-dataframe)\n"
      ],
      "metadata": {
        "id": "N6f5w6Tsop5m"
      }
    },
    {
      "cell_type": "code",
      "source": [
        "all_new_data_with_predictions = pd.merge(new_cellsdata, new_result_df, left_index=True, right_index=True)\n",
        "all_new_data_with_predictions.head(3)"
      ],
      "metadata": {
        "colab": {
          "base_uri": "https://localhost:8080/",
          "height": 312
        },
        "id": "zU27phUQkkF0",
        "outputId": "fc1cfd37-0ed6-4f70-8004-7b05267d9cd8"
      },
      "execution_count": 49,
      "outputs": [
        {
          "output_type": "execute_result",
          "data": {
            "text/html": [
              "\n",
              "  <div id=\"df-644935b3-c0cb-46de-821c-5ffb043aba01\">\n",
              "    <div class=\"colab-df-container\">\n",
              "      <div>\n",
              "<style scoped>\n",
              "    .dataframe tbody tr th:only-of-type {\n",
              "        vertical-align: middle;\n",
              "    }\n",
              "\n",
              "    .dataframe tbody tr th {\n",
              "        vertical-align: top;\n",
              "    }\n",
              "\n",
              "    .dataframe thead th {\n",
              "        text-align: right;\n",
              "    }\n",
              "</style>\n",
              "<table border=\"1\" class=\"dataframe\">\n",
              "  <thead>\n",
              "    <tr style=\"text-align: right;\">\n",
              "      <th></th>\n",
              "      <th>PL_NUMBER</th>\n",
              "      <th>PL_AREA</th>\n",
              "      <th>LANDUSE</th>\n",
              "      <th>MAIN_AREA</th>\n",
              "      <th>SERVICE_AREA</th>\n",
              "      <th>CELL_SIZE_TOTAL</th>\n",
              "      <th>CELL_SIZE_MIN</th>\n",
              "      <th>CELL_SIZE_MAX</th>\n",
              "      <th>HOUSING_UNITS</th>\n",
              "      <th>BUILDING_HEIGHT</th>\n",
              "      <th>FLOORS_NUM</th>\n",
              "      <th>TOTAL_AREA</th>\n",
              "      <th>AUTHORITY</th>\n",
              "      <th>DISTRICT</th>\n",
              "      <th>SECTOR_GROUP</th>\n",
              "      <th>CONFIRMATION_YEAR</th>\n",
              "      <th>CONSTRUCTION_TYPE_GROUP</th>\n",
              "      <th>MAIN_AREA_true</th>\n",
              "      <th>MAIN_AREA_predicted</th>\n",
              "    </tr>\n",
              "  </thead>\n",
              "  <tbody>\n",
              "    <tr>\n",
              "      <th>0</th>\n",
              "      <td>257-0744540</td>\n",
              "      <td>257-0744540-1</td>\n",
              "      <td>מגורים</td>\n",
              "      <td>576.0</td>\n",
              "      <td>96.0</td>\n",
              "      <td>400.0</td>\n",
              "      <td>0</td>\n",
              "      <td>0</td>\n",
              "      <td>0</td>\n",
              "      <td>12.5</td>\n",
              "      <td>4</td>\n",
              "      <td>672.0</td>\n",
              "      <td>מחוזית</td>\n",
              "      <td>צפון</td>\n",
              "      <td>חברה ערבית</td>\n",
              "      <td>2021</td>\n",
              "      <td>חדשה</td>\n",
              "      <td>576.0</td>\n",
              "      <td>576.8</td>\n",
              "    </tr>\n",
              "    <tr>\n",
              "      <th>1</th>\n",
              "      <td>633-0921650</td>\n",
              "      <td>633-0921650-13</td>\n",
              "      <td>מגורים</td>\n",
              "      <td>220.0</td>\n",
              "      <td>60.0</td>\n",
              "      <td>500.0</td>\n",
              "      <td>0</td>\n",
              "      <td>0</td>\n",
              "      <td>1</td>\n",
              "      <td>10.5</td>\n",
              "      <td>2</td>\n",
              "      <td>280.0</td>\n",
              "      <td>מחוזית</td>\n",
              "      <td>דרום</td>\n",
              "      <td>חברה כללית / מעורבת</td>\n",
              "      <td>2021</td>\n",
              "      <td>חדשה</td>\n",
              "      <td>220.0</td>\n",
              "      <td>230.0</td>\n",
              "    </tr>\n",
              "    <tr>\n",
              "      <th>2</th>\n",
              "      <td>633-0921650</td>\n",
              "      <td>633-0921650-11</td>\n",
              "      <td>מגורים</td>\n",
              "      <td>240.0</td>\n",
              "      <td>60.0</td>\n",
              "      <td>599.0</td>\n",
              "      <td>0</td>\n",
              "      <td>0</td>\n",
              "      <td>1</td>\n",
              "      <td>10.5</td>\n",
              "      <td>2</td>\n",
              "      <td>300.0</td>\n",
              "      <td>מחוזית</td>\n",
              "      <td>דרום</td>\n",
              "      <td>חברה כללית / מעורבת</td>\n",
              "      <td>2021</td>\n",
              "      <td>חדשה</td>\n",
              "      <td>240.0</td>\n",
              "      <td>246.8</td>\n",
              "    </tr>\n",
              "  </tbody>\n",
              "</table>\n",
              "</div>\n",
              "      <button class=\"colab-df-convert\" onclick=\"convertToInteractive('df-644935b3-c0cb-46de-821c-5ffb043aba01')\"\n",
              "              title=\"Convert this dataframe to an interactive table.\"\n",
              "              style=\"display:none;\">\n",
              "        \n",
              "  <svg xmlns=\"http://www.w3.org/2000/svg\" height=\"24px\"viewBox=\"0 0 24 24\"\n",
              "       width=\"24px\">\n",
              "    <path d=\"M0 0h24v24H0V0z\" fill=\"none\"/>\n",
              "    <path d=\"M18.56 5.44l.94 2.06.94-2.06 2.06-.94-2.06-.94-.94-2.06-.94 2.06-2.06.94zm-11 1L8.5 8.5l.94-2.06 2.06-.94-2.06-.94L8.5 2.5l-.94 2.06-2.06.94zm10 10l.94 2.06.94-2.06 2.06-.94-2.06-.94-.94-2.06-.94 2.06-2.06.94z\"/><path d=\"M17.41 7.96l-1.37-1.37c-.4-.4-.92-.59-1.43-.59-.52 0-1.04.2-1.43.59L10.3 9.45l-7.72 7.72c-.78.78-.78 2.05 0 2.83L4 21.41c.39.39.9.59 1.41.59.51 0 1.02-.2 1.41-.59l7.78-7.78 2.81-2.81c.8-.78.8-2.07 0-2.86zM5.41 20L4 18.59l7.72-7.72 1.47 1.35L5.41 20z\"/>\n",
              "  </svg>\n",
              "      </button>\n",
              "      \n",
              "  <style>\n",
              "    .colab-df-container {\n",
              "      display:flex;\n",
              "      flex-wrap:wrap;\n",
              "      gap: 12px;\n",
              "    }\n",
              "\n",
              "    .colab-df-convert {\n",
              "      background-color: #E8F0FE;\n",
              "      border: none;\n",
              "      border-radius: 50%;\n",
              "      cursor: pointer;\n",
              "      display: none;\n",
              "      fill: #1967D2;\n",
              "      height: 32px;\n",
              "      padding: 0 0 0 0;\n",
              "      width: 32px;\n",
              "    }\n",
              "\n",
              "    .colab-df-convert:hover {\n",
              "      background-color: #E2EBFA;\n",
              "      box-shadow: 0px 1px 2px rgba(60, 64, 67, 0.3), 0px 1px 3px 1px rgba(60, 64, 67, 0.15);\n",
              "      fill: #174EA6;\n",
              "    }\n",
              "\n",
              "    [theme=dark] .colab-df-convert {\n",
              "      background-color: #3B4455;\n",
              "      fill: #D2E3FC;\n",
              "    }\n",
              "\n",
              "    [theme=dark] .colab-df-convert:hover {\n",
              "      background-color: #434B5C;\n",
              "      box-shadow: 0px 1px 3px 1px rgba(0, 0, 0, 0.15);\n",
              "      filter: drop-shadow(0px 1px 2px rgba(0, 0, 0, 0.3));\n",
              "      fill: #FFFFFF;\n",
              "    }\n",
              "  </style>\n",
              "\n",
              "      <script>\n",
              "        const buttonEl =\n",
              "          document.querySelector('#df-644935b3-c0cb-46de-821c-5ffb043aba01 button.colab-df-convert');\n",
              "        buttonEl.style.display =\n",
              "          google.colab.kernel.accessAllowed ? 'block' : 'none';\n",
              "\n",
              "        async function convertToInteractive(key) {\n",
              "          const element = document.querySelector('#df-644935b3-c0cb-46de-821c-5ffb043aba01');\n",
              "          const dataTable =\n",
              "            await google.colab.kernel.invokeFunction('convertToInteractive',\n",
              "                                                     [key], {});\n",
              "          if (!dataTable) return;\n",
              "\n",
              "          const docLinkHtml = 'Like what you see? Visit the ' +\n",
              "            '<a target=\"_blank\" href=https://colab.research.google.com/notebooks/data_table.ipynb>data table notebook</a>'\n",
              "            + ' to learn more about interactive tables.';\n",
              "          element.innerHTML = '';\n",
              "          dataTable['output_type'] = 'display_data';\n",
              "          await google.colab.output.renderOutput(dataTable, element);\n",
              "          const docLink = document.createElement('div');\n",
              "          docLink.innerHTML = docLinkHtml;\n",
              "          element.appendChild(docLink);\n",
              "        }\n",
              "      </script>\n",
              "    </div>\n",
              "  </div>\n",
              "  "
            ],
            "text/plain": [
              "     PL_NUMBER         PL_AREA  ... MAIN_AREA_true  MAIN_AREA_predicted\n",
              "0  257-0744540   257-0744540-1  ...          576.0                576.8\n",
              "1  633-0921650  633-0921650-13  ...          220.0                230.0\n",
              "2  633-0921650  633-0921650-11  ...          240.0                246.8\n",
              "\n",
              "[3 rows x 19 columns]"
            ]
          },
          "metadata": {},
          "execution_count": 49
        }
      ]
    },
    {
      "cell_type": "code",
      "source": [
        "# from google.colab import files\n",
        "# all_new_data_with_predictions.to_csv('all_new_data_with_predictions.csv', encoding='utf-8-sig')\n",
        "# files.download(\"all_new_data_with_predictions.csv\")"
      ],
      "metadata": {
        "id": "VBARS4xpkxbf",
        "colab": {
          "base_uri": "https://localhost:8080/",
          "height": 17
        },
        "outputId": "46fda931-94ba-45f8-ba0c-8ee6a456d970"
      },
      "execution_count": 50,
      "outputs": [
        {
          "output_type": "display_data",
          "data": {
            "application/javascript": [
              "\n",
              "    async function download(id, filename, size) {\n",
              "      if (!google.colab.kernel.accessAllowed) {\n",
              "        return;\n",
              "      }\n",
              "      const div = document.createElement('div');\n",
              "      const label = document.createElement('label');\n",
              "      label.textContent = `Downloading \"${filename}\": `;\n",
              "      div.appendChild(label);\n",
              "      const progress = document.createElement('progress');\n",
              "      progress.max = size;\n",
              "      div.appendChild(progress);\n",
              "      document.body.appendChild(div);\n",
              "\n",
              "      const buffers = [];\n",
              "      let downloaded = 0;\n",
              "\n",
              "      const channel = await google.colab.kernel.comms.open(id);\n",
              "      // Send a message to notify the kernel that we're ready.\n",
              "      channel.send({})\n",
              "\n",
              "      for await (const message of channel.messages) {\n",
              "        // Send a message to notify the kernel that we're ready.\n",
              "        channel.send({})\n",
              "        if (message.buffers) {\n",
              "          for (const buffer of message.buffers) {\n",
              "            buffers.push(buffer);\n",
              "            downloaded += buffer.byteLength;\n",
              "            progress.value = downloaded;\n",
              "          }\n",
              "        }\n",
              "      }\n",
              "      const blob = new Blob(buffers, {type: 'application/binary'});\n",
              "      const a = document.createElement('a');\n",
              "      a.href = window.URL.createObjectURL(blob);\n",
              "      a.download = filename;\n",
              "      div.appendChild(a);\n",
              "      a.click();\n",
              "      div.remove();\n",
              "    }\n",
              "  "
            ],
            "text/plain": [
              "<IPython.core.display.Javascript object>"
            ]
          },
          "metadata": {}
        },
        {
          "output_type": "display_data",
          "data": {
            "application/javascript": [
              "download(\"download_0836cbd5-5d88-41be-9733-166fbdbbd2fe\", \"all_new_data_with_predictions.csv\", 63725)"
            ],
            "text/plain": [
              "<IPython.core.display.Javascript object>"
            ]
          },
          "metadata": {}
        }
      ]
    },
    {
      "cell_type": "markdown",
      "source": [
        "Let's try now linear regression model and see how it affect the results.<BR>The feture cloumns will be all the features with at least 0.5 Pearson correlation coefficient. "
      ],
      "metadata": {
        "id": "rOZC_4gWE5SK"
      }
    },
    {
      "cell_type": "code",
      "source": [
        "corr.loc['MAIN_AREA'].sort_values(ascending=False).head(10)"
      ],
      "metadata": {
        "colab": {
          "base_uri": "https://localhost:8080/"
        },
        "id": "dPwN5ERGGDW7",
        "outputId": "eb776b0b-9f1f-4863-b8f6-4e879a425507"
      },
      "execution_count": 51,
      "outputs": [
        {
          "output_type": "execute_result",
          "data": {
            "text/plain": [
              "MAIN_AREA             1.000000\n",
              "TOTAL_AREA            0.996335\n",
              "HOUSING_UNITS         0.834821\n",
              "FLOORS_NUM            0.658868\n",
              "CELL_SIZE_TOTAL       0.609265\n",
              "BUILDING_HEIGHT       0.587021\n",
              "DISTRICT_TEL_AVIV     0.279853\n",
              "IS_TAMAL              0.185409\n",
              "AUTHORITY_COUNTRY     0.185409\n",
              "AUTHORITY_DISTRICT    0.185409\n",
              "Name: MAIN_AREA, dtype: float64"
            ]
          },
          "metadata": {},
          "execution_count": 51
        }
      ]
    },
    {
      "cell_type": "code",
      "source": [
        "feature_cols_linear_reg = ['TOTAL_AREA', 'HOUSING_UNITS', 'FLOORS_NUM', 'CELL_SIZE_TOTAL', 'BUILDING_HEIGHT'] "
      ],
      "metadata": {
        "id": "sltIIzxqFKHS"
      },
      "execution_count": 120,
      "outputs": []
    },
    {
      "cell_type": "code",
      "source": [
        "X = dummies_data[feature_cols_linear_reg]\n",
        "y = dummies_data['MAIN_AREA']"
      ],
      "metadata": {
        "id": "-eCiChfgGcdM"
      },
      "execution_count": 121,
      "outputs": []
    },
    {
      "cell_type": "code",
      "source": [
        "X_train, X_test, y_train, y_test = train_test_split(X, y, test_size = 1/3, random_state = 0)"
      ],
      "metadata": {
        "id": "iLrnZxP1HGfs"
      },
      "execution_count": 122,
      "outputs": []
    },
    {
      "cell_type": "code",
      "source": [
        "from sklearn.linear_model import LinearRegression, Ridge, Lasso\n",
        "\n",
        "lr = LinearRegression()\n",
        "lr.fit(X_train, y_train)\n",
        "\n",
        "rr = Ridge()\n",
        "rr.fit(X_train, y_train)\n",
        "\n",
        "lassor = Lasso()\n",
        "lassor.fit(X_train, y_train)"
      ],
      "metadata": {
        "colab": {
          "base_uri": "https://localhost:8080/"
        },
        "id": "cK4p9rOHHHnh",
        "outputId": "5a416f57-1272-43ef-d84e-07076dc0d18c"
      },
      "execution_count": 123,
      "outputs": [
        {
          "output_type": "execute_result",
          "data": {
            "text/plain": [
              "Lasso()"
            ]
          },
          "metadata": {},
          "execution_count": 123
        }
      ]
    },
    {
      "cell_type": "code",
      "source": [
        "lr_y_pred = lr.predict(X_test)\n",
        "rr_y_pred = rr.predict(X_test)\n",
        "lassor_y_pred = lassor.predict(X_test)"
      ],
      "metadata": {
        "id": "kof5pUKgHU8S"
      },
      "execution_count": 124,
      "outputs": []
    },
    {
      "cell_type": "code",
      "source": [
        "lr_mae = mean_absolute_error(y_test, lr_y_pred)\n",
        "rr_mae = mean_absolute_error(y_test, rr_y_pred)\n",
        "lassor_mae = mean_absolute_error(y_test, lassor_y_pred)\n",
        "\n",
        "lr_mse = mean_squared_error(y_test, lr_y_pred)\n",
        "rr_mse = mean_squared_error(y_test, rr_y_pred)\n",
        "lassor_mse = mean_squared_error(y_test, lassor_y_pred)\n",
        "\n",
        "lr_rmse = mean_squared_error(y_test, lr_y_pred, squared=False)\n",
        "rr_rmse = mean_squared_error(y_test, rr_y_pred, squared=False)\n",
        "lassor_rmse = mean_squared_error(y_test, lassor_y_pred, squared=False)\n",
        "\n",
        "lr_rsquared = r2_score(y_test, lr_y_pred)\n",
        "rr_rsquared = r2_score(y_test, rr_y_pred)\n",
        "lassor_rsquared = r2_score(y_test, lassor_y_pred)\n",
        "\n",
        "print(\"lr_MAE:\", lr_mae, \"rr_MAE:\", rr_mae, \"lassor_MAE:\", lassor_mae)\n",
        "print(\"lr_MSE:\", lr_mse, \"rr_MSE:\", rr_mse, \"lassor_MSE:\", lassor_mse)\n",
        "print(\"lr_RMSE:\", lr_rmse, \"rr_RMSE:\", rr_rmse, \"lassor_RMSE:\", lassor_rmse)\n",
        "print(\"lr_R Squared:\", lr_rsquared, \"rr_R Squared:\", rr_rsquared, \"lassor_R Squared:\", lassor_rsquared)\n"
      ],
      "metadata": {
        "colab": {
          "base_uri": "https://localhost:8080/"
        },
        "id": "IVwU950vIHTS",
        "outputId": "55f7767c-fb27-4d0f-f585-ddd312e89d72"
      },
      "execution_count": 125,
      "outputs": [
        {
          "output_type": "stream",
          "name": "stdout",
          "text": [
            "lr_MAE: 155.96607550317964 rr_MAE: 155.96604241920176 lassor_MAE: 155.9430593440039\n",
            "lr_MSE: 113764.5899709464 rr_MSE: 113764.73388702082 lassor_MSE: 113827.70575845748\n",
            "lr_RMSE: 337.29006799926145 rr_RMSE: 337.29028134089606 lassor_RMSE: 337.3836180943845\n",
            "lr_R Squared: 0.9882045259314431 rr_R Squared: 0.9882045110097674 lassor_R Squared: 0.9881979818861027\n"
          ]
        }
      ]
    },
    {
      "cell_type": "markdown",
      "source": [
        "Better results!"
      ],
      "metadata": {
        "id": "2GdCEPzNVssK"
      }
    },
    {
      "cell_type": "code",
      "source": [
        "lr_result_df = pd.DataFrame(y_test)\n",
        "lr_result_df['y_pred'] = lr_y_pred\n",
        "lr_result_df.columns = ['MAIN_AREA_true', 'MAIN_AREA_predicted']\n",
        "lr_result_df.T"
      ],
      "metadata": {
        "colab": {
          "base_uri": "https://localhost:8080/",
          "height": 205
        },
        "id": "Xq8qpNAVjuoD",
        "outputId": "f4752845-f768-46e6-cbdd-0f22cd182b75"
      },
      "execution_count": 131,
      "outputs": [
        {
          "output_type": "execute_result",
          "data": {
            "text/html": [
              "\n",
              "  <div id=\"df-aeb2be1c-4fc1-4230-9afe-e8a3de4d58d1\">\n",
              "    <div class=\"colab-df-container\">\n",
              "      <div>\n",
              "<style scoped>\n",
              "    .dataframe tbody tr th:only-of-type {\n",
              "        vertical-align: middle;\n",
              "    }\n",
              "\n",
              "    .dataframe tbody tr th {\n",
              "        vertical-align: top;\n",
              "    }\n",
              "\n",
              "    .dataframe thead th {\n",
              "        text-align: right;\n",
              "    }\n",
              "</style>\n",
              "<table border=\"1\" class=\"dataframe\">\n",
              "  <thead>\n",
              "    <tr style=\"text-align: right;\">\n",
              "      <th></th>\n",
              "      <th>13599</th>\n",
              "      <th>13205</th>\n",
              "      <th>12836</th>\n",
              "      <th>13345</th>\n",
              "      <th>12719</th>\n",
              "      <th>12916</th>\n",
              "      <th>6852</th>\n",
              "      <th>12617</th>\n",
              "      <th>11207</th>\n",
              "      <th>13371</th>\n",
              "      <th>13140</th>\n",
              "      <th>1907</th>\n",
              "      <th>11719</th>\n",
              "      <th>5330</th>\n",
              "      <th>13220</th>\n",
              "      <th>10268</th>\n",
              "      <th>12820</th>\n",
              "      <th>12528</th>\n",
              "      <th>11637</th>\n",
              "      <th>2658</th>\n",
              "      <th>13457</th>\n",
              "      <th>3126</th>\n",
              "      <th>12146</th>\n",
              "      <th>9984</th>\n",
              "      <th>12254</th>\n",
              "      <th>13578</th>\n",
              "      <th>12340</th>\n",
              "      <th>12893</th>\n",
              "      <th>12321</th>\n",
              "      <th>11471</th>\n",
              "      <th>13203</th>\n",
              "      <th>12497</th>\n",
              "      <th>13691</th>\n",
              "      <th>1273</th>\n",
              "      <th>12624</th>\n",
              "      <th>7488</th>\n",
              "      <th>12705</th>\n",
              "      <th>12181</th>\n",
              "      <th>13481</th>\n",
              "      <th>10316</th>\n",
              "      <th>...</th>\n",
              "      <th>1682</th>\n",
              "      <th>13237</th>\n",
              "      <th>13286</th>\n",
              "      <th>12537</th>\n",
              "      <th>2458</th>\n",
              "      <th>1557</th>\n",
              "      <th>13182</th>\n",
              "      <th>13055</th>\n",
              "      <th>13169</th>\n",
              "      <th>11747</th>\n",
              "      <th>9948</th>\n",
              "      <th>12712</th>\n",
              "      <th>13256</th>\n",
              "      <th>13222</th>\n",
              "      <th>1604</th>\n",
              "      <th>12529</th>\n",
              "      <th>6781</th>\n",
              "      <th>12237</th>\n",
              "      <th>5163</th>\n",
              "      <th>12126</th>\n",
              "      <th>13553</th>\n",
              "      <th>4702</th>\n",
              "      <th>11205</th>\n",
              "      <th>13122</th>\n",
              "      <th>12021</th>\n",
              "      <th>13132</th>\n",
              "      <th>13666</th>\n",
              "      <th>11380</th>\n",
              "      <th>11720</th>\n",
              "      <th>12229</th>\n",
              "      <th>11355</th>\n",
              "      <th>13066</th>\n",
              "      <th>13395</th>\n",
              "      <th>6516</th>\n",
              "      <th>11973</th>\n",
              "      <th>11779</th>\n",
              "      <th>13104</th>\n",
              "      <th>12435</th>\n",
              "      <th>13078</th>\n",
              "      <th>13533</th>\n",
              "    </tr>\n",
              "  </thead>\n",
              "  <tbody>\n",
              "    <tr>\n",
              "      <th>MAIN_AREA_true</th>\n",
              "      <td>1002.000000</td>\n",
              "      <td>528.000000</td>\n",
              "      <td>963.000000</td>\n",
              "      <td>730.300000</td>\n",
              "      <td>431.990000</td>\n",
              "      <td>778.200000</td>\n",
              "      <td>320.00000</td>\n",
              "      <td>706.660000</td>\n",
              "      <td>400.000000</td>\n",
              "      <td>1126.300000</td>\n",
              "      <td>697.95000</td>\n",
              "      <td>9880.000000</td>\n",
              "      <td>280.000000</td>\n",
              "      <td>2173.500000</td>\n",
              "      <td>4450.000000</td>\n",
              "      <td>19140.000000</td>\n",
              "      <td>1162.800000</td>\n",
              "      <td>4705.000000</td>\n",
              "      <td>400.000000</td>\n",
              "      <td>288.000000</td>\n",
              "      <td>664.000000</td>\n",
              "      <td>452.000000</td>\n",
              "      <td>190.000000</td>\n",
              "      <td>5565.000000</td>\n",
              "      <td>1288.400000</td>\n",
              "      <td>404.250000</td>\n",
              "      <td>1421.200000</td>\n",
              "      <td>1104.750000</td>\n",
              "      <td>974.800000</td>\n",
              "      <td>1155.080000</td>\n",
              "      <td>217.320000</td>\n",
              "      <td>270.000000</td>\n",
              "      <td>718.000000</td>\n",
              "      <td>15550.000000</td>\n",
              "      <td>554.800000</td>\n",
              "      <td>840.000000</td>\n",
              "      <td>604.200000</td>\n",
              "      <td>763.000000</td>\n",
              "      <td>725.030000</td>\n",
              "      <td>2676.900000</td>\n",
              "      <td>...</td>\n",
              "      <td>828.000000</td>\n",
              "      <td>885.500000</td>\n",
              "      <td>440.400000</td>\n",
              "      <td>2050.000000</td>\n",
              "      <td>896.700000</td>\n",
              "      <td>500.000000</td>\n",
              "      <td>544.000000</td>\n",
              "      <td>576.000000</td>\n",
              "      <td>250.000000</td>\n",
              "      <td>718.760000</td>\n",
              "      <td>640.000000</td>\n",
              "      <td>9785.000000</td>\n",
              "      <td>561.000000</td>\n",
              "      <td>1773.610000</td>\n",
              "      <td>12211.000000</td>\n",
              "      <td>503.620000</td>\n",
              "      <td>5460.000000</td>\n",
              "      <td>399.000000</td>\n",
              "      <td>16458.000000</td>\n",
              "      <td>158.000000</td>\n",
              "      <td>1172.00000</td>\n",
              "      <td>871.000000</td>\n",
              "      <td>2173.000000</td>\n",
              "      <td>2022.000000</td>\n",
              "      <td>366.110000</td>\n",
              "      <td>1099.64000</td>\n",
              "      <td>558.000000</td>\n",
              "      <td>2330.000000</td>\n",
              "      <td>1200.000000</td>\n",
              "      <td>250.000000</td>\n",
              "      <td>2000.000000</td>\n",
              "      <td>926.000000</td>\n",
              "      <td>700.000000</td>\n",
              "      <td>1122.510000</td>\n",
              "      <td>885.000000</td>\n",
              "      <td>18630.000000</td>\n",
              "      <td>576.000000</td>\n",
              "      <td>2163.350000</td>\n",
              "      <td>601.500000</td>\n",
              "      <td>880.000000</td>\n",
              "    </tr>\n",
              "    <tr>\n",
              "      <th>MAIN_AREA_predicted</th>\n",
              "      <td>901.053663</td>\n",
              "      <td>546.722351</td>\n",
              "      <td>1012.221797</td>\n",
              "      <td>849.730469</td>\n",
              "      <td>478.520789</td>\n",
              "      <td>805.186774</td>\n",
              "      <td>447.89682</td>\n",
              "      <td>685.344623</td>\n",
              "      <td>541.841358</td>\n",
              "      <td>932.740966</td>\n",
              "      <td>718.05637</td>\n",
              "      <td>10481.064313</td>\n",
              "      <td>386.578513</td>\n",
              "      <td>1945.319537</td>\n",
              "      <td>4033.160879</td>\n",
              "      <td>19707.688625</td>\n",
              "      <td>1099.855145</td>\n",
              "      <td>4390.036763</td>\n",
              "      <td>402.606627</td>\n",
              "      <td>458.254628</td>\n",
              "      <td>658.970872</td>\n",
              "      <td>587.801104</td>\n",
              "      <td>277.435756</td>\n",
              "      <td>6266.738514</td>\n",
              "      <td>1157.117979</td>\n",
              "      <td>435.008056</td>\n",
              "      <td>1181.131851</td>\n",
              "      <td>1071.727335</td>\n",
              "      <td>897.184453</td>\n",
              "      <td>1046.120795</td>\n",
              "      <td>281.148891</td>\n",
              "      <td>420.055873</td>\n",
              "      <td>681.679852</td>\n",
              "      <td>17977.459706</td>\n",
              "      <td>529.739088</td>\n",
              "      <td>811.372702</td>\n",
              "      <td>610.726533</td>\n",
              "      <td>680.030972</td>\n",
              "      <td>754.568145</td>\n",
              "      <td>2510.835061</td>\n",
              "      <td>...</td>\n",
              "      <td>896.423478</td>\n",
              "      <td>838.626078</td>\n",
              "      <td>455.208809</td>\n",
              "      <td>2165.689963</td>\n",
              "      <td>814.753185</td>\n",
              "      <td>602.158082</td>\n",
              "      <td>557.449297</td>\n",
              "      <td>575.372766</td>\n",
              "      <td>333.425654</td>\n",
              "      <td>867.339512</td>\n",
              "      <td>721.915547</td>\n",
              "      <td>9792.907605</td>\n",
              "      <td>578.044168</td>\n",
              "      <td>1653.291813</td>\n",
              "      <td>11280.843437</td>\n",
              "      <td>585.992743</td>\n",
              "      <td>5775.556811</td>\n",
              "      <td>442.977905</td>\n",
              "      <td>17883.949862</td>\n",
              "      <td>263.202835</td>\n",
              "      <td>1024.96689</td>\n",
              "      <td>810.905525</td>\n",
              "      <td>2071.657353</td>\n",
              "      <td>1737.167796</td>\n",
              "      <td>415.442943</td>\n",
              "      <td>1052.33894</td>\n",
              "      <td>559.787854</td>\n",
              "      <td>2384.357487</td>\n",
              "      <td>1059.923585</td>\n",
              "      <td>336.037879</td>\n",
              "      <td>2034.164779</td>\n",
              "      <td>817.910471</td>\n",
              "      <td>706.551409</td>\n",
              "      <td>1103.380669</td>\n",
              "      <td>799.561775</td>\n",
              "      <td>17622.114716</td>\n",
              "      <td>587.048976</td>\n",
              "      <td>2065.696684</td>\n",
              "      <td>642.024666</td>\n",
              "      <td>851.270753</td>\n",
              "    </tr>\n",
              "  </tbody>\n",
              "</table>\n",
              "<p>2 rows × 859 columns</p>\n",
              "</div>\n",
              "      <button class=\"colab-df-convert\" onclick=\"convertToInteractive('df-aeb2be1c-4fc1-4230-9afe-e8a3de4d58d1')\"\n",
              "              title=\"Convert this dataframe to an interactive table.\"\n",
              "              style=\"display:none;\">\n",
              "        \n",
              "  <svg xmlns=\"http://www.w3.org/2000/svg\" height=\"24px\"viewBox=\"0 0 24 24\"\n",
              "       width=\"24px\">\n",
              "    <path d=\"M0 0h24v24H0V0z\" fill=\"none\"/>\n",
              "    <path d=\"M18.56 5.44l.94 2.06.94-2.06 2.06-.94-2.06-.94-.94-2.06-.94 2.06-2.06.94zm-11 1L8.5 8.5l.94-2.06 2.06-.94-2.06-.94L8.5 2.5l-.94 2.06-2.06.94zm10 10l.94 2.06.94-2.06 2.06-.94-2.06-.94-.94-2.06-.94 2.06-2.06.94z\"/><path d=\"M17.41 7.96l-1.37-1.37c-.4-.4-.92-.59-1.43-.59-.52 0-1.04.2-1.43.59L10.3 9.45l-7.72 7.72c-.78.78-.78 2.05 0 2.83L4 21.41c.39.39.9.59 1.41.59.51 0 1.02-.2 1.41-.59l7.78-7.78 2.81-2.81c.8-.78.8-2.07 0-2.86zM5.41 20L4 18.59l7.72-7.72 1.47 1.35L5.41 20z\"/>\n",
              "  </svg>\n",
              "      </button>\n",
              "      \n",
              "  <style>\n",
              "    .colab-df-container {\n",
              "      display:flex;\n",
              "      flex-wrap:wrap;\n",
              "      gap: 12px;\n",
              "    }\n",
              "\n",
              "    .colab-df-convert {\n",
              "      background-color: #E8F0FE;\n",
              "      border: none;\n",
              "      border-radius: 50%;\n",
              "      cursor: pointer;\n",
              "      display: none;\n",
              "      fill: #1967D2;\n",
              "      height: 32px;\n",
              "      padding: 0 0 0 0;\n",
              "      width: 32px;\n",
              "    }\n",
              "\n",
              "    .colab-df-convert:hover {\n",
              "      background-color: #E2EBFA;\n",
              "      box-shadow: 0px 1px 2px rgba(60, 64, 67, 0.3), 0px 1px 3px 1px rgba(60, 64, 67, 0.15);\n",
              "      fill: #174EA6;\n",
              "    }\n",
              "\n",
              "    [theme=dark] .colab-df-convert {\n",
              "      background-color: #3B4455;\n",
              "      fill: #D2E3FC;\n",
              "    }\n",
              "\n",
              "    [theme=dark] .colab-df-convert:hover {\n",
              "      background-color: #434B5C;\n",
              "      box-shadow: 0px 1px 3px 1px rgba(0, 0, 0, 0.15);\n",
              "      filter: drop-shadow(0px 1px 2px rgba(0, 0, 0, 0.3));\n",
              "      fill: #FFFFFF;\n",
              "    }\n",
              "  </style>\n",
              "\n",
              "      <script>\n",
              "        const buttonEl =\n",
              "          document.querySelector('#df-aeb2be1c-4fc1-4230-9afe-e8a3de4d58d1 button.colab-df-convert');\n",
              "        buttonEl.style.display =\n",
              "          google.colab.kernel.accessAllowed ? 'block' : 'none';\n",
              "\n",
              "        async function convertToInteractive(key) {\n",
              "          const element = document.querySelector('#df-aeb2be1c-4fc1-4230-9afe-e8a3de4d58d1');\n",
              "          const dataTable =\n",
              "            await google.colab.kernel.invokeFunction('convertToInteractive',\n",
              "                                                     [key], {});\n",
              "          if (!dataTable) return;\n",
              "\n",
              "          const docLinkHtml = 'Like what you see? Visit the ' +\n",
              "            '<a target=\"_blank\" href=https://colab.research.google.com/notebooks/data_table.ipynb>data table notebook</a>'\n",
              "            + ' to learn more about interactive tables.';\n",
              "          element.innerHTML = '';\n",
              "          dataTable['output_type'] = 'display_data';\n",
              "          await google.colab.output.renderOutput(dataTable, element);\n",
              "          const docLink = document.createElement('div');\n",
              "          docLink.innerHTML = docLinkHtml;\n",
              "          element.appendChild(docLink);\n",
              "        }\n",
              "      </script>\n",
              "    </div>\n",
              "  </div>\n",
              "  "
            ],
            "text/plain": [
              "                           13599       13205  ...       13078       13533\n",
              "MAIN_AREA_true       1002.000000  528.000000  ...  601.500000  880.000000\n",
              "MAIN_AREA_predicted   901.053663  546.722351  ...  642.024666  851.270753\n",
              "\n",
              "[2 rows x 859 columns]"
            ]
          },
          "metadata": {},
          "execution_count": 131
        }
      ]
    },
    {
      "cell_type": "code",
      "source": [
        "lr_all_data_with_predictions = pd.merge(cellsdata, lr_result_df, left_index=True, right_index=True)\n",
        "lr_all_data_with_predictions.head(3)"
      ],
      "metadata": {
        "colab": {
          "base_uri": "https://localhost:8080/",
          "height": 294
        },
        "id": "XY9GnIqVkAZx",
        "outputId": "0ef5c19a-5275-46b3-8341-f6b60de58fbf"
      },
      "execution_count": 132,
      "outputs": [
        {
          "output_type": "execute_result",
          "data": {
            "text/html": [
              "\n",
              "  <div id=\"df-dd190437-2e82-48ea-8cee-605aac3c0142\">\n",
              "    <div class=\"colab-df-container\">\n",
              "      <div>\n",
              "<style scoped>\n",
              "    .dataframe tbody tr th:only-of-type {\n",
              "        vertical-align: middle;\n",
              "    }\n",
              "\n",
              "    .dataframe tbody tr th {\n",
              "        vertical-align: top;\n",
              "    }\n",
              "\n",
              "    .dataframe thead th {\n",
              "        text-align: right;\n",
              "    }\n",
              "</style>\n",
              "<table border=\"1\" class=\"dataframe\">\n",
              "  <thead>\n",
              "    <tr style=\"text-align: right;\">\n",
              "      <th></th>\n",
              "      <th>PL_NUMBER</th>\n",
              "      <th>PL_AREA</th>\n",
              "      <th>LANDUSE</th>\n",
              "      <th>MAIN_AREA</th>\n",
              "      <th>SERVICE_AREA</th>\n",
              "      <th>CELL_SIZE_TOTAL</th>\n",
              "      <th>CELL_SIZE_MIN</th>\n",
              "      <th>CELL_SIZE_MAX</th>\n",
              "      <th>HOUSING_UNITS</th>\n",
              "      <th>BUILDING_HEIGHT</th>\n",
              "      <th>FLOORS_NUM</th>\n",
              "      <th>TOTAL_AREA</th>\n",
              "      <th>AUTHORITY</th>\n",
              "      <th>DISTRICT</th>\n",
              "      <th>SECTOR_GROUP</th>\n",
              "      <th>CONFIRMATION_YEAR</th>\n",
              "      <th>CONSTRUCTION_TYPE_GROUP</th>\n",
              "      <th>MAIN_AREA_true</th>\n",
              "      <th>MAIN_AREA_predicted</th>\n",
              "    </tr>\n",
              "  </thead>\n",
              "  <tbody>\n",
              "    <tr>\n",
              "      <th>2</th>\n",
              "      <td>151-0392894</td>\n",
              "      <td>151-0392894-210</td>\n",
              "      <td>מגורים</td>\n",
              "      <td>960.0</td>\n",
              "      <td>180.0</td>\n",
              "      <td>2820.0</td>\n",
              "      <td>0.0</td>\n",
              "      <td>0.0</td>\n",
              "      <td>6.0</td>\n",
              "      <td>17.0</td>\n",
              "      <td>4.0</td>\n",
              "      <td>1140.0</td>\n",
              "      <td>מחוזית</td>\n",
              "      <td>ירושלים</td>\n",
              "      <td>חברה כללית / מעורבת</td>\n",
              "      <td>2017</td>\n",
              "      <td>התחדשות</td>\n",
              "      <td>960.0</td>\n",
              "      <td>968.436412</td>\n",
              "    </tr>\n",
              "    <tr>\n",
              "      <th>322</th>\n",
              "      <td>תמל/ 1029</td>\n",
              "      <td>תמל/ 1029-215</td>\n",
              "      <td>מגורים</td>\n",
              "      <td>675.0</td>\n",
              "      <td>225.0</td>\n",
              "      <td>563.0</td>\n",
              "      <td>0.0</td>\n",
              "      <td>0.0</td>\n",
              "      <td>4.0</td>\n",
              "      <td>21.0</td>\n",
              "      <td>4.0</td>\n",
              "      <td>900.0</td>\n",
              "      <td>ארצית</td>\n",
              "      <td>צפון</td>\n",
              "      <td>חברה ערבית</td>\n",
              "      <td>2018</td>\n",
              "      <td>חדשה</td>\n",
              "      <td>675.0</td>\n",
              "      <td>744.107609</td>\n",
              "    </tr>\n",
              "    <tr>\n",
              "      <th>431</th>\n",
              "      <td>251-0221648</td>\n",
              "      <td>251-0221648-1</td>\n",
              "      <td>מגורים</td>\n",
              "      <td>308.0</td>\n",
              "      <td>22.0</td>\n",
              "      <td>440.0</td>\n",
              "      <td>0.0</td>\n",
              "      <td>0.0</td>\n",
              "      <td>4.0</td>\n",
              "      <td>7.0</td>\n",
              "      <td>2.0</td>\n",
              "      <td>330.0</td>\n",
              "      <td>מחוזית</td>\n",
              "      <td>צפון</td>\n",
              "      <td>חברה כללית / מעורבת</td>\n",
              "      <td>2017</td>\n",
              "      <td>חדשה</td>\n",
              "      <td>308.0</td>\n",
              "      <td>356.913836</td>\n",
              "    </tr>\n",
              "  </tbody>\n",
              "</table>\n",
              "</div>\n",
              "      <button class=\"colab-df-convert\" onclick=\"convertToInteractive('df-dd190437-2e82-48ea-8cee-605aac3c0142')\"\n",
              "              title=\"Convert this dataframe to an interactive table.\"\n",
              "              style=\"display:none;\">\n",
              "        \n",
              "  <svg xmlns=\"http://www.w3.org/2000/svg\" height=\"24px\"viewBox=\"0 0 24 24\"\n",
              "       width=\"24px\">\n",
              "    <path d=\"M0 0h24v24H0V0z\" fill=\"none\"/>\n",
              "    <path d=\"M18.56 5.44l.94 2.06.94-2.06 2.06-.94-2.06-.94-.94-2.06-.94 2.06-2.06.94zm-11 1L8.5 8.5l.94-2.06 2.06-.94-2.06-.94L8.5 2.5l-.94 2.06-2.06.94zm10 10l.94 2.06.94-2.06 2.06-.94-2.06-.94-.94-2.06-.94 2.06-2.06.94z\"/><path d=\"M17.41 7.96l-1.37-1.37c-.4-.4-.92-.59-1.43-.59-.52 0-1.04.2-1.43.59L10.3 9.45l-7.72 7.72c-.78.78-.78 2.05 0 2.83L4 21.41c.39.39.9.59 1.41.59.51 0 1.02-.2 1.41-.59l7.78-7.78 2.81-2.81c.8-.78.8-2.07 0-2.86zM5.41 20L4 18.59l7.72-7.72 1.47 1.35L5.41 20z\"/>\n",
              "  </svg>\n",
              "      </button>\n",
              "      \n",
              "  <style>\n",
              "    .colab-df-container {\n",
              "      display:flex;\n",
              "      flex-wrap:wrap;\n",
              "      gap: 12px;\n",
              "    }\n",
              "\n",
              "    .colab-df-convert {\n",
              "      background-color: #E8F0FE;\n",
              "      border: none;\n",
              "      border-radius: 50%;\n",
              "      cursor: pointer;\n",
              "      display: none;\n",
              "      fill: #1967D2;\n",
              "      height: 32px;\n",
              "      padding: 0 0 0 0;\n",
              "      width: 32px;\n",
              "    }\n",
              "\n",
              "    .colab-df-convert:hover {\n",
              "      background-color: #E2EBFA;\n",
              "      box-shadow: 0px 1px 2px rgba(60, 64, 67, 0.3), 0px 1px 3px 1px rgba(60, 64, 67, 0.15);\n",
              "      fill: #174EA6;\n",
              "    }\n",
              "\n",
              "    [theme=dark] .colab-df-convert {\n",
              "      background-color: #3B4455;\n",
              "      fill: #D2E3FC;\n",
              "    }\n",
              "\n",
              "    [theme=dark] .colab-df-convert:hover {\n",
              "      background-color: #434B5C;\n",
              "      box-shadow: 0px 1px 3px 1px rgba(0, 0, 0, 0.15);\n",
              "      filter: drop-shadow(0px 1px 2px rgba(0, 0, 0, 0.3));\n",
              "      fill: #FFFFFF;\n",
              "    }\n",
              "  </style>\n",
              "\n",
              "      <script>\n",
              "        const buttonEl =\n",
              "          document.querySelector('#df-dd190437-2e82-48ea-8cee-605aac3c0142 button.colab-df-convert');\n",
              "        buttonEl.style.display =\n",
              "          google.colab.kernel.accessAllowed ? 'block' : 'none';\n",
              "\n",
              "        async function convertToInteractive(key) {\n",
              "          const element = document.querySelector('#df-dd190437-2e82-48ea-8cee-605aac3c0142');\n",
              "          const dataTable =\n",
              "            await google.colab.kernel.invokeFunction('convertToInteractive',\n",
              "                                                     [key], {});\n",
              "          if (!dataTable) return;\n",
              "\n",
              "          const docLinkHtml = 'Like what you see? Visit the ' +\n",
              "            '<a target=\"_blank\" href=https://colab.research.google.com/notebooks/data_table.ipynb>data table notebook</a>'\n",
              "            + ' to learn more about interactive tables.';\n",
              "          element.innerHTML = '';\n",
              "          dataTable['output_type'] = 'display_data';\n",
              "          await google.colab.output.renderOutput(dataTable, element);\n",
              "          const docLink = document.createElement('div');\n",
              "          docLink.innerHTML = docLinkHtml;\n",
              "          element.appendChild(docLink);\n",
              "        }\n",
              "      </script>\n",
              "    </div>\n",
              "  </div>\n",
              "  "
            ],
            "text/plain": [
              "       PL_NUMBER          PL_AREA  ... MAIN_AREA_true  MAIN_AREA_predicted\n",
              "2    151-0392894  151-0392894-210  ...          960.0           968.436412\n",
              "322    תמל/ 1029    תמל/ 1029-215  ...          675.0           744.107609\n",
              "431  251-0221648    251-0221648-1  ...          308.0           356.913836\n",
              "\n",
              "[3 rows x 19 columns]"
            ]
          },
          "metadata": {},
          "execution_count": 132
        }
      ]
    },
    {
      "cell_type": "code",
      "source": [
        "lr_all_data_with_predictions.to_csv('lr_all_data_with_predictions.csv', encoding='utf-8-sig')\n",
        "files.download(\"lr_all_data_with_predictions.csv\")"
      ],
      "metadata": {
        "colab": {
          "base_uri": "https://localhost:8080/",
          "height": 17
        },
        "id": "MKz0jawwkKNh",
        "outputId": "ac2dd156-f07c-4323-894e-00760497e369"
      },
      "execution_count": 133,
      "outputs": [
        {
          "output_type": "display_data",
          "data": {
            "application/javascript": [
              "\n",
              "    async function download(id, filename, size) {\n",
              "      if (!google.colab.kernel.accessAllowed) {\n",
              "        return;\n",
              "      }\n",
              "      const div = document.createElement('div');\n",
              "      const label = document.createElement('label');\n",
              "      label.textContent = `Downloading \"${filename}\": `;\n",
              "      div.appendChild(label);\n",
              "      const progress = document.createElement('progress');\n",
              "      progress.max = size;\n",
              "      div.appendChild(progress);\n",
              "      document.body.appendChild(div);\n",
              "\n",
              "      const buffers = [];\n",
              "      let downloaded = 0;\n",
              "\n",
              "      const channel = await google.colab.kernel.comms.open(id);\n",
              "      // Send a message to notify the kernel that we're ready.\n",
              "      channel.send({})\n",
              "\n",
              "      for await (const message of channel.messages) {\n",
              "        // Send a message to notify the kernel that we're ready.\n",
              "        channel.send({})\n",
              "        if (message.buffers) {\n",
              "          for (const buffer of message.buffers) {\n",
              "            buffers.push(buffer);\n",
              "            downloaded += buffer.byteLength;\n",
              "            progress.value = downloaded;\n",
              "          }\n",
              "        }\n",
              "      }\n",
              "      const blob = new Blob(buffers, {type: 'application/binary'});\n",
              "      const a = document.createElement('a');\n",
              "      a.href = window.URL.createObjectURL(blob);\n",
              "      a.download = filename;\n",
              "      div.appendChild(a);\n",
              "      a.click();\n",
              "      div.remove();\n",
              "    }\n",
              "  "
            ],
            "text/plain": [
              "<IPython.core.display.Javascript object>"
            ]
          },
          "metadata": {}
        },
        {
          "output_type": "display_data",
          "data": {
            "application/javascript": [
              "download(\"download_bf2e8be1-ca60-47b3-8926-856c7b050abb\", \"lr_all_data_with_predictions.csv\", 159177)"
            ],
            "text/plain": [
              "<IPython.core.display.Javascript object>"
            ]
          },
          "metadata": {}
        }
      ]
    },
    {
      "cell_type": "markdown",
      "source": [
        "**Now let's test the linear regression model again on new data - only areas of plans that confirmed after Nov 2021.**"
      ],
      "metadata": {
        "id": "WA4xjCyrjN0D"
      }
    },
    {
      "cell_type": "code",
      "source": [
        "X_new = new_data[feature_cols_linear_reg]\n",
        "lr_y_new_pred = lr.predict(X_new)\n",
        "mae = mean_absolute_error(y_new, lr_y_new_pred)\n",
        "print(\"MAE:\", mae)\n",
        "mse = mean_squared_error(y_new, lr_y_new_pred)\n",
        "print(\"MSE:\", mse)\n",
        "rmse = mean_squared_error(y_new, lr_y_new_pred, squared=False)\n",
        "print(\"RMSE:\", rmse)\n",
        "rsquared = r2_score(y_new, lr_y_new_pred)\n",
        "print(\"R Squared:\", rsquared)"
      ],
      "metadata": {
        "colab": {
          "base_uri": "https://localhost:8080/"
        },
        "id": "Lw2V6KYTVi6J",
        "outputId": "80022fcc-a605-4b77-c7b9-149ccdd58399"
      },
      "execution_count": 127,
      "outputs": [
        {
          "output_type": "stream",
          "name": "stdout",
          "text": [
            "MAE: 195.48128994688375\n",
            "MSE: 93269.61688106725\n",
            "RMSE: 305.4007480034508\n",
            "R Squared: 0.9817700372801752\n"
          ]
        }
      ]
    },
    {
      "cell_type": "markdown",
      "source": [
        "Better results!"
      ],
      "metadata": {
        "id": "3KznxsBifh2U"
      }
    },
    {
      "cell_type": "code",
      "source": [
        "lr_new_result_df = pd.DataFrame(y_new)\n",
        "lr_new_result_df['lr_y_new_pred'] = lr_y_new_pred\n",
        "lr_new_result_df.columns = ['MAIN_AREA_true', 'MAIN_AREA_lr_predicted']\n",
        "print(lr_new_result_df.shape)\n",
        "lr_new_result_df.T"
      ],
      "metadata": {
        "colab": {
          "base_uri": "https://localhost:8080/",
          "height": 223
        },
        "id": "R-ifHLtGfjkD",
        "outputId": "26bf84ba-77ef-4f30-a320-a99cf11b9010"
      },
      "execution_count": 128,
      "outputs": [
        {
          "output_type": "stream",
          "name": "stdout",
          "text": [
            "(359, 2)\n"
          ]
        },
        {
          "output_type": "execute_result",
          "data": {
            "text/html": [
              "\n",
              "  <div id=\"df-5af02a7d-b826-43bf-86a8-80df4d86d835\">\n",
              "    <div class=\"colab-df-container\">\n",
              "      <div>\n",
              "<style scoped>\n",
              "    .dataframe tbody tr th:only-of-type {\n",
              "        vertical-align: middle;\n",
              "    }\n",
              "\n",
              "    .dataframe tbody tr th {\n",
              "        vertical-align: top;\n",
              "    }\n",
              "\n",
              "    .dataframe thead th {\n",
              "        text-align: right;\n",
              "    }\n",
              "</style>\n",
              "<table border=\"1\" class=\"dataframe\">\n",
              "  <thead>\n",
              "    <tr style=\"text-align: right;\">\n",
              "      <th></th>\n",
              "      <th>0</th>\n",
              "      <th>1</th>\n",
              "      <th>2</th>\n",
              "      <th>3</th>\n",
              "      <th>4</th>\n",
              "      <th>5</th>\n",
              "      <th>6</th>\n",
              "      <th>7</th>\n",
              "      <th>8</th>\n",
              "      <th>9</th>\n",
              "      <th>10</th>\n",
              "      <th>11</th>\n",
              "      <th>12</th>\n",
              "      <th>13</th>\n",
              "      <th>14</th>\n",
              "      <th>15</th>\n",
              "      <th>16</th>\n",
              "      <th>17</th>\n",
              "      <th>18</th>\n",
              "      <th>19</th>\n",
              "      <th>20</th>\n",
              "      <th>21</th>\n",
              "      <th>22</th>\n",
              "      <th>23</th>\n",
              "      <th>24</th>\n",
              "      <th>25</th>\n",
              "      <th>26</th>\n",
              "      <th>27</th>\n",
              "      <th>28</th>\n",
              "      <th>29</th>\n",
              "      <th>30</th>\n",
              "      <th>31</th>\n",
              "      <th>32</th>\n",
              "      <th>33</th>\n",
              "      <th>34</th>\n",
              "      <th>35</th>\n",
              "      <th>36</th>\n",
              "      <th>37</th>\n",
              "      <th>38</th>\n",
              "      <th>39</th>\n",
              "      <th>...</th>\n",
              "      <th>319</th>\n",
              "      <th>320</th>\n",
              "      <th>321</th>\n",
              "      <th>322</th>\n",
              "      <th>323</th>\n",
              "      <th>324</th>\n",
              "      <th>325</th>\n",
              "      <th>326</th>\n",
              "      <th>327</th>\n",
              "      <th>328</th>\n",
              "      <th>329</th>\n",
              "      <th>330</th>\n",
              "      <th>331</th>\n",
              "      <th>332</th>\n",
              "      <th>333</th>\n",
              "      <th>334</th>\n",
              "      <th>335</th>\n",
              "      <th>336</th>\n",
              "      <th>337</th>\n",
              "      <th>338</th>\n",
              "      <th>339</th>\n",
              "      <th>340</th>\n",
              "      <th>341</th>\n",
              "      <th>342</th>\n",
              "      <th>343</th>\n",
              "      <th>344</th>\n",
              "      <th>345</th>\n",
              "      <th>346</th>\n",
              "      <th>347</th>\n",
              "      <th>348</th>\n",
              "      <th>349</th>\n",
              "      <th>350</th>\n",
              "      <th>351</th>\n",
              "      <th>352</th>\n",
              "      <th>353</th>\n",
              "      <th>354</th>\n",
              "      <th>355</th>\n",
              "      <th>356</th>\n",
              "      <th>357</th>\n",
              "      <th>358</th>\n",
              "    </tr>\n",
              "  </thead>\n",
              "  <tbody>\n",
              "    <tr>\n",
              "      <th>MAIN_AREA_true</th>\n",
              "      <td>576.000000</td>\n",
              "      <td>220.000000</td>\n",
              "      <td>240.000000</td>\n",
              "      <td>570.400000</td>\n",
              "      <td>768.800000</td>\n",
              "      <td>620.000000</td>\n",
              "      <td>590.240000</td>\n",
              "      <td>728.00000</td>\n",
              "      <td>3250.000000</td>\n",
              "      <td>15155.000000</td>\n",
              "      <td>8155.00000</td>\n",
              "      <td>19810.000000</td>\n",
              "      <td>12985.000000</td>\n",
              "      <td>15045.000000</td>\n",
              "      <td>14015.000000</td>\n",
              "      <td>13555.00000</td>\n",
              "      <td>14965.0000</td>\n",
              "      <td>18275.000000</td>\n",
              "      <td>953.000000</td>\n",
              "      <td>575.000000</td>\n",
              "      <td>647.000000</td>\n",
              "      <td>618.000000</td>\n",
              "      <td>653.000000</td>\n",
              "      <td>645.000000</td>\n",
              "      <td>659.000000</td>\n",
              "      <td>686.000000</td>\n",
              "      <td>670.000000</td>\n",
              "      <td>651.000000</td>\n",
              "      <td>640.00000</td>\n",
              "      <td>620.000000</td>\n",
              "      <td>624.000000</td>\n",
              "      <td>647.000000</td>\n",
              "      <td>647.000000</td>\n",
              "      <td>672.00000</td>\n",
              "      <td>1610.000000</td>\n",
              "      <td>945.000000</td>\n",
              "      <td>601.000000</td>\n",
              "      <td>1015.00000</td>\n",
              "      <td>1032.000000</td>\n",
              "      <td>1040.000000</td>\n",
              "      <td>...</td>\n",
              "      <td>720.000000</td>\n",
              "      <td>720.000000</td>\n",
              "      <td>720.000000</td>\n",
              "      <td>720.000000</td>\n",
              "      <td>720.000000</td>\n",
              "      <td>720.000000</td>\n",
              "      <td>720.000000</td>\n",
              "      <td>720.000000</td>\n",
              "      <td>720.000000</td>\n",
              "      <td>324.000000</td>\n",
              "      <td>324.000000</td>\n",
              "      <td>324.000000</td>\n",
              "      <td>324.000000</td>\n",
              "      <td>324.000000</td>\n",
              "      <td>1894.000000</td>\n",
              "      <td>220.000000</td>\n",
              "      <td>205.000000</td>\n",
              "      <td>160.000000</td>\n",
              "      <td>285.000000</td>\n",
              "      <td>190.000000</td>\n",
              "      <td>240.000000</td>\n",
              "      <td>576.000000</td>\n",
              "      <td>3060.000000</td>\n",
              "      <td>600.000000</td>\n",
              "      <td>897.000000</td>\n",
              "      <td>332.40000</td>\n",
              "      <td>4400.000000</td>\n",
              "      <td>230.000000</td>\n",
              "      <td>460.000000</td>\n",
              "      <td>1456.00000</td>\n",
              "      <td>230.000000</td>\n",
              "      <td>370.000000</td>\n",
              "      <td>383.140000</td>\n",
              "      <td>240.000000</td>\n",
              "      <td>480.000000</td>\n",
              "      <td>527.050000</td>\n",
              "      <td>810.600000</td>\n",
              "      <td>811.000000</td>\n",
              "      <td>920.000000</td>\n",
              "      <td>3034.000000</td>\n",
              "    </tr>\n",
              "    <tr>\n",
              "      <th>MAIN_AREA_lr_predicted</th>\n",
              "      <td>586.777353</td>\n",
              "      <td>320.195095</td>\n",
              "      <td>336.589289</td>\n",
              "      <td>579.414278</td>\n",
              "      <td>745.939044</td>\n",
              "      <td>621.045469</td>\n",
              "      <td>596.066754</td>\n",
              "      <td>679.58729</td>\n",
              "      <td>3135.598387</td>\n",
              "      <td>15950.293425</td>\n",
              "      <td>8591.42533</td>\n",
              "      <td>20753.447718</td>\n",
              "      <td>13631.819462</td>\n",
              "      <td>15744.027128</td>\n",
              "      <td>14673.008372</td>\n",
              "      <td>14216.24837</td>\n",
              "      <td>15681.2752</td>\n",
              "      <td>19127.421675</td>\n",
              "      <td>1207.889086</td>\n",
              "      <td>772.325978</td>\n",
              "      <td>826.727539</td>\n",
              "      <td>800.929516</td>\n",
              "      <td>819.797298</td>\n",
              "      <td>814.415122</td>\n",
              "      <td>826.043691</td>\n",
              "      <td>847.295366</td>\n",
              "      <td>838.465137</td>\n",
              "      <td>824.873742</td>\n",
              "      <td>811.22212</td>\n",
              "      <td>790.957414</td>\n",
              "      <td>793.785188</td>\n",
              "      <td>810.044891</td>\n",
              "      <td>815.555637</td>\n",
              "      <td>876.43038</td>\n",
              "      <td>1995.752365</td>\n",
              "      <td>1160.726207</td>\n",
              "      <td>788.911475</td>\n",
              "      <td>1256.21939</td>\n",
              "      <td>1268.419679</td>\n",
              "      <td>1317.732002</td>\n",
              "      <td>...</td>\n",
              "      <td>664.836906</td>\n",
              "      <td>664.836906</td>\n",
              "      <td>664.836906</td>\n",
              "      <td>664.836906</td>\n",
              "      <td>664.836906</td>\n",
              "      <td>664.836906</td>\n",
              "      <td>664.836906</td>\n",
              "      <td>664.836906</td>\n",
              "      <td>664.836906</td>\n",
              "      <td>395.876259</td>\n",
              "      <td>395.876259</td>\n",
              "      <td>395.876259</td>\n",
              "      <td>395.876259</td>\n",
              "      <td>395.876259</td>\n",
              "      <td>1848.105332</td>\n",
              "      <td>322.071197</td>\n",
              "      <td>318.010321</td>\n",
              "      <td>280.831873</td>\n",
              "      <td>418.987358</td>\n",
              "      <td>348.200932</td>\n",
              "      <td>337.792019</td>\n",
              "      <td>585.012575</td>\n",
              "      <td>2433.337966</td>\n",
              "      <td>589.221613</td>\n",
              "      <td>785.923286</td>\n",
              "      <td>407.55848</td>\n",
              "      <td>4382.509394</td>\n",
              "      <td>291.556965</td>\n",
              "      <td>471.746437</td>\n",
              "      <td>1413.26985</td>\n",
              "      <td>330.305391</td>\n",
              "      <td>430.668676</td>\n",
              "      <td>443.804237</td>\n",
              "      <td>336.037879</td>\n",
              "      <td>553.521387</td>\n",
              "      <td>639.597625</td>\n",
              "      <td>781.904829</td>\n",
              "      <td>793.239754</td>\n",
              "      <td>903.776652</td>\n",
              "      <td>2675.833489</td>\n",
              "    </tr>\n",
              "  </tbody>\n",
              "</table>\n",
              "<p>2 rows × 359 columns</p>\n",
              "</div>\n",
              "      <button class=\"colab-df-convert\" onclick=\"convertToInteractive('df-5af02a7d-b826-43bf-86a8-80df4d86d835')\"\n",
              "              title=\"Convert this dataframe to an interactive table.\"\n",
              "              style=\"display:none;\">\n",
              "        \n",
              "  <svg xmlns=\"http://www.w3.org/2000/svg\" height=\"24px\"viewBox=\"0 0 24 24\"\n",
              "       width=\"24px\">\n",
              "    <path d=\"M0 0h24v24H0V0z\" fill=\"none\"/>\n",
              "    <path d=\"M18.56 5.44l.94 2.06.94-2.06 2.06-.94-2.06-.94-.94-2.06-.94 2.06-2.06.94zm-11 1L8.5 8.5l.94-2.06 2.06-.94-2.06-.94L8.5 2.5l-.94 2.06-2.06.94zm10 10l.94 2.06.94-2.06 2.06-.94-2.06-.94-.94-2.06-.94 2.06-2.06.94z\"/><path d=\"M17.41 7.96l-1.37-1.37c-.4-.4-.92-.59-1.43-.59-.52 0-1.04.2-1.43.59L10.3 9.45l-7.72 7.72c-.78.78-.78 2.05 0 2.83L4 21.41c.39.39.9.59 1.41.59.51 0 1.02-.2 1.41-.59l7.78-7.78 2.81-2.81c.8-.78.8-2.07 0-2.86zM5.41 20L4 18.59l7.72-7.72 1.47 1.35L5.41 20z\"/>\n",
              "  </svg>\n",
              "      </button>\n",
              "      \n",
              "  <style>\n",
              "    .colab-df-container {\n",
              "      display:flex;\n",
              "      flex-wrap:wrap;\n",
              "      gap: 12px;\n",
              "    }\n",
              "\n",
              "    .colab-df-convert {\n",
              "      background-color: #E8F0FE;\n",
              "      border: none;\n",
              "      border-radius: 50%;\n",
              "      cursor: pointer;\n",
              "      display: none;\n",
              "      fill: #1967D2;\n",
              "      height: 32px;\n",
              "      padding: 0 0 0 0;\n",
              "      width: 32px;\n",
              "    }\n",
              "\n",
              "    .colab-df-convert:hover {\n",
              "      background-color: #E2EBFA;\n",
              "      box-shadow: 0px 1px 2px rgba(60, 64, 67, 0.3), 0px 1px 3px 1px rgba(60, 64, 67, 0.15);\n",
              "      fill: #174EA6;\n",
              "    }\n",
              "\n",
              "    [theme=dark] .colab-df-convert {\n",
              "      background-color: #3B4455;\n",
              "      fill: #D2E3FC;\n",
              "    }\n",
              "\n",
              "    [theme=dark] .colab-df-convert:hover {\n",
              "      background-color: #434B5C;\n",
              "      box-shadow: 0px 1px 3px 1px rgba(0, 0, 0, 0.15);\n",
              "      filter: drop-shadow(0px 1px 2px rgba(0, 0, 0, 0.3));\n",
              "      fill: #FFFFFF;\n",
              "    }\n",
              "  </style>\n",
              "\n",
              "      <script>\n",
              "        const buttonEl =\n",
              "          document.querySelector('#df-5af02a7d-b826-43bf-86a8-80df4d86d835 button.colab-df-convert');\n",
              "        buttonEl.style.display =\n",
              "          google.colab.kernel.accessAllowed ? 'block' : 'none';\n",
              "\n",
              "        async function convertToInteractive(key) {\n",
              "          const element = document.querySelector('#df-5af02a7d-b826-43bf-86a8-80df4d86d835');\n",
              "          const dataTable =\n",
              "            await google.colab.kernel.invokeFunction('convertToInteractive',\n",
              "                                                     [key], {});\n",
              "          if (!dataTable) return;\n",
              "\n",
              "          const docLinkHtml = 'Like what you see? Visit the ' +\n",
              "            '<a target=\"_blank\" href=https://colab.research.google.com/notebooks/data_table.ipynb>data table notebook</a>'\n",
              "            + ' to learn more about interactive tables.';\n",
              "          element.innerHTML = '';\n",
              "          dataTable['output_type'] = 'display_data';\n",
              "          await google.colab.output.renderOutput(dataTable, element);\n",
              "          const docLink = document.createElement('div');\n",
              "          docLink.innerHTML = docLinkHtml;\n",
              "          element.appendChild(docLink);\n",
              "        }\n",
              "      </script>\n",
              "    </div>\n",
              "  </div>\n",
              "  "
            ],
            "text/plain": [
              "                               0           1    ...         357          358\n",
              "MAIN_AREA_true          576.000000  220.000000  ...  920.000000  3034.000000\n",
              "MAIN_AREA_lr_predicted  586.777353  320.195095  ...  903.776652  2675.833489\n",
              "\n",
              "[2 rows x 359 columns]"
            ]
          },
          "metadata": {},
          "execution_count": 128
        }
      ]
    },
    {
      "cell_type": "code",
      "source": [
        "lr_all_new_data_with_predictions = pd.merge(new_cellsdata, lr_new_result_df, left_index=True, right_index=True)\n",
        "lr_all_new_data_with_predictions.head(3)"
      ],
      "metadata": {
        "colab": {
          "base_uri": "https://localhost:8080/",
          "height": 312
        },
        "id": "j4IiVZIvgRJR",
        "outputId": "c8425064-400a-4219-a3cc-59ba43df0509"
      },
      "execution_count": 129,
      "outputs": [
        {
          "output_type": "execute_result",
          "data": {
            "text/html": [
              "\n",
              "  <div id=\"df-dc84e002-a31a-4cbb-a1b8-31da91fc2edf\">\n",
              "    <div class=\"colab-df-container\">\n",
              "      <div>\n",
              "<style scoped>\n",
              "    .dataframe tbody tr th:only-of-type {\n",
              "        vertical-align: middle;\n",
              "    }\n",
              "\n",
              "    .dataframe tbody tr th {\n",
              "        vertical-align: top;\n",
              "    }\n",
              "\n",
              "    .dataframe thead th {\n",
              "        text-align: right;\n",
              "    }\n",
              "</style>\n",
              "<table border=\"1\" class=\"dataframe\">\n",
              "  <thead>\n",
              "    <tr style=\"text-align: right;\">\n",
              "      <th></th>\n",
              "      <th>PL_NUMBER</th>\n",
              "      <th>PL_AREA</th>\n",
              "      <th>LANDUSE</th>\n",
              "      <th>MAIN_AREA</th>\n",
              "      <th>SERVICE_AREA</th>\n",
              "      <th>CELL_SIZE_TOTAL</th>\n",
              "      <th>CELL_SIZE_MIN</th>\n",
              "      <th>CELL_SIZE_MAX</th>\n",
              "      <th>HOUSING_UNITS</th>\n",
              "      <th>BUILDING_HEIGHT</th>\n",
              "      <th>FLOORS_NUM</th>\n",
              "      <th>TOTAL_AREA</th>\n",
              "      <th>AUTHORITY</th>\n",
              "      <th>DISTRICT</th>\n",
              "      <th>SECTOR_GROUP</th>\n",
              "      <th>CONFIRMATION_YEAR</th>\n",
              "      <th>CONSTRUCTION_TYPE_GROUP</th>\n",
              "      <th>MAIN_AREA_true</th>\n",
              "      <th>MAIN_AREA_lr_predicted</th>\n",
              "    </tr>\n",
              "  </thead>\n",
              "  <tbody>\n",
              "    <tr>\n",
              "      <th>0</th>\n",
              "      <td>257-0744540</td>\n",
              "      <td>257-0744540-1</td>\n",
              "      <td>מגורים</td>\n",
              "      <td>576.0</td>\n",
              "      <td>96.0</td>\n",
              "      <td>400.0</td>\n",
              "      <td>0</td>\n",
              "      <td>0</td>\n",
              "      <td>0</td>\n",
              "      <td>12.5</td>\n",
              "      <td>4</td>\n",
              "      <td>672.0</td>\n",
              "      <td>מחוזית</td>\n",
              "      <td>צפון</td>\n",
              "      <td>חברה ערבית</td>\n",
              "      <td>2021</td>\n",
              "      <td>חדשה</td>\n",
              "      <td>576.0</td>\n",
              "      <td>586.777353</td>\n",
              "    </tr>\n",
              "    <tr>\n",
              "      <th>1</th>\n",
              "      <td>633-0921650</td>\n",
              "      <td>633-0921650-13</td>\n",
              "      <td>מגורים</td>\n",
              "      <td>220.0</td>\n",
              "      <td>60.0</td>\n",
              "      <td>500.0</td>\n",
              "      <td>0</td>\n",
              "      <td>0</td>\n",
              "      <td>1</td>\n",
              "      <td>10.5</td>\n",
              "      <td>2</td>\n",
              "      <td>280.0</td>\n",
              "      <td>מחוזית</td>\n",
              "      <td>דרום</td>\n",
              "      <td>חברה כללית / מעורבת</td>\n",
              "      <td>2021</td>\n",
              "      <td>חדשה</td>\n",
              "      <td>220.0</td>\n",
              "      <td>320.195095</td>\n",
              "    </tr>\n",
              "    <tr>\n",
              "      <th>2</th>\n",
              "      <td>633-0921650</td>\n",
              "      <td>633-0921650-11</td>\n",
              "      <td>מגורים</td>\n",
              "      <td>240.0</td>\n",
              "      <td>60.0</td>\n",
              "      <td>599.0</td>\n",
              "      <td>0</td>\n",
              "      <td>0</td>\n",
              "      <td>1</td>\n",
              "      <td>10.5</td>\n",
              "      <td>2</td>\n",
              "      <td>300.0</td>\n",
              "      <td>מחוזית</td>\n",
              "      <td>דרום</td>\n",
              "      <td>חברה כללית / מעורבת</td>\n",
              "      <td>2021</td>\n",
              "      <td>חדשה</td>\n",
              "      <td>240.0</td>\n",
              "      <td>336.589289</td>\n",
              "    </tr>\n",
              "  </tbody>\n",
              "</table>\n",
              "</div>\n",
              "      <button class=\"colab-df-convert\" onclick=\"convertToInteractive('df-dc84e002-a31a-4cbb-a1b8-31da91fc2edf')\"\n",
              "              title=\"Convert this dataframe to an interactive table.\"\n",
              "              style=\"display:none;\">\n",
              "        \n",
              "  <svg xmlns=\"http://www.w3.org/2000/svg\" height=\"24px\"viewBox=\"0 0 24 24\"\n",
              "       width=\"24px\">\n",
              "    <path d=\"M0 0h24v24H0V0z\" fill=\"none\"/>\n",
              "    <path d=\"M18.56 5.44l.94 2.06.94-2.06 2.06-.94-2.06-.94-.94-2.06-.94 2.06-2.06.94zm-11 1L8.5 8.5l.94-2.06 2.06-.94-2.06-.94L8.5 2.5l-.94 2.06-2.06.94zm10 10l.94 2.06.94-2.06 2.06-.94-2.06-.94-.94-2.06-.94 2.06-2.06.94z\"/><path d=\"M17.41 7.96l-1.37-1.37c-.4-.4-.92-.59-1.43-.59-.52 0-1.04.2-1.43.59L10.3 9.45l-7.72 7.72c-.78.78-.78 2.05 0 2.83L4 21.41c.39.39.9.59 1.41.59.51 0 1.02-.2 1.41-.59l7.78-7.78 2.81-2.81c.8-.78.8-2.07 0-2.86zM5.41 20L4 18.59l7.72-7.72 1.47 1.35L5.41 20z\"/>\n",
              "  </svg>\n",
              "      </button>\n",
              "      \n",
              "  <style>\n",
              "    .colab-df-container {\n",
              "      display:flex;\n",
              "      flex-wrap:wrap;\n",
              "      gap: 12px;\n",
              "    }\n",
              "\n",
              "    .colab-df-convert {\n",
              "      background-color: #E8F0FE;\n",
              "      border: none;\n",
              "      border-radius: 50%;\n",
              "      cursor: pointer;\n",
              "      display: none;\n",
              "      fill: #1967D2;\n",
              "      height: 32px;\n",
              "      padding: 0 0 0 0;\n",
              "      width: 32px;\n",
              "    }\n",
              "\n",
              "    .colab-df-convert:hover {\n",
              "      background-color: #E2EBFA;\n",
              "      box-shadow: 0px 1px 2px rgba(60, 64, 67, 0.3), 0px 1px 3px 1px rgba(60, 64, 67, 0.15);\n",
              "      fill: #174EA6;\n",
              "    }\n",
              "\n",
              "    [theme=dark] .colab-df-convert {\n",
              "      background-color: #3B4455;\n",
              "      fill: #D2E3FC;\n",
              "    }\n",
              "\n",
              "    [theme=dark] .colab-df-convert:hover {\n",
              "      background-color: #434B5C;\n",
              "      box-shadow: 0px 1px 3px 1px rgba(0, 0, 0, 0.15);\n",
              "      filter: drop-shadow(0px 1px 2px rgba(0, 0, 0, 0.3));\n",
              "      fill: #FFFFFF;\n",
              "    }\n",
              "  </style>\n",
              "\n",
              "      <script>\n",
              "        const buttonEl =\n",
              "          document.querySelector('#df-dc84e002-a31a-4cbb-a1b8-31da91fc2edf button.colab-df-convert');\n",
              "        buttonEl.style.display =\n",
              "          google.colab.kernel.accessAllowed ? 'block' : 'none';\n",
              "\n",
              "        async function convertToInteractive(key) {\n",
              "          const element = document.querySelector('#df-dc84e002-a31a-4cbb-a1b8-31da91fc2edf');\n",
              "          const dataTable =\n",
              "            await google.colab.kernel.invokeFunction('convertToInteractive',\n",
              "                                                     [key], {});\n",
              "          if (!dataTable) return;\n",
              "\n",
              "          const docLinkHtml = 'Like what you see? Visit the ' +\n",
              "            '<a target=\"_blank\" href=https://colab.research.google.com/notebooks/data_table.ipynb>data table notebook</a>'\n",
              "            + ' to learn more about interactive tables.';\n",
              "          element.innerHTML = '';\n",
              "          dataTable['output_type'] = 'display_data';\n",
              "          await google.colab.output.renderOutput(dataTable, element);\n",
              "          const docLink = document.createElement('div');\n",
              "          docLink.innerHTML = docLinkHtml;\n",
              "          element.appendChild(docLink);\n",
              "        }\n",
              "      </script>\n",
              "    </div>\n",
              "  </div>\n",
              "  "
            ],
            "text/plain": [
              "     PL_NUMBER         PL_AREA  ... MAIN_AREA_true  MAIN_AREA_lr_predicted\n",
              "0  257-0744540   257-0744540-1  ...          576.0              586.777353\n",
              "1  633-0921650  633-0921650-13  ...          220.0              320.195095\n",
              "2  633-0921650  633-0921650-11  ...          240.0              336.589289\n",
              "\n",
              "[3 rows x 19 columns]"
            ]
          },
          "metadata": {},
          "execution_count": 129
        }
      ]
    },
    {
      "cell_type": "code",
      "source": [
        "# from google.colab import files\n",
        "# lr_all_new_data_with_predictions.to_csv('lr_all_new_data_with_predictions.csv', encoding='utf-8-sig')\n",
        "# files.download(\"lr_all_new_data_with_predictions.csv\")"
      ],
      "metadata": {
        "colab": {
          "base_uri": "https://localhost:8080/",
          "height": 17
        },
        "id": "hb_bLgJmgKBI",
        "outputId": "c110abc5-8998-49d0-8d55-3a104f7e6b89"
      },
      "execution_count": 130,
      "outputs": [
        {
          "output_type": "display_data",
          "data": {
            "application/javascript": [
              "\n",
              "    async function download(id, filename, size) {\n",
              "      if (!google.colab.kernel.accessAllowed) {\n",
              "        return;\n",
              "      }\n",
              "      const div = document.createElement('div');\n",
              "      const label = document.createElement('label');\n",
              "      label.textContent = `Downloading \"${filename}\": `;\n",
              "      div.appendChild(label);\n",
              "      const progress = document.createElement('progress');\n",
              "      progress.max = size;\n",
              "      div.appendChild(progress);\n",
              "      document.body.appendChild(div);\n",
              "\n",
              "      const buffers = [];\n",
              "      let downloaded = 0;\n",
              "\n",
              "      const channel = await google.colab.kernel.comms.open(id);\n",
              "      // Send a message to notify the kernel that we're ready.\n",
              "      channel.send({})\n",
              "\n",
              "      for await (const message of channel.messages) {\n",
              "        // Send a message to notify the kernel that we're ready.\n",
              "        channel.send({})\n",
              "        if (message.buffers) {\n",
              "          for (const buffer of message.buffers) {\n",
              "            buffers.push(buffer);\n",
              "            downloaded += buffer.byteLength;\n",
              "            progress.value = downloaded;\n",
              "          }\n",
              "        }\n",
              "      }\n",
              "      const blob = new Blob(buffers, {type: 'application/binary'});\n",
              "      const a = document.createElement('a');\n",
              "      a.href = window.URL.createObjectURL(blob);\n",
              "      a.download = filename;\n",
              "      div.appendChild(a);\n",
              "      a.click();\n",
              "      div.remove();\n",
              "    }\n",
              "  "
            ],
            "text/plain": [
              "<IPython.core.display.Javascript object>"
            ]
          },
          "metadata": {}
        },
        {
          "output_type": "display_data",
          "data": {
            "application/javascript": [
              "download(\"download_1e09ec94-cc4a-4277-ae20-304298a0b372\", \"lr_all_new_data_with_predictions.csv\", 64896)"
            ],
            "text/plain": [
              "<IPython.core.display.Javascript object>"
            ]
          },
          "metadata": {}
        }
      ]
    }
  ]
}