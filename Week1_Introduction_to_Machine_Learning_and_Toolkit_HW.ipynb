{
  "nbformat": 4,
  "nbformat_minor": 0,
  "metadata": {
    "anaconda-cloud": {},
    "kernelspec": {
      "display_name": "Python 3",
      "language": "python",
      "name": "python3"
    },
    "language_info": {
      "codemirror_mode": {
        "name": "ipython",
        "version": 3
      },
      "file_extension": ".py",
      "mimetype": "text/x-python",
      "name": "python",
      "nbconvert_exporter": "python",
      "pygments_lexer": "ipython3",
      "version": "3.5.3"
    },
    "colab": {
      "name": "Week1_Introduction_to_Machine_Learning_and_Toolkit_HW.ipynb",
      "provenance": [],
      "include_colab_link": true
    }
  },
  "cells": [
    {
      "cell_type": "markdown",
      "metadata": {
        "id": "view-in-github",
        "colab_type": "text"
      },
      "source": [
        "<a href=\"https://colab.research.google.com/github/mannmoshe/machine-learning/blob/main/Week1_Introduction_to_Machine_Learning_and_Toolkit_HW.ipynb\" target=\"_parent\"><img src=\"https://colab.research.google.com/assets/colab-badge.svg\" alt=\"Open In Colab\"/></a>"
      ]
    },
    {
      "cell_type": "markdown",
      "metadata": {
        "run_control": {
          "marked": true
        },
        "id": "GFtR4vxHW87E"
      },
      "source": [
        "# Introduction to Machine Learning and Toolkit Exercises "
      ]
    },
    {
      "cell_type": "markdown",
      "metadata": {
        "run_control": {
          "marked": true
        },
        "id": "4sLPm1x4W87Q"
      },
      "source": [
        "## Introduction\n",
        "\n",
        "We will be using the iris data set for this tutorial. This is a well-known data set containing iris species and sepal and petal measurements. The data we will use are in a file called `Iris_Data.csv` found in the [data](../../data) directory."
      ]
    },
    {
      "cell_type": "markdown",
      "metadata": {
        "id": "k2Zs2rLoZKzQ"
      },
      "source": [
        "***All italic notes and student's code written by Moshe Mann.***"
      ]
    },
    {
      "cell_type": "markdown",
      "metadata": {
        "id": "sm0-urE1bkkw"
      },
      "source": [
        "*I used [this link](https://towardsdatascience.com/7-ways-to-load-external-data-into-google-colab-7ba73e7d5fc7) to build the data_path.*"
      ]
    },
    {
      "cell_type": "code",
      "metadata": {
        "id": "KzAdF4EsW87S",
        "colab": {
          "base_uri": "https://localhost:8080/"
        },
        "outputId": "bb026b9b-6c4e-4542-ed10-e337688fbd57"
      },
      "source": [
        "from __future__ import print_function\n",
        "import os\n",
        "data_path = ['https://raw.githubusercontent.com/mannmoshe/machine-learning/main']\n",
        "print (data_path)"
      ],
      "execution_count": 1,
      "outputs": [
        {
          "output_type": "stream",
          "name": "stdout",
          "text": [
            "['https://raw.githubusercontent.com/mannmoshe/machine-learning/main']\n"
          ]
        }
      ]
    },
    {
      "cell_type": "markdown",
      "metadata": {
        "run_control": {
          "marked": true
        },
        "id": "lgESYE_mW87V"
      },
      "source": [
        "## Question 1\n",
        "\n",
        "Load the data from the file using the techniques learned today. Examine it.\n",
        "\n",
        "Determine the following:\n",
        "\n",
        "* The number of data points (rows). (*Hint:* check out the dataframe `.shape` attribute.)\n",
        "* The column names. (*Hint:* check out the dataframe `.columns` attribute.)\n",
        "* The data types for each column. (*Hint:* check out the dataframe `.dtypes` attribute.)"
      ]
    },
    {
      "cell_type": "code",
      "metadata": {
        "ExecuteTime": {
          "end_time": "2017-03-19T23:17:21.954025Z",
          "start_time": "2017-03-19T19:17:21.936220-04:00"
        },
        "run_control": {
          "marked": true
        },
        "id": "oN0YLREjW87X",
        "colab": {
          "base_uri": "https://localhost:8080/",
          "height": 221
        },
        "outputId": "4ad3e561-544b-4e98-d3cd-672e099c0696"
      },
      "source": [
        "import numpy as np\n",
        "import pandas as pd\n",
        "\n",
        "filepath = os.sep.join(data_path + ['Iris_Data.csv'])\n",
        "print(filepath)\n",
        "data = pd.read_csv(filepath)\n",
        "data.head()"
      ],
      "execution_count": 2,
      "outputs": [
        {
          "output_type": "stream",
          "name": "stdout",
          "text": [
            "https://raw.githubusercontent.com/mannmoshe/machine-learning/main/Iris_Data.csv\n"
          ]
        },
        {
          "output_type": "execute_result",
          "data": {
            "text/html": [
              "<div>\n",
              "<style scoped>\n",
              "    .dataframe tbody tr th:only-of-type {\n",
              "        vertical-align: middle;\n",
              "    }\n",
              "\n",
              "    .dataframe tbody tr th {\n",
              "        vertical-align: top;\n",
              "    }\n",
              "\n",
              "    .dataframe thead th {\n",
              "        text-align: right;\n",
              "    }\n",
              "</style>\n",
              "<table border=\"1\" class=\"dataframe\">\n",
              "  <thead>\n",
              "    <tr style=\"text-align: right;\">\n",
              "      <th></th>\n",
              "      <th>sepal_length</th>\n",
              "      <th>sepal_width</th>\n",
              "      <th>petal_length</th>\n",
              "      <th>petal_width</th>\n",
              "      <th>species</th>\n",
              "    </tr>\n",
              "  </thead>\n",
              "  <tbody>\n",
              "    <tr>\n",
              "      <th>0</th>\n",
              "      <td>5.1</td>\n",
              "      <td>3.5</td>\n",
              "      <td>1.4</td>\n",
              "      <td>0.2</td>\n",
              "      <td>Iris-setosa</td>\n",
              "    </tr>\n",
              "    <tr>\n",
              "      <th>1</th>\n",
              "      <td>4.9</td>\n",
              "      <td>3.0</td>\n",
              "      <td>1.4</td>\n",
              "      <td>0.2</td>\n",
              "      <td>Iris-setosa</td>\n",
              "    </tr>\n",
              "    <tr>\n",
              "      <th>2</th>\n",
              "      <td>4.7</td>\n",
              "      <td>3.2</td>\n",
              "      <td>1.3</td>\n",
              "      <td>0.2</td>\n",
              "      <td>Iris-setosa</td>\n",
              "    </tr>\n",
              "    <tr>\n",
              "      <th>3</th>\n",
              "      <td>4.6</td>\n",
              "      <td>3.1</td>\n",
              "      <td>1.5</td>\n",
              "      <td>0.2</td>\n",
              "      <td>Iris-setosa</td>\n",
              "    </tr>\n",
              "    <tr>\n",
              "      <th>4</th>\n",
              "      <td>5.0</td>\n",
              "      <td>3.6</td>\n",
              "      <td>1.4</td>\n",
              "      <td>0.2</td>\n",
              "      <td>Iris-setosa</td>\n",
              "    </tr>\n",
              "  </tbody>\n",
              "</table>\n",
              "</div>"
            ],
            "text/plain": [
              "   sepal_length  sepal_width  petal_length  petal_width      species\n",
              "0           5.1          3.5           1.4          0.2  Iris-setosa\n",
              "1           4.9          3.0           1.4          0.2  Iris-setosa\n",
              "2           4.7          3.2           1.3          0.2  Iris-setosa\n",
              "3           4.6          3.1           1.5          0.2  Iris-setosa\n",
              "4           5.0          3.6           1.4          0.2  Iris-setosa"
            ]
          },
          "metadata": {},
          "execution_count": 2
        }
      ]
    },
    {
      "cell_type": "code",
      "metadata": {
        "ExecuteTime": {
          "end_time": "2017-03-19T23:17:24.151607Z",
          "start_time": "2017-03-19T19:17:24.105167-04:00"
        },
        "run_control": {
          "marked": true
        },
        "id": "Dc_2fAovW87Z",
        "colab": {
          "base_uri": "https://localhost:8080/"
        },
        "outputId": "15bcb777-0705-4f25-ef4c-77c532f50199"
      },
      "source": [
        "# Number of rows\n",
        "print(data.shape[0])\n",
        "\n",
        "# Column names\n",
        "print(data.columns.tolist())\n",
        "\n",
        "# Data types\n",
        "print(data.dtypes)\n"
      ],
      "execution_count": 3,
      "outputs": [
        {
          "output_type": "stream",
          "name": "stdout",
          "text": [
            "150\n",
            "['sepal_length', 'sepal_width', 'petal_length', 'petal_width', 'species']\n",
            "sepal_length    float64\n",
            "sepal_width     float64\n",
            "petal_length    float64\n",
            "petal_width     float64\n",
            "species          object\n",
            "dtype: object\n"
          ]
        }
      ]
    },
    {
      "cell_type": "markdown",
      "metadata": {
        "run_control": {
          "marked": true
        },
        "id": "Zh_wQNf6W87a"
      },
      "source": [
        "## Question 2\n",
        "\n",
        "Examine the species names and note that they all begin with 'Iris-'. Remove this portion of the name so the species name is shorter. \n",
        "\n",
        "*Hint:* there are multiple ways to do this, but you could use either the [string processing methods](http://pandas.pydata.org/pandas-docs/stable/text.html) or the [apply method](http://pandas.pydata.org/pandas-docs/stable/generated/pandas.Series.apply.html)."
      ]
    },
    {
      "cell_type": "code",
      "metadata": {
        "ExecuteTime": {
          "end_time": "2017-03-19T23:17:53.678316Z",
          "start_time": "2017-03-19T19:17:53.660202-04:00"
        },
        "run_control": {
          "marked": true
        },
        "id": "KzoeN_zuW87c",
        "colab": {
          "base_uri": "https://localhost:8080/",
          "height": 204
        },
        "outputId": "a71115ad-cf63-4dde-f975-cb45c4200a20"
      },
      "source": [
        "# The str method maps the following function to each entry as a string\n",
        "data['species'] = data.species.str.replace('Iris-', '')\n",
        "# alternatively\n",
        "# data['species'] = data.species.apply(lambda r: r.replace('Iris-', ''))\n",
        "\n",
        "data.head()"
      ],
      "execution_count": 4,
      "outputs": [
        {
          "output_type": "execute_result",
          "data": {
            "text/html": [
              "<div>\n",
              "<style scoped>\n",
              "    .dataframe tbody tr th:only-of-type {\n",
              "        vertical-align: middle;\n",
              "    }\n",
              "\n",
              "    .dataframe tbody tr th {\n",
              "        vertical-align: top;\n",
              "    }\n",
              "\n",
              "    .dataframe thead th {\n",
              "        text-align: right;\n",
              "    }\n",
              "</style>\n",
              "<table border=\"1\" class=\"dataframe\">\n",
              "  <thead>\n",
              "    <tr style=\"text-align: right;\">\n",
              "      <th></th>\n",
              "      <th>sepal_length</th>\n",
              "      <th>sepal_width</th>\n",
              "      <th>petal_length</th>\n",
              "      <th>petal_width</th>\n",
              "      <th>species</th>\n",
              "    </tr>\n",
              "  </thead>\n",
              "  <tbody>\n",
              "    <tr>\n",
              "      <th>0</th>\n",
              "      <td>5.1</td>\n",
              "      <td>3.5</td>\n",
              "      <td>1.4</td>\n",
              "      <td>0.2</td>\n",
              "      <td>setosa</td>\n",
              "    </tr>\n",
              "    <tr>\n",
              "      <th>1</th>\n",
              "      <td>4.9</td>\n",
              "      <td>3.0</td>\n",
              "      <td>1.4</td>\n",
              "      <td>0.2</td>\n",
              "      <td>setosa</td>\n",
              "    </tr>\n",
              "    <tr>\n",
              "      <th>2</th>\n",
              "      <td>4.7</td>\n",
              "      <td>3.2</td>\n",
              "      <td>1.3</td>\n",
              "      <td>0.2</td>\n",
              "      <td>setosa</td>\n",
              "    </tr>\n",
              "    <tr>\n",
              "      <th>3</th>\n",
              "      <td>4.6</td>\n",
              "      <td>3.1</td>\n",
              "      <td>1.5</td>\n",
              "      <td>0.2</td>\n",
              "      <td>setosa</td>\n",
              "    </tr>\n",
              "    <tr>\n",
              "      <th>4</th>\n",
              "      <td>5.0</td>\n",
              "      <td>3.6</td>\n",
              "      <td>1.4</td>\n",
              "      <td>0.2</td>\n",
              "      <td>setosa</td>\n",
              "    </tr>\n",
              "  </tbody>\n",
              "</table>\n",
              "</div>"
            ],
            "text/plain": [
              "   sepal_length  sepal_width  petal_length  petal_width species\n",
              "0           5.1          3.5           1.4          0.2  setosa\n",
              "1           4.9          3.0           1.4          0.2  setosa\n",
              "2           4.7          3.2           1.3          0.2  setosa\n",
              "3           4.6          3.1           1.5          0.2  setosa\n",
              "4           5.0          3.6           1.4          0.2  setosa"
            ]
          },
          "metadata": {},
          "execution_count": 4
        }
      ]
    },
    {
      "cell_type": "markdown",
      "metadata": {
        "run_control": {
          "marked": true
        },
        "id": "Zt2d3h9vW87e"
      },
      "source": [
        "## Question 3\n",
        "\n",
        "Determine the following:  \n",
        "* The number of each species present. (*Hint:* check out the series `.value_counts` method.)\n",
        "* The mean, median, and quantiles and ranges (max-min) for each petal and sepal measurement.\n",
        "\n",
        "*Hint:* for the last question, the `.describe` method does have median, but it's not called median. It's the *50%* quantile. `.describe` does not have range though, and in order to get the range, you will need to create a new entry in the `.describe` table, which is `max - min`."
      ]
    },
    {
      "cell_type": "code",
      "metadata": {
        "ExecuteTime": {
          "end_time": "2017-03-19T23:20:16.483215Z",
          "start_time": "2017-03-19T19:20:16.472865-04:00"
        },
        "collapsed": true,
        "run_control": {
          "marked": true
        },
        "id": "_nNc2Nq8W87g"
      },
      "source": [
        "#Student writes code here"
      ],
      "execution_count": null,
      "outputs": []
    },
    {
      "cell_type": "code",
      "metadata": {
        "ExecuteTime": {
          "end_time": "2017-03-19T23:21:17.085008Z",
          "start_time": "2017-03-19T19:21:17.052339-04:00"
        },
        "collapsed": true,
        "run_control": {
          "marked": true
        },
        "id": "TH2c-86TW87h",
        "colab": {
          "base_uri": "https://localhost:8080/"
        },
        "outputId": "4640f43a-c5dc-4eff-906f-bba58998402f"
      },
      "source": [
        "print(data['species'].value_counts())"
      ],
      "execution_count": 5,
      "outputs": [
        {
          "output_type": "stream",
          "name": "stdout",
          "text": [
            "virginica     50\n",
            "versicolor    50\n",
            "setosa        50\n",
            "Name: species, dtype: int64\n"
          ]
        }
      ]
    },
    {
      "cell_type": "markdown",
      "metadata": {
        "id": "Kx3BRcUQc7UV"
      },
      "source": [
        "*I found [here](https://stackoverflow.com/questions/48595445/is-it-possible-to-add-range-ie-max-min-to-the-pandas-describe-function-in-py) how to add the ranges to the describe function.*"
      ]
    },
    {
      "cell_type": "code",
      "metadata": {
        "id": "wGp645FexlMZ"
      },
      "source": [
        "def describe_iris(df):\n",
        "    df1 = df.describe(exclude=[object])\n",
        "    df1.loc[\"range\"] = df1.loc['max'] - df1.loc['min']\n",
        "    return df1\n"
      ],
      "execution_count": 6,
      "outputs": []
    },
    {
      "cell_type": "code",
      "metadata": {
        "id": "ST9j8-ZRu4N8",
        "colab": {
          "base_uri": "https://localhost:8080/"
        },
        "outputId": "01faa6fc-b15d-4234-abb2-316f030f37ae"
      },
      "source": [
        "print(describe_iris(data))"
      ],
      "execution_count": 7,
      "outputs": [
        {
          "output_type": "stream",
          "name": "stdout",
          "text": [
            "       sepal_length  sepal_width  petal_length  petal_width\n",
            "count    150.000000   150.000000    150.000000   150.000000\n",
            "mean       5.843333     3.054000      3.758667     1.198667\n",
            "std        0.828066     0.433594      1.764420     0.763161\n",
            "min        4.300000     2.000000      1.000000     0.100000\n",
            "25%        5.100000     2.800000      1.600000     0.300000\n",
            "50%        5.800000     3.000000      4.350000     1.300000\n",
            "75%        6.400000     3.300000      5.100000     1.800000\n",
            "max        7.900000     4.400000      6.900000     2.500000\n",
            "range      3.600000     2.400000      5.900000     2.400000\n"
          ]
        }
      ]
    },
    {
      "cell_type": "markdown",
      "metadata": {
        "run_control": {
          "marked": true
        },
        "id": "2XeJKBZAW87i"
      },
      "source": [
        "## Question 4\n",
        "\n",
        "Calculate the following **for each species** in a separate dataframe:\n",
        "\n",
        "* The mean of each measurement (sepal_length, sepal_width, petal_length, and petal_width).\n",
        "* The median of each of these measurements.\n",
        "\n",
        "*Hint:* you may want to use Pandas [`groupby` method](http://pandas.pydata.org/pandas-docs/stable/generated/pandas.DataFrame.groupby.html) to group by species before calculating the statistic.\n",
        "\n",
        "If you finish both of these, try calculating both statistics (mean and median) in a single table (i.e. with a single groupby call). See the section of the Pandas documentation on [applying multiple functions at once](http://pandas.pydata.org/pandas-docs/stable/groupby.html#applying-multiple-functions-at-once) for a hint."
      ]
    },
    {
      "cell_type": "code",
      "metadata": {
        "ExecuteTime": {
          "end_time": "2017-03-19T23:22:07.306171Z",
          "start_time": "2017-03-19T19:22:07.286965-04:00"
        },
        "id": "H6lTaQOnW87k",
        "colab": {
          "base_uri": "https://localhost:8080/",
          "height": 173
        },
        "outputId": "81b5fc6b-5916-4469-b8a7-2716439566dc"
      },
      "source": [
        "# The mean calculation\n",
        "data.groupby('species').mean()"
      ],
      "execution_count": 8,
      "outputs": [
        {
          "output_type": "execute_result",
          "data": {
            "text/html": [
              "<div>\n",
              "<style scoped>\n",
              "    .dataframe tbody tr th:only-of-type {\n",
              "        vertical-align: middle;\n",
              "    }\n",
              "\n",
              "    .dataframe tbody tr th {\n",
              "        vertical-align: top;\n",
              "    }\n",
              "\n",
              "    .dataframe thead th {\n",
              "        text-align: right;\n",
              "    }\n",
              "</style>\n",
              "<table border=\"1\" class=\"dataframe\">\n",
              "  <thead>\n",
              "    <tr style=\"text-align: right;\">\n",
              "      <th></th>\n",
              "      <th>sepal_length</th>\n",
              "      <th>sepal_width</th>\n",
              "      <th>petal_length</th>\n",
              "      <th>petal_width</th>\n",
              "    </tr>\n",
              "    <tr>\n",
              "      <th>species</th>\n",
              "      <th></th>\n",
              "      <th></th>\n",
              "      <th></th>\n",
              "      <th></th>\n",
              "    </tr>\n",
              "  </thead>\n",
              "  <tbody>\n",
              "    <tr>\n",
              "      <th>setosa</th>\n",
              "      <td>5.006</td>\n",
              "      <td>3.418</td>\n",
              "      <td>1.464</td>\n",
              "      <td>0.244</td>\n",
              "    </tr>\n",
              "    <tr>\n",
              "      <th>versicolor</th>\n",
              "      <td>5.936</td>\n",
              "      <td>2.770</td>\n",
              "      <td>4.260</td>\n",
              "      <td>1.326</td>\n",
              "    </tr>\n",
              "    <tr>\n",
              "      <th>virginica</th>\n",
              "      <td>6.588</td>\n",
              "      <td>2.974</td>\n",
              "      <td>5.552</td>\n",
              "      <td>2.026</td>\n",
              "    </tr>\n",
              "  </tbody>\n",
              "</table>\n",
              "</div>"
            ],
            "text/plain": [
              "            sepal_length  sepal_width  petal_length  petal_width\n",
              "species                                                         \n",
              "setosa             5.006        3.418         1.464        0.244\n",
              "versicolor         5.936        2.770         4.260        1.326\n",
              "virginica          6.588        2.974         5.552        2.026"
            ]
          },
          "metadata": {},
          "execution_count": 8
        }
      ]
    },
    {
      "cell_type": "code",
      "metadata": {
        "ExecuteTime": {
          "end_time": "2017-03-19T23:22:11.479487Z",
          "start_time": "2017-03-19T19:22:11.461725-04:00"
        },
        "id": "KgauzH_RW87l",
        "colab": {
          "base_uri": "https://localhost:8080/",
          "height": 173
        },
        "outputId": "42f9c8f4-a0e2-4bef-a3df-622dc3a91840"
      },
      "source": [
        "# The median calculation\n",
        "data.groupby('species').median()"
      ],
      "execution_count": 9,
      "outputs": [
        {
          "output_type": "execute_result",
          "data": {
            "text/html": [
              "<div>\n",
              "<style scoped>\n",
              "    .dataframe tbody tr th:only-of-type {\n",
              "        vertical-align: middle;\n",
              "    }\n",
              "\n",
              "    .dataframe tbody tr th {\n",
              "        vertical-align: top;\n",
              "    }\n",
              "\n",
              "    .dataframe thead th {\n",
              "        text-align: right;\n",
              "    }\n",
              "</style>\n",
              "<table border=\"1\" class=\"dataframe\">\n",
              "  <thead>\n",
              "    <tr style=\"text-align: right;\">\n",
              "      <th></th>\n",
              "      <th>sepal_length</th>\n",
              "      <th>sepal_width</th>\n",
              "      <th>petal_length</th>\n",
              "      <th>petal_width</th>\n",
              "    </tr>\n",
              "    <tr>\n",
              "      <th>species</th>\n",
              "      <th></th>\n",
              "      <th></th>\n",
              "      <th></th>\n",
              "      <th></th>\n",
              "    </tr>\n",
              "  </thead>\n",
              "  <tbody>\n",
              "    <tr>\n",
              "      <th>setosa</th>\n",
              "      <td>5.0</td>\n",
              "      <td>3.4</td>\n",
              "      <td>1.50</td>\n",
              "      <td>0.2</td>\n",
              "    </tr>\n",
              "    <tr>\n",
              "      <th>versicolor</th>\n",
              "      <td>5.9</td>\n",
              "      <td>2.8</td>\n",
              "      <td>4.35</td>\n",
              "      <td>1.3</td>\n",
              "    </tr>\n",
              "    <tr>\n",
              "      <th>virginica</th>\n",
              "      <td>6.5</td>\n",
              "      <td>3.0</td>\n",
              "      <td>5.55</td>\n",
              "      <td>2.0</td>\n",
              "    </tr>\n",
              "  </tbody>\n",
              "</table>\n",
              "</div>"
            ],
            "text/plain": [
              "            sepal_length  sepal_width  petal_length  petal_width\n",
              "species                                                         \n",
              "setosa               5.0          3.4          1.50          0.2\n",
              "versicolor           5.9          2.8          4.35          1.3\n",
              "virginica            6.5          3.0          5.55          2.0"
            ]
          },
          "metadata": {},
          "execution_count": 9
        }
      ]
    },
    {
      "cell_type": "code",
      "metadata": {
        "id": "t8sgb_ntW87m",
        "colab": {
          "base_uri": "https://localhost:8080/",
          "height": 204
        },
        "outputId": "1285427f-5f6d-4044-e111-e72b3f7cfefb"
      },
      "source": [
        "# applying multiple functions at once - 2 methods\n",
        "\n",
        "data.groupby('species').agg(['mean', 'median'])  # passing a list of recognized strings\n",
        "data.groupby('species').agg([np.mean, np.median])  # passing a list of explicit aggregation functions"
      ],
      "execution_count": 10,
      "outputs": [
        {
          "output_type": "execute_result",
          "data": {
            "text/html": [
              "<div>\n",
              "<style scoped>\n",
              "    .dataframe tbody tr th:only-of-type {\n",
              "        vertical-align: middle;\n",
              "    }\n",
              "\n",
              "    .dataframe tbody tr th {\n",
              "        vertical-align: top;\n",
              "    }\n",
              "\n",
              "    .dataframe thead tr th {\n",
              "        text-align: left;\n",
              "    }\n",
              "\n",
              "    .dataframe thead tr:last-of-type th {\n",
              "        text-align: right;\n",
              "    }\n",
              "</style>\n",
              "<table border=\"1\" class=\"dataframe\">\n",
              "  <thead>\n",
              "    <tr>\n",
              "      <th></th>\n",
              "      <th colspan=\"2\" halign=\"left\">sepal_length</th>\n",
              "      <th colspan=\"2\" halign=\"left\">sepal_width</th>\n",
              "      <th colspan=\"2\" halign=\"left\">petal_length</th>\n",
              "      <th colspan=\"2\" halign=\"left\">petal_width</th>\n",
              "    </tr>\n",
              "    <tr>\n",
              "      <th></th>\n",
              "      <th>mean</th>\n",
              "      <th>median</th>\n",
              "      <th>mean</th>\n",
              "      <th>median</th>\n",
              "      <th>mean</th>\n",
              "      <th>median</th>\n",
              "      <th>mean</th>\n",
              "      <th>median</th>\n",
              "    </tr>\n",
              "    <tr>\n",
              "      <th>species</th>\n",
              "      <th></th>\n",
              "      <th></th>\n",
              "      <th></th>\n",
              "      <th></th>\n",
              "      <th></th>\n",
              "      <th></th>\n",
              "      <th></th>\n",
              "      <th></th>\n",
              "    </tr>\n",
              "  </thead>\n",
              "  <tbody>\n",
              "    <tr>\n",
              "      <th>setosa</th>\n",
              "      <td>5.006</td>\n",
              "      <td>5.0</td>\n",
              "      <td>3.418</td>\n",
              "      <td>3.4</td>\n",
              "      <td>1.464</td>\n",
              "      <td>1.50</td>\n",
              "      <td>0.244</td>\n",
              "      <td>0.2</td>\n",
              "    </tr>\n",
              "    <tr>\n",
              "      <th>versicolor</th>\n",
              "      <td>5.936</td>\n",
              "      <td>5.9</td>\n",
              "      <td>2.770</td>\n",
              "      <td>2.8</td>\n",
              "      <td>4.260</td>\n",
              "      <td>4.35</td>\n",
              "      <td>1.326</td>\n",
              "      <td>1.3</td>\n",
              "    </tr>\n",
              "    <tr>\n",
              "      <th>virginica</th>\n",
              "      <td>6.588</td>\n",
              "      <td>6.5</td>\n",
              "      <td>2.974</td>\n",
              "      <td>3.0</td>\n",
              "      <td>5.552</td>\n",
              "      <td>5.55</td>\n",
              "      <td>2.026</td>\n",
              "      <td>2.0</td>\n",
              "    </tr>\n",
              "  </tbody>\n",
              "</table>\n",
              "</div>"
            ],
            "text/plain": [
              "           sepal_length        sepal_width  ... petal_length petal_width       \n",
              "                   mean median        mean  ...       median        mean median\n",
              "species                                     ...                                \n",
              "setosa            5.006    5.0       3.418  ...         1.50       0.244    0.2\n",
              "versicolor        5.936    5.9       2.770  ...         4.35       1.326    1.3\n",
              "virginica         6.588    6.5       2.974  ...         5.55       2.026    2.0\n",
              "\n",
              "[3 rows x 8 columns]"
            ]
          },
          "metadata": {},
          "execution_count": 10
        }
      ]
    },
    {
      "cell_type": "code",
      "metadata": {
        "id": "fE2lVHfeW87m",
        "colab": {
          "base_uri": "https://localhost:8080/",
          "height": 272
        },
        "outputId": "380c2500-b4de-4229-d395-ff596ba688b9"
      },
      "source": [
        "# If certain fields need to be aggregated differently, we can do:\n",
        "from pprint import pprint\n",
        "\n",
        "agg_dict = {field: ['mean', 'median'] for field in data.columns if field != 'species'}\n",
        "agg_dict['petal_length'] = 'max'\n",
        "pprint(agg_dict)\n",
        "data.groupby('species').agg(agg_dict)"
      ],
      "execution_count": 11,
      "outputs": [
        {
          "output_type": "stream",
          "name": "stdout",
          "text": [
            "{'petal_length': 'max',\n",
            " 'petal_width': ['mean', 'median'],\n",
            " 'sepal_length': ['mean', 'median'],\n",
            " 'sepal_width': ['mean', 'median']}\n"
          ]
        },
        {
          "output_type": "execute_result",
          "data": {
            "text/html": [
              "<div>\n",
              "<style scoped>\n",
              "    .dataframe tbody tr th:only-of-type {\n",
              "        vertical-align: middle;\n",
              "    }\n",
              "\n",
              "    .dataframe tbody tr th {\n",
              "        vertical-align: top;\n",
              "    }\n",
              "\n",
              "    .dataframe thead tr th {\n",
              "        text-align: left;\n",
              "    }\n",
              "\n",
              "    .dataframe thead tr:last-of-type th {\n",
              "        text-align: right;\n",
              "    }\n",
              "</style>\n",
              "<table border=\"1\" class=\"dataframe\">\n",
              "  <thead>\n",
              "    <tr>\n",
              "      <th></th>\n",
              "      <th colspan=\"2\" halign=\"left\">sepal_length</th>\n",
              "      <th colspan=\"2\" halign=\"left\">sepal_width</th>\n",
              "      <th>petal_length</th>\n",
              "      <th colspan=\"2\" halign=\"left\">petal_width</th>\n",
              "    </tr>\n",
              "    <tr>\n",
              "      <th></th>\n",
              "      <th>mean</th>\n",
              "      <th>median</th>\n",
              "      <th>mean</th>\n",
              "      <th>median</th>\n",
              "      <th>max</th>\n",
              "      <th>mean</th>\n",
              "      <th>median</th>\n",
              "    </tr>\n",
              "    <tr>\n",
              "      <th>species</th>\n",
              "      <th></th>\n",
              "      <th></th>\n",
              "      <th></th>\n",
              "      <th></th>\n",
              "      <th></th>\n",
              "      <th></th>\n",
              "      <th></th>\n",
              "    </tr>\n",
              "  </thead>\n",
              "  <tbody>\n",
              "    <tr>\n",
              "      <th>setosa</th>\n",
              "      <td>5.006</td>\n",
              "      <td>5.0</td>\n",
              "      <td>3.418</td>\n",
              "      <td>3.4</td>\n",
              "      <td>1.9</td>\n",
              "      <td>0.244</td>\n",
              "      <td>0.2</td>\n",
              "    </tr>\n",
              "    <tr>\n",
              "      <th>versicolor</th>\n",
              "      <td>5.936</td>\n",
              "      <td>5.9</td>\n",
              "      <td>2.770</td>\n",
              "      <td>2.8</td>\n",
              "      <td>5.1</td>\n",
              "      <td>1.326</td>\n",
              "      <td>1.3</td>\n",
              "    </tr>\n",
              "    <tr>\n",
              "      <th>virginica</th>\n",
              "      <td>6.588</td>\n",
              "      <td>6.5</td>\n",
              "      <td>2.974</td>\n",
              "      <td>3.0</td>\n",
              "      <td>6.9</td>\n",
              "      <td>2.026</td>\n",
              "      <td>2.0</td>\n",
              "    </tr>\n",
              "  </tbody>\n",
              "</table>\n",
              "</div>"
            ],
            "text/plain": [
              "           sepal_length        sepal_width  ... petal_length petal_width       \n",
              "                   mean median        mean  ...          max        mean median\n",
              "species                                     ...                                \n",
              "setosa            5.006    5.0       3.418  ...          1.9       0.244    0.2\n",
              "versicolor        5.936    5.9       2.770  ...          5.1       1.326    1.3\n",
              "virginica         6.588    6.5       2.974  ...          6.9       2.026    2.0\n",
              "\n",
              "[3 rows x 7 columns]"
            ]
          },
          "metadata": {},
          "execution_count": 11
        }
      ]
    },
    {
      "cell_type": "markdown",
      "metadata": {
        "id": "v4D82XFTW87n"
      },
      "source": [
        "## Question 5\n",
        "\n",
        "Make a scatter plot of `sepal_length` vs `sepal_width` using Matplotlib. Label the axes and give the plot a title."
      ]
    },
    {
      "cell_type": "code",
      "metadata": {
        "ExecuteTime": {
          "end_time": "2017-03-19T23:23:36.914375Z",
          "start_time": "2017-03-19T19:23:36.661322-04:00"
        },
        "collapsed": true,
        "id": "ictGxi1RW87o"
      },
      "source": [
        "import matplotlib.pyplot as plt\n",
        "%matplotlib inline"
      ],
      "execution_count": 12,
      "outputs": []
    },
    {
      "cell_type": "code",
      "metadata": {
        "ExecuteTime": {
          "end_time": "2017-03-19T23:24:28.081462Z",
          "start_time": "2017-03-19T19:24:27.796364-04:00"
        },
        "id": "960QAykgW87p",
        "colab": {
          "base_uri": "https://localhost:8080/",
          "height": 295
        },
        "outputId": "dc061298-6a74-45b5-9570-77c6d3c8149d"
      },
      "source": [
        "# A simple scatter plot with Matplotlib\n",
        "ax = plt.axes()\n",
        "\n",
        "ax.scatter(data.sepal_length, data.sepal_width)\n",
        "\n",
        "# Label the axes\n",
        "ax.set(xlabel='Sepal Length (cm)',\n",
        "       ylabel='Sepal Width (cm)',\n",
        "       title='Sepal Length vs Width');"
      ],
      "execution_count": 13,
      "outputs": [
        {
          "output_type": "display_data",
          "data": {
            "image/png": "[encoded data removed]",
            "text/plain": [
              "<Figure size 432x288 with 1 Axes>"
            ]
          },
          "metadata": {
            "needs_background": "light"
          }
        }
      ]
    },
    {
      "cell_type": "markdown",
      "metadata": {
        "id": "NBEuyKPJW87p"
      },
      "source": [
        "## Question 6\n",
        "\n",
        "Make a histogram of any one of the four features. Label axes and title it as appropriate. "
      ]
    },
    {
      "cell_type": "code",
      "metadata": {
        "ExecuteTime": {
          "end_time": "2017-03-19T23:25:31.330263Z",
          "start_time": "2017-03-19T19:25:31.073251-04:00"
        },
        "collapsed": true,
        "id": "DKlS-MJFW87q"
      },
      "source": [
        "#Student writes code here"
      ],
      "execution_count": null,
      "outputs": []
    },
    {
      "cell_type": "markdown",
      "metadata": {
        "id": "3lV4l-DxtW_r"
      },
      "source": [
        "*I was helped by this links: [subplots](https://matplotlib.org/devdocs/gallery/subplots_axes_and_figures/subplots_demo.html), [histogram](https://matplotlib.org/stable/gallery/statistics/hist.html) and [figsize](https://matplotlib.org/stable/api/_as_gen/matplotlib.pyplot.figure.html).*"
      ]
    },
    {
      "cell_type": "code",
      "metadata": {
        "ExecuteTime": {
          "end_time": "2017-03-19T23:25:50.512748Z",
          "start_time": "2017-03-19T19:25:50.199553-04:00"
        },
        "collapsed": true,
        "id": "eF9CnV0lW87r",
        "colab": {
          "base_uri": "https://localhost:8080/",
          "height": 350
        },
        "outputId": "f20f1a22-f749-4236-ab45-50e424ffef71"
      },
      "source": [
        "fig, axs = plt.subplots(1, 2, figsize=(8, 5))\n",
        "axs[0].hist(data['sepal_length'], bins=20)\n",
        "axs[0].set_title('sepal')\n",
        "axs[1].hist(data['petal_length'], bins=20)\n",
        "axs[1].set_title('petal')\n",
        "\n",
        "for ax in axs.flat:\n",
        "    ax.set(xlabel='length', ylabel='occurrences')"
      ],
      "execution_count": 33,
      "outputs": [
        {
          "output_type": "display_data",
          "data": {
            "image/png": "[encoded data removed]",
            "text/plain": [
              "<Figure size 576x360 with 2 Axes>"
            ]
          },
          "metadata": {
            "needs_background": "light"
          }
        }
      ]
    },
    {
      "cell_type": "code",
      "metadata": {
        "id": "X67LMWZ8r6sH",
        "outputId": "f4d3c43b-6a93-41e9-e09a-402661e3a2fb",
        "colab": {
          "base_uri": "https://localhost:8080/",
          "height": 350
        }
      },
      "source": [
        "fig, axs = plt.subplots(1, 2, figsize=(8, 5))\n",
        "axs[0].hist(data['sepal_width'], bins=20)\n",
        "axs[0].set_title('sepal')\n",
        "axs[1].hist(data['petal_width'], bins=20)\n",
        "axs[1].set_title('petal')\n",
        "\n",
        "for ax in axs.flat:\n",
        "    ax.set(xlabel='width', ylabel='occurrences')"
      ],
      "execution_count": 35,
      "outputs": [
        {
          "output_type": "display_data",
          "data": {
            "image/png": "[encoded data removed]",
            "text/plain": [
              "<Figure size 576x360 with 2 Axes>"
            ]
          },
          "metadata": {
            "needs_background": "light"
          }
        }
      ]
    },
    {
      "cell_type": "markdown",
      "metadata": {
        "id": "dNR4Jr69W87r"
      },
      "source": [
        "## Question 7\n",
        "\n",
        "Now create a single plot with histograms for each feature (`petal_width`, `petal_length`, `sepal_width`, `sepal_length`) overlayed. If you have time, next try to create four individual histogram plots in a single figure, where each plot contains one feature.\n",
        "\n",
        "For some hints on how to do this with Pandas plotting methods, check out the [visualization guide](http://pandas.pydata.org/pandas-docs/version/0.18.1/visualization.html) for Pandas."
      ]
    },
    {
      "cell_type": "code",
      "metadata": {
        "ExecuteTime": {
          "end_time": "2017-03-19T23:43:17.755648Z",
          "start_time": "2017-03-19T19:43:16.540434-04:00"
        },
        "id": "Ssh1f2uxW87s"
      },
      "source": [
        "import seaborn as sns\n",
        "\n",
        "sns.set_context('notebook')\n",
        "\n",
        "# This uses the `.plot.hist` method\n",
        "ax = data.plot.hist(bins=25, alpha=0.5)\n",
        "ax.set_xlabel('Size (cm)');"
      ],
      "execution_count": null,
      "outputs": []
    },
    {
      "cell_type": "code",
      "metadata": {
        "ExecuteTime": {
          "end_time": "2017-03-19T23:45:21.626484Z",
          "start_time": "2017-03-19T19:45:20.896967-04:00"
        },
        "id": "zDVu14YsW87s"
      },
      "source": [
        "# To create four separate plots, use Pandas `.hist` method\n",
        "axList = data.hist(bins=25)\n",
        "\n",
        "# Add some x- and y- labels to first column and last row\n",
        "for ax in axList.flatten():\n",
        "    if ax.is_last_row():\n",
        "        ax.set_xlabel('Size (cm)')\n",
        "        \n",
        "    if ax.is_first_col():\n",
        "        ax.set_ylabel('Frequency')"
      ],
      "execution_count": null,
      "outputs": []
    },
    {
      "cell_type": "markdown",
      "metadata": {
        "id": "78aHItjoW87t"
      },
      "source": [
        "## Question 8\n",
        "\n",
        "Using Pandas, make a boxplot of each petal and sepal measurement. Here is the documentation for [Pandas boxplot method](http://pandas.pydata.org/pandas-docs/version/0.18.1/visualization.html#visualization-box)."
      ]
    },
    {
      "cell_type": "code",
      "metadata": {
        "ExecuteTime": {
          "end_time": "2017-03-19T23:46:49.431740Z",
          "start_time": "2017-03-19T19:46:48.628206-04:00"
        },
        "collapsed": true,
        "id": "AqRAjlkUW87u"
      },
      "source": [
        "#Student writes code here"
      ],
      "execution_count": null,
      "outputs": []
    },
    {
      "cell_type": "markdown",
      "metadata": {
        "id": "vT4yKm7HW87u"
      },
      "source": [
        "## Question 9\n",
        "\n",
        "Now make a single boxplot where the features are separated in the x-axis and species are colored with different hues. \n",
        "\n",
        "*Hint:* you may want to check the documentation for [Seaborn boxplots](http://seaborn.pydata.org/generated/seaborn.boxplot.html). \n",
        "\n",
        "Also note that Seaborn is very picky about data format--for this plot to work, the input dataframe will need to be manipulated so that each row contains a single data point (a species, a measurement type, and the measurement value). Check out Pandas [stack](http://pandas.pydata.org/pandas-docs/stable/generated/pandas.DataFrame.stack.html) method as a starting place.\n",
        "\n",
        "Here is an example of a data format that will work:\n",
        "\n",
        "|   | species | measurement  | size |\n",
        "| - | ------- | ------------ | ---- |\n",
        "| 0\t| setosa  | sepal_length | 5.1  |\n",
        "| 1\t| setosa  | sepal_width  | 3.5  |"
      ]
    },
    {
      "cell_type": "code",
      "metadata": {
        "ExecuteTime": {
          "end_time": "2017-03-19T23:47:59.324915Z",
          "start_time": "2017-03-19T19:47:59.305538-04:00"
        },
        "id": "QKzlkdCJW87u"
      },
      "source": [
        "# First we have to reshape the data so there is \n",
        "# only a single measurement in each column\n",
        "\n",
        "plot_data = (data\n",
        "             .set_index('species')\n",
        "             .stack()\n",
        "             .to_frame()\n",
        "             .reset_index()\n",
        "             .rename(columns={0:'size', 'level_1':'measurement'})\n",
        "            )\n",
        "\n",
        "plot_data.head()"
      ],
      "execution_count": null,
      "outputs": []
    },
    {
      "cell_type": "code",
      "metadata": {
        "ExecuteTime": {
          "end_time": "2017-03-19T23:56:10.626307Z",
          "start_time": "2017-03-19T19:56:10.092741-04:00"
        },
        "id": "qWKX9bqpW87v"
      },
      "source": [
        "# Now plot the dataframe from above using Seaborn\n",
        "\n",
        "sns.set_style('white')\n",
        "sns.set_context('notebook')\n",
        "sns.set_palette('dark')\n",
        "\n",
        "f = plt.figure(figsize=(6,4))\n",
        "sns.boxplot(x='measurement', y='size', \n",
        "            hue='species', data=plot_data);"
      ],
      "execution_count": null,
      "outputs": []
    },
    {
      "cell_type": "markdown",
      "metadata": {
        "id": "E5S8lkwWW87v"
      },
      "source": [
        "## Question 10\n",
        "\n",
        "Make a [pairplot](http://seaborn.pydata.org/generated/seaborn.pairplot.html) with Seaborn to examine the correlation between each of the measurements.\n",
        "\n",
        "*Hint:* this plot may look complicated, but it is actually only a single line of code. This is the power of Seaborn and dataframe-aware plotting! See the lecture notes for reference."
      ]
    },
    {
      "cell_type": "code",
      "metadata": {
        "ExecuteTime": {
          "end_time": "2017-03-19T23:57:15.479069Z",
          "start_time": "2017-03-19T19:57:13.075052-04:00"
        },
        "collapsed": true,
        "id": "Y-ZZ_jjgW87w"
      },
      "source": [
        "#Student writes code here"
      ],
      "execution_count": null,
      "outputs": []
    },
    {
      "cell_type": "code",
      "metadata": {
        "collapsed": true,
        "id": "iNct584CW87w"
      },
      "source": [
        ""
      ],
      "execution_count": null,
      "outputs": []
    },
    {
      "cell_type": "code",
      "metadata": {
        "collapsed": true,
        "id": "v7X37OSrW87w"
      },
      "source": [
        ""
      ],
      "execution_count": null,
      "outputs": []
    }
  ]
}